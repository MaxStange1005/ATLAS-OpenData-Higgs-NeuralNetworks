{
 "cells": [
  {
   "cell_type": "markdown",
   "id": "2081cce3",
   "metadata": {
    "id": "2081cce3"
   },
   "source": [
    "# Discover the Higgs with Deep Neural Networks\n",
    "# Create Baseline Model"
   ]
  },
  {
   "cell_type": "markdown",
   "id": "c78f07e1",
   "metadata": {},
   "source": [
    "Now it is your turn to create your own model to hunt for the Higgs boson. For the beginning, we will have a look on a baseline model. This baseline model does already a good job in the classification and it is up to you to create a better one."
   ]
  },
  {
   "cell_type": "code",
   "execution_count": 1,
   "id": "244f5820",
   "metadata": {},
   "outputs": [],
   "source": [
    "# Necessary imports\n",
    "import numpy as np\n",
    "import matplotlib.pyplot as plt\n",
    "import pandas as pd\n",
    "import itertools\n",
    "from numpy.random import seed\n",
    "import os\n",
    "\n",
    "# Import the tensorflow module to create a neural network\n",
    "import tensorflow as tf\n",
    "from tensorflow.data import Dataset\n",
    "\n",
    "# Import function to split data into train and test data\n",
    "from sklearn.model_selection import train_test_split\n",
    "\n",
    "# Import the kFold module for cross-validation\n",
    "from sklearn.model_selection import KFold\n",
    "\n",
    "# Import some common functions created for this notebook\n",
    "import common\n",
    "\n",
    "# Random state\n",
    "random_state = 21\n",
    "_ = np.random.RandomState(random_state)"
   ]
  },
  {
   "cell_type": "markdown",
   "id": "600a4cea",
   "metadata": {},
   "source": [
    "## Data Preparation"
   ]
  },
  {
   "cell_type": "markdown",
   "id": "98b61d26",
   "metadata": {},
   "source": [
    "### Load the Data"
   ]
  },
  {
   "cell_type": "code",
   "execution_count": 2,
   "id": "15227a9b",
   "metadata": {},
   "outputs": [],
   "source": [
    "# Define the input samples\n",
    "sample_list_signal = ['ggH125_ZZ4lep', 'VBFH125_ZZ4lep', 'WH125_ZZ4lep', 'ZH125_ZZ4lep']\n",
    "sample_list_background = ['llll', 'Zee', 'Zmumu', 'ttbar_lep']"
   ]
  },
  {
   "cell_type": "code",
   "execution_count": 3,
   "id": "8f49139e",
   "metadata": {},
   "outputs": [],
   "source": [
    "sample_path = 'input'\n",
    "# Read all the samples\n",
    "no_selection_data_frames = {}\n",
    "for sample in sample_list_signal + sample_list_background:\n",
    "    no_selection_data_frames[sample] = pd.read_csv(os.path.join(sample_path, sample + '.csv'))"
   ]
  },
  {
   "cell_type": "markdown",
   "id": "dd182701",
   "metadata": {},
   "source": [
    "### Event Pre-Selection"
   ]
  },
  {
   "cell_type": "markdown",
   "id": "5a45fe8a",
   "metadata": {},
   "source": [
    "Import the pre-selection functions saved during the first chapter. If the modules are not found solve and execute the notebook of the first chapter."
   ]
  },
  {
   "cell_type": "code",
   "execution_count": 4,
   "id": "4be0e5f1",
   "metadata": {},
   "outputs": [],
   "source": [
    "from functions.selection_lepton_charge import selection_lepton_charge\n",
    "from functions.selection_lepton_type import selection_lepton_type"
   ]
  },
  {
   "cell_type": "code",
   "execution_count": 5,
   "id": "eae94f6a",
   "metadata": {},
   "outputs": [],
   "source": [
    "# Create a copy of the original data frame to investigate later\n",
    "data_frames = no_selection_data_frames.copy()\n",
    "\n",
    "# Apply the chosen selection criteria\n",
    "for sample in sample_list_signal + sample_list_background:\n",
    "    # Selection on lepton type\n",
    "    type_selection = np.vectorize(selection_lepton_type)(\n",
    "        data_frames[sample].lep1_pdgId,\n",
    "        data_frames[sample].lep2_pdgId,\n",
    "        data_frames[sample].lep3_pdgId,\n",
    "        data_frames[sample].lep4_pdgId)\n",
    "    data_frames[sample] = data_frames[sample][type_selection]\n",
    "\n",
    "    # Selection on lepton charge\n",
    "    charge_selection = np.vectorize(selection_lepton_charge)(\n",
    "        data_frames[sample].lep1_charge,\n",
    "        data_frames[sample].lep2_charge,\n",
    "        data_frames[sample].lep3_charge,\n",
    "        data_frames[sample].lep4_charge)\n",
    "    data_frames[sample] = data_frames[sample][charge_selection]"
   ]
  },
  {
   "cell_type": "markdown",
   "id": "64b6b473",
   "metadata": {},
   "source": [
    "### Get Training and Test Data"
   ]
  },
  {
   "cell_type": "code",
   "execution_count": 6,
   "id": "9f803dc1",
   "metadata": {},
   "outputs": [],
   "source": [
    "# Split data to keep 40% for testing\n",
    "train_data_frames, test_data_frames = common.split_data_frames(data_frames, 0.6)"
   ]
  },
  {
   "cell_type": "markdown",
   "id": "c48f6205",
   "metadata": {},
   "source": [
    "Import the reweighting function to train with event weights. If the module is not found solve and execute the notebook of chapter 5."
   ]
  },
  {
   "cell_type": "code",
   "execution_count": 7,
   "id": "0303d2d3",
   "metadata": {},
   "outputs": [],
   "source": [
    "from functions.reweight_weights import reweight_weights"
   ]
  },
  {
   "cell_type": "markdown",
   "id": "97eb76d6",
   "metadata": {},
   "source": [
    "## Baseline Model"
   ]
  },
  {
   "cell_type": "code",
   "execution_count": 8,
   "id": "ef382ed1",
   "metadata": {},
   "outputs": [],
   "source": [
    "# The training input variables\n",
    "training_variables = ['lep1_pt', 'lep2_pt', 'lep3_pt', 'lep4_pt']\n",
    "training_variables += ['lep1_e', 'lep2_e', 'lep3_e', 'lep4_e']\n",
    "training_variables += ['lep1_charge', 'lep2_charge', 'lep3_charge', 'lep4_charge']\n",
    "training_variables += ['lep1_pdgId', 'lep2_pdgId', 'lep3_pdgId', 'lep4_pdgId']\n",
    "training_variables += ['lep1_phi', 'lep2_phi', 'lep3_phi', 'lep4_phi']\n",
    "training_variables += ['lep1_eta', 'lep2_eta', 'lep3_eta', 'lep4_eta']"
   ]
  },
  {
   "cell_type": "code",
   "execution_count": 9,
   "id": "25ef18be",
   "metadata": {},
   "outputs": [],
   "source": [
    "# Extract the values, weights, and classification of the data\n",
    "values, weights, classification = common.get_dnn_input(train_data_frames, training_variables, sample_list_signal, sample_list_background)"
   ]
  },
  {
   "cell_type": "code",
   "execution_count": 10,
   "id": "c2b931e1",
   "metadata": {},
   "outputs": [],
   "source": [
    "# Split into train and validation data\n",
    "train_values, val_values, train_classification, val_classification = train_test_split(values, classification, test_size=1/3, random_state=random_state)\n",
    "train_weights, val_weights = train_test_split(weights, classification, test_size=1/3, random_state=random_state)[:2]"
   ]
  },
  {
   "cell_type": "code",
   "execution_count": 11,
   "id": "2dce6d27",
   "metadata": {},
   "outputs": [],
   "source": [
    "# Loss function\n",
    "loss_fn = tf.keras.losses.BinaryCrossentropy(from_logits=False)\n",
    "# Optimizer\n",
    "adam_optimizer = tf.keras.optimizers.legacy.Adam(learning_rate=0.0002, beta_1=0.9)"
   ]
  },
  {
   "cell_type": "code",
   "execution_count": 12,
   "id": "85c2ba99",
   "metadata": {},
   "outputs": [],
   "source": [
    "# Early stopping\n",
    "early_stopping = tf.keras.callbacks.EarlyStopping(monitor='val_loss', patience=5, restore_best_weights=True)"
   ]
  },
  {
   "cell_type": "code",
   "execution_count": 14,
   "id": "fa31bfb0",
   "metadata": {},
   "outputs": [],
   "source": [
    "# Define the K-fold Cross Validator\n",
    "kfold = KFold(n_splits=3, shuffle=True, random_state=random_state)"
   ]
  },
  {
   "cell_type": "code",
   "execution_count": 15,
   "id": "efce845b",
   "metadata": {},
   "outputs": [
    {
     "name": "stdout",
     "output_type": "stream",
     "text": [
      "Use fold 1\n"
     ]
    },
    {
     "name": "stderr",
     "output_type": "stream",
     "text": [
      "2023-06-08 15:44:24.614596: W tensorflow/tsl/platform/profile_utils/cpu_utils.cc:128] Failed to get CPU frequency: 0 Hz\n"
     ]
    },
    {
     "name": "stdout",
     "output_type": "stream",
     "text": [
      "Epoch 1/1000\n",
      "2889/2889 [==============================] - 4s 1ms/step - loss: 0.5925 - binary_accuracy: 0.6950 - val_loss: 0.5540 - val_binary_accuracy: 0.7394\n",
      "Epoch 2/1000\n",
      "2889/2889 [==============================] - 3s 965us/step - loss: 0.5297 - binary_accuracy: 0.7452 - val_loss: 0.5113 - val_binary_accuracy: 0.7651\n",
      "Epoch 3/1000\n",
      "2889/2889 [==============================] - 4s 1ms/step - loss: 0.4841 - binary_accuracy: 0.7818 - val_loss: 0.4735 - val_binary_accuracy: 0.7858\n",
      "Epoch 4/1000\n",
      "2889/2889 [==============================] - 4s 1ms/step - loss: 0.4461 - binary_accuracy: 0.8005 - val_loss: 0.4401 - val_binary_accuracy: 0.7969\n",
      "Epoch 5/1000\n",
      "2889/2889 [==============================] - 4s 1ms/step - loss: 0.4162 - binary_accuracy: 0.8179 - val_loss: 0.4238 - val_binary_accuracy: 0.8077\n",
      "Epoch 6/1000\n",
      "2889/2889 [==============================] - 3s 1ms/step - loss: 0.3939 - binary_accuracy: 0.8298 - val_loss: 0.4056 - val_binary_accuracy: 0.8124\n",
      "Epoch 7/1000\n",
      "2889/2889 [==============================] - 3s 1ms/step - loss: 0.3775 - binary_accuracy: 0.8397 - val_loss: 0.3887 - val_binary_accuracy: 0.8206\n",
      "Epoch 8/1000\n",
      "2889/2889 [==============================] - 3s 922us/step - loss: 0.3631 - binary_accuracy: 0.8471 - val_loss: 0.3809 - val_binary_accuracy: 0.8304\n",
      "Epoch 9/1000\n",
      "2889/2889 [==============================] - 4s 1ms/step - loss: 0.3509 - binary_accuracy: 0.8540 - val_loss: 0.3720 - val_binary_accuracy: 0.8372\n",
      "Epoch 10/1000\n",
      "2889/2889 [==============================] - 3s 1ms/step - loss: 0.3385 - binary_accuracy: 0.8630 - val_loss: 0.3669 - val_binary_accuracy: 0.8393\n",
      "Epoch 11/1000\n",
      "2889/2889 [==============================] - 3s 1ms/step - loss: 0.3296 - binary_accuracy: 0.8642 - val_loss: 0.3513 - val_binary_accuracy: 0.8463\n",
      "Epoch 12/1000\n",
      "2889/2889 [==============================] - 3s 1ms/step - loss: 0.3202 - binary_accuracy: 0.8696 - val_loss: 0.3460 - val_binary_accuracy: 0.8500\n",
      "Epoch 13/1000\n",
      "2889/2889 [==============================] - 3s 845us/step - loss: 0.3115 - binary_accuracy: 0.8754 - val_loss: 0.3385 - val_binary_accuracy: 0.8520\n",
      "Epoch 14/1000\n",
      "2889/2889 [==============================] - 4s 1ms/step - loss: 0.3035 - binary_accuracy: 0.8793 - val_loss: 0.3349 - val_binary_accuracy: 0.8569\n",
      "Epoch 15/1000\n",
      "2889/2889 [==============================] - 4s 1ms/step - loss: 0.2968 - binary_accuracy: 0.8809 - val_loss: 0.3276 - val_binary_accuracy: 0.8646\n",
      "Epoch 16/1000\n",
      "2889/2889 [==============================] - 3s 1ms/step - loss: 0.2900 - binary_accuracy: 0.8896 - val_loss: 0.3268 - val_binary_accuracy: 0.8597\n",
      "Epoch 17/1000\n",
      "2889/2889 [==============================] - 4s 1ms/step - loss: 0.2843 - binary_accuracy: 0.8911 - val_loss: 0.3258 - val_binary_accuracy: 0.8649\n",
      "Epoch 18/1000\n",
      "2889/2889 [==============================] - 3s 976us/step - loss: 0.2785 - binary_accuracy: 0.8948 - val_loss: 0.3211 - val_binary_accuracy: 0.8681\n",
      "Epoch 19/1000\n",
      "2889/2889 [==============================] - 4s 1ms/step - loss: 0.2737 - binary_accuracy: 0.8966 - val_loss: 0.3232 - val_binary_accuracy: 0.8649\n",
      "Epoch 20/1000\n",
      "2889/2889 [==============================] - 4s 1ms/step - loss: 0.2688 - binary_accuracy: 0.8986 - val_loss: 0.3170 - val_binary_accuracy: 0.8701\n",
      "Epoch 21/1000\n",
      "2889/2889 [==============================] - 4s 1ms/step - loss: 0.2642 - binary_accuracy: 0.9025 - val_loss: 0.3183 - val_binary_accuracy: 0.8699\n",
      "Epoch 22/1000\n",
      "2889/2889 [==============================] - 4s 1ms/step - loss: 0.2602 - binary_accuracy: 0.9048 - val_loss: 0.3053 - val_binary_accuracy: 0.8737\n",
      "Epoch 23/1000\n",
      "2889/2889 [==============================] - 3s 991us/step - loss: 0.2575 - binary_accuracy: 0.9052 - val_loss: 0.3152 - val_binary_accuracy: 0.8746\n",
      "Epoch 24/1000\n",
      "2889/2889 [==============================] - 3s 992us/step - loss: 0.2523 - binary_accuracy: 0.9088 - val_loss: 0.3102 - val_binary_accuracy: 0.8736\n",
      "Epoch 25/1000\n",
      "2889/2889 [==============================] - 4s 1ms/step - loss: 0.2497 - binary_accuracy: 0.9104 - val_loss: 0.3131 - val_binary_accuracy: 0.8715\n",
      "Epoch 26/1000\n",
      "2889/2889 [==============================] - 4s 1ms/step - loss: 0.2458 - binary_accuracy: 0.9123 - val_loss: 0.3010 - val_binary_accuracy: 0.8788\n",
      "Epoch 27/1000\n",
      "2889/2889 [==============================] - 3s 979us/step - loss: 0.2423 - binary_accuracy: 0.9151 - val_loss: 0.3079 - val_binary_accuracy: 0.8733\n",
      "Epoch 28/1000\n",
      "2889/2889 [==============================] - 4s 1ms/step - loss: 0.2402 - binary_accuracy: 0.9133 - val_loss: 0.3090 - val_binary_accuracy: 0.8747\n",
      "Epoch 29/1000\n",
      "2889/2889 [==============================] - 4s 1ms/step - loss: 0.2367 - binary_accuracy: 0.9163 - val_loss: 0.3021 - val_binary_accuracy: 0.8804\n",
      "Epoch 30/1000\n",
      "2889/2889 [==============================] - 4s 1ms/step - loss: 0.2349 - binary_accuracy: 0.9161 - val_loss: 0.3031 - val_binary_accuracy: 0.8786\n",
      "Epoch 31/1000\n",
      "2889/2889 [==============================] - 3s 1ms/step - loss: 0.2313 - binary_accuracy: 0.9195 - val_loss: 0.3113 - val_binary_accuracy: 0.8763\n",
      "2889/2889 [==============================] - 2s 429us/step - loss: 0.2387 - binary_accuracy: 0.9153\n",
      "1445/1445 [==============================] - 1s 430us/step - loss: 0.3010 - binary_accuracy: 0.8788\n",
      "Use fold 2\n",
      "Epoch 1/1000\n",
      "2889/2889 [==============================] - 4s 1ms/step - loss: 0.5577 - binary_accuracy: 0.7239 - val_loss: 0.5342 - val_binary_accuracy: 0.7396\n",
      "Epoch 2/1000\n",
      "2889/2889 [==============================] - 3s 1ms/step - loss: 0.5091 - binary_accuracy: 0.7573 - val_loss: 0.5026 - val_binary_accuracy: 0.7597\n",
      "Epoch 3/1000\n",
      "2889/2889 [==============================] - 3s 1ms/step - loss: 0.4758 - binary_accuracy: 0.7768 - val_loss: 0.4737 - val_binary_accuracy: 0.7733\n",
      "Epoch 4/1000\n",
      "2889/2889 [==============================] - 4s 1ms/step - loss: 0.4461 - binary_accuracy: 0.7891 - val_loss: 0.4509 - val_binary_accuracy: 0.7848\n",
      "Epoch 5/1000\n",
      "2889/2889 [==============================] - 4s 1ms/step - loss: 0.4210 - binary_accuracy: 0.8050 - val_loss: 0.4326 - val_binary_accuracy: 0.7961\n",
      "Epoch 6/1000\n",
      "2889/2889 [==============================] - 4s 1ms/step - loss: 0.3995 - binary_accuracy: 0.8185 - val_loss: 0.4182 - val_binary_accuracy: 0.8046\n",
      "Epoch 7/1000\n",
      "2889/2889 [==============================] - 4s 1ms/step - loss: 0.3819 - binary_accuracy: 0.8292 - val_loss: 0.4032 - val_binary_accuracy: 0.8165\n",
      "Epoch 8/1000\n",
      "2889/2889 [==============================] - 3s 991us/step - loss: 0.3684 - binary_accuracy: 0.8382 - val_loss: 0.3905 - val_binary_accuracy: 0.8261\n",
      "Epoch 9/1000\n",
      "2889/2889 [==============================] - 3s 1ms/step - loss: 0.3555 - binary_accuracy: 0.8474 - val_loss: 0.3856 - val_binary_accuracy: 0.8300\n",
      "Epoch 10/1000\n",
      "2889/2889 [==============================] - 4s 1ms/step - loss: 0.3438 - binary_accuracy: 0.8546 - val_loss: 0.3728 - val_binary_accuracy: 0.8382\n",
      "Epoch 11/1000\n",
      "2889/2889 [==============================] - 4s 1ms/step - loss: 0.3335 - binary_accuracy: 0.8626 - val_loss: 0.3647 - val_binary_accuracy: 0.8429\n",
      "Epoch 12/1000\n",
      "2889/2889 [==============================] - 4s 1ms/step - loss: 0.3241 - binary_accuracy: 0.8650 - val_loss: 0.3597 - val_binary_accuracy: 0.8503\n",
      "Epoch 13/1000\n",
      "2889/2889 [==============================] - 3s 1ms/step - loss: 0.3152 - binary_accuracy: 0.8759 - val_loss: 0.3551 - val_binary_accuracy: 0.8503\n",
      "Epoch 14/1000\n",
      "2889/2889 [==============================] - 3s 1ms/step - loss: 0.3051 - binary_accuracy: 0.8801 - val_loss: 0.3507 - val_binary_accuracy: 0.8572\n",
      "Epoch 15/1000\n",
      "2889/2889 [==============================] - 3s 1ms/step - loss: 0.2976 - binary_accuracy: 0.8844 - val_loss: 0.3415 - val_binary_accuracy: 0.8595\n",
      "Epoch 16/1000\n",
      "2889/2889 [==============================] - 4s 1ms/step - loss: 0.2908 - binary_accuracy: 0.8879 - val_loss: 0.3397 - val_binary_accuracy: 0.8621\n",
      "Epoch 17/1000\n",
      "2889/2889 [==============================] - 3s 1ms/step - loss: 0.2845 - binary_accuracy: 0.8916 - val_loss: 0.3332 - val_binary_accuracy: 0.8601\n",
      "Epoch 18/1000\n",
      "2889/2889 [==============================] - 3s 945us/step - loss: 0.2784 - binary_accuracy: 0.8957 - val_loss: 0.3346 - val_binary_accuracy: 0.8639\n",
      "Epoch 19/1000\n"
     ]
    },
    {
     "name": "stdout",
     "output_type": "stream",
     "text": [
      "2889/2889 [==============================] - 4s 1ms/step - loss: 0.2732 - binary_accuracy: 0.8981 - val_loss: 0.3303 - val_binary_accuracy: 0.8680\n",
      "Epoch 20/1000\n",
      "2889/2889 [==============================] - 4s 1ms/step - loss: 0.2672 - binary_accuracy: 0.9028 - val_loss: 0.3312 - val_binary_accuracy: 0.8694\n",
      "Epoch 21/1000\n",
      "2889/2889 [==============================] - 4s 1ms/step - loss: 0.2634 - binary_accuracy: 0.9010 - val_loss: 0.3274 - val_binary_accuracy: 0.8708\n",
      "Epoch 22/1000\n",
      "2889/2889 [==============================] - 4s 1ms/step - loss: 0.2595 - binary_accuracy: 0.9060 - val_loss: 0.3218 - val_binary_accuracy: 0.8698\n",
      "Epoch 23/1000\n",
      "2889/2889 [==============================] - 4s 1ms/step - loss: 0.2544 - binary_accuracy: 0.9077 - val_loss: 0.3215 - val_binary_accuracy: 0.8734\n",
      "Epoch 24/1000\n",
      "2889/2889 [==============================] - 4s 1ms/step - loss: 0.2511 - binary_accuracy: 0.9079 - val_loss: 0.3170 - val_binary_accuracy: 0.8760\n",
      "Epoch 25/1000\n",
      "2889/2889 [==============================] - 4s 1ms/step - loss: 0.2484 - binary_accuracy: 0.9095 - val_loss: 0.3183 - val_binary_accuracy: 0.8739\n",
      "Epoch 26/1000\n",
      "2889/2889 [==============================] - 4s 1ms/step - loss: 0.2442 - binary_accuracy: 0.9126 - val_loss: 0.3138 - val_binary_accuracy: 0.8788\n",
      "Epoch 27/1000\n",
      "2889/2889 [==============================] - 4s 1ms/step - loss: 0.2416 - binary_accuracy: 0.9135 - val_loss: 0.3207 - val_binary_accuracy: 0.8753\n",
      "Epoch 28/1000\n",
      "2889/2889 [==============================] - 4s 1ms/step - loss: 0.2383 - binary_accuracy: 0.9142 - val_loss: 0.3117 - val_binary_accuracy: 0.8748\n",
      "Epoch 29/1000\n",
      "2889/2889 [==============================] - 4s 1ms/step - loss: 0.2348 - binary_accuracy: 0.9164 - val_loss: 0.3066 - val_binary_accuracy: 0.8821\n",
      "Epoch 30/1000\n",
      "2889/2889 [==============================] - 4s 1ms/step - loss: 0.2331 - binary_accuracy: 0.9171 - val_loss: 0.3078 - val_binary_accuracy: 0.8797\n",
      "Epoch 31/1000\n",
      "2889/2889 [==============================] - 4s 1ms/step - loss: 0.2303 - binary_accuracy: 0.9178 - val_loss: 0.3073 - val_binary_accuracy: 0.8822\n",
      "Epoch 32/1000\n",
      "2889/2889 [==============================] - 4s 1ms/step - loss: 0.2274 - binary_accuracy: 0.9207 - val_loss: 0.3004 - val_binary_accuracy: 0.8848\n",
      "Epoch 33/1000\n",
      "2889/2889 [==============================] - 4s 1ms/step - loss: 0.2256 - binary_accuracy: 0.9206 - val_loss: 0.3082 - val_binary_accuracy: 0.8828\n",
      "Epoch 34/1000\n",
      "2889/2889 [==============================] - 4s 1ms/step - loss: 0.2231 - binary_accuracy: 0.9214 - val_loss: 0.3075 - val_binary_accuracy: 0.8830\n",
      "Epoch 35/1000\n",
      "2889/2889 [==============================] - 4s 1ms/step - loss: 0.2207 - binary_accuracy: 0.9234 - val_loss: 0.3023 - val_binary_accuracy: 0.8869\n",
      "Epoch 36/1000\n",
      "2889/2889 [==============================] - 4s 1ms/step - loss: 0.2188 - binary_accuracy: 0.9242 - val_loss: 0.3037 - val_binary_accuracy: 0.8871\n",
      "Epoch 37/1000\n",
      "2889/2889 [==============================] - 3s 982us/step - loss: 0.2169 - binary_accuracy: 0.9253 - val_loss: 0.3070 - val_binary_accuracy: 0.8864\n",
      "2889/2889 [==============================] - 2s 579us/step - loss: 0.2221 - binary_accuracy: 0.9232\n",
      "1445/1445 [==============================] - 1s 621us/step - loss: 0.3004 - binary_accuracy: 0.8848\n",
      "Use fold 3\n",
      "Epoch 1/1000\n",
      "2889/2889 [==============================] - 4s 1ms/step - loss: 0.5606 - binary_accuracy: 0.7252 - val_loss: 0.5381 - val_binary_accuracy: 0.7425\n",
      "Epoch 2/1000\n",
      "2889/2889 [==============================] - 3s 922us/step - loss: 0.5085 - binary_accuracy: 0.7652 - val_loss: 0.4961 - val_binary_accuracy: 0.7691\n",
      "Epoch 3/1000\n",
      "2889/2889 [==============================] - 4s 1ms/step - loss: 0.4717 - binary_accuracy: 0.7820 - val_loss: 0.4665 - val_binary_accuracy: 0.7822\n",
      "Epoch 4/1000\n",
      "2889/2889 [==============================] - 4s 1ms/step - loss: 0.4427 - binary_accuracy: 0.7953 - val_loss: 0.4375 - val_binary_accuracy: 0.7964\n",
      "Epoch 5/1000\n",
      "2889/2889 [==============================] - 5s 1ms/step - loss: 0.4181 - binary_accuracy: 0.8101 - val_loss: 0.4190 - val_binary_accuracy: 0.8080\n",
      "Epoch 6/1000\n",
      "2889/2889 [==============================] - 5s 2ms/step - loss: 0.3987 - binary_accuracy: 0.8238 - val_loss: 0.4071 - val_binary_accuracy: 0.8122\n",
      "Epoch 7/1000\n",
      "2889/2889 [==============================] - 4s 1ms/step - loss: 0.3842 - binary_accuracy: 0.8322 - val_loss: 0.3918 - val_binary_accuracy: 0.8277\n",
      "Epoch 8/1000\n",
      "2889/2889 [==============================] - 4s 1ms/step - loss: 0.3702 - binary_accuracy: 0.8390 - val_loss: 0.3848 - val_binary_accuracy: 0.8278\n",
      "Epoch 9/1000\n",
      "2889/2889 [==============================] - 4s 1ms/step - loss: 0.3579 - binary_accuracy: 0.8452 - val_loss: 0.3709 - val_binary_accuracy: 0.8421\n",
      "Epoch 10/1000\n",
      "2889/2889 [==============================] - 5s 1ms/step - loss: 0.3446 - binary_accuracy: 0.8543 - val_loss: 0.3636 - val_binary_accuracy: 0.8412\n",
      "Epoch 11/1000\n",
      "2889/2889 [==============================] - 4s 1ms/step - loss: 0.3333 - binary_accuracy: 0.8631 - val_loss: 0.3582 - val_binary_accuracy: 0.8479\n",
      "Epoch 12/1000\n",
      "2889/2889 [==============================] - 4s 1ms/step - loss: 0.3234 - binary_accuracy: 0.8679 - val_loss: 0.3469 - val_binary_accuracy: 0.8535\n",
      "Epoch 13/1000\n",
      "2889/2889 [==============================] - 4s 1ms/step - loss: 0.3146 - binary_accuracy: 0.8738 - val_loss: 0.3391 - val_binary_accuracy: 0.8618\n",
      "Epoch 14/1000\n",
      "2889/2889 [==============================] - 5s 1ms/step - loss: 0.3062 - binary_accuracy: 0.8784 - val_loss: 0.3323 - val_binary_accuracy: 0.8674\n",
      "Epoch 15/1000\n",
      "2889/2889 [==============================] - 4s 1ms/step - loss: 0.2986 - binary_accuracy: 0.8836 - val_loss: 0.3292 - val_binary_accuracy: 0.8642\n",
      "Epoch 16/1000\n",
      "2889/2889 [==============================] - 4s 1ms/step - loss: 0.2918 - binary_accuracy: 0.8840 - val_loss: 0.3211 - val_binary_accuracy: 0.8712\n",
      "Epoch 17/1000\n",
      "2889/2889 [==============================] - 4s 1ms/step - loss: 0.2866 - binary_accuracy: 0.8870 - val_loss: 0.3233 - val_binary_accuracy: 0.8705\n",
      "Epoch 18/1000\n",
      "2889/2889 [==============================] - 4s 1ms/step - loss: 0.2793 - binary_accuracy: 0.8946 - val_loss: 0.3182 - val_binary_accuracy: 0.8714\n",
      "Epoch 19/1000\n",
      "2889/2889 [==============================] - 4s 1ms/step - loss: 0.2748 - binary_accuracy: 0.8960 - val_loss: 0.3144 - val_binary_accuracy: 0.8739\n",
      "Epoch 20/1000\n",
      "2889/2889 [==============================] - 4s 1ms/step - loss: 0.2702 - binary_accuracy: 0.8968 - val_loss: 0.3113 - val_binary_accuracy: 0.8798\n",
      "Epoch 21/1000\n",
      "2889/2889 [==============================] - 4s 1ms/step - loss: 0.2654 - binary_accuracy: 0.9003 - val_loss: 0.3097 - val_binary_accuracy: 0.8789\n",
      "Epoch 22/1000\n",
      "2889/2889 [==============================] - 4s 1ms/step - loss: 0.2620 - binary_accuracy: 0.9024 - val_loss: 0.3044 - val_binary_accuracy: 0.8806\n",
      "Epoch 23/1000\n",
      "2889/2889 [==============================] - 4s 1ms/step - loss: 0.2575 - binary_accuracy: 0.9061 - val_loss: 0.3037 - val_binary_accuracy: 0.8825\n",
      "Epoch 24/1000\n",
      "2889/2889 [==============================] - 5s 1ms/step - loss: 0.2543 - binary_accuracy: 0.9046 - val_loss: 0.3003 - val_binary_accuracy: 0.8840\n",
      "Epoch 25/1000\n",
      "2889/2889 [==============================] - 4s 1ms/step - loss: 0.2502 - binary_accuracy: 0.9091 - val_loss: 0.2996 - val_binary_accuracy: 0.8863\n",
      "Epoch 26/1000\n",
      "2889/2889 [==============================] - 4s 1ms/step - loss: 0.2460 - binary_accuracy: 0.9104 - val_loss: 0.2923 - val_binary_accuracy: 0.8882\n",
      "Epoch 27/1000\n",
      "2889/2889 [==============================] - 4s 1ms/step - loss: 0.2429 - binary_accuracy: 0.9130 - val_loss: 0.2924 - val_binary_accuracy: 0.8883\n",
      "Epoch 28/1000\n",
      "2889/2889 [==============================] - 4s 1ms/step - loss: 0.2392 - binary_accuracy: 0.9147 - val_loss: 0.2911 - val_binary_accuracy: 0.8897\n",
      "Epoch 29/1000\n",
      "2889/2889 [==============================] - 4s 1ms/step - loss: 0.2353 - binary_accuracy: 0.9167 - val_loss: 0.2933 - val_binary_accuracy: 0.8825\n",
      "Epoch 30/1000\n",
      "2889/2889 [==============================] - 4s 1ms/step - loss: 0.2319 - binary_accuracy: 0.9182 - val_loss: 0.2872 - val_binary_accuracy: 0.8907\n",
      "Epoch 31/1000\n",
      "2889/2889 [==============================] - 3s 1ms/step - loss: 0.2292 - binary_accuracy: 0.9194 - val_loss: 0.2816 - val_binary_accuracy: 0.8964\n"
     ]
    },
    {
     "name": "stdout",
     "output_type": "stream",
     "text": [
      "Epoch 32/1000\n",
      "2889/2889 [==============================] - 4s 1ms/step - loss: 0.2258 - binary_accuracy: 0.9223 - val_loss: 0.2791 - val_binary_accuracy: 0.8941\n",
      "Epoch 33/1000\n",
      "2889/2889 [==============================] - 4s 1ms/step - loss: 0.2225 - binary_accuracy: 0.9250 - val_loss: 0.2818 - val_binary_accuracy: 0.8926\n",
      "Epoch 34/1000\n",
      "2889/2889 [==============================] - 4s 1ms/step - loss: 0.2210 - binary_accuracy: 0.9220 - val_loss: 0.2778 - val_binary_accuracy: 0.8969\n",
      "Epoch 35/1000\n",
      "2889/2889 [==============================] - 4s 1ms/step - loss: 0.2177 - binary_accuracy: 0.9256 - val_loss: 0.2787 - val_binary_accuracy: 0.8948\n",
      "Epoch 36/1000\n",
      "2889/2889 [==============================] - 5s 1ms/step - loss: 0.2161 - binary_accuracy: 0.9258 - val_loss: 0.2774 - val_binary_accuracy: 0.8966\n",
      "Epoch 37/1000\n",
      "2889/2889 [==============================] - 4s 1ms/step - loss: 0.2141 - binary_accuracy: 0.9279 - val_loss: 0.2775 - val_binary_accuracy: 0.8961\n",
      "Epoch 38/1000\n",
      "2889/2889 [==============================] - 4s 1ms/step - loss: 0.2116 - binary_accuracy: 0.9287 - val_loss: 0.2770 - val_binary_accuracy: 0.8948\n",
      "Epoch 39/1000\n",
      "2889/2889 [==============================] - 4s 1ms/step - loss: 0.2101 - binary_accuracy: 0.9289 - val_loss: 0.2724 - val_binary_accuracy: 0.8996\n",
      "Epoch 40/1000\n",
      "2889/2889 [==============================] - 4s 1ms/step - loss: 0.2077 - binary_accuracy: 0.9308 - val_loss: 0.2744 - val_binary_accuracy: 0.8998\n",
      "Epoch 41/1000\n",
      "2889/2889 [==============================] - 4s 1ms/step - loss: 0.2056 - binary_accuracy: 0.9309 - val_loss: 0.2713 - val_binary_accuracy: 0.9004\n",
      "Epoch 42/1000\n",
      "2889/2889 [==============================] - 4s 1ms/step - loss: 0.2046 - binary_accuracy: 0.9328 - val_loss: 0.2787 - val_binary_accuracy: 0.8972\n",
      "Epoch 43/1000\n",
      "2889/2889 [==============================] - 5s 2ms/step - loss: 0.2028 - binary_accuracy: 0.9312 - val_loss: 0.2748 - val_binary_accuracy: 0.9021\n",
      "Epoch 44/1000\n",
      "2889/2889 [==============================] - 4s 1ms/step - loss: 0.2008 - binary_accuracy: 0.9337 - val_loss: 0.2731 - val_binary_accuracy: 0.9002\n",
      "Epoch 45/1000\n",
      "2889/2889 [==============================] - 4s 1ms/step - loss: 0.2001 - binary_accuracy: 0.9342 - val_loss: 0.2678 - val_binary_accuracy: 0.9030\n",
      "Epoch 46/1000\n",
      "2889/2889 [==============================] - 4s 1ms/step - loss: 0.1977 - binary_accuracy: 0.9350 - val_loss: 0.2675 - val_binary_accuracy: 0.9031\n",
      "Epoch 47/1000\n",
      "2889/2889 [==============================] - 4s 1ms/step - loss: 0.1973 - binary_accuracy: 0.9343 - val_loss: 0.2623 - val_binary_accuracy: 0.9022\n",
      "Epoch 48/1000\n",
      "2889/2889 [==============================] - 4s 1ms/step - loss: 0.1955 - binary_accuracy: 0.9371 - val_loss: 0.2615 - val_binary_accuracy: 0.9041\n",
      "Epoch 49/1000\n",
      "2889/2889 [==============================] - 3s 934us/step - loss: 0.1943 - binary_accuracy: 0.9367 - val_loss: 0.2647 - val_binary_accuracy: 0.9005\n",
      "Epoch 50/1000\n",
      "2889/2889 [==============================] - 3s 1ms/step - loss: 0.1932 - binary_accuracy: 0.9367 - val_loss: 0.2613 - val_binary_accuracy: 0.9054\n",
      "Epoch 51/1000\n",
      "2889/2889 [==============================] - 4s 1ms/step - loss: 0.1921 - binary_accuracy: 0.9371 - val_loss: 0.2591 - val_binary_accuracy: 0.9076\n",
      "Epoch 52/1000\n",
      "2889/2889 [==============================] - 3s 1ms/step - loss: 0.1901 - binary_accuracy: 0.9389 - val_loss: 0.2614 - val_binary_accuracy: 0.9054\n",
      "Epoch 53/1000\n",
      "2889/2889 [==============================] - 3s 1ms/step - loss: 0.1894 - binary_accuracy: 0.9393 - val_loss: 0.2611 - val_binary_accuracy: 0.9038\n",
      "Epoch 54/1000\n",
      "2889/2889 [==============================] - 3s 883us/step - loss: 0.1881 - binary_accuracy: 0.9400 - val_loss: 0.2565 - val_binary_accuracy: 0.9082\n",
      "Epoch 55/1000\n",
      "2889/2889 [==============================] - 4s 1ms/step - loss: 0.1863 - binary_accuracy: 0.9410 - val_loss: 0.2579 - val_binary_accuracy: 0.9069\n",
      "Epoch 56/1000\n",
      "2889/2889 [==============================] - 4s 1ms/step - loss: 0.1859 - binary_accuracy: 0.9403 - val_loss: 0.2649 - val_binary_accuracy: 0.9073\n",
      "Epoch 57/1000\n",
      "2889/2889 [==============================] - 4s 1ms/step - loss: 0.1844 - binary_accuracy: 0.9415 - val_loss: 0.2666 - val_binary_accuracy: 0.9026\n",
      "Epoch 58/1000\n",
      "2889/2889 [==============================] - 3s 942us/step - loss: 0.1834 - binary_accuracy: 0.9413 - val_loss: 0.2612 - val_binary_accuracy: 0.9065\n",
      "Epoch 59/1000\n",
      "2889/2889 [==============================] - 3s 1ms/step - loss: 0.1830 - binary_accuracy: 0.9416 - val_loss: 0.2560 - val_binary_accuracy: 0.9086\n",
      "Epoch 60/1000\n",
      "2889/2889 [==============================] - 3s 1ms/step - loss: 0.1812 - binary_accuracy: 0.9432 - val_loss: 0.2597 - val_binary_accuracy: 0.9090\n",
      "Epoch 61/1000\n",
      "2889/2889 [==============================] - 4s 1ms/step - loss: 0.1807 - binary_accuracy: 0.9429 - val_loss: 0.2584 - val_binary_accuracy: 0.9067\n",
      "Epoch 62/1000\n",
      "2889/2889 [==============================] - 3s 986us/step - loss: 0.1791 - binary_accuracy: 0.9434 - val_loss: 0.2510 - val_binary_accuracy: 0.9099\n",
      "Epoch 63/1000\n",
      "2889/2889 [==============================] - 3s 880us/step - loss: 0.1777 - binary_accuracy: 0.9451 - val_loss: 0.2595 - val_binary_accuracy: 0.9071\n",
      "Epoch 64/1000\n",
      "2889/2889 [==============================] - 4s 1ms/step - loss: 0.1776 - binary_accuracy: 0.9443 - val_loss: 0.2609 - val_binary_accuracy: 0.9073\n",
      "Epoch 65/1000\n",
      "2889/2889 [==============================] - 3s 1ms/step - loss: 0.1760 - binary_accuracy: 0.9446 - val_loss: 0.2536 - val_binary_accuracy: 0.9118\n",
      "Epoch 66/1000\n",
      "2889/2889 [==============================] - 3s 1ms/step - loss: 0.1757 - binary_accuracy: 0.9444 - val_loss: 0.2478 - val_binary_accuracy: 0.9096\n",
      "Epoch 67/1000\n",
      "2889/2889 [==============================] - 3s 1ms/step - loss: 0.1732 - binary_accuracy: 0.9459 - val_loss: 0.2484 - val_binary_accuracy: 0.9092\n",
      "Epoch 68/1000\n",
      "2889/2889 [==============================] - 3s 907us/step - loss: 0.1737 - binary_accuracy: 0.9448 - val_loss: 0.2454 - val_binary_accuracy: 0.9102\n",
      "Epoch 69/1000\n",
      "2889/2889 [==============================] - 3s 1ms/step - loss: 0.1715 - binary_accuracy: 0.9465 - val_loss: 0.2475 - val_binary_accuracy: 0.9091\n",
      "Epoch 70/1000\n",
      "2889/2889 [==============================] - 4s 1ms/step - loss: 0.1706 - binary_accuracy: 0.9459 - val_loss: 0.2465 - val_binary_accuracy: 0.9140\n",
      "Epoch 71/1000\n",
      "2889/2889 [==============================] - 4s 1ms/step - loss: 0.1704 - binary_accuracy: 0.9474 - val_loss: 0.2505 - val_binary_accuracy: 0.9105\n",
      "Epoch 72/1000\n",
      "2889/2889 [==============================] - 3s 1ms/step - loss: 0.1693 - binary_accuracy: 0.9476 - val_loss: 0.2479 - val_binary_accuracy: 0.9106\n",
      "Epoch 73/1000\n",
      "2889/2889 [==============================] - 3s 1ms/step - loss: 0.1683 - binary_accuracy: 0.9483 - val_loss: 0.2482 - val_binary_accuracy: 0.9105\n",
      "2889/2889 [==============================] - 2s 491us/step - loss: 0.1750 - binary_accuracy: 0.9430\n",
      "1445/1445 [==============================] - 1s 508us/step - loss: 0.2454 - binary_accuracy: 0.9102\n"
     ]
    }
   ],
   "source": [
    "# Store the models and their training history\n",
    "kfold_history = []\n",
    "kfold_model = []\n",
    "# Store the evaluation on training and validation data\n",
    "kfold_train_eval_loss = []\n",
    "kfold_train_eval_acc = []\n",
    "kfold_val_eval_loss = []\n",
    "kfold_val_eval_acc = []\n",
    "split_idx = 1\n",
    "for train_indices, val_indices in kfold.split(values):\n",
    "    print(f'Use fold {split_idx}')\n",
    "    split_idx += 1\n",
    "    # Get train and validation data \n",
    "    train_values = values[train_indices]\n",
    "    train_classification = classification[train_indices]\n",
    "    train_weights = weights[train_indices]\n",
    "    val_values = values[val_indices]\n",
    "    val_classification = classification[val_indices]\n",
    "    val_weights = weights[val_indices]\n",
    "    # Get reweighted weights\n",
    "    train_weights_reweighted = reweight_weights(train_weights, train_classification)\n",
    "    val_weights_reweighted = reweight_weights(val_weights, val_classification)\n",
    "    # Get train and validation datasets\n",
    "    train_data = Dataset.from_tensor_slices((train_values, train_classification, train_weights_reweighted))\n",
    "    train_data = train_data.shuffle(len(train_data), seed=random_state)\n",
    "    train_data = train_data.batch(124)\n",
    "    val_data = Dataset.from_tensor_slices((val_values, val_classification, val_weights_reweighted))\n",
    "    val_data = val_data.shuffle(len(val_data), seed=random_state)\n",
    "    val_data = val_data.batch(124)\n",
    "\n",
    "    # Normalization layer\n",
    "    normalization_layer = tf.keras.layers.Normalization()\n",
    "    normalization_layer.adapt(train_values)\n",
    "    # Create a simple NN\n",
    "    model_layers = [\n",
    "        normalization_layer,\n",
    "        tf.keras.layers.Dense(60, activation='relu'),\n",
    "        tf.keras.layers.Dense(60, activation='relu'),\n",
    "        tf.keras.layers.Dense(1, activation='sigmoid'),\n",
    "    ]\n",
    "    model = tf.keras.models.Sequential(model_layers)\n",
    "    # Compile model\n",
    "    model.compile(optimizer=adam_optimizer, loss=loss_fn, weighted_metrics=['binary_accuracy'])\n",
    "\n",
    "    # Train model\n",
    "    history = model.fit(train_data, validation_data=val_data, callbacks=[early_stopping], epochs=1000)\n",
    "\n",
    "    # Append to list\n",
    "    kfold_history.append(history)\n",
    "    kfold_model.append(model)\n",
    "\n",
    "    # Evaluate model on training and validation data\n",
    "    model_train_evaluation = model.evaluate(train_data)\n",
    "    model_val_evaluation = model.evaluate(val_data)\n",
    "    kfold_train_eval_loss.append(model_train_evaluation[0])\n",
    "    kfold_train_eval_acc.append(model_train_evaluation[1])\n",
    "    kfold_val_eval_loss.append(model_val_evaluation[0])\n",
    "    kfold_val_eval_acc.append(model_val_evaluation[1])"
   ]
  },
  {
   "cell_type": "code",
   "execution_count": 19,
   "id": "f6bbca51",
   "metadata": {},
   "outputs": [
    {
     "data": {
      "image/png": "[encoded data removed]",
      "text/plain": [
       "<Figure size 700x600 with 1 Axes>"
      ]
     },
     "metadata": {},
     "output_type": "display_data"
    }
   ],
   "source": [
    "# Plot the training history\n",
    "fig, ax = plt.subplots(figsize=(7, 6))\n",
    "color_list = ['r', 'g', 'b']\n",
    "for k_fold_idx, (history, color) in enumerate(zip(kfold_history, color_list)):\n",
    "  ax.plot(history.history['loss'], color=color, label=f'{k_fold_idx} training')\n",
    "  ax.plot(history.history['val_loss'], color=color, ls='--', label=f'{k_fold_idx} val')\n",
    "ax.set_xlabel('epoch')\n",
    "ax.set_ylabel('loss')\n",
    "ax.legend()\n",
    "plt.savefig(f'baseline_models/training_history.png', dpi=300, bbox_inches='tight')\n",
    "_ = plt.show()"
   ]
  },
  {
   "cell_type": "code",
   "execution_count": 17,
   "id": "147e5843",
   "metadata": {},
   "outputs": [
    {
     "name": "stdout",
     "output_type": "stream",
     "text": [
      "The val loss of the model is 0.282 +- 0.026\n"
     ]
    }
   ],
   "source": [
    "val_loss_mean = np.mean(kfold_val_eval_loss)\n",
    "val_loss_std = np.std(kfold_val_eval_loss)\n",
    "print(f'The val loss of the model is {round(val_loss_mean, 3)} +- {round(val_loss_std, 3)}')"
   ]
  },
  {
   "cell_type": "markdown",
   "id": "6828bf78",
   "metadata": {},
   "source": [
    "## Save the Models"
   ]
  },
  {
   "cell_type": "code",
   "execution_count": 18,
   "id": "d91becdb",
   "metadata": {},
   "outputs": [
    {
     "name": "stdout",
     "output_type": "stream",
     "text": [
      "INFO:tensorflow:Assets written to: baseline_models/model_crossval0/assets\n",
      "INFO:tensorflow:Assets written to: baseline_models/model_crossval1/assets\n",
      "INFO:tensorflow:Assets written to: baseline_models/model_crossval2/assets\n"
     ]
    }
   ],
   "source": [
    "# Loop over all cross-validation models\n",
    "for idx, model in enumerate(kfold_model):\n",
    "    # Save the model\n",
    "    model.save(f'baseline_models/model_crossval{idx}')"
   ]
  }
 ],
 "metadata": {
  "accelerator": "GPU",
  "colab": {
   "provenance": []
  },
  "gpuClass": "standard",
  "kernelspec": {
   "display_name": "Python 3 (ipykernel)",
   "language": "python",
   "name": "python3"
  },
  "language_info": {
   "codemirror_mode": {
    "name": "ipython",
    "version": 3
   },
   "file_extension": ".py",
   "mimetype": "text/x-python",
   "name": "python",
   "nbconvert_exporter": "python",
   "pygments_lexer": "ipython3",
   "version": "3.10.11"
  }
 },
 "nbformat": 4,
 "nbformat_minor": 5
}
