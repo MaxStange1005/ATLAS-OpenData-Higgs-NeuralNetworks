{
 "cells": [
  {
   "cell_type": "markdown",
   "id": "2081cce3",
   "metadata": {
    "id": "2081cce3"
   },
   "source": [
    "# Discover the Higgs with Deep Neural Networks\n",
    "# Chapter 1: Introduction and Data Preparation"
   ]
  },
  {
   "cell_type": "markdown",
   "id": "060ec659",
   "metadata": {
    "id": "060ec659"
   },
   "source": [
    "The input data was created by 13 TeV ATLAS open data available at http://opendata.atlas.cern/release/2020/documentation/index.html\n",
    "\n",
    "For more information read:<br>\n",
    "Review of the 13 TeV ATLAS Open Data release, Techn. Ber., All figures including auxiliary figures are available at https://atlas.web.cern.ch/Atlas/GROUPS/PHYSICS/PUBNOTES/ATL-OREACH-PUB-2020-001: CERN, 2020, url: http://cds.cern.ch/record/2707171"
   ]
  },
  {
   "cell_type": "markdown",
   "id": "0f48ab30",
   "metadata": {},
   "source": [
    "## The Higgs Boson at ATLAS Experiment"
   ]
  },
  {
   "cell_type": "markdown",
   "id": "b93029cf",
   "metadata": {},
   "source": [
    "The data is measured by the ATLAS detector, one of the four big detectors at the Large Hadron Collider (LHC) at the CERN research center:"
   ]
  },
  {
   "cell_type": "markdown",
   "id": "c06d649e",
   "metadata": {},
   "source": [
    "<div>\n",
    "<img src='figures/ATLAS_detector.png' width='700'/>\n",
    "</div>\n",
    "ATLAS Experiment © 2008 CERN"
   ]
  },
  {
   "cell_type": "markdown",
   "id": "0e383f77",
   "metadata": {},
   "source": [
    "The data analyzed in this jupyter notebook measured at a centre-of-mass energy of $\\sqrt{s}=13 \\text{ TeV}$ with an integrated luminosity of $10 \\text{ fb}^{-1}$ in the year 2016. To search for H$\\rightarrow$ZZ$\\rightarrow llll$ events only events with four reconstructed leptons in the final state are included in the given datasets. This process is also called the \"golden channel\" since it has the most clearest signature for the Higgs measurement. The final hits in the ATLAS detector are similar to:"
   ]
  },
  {
   "cell_type": "markdown",
   "id": "23df3294",
   "metadata": {},
   "source": [
    "<div>\n",
    "<img src='figures/ATLAS_four_lepton_event.png' width='700'/>\n",
    "</div>\n",
    "https://atlas.web.cern.ch/Atlas/GROUPS/PHYSICS/CONFNOTES/ATLAS-CONF-2011-162/"
   ]
  },
  {
   "cell_type": "markdown",
   "id": "4b87d699",
   "metadata": {},
   "source": [
    "In the following feynman diagram the Higgs boson originates from the interaction of the gluons of the two collided protons. Since the Higgs boson only couples to massive particles the boson can not directly be produced by the massless gluons. Therefore, the Higgs boson is generated via the intermediate step of a top quark loop. The top quark is the heaviest known elementary particle and thus provides a very strong coupling to the Higgs boson. Due to its high mass, the Higgs boson decays almost immediately into two Z bosons. Since these Z bosons also have a high mass, they also decay into a lepton-antilepton-pair before they reach the detector.\n",
    "<div>\n",
    "<img src='figures/H_ZZ_feynman_diagram.png' width='500'/>\n",
    "</div>"
   ]
  },
  {
   "cell_type": "markdown",
   "id": "771b117d",
   "metadata": {},
   "source": [
    "## Simulation and Event Weights"
   ]
  },
  {
   "cell_type": "markdown",
   "id": "b321e326",
   "metadata": {},
   "source": [
    "In quantum physics, no concrete process outcomes are predicted, only their probabilities. In order to make a prediction for the measurement at the ATLAS detector, the frequencies must be simulated. For this purpose, random events are generated on the basis of the probability densities and then their respective measurement in the detector is simulated. Generating the expected number of events results in the following distribution for the lepton with the largest transverse momentum. The distribution itself is again split into the different Higgs processes (ggH125_ZZ4lep, VBFH125_ZZ4lep, WH125_ZZ4lep and ZH125_ZZ4lep) and the background processes (llll, Zee, Zmumu and ttbar_lep).\n",
    "<div>\n",
    "<img src='figures/event_weights_few_not_applied.png' width='500'/>\n",
    "</div>"
   ]
  },
  {
   "cell_type": "markdown",
   "id": "10c534be",
   "metadata": {},
   "source": [
    "This graphic already offers a good insight into how the data to be measured could be distributed. Unfortunately, the distribution is not very smooth due to the low number of events. To improve the prediction, more events are simulated than would actually be expected in the data. Especially for processes of high interest, like here the Higgs processes, especially many events are generated. The higher statistic results into much smoother predictions.\n",
    "<div>\n",
    "<img src='figures/event_weights_all_not_applied.png' width='500'/>\n",
    "</div>"
   ]
  },
  {
   "cell_type": "markdown",
   "id": "40ec40e5",
   "metadata": {},
   "source": [
    "However, now both the ratios between the different processes have shifted and the prediction of the total events has increased extremely. This distribution of the \"raw\" simulation events thus no longer corresponds to what can be expected for the actual measurement. To correct this, event weights are applied. Thus, each simulated event will enter the distribution only as fraction of an event given by the respective event weight. This weight depends on the respective simulated process as well as on the kinematic region of the event. In addition, there are also negative weights to compensate for excess simulated events. The result is comparable to the initial distribution but offers a much smoother prediction.\n",
    "<div>\n",
    "<img src='figures/event_weights_all_applied.png' width='500'/>\n",
    "</div>"
   ]
  },
  {
   "cell_type": "markdown",
   "id": "3e312205",
   "metadata": {
    "id": "3e312205"
   },
   "source": [
    "## Data Preparation"
   ]
  },
  {
   "cell_type": "markdown",
   "id": "8f5b2349",
   "metadata": {
    "id": "8f5b2349"
   },
   "source": [
    "### Load the Data"
   ]
  },
  {
   "cell_type": "code",
   "execution_count": null,
   "id": "f9615674",
   "metadata": {
    "colab": {
     "base_uri": "https://localhost:8080/"
    },
    "id": "f9615674",
    "outputId": "83e88f84-c0ec-4e77-e620-6bf415c816d1"
   },
   "outputs": [],
   "source": [
    "# Necessary imports\n",
    "import numpy as np\n",
    "import matplotlib.pyplot as plt\n",
    "import pandas as pd\n",
    "import os\n",
    "\n",
    "# Import some common functions created for this notebook\n",
    "import common\n",
    "\n",
    "# Random state\n",
    "random_state = 10\n",
    "_ = np.random.RandomState(random_state)"
   ]
  },
  {
   "cell_type": "markdown",
   "id": "3357ffaf",
   "metadata": {
    "id": "3357ffaf"
   },
   "source": [
    "The goal of this lab course is to train a deep neural network to separate Higgs boson signal from background events. The most important signal sample ggH125_ZZ4lep corresponds to the process $gg\\rightarrow$H$\\rightarrow$ZZ. The dominant background sample is $llll$ resulting from Z and ZZ decays.\n",
    "After training the DNN model will be used to classify the events of the data samples.\n",
    "\n",
    "Higgs signal samples:\n",
    "- ggH125_ZZ4lep\n",
    "- VBFH125_ZZ4lep\n",
    "- WH125_ZZ4lep\n",
    "- ZH125_ZZ4lep\n",
    "\n",
    "Background samples:\n",
    "- llll\n",
    "- Zee\n",
    "- Zmumu\n",
    "- ttbar_lep\n",
    "\n",
    "Data samples:\n",
    "- data_A\n",
    "- data_B\n",
    "- data_C\n",
    "- data_D"
   ]
  },
  {
   "cell_type": "code",
   "execution_count": null,
   "id": "22a2ae28",
   "metadata": {
    "id": "22a2ae28"
   },
   "outputs": [],
   "source": [
    "# Define the input samples\n",
    "sample_list_signal = ['ggH125_ZZ4lep', 'VBFH125_ZZ4lep', 'WH125_ZZ4lep', 'ZH125_ZZ4lep']\n",
    "sample_list_background = ['llll', 'Zee', 'Zmumu', 'ttbar_lep']"
   ]
  },
  {
   "cell_type": "code",
   "execution_count": null,
   "id": "e1b2ae67",
   "metadata": {
    "id": "e1b2ae67"
   },
   "outputs": [],
   "source": [
    "sample_path = 'input'\n",
    "# Read all the samples\n",
    "no_selection_data_frames = {}\n",
    "for sample in sample_list_signal + sample_list_background:\n",
    "    no_selection_data_frames[sample] = pd.read_csv(os.path.join(sample_path, sample + '.csv'))"
   ]
  },
  {
   "cell_type": "markdown",
   "id": "27a1549c",
   "metadata": {
    "id": "27a1549c"
   },
   "source": [
    "### Input Variables"
   ]
  },
  {
   "cell_type": "markdown",
   "id": "fe06218b",
   "metadata": {
    "id": "fe06218b"
   },
   "source": [
    "The input provides several variables to classify the events. Since each event has multiple leptons, they were ordered in descending order based on their transverse momentum. Thus, lepton 1 has the highest transverse momentum, lepton 2 the second highest, and so on. <br>\n",
    "Most of the given variables can be called low-level, because they represent event or object properties, which can be derived directly from the reconstruction in the detector. In contrast to this are high-level variables, which result from the combination of several low-level variables. In the given dataset the only high-level variables are invariant masses of multiple particles:<br>\n",
    "$m_{inv} = \\sqrt{\\left(\\sum\\limits_{i=1}^{n} E_i\\right)^2 - \\left(\\sum\\limits_{i=1}^{n} \\vec{p}_i\\right)^2}$\n",
    "\n",
    "\n",
    "List of all available variables:<br>\n",
    "- Scale and event weight\n",
    "     - The scaling for a dataset is given by the sum of event weights, the cross section, luminosity and a efficiency scale factor\n",
    "     - Each event has an additional specific event weight\n",
    "     - To combine simulated events and finally compare them to data each event has to be scaled by the event weight\n",
    "     - The weight are not used for training\n",
    "     - Variable name: `totalWeight`\n",
    "- Number of jets\n",
    "     - Jets are particle showers which result primarily from quarks and gluons\n",
    "     - Variable name: `jet_n`\n",
    "- Invariant four lepton mass\n",
    "     - The invariant mass $m_{inv}(l_1, l_2, l_3, l_4)$ is the reconstructed invariant mass of the full four lepton event.<br>\n",
    "     This variable is to be displayed later but not used for training.\n",
    "     - Variable name: `lep_m_llll`\n",
    "- Invariant two lepton mass\n",
    "     - Invariant masses $m_{inv}(l_i, l_j)$ of all combinations of two leptons\n",
    "     - Variable names: `lep_m_ll_12`, `lep_m_ll_13`, `lep_m_ll_14`, `lep_m_ll_23`, `lep_m_ll_24`, `lep_m_ll_34`\n",
    "- Transverse momentum $p_T$ of the leptons\n",
    "     - The momentum in the plane transverse to the beam axis\n",
    "     - Variable names: `lep1_pt`, `lep2_pt`, `lep3_pt`, `lep4_pt`\n",
    "- Lepton azimuthal angle\n",
    "     - The azimuthal angle $\\phi$ is measured in the plane transverse to the beam axis\n",
    "     - Variable name: `lep1_phi`, `lep2_phi`, `lep3_phi`, `lep4_phi`\n",
    "- Lepton pseudo rapidity\n",
    "     - The angle $\\theta$ is measured between the lepton track and the beam axis.<br>\n",
    "     Since this angle is not invariant against boosts along the beam axis, the pseudo rapidity $\\eta = - \\ln{\\tan{\\frac{\\theta}{2}}}$ is primarily used in the ATLAS analyses\n",
    "     - Variable names: `lep1_eta`, `lep2_eta`, `lep3_eta`, `lep4_eta`\n",
    "- Lepton energy\n",
    "     - The energy of the leptons reconstructed from the calorimeter entries\n",
    "     - Variable name: `lep1_e`, `lep2_e`, `lep3_e`, `lep4_e`\n",
    "- Lepton PDG-ID\n",
    "     - The lepton type is classified by a n umber given by the Particle-Data-Group.<br>\n",
    "     The lepton types are PDG-ID$(e)=11$, PDG-ID$(\\mu)=13$ and PDG-ID$(\\tau)=15$\n",
    "     - Variable name: `lep1_pdgId`, `lep2_pdgId`, `lep3_pdgId`, `lep4_pdgId`\n",
    "- Lepton charge\n",
    "     - The charge of the given lepton reconstructed by the lepton track\n",
    "     - Variable name: `lep1_charge`, `lep2_charge`, `lep3_charge`, `lep4_charge`"
   ]
  },
  {
   "cell_type": "markdown",
   "id": "9a7d2bda",
   "metadata": {
    "id": "9a7d2bda"
   },
   "source": [
    "### Event Pre-Selection"
   ]
  },
  {
   "cell_type": "markdown",
   "id": "55190edc",
   "metadata": {},
   "source": [
    "Before we start with the pre-selection of the input data check the number of events per process."
   ]
  },
  {
   "cell_type": "code",
   "execution_count": null,
   "id": "859620c6",
   "metadata": {},
   "outputs": [],
   "source": [
    "# Loop over all processes\n",
    "for sample in sample_list_signal + sample_list_background:\n",
    "    # Sum over the weights is equal to the number of expected events\n",
    "    n_events = sum(no_selection_data_frames[sample]['totalWeight'])\n",
    "    # Number of raw simulation events\n",
    "    n_events_raw = len(no_selection_data_frames[sample]['totalWeight'])\n",
    "    print(f'{sample}: {round(n_events, 2)}; {n_events_raw} (raw)')"
   ]
  },
  {
   "cell_type": "markdown",
   "id": "facd6d51",
   "metadata": {
    "id": "facd6d51"
   },
   "source": [
    "Although the final selection of the data is to be performed on the basis of a DNN, a rough pre-selection of the data is still useful.\n",
    "For this purpose, selection criteria are defined, which return either true or false based on the event kinematics and thus decide whether the respective event is kept or discarded.\n",
    "Suitable criteria for this analysis are very basic selections that must be clearly fulfilled by H$\\rightarrow$ZZ$\\rightarrow llll$ processes. So lets have again a look on the corresponding feynman diagram.\n",
    "\n",
    "<div>\n",
    "<img src='figures/H_ZZ_feynman_diagram.png' width='500'/>\n",
    "</div>\n",
    "\n",
    "From this feynman diagram of the Higgs decay two very basic criteria can be derived."
   ]
  },
  {
   "cell_type": "markdown",
   "id": "36b2c235",
   "metadata": {},
   "source": [
    "<font color='blue'>\n",
    "Task:\n",
    "\n",
    "Implement the baseline selection criteria that reduce the background while keeping almost all Higgs events:\n",
    "1. Lepton charge:<br>\n",
    "    The Higgs boson is electrically neutral. Thus, the total charge of all its decay products has to be neutral.\n",
    "2. Lepton type:<br>\n",
    "    If a Z boson decays into two leptons only lepton pairs of the same type can be produced. So the process Z$\\rightarrow ee$ and Z$\\rightarrow \\mu\\mu$ are possible but not Z$\\rightarrow e\\mu$. Since $\\tau$ leptons have a very high mass, they decay before reaching the detector and are therefore not considered in this notebook.\n",
    "\n",
    "Keep in mind that the leptons are ordered by their transverse momentum. Thus, it is not obivous which leptons  originate from the same Z boson.\n",
    "</font>"
   ]
  },
  {
   "cell_type": "code",
   "execution_count": null,
   "id": "ffa57853",
   "metadata": {
    "id": "ffa57853"
   },
   "outputs": [],
   "source": [
    "def selection_lepton_type(lep_type_0, lep_type_1, lep_type_2, lep_type_3):\n",
    "    \"\"\"Only keep lepton type combinations resulting from H->ZZ->llll\"\"\"\n",
    "    # Select events like eeee, mumumumu or eemumu\n",
    "    sum_lep_type = lep_type_0 + lep_type_1 + lep_type_2 + lep_type_3\n",
    "    return sum_lep_type == 44 or sum_lep_type == 48 or sum_lep_type == 52\n",
    "\n",
    "\n",
    "def selection_lepton_charge(lep_charge_0, lep_charge_1, lep_charge_2, lep_charge_3):\n",
    "    \"\"\"Only keep lepton charge combinations resulting from H->ZZ->llll\"\"\"\n",
    "    # Select events where the sum of all lepton charges is zero\n",
    "    sum_lep_charge = lep_charge_0 + lep_charge_1 + lep_charge_2 + lep_charge_3\n",
    "    return sum_lep_charge == 0"
   ]
  },
  {
   "cell_type": "code",
   "execution_count": null,
   "id": "13fc29db",
   "metadata": {
    "id": "13fc29db"
   },
   "outputs": [],
   "source": [
    "# Create a copy of the original data frame to investigate later\n",
    "data_frames = no_selection_data_frames.copy()\n",
    "\n",
    "# Apply the chosen selection criteria\n",
    "for sample in sample_list_signal + sample_list_background:\n",
    "    # Selection on lepton type\n",
    "    type_selection = np.vectorize(selection_lepton_type)(\n",
    "        data_frames[sample].lep1_pdgId,\n",
    "        data_frames[sample].lep2_pdgId,\n",
    "        data_frames[sample].lep3_pdgId,\n",
    "        data_frames[sample].lep4_pdgId)\n",
    "    data_frames[sample] = data_frames[sample][type_selection]\n",
    "\n",
    "    # Selection on lepton charge\n",
    "    charge_selection = np.vectorize(selection_lepton_charge)(\n",
    "        data_frames[sample].lep1_charge,\n",
    "        data_frames[sample].lep2_charge,\n",
    "        data_frames[sample].lep3_charge,\n",
    "        data_frames[sample].lep4_charge)\n",
    "    data_frames[sample] = data_frames[sample][charge_selection]"
   ]
  },
  {
   "cell_type": "markdown",
   "id": "fe35da1e",
   "metadata": {},
   "source": [
    "<font color='blue'>\n",
    "Task:\n",
    "\n",
    "Check wether your selection criteria have the required effects \n",
    "</font>"
   ]
  },
  {
   "cell_type": "code",
   "execution_count": null,
   "id": "2cff76d4",
   "metadata": {},
   "outputs": [],
   "source": [
    "# Loop over all processes\n",
    "for sample in sample_list_signal + sample_list_background:\n",
    "    # Sum over the weights is equal to the number of expected events\n",
    "    n_events = sum(data_frames[sample]['totalWeight'])\n",
    "    # Number of raw simulation events\n",
    "    n_events_raw = len(data_frames[sample]['totalWeight'])\n",
    "    print(f'{sample}: {round(n_events, 2)}; {n_events_raw} (raw)')"
   ]
  },
  {
   "cell_type": "markdown",
   "id": "78bde2f3",
   "metadata": {},
   "source": [
    "If you are happy with your baseline selection continue with the investigation of the data.\n",
    "In order to use this preselection also in the following chapters lets save these functions to import them later on."
   ]
  },
  {
   "cell_type": "code",
   "execution_count": null,
   "id": "28609473",
   "metadata": {},
   "outputs": [],
   "source": [
    "from inspect import getsource\n",
    "%save functions/selection_lepton_type.py getsource(import numpy as np)\n",
    "%save -a functions/selection_lepton_charge.py getsource(selection_lepton_charge)"
   ]
  },
  {
   "cell_type": "markdown",
   "id": "94202a44",
   "metadata": {
    "id": "94202a44"
   },
   "source": [
    "### Data Investigation"
   ]
  },
  {
   "cell_type": "markdown",
   "id": "7e11cc8e",
   "metadata": {
    "id": "7e11cc8e"
   },
   "source": [
    "Before one can decide which variables are suitable for training, one must first get a feel for the input variables.\n",
    "For this purpose, the input samples are merged into a set of signal events and a set of background events. Afterwards, the behavior of signal and background can be studied in multiple variables."
   ]
  },
  {
   "cell_type": "code",
   "execution_count": null,
   "id": "591b7e64",
   "metadata": {
    "id": "591b7e64"
   },
   "outputs": [],
   "source": [
    "# Merge the signal and background data frames\n",
    "data_frame_signal = common.merge_data_frames(sample_list_signal, data_frames)\n",
    "data_frame_background = common.merge_data_frames(sample_list_background, data_frames)"
   ]
  },
  {
   "cell_type": "markdown",
   "id": "2906682a",
   "metadata": {
    "id": "2906682a"
   },
   "source": [
    "The function common.plot_hist(variable, data_frame_1, data_frame_2) plots the given variable of the two datasets.\n",
    "The variable must be a dictionary containing atleast the variable to plot. Additionally one can also specify the binning (list or numpy array) and the xlabel. The created histogram is automatically saved in the plots directory<br>\n",
    "\n",
    "<font color='blue'>\n",
    "Task:\n",
    "\n",
    "Which variable is the most discriminant? Which variables seem not discriminant at all? \n",
    "</font>\n",
    "\n",
    "<font color='green'>\n",
    "Answer:\n",
    "\n",
    "- Most discriminant is the invariant mass of the four lepton system $m_{inv}(l_1, l_2, l_3, l_4)$ with a peak at the Higgs mass of 125 GeV.\n",
    "- The angualar variables $\\phi$ are not sensitive to any process due to the symmetry of the detector.\n",
    "</font>\n",
    "\n",
    "An example for the transverse momnetum of the leading lepton is given below:"
   ]
  },
  {
   "cell_type": "code",
   "execution_count": null,
   "id": "8ae8494b",
   "metadata": {
    "colab": {
     "base_uri": "https://localhost:8080/",
     "height": 1000
    },
    "id": "8ae8494b",
    "outputId": "7451147f-06aa-4645-d231-e88f13492df4",
    "scrolled": true
   },
   "outputs": [],
   "source": [
    "# leading lepton pt\n",
    "var_lep1_pt = {'variable': 'lep1_pt',\n",
    "               'binning': np.linspace(0, 300, 50),\n",
    "               'xlabel': '$p_T$ (lep 1) [GeV]'}\n",
    "\n",
    "common.plot_hist(var_lep1_pt, data_frames)\n",
    "common.plot_normed_signal_vs_background(var_lep1_pt, data_frame_signal, data_frame_background)\n",
    "plt.show()"
   ]
  },
  {
   "cell_type": "markdown",
   "id": "a38a5a5e",
   "metadata": {
    "id": "a38a5a5e"
   },
   "source": [
    "<font color='blue'>\n",
    "Task:\n",
    "\n",
    "What is the purity in signal events for the given data?\n",
    "</font>"
   ]
  },
  {
   "cell_type": "code",
   "execution_count": null,
   "id": "b7415e53",
   "metadata": {
    "colab": {
     "base_uri": "https://localhost:8080/"
    },
    "id": "b7415e53",
    "outputId": "e7d7a213-8fad-4519-be33-0f0381fd1706",
    "scrolled": true
   },
   "outputs": [],
   "source": [
    "signal_event_number = sum(data_frame_signal.totalWeight)\n",
    "background_event_number = sum(data_frame_background.totalWeight)\n",
    "signal_background_ratio = signal_event_number/background_event_number\n",
    "print(f'There are {round(signal_event_number, 2)} signal ({len(data_frame_signal)} raw MC events) and {round(background_event_number, 2)} backgound events ({len(data_frame_background)} raw MC events)\\nThis gives a purity of {round(signal_background_ratio*100, 2)}%')"
   ]
  },
  {
   "cell_type": "markdown",
   "id": "ceb9ac87",
   "metadata": {
    "id": "ceb9ac87"
   },
   "source": [
    "As one could already see, the number of simulated raw events is significantly higher than the weighted number of expected events. The contribution of a simulated event to the final prediction is thus given by the respective event weight.\n",
    "\n",
    "<font color='blue'>\n",
    "Task:\n",
    "\n",
    "How many raw events are included in each process simulation and what the corresponding total prediction? What the is minimal, median, maximal event weight of each process?\n",
    "</font><br>"
   ]
  },
  {
   "cell_type": "code",
   "execution_count": null,
   "id": "8e62a57e",
   "metadata": {
    "scrolled": true
   },
   "outputs": [],
   "source": [
    "for sample in sample_list_signal + sample_list_background:\n",
    "    print(f'{sample}:')\n",
    "    n_events = sum(data_frames[sample]['totalWeight'])\n",
    "    n_events_raw = len(data_frames[sample]['totalWeight'])\n",
    "    n_events_neg = sum(data_frames[sample]['totalWeight'] * (data_frames[sample]['totalWeight'] < 0))\n",
    "    n_events_neg_raw = sum(list(data_frames[sample]['totalWeight'] < 0))\n",
    "    min_weight = data_frames[sample]['totalWeight'].min()\n",
    "    med_weight = data_frames[sample]['totalWeight'].median()\n",
    "    max_weight = data_frames[sample]['totalWeight'].max()\n",
    "    print(f'  Raw events:      {n_events_raw}')\n",
    "    print(f'  Prediction:      {round(n_events, 2)}')\n",
    "    print(f'  Neg. raw events: {round(100 * n_events_neg_raw / n_events_raw, 2)}%')\n",
    "    print(f'  Neg. events:     {abs(round(100 * n_events_neg / n_events, 2))}%')\n",
    "    print(f'  Minimal weight:  {min_weight}')\n",
    "    print(f'  Median weight:   {med_weight}')\n",
    "    print(f'  Maximal weight:  {max_weight}')\n",
    "    print()"
   ]
  },
  {
   "cell_type": "markdown",
   "id": "6711866a",
   "metadata": {},
   "source": [
    "As expected, the different processes were simulated with different accuracy. To model 267 $llll$ events more than half a million raw events are used but 96 Z$\\rightarrow ll$ events are modelled by only 500 generated events.\n",
    "\n",
    "Furthermore, we can see the event weights even go into the negative range. Negative weighted events are produced to compensate overshooting predictions in certain kinematic areas."
   ]
  }
 ],
 "metadata": {
  "accelerator": "GPU",
  "colab": {
   "provenance": []
  },
  "gpuClass": "standard",
  "kernelspec": {
   "display_name": "Python 3 (ipykernel)",
   "language": "python",
   "name": "python3"
  },
  "language_info": {
   "codemirror_mode": {
    "name": "ipython",
    "version": 3
   },
   "file_extension": ".py",
   "mimetype": "text/x-python",
   "name": "python",
   "nbconvert_exporter": "python",
   "pygments_lexer": "ipython3",
   "version": "3.10.11"
  }
 },
 "nbformat": 4,
 "nbformat_minor": 5
}
