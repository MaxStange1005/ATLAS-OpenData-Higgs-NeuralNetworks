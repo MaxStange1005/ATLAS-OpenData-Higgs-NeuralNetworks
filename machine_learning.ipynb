{
 "cells": [
  {
   "cell_type": "markdown",
   "id": "2081cce3",
   "metadata": {},
   "source": [
    "# Discover the Higgs with Deep Neural Networks"
   ]
  },
  {
   "cell_type": "markdown",
   "id": "060ec659",
   "metadata": {},
   "source": [
    "The input data was created from 13 TeV ATLAS open data downloaded from http://opendata.atlas.cern/release/2020/documentation/index.html\n",
    "\n",
    "For more information read:<br>\n",
    "Review of the 13 TeV ATLAS Open Data release, Techn. Ber., All figures including auxiliary figures are available at https://atlas.web.cern.ch/Atlas/GROUPS/PHYSICS/PUBNOTES/ATL-OREACH-PUB-2020-001: CERN, 2020, url: http://cds.cern.ch/record/2707171"
   ]
  },
  {
   "cell_type": "markdown",
   "id": "3e312205",
   "metadata": {},
   "source": [
    "## Data Preparation"
   ]
  },
  {
   "cell_type": "markdown",
   "id": "8f5b2349",
   "metadata": {},
   "source": [
    "### Load the Data"
   ]
  },
  {
   "cell_type": "code",
   "execution_count": 1,
   "id": "f9615674",
   "metadata": {},
   "outputs": [],
   "source": [
    "# Necessary imports\n",
    "import numpy as np\n",
    "import matplotlib.pyplot as plt\n",
    "import pandas as pd\n",
    "from numpy.random import seed\n",
    "import common"
   ]
  },
  {
   "cell_type": "markdown",
   "id": "3357ffaf",
   "metadata": {},
   "source": [
    "The goal of this lab course is to train a deep neural network to separate Higgs boson signal from background events. The most important signal sample ggH125_ZZ4lep corresponds to the process gg->H->ZZ. The dominant background sample is llll resulting from Z and ZZ decays.\n",
    "After training the DNN model will be used to classify the events of the data samples.\n",
    "\n",
    "Higgs signal samples:\n",
    "- ggH125_ZZ4lep\n",
    "- VBFH125_ZZ4lep\n",
    "- WH125_ZZ4lep\n",
    "- ZH125_ZZ4lep\n",
    "\n",
    "Background samples:\n",
    "- llll\n",
    "- Zee\n",
    "- Zmumu\n",
    "- ttbar_lep\n",
    "\n",
    "Data samples:\n",
    "- data_A\n",
    "- data_B\n",
    "- data_C\n",
    "- data_D"
   ]
  },
  {
   "cell_type": "code",
   "execution_count": 2,
   "id": "22a2ae28",
   "metadata": {},
   "outputs": [],
   "source": [
    "# Define the input samples\n",
    "sample_list_signal = ['ggH125_ZZ4lep']\n",
    "sample_list_background = ['llll']\n",
    "sample_list_signal = ['ggH125_ZZ4lep', 'VBFH125_ZZ4lep', 'WH125_ZZ4lep', 'ZH125_ZZ4lep']\n",
    "sample_list_background = ['llll', 'Zee', 'Zmumu', 'ttbar_lep']"
   ]
  },
  {
   "cell_type": "code",
   "execution_count": 3,
   "id": "e1b2ae67",
   "metadata": {},
   "outputs": [],
   "source": [
    "# Read all the samples\n",
    "no_selection_data_frames = {}\n",
    "for sample in sample_list_signal + sample_list_background:\n",
    "    no_selection_data_frames[sample] = pd.read_csv('input/' + sample + \".csv\")"
   ]
  },
  {
   "cell_type": "markdown",
   "id": "27a1549c",
   "metadata": {},
   "source": [
    "### Input Variables"
   ]
  },
  {
   "cell_type": "markdown",
   "id": "fe06218b",
   "metadata": {},
   "source": [
    "The input provides several variables to classify the events. Since each event has multiple leptons, they were ordered in descending order based on their transverse momentum. Thus, lepton 1 has the highest transverse momentum, lepton 2 the second highest, and so on. <br>\n",
    "Most of the given variables can be called low-level, because they represent event or object properties, which can be derived directly from the reconstruction in the detector. In contrast to this are high-level variables, which result from the combination of several low-level variables. In the given dataset the only high-level variables are invariant masses of multiple particles:<br>\n",
    "$m_{inv} = \\sqrt{\\left(\\sum\\limits_{i=1}^{n} E_i\\right)^2 - \\left(\\sum\\limits_{i=1}^{n} \\vec{p}_i\\right)^2}$\n",
    "\n",
    "\n",
    "List of all available variables:<br>\n",
    "- Event number\n",
    " - Each simulated event has its own specific number. (not used for training)\n",
    " - Variable name: eventNumber\n",
    "- Scale and event weight\n",
    " - The scaling for a data set is given by the sum of event weights, the cross section, luminosity and a efficiency scale factor\n",
    " - Each event has an additional specific event weight\n",
    " - To combine simulated events and finally compare them to data each event has to be scaled by the total weight, the product of scale weight and event weight\n",
    " - The weight are not used for training\n",
    " - Variable name: scaleWeight, eventWeight, totalWeight\n",
    "- Number of jets\n",
    " - Jets are particle showers which result primarily from quarks and gluons\n",
    " - Variable name: jet_n\n",
    "- Invariant four lepton mass\n",
    " - The invariant mass $m_{inv}(l_1, l_2, l_3, l_4)$ of the four leptons is extremly sensitive to Higgs boson events. This variable is to be displayed later and thus not used for training\n",
    " - Variable name: lep_m_llll\n",
    "- Invariant two lepton mass\n",
    " - Invariant masses $m_{inv}(l_i, l_j)$ of all combinations of two leptons\n",
    " - Variable names: lep_m_ll_12, lep_m_ll_13, lep_m_ll_14, lep_m_ll_23, lep_m_ll_24, lep_m_ll_34\n",
    "- Transverse momentum of the leptons\n",
    " - The momentum in the plane transverse to the beam axis\n",
    " - Variable names: lep1_pt, lep2_pt, lep3_pt, lep4_pt\n",
    "- Lepton azimuthal angle\n",
    " - The azimuthal angle $\\phi$ is measured in the plane transverse to the beam axis\n",
    " - Variable name: lep1_phi, lep2_phi, lep3_phi, lep4_phi\n",
    "- Lepton pseudo rapidity\n",
    " - The angle $\\theta$ is measured between the lepton track and the beam axis. Since this angle is not invariant against boosts along the beam axis, the pseudo rapidity $\\eta = - \\ln{\\tan{\\frac{\\theta}{2}}}$ is primarily used in the ATLAS analyses\n",
    " - Variable names: lep1_eta, lep2_eta, lep3_eta, lep4_eta\n",
    "- Lepton energy\n",
    " - The energy of the leptons reconstructed from the calorimeter entries\n",
    " - Variable name:lep1_e, lep2_e, lep3_e, lep4_e\n",
    "- Lepton PDG-ID\n",
    " - The lepton type is classified by a n umber given by the Particle-Data-Group. The lepton types are $pdg-id(e)=11$, $pdg-id(\\mu)=13$ and $pdg-id(\\tau)=15$\n",
    " - Variable name: lep1_pdgId, lep2_pdgId, lep3_pdgId, lep4_pdgId\n",
    "- Lepton charge\n",
    " - The charge of the given lepton reconstructed by the lepton track\n",
    " - Variable name: lep1_charge, lep2_charge, lep3_charge, lep4_charge"
   ]
  },
  {
   "cell_type": "markdown",
   "id": "9a7d2bda",
   "metadata": {},
   "source": [
    "### Event Pre-Selection"
   ]
  },
  {
   "cell_type": "markdown",
   "id": "facd6d51",
   "metadata": {},
   "source": [
    "Although the final selection of the data is to be performed on the basis of a DNN, a rough pre-selection of the data is still useful.\n",
    "For this purpose, selection criteria are defined, which return either true or false based on the event kinematics and thus decide whether the respective event is kept or discarded.\n",
    "Suitable criteria for this analysis are very basic selections that must be clearly fulfilled by H->ZZ->llll processes.\n",
    "\n",
    "\n",
    "Hint: What lepton types and charges are expected in the final state?"
   ]
  },
  {
   "cell_type": "code",
   "execution_count": 4,
   "id": "ffa57853",
   "metadata": {},
   "outputs": [],
   "source": [
    "def cut_lep_type(lep_type_0, lep_type_1, lep_type_2, lep_type_3):\n",
    "    # Only keep events like eeee, mumumumu or eemumu\n",
    "    sum_lep_type = lep_type_0 + lep_type_1 + lep_type_2 + lep_type_3\n",
    "    return sum_lep_type == 44 or sum_lep_type == 48 or sum_lep_type == 52\n",
    "\n",
    "\n",
    "def cut_lep_charge(lep_charge_0, lep_charge_1, lep_charge_2, lep_charge_3):\n",
    "    # Only keep events where the sum of all lepton charges is zero\n",
    "    sum_lep_charge = lep_charge_0 + lep_charge_1 + lep_charge_2 + lep_charge_3\n",
    "    return sum_lep_charge == 0"
   ]
  },
  {
   "cell_type": "code",
   "execution_count": 5,
   "id": "13fc29db",
   "metadata": {},
   "outputs": [],
   "source": [
    "# Create a copy of the original data frame to investigate later\n",
    "data_frames = no_selection_data_frames.copy()\n",
    "\n",
    "# Apply the chosen selection criteria\n",
    "for sample in sample_list_signal + sample_list_background:\n",
    "    # Selection on lepton type\n",
    "    type_selection = np.vectorize(cut_lep_type)(\n",
    "        data_frames[sample].lep1_pdgId,\n",
    "        data_frames[sample].lep2_pdgId,\n",
    "        data_frames[sample].lep3_pdgId,\n",
    "        data_frames[sample].lep4_pdgId)\n",
    "    data_frames[sample] = data_frames[sample][type_selection]\n",
    "\n",
    "    # Selection on lepton charge\n",
    "    charge_selection = np.vectorize(cut_lep_charge)(\n",
    "        data_frames[sample].lep1_charge,\n",
    "        data_frames[sample].lep2_charge,\n",
    "        data_frames[sample].lep3_charge,\n",
    "        data_frames[sample].lep4_charge)\n",
    "    data_frames[sample] = data_frames[sample][charge_selection]"
   ]
  },
  {
   "cell_type": "markdown",
   "id": "94202a44",
   "metadata": {},
   "source": [
    "### Data Investigation"
   ]
  },
  {
   "cell_type": "markdown",
   "id": "7e11cc8e",
   "metadata": {},
   "source": [
    "Before one can decide which variables are suitable for training, one must first get a feel for the input variables.\n",
    "For this purpose, the input samples are merged into a set of signal events and a set of background events. Afterwards, the behavior of signal and background can be studied in multiple variables."
   ]
  },
  {
   "cell_type": "code",
   "execution_count": 6,
   "id": "591b7e64",
   "metadata": {},
   "outputs": [
    {
     "name": "stdout",
     "output_type": "stream",
     "text": [
      "ggH125_ZZ4lep:\n",
      "Total number of events: 8.7\n",
      "Negative raw events: 0.21%\n",
      "Negative events: 0.22%\n",
      "\n",
      "VBFH125_ZZ4lep:\n",
      "Total number of events: 0.78\n",
      "Negative raw events: 0.18%\n",
      "Negative events: 0.19%\n",
      "\n",
      "WH125_ZZ4lep:\n",
      "Total number of events: 0.22\n",
      "Negative raw events: 0.0%\n",
      "Negative events: 0.0%\n",
      "\n",
      "ZH125_ZZ4lep:\n",
      "Total number of events: 0.0\n",
      "Negative raw events: 0.0%\n",
      "Negative events: 0.0%\n",
      "\n",
      "llll:\n",
      "Total number of events: 266.55\n",
      "Negative raw events: 10.36%\n",
      "Negative events: 32.17%\n",
      "\n",
      "Zee:\n",
      "Total number of events: 43.42\n",
      "Negative raw events: 5.76%\n",
      "Negative events: 8.49%\n",
      "\n",
      "Zmumu:\n",
      "Total number of events: 52.33\n",
      "Negative raw events: 1.95%\n",
      "Negative events: 2.1%\n",
      "\n",
      "ttbar_lep:\n",
      "Total number of events: 28.31\n",
      "Negative raw events: 0.0%\n",
      "Negative events: 0.0%\n",
      "\n"
     ]
    }
   ],
   "source": [
    "# Merge the signal and background data frames\n",
    "def merge_data_frames(sample_list, data_frames_dic):\n",
    "    for sample in sample_list:\n",
    "        if sample == sample_list[0]:\n",
    "            output_data_frame = data_frames_dic[sample]\n",
    "        else:\n",
    "            output_data_frame = pd.concat([output_data_frame, data_frames_dic[sample]], axis=0)\n",
    "        print(f'{sample}:')\n",
    "        n_events = sum(data_frames_dic[sample]['totalWeight'])\n",
    "        n_events_raw = len(data_frames_dic[sample]['totalWeight'])\n",
    "        n_events_neg = sum(data_frames_dic[sample]['totalWeight'] * (data_frames_dic[sample]['totalWeight'] < 0))\n",
    "        n_events_neg_raw = sum(list(data_frames_dic[sample]['totalWeight'] < 0))\n",
    "        print(f'Total number of events: {round(n_events, 2)}')\n",
    "        print(f'Negative raw events: {round(100 * n_events_neg_raw / n_events_raw, 2)}%')\n",
    "        print(f'Negative events: {abs(round(100 * n_events_neg / n_events, 2))}%')\n",
    "        print()\n",
    "    return output_data_frame\n",
    "\n",
    "data_frame_signal = merge_data_frames(sample_list_signal, data_frames)\n",
    "data_frame_background = merge_data_frames(sample_list_background, data_frames)"
   ]
  },
  {
   "cell_type": "markdown",
   "id": "2906682a",
   "metadata": {},
   "source": [
    "The function common.plot_hist(variable, data_frame_1, data_frame_2) plots the given variable of the two data sets.\n",
    "The variable must be a dictionary containing atleast the variable to plot. Additionally one can also specify the binning (list or numpy array) and the xlabel. The created histogram is automatically saved in the plots directory<br>\n",
    "An example for the transverse momnetum of the leading lepton is given below:"
   ]
  },
  {
   "cell_type": "code",
   "execution_count": 7,
   "id": "8ae8494b",
   "metadata": {
    "scrolled": true
   },
   "outputs": [
    {
     "data": {
      "image/png": "[encoded data removed]",
      "text/plain": [
       "<Figure size 504x504 with 1 Axes>"
      ]
     },
     "metadata": {
      "needs_background": "light"
     },
     "output_type": "display_data"
    },
    {
     "data": {
      "image/png": "[encoded data removed]",
      "text/plain": [
       "<Figure size 504x504 with 2 Axes>"
      ]
     },
     "metadata": {
      "needs_background": "light"
     },
     "output_type": "display_data"
    }
   ],
   "source": [
    "# leading lepton pt\n",
    "var_lep1_pt = {'variable': 'lep1_pt',\n",
    "               'binning': np.linspace(0, 300, 100),\n",
    "               'xlabel': '$p_T$ (lep 1) [GeV]'}\n",
    "\n",
    "common.plot_hist_sum(var_lep1_pt, data_frames)\n",
    "common.plot_normed_signal_vs_background(var_lep1_pt, data_frame_signal, data_frame_background)"
   ]
  },
  {
   "cell_type": "markdown",
   "id": "a38a5a5e",
   "metadata": {},
   "source": [
    "Investigate the signal vs background ratio before the training"
   ]
  },
  {
   "cell_type": "code",
   "execution_count": 8,
   "id": "b7415e53",
   "metadata": {
    "scrolled": false
   },
   "outputs": [
    {
     "name": "stdout",
     "output_type": "stream",
     "text": [
      "370040 524791\n",
      "There are 9.7 signal and 390.61 backgound events\n",
      " This gives us a purity of 2.48%\n"
     ]
    }
   ],
   "source": [
    "signal_event_number = sum(data_frame_signal.totalWeight)\n",
    "background_event_number = sum(data_frame_background.totalWeight)\n",
    "signal_background_ratio = signal_event_number/background_event_number\n",
    "print(len(data_frame_signal.totalWeight), len(data_frame_background.totalWeight))\n",
    "print(f'There are {round(signal_event_number, 2)} signal and {round(background_event_number, 2)} backgound events\\n This gives us a purity of {round(signal_background_ratio*100, 2)}%')"
   ]
  },
  {
   "cell_type": "markdown",
   "id": "a74ea3bc",
   "metadata": {},
   "source": [
    "## Training"
   ]
  },
  {
   "cell_type": "markdown",
   "id": "254918e6",
   "metadata": {},
   "source": [
    "In this chapter, the DNN is trained. Define the input variables for the classification. Feel free to test different combinations of low-level and high-level variables. Additionally, you can modify the structure of the DNN to gain optimal training results. When the setup is done, train the DNN, test it and redo this until you are happy with the result."
   ]
  },
  {
   "cell_type": "code",
   "execution_count": 9,
   "id": "ac0e9914",
   "metadata": {},
   "outputs": [],
   "source": [
    "# The training input variables\n",
    "training_variables = ['lep1_pt', 'lep2_pt', 'lep3_pt', 'lep4_pt']\n",
    "training_variables += ['lep1_charge', 'lep2_charge', 'lep3_charge', 'lep4_charge']\n",
    "training_variables += ['lep1_pdgId', 'lep2_pdgId', 'lep3_pdgId', 'lep4_pdgId']\n",
    "training_variables += ['lep1_phi', 'lep2_phi', 'lep3_phi', 'lep4_phi']\n",
    "training_variables += ['lep1_eta', 'lep2_eta', 'lep3_eta', 'lep4_eta']\n",
    "training_variables += ['lep_m_ll_12', 'lep_m_ll_13', 'lep_m_ll_14', 'lep_m_ll_23', 'lep_m_ll_24', 'lep_m_ll_34']"
   ]
  },
  {
   "cell_type": "code",
   "execution_count": 10,
   "id": "5a528eaf",
   "metadata": {},
   "outputs": [],
   "source": [
    "# Create the training input\n",
    "values = []\n",
    "weights = []\n",
    "classification = []\n",
    "for sample in sample_list_signal + sample_list_background:\n",
    "    # Classify signal and background (and skip if data)\n",
    "    if sample in sample_list_signal:\n",
    "        # 1 if signal\n",
    "        classification.append(np.ones(len(data_frames[sample])))\n",
    "    elif sample in sample_list_background:\n",
    "        # 0 if background\n",
    "        classification.append(np.zeros(len(data_frames[sample])))\n",
    "    else:\n",
    "        continue\n",
    "    # input values\n",
    "    values.append(data_frames[sample][training_variables])\n",
    "    weights.append(data_frames[sample]['totalWeight'])\n",
    "\n",
    "# Merge the input\n",
    "values = np.concatenate(values)\n",
    "weights = np.concatenate(weights)\n",
    "classification = np.concatenate(classification)"
   ]
  },
  {
   "cell_type": "markdown",
   "id": "6466faa7",
   "metadata": {},
   "source": [
    "The data set is split in a training, test and validation set. To have enough data to train use a splitting of 80%:10%:10%"
   ]
  },
  {
   "cell_type": "code",
   "execution_count": 11,
   "id": "4f0035b0",
   "metadata": {},
   "outputs": [],
   "source": [
    "from sklearn.model_selection import train_test_split"
   ]
  },
  {
   "cell_type": "code",
   "execution_count": 122,
   "id": "8138d55c",
   "metadata": {},
   "outputs": [],
   "source": [
    "def reweight_weights(weights, classification):\n",
    "    weights_abs = np.abs(weights)\n",
    "    weights_signal = weights_abs*classification\n",
    "    weights_background = weights_abs*(1 - classification)\n",
    "    weights_reweighted = weights_background/sum(weights_background) + weights_signal * sum(weights_signal)\n",
    "    return weights_reweighted"
   ]
  },
  {
   "cell_type": "code",
   "execution_count": 123,
   "id": "bd8a4906",
   "metadata": {},
   "outputs": [],
   "source": [
    "random_state = 420\n",
    "\n",
    "# Train data\n",
    "train_values, test_val_values, train_classification, test_val_classification = train_test_split(values, classification, test_size=0.2, random_state=random_state)\n",
    "train_weights, test_val_weights = train_test_split(weights, classification, test_size=0.2, random_state=random_state)[:2]\n",
    "\n",
    "# Test and validation data\n",
    "test_values, val_values, test_classification, val_classification = train_test_split(test_val_values, test_val_classification, test_size=0.5, random_state=random_state)\n",
    "test_weights, val_weights = train_test_split(test_val_weights, test_val_classification, test_size=0.5, random_state=random_state)[:2]\n",
    "\n",
    "# Get reweighted weights\n",
    "train_weights_reweighted = reweight_weights(train_weights, train_classification)\n",
    "test_weights_reweighted = reweight_weights(test_weights, test_classification)\n",
    "val_weights_reweighted = reweight_weights(val_weights, val_classification)"
   ]
  },
  {
   "cell_type": "code",
   "execution_count": 124,
   "id": "f1cf62dc",
   "metadata": {},
   "outputs": [],
   "source": [
    "# Import the tensorflow module to create a DNN\n",
    "\n",
    "import tensorflow as tf\n",
    "import pandas as pd\n",
    "from tensorflow.python.framework.ops import disable_eager_execution\n",
    "\n",
    "disable_eager_execution()"
   ]
  },
  {
   "cell_type": "markdown",
   "id": "467e845a",
   "metadata": {},
   "source": [
    "Create you DNN consisting of several layers. \n",
    "\n",
    "A full list of layer types can be found here https://www.tensorflow.org/api_docs/python/tf/keras/layers <br>\n",
    "Some important examples for layers are:\n",
    "- Dense: a densely connected NN layer\n",
    "- Flatten: flattens the input\n",
    "- Dropout: randomly sets input to 0. Can decrease overtraining\n",
    "\n",
    "The neurons of each layer are activated by the so called activation function. <br>\n",
    "A full list of provided activation functions can be found here https://www.tensorflow.org/api_docs/python/tf/keras/activations <br>\n",
    "Some examples are:\n",
    "- linear: $linear(x) = x$\n",
    "- relu: linear for $x>0$ ($relu(x) = max(0, x)$)\n",
    "- exponential: $exponential(x) = e^x$\n",
    "- sigmoid: $sigmoid(x) = 1 / (1 + e^{-x})$\n",
    "\n",
    "To classify background and signal the last layer should only consist of one neuron which has an activation between 0 and 1"
   ]
  },
  {
   "cell_type": "markdown",
   "id": "ccc51261",
   "metadata": {},
   "source": [
    "<b> SCALE INPUT VARIABLES! (with sklearn) </b>\n",
    "\n",
    "What about the initialization of the weights?"
   ]
  },
  {
   "cell_type": "code",
   "execution_count": 125,
   "id": "541ee86d",
   "metadata": {},
   "outputs": [],
   "source": [
    "def get_model(n_layers, n_nodes):\n",
    "    model_layers = [tf.keras.layers.Normalization(mean=0, variance=1)]\n",
    "    for i_layer in range(n_layers):\n",
    "        model_layers.append(tf.keras.layers.Dense(n_nodes, activation='relu'))\n",
    "    model_layers.append(tf.keras.layers.Dense(1, activation='sigmoid'))\n",
    "    model = tf.keras.models.Sequential(model_layers)\n",
    "    return model"
   ]
  },
  {
   "cell_type": "markdown",
   "id": "fb6e1c2e",
   "metadata": {
    "scrolled": true
   },
   "source": [
    "n_layers = [2, 4, 6, 8]\n",
    "n_nodes = [5, 10, 15, 20, 30, 40]\n",
    "model = get_model(4, 200)"
   ]
  },
  {
   "cell_type": "code",
   "execution_count": 151,
   "id": "b80e881c",
   "metadata": {},
   "outputs": [
    {
     "name": "stdout",
     "output_type": "stream",
     "text": [
      "[(2, 10), (2, 50), (2, 100), (4, 10), (4, 50), (4, 100), (6, 10), (6, 50), (6, 100)]\n"
     ]
    }
   ],
   "source": [
    "import itertools\n",
    "n_layers = [2, 4, 6]\n",
    "n_nodes = [10, 50, 100]\n",
    "hyper_parameters = list(itertools.product(n_layers, n_nodes))\n",
    "print(hyper_parameters)\n",
    "models = {}\n",
    "for (n_layers, n_nodes) in hyper_parameters:\n",
    "    model_name = f'dnn_{str(n_layers)}_{str(n_nodes)}'\n",
    "    models[model_name] = {'model': get_model(n_layers, n_nodes)}"
   ]
  },
  {
   "cell_type": "code",
   "execution_count": 137,
   "id": "3bcde13a",
   "metadata": {},
   "outputs": [
    {
     "name": "stdout",
     "output_type": "stream",
     "text": [
      "dnn_2_10\n",
      "{'model': <keras.engine.sequential.Sequential object at 0x152dbecd0>, 'history': <keras.callbacks.History object at 0x1535083d0>, 'train_evaluation': [2.134896570342825e-06, 0.992914], 'test_evaluation': [1.266000621007509e-05, 0.8494873], 'roc_auc': 0.9710344408858749}\n",
      "dnn_2_50\n",
      "{'model': <keras.engine.sequential.Sequential object at 0x153109400>, 'history': <keras.callbacks.History object at 0x1536117c0>, 'train_evaluation': [2.0766535038443465e-06, 0.99304456], 'test_evaluation': [1.197635477631043e-05, 0.8476294], 'roc_auc': 0.9777961997105006}\n",
      "dnn_2_100\n",
      "{'model': <keras.engine.sequential.Sequential object at 0x153538460>, 'history': <keras.callbacks.History object at 0x153a62e20>, 'train_evaluation': [2.0800158387690336e-06, 0.9928885], 'test_evaluation': [1.1970006606694313e-05, 0.83837205], 'roc_auc': 0.979538357603647}\n",
      "dnn_4_10\n",
      "{'model': <keras.engine.sequential.Sequential object at 0x15353a5e0>, 'history': <keras.callbacks.History object at 0x1538d51f0>, 'train_evaluation': [2.2516614490665118e-06, 0.992468], 'test_evaluation': [1.2173554507724865e-05, 0.8284058], 'roc_auc': 0.9728554483706885}\n",
      "dnn_4_50\n",
      "{'model': <keras.engine.sequential.Sequential object at 0x153541730>, 'history': <keras.callbacks.History object at 0x153c1f4f0>, 'train_evaluation': [2.1613278048593293e-06, 0.99256665], 'test_evaluation': [1.2445820914116092e-05, 0.8255741], 'roc_auc': 0.9772524388009086}\n",
      "dnn_4_100\n",
      "{'model': <keras.engine.sequential.Sequential object at 0x153543880>, 'history': <keras.callbacks.History object at 0x153653130>, 'train_evaluation': [2.007505010966215e-06, 0.99286246], 'test_evaluation': [1.1985935545946979e-05, 0.86120707], 'roc_auc': 0.9808331348511741}\n",
      "dnn_6_10\n",
      "{'model': <keras.engine.sequential.Sequential object at 0x15354b070>, 'history': <keras.callbacks.History object at 0x153c71040>, 'train_evaluation': [2.182082425226864e-06, 0.99265385], 'test_evaluation': [1.3997167942436013e-05, 0.83052576], 'roc_auc': 0.9770215534297805}\n",
      "dnn_6_50\n",
      "{'model': <keras.engine.sequential.Sequential object at 0x15354e6a0>, 'history': <keras.callbacks.History object at 0x1536936d0>, 'train_evaluation': [2.034058321564637e-06, 0.992773], 'test_evaluation': [1.2213930177065807e-05, 0.8202518], 'roc_auc': 0.978544890721067}\n",
      "dnn_6_100\n",
      "{'model': <keras.engine.sequential.Sequential object at 0x153555c40>, 'history': <keras.callbacks.History object at 0x153ef7910>, 'train_evaluation': [1.956483148134341e-06, 0.9928571], 'test_evaluation': [1.2302147454316713e-05, 0.8006904], 'roc_auc': 0.9804791118669647}\n"
     ]
    }
   ],
   "source": [
    "for model_name in models.keys():\n",
    "    print(model_name)\n",
    "    print(models[model_name])"
   ]
  },
  {
   "cell_type": "markdown",
   "id": "08bb5240",
   "metadata": {},
   "source": [
    "While training, the parameters of the neural network are modified to increase the agreement between the classification of the training data by the neural network and the actual splitting in signal and background. \n",
    "The agreement is specified by a loss-function, which decreses with increasing agreement. Analogous to a Chi2 fit, the fit to the training data is done by determining the minimum of the loss-function. The choice of the specific loss-function has to be adapted to the problem the neural network has to solve. <br>\n",
    "\n",
    "The list of available loss-functions are listed here https://www.tensorflow.org/api_docs/python/tf/keras/losses\n",
    "For the binary (0 or 1) classification problem of the signal background separation the BinaryCrossentropy is used. <br>\n",
    "<b> Give more information!!! </b>"
   ]
  },
  {
   "cell_type": "code",
   "execution_count": 127,
   "id": "4fe2b485",
   "metadata": {},
   "outputs": [],
   "source": [
    "loss_fn = tf.keras.losses.BinaryCrossentropy(from_logits=False)"
   ]
  },
  {
   "cell_type": "markdown",
   "id": "8535bcb1",
   "metadata": {},
   "source": [
    "For the optimization of the loss-function different optimization algorithms can be used (see https://www.tensorflow.org/api_docs/python/tf/keras/optimizers). <br>\n",
    "The performance of the learning process is given by the metric (see https://www.tensorflow.org/api_docs/python/tf/keras/metrics)"
   ]
  },
  {
   "cell_type": "markdown",
   "id": "14ed49f9",
   "metadata": {},
   "source": [
    "model.compile(optimizer='adam',\n",
    "              loss=loss_fn,\n",
    "              weighted_metrics=['binary_accuracy'])"
   ]
  },
  {
   "cell_type": "code",
   "execution_count": 128,
   "id": "c60c5f74",
   "metadata": {},
   "outputs": [],
   "source": [
    "for model_name in models:\n",
    "    models[model_name]['model'].compile(optimizer='adam',\n",
    "                                        loss=loss_fn,\n",
    "                                        weighted_metrics=['binary_accuracy'])"
   ]
  },
  {
   "cell_type": "markdown",
   "id": "84a39a2b",
   "metadata": {},
   "source": [
    "early stopping?"
   ]
  },
  {
   "cell_type": "code",
   "execution_count": 129,
   "id": "60823bf4",
   "metadata": {},
   "outputs": [],
   "source": [
    "early_stopping = tf.keras.callbacks.EarlyStopping(monitor='val_loss', patience=3)"
   ]
  },
  {
   "cell_type": "markdown",
   "id": "2f98156b",
   "metadata": {
    "scrolled": false
   },
   "source": [
    "fit_history = model.fit(train_values, train_classification, sample_weight=np.abs(train_weights_reweighted), validation_data=(test_values, test_classification, np.abs(test_weights_reweighted)), callbacks=[early_stopping], epochs=40)"
   ]
  },
  {
   "cell_type": "code",
   "execution_count": 130,
   "id": "3b29dc6f",
   "metadata": {},
   "outputs": [
    {
     "name": "stdout",
     "output_type": "stream",
     "text": [
      "Start training for dnn_2_10:\n",
      "Train on 715864 samples, validate on 89483 samples\n",
      "Epoch 1/40\n",
      "715360/715864 [============================>.] - ETA: 0s - loss: 4.2118e-06 - binary_accuracy: 0.9898"
     ]
    },
    {
     "name": "stderr",
     "output_type": "stream",
     "text": [
      "/usr/local/lib/python3.9/site-packages/keras/engine/training_v1.py:2057: UserWarning: `Model.state_updates` will be removed in a future version. This property should not be used in TensorFlow 2.0, as `updates` are applied automatically.\n",
      "  updates = self.state_updates\n"
     ]
    },
    {
     "name": "stdout",
     "output_type": "stream",
     "text": [
      "715864/715864 [==============================] - 35s 49us/sample - loss: 4.2099e-06 - binary_accuracy: 0.9898 - val_loss: 1.4388e-05 - val_binary_accuracy: 0.7998\n",
      "Epoch 2/40\n",
      "715864/715864 [==============================] - 31s 43us/sample - loss: 2.6676e-06 - binary_accuracy: 0.9917 - val_loss: 1.2841e-05 - val_binary_accuracy: 0.8237\n",
      "Epoch 3/40\n",
      "715864/715864 [==============================] - 29s 41us/sample - loss: 2.4567e-06 - binary_accuracy: 0.9921 - val_loss: 1.3511e-05 - val_binary_accuracy: 0.8310\n",
      "Epoch 4/40\n",
      "715864/715864 [==============================] - 31s 43us/sample - loss: 2.3830e-06 - binary_accuracy: 0.9922 - val_loss: 1.1529e-05 - val_binary_accuracy: 0.8677\n",
      "Epoch 5/40\n",
      "715864/715864 [==============================] - 33s 46us/sample - loss: 2.3305e-06 - binary_accuracy: 0.9925 - val_loss: 1.2162e-05 - val_binary_accuracy: 0.8445\n",
      "Epoch 6/40\n",
      "715864/715864 [==============================] - 36s 50us/sample - loss: 2.2806e-06 - binary_accuracy: 0.9924 - val_loss: 1.2225e-05 - val_binary_accuracy: 0.8540\n",
      "Epoch 7/40\n",
      "715864/715864 [==============================] - 37s 52us/sample - loss: 2.2671e-06 - binary_accuracy: 0.9926 - val_loss: 1.2660e-05 - val_binary_accuracy: 0.8495\n",
      "Start training for dnn_2_50:\n",
      "Train on 715864 samples, validate on 89483 samples\n",
      "Epoch 1/40\n",
      "715864/715864 [==============================] - 39s 54us/sample - loss: 3.7383e-06 - binary_accuracy: 0.9907 - val_loss: 7.5980e-06 - val_binary_accuracy: 0.8839\n",
      "Epoch 2/40\n",
      "715864/715864 [==============================] - 35s 50us/sample - loss: 2.5137e-06 - binary_accuracy: 0.9922 - val_loss: 1.4965e-05 - val_binary_accuracy: 0.7986\n",
      "Epoch 3/40\n",
      "715864/715864 [==============================] - 46s 64us/sample - loss: 2.3707e-06 - binary_accuracy: 0.9925 - val_loss: 1.2680e-05 - val_binary_accuracy: 0.8084\n",
      "Epoch 4/40\n",
      "715864/715864 [==============================] - 34s 48us/sample - loss: 2.3059e-06 - binary_accuracy: 0.9926 - val_loss: 1.1976e-05 - val_binary_accuracy: 0.8476\n",
      "Start training for dnn_2_100:\n",
      "Train on 715864 samples, validate on 89483 samples\n",
      "Epoch 1/40\n",
      "715864/715864 [==============================] - 36s 51us/sample - loss: 3.6274e-06 - binary_accuracy: 0.9907 - val_loss: 1.0452e-05 - val_binary_accuracy: 0.8368\n",
      "Epoch 2/40\n",
      "715864/715864 [==============================] - 40s 56us/sample - loss: 2.5087e-06 - binary_accuracy: 0.9920 - val_loss: 9.4355e-06 - val_binary_accuracy: 0.8748\n",
      "Epoch 3/40\n",
      "715864/715864 [==============================] - 38s 53us/sample - loss: 2.4111e-06 - binary_accuracy: 0.9923 - val_loss: 1.0417e-05 - val_binary_accuracy: 0.8523\n",
      "Epoch 4/40\n",
      "715864/715864 [==============================] - 34s 47us/sample - loss: 2.3247e-06 - binary_accuracy: 0.9924 - val_loss: 9.0603e-06 - val_binary_accuracy: 0.8496\n",
      "Epoch 5/40\n",
      "715864/715864 [==============================] - 33s 46us/sample - loss: 2.2810e-06 - binary_accuracy: 0.9926 - val_loss: 1.4078e-05 - val_binary_accuracy: 0.8254\n",
      "Epoch 6/40\n",
      "715864/715864 [==============================] - 35s 48us/sample - loss: 2.2734e-06 - binary_accuracy: 0.9925 - val_loss: 1.3039e-05 - val_binary_accuracy: 0.8218\n",
      "Epoch 7/40\n",
      "715864/715864 [==============================] - 34s 47us/sample - loss: 2.2156e-06 - binary_accuracy: 0.9926 - val_loss: 1.1970e-05 - val_binary_accuracy: 0.8384\n",
      "Start training for dnn_4_10:\n",
      "Train on 715864 samples, validate on 89483 samples\n",
      "Epoch 1/40\n",
      "715864/715864 [==============================] - 32s 44us/sample - loss: 4.1329e-06 - binary_accuracy: 0.9891 - val_loss: 1.3799e-05 - val_binary_accuracy: 0.8398\n",
      "Epoch 2/40\n",
      "715864/715864 [==============================] - 30s 42us/sample - loss: 2.4778e-06 - binary_accuracy: 0.9921 - val_loss: 1.3542e-05 - val_binary_accuracy: 0.8460\n",
      "Epoch 3/40\n",
      "715864/715864 [==============================] - 33s 47us/sample - loss: 2.3814e-06 - binary_accuracy: 0.9923 - val_loss: 1.3437e-05 - val_binary_accuracy: 0.8287\n",
      "Epoch 4/40\n",
      "715864/715864 [==============================] - 33s 46us/sample - loss: 2.3321e-06 - binary_accuracy: 0.9923 - val_loss: 1.0786e-05 - val_binary_accuracy: 0.8576\n",
      "Epoch 5/40\n",
      "715864/715864 [==============================] - 35s 49us/sample - loss: 2.2827e-06 - binary_accuracy: 0.9924 - val_loss: 1.1089e-05 - val_binary_accuracy: 0.8506\n",
      "Epoch 6/40\n",
      "715864/715864 [==============================] - 32s 45us/sample - loss: 2.2611e-06 - binary_accuracy: 0.9926 - val_loss: 1.1522e-05 - val_binary_accuracy: 0.8365\n",
      "Epoch 7/40\n",
      "715864/715864 [==============================] - 33s 46us/sample - loss: 2.2369e-06 - binary_accuracy: 0.9925 - val_loss: 1.2174e-05 - val_binary_accuracy: 0.8284\n",
      "Start training for dnn_4_50:\n",
      "Train on 715864 samples, validate on 89483 samples\n",
      "Epoch 1/40\n",
      "715864/715864 [==============================] - 39s 54us/sample - loss: 3.0921e-06 - binary_accuracy: 0.9911 - val_loss: 1.3197e-05 - val_binary_accuracy: 0.8410\n",
      "Epoch 2/40\n",
      "715864/715864 [==============================] - 37s 52us/sample - loss: 2.4815e-06 - binary_accuracy: 0.9922 - val_loss: 1.2936e-05 - val_binary_accuracy: 0.8287\n",
      "Epoch 3/40\n",
      "715864/715864 [==============================] - 37s 51us/sample - loss: 2.3240e-06 - binary_accuracy: 0.9925 - val_loss: 1.1158e-05 - val_binary_accuracy: 0.8688\n",
      "Epoch 4/40\n",
      "715864/715864 [==============================] - 38s 53us/sample - loss: 2.2528e-06 - binary_accuracy: 0.9925 - val_loss: 1.2257e-05 - val_binary_accuracy: 0.8540\n",
      "Epoch 5/40\n",
      "715864/715864 [==============================] - 40s 55us/sample - loss: 2.2328e-06 - binary_accuracy: 0.9926 - val_loss: 1.2137e-05 - val_binary_accuracy: 0.8459\n",
      "Epoch 6/40\n",
      "715864/715864 [==============================] - 42s 59us/sample - loss: 2.2064e-06 - binary_accuracy: 0.9927 - val_loss: 1.2446e-05 - val_binary_accuracy: 0.8256\n",
      "Start training for dnn_4_100:\n",
      "Train on 715864 samples, validate on 89483 samples\n",
      "Epoch 1/40\n",
      "715864/715864 [==============================] - 51s 71us/sample - loss: 3.0617e-06 - binary_accuracy: 0.9910 - val_loss: 1.1652e-05 - val_binary_accuracy: 0.8258\n",
      "Epoch 2/40\n",
      "715864/715864 [==============================] - 53s 74us/sample - loss: 2.4733e-06 - binary_accuracy: 0.9922 - val_loss: 6.9551e-06 - val_binary_accuracy: 0.8828\n",
      "Epoch 3/40\n",
      "715864/715864 [==============================] - 46s 65us/sample - loss: 2.3484e-06 - binary_accuracy: 0.9923 - val_loss: 1.3021e-05 - val_binary_accuracy: 0.8275\n",
      "Epoch 4/40\n",
      "715864/715864 [==============================] - 50s 70us/sample - loss: 2.2726e-06 - binary_accuracy: 0.9925 - val_loss: 9.2423e-06 - val_binary_accuracy: 0.8424\n",
      "Epoch 5/40\n",
      "715864/715864 [==============================] - 40s 56us/sample - loss: 2.2135e-06 - binary_accuracy: 0.9927 - val_loss: 1.1986e-05 - val_binary_accuracy: 0.8612\n",
      "Start training for dnn_6_10:\n",
      "Train on 715864 samples, validate on 89483 samples\n",
      "Epoch 1/40\n",
      "715864/715864 [==============================] - 35s 49us/sample - loss: 3.0147e-06 - binary_accuracy: 0.9910 - val_loss: 1.4367e-05 - val_binary_accuracy: 0.8263\n",
      "Epoch 2/40\n",
      "715864/715864 [==============================] - 104s 145us/sample - loss: 2.4902e-06 - binary_accuracy: 0.9920 - val_loss: 1.1400e-05 - val_binary_accuracy: 0.8593\n",
      "Epoch 3/40\n",
      "715864/715864 [==============================] - 41s 57us/sample - loss: 2.4076e-06 - binary_accuracy: 0.9921 - val_loss: 1.3082e-05 - val_binary_accuracy: 0.8570\n",
      "Epoch 4/40\n",
      "715864/715864 [==============================] - 40s 56us/sample - loss: 2.3446e-06 - binary_accuracy: 0.9925 - val_loss: 1.3812e-05 - val_binary_accuracy: 0.8411\n",
      "Epoch 5/40\n",
      "715864/715864 [==============================] - 42s 59us/sample - loss: 2.3032e-06 - binary_accuracy: 0.9925 - val_loss: 1.3997e-05 - val_binary_accuracy: 0.8305\n",
      "Start training for dnn_6_50:\n",
      "Train on 715864 samples, validate on 89483 samples\n",
      "Epoch 1/40\n",
      "715864/715864 [==============================] - 53s 74us/sample - loss: 3.1335e-06 - binary_accuracy: 0.9907 - val_loss: 1.3503e-05 - val_binary_accuracy: 0.8359\n",
      "Epoch 2/40\n",
      "715864/715864 [==============================] - 60s 84us/sample - loss: 2.4795e-06 - binary_accuracy: 0.9921 - val_loss: 1.3299e-05 - val_binary_accuracy: 0.8626\n",
      "Epoch 3/40\n",
      "715864/715864 [==============================] - 60s 83us/sample - loss: 2.3534e-06 - binary_accuracy: 0.9924 - val_loss: 1.1838e-05 - val_binary_accuracy: 0.8182\n"
     ]
    },
    {
     "name": "stdout",
     "output_type": "stream",
     "text": [
      "Epoch 4/40\n",
      "715864/715864 [==============================] - 43s 60us/sample - loss: 2.3174e-06 - binary_accuracy: 0.9924 - val_loss: 1.2414e-05 - val_binary_accuracy: 0.8558\n",
      "Epoch 5/40\n",
      "715864/715864 [==============================] - 43s 60us/sample - loss: 2.2477e-06 - binary_accuracy: 0.9926 - val_loss: 1.1702e-05 - val_binary_accuracy: 0.8291\n",
      "Epoch 6/40\n",
      "715864/715864 [==============================] - 45s 63us/sample - loss: 2.2070e-06 - binary_accuracy: 0.9927 - val_loss: 1.2462e-05 - val_binary_accuracy: 0.8635\n",
      "Epoch 7/40\n",
      "715864/715864 [==============================] - 46s 64us/sample - loss: 2.1767e-06 - binary_accuracy: 0.9927 - val_loss: 1.2283e-05 - val_binary_accuracy: 0.8257\n",
      "Epoch 8/40\n",
      "715864/715864 [==============================] - 45s 63us/sample - loss: 2.1661e-06 - binary_accuracy: 0.9928 - val_loss: 1.2214e-05 - val_binary_accuracy: 0.8203\n",
      "Start training for dnn_6_100:\n",
      "Train on 715864 samples, validate on 89483 samples\n",
      "Epoch 1/40\n",
      "715864/715864 [==============================] - 58s 81us/sample - loss: 3.0030e-06 - binary_accuracy: 0.9911 - val_loss: 1.4511e-05 - val_binary_accuracy: 0.7730\n",
      "Epoch 2/40\n",
      "715864/715864 [==============================] - 53s 74us/sample - loss: 2.4925e-06 - binary_accuracy: 0.9920 - val_loss: 1.2102e-05 - val_binary_accuracy: 0.8449\n",
      "Epoch 3/40\n",
      "715864/715864 [==============================] - 61s 85us/sample - loss: 2.3727e-06 - binary_accuracy: 0.9923 - val_loss: 1.4300e-05 - val_binary_accuracy: 0.8005\n",
      "Epoch 4/40\n",
      "715864/715864 [==============================] - 60s 84us/sample - loss: 2.2999e-06 - binary_accuracy: 0.9924 - val_loss: 1.4124e-05 - val_binary_accuracy: 0.8213\n",
      "Epoch 5/40\n",
      "715864/715864 [==============================] - 56s 78us/sample - loss: 2.2562e-06 - binary_accuracy: 0.9925 - val_loss: 1.1974e-05 - val_binary_accuracy: 0.8285\n",
      "Epoch 6/40\n",
      "715864/715864 [==============================] - 49s 69us/sample - loss: 2.1898e-06 - binary_accuracy: 0.9928 - val_loss: 1.3391e-05 - val_binary_accuracy: 0.8454\n",
      "Epoch 7/40\n",
      "715864/715864 [==============================] - 57s 79us/sample - loss: 2.2099e-06 - binary_accuracy: 0.9929 - val_loss: 1.1612e-05 - val_binary_accuracy: 0.8174\n",
      "Epoch 8/40\n",
      "715864/715864 [==============================] - 53s 75us/sample - loss: 2.1737e-06 - binary_accuracy: 0.9929 - val_loss: 1.0839e-05 - val_binary_accuracy: 0.8572\n",
      "Epoch 9/40\n",
      "715864/715864 [==============================] - 56s 78us/sample - loss: 2.1200e-06 - binary_accuracy: 0.9929 - val_loss: 1.1314e-05 - val_binary_accuracy: 0.8485\n",
      "Epoch 10/40\n",
      "715864/715864 [==============================] - 64s 89us/sample - loss: 2.0931e-06 - binary_accuracy: 0.9931 - val_loss: 1.2224e-05 - val_binary_accuracy: 0.8120\n",
      "Epoch 11/40\n",
      "715864/715864 [==============================] - 71s 99us/sample - loss: 2.0939e-06 - binary_accuracy: 0.9930 - val_loss: 9.8400e-06 - val_binary_accuracy: 0.8525\n",
      "Epoch 12/40\n",
      "715864/715864 [==============================] - 85s 118us/sample - loss: 2.0750e-06 - binary_accuracy: 0.9931 - val_loss: 1.2323e-05 - val_binary_accuracy: 0.8354\n",
      "Epoch 13/40\n",
      "715864/715864 [==============================] - 98s 137us/sample - loss: 2.0456e-06 - binary_accuracy: 0.9930 - val_loss: 8.2245e-06 - val_binary_accuracy: 0.8638\n",
      "Epoch 14/40\n",
      "715864/715864 [==============================] - 69s 97us/sample - loss: 2.0594e-06 - binary_accuracy: 0.9930 - val_loss: 1.0434e-05 - val_binary_accuracy: 0.8545\n",
      "Epoch 15/40\n",
      "715864/715864 [==============================] - 66s 92us/sample - loss: 2.0662e-06 - binary_accuracy: 0.9931 - val_loss: 1.0340e-05 - val_binary_accuracy: 0.8397\n",
      "Epoch 16/40\n",
      "715864/715864 [==============================] - 64s 90us/sample - loss: 2.0439e-06 - binary_accuracy: 0.9930 - val_loss: 1.2302e-05 - val_binary_accuracy: 0.8007\n"
     ]
    }
   ],
   "source": [
    "for model_name in models:\n",
    "    print(f'Start training for {model_name}:')\n",
    "    history = models[model_name]['model'].fit(train_values, train_classification, sample_weight=train_weights_reweighted, validation_data=(test_values, test_classification, test_weights_reweighted), callbacks=[early_stopping], epochs=40)\n",
    "    models[model_name]['history'] = history"
   ]
  },
  {
   "cell_type": "code",
   "execution_count": 131,
   "id": "ba07b18c",
   "metadata": {},
   "outputs": [
    {
     "data": {
      "image/png": "[encoded data removed]",
      "text/plain": [
       "<Figure size 432x288 with 1 Axes>"
      ]
     },
     "metadata": {
      "needs_background": "light"
     },
     "output_type": "display_data"
    }
   ],
   "source": [
    "color_list = ['red', 'orange', 'blue', 'peru', 'purple', 'lime', 'cyan', 'crimson', 'coral']\n",
    "model_list = list(models.keys())\n",
    "model_colors = {}\n",
    "for i in range(len(models)):\n",
    "    model_name = model_list[i]\n",
    "    model_colors[model_name] = color_list[i]\n",
    "\n",
    "for model_name in models:\n",
    "    plt.plot(models[model_name]['history'].history['loss'], color=model_colors[model_name], linestyle='--')\n",
    "    plt.plot(models[model_name]['history'].history['val_loss'], label=f'{model_name}', color=model_colors[model_name])\n",
    "\n",
    "plt.title('model loss')\n",
    "plt.ylabel('loss')\n",
    "plt.xlabel('epoch')\n",
    "plt.legend(loc='center left', bbox_to_anchor=(1, 0.5))\n",
    "plt.savefig('plots/train_comparison.pdf')\n",
    "plt.show()"
   ]
  },
  {
   "cell_type": "markdown",
   "id": "5e7bc184",
   "metadata": {},
   "source": [
    "model.evaluate(train_values,  train_classification, sample_weight=np.abs(train_weights_reweighted), verbose=2)"
   ]
  },
  {
   "cell_type": "markdown",
   "id": "7c44b33d",
   "metadata": {},
   "source": [
    "model.evaluate(test_values,  test_classification, sample_weight=np.abs(test_weights_reweighted), verbose=2)"
   ]
  },
  {
   "cell_type": "code",
   "execution_count": 140,
   "id": "fc14e1eb",
   "metadata": {},
   "outputs": [
    {
     "name": "stdout",
     "output_type": "stream",
     "text": [
      "dnn_2_10: \ttest_loss = 1.266e-05 \ttest_acc = 84.9% \ttest/train_loss = 5.9\n",
      "dnn_2_50: \ttest_loss = 1.198e-05 \ttest_acc = 84.8% \ttest/train_loss = 5.8\n",
      "dnn_2_100: \ttest_loss = 1.197e-05 \ttest_acc = 83.8% \ttest/train_loss = 5.8\n",
      "dnn_4_10: \ttest_loss = 1.217e-05 \ttest_acc = 82.8% \ttest/train_loss = 5.4\n",
      "dnn_4_50: \ttest_loss = 1.245e-05 \ttest_acc = 82.6% \ttest/train_loss = 5.8\n",
      "dnn_4_100: \ttest_loss = 1.199e-05 \ttest_acc = 86.1% \ttest/train_loss = 6.0\n",
      "dnn_6_10: \ttest_loss = 1.4e-05 \ttest_acc = 83.1% \ttest/train_loss = 6.4\n",
      "dnn_6_50: \ttest_loss = 1.221e-05 \ttest_acc = 82.0% \ttest/train_loss = 6.0\n",
      "dnn_6_100: \ttest_loss = 1.23e-05 \ttest_acc = 80.1% \ttest/train_loss = 6.3\n"
     ]
    }
   ],
   "source": [
    "for model_name in models:\n",
    "    train_evaluation = models[model_name]['model'].evaluate(train_values,  train_classification, sample_weight=train_weights_reweighted, verbose=2)\n",
    "    test_evaluation = models[model_name]['model'].evaluate(test_values,  test_classification, sample_weight=test_weights_reweighted, verbose=2)\n",
    "    models[model_name]['train_evaluation'] = train_evaluation\n",
    "    models[model_name]['test_evaluation'] = test_evaluation\n",
    "    print(f'{model_name}: \\ttest_loss = {round(test_evaluation[0],8)} \\ttest_acc = {round(test_evaluation[1]*100,1)}% \\ttest/train_loss = {round(test_evaluation[0]/train_evaluation[0],1)}')"
   ]
  },
  {
   "cell_type": "code",
   "execution_count": 133,
   "id": "e69aaf78",
   "metadata": {},
   "outputs": [
    {
     "data": {
      "image/png": "[encoded data removed]",
      "text/plain": [
       "<Figure size 432x288 with 2 Axes>"
      ]
     },
     "metadata": {
      "needs_background": "light"
     },
     "output_type": "display_data"
    },
    {
     "data": {
      "image/png": "[encoded data removed]",
      "text/plain": [
       "<Figure size 432x288 with 2 Axes>"
      ]
     },
     "metadata": {
      "needs_background": "light"
     },
     "output_type": "display_data"
    },
    {
     "data": {
      "image/png": "[encoded data removed]",
      "text/plain": [
       "<Figure size 432x288 with 2 Axes>"
      ]
     },
     "metadata": {
      "needs_background": "light"
     },
     "output_type": "display_data"
    }
   ],
   "source": [
    "import seaborn as sns\n",
    "\n",
    "evaluation_full = {'n_layers': [], 'n_nodes': [], 'test_loss': [], 'test_accuracy': [], 'test/train_loss': []}\n",
    "\n",
    "for model_name in models:\n",
    "    n_layers = int(model_name.split('_')[1])\n",
    "    n_nodes = int(model_name.split('_')[2])\n",
    "    evaluation_full['n_layers'].append(n_layers)\n",
    "    evaluation_full['n_nodes'].append(n_nodes)\n",
    "    evaluation_full['test_loss'].append(models[model_name]['test_evaluation'][0])\n",
    "    evaluation_full['test_accuracy'].append(models[model_name]['test_evaluation'][1])\n",
    "    evaluation_full['test/train_loss'].append(models[model_name]['test_evaluation'][0]/models[model_name]['train_evaluation'][0])\n",
    "\n",
    "for eval in ['test_loss', 'test_accuracy', 'test/train_loss']:\n",
    "    evaluation_full_df = pd.DataFrame(evaluation_full)\n",
    "    pivot = evaluation_full_df.pivot(index='n_layers', columns='n_nodes', values=eval)\n",
    "    sns.heatmap(pivot, cbar_kws={'label': eval}, cmap='crest')\n",
    "    plt.title(eval)\n",
    "    plt.show()"
   ]
  },
  {
   "cell_type": "markdown",
   "id": "43995bda",
   "metadata": {},
   "source": [
    "## Evaluate the Model"
   ]
  },
  {
   "cell_type": "code",
   "execution_count": 111,
   "id": "b1e9ea20",
   "metadata": {},
   "outputs": [],
   "source": [
    "from sklearn import metrics"
   ]
  },
  {
   "cell_type": "code",
   "execution_count": 134,
   "id": "ada8fabb",
   "metadata": {},
   "outputs": [
    {
     "name": "stderr",
     "output_type": "stream",
     "text": [
      "/usr/local/lib/python3.9/site-packages/keras/engine/training_v1.py:2079: UserWarning: `Model.state_updates` will be removed in a future version. This property should not be used in TensorFlow 2.0, as `updates` are applied automatically.\n",
      "  updates=self.state_updates,\n"
     ]
    },
    {
     "name": "stdout",
     "output_type": "stream",
     "text": [
      "dnn_2_10: \tROC = 0.971 \ttest_loss = 1.266e-05 \ttest_acc = 84.9% \ttest/train_loss = 5.9\n"
     ]
    },
    {
     "name": "stderr",
     "output_type": "stream",
     "text": [
      "/usr/local/lib/python3.9/site-packages/keras/engine/training_v1.py:2079: UserWarning: `Model.state_updates` will be removed in a future version. This property should not be used in TensorFlow 2.0, as `updates` are applied automatically.\n",
      "  updates=self.state_updates,\n"
     ]
    },
    {
     "name": "stdout",
     "output_type": "stream",
     "text": [
      "dnn_2_50: \tROC = 0.978 \ttest_loss = 1.198e-05 \ttest_acc = 84.8% \ttest/train_loss = 5.8\n"
     ]
    },
    {
     "name": "stderr",
     "output_type": "stream",
     "text": [
      "/usr/local/lib/python3.9/site-packages/keras/engine/training_v1.py:2079: UserWarning: `Model.state_updates` will be removed in a future version. This property should not be used in TensorFlow 2.0, as `updates` are applied automatically.\n",
      "  updates=self.state_updates,\n"
     ]
    },
    {
     "name": "stdout",
     "output_type": "stream",
     "text": [
      "dnn_2_100: \tROC = 0.98 \ttest_loss = 1.197e-05 \ttest_acc = 83.8% \ttest/train_loss = 5.8\n"
     ]
    },
    {
     "name": "stderr",
     "output_type": "stream",
     "text": [
      "/usr/local/lib/python3.9/site-packages/keras/engine/training_v1.py:2079: UserWarning: `Model.state_updates` will be removed in a future version. This property should not be used in TensorFlow 2.0, as `updates` are applied automatically.\n",
      "  updates=self.state_updates,\n"
     ]
    },
    {
     "name": "stdout",
     "output_type": "stream",
     "text": [
      "dnn_4_10: \tROC = 0.973 \ttest_loss = 1.217e-05 \ttest_acc = 82.8% \ttest/train_loss = 5.4\n"
     ]
    },
    {
     "name": "stderr",
     "output_type": "stream",
     "text": [
      "/usr/local/lib/python3.9/site-packages/keras/engine/training_v1.py:2079: UserWarning: `Model.state_updates` will be removed in a future version. This property should not be used in TensorFlow 2.0, as `updates` are applied automatically.\n",
      "  updates=self.state_updates,\n"
     ]
    },
    {
     "name": "stdout",
     "output_type": "stream",
     "text": [
      "dnn_4_50: \tROC = 0.977 \ttest_loss = 1.245e-05 \ttest_acc = 82.6% \ttest/train_loss = 5.8\n"
     ]
    },
    {
     "name": "stderr",
     "output_type": "stream",
     "text": [
      "/usr/local/lib/python3.9/site-packages/keras/engine/training_v1.py:2079: UserWarning: `Model.state_updates` will be removed in a future version. This property should not be used in TensorFlow 2.0, as `updates` are applied automatically.\n",
      "  updates=self.state_updates,\n"
     ]
    },
    {
     "name": "stdout",
     "output_type": "stream",
     "text": [
      "dnn_4_100: \tROC = 0.981 \ttest_loss = 1.199e-05 \ttest_acc = 86.1% \ttest/train_loss = 6.0\n"
     ]
    },
    {
     "name": "stderr",
     "output_type": "stream",
     "text": [
      "/usr/local/lib/python3.9/site-packages/keras/engine/training_v1.py:2079: UserWarning: `Model.state_updates` will be removed in a future version. This property should not be used in TensorFlow 2.0, as `updates` are applied automatically.\n",
      "  updates=self.state_updates,\n"
     ]
    },
    {
     "name": "stdout",
     "output_type": "stream",
     "text": [
      "dnn_6_10: \tROC = 0.977 \ttest_loss = 1.4e-05 \ttest_acc = 83.1% \ttest/train_loss = 6.4\n"
     ]
    },
    {
     "name": "stderr",
     "output_type": "stream",
     "text": [
      "/usr/local/lib/python3.9/site-packages/keras/engine/training_v1.py:2079: UserWarning: `Model.state_updates` will be removed in a future version. This property should not be used in TensorFlow 2.0, as `updates` are applied automatically.\n",
      "  updates=self.state_updates,\n"
     ]
    },
    {
     "name": "stdout",
     "output_type": "stream",
     "text": [
      "dnn_6_50: \tROC = 0.979 \ttest_loss = 1.221e-05 \ttest_acc = 82.0% \ttest/train_loss = 6.0\n"
     ]
    },
    {
     "name": "stderr",
     "output_type": "stream",
     "text": [
      "/usr/local/lib/python3.9/site-packages/keras/engine/training_v1.py:2079: UserWarning: `Model.state_updates` will be removed in a future version. This property should not be used in TensorFlow 2.0, as `updates` are applied automatically.\n",
      "  updates=self.state_updates,\n"
     ]
    },
    {
     "name": "stdout",
     "output_type": "stream",
     "text": [
      "dnn_6_100: \tROC = 0.98 \ttest_loss = 1.23e-05 \ttest_acc = 80.1% \ttest/train_loss = 6.3\n"
     ]
    }
   ],
   "source": [
    "for model_name in models:\n",
    "    # ROC curve\n",
    "    test_prediction = models[model_name]['model'].predict(test_values)\n",
    "    fpr, tpr, thresholds = metrics.roc_curve(test_classification, test_prediction, sample_weight=test_weights_reweighted)\n",
    "    roc_auc = metrics.auc(fpr, tpr)\n",
    "    models[model_name]['roc_auc'] = roc_auc\n",
    "    \n",
    "    # evaluate model\n",
    "    train_evaluation = models[model_name]['model'].evaluate(train_values,  train_classification, sample_weight=train_weights_reweighted, verbose=2)\n",
    "    test_evaluation = models[model_name]['model'].evaluate(test_values,  test_classification, sample_weight=test_weights_reweighted, verbose=2)\n",
    "    models[model_name]['train_evaluation'] = train_evaluation\n",
    "    models[model_name]['test_evaluation'] = test_evaluation\n",
    "    \n",
    "    \n",
    "    print(f'{model_name}: \\tROC = {round(roc_auc, 3)} \\ttest_loss = {round(test_evaluation[0],8)} \\ttest_acc = {round(test_evaluation[1]*100,1)}% \\ttest/train_loss = {round(test_evaluation[0]/train_evaluation[0],1)}')"
   ]
  },
  {
   "cell_type": "code",
   "execution_count": 139,
   "id": "335e4371",
   "metadata": {},
   "outputs": [
    {
     "ename": "ValueError",
     "evalue": "arrays must all be same length",
     "output_type": "error",
     "traceback": [
      "\u001b[0;31m---------------------------------------------------------------------------\u001b[0m",
      "\u001b[0;31mValueError\u001b[0m                                Traceback (most recent call last)",
      "Input \u001b[0;32mIn [139]\u001b[0m, in \u001b[0;36m<module>\u001b[0;34m\u001b[0m\n\u001b[1;32m     13\u001b[0m     evaluation_full[\u001b[38;5;124m'\u001b[39m\u001b[38;5;124mtest/train_loss\u001b[39m\u001b[38;5;124m'\u001b[39m]\u001b[38;5;241m.\u001b[39mappend(models[model_name][\u001b[38;5;124m'\u001b[39m\u001b[38;5;124mtest_evaluation\u001b[39m\u001b[38;5;124m'\u001b[39m][\u001b[38;5;241m0\u001b[39m]\u001b[38;5;241m/\u001b[39mmodels[model_name][\u001b[38;5;124m'\u001b[39m\u001b[38;5;124mtrain_evaluation\u001b[39m\u001b[38;5;124m'\u001b[39m][\u001b[38;5;241m0\u001b[39m])\n\u001b[1;32m     15\u001b[0m \u001b[38;5;28;01mfor\u001b[39;00m \u001b[38;5;28meval\u001b[39m \u001b[38;5;129;01min\u001b[39;00m [\u001b[38;5;124m'\u001b[39m\u001b[38;5;124mroc_auc\u001b[39m\u001b[38;5;124m'\u001b[39m, \u001b[38;5;124m'\u001b[39m\u001b[38;5;124mtest_loss\u001b[39m\u001b[38;5;124m'\u001b[39m, \u001b[38;5;124m'\u001b[39m\u001b[38;5;124mtest_accuracy\u001b[39m\u001b[38;5;124m'\u001b[39m, \u001b[38;5;124m'\u001b[39m\u001b[38;5;124mtest/train_loss\u001b[39m\u001b[38;5;124m'\u001b[39m]:\n\u001b[0;32m---> 16\u001b[0m     evaluation_full_df \u001b[38;5;241m=\u001b[39m \u001b[43mpd\u001b[49m\u001b[38;5;241;43m.\u001b[39;49m\u001b[43mDataFrame\u001b[49m\u001b[43m(\u001b[49m\u001b[43mevaluation_full\u001b[49m\u001b[43m)\u001b[49m\n\u001b[1;32m     17\u001b[0m     pivot \u001b[38;5;241m=\u001b[39m evaluation_full_df\u001b[38;5;241m.\u001b[39mpivot(index\u001b[38;5;241m=\u001b[39m\u001b[38;5;124m'\u001b[39m\u001b[38;5;124mn_layers\u001b[39m\u001b[38;5;124m'\u001b[39m, columns\u001b[38;5;241m=\u001b[39m\u001b[38;5;124m'\u001b[39m\u001b[38;5;124mn_nodes\u001b[39m\u001b[38;5;124m'\u001b[39m, values\u001b[38;5;241m=\u001b[39m\u001b[38;5;28meval\u001b[39m)\n\u001b[1;32m     18\u001b[0m     sns\u001b[38;5;241m.\u001b[39mheatmap(pivot, cbar_kws\u001b[38;5;241m=\u001b[39m{\u001b[38;5;124m'\u001b[39m\u001b[38;5;124mlabel\u001b[39m\u001b[38;5;124m'\u001b[39m: \u001b[38;5;28meval\u001b[39m}, cmap\u001b[38;5;241m=\u001b[39m\u001b[38;5;124m'\u001b[39m\u001b[38;5;124mcrest\u001b[39m\u001b[38;5;124m'\u001b[39m)\n",
      "File \u001b[0;32m/usr/local/lib/python3.9/site-packages/pandas/core/frame.py:529\u001b[0m, in \u001b[0;36mDataFrame.__init__\u001b[0;34m(self, data, index, columns, dtype, copy)\u001b[0m\n\u001b[1;32m    524\u001b[0m     mgr \u001b[38;5;241m=\u001b[39m \u001b[38;5;28mself\u001b[39m\u001b[38;5;241m.\u001b[39m_init_mgr(\n\u001b[1;32m    525\u001b[0m         data, axes\u001b[38;5;241m=\u001b[39m{\u001b[38;5;124m\"\u001b[39m\u001b[38;5;124mindex\u001b[39m\u001b[38;5;124m\"\u001b[39m: index, \u001b[38;5;124m\"\u001b[39m\u001b[38;5;124mcolumns\u001b[39m\u001b[38;5;124m\"\u001b[39m: columns}, dtype\u001b[38;5;241m=\u001b[39mdtype, copy\u001b[38;5;241m=\u001b[39mcopy\n\u001b[1;32m    526\u001b[0m     )\n\u001b[1;32m    528\u001b[0m \u001b[38;5;28;01melif\u001b[39;00m \u001b[38;5;28misinstance\u001b[39m(data, \u001b[38;5;28mdict\u001b[39m):\n\u001b[0;32m--> 529\u001b[0m     mgr \u001b[38;5;241m=\u001b[39m \u001b[43minit_dict\u001b[49m\u001b[43m(\u001b[49m\u001b[43mdata\u001b[49m\u001b[43m,\u001b[49m\u001b[43m \u001b[49m\u001b[43mindex\u001b[49m\u001b[43m,\u001b[49m\u001b[43m \u001b[49m\u001b[43mcolumns\u001b[49m\u001b[43m,\u001b[49m\u001b[43m \u001b[49m\u001b[43mdtype\u001b[49m\u001b[38;5;241;43m=\u001b[39;49m\u001b[43mdtype\u001b[49m\u001b[43m)\u001b[49m\n\u001b[1;32m    530\u001b[0m \u001b[38;5;28;01melif\u001b[39;00m \u001b[38;5;28misinstance\u001b[39m(data, ma\u001b[38;5;241m.\u001b[39mMaskedArray):\n\u001b[1;32m    531\u001b[0m     \u001b[38;5;28;01mimport\u001b[39;00m \u001b[38;5;21;01mnumpy\u001b[39;00m\u001b[38;5;21;01m.\u001b[39;00m\u001b[38;5;21;01mma\u001b[39;00m\u001b[38;5;21;01m.\u001b[39;00m\u001b[38;5;21;01mmrecords\u001b[39;00m \u001b[38;5;28;01mas\u001b[39;00m \u001b[38;5;21;01mmrecords\u001b[39;00m\n",
      "File \u001b[0;32m/usr/local/lib/python3.9/site-packages/pandas/core/internals/construction.py:287\u001b[0m, in \u001b[0;36minit_dict\u001b[0;34m(data, index, columns, dtype)\u001b[0m\n\u001b[1;32m    281\u001b[0m     arrays \u001b[38;5;241m=\u001b[39m [\n\u001b[1;32m    282\u001b[0m         arr \u001b[38;5;28;01mif\u001b[39;00m \u001b[38;5;129;01mnot\u001b[39;00m \u001b[38;5;28misinstance\u001b[39m(arr, ABCIndexClass) \u001b[38;5;28;01melse\u001b[39;00m arr\u001b[38;5;241m.\u001b[39m_data \u001b[38;5;28;01mfor\u001b[39;00m arr \u001b[38;5;129;01min\u001b[39;00m arrays\n\u001b[1;32m    283\u001b[0m     ]\n\u001b[1;32m    284\u001b[0m     arrays \u001b[38;5;241m=\u001b[39m [\n\u001b[1;32m    285\u001b[0m         arr \u001b[38;5;28;01mif\u001b[39;00m \u001b[38;5;129;01mnot\u001b[39;00m is_datetime64tz_dtype(arr) \u001b[38;5;28;01melse\u001b[39;00m arr\u001b[38;5;241m.\u001b[39mcopy() \u001b[38;5;28;01mfor\u001b[39;00m arr \u001b[38;5;129;01min\u001b[39;00m arrays\n\u001b[1;32m    286\u001b[0m     ]\n\u001b[0;32m--> 287\u001b[0m \u001b[38;5;28;01mreturn\u001b[39;00m \u001b[43marrays_to_mgr\u001b[49m\u001b[43m(\u001b[49m\u001b[43marrays\u001b[49m\u001b[43m,\u001b[49m\u001b[43m \u001b[49m\u001b[43mdata_names\u001b[49m\u001b[43m,\u001b[49m\u001b[43m \u001b[49m\u001b[43mindex\u001b[49m\u001b[43m,\u001b[49m\u001b[43m \u001b[49m\u001b[43mcolumns\u001b[49m\u001b[43m,\u001b[49m\u001b[43m \u001b[49m\u001b[43mdtype\u001b[49m\u001b[38;5;241;43m=\u001b[39;49m\u001b[43mdtype\u001b[49m\u001b[43m)\u001b[49m\n",
      "File \u001b[0;32m/usr/local/lib/python3.9/site-packages/pandas/core/internals/construction.py:80\u001b[0m, in \u001b[0;36marrays_to_mgr\u001b[0;34m(arrays, arr_names, index, columns, dtype, verify_integrity)\u001b[0m\n\u001b[1;32m     77\u001b[0m \u001b[38;5;28;01mif\u001b[39;00m verify_integrity:\n\u001b[1;32m     78\u001b[0m     \u001b[38;5;66;03m# figure out the index, if necessary\u001b[39;00m\n\u001b[1;32m     79\u001b[0m     \u001b[38;5;28;01mif\u001b[39;00m index \u001b[38;5;129;01mis\u001b[39;00m \u001b[38;5;28;01mNone\u001b[39;00m:\n\u001b[0;32m---> 80\u001b[0m         index \u001b[38;5;241m=\u001b[39m \u001b[43mextract_index\u001b[49m\u001b[43m(\u001b[49m\u001b[43marrays\u001b[49m\u001b[43m)\u001b[49m\n\u001b[1;32m     81\u001b[0m     \u001b[38;5;28;01melse\u001b[39;00m:\n\u001b[1;32m     82\u001b[0m         index \u001b[38;5;241m=\u001b[39m ensure_index(index)\n",
      "File \u001b[0;32m/usr/local/lib/python3.9/site-packages/pandas/core/internals/construction.py:401\u001b[0m, in \u001b[0;36mextract_index\u001b[0;34m(data)\u001b[0m\n\u001b[1;32m    399\u001b[0m lengths \u001b[38;5;241m=\u001b[39m \u001b[38;5;28mlist\u001b[39m(\u001b[38;5;28mset\u001b[39m(raw_lengths))\n\u001b[1;32m    400\u001b[0m \u001b[38;5;28;01mif\u001b[39;00m \u001b[38;5;28mlen\u001b[39m(lengths) \u001b[38;5;241m>\u001b[39m \u001b[38;5;241m1\u001b[39m:\n\u001b[0;32m--> 401\u001b[0m     \u001b[38;5;28;01mraise\u001b[39;00m \u001b[38;5;167;01mValueError\u001b[39;00m(\u001b[38;5;124m\"\u001b[39m\u001b[38;5;124marrays must all be same length\u001b[39m\u001b[38;5;124m\"\u001b[39m)\n\u001b[1;32m    403\u001b[0m \u001b[38;5;28;01mif\u001b[39;00m have_dicts:\n\u001b[1;32m    404\u001b[0m     \u001b[38;5;28;01mraise\u001b[39;00m \u001b[38;5;167;01mValueError\u001b[39;00m(\n\u001b[1;32m    405\u001b[0m         \u001b[38;5;124m\"\u001b[39m\u001b[38;5;124mMixing dicts with non-Series may lead to ambiguous ordering.\u001b[39m\u001b[38;5;124m\"\u001b[39m\n\u001b[1;32m    406\u001b[0m     )\n",
      "\u001b[0;31mValueError\u001b[0m: arrays must all be same length"
     ]
    }
   ],
   "source": [
    "import seaborn as sns\n",
    "\n",
    "evaluation_full = {'roc_auc': [],'n_layers': [], 'n_nodes': [], 'roc_auc': [], 'test_loss': [], 'test_accuracy': [], 'test/train_loss': []}\n",
    "\n",
    "for model_name in models:\n",
    "    n_layers = int(model_name.split('_')[1])\n",
    "    n_nodes = int(model_name.split('_')[2])\n",
    "    evaluation_full['n_layers'].append(n_layers)\n",
    "    evaluation_full['n_nodes'].append(n_nodes)\n",
    "    evaluation_full['test_loss'].append(models[model_name]['test_evaluation'][0])\n",
    "    evaluation_full['roc_auc'].append(models[model_name]['roc_auc'])\n",
    "    evaluation_full['test_loss'].append(models[model_name]['test_evaluation'][0])\n",
    "    evaluation_full['test/train_loss'].append(models[model_name]['test_evaluation'][0]/models[model_name]['train_evaluation'][0])\n",
    "\n",
    "for eval in ['roc_auc', 'test_loss', 'test_accuracy', 'test/train_loss']:\n",
    "    evaluation_full_df = pd.DataFrame(evaluation_full)\n",
    "    pivot = evaluation_full_df.pivot(index='n_layers', columns='n_nodes', values=eval)\n",
    "    sns.heatmap(pivot, cbar_kws={'label': eval}, cmap='crest')\n",
    "    plt.title(eval)\n",
    "    plt.show()"
   ]
  },
  {
   "cell_type": "code",
   "execution_count": 112,
   "id": "9f0545f1",
   "metadata": {
    "scrolled": true
   },
   "outputs": [
    {
     "ename": "NameError",
     "evalue": "name 'model' is not defined",
     "output_type": "error",
     "traceback": [
      "\u001b[0;31m---------------------------------------------------------------------------\u001b[0m",
      "\u001b[0;31mNameError\u001b[0m                                 Traceback (most recent call last)",
      "Input \u001b[0;32mIn [112]\u001b[0m, in \u001b[0;36m<module>\u001b[0;34m\u001b[0m\n\u001b[1;32m      1\u001b[0m \u001b[38;5;66;03m# Prediction for test sample\u001b[39;00m\n\u001b[0;32m----> 2\u001b[0m test_prediction \u001b[38;5;241m=\u001b[39m \u001b[43mmodel\u001b[49m\u001b[38;5;241m.\u001b[39mpredict(test_values)\n",
      "\u001b[0;31mNameError\u001b[0m: name 'model' is not defined"
     ]
    }
   ],
   "source": [
    "# Prediction for test sample\n",
    "test_prediction = model.predict(test_values)"
   ]
  },
  {
   "cell_type": "markdown",
   "id": "e095ef24",
   "metadata": {
    "scrolled": true
   },
   "source": [
    "roc_weighted = metrics.roc_curve(test_classification, test_prediction, sample_weight=test_weights_reweighted)\n",
    "roc = metrics.roc_curve(test_classification, test_prediction)\n",
    "plt.plot(roc[0], roc[1], label='unweighted')\n",
    "plt.plot(roc_weighted[0], roc_weighted[1], label='weighted')\n",
    "plt.legend(loc='best', fancybox=True, shadow=True)"
   ]
  },
  {
   "cell_type": "code",
   "execution_count": 95,
   "id": "7496c990",
   "metadata": {},
   "outputs": [
    {
     "name": "stdout",
     "output_type": "stream",
     "text": [
      "0.9724514760518272\n"
     ]
    }
   ],
   "source": [
    "auc = metrics.roc_auc_score(test_classification, test_prediction, sample_weight = np.abs(test_weights_reweighted), average='weighted')\n",
    "print(auc)"
   ]
  },
  {
   "cell_type": "markdown",
   "id": "d2c6e4a7",
   "metadata": {},
   "source": [
    "## Apply Model"
   ]
  },
  {
   "cell_type": "code",
   "execution_count": 141,
   "id": "51df5129",
   "metadata": {},
   "outputs": [
    {
     "name": "stdout",
     "output_type": "stream",
     "text": [
      "Apply Model for ggH125_ZZ4lep\n",
      "Apply Model for VBFH125_ZZ4lep\n",
      "Apply Model for WH125_ZZ4lep\n",
      "Apply Model for ZH125_ZZ4lep\n",
      "Apply Model for llll\n",
      "Apply Model for Zee\n",
      "Apply Model for Zmumu\n",
      "Apply Model for ttbar_lep\n"
     ]
    }
   ],
   "source": [
    "for sample in sample_list_signal + sample_list_background:\n",
    "    print(f'Apply Model for {sample}')\n",
    "    # Get the values to apply the model\n",
    "    data_frame_values = data_frames[sample][training_variables]\n",
    "    prediction = models['dnn_4_100']['model'].predict(data_frame_values)\n",
    "    \n",
    "    # Convert prediction to array\n",
    "    prediction = [element[0] for element in prediction]\n",
    "    \n",
    "    # Add the prediction for each sample\n",
    "    data_frames[sample]['dnn_prediction'] = prediction"
   ]
  },
  {
   "cell_type": "code",
   "execution_count": 150,
   "id": "85645a5c",
   "metadata": {},
   "outputs": [
    {
     "data": {
      "image/png": "[encoded data removed]",
      "text/plain": [
       "<Figure size 504x504 with 1 Axes>"
      ]
     },
     "metadata": {
      "needs_background": "light"
     },
     "output_type": "display_data"
    }
   ],
   "source": [
    "# Investigate DDN Prediction\n",
    "var_lep1_pt = {'variable': 'dnn_prediction',\n",
    "               'binning': np.linspace(0.998, 1, 8),\n",
    "               'xlabel': 'DNN prediction'}\n",
    "\n",
    "common.plot_hist_sum(var_lep1_pt, data_frames)"
   ]
  },
  {
   "cell_type": "code",
   "execution_count": 99,
   "id": "16315792",
   "metadata": {},
   "outputs": [
    {
     "name": "stdout",
     "output_type": "stream",
     "text": [
      "ggH125_ZZ4lep\n",
      "0.0\n",
      "VBFH125_ZZ4lep\n",
      "0.0\n",
      "WH125_ZZ4lep\n",
      "0.0\n",
      "ZH125_ZZ4lep\n",
      "0.0\n",
      "llll\n",
      "0.0\n",
      "Zee\n",
      "0.0\n",
      "Zmumu\n",
      "0.0\n",
      "ttbar_lep\n",
      "0.0\n"
     ]
    }
   ],
   "source": [
    "# Create a copy of the data frame\n",
    "apply_dnn_data_frames = data_frames.copy()\n",
    "\n",
    "# Apply the DNN value\n",
    "for sample in sample_list_signal + sample_list_background:\n",
    "    print(sample)\n",
    "    pass_dnn = apply_dnn_data_frames[sample]['dnn_prediction'] > 0.5\n",
    "    apply_dnn_data_frames[sample] = apply_dnn_data_frames[sample][pass_dnn]\n",
    "    print(len(apply_dnn_data_frames[sample])/len(data_frames[sample]))"
   ]
  },
  {
   "cell_type": "code",
   "execution_count": null,
   "id": "d56ffaea",
   "metadata": {},
   "outputs": [],
   "source": [
    "# leading lepton pt\n",
    "var_lep1_pt = {'variable': 'lep_m_llll',\n",
    "               'binning': np.linspace(0, 200, 40),\n",
    "               'xlabel': '$m_{llll}$ [GeV]'}\n",
    "\n",
    "common.plot_hist_sum(var_lep1_pt, apply_dnn_data_frames)"
   ]
  },
  {
   "cell_type": "markdown",
   "id": "eaebb200",
   "metadata": {},
   "source": [
    "# Validation"
   ]
  },
  {
   "cell_type": "code",
   "execution_count": null,
   "id": "061bfe73",
   "metadata": {},
   "outputs": [],
   "source": []
  }
 ],
 "metadata": {
  "kernelspec": {
   "display_name": "Python 3 (ipykernel)",
   "language": "python",
   "name": "python3"
  },
  "language_info": {
   "codemirror_mode": {
    "name": "ipython",
    "version": 3
   },
   "file_extension": ".py",
   "mimetype": "text/x-python",
   "name": "python",
   "nbconvert_exporter": "python",
   "pygments_lexer": "ipython3",
   "version": "3.9.14"
  }
 },
 "nbformat": 4,
 "nbformat_minor": 5
}
