{
 "cells": [
  {
   "cell_type": "markdown",
   "id": "2081cce3",
   "metadata": {},
   "source": [
    "# Discover the Higgs with Deep Neural Networks"
   ]
  },
  {
   "cell_type": "markdown",
   "id": "060ec659",
   "metadata": {},
   "source": [
    "The input data was created from 13 TeV ATLAS open data downloaded from http://opendata.atlas.cern/release/2020/documentation/index.html\n",
    "\n",
    "For more information read:<br>\n",
    "Review of the 13 TeV ATLAS Open Data release, Techn. Ber., All figures including auxiliary figures are available at https://atlas.web.cern.ch/Atlas/GROUPS/PHYSICS/PUBNOTES/ATL-OREACH-PUB-2020-001: CERN, 2020, url: http://cds.cern.ch/record/2707171"
   ]
  },
  {
   "cell_type": "markdown",
   "id": "3e312205",
   "metadata": {},
   "source": [
    "## Data Preparation"
   ]
  },
  {
   "cell_type": "markdown",
   "id": "8f5b2349",
   "metadata": {},
   "source": [
    "### Load the Data"
   ]
  },
  {
   "cell_type": "code",
   "execution_count": 1,
   "id": "f9615674",
   "metadata": {},
   "outputs": [],
   "source": [
    "# Necessary imports\n",
    "import numpy as np\n",
    "import matplotlib.pyplot as plt\n",
    "import pandas as pd\n",
    "from numpy.random import seed\n",
    "import common"
   ]
  },
  {
   "cell_type": "markdown",
   "id": "3357ffaf",
   "metadata": {},
   "source": [
    "The goal of this lab course is to train a deep neural network to separate Higgs boson signal from background events. The most important signal sample ggH125_ZZ4lep corresponds to the process gg->H->ZZ. The dominant background sample is llll resulting from Z and ZZ decays.\n",
    "After training the DNN model will be used to classify the events of the data samples.\n",
    "\n",
    "Higgs signal samples:\n",
    "- ggH125_ZZ4lep\n",
    "- VBFH125_ZZ4lep\n",
    "- WH125_ZZ4lep\n",
    "- ZH125_ZZ4lep\n",
    "\n",
    "Background samples:\n",
    "- llll\n",
    "- Zee\n",
    "- Zmumu\n",
    "- ttbar_lep\n",
    "\n",
    "Data samples:\n",
    "- data_A\n",
    "- data_B\n",
    "- data_C\n",
    "- data_D"
   ]
  },
  {
   "cell_type": "code",
   "execution_count": 2,
   "id": "22a2ae28",
   "metadata": {},
   "outputs": [],
   "source": [
    "# Define the input samples\n",
    "sample_list_signal = ['ggH125_ZZ4lep']\n",
    "sample_list_background = ['llll']\n",
    "sample_list_signal = ['ggH125_ZZ4lep', 'VBFH125_ZZ4lep', 'WH125_ZZ4lep', 'ZH125_ZZ4lep']\n",
    "sample_list_background = ['llll', 'Zee', 'Zmumu', 'ttbar_lep']\n",
    "sample_list_measured = ['data_A', 'data_B', 'data_C', 'data_D']"
   ]
  },
  {
   "cell_type": "code",
   "execution_count": 3,
   "id": "e1b2ae67",
   "metadata": {},
   "outputs": [],
   "source": [
    "# Read all the samples\n",
    "no_selection_data_frames = {}\n",
    "for sample in sample_list_signal + sample_list_background + sample_list_measured:\n",
    "    no_selection_data_frames[sample] = pd.read_csv('input/' + sample + \".csv\")"
   ]
  },
  {
   "cell_type": "markdown",
   "id": "27a1549c",
   "metadata": {},
   "source": [
    "### Input Variables"
   ]
  },
  {
   "cell_type": "markdown",
   "id": "fe06218b",
   "metadata": {},
   "source": [
    "The input provides several variables to classify the events. Since each event has multiple leptons, they were ordered in descending order based on their transverse momentum. Thus, lepton 1 has the highest transverse momentum, lepton 2 the second highest, and so on. <br>\n",
    "Most of the given variables can be called low-level, because they represent event or object properties, which can be derived directly from the reconstruction in the detector. In contrast to this are high-level variables, which result from the combination of several low-level variables. In the given dataset the only high-level variables are invariant masses of multiple particles:<br>\n",
    "$m_{inv} = \\sqrt{\\left(\\sum\\limits_{i=1}^{n} E_i\\right)^2 - \\left(\\sum\\limits_{i=1}^{n} \\vec{p}_i\\right)^2}$\n",
    "\n",
    "\n",
    "List of all available variables:<br>\n",
    "- Event number\n",
    " - Each simulated event has its own specific number. (not used for training)\n",
    " - Variable name: eventNumber\n",
    "- Scale and event weight\n",
    " - The scaling for a data set is given by the sum of event weights, the cross section, luminosity and a efficiency scale factor\n",
    " - Each event has an additional specific event weight\n",
    " - To combine simulated events and finally compare them to data each event has to be scaled by the total weight, the product of scale weight and event weight\n",
    " - The weight are not used for training\n",
    " - Variable name: scaleWeight, eventWeight, totalWeight\n",
    "- Number of jets\n",
    " - Jets are particle showers which result primarily from quarks and gluons\n",
    " - Variable name: jet_n\n",
    "- Invariant four lepton mass\n",
    " - The invariant mass $m_{inv}(l_1, l_2, l_3, l_4)$ of the four leptons is extremly sensitive to Higgs boson events. This variable is to be displayed later and thus not used for training\n",
    " - Variable name: lep_m_llll\n",
    "- Invariant two lepton mass\n",
    " - Invariant masses $m_{inv}(l_i, l_j)$ of all combinations of two leptons\n",
    " - Variable names: lep_m_ll_12, lep_m_ll_13, lep_m_ll_14, lep_m_ll_23, lep_m_ll_24, lep_m_ll_34\n",
    "- Transverse momentum of the leptons\n",
    " - The momentum in the plane transverse to the beam axis\n",
    " - Variable names: lep1_pt, lep2_pt, lep3_pt, lep4_pt\n",
    "- Lepton azimuthal angle\n",
    " - The azimuthal angle $\\phi$ is measured in the plane transverse to the beam axis\n",
    " - Variable name: lep1_phi, lep2_phi, lep3_phi, lep4_phi\n",
    "- Lepton pseudo rapidity\n",
    " - The angle $\\theta$ is measured between the lepton track and the beam axis. Since this angle is not invariant against boosts along the beam axis, the pseudo rapidity $\\eta = - \\ln{\\tan{\\frac{\\theta}{2}}}$ is primarily used in the ATLAS analyses\n",
    " - Variable names: lep1_eta, lep2_eta, lep3_eta, lep4_eta\n",
    "- Lepton energy\n",
    " - The energy of the leptons reconstructed from the calorimeter entries\n",
    " - Variable name:lep1_e, lep2_e, lep3_e, lep4_e\n",
    "- Lepton PDG-ID\n",
    " - The lepton type is classified by a n umber given by the Particle-Data-Group. The lepton types are $pdg-id(e)=11$, $pdg-id(\\mu)=13$ and $pdg-id(\\tau)=15$\n",
    " - Variable name: lep1_pdgId, lep2_pdgId, lep3_pdgId, lep4_pdgId\n",
    "- Lepton charge\n",
    " - The charge of the given lepton reconstructed by the lepton track\n",
    " - Variable name: lep1_charge, lep2_charge, lep3_charge, lep4_charge"
   ]
  },
  {
   "cell_type": "markdown",
   "id": "9a7d2bda",
   "metadata": {},
   "source": [
    "### Event Pre-Selection"
   ]
  },
  {
   "cell_type": "markdown",
   "id": "facd6d51",
   "metadata": {},
   "source": [
    "Although the final selection of the data is to be performed on the basis of a DNN, a rough pre-selection of the data is still useful.\n",
    "For this purpose, selection criteria are defined, which return either true or false based on the event kinematics and thus decide whether the respective event is kept or discarded.\n",
    "Suitable criteria for this analysis are very basic selections that must be clearly fulfilled by H->ZZ->llll processes.\n",
    "\n",
    "\n",
    "Hint: What lepton types and charges are expected in the final state?"
   ]
  },
  {
   "cell_type": "code",
   "execution_count": 4,
   "id": "ffa57853",
   "metadata": {},
   "outputs": [],
   "source": [
    "def cut_lep_type(lep_type_0, lep_type_1, lep_type_2, lep_type_3):\n",
    "    # Only keep events like eeee, mumumumu or eemumu\n",
    "    sum_lep_type = lep_type_0 + lep_type_1 + lep_type_2 + lep_type_3\n",
    "    return sum_lep_type == 44 or sum_lep_type == 48 or sum_lep_type == 52\n",
    "\n",
    "\n",
    "def cut_lep_charge(lep_charge_0, lep_charge_1, lep_charge_2, lep_charge_3):\n",
    "    # Only keep events where the sum of all lepton charges is zero\n",
    "    sum_lep_charge = lep_charge_0 + lep_charge_1 + lep_charge_2 + lep_charge_3\n",
    "    return sum_lep_charge == 0"
   ]
  },
  {
   "cell_type": "code",
   "execution_count": 5,
   "id": "13fc29db",
   "metadata": {},
   "outputs": [],
   "source": [
    "# Create a copy of the original data frame to investigate later\n",
    "data_frames = no_selection_data_frames.copy()\n",
    "\n",
    "# Apply the chosen selection criteria\n",
    "for sample in sample_list_signal + sample_list_background + sample_list_measured:\n",
    "    # Selection on lepton type\n",
    "    type_selection = np.vectorize(cut_lep_type)(\n",
    "        data_frames[sample].lep1_pdgId,\n",
    "        data_frames[sample].lep2_pdgId,\n",
    "        data_frames[sample].lep3_pdgId,\n",
    "        data_frames[sample].lep4_pdgId)\n",
    "    data_frames[sample] = data_frames[sample][type_selection]\n",
    "\n",
    "    # Selection on lepton charge\n",
    "    charge_selection = np.vectorize(cut_lep_charge)(\n",
    "        data_frames[sample].lep1_charge,\n",
    "        data_frames[sample].lep2_charge,\n",
    "        data_frames[sample].lep3_charge,\n",
    "        data_frames[sample].lep4_charge)\n",
    "    data_frames[sample] = data_frames[sample][charge_selection]"
   ]
  },
  {
   "cell_type": "markdown",
   "id": "94202a44",
   "metadata": {},
   "source": [
    "### Data Investigation"
   ]
  },
  {
   "cell_type": "markdown",
   "id": "7e11cc8e",
   "metadata": {},
   "source": [
    "Before one can decide which variables are suitable for training, one must first get a feel for the input variables.\n",
    "For this purpose, the input samples are merged into a set of signal events and a set of background events. Afterwards, the behavior of signal and background can be studied in multiple variables."
   ]
  },
  {
   "cell_type": "code",
   "execution_count": 6,
   "id": "591b7e64",
   "metadata": {},
   "outputs": [],
   "source": [
    "# Merge the signal and background data frames\n",
    "def merge_data_frames(sample_list, data_frames_dic):\n",
    "    for sample in sample_list:\n",
    "        if sample == sample_list[0]:\n",
    "            output_data_frame = data_frames_dic[sample]\n",
    "        else:\n",
    "            output_data_frame = pd.concat([output_data_frame, data_frames_dic[sample]], axis=0)\n",
    "    return output_data_frame\n",
    "\n",
    "data_frame_signal = merge_data_frames(sample_list_signal, data_frames)\n",
    "data_frame_background = merge_data_frames(sample_list_background, data_frames)\n",
    "data_frame_measured = merge_data_frames(sample_list_measured, data_frames)"
   ]
  },
  {
   "cell_type": "markdown",
   "id": "2906682a",
   "metadata": {},
   "source": [
    "The function common.plot_hist(variable, data_frame_1, data_frame_2) plots the given variable of the two data sets.\n",
    "The variable must be a dictionary containing atleast the variable to plot. Additionally one can also specify the binning (list or numpy array) and the xlabel. The created histogram is automatically saved in the plots directory<br>\n",
    "An example for the transverse momnetum of the leading lepton is given below:"
   ]
  },
  {
   "cell_type": "code",
   "execution_count": 7,
   "id": "8ae8494b",
   "metadata": {
    "scrolled": true
   },
   "outputs": [
    {
     "data": {
      "image/png": "[encoded data removed]",
      "text/plain": [
       "<Figure size 504x504 with 2 Axes>"
      ]
     },
     "metadata": {
      "needs_background": "light"
     },
     "output_type": "display_data"
    },
    {
     "data": {
      "image/png": "[encoded data removed]",
      "text/plain": [
       "<Figure size 504x504 with 2 Axes>"
      ]
     },
     "metadata": {
      "needs_background": "light"
     },
     "output_type": "display_data"
    }
   ],
   "source": [
    "# leading lepton pt\n",
    "var_lep1_pt = {'variable': 'lep1_pt',\n",
    "               'binning': np.linspace(0, 300, 50),\n",
    "               'xlabel': '$p_T$ (lep 1) [GeV]'}\n",
    "\n",
    "common.plot_hist(var_lep1_pt, data_frames)\n",
    "common.plot_normed_signal_vs_background(var_lep1_pt, data_frame_signal, data_frame_background)"
   ]
  },
  {
   "cell_type": "markdown",
   "id": "a38a5a5e",
   "metadata": {},
   "source": [
    "Investigate the signal vs background ratio before the training"
   ]
  },
  {
   "cell_type": "code",
   "execution_count": 8,
   "id": "b7415e53",
   "metadata": {
    "scrolled": true
   },
   "outputs": [
    {
     "name": "stdout",
     "output_type": "stream",
     "text": [
      "There are 9.7 signal (370040 raw MC events) and 390.61 backgound events (524791 raw MC events)\n",
      "This gives a purity of 2.48%\n"
     ]
    }
   ],
   "source": [
    "signal_event_number = sum(data_frame_signal.totalWeight)\n",
    "background_event_number = sum(data_frame_background.totalWeight)\n",
    "signal_background_ratio = signal_event_number/background_event_number\n",
    "print(f'There are {round(signal_event_number, 2)} signal ({len(data_frame_signal)} raw MC events) and {round(background_event_number, 2)} backgound events ({len(data_frame_background)} raw MC events)\\nThis gives a purity of {round(signal_background_ratio*100, 2)}%')"
   ]
  },
  {
   "cell_type": "markdown",
   "id": "ceb9ac87",
   "metadata": {},
   "source": [
    "Investigate the amount of negative event weights"
   ]
  },
  {
   "cell_type": "code",
   "execution_count": 9,
   "id": "e7ee38c4",
   "metadata": {},
   "outputs": [
    {
     "name": "stdout",
     "output_type": "stream",
     "text": [
      "ggH125_ZZ4lep:\n",
      "Number of raw events: 161451\n",
      "Number of events:     8.7\n",
      "Negative raw events:  0.21%\n",
      "Negative events:      0.22%\n",
      "\n",
      "VBFH125_ZZ4lep:\n",
      "Number of raw events: 186870\n",
      "Number of events:     0.78\n",
      "Negative raw events:  0.18%\n",
      "Negative events:      0.19%\n",
      "\n",
      "WH125_ZZ4lep:\n",
      "Number of raw events: 9772\n",
      "Number of events:     0.22\n",
      "Negative raw events:  0.0%\n",
      "Negative events:      0.0%\n",
      "\n",
      "ZH125_ZZ4lep:\n",
      "Number of raw events: 11947\n",
      "Number of events:     0.0\n",
      "Negative raw events:  0.0%\n",
      "Negative events:      0.0%\n",
      "\n",
      "llll:\n",
      "Number of raw events: 523957\n",
      "Number of events:     266.55\n",
      "Negative raw events:  10.36%\n",
      "Negative events:      32.17%\n",
      "\n",
      "Zee:\n",
      "Number of raw events: 243\n",
      "Number of events:     43.42\n",
      "Negative raw events:  5.76%\n",
      "Negative events:      8.49%\n",
      "\n",
      "Zmumu:\n",
      "Number of raw events: 257\n",
      "Number of events:     52.33\n",
      "Negative raw events:  1.95%\n",
      "Negative events:      2.1%\n",
      "\n",
      "ttbar_lep:\n",
      "Number of raw events: 334\n",
      "Number of events:     28.31\n",
      "Negative raw events:  0.0%\n",
      "Negative events:      0.0%\n",
      "\n"
     ]
    }
   ],
   "source": [
    "for sample in sample_list_signal + sample_list_background:\n",
    "    print(f'{sample}:')\n",
    "    n_events = sum(data_frames[sample]['totalWeight'])\n",
    "    n_events_raw = len(data_frames[sample]['totalWeight'])\n",
    "    n_events_neg = sum(data_frames[sample]['totalWeight'] * (data_frames[sample]['totalWeight'] < 0))\n",
    "    n_events_neg_raw = sum(list(data_frames[sample]['totalWeight'] < 0))\n",
    "    print(f'Number of raw events: {n_events_raw}')\n",
    "    print(f'Number of events:     {round(n_events, 2)}')\n",
    "    print(f'Negative raw events:  {round(100 * n_events_neg_raw / n_events_raw, 2)}%')\n",
    "    print(f'Negative events:      {abs(round(100 * n_events_neg / n_events, 2))}%')\n",
    "    print()"
   ]
  },
  {
   "cell_type": "markdown",
   "id": "a74ea3bc",
   "metadata": {},
   "source": [
    "## Training"
   ]
  },
  {
   "cell_type": "markdown",
   "id": "254918e6",
   "metadata": {},
   "source": [
    "In this chapter, the DNN is trained. Define the input variables for the classification. Feel free to test different combinations of low-level and high-level variables. Additionally, you can modify the structure of the DNN to gain optimal training results. When the setup is done, train the DNN, test it and redo this until you are happy with the result."
   ]
  },
  {
   "cell_type": "code",
   "execution_count": 10,
   "id": "ac0e9914",
   "metadata": {},
   "outputs": [],
   "source": [
    "# The training input variables\n",
    "training_variables = ['lep1_pt', 'lep2_pt', 'lep3_pt', 'lep4_pt']\n",
    "training_variables += ['lep1_charge', 'lep2_charge', 'lep3_charge', 'lep4_charge']\n",
    "training_variables += ['lep1_pdgId', 'lep2_pdgId', 'lep3_pdgId', 'lep4_pdgId']\n",
    "training_variables += ['lep1_phi', 'lep2_phi', 'lep3_phi', 'lep4_phi']\n",
    "training_variables += ['lep1_eta', 'lep2_eta', 'lep3_eta', 'lep4_eta']\n",
    "training_variables += ['lep_m_ll_12', 'lep_m_ll_13', 'lep_m_ll_14', 'lep_m_ll_23', 'lep_m_ll_24', 'lep_m_ll_34']"
   ]
  },
  {
   "cell_type": "code",
   "execution_count": 11,
   "id": "5a528eaf",
   "metadata": {},
   "outputs": [],
   "source": [
    "# Create the training input\n",
    "values = []\n",
    "weights = []\n",
    "classification = []\n",
    "for sample in sample_list_signal + sample_list_background:\n",
    "    # Classify signal and background (and skip if data)\n",
    "    if sample in sample_list_signal:\n",
    "        # 1 if signal\n",
    "        classification.append(np.ones(len(data_frames[sample])))\n",
    "    elif sample in sample_list_background:\n",
    "        # 0 if background\n",
    "        classification.append(np.zeros(len(data_frames[sample])))\n",
    "    else:\n",
    "        continue\n",
    "    # input values\n",
    "    values.append(data_frames[sample][training_variables])\n",
    "    weights.append(data_frames[sample]['totalWeight'])\n",
    "\n",
    "# Merge the input\n",
    "values = np.concatenate(values)\n",
    "weights = np.concatenate(weights)\n",
    "classification = np.concatenate(classification)"
   ]
  },
  {
   "cell_type": "markdown",
   "id": "6466faa7",
   "metadata": {},
   "source": [
    "The data set is split in a training, test and validation set. To have enough data to train use a splitting of 80%:10%:10%"
   ]
  },
  {
   "cell_type": "code",
   "execution_count": 12,
   "id": "4f0035b0",
   "metadata": {},
   "outputs": [],
   "source": [
    "from sklearn.model_selection import train_test_split"
   ]
  },
  {
   "cell_type": "markdown",
   "id": "36847a78",
   "metadata": {},
   "source": [
    "Rescale the weights and keep the sample ratio?"
   ]
  },
  {
   "cell_type": "code",
   "execution_count": 13,
   "id": "8138d55c",
   "metadata": {},
   "outputs": [],
   "source": [
    "def reweight_weights(weights, classification):\n",
    "    # Take the absolute weight\n",
    "    weights_abs = np.abs(weights)\n",
    "    # Split in signal and background weights\n",
    "    weights_signal = weights_abs*classification\n",
    "    weights_background = weights_abs*(1 - classification)\n",
    "    # Set ratio of signal and backgroubnd to one\n",
    "    weights_reweighted = weights_background + weights_signal * sum(weights_background) / sum(weights_signal)\n",
    "    # Normalize mean weight to one\n",
    "    weights_reweighted /= weights_reweighted.mean()\n",
    "    return weights_reweighted"
   ]
  },
  {
   "cell_type": "code",
   "execution_count": 14,
   "id": "bd8a4906",
   "metadata": {},
   "outputs": [],
   "source": [
    "random_state = 100\n",
    "\n",
    "# Train data\n",
    "train_values, test_val_values, train_classification, test_val_classification = train_test_split(values, classification, test_size=0.2, random_state=random_state)\n",
    "train_weights, test_val_weights = train_test_split(weights, classification, test_size=0.2, random_state=random_state)[:2]\n",
    "\n",
    "# Test and validation data\n",
    "test_values, val_values, test_classification, val_classification = train_test_split(test_val_values, test_val_classification, test_size=0.5, random_state=random_state)\n",
    "test_weights, val_weights = train_test_split(test_val_weights, test_val_classification, test_size=0.5, random_state=random_state)[:2]\n",
    "\n",
    "# Get reweighted weights\n",
    "train_weights_reweighted = reweight_weights(train_weights, train_classification)\n",
    "test_weights_reweighted = reweight_weights(test_weights, test_classification)\n",
    "val_weights_reweighted = reweight_weights(val_weights, val_classification)"
   ]
  },
  {
   "cell_type": "code",
   "execution_count": 15,
   "id": "6a0e549d",
   "metadata": {},
   "outputs": [],
   "source": [
    "# scale inputs\n",
    "from sklearn.preprocessing import StandardScaler\n",
    "\n",
    "scaler = StandardScaler()\n",
    "scaler.fit(train_values)\n",
    "train_values = scaler.transform(train_values)\n",
    "test_values = scaler.transform(test_values)\n",
    "val_values = scaler.transform(val_values)"
   ]
  },
  {
   "cell_type": "code",
   "execution_count": 16,
   "id": "f1cf62dc",
   "metadata": {},
   "outputs": [],
   "source": [
    "# Import the tensorflow module to create a DNN\n",
    "\n",
    "import tensorflow as tf\n",
    "import pandas as pd\n",
    "from tensorflow.python.framework.ops import disable_eager_execution\n",
    "\n",
    "disable_eager_execution()"
   ]
  },
  {
   "cell_type": "markdown",
   "id": "467e845a",
   "metadata": {},
   "source": [
    "Create you DNN consisting of several layers. \n",
    "\n",
    "A full list of layer types can be found here https://www.tensorflow.org/api_docs/python/tf/keras/layers <br>\n",
    "Some important examples for layers are:\n",
    "- Dense: a densely connected NN layer\n",
    "- Flatten: flattens the input\n",
    "- Dropout: randomly sets input to 0. Can decrease overtraining\n",
    "\n",
    "The neurons of each layer are activated by the so called activation function. <br>\n",
    "A full list of provided activation functions can be found here https://www.tensorflow.org/api_docs/python/tf/keras/activations <br>\n",
    "Some examples are:\n",
    "- linear: $linear(x) = x$\n",
    "- relu: linear for $x>0$ ($relu(x) = max(0, x)$)\n",
    "- exponential: $exponential(x) = e^x$\n",
    "- sigmoid: $sigmoid(x) = 1 / (1 + e^{-x})$\n",
    "\n",
    "To classify background and signal the last layer should only consist of one neuron which has an activation between 0 and 1"
   ]
  },
  {
   "cell_type": "code",
   "execution_count": 17,
   "id": "541ee86d",
   "metadata": {},
   "outputs": [],
   "source": [
    "def get_model(n_layers, n_nodes):\n",
    "    model_layers = []\n",
    "    for i_layer in range(n_layers):\n",
    "        model_layers.append(tf.keras.layers.Dense(n_nodes, activation='relu'))\n",
    "    model_layers.append(tf.keras.layers.Dense(1, activation='sigmoid'))\n",
    "    model = tf.keras.models.Sequential(model_layers)\n",
    "    return model"
   ]
  },
  {
   "cell_type": "code",
   "execution_count": 25,
   "id": "b80e881c",
   "metadata": {},
   "outputs": [
    {
     "name": "stdout",
     "output_type": "stream",
     "text": [
      "[(8, 10)]\n"
     ]
    }
   ],
   "source": [
    "import itertools\n",
    "n_layers = [2, 4, 6]\n",
    "n_nodes = [10, 50, 100]\n",
    "n_layers = [4, 6, 8]\n",
    "n_nodes = [20, 40, 60]\n",
    "n_layers = [7, 8, 10]\n",
    "n_nodes = [10, 20, 30]\n",
    "n_layers = [8]\n",
    "n_nodes = [10]\n",
    "hyper_parameters = list(itertools.product(n_layers, n_nodes))\n",
    "print(hyper_parameters)\n",
    "models = {}\n",
    "for (n_layers, n_nodes) in hyper_parameters:\n",
    "    model_name = f'dnn_{str(n_layers)}_{str(n_nodes)}'\n",
    "    models[model_name] = {'model': get_model(n_layers, n_nodes)}"
   ]
  },
  {
   "cell_type": "markdown",
   "id": "08bb5240",
   "metadata": {},
   "source": [
    "While training, the parameters of the neural network are modified to increase the agreement between the classification of the training data by the neural network and the actual splitting in signal and background. \n",
    "The agreement is specified by a loss-function, which decreses with increasing agreement. Analogous to a Chi2 fit, the fit to the training data is done by determining the minimum of the loss-function. The choice of the specific loss-function has to be adapted to the problem the neural network has to solve. <br>\n",
    "\n",
    "The list of available loss-functions are listed here https://www.tensorflow.org/api_docs/python/tf/keras/losses\n",
    "For the binary (0 or 1) classification problem of the signal background separation the BinaryCrossentropy is used. <br>\n",
    "<b> Give more information!!! </b>"
   ]
  },
  {
   "cell_type": "code",
   "execution_count": 26,
   "id": "4fe2b485",
   "metadata": {},
   "outputs": [],
   "source": [
    "loss_fn = tf.keras.losses.BinaryCrossentropy(from_logits=False)"
   ]
  },
  {
   "cell_type": "markdown",
   "id": "8535bcb1",
   "metadata": {},
   "source": [
    "For the optimization of the loss-function different optimization algorithms can be used (see https://www.tensorflow.org/api_docs/python/tf/keras/optimizers). <br>\n",
    "The performance of the learning process is given by the metric (see https://www.tensorflow.org/api_docs/python/tf/keras/metrics)"
   ]
  },
  {
   "cell_type": "code",
   "execution_count": 27,
   "id": "c60c5f74",
   "metadata": {},
   "outputs": [],
   "source": [
    "for model_name in models:\n",
    "    models[model_name]['model'].compile(optimizer=tf.keras.optimizers.Adam(learning_rate=0.0001, beta_1=0.9),\n",
    "                                        loss=loss_fn,\n",
    "                                        weighted_metrics=['binary_accuracy'])"
   ]
  },
  {
   "cell_type": "markdown",
   "id": "84a39a2b",
   "metadata": {},
   "source": [
    "Early stopping"
   ]
  },
  {
   "cell_type": "code",
   "execution_count": 28,
   "id": "60823bf4",
   "metadata": {},
   "outputs": [],
   "source": [
    "early_stopping = tf.keras.callbacks.EarlyStopping(monitor='val_loss', patience=5, restore_best_weights=True)"
   ]
  },
  {
   "cell_type": "code",
   "execution_count": 29,
   "id": "3b29dc6f",
   "metadata": {},
   "outputs": [
    {
     "name": "stdout",
     "output_type": "stream",
     "text": [
      "Start training for dnn_8_10:\n",
      "Train on 715864 samples, validate on 89484 samples\n",
      "Epoch 1/1000\n",
      "715864/715864 [==============================] - 40s 56us/sample - loss: 0.4603 - binary_accuracy: 0.7854 - val_loss: 0.4039 - val_binary_accuracy: 0.8228\n",
      "Epoch 2/1000\n",
      "715864/715864 [==============================] - 35s 49us/sample - loss: 0.3859 - binary_accuracy: 0.8289 - val_loss: 0.3652 - val_binary_accuracy: 0.8442\n",
      "Epoch 3/1000\n",
      "715864/715864 [==============================] - 34s 48us/sample - loss: 0.3489 - binary_accuracy: 0.8435 - val_loss: 0.3274 - val_binary_accuracy: 0.8536\n",
      "Epoch 4/1000\n",
      "715864/715864 [==============================] - 37s 51us/sample - loss: 0.2825 - binary_accuracy: 0.8847 - val_loss: 0.2465 - val_binary_accuracy: 0.9163\n",
      "Epoch 5/1000\n",
      "715864/715864 [==============================] - 49s 68us/sample - loss: 0.2168 - binary_accuracy: 0.9264 - val_loss: 0.2064 - val_binary_accuracy: 0.9322\n",
      "Epoch 6/1000\n",
      "715864/715864 [==============================] - 59s 83us/sample - loss: 0.1892 - binary_accuracy: 0.9364 - val_loss: 0.2014 - val_binary_accuracy: 0.9317\n",
      "Epoch 7/1000\n",
      "715864/715864 [==============================] - 57s 80us/sample - loss: 0.1771 - binary_accuracy: 0.9412 - val_loss: 0.1812 - val_binary_accuracy: 0.9400\n",
      "Epoch 8/1000\n",
      "715864/715864 [==============================] - 50s 70us/sample - loss: 0.1720 - binary_accuracy: 0.9412 - val_loss: 0.1749 - val_binary_accuracy: 0.9427\n",
      "Epoch 9/1000\n",
      "715864/715864 [==============================] - 49s 69us/sample - loss: 0.1663 - binary_accuracy: 0.9442 - val_loss: 0.1723 - val_binary_accuracy: 0.9414\n",
      "Epoch 10/1000\n",
      "715864/715864 [==============================] - 49s 68us/sample - loss: 0.1620 - binary_accuracy: 0.9450 - val_loss: 0.1694 - val_binary_accuracy: 0.9425\n",
      "Epoch 11/1000\n",
      "715864/715864 [==============================] - 100s 139us/sample - loss: 0.1573 - binary_accuracy: 0.9464 - val_loss: 0.1679 - val_binary_accuracy: 0.9456\n",
      "Epoch 12/1000\n",
      "715864/715864 [==============================] - 89s 125us/sample - loss: 0.1548 - binary_accuracy: 0.9477 - val_loss: 0.1676 - val_binary_accuracy: 0.9433\n",
      "Epoch 13/1000\n",
      "715864/715864 [==============================] - 90s 126us/sample - loss: 0.1515 - binary_accuracy: 0.9485 - val_loss: 0.1669 - val_binary_accuracy: 0.9464\n",
      "Epoch 14/1000\n",
      "715864/715864 [==============================] - 80s 112us/sample - loss: 0.1509 - binary_accuracy: 0.9497 - val_loss: 0.1618 - val_binary_accuracy: 0.9450\n",
      "Epoch 15/1000\n",
      "715864/715864 [==============================] - 62s 87us/sample - loss: 0.1480 - binary_accuracy: 0.9499 - val_loss: 0.1671 - val_binary_accuracy: 0.9433\n",
      "Epoch 16/1000\n",
      "715864/715864 [==============================] - 63s 87us/sample - loss: 0.1460 - binary_accuracy: 0.9516 - val_loss: 0.1628 - val_binary_accuracy: 0.9476\n",
      "Epoch 17/1000\n",
      "715864/715864 [==============================] - 54s 76us/sample - loss: 0.1463 - binary_accuracy: 0.9523 - val_loss: 0.1603 - val_binary_accuracy: 0.9472\n",
      "Epoch 18/1000\n",
      "715864/715864 [==============================] - 51s 72us/sample - loss: 0.1435 - binary_accuracy: 0.9531 - val_loss: 0.1770 - val_binary_accuracy: 0.9412\n",
      "Epoch 19/1000\n",
      "715864/715864 [==============================] - 49s 69us/sample - loss: 0.1417 - binary_accuracy: 0.9529 - val_loss: 0.1540 - val_binary_accuracy: 0.9475\n",
      "Epoch 20/1000\n",
      "715864/715864 [==============================] - 60s 84us/sample - loss: 0.1430 - binary_accuracy: 0.9532 - val_loss: 0.1615 - val_binary_accuracy: 0.9469\n",
      "Epoch 21/1000\n",
      "715864/715864 [==============================] - 56s 78us/sample - loss: 0.1402 - binary_accuracy: 0.9521 - val_loss: 0.1577 - val_binary_accuracy: 0.9476\n",
      "Epoch 22/1000\n",
      "715864/715864 [==============================] - 54s 75us/sample - loss: 0.1405 - binary_accuracy: 0.9522 - val_loss: 0.1603 - val_binary_accuracy: 0.9489\n",
      "Epoch 23/1000\n",
      "715864/715864 [==============================] - 52s 72us/sample - loss: 0.1401 - binary_accuracy: 0.9548 - val_loss: 0.1580 - val_binary_accuracy: 0.9467\n",
      "Epoch 24/1000\n",
      "715864/715864 [==============================] - 70s 98us/sample - loss: 0.1380 - binary_accuracy: 0.9542 - val_loss: 0.1561 - val_binary_accuracy: 0.9476\n"
     ]
    }
   ],
   "source": [
    "for model_name in models:\n",
    "    print(f'Start training for {model_name}:')\n",
    "    history = models[model_name]['model'].fit(train_values, train_classification, sample_weight=train_weights_reweighted, validation_data=(val_values, val_classification, val_weights_reweighted), callbacks=[early_stopping], epochs=1000)\n",
    "    models[model_name]['history'] = history"
   ]
  },
  {
   "cell_type": "code",
   "execution_count": 30,
   "id": "ba07b18c",
   "metadata": {},
   "outputs": [
    {
     "data": {
      "image/png": "[encoded data removed]",
      "text/plain": [
       "<Figure size 432x288 with 1 Axes>"
      ]
     },
     "metadata": {
      "needs_background": "light"
     },
     "output_type": "display_data"
    }
   ],
   "source": [
    "color_list = ['red', 'orange', 'blue', 'peru', 'purple', 'lime', 'cyan', 'darkgreen', 'darkred']\n",
    "model_list = list(models.keys())\n",
    "model_colors = {}\n",
    "for i in range(len(models)):\n",
    "    model_name = model_list[i]\n",
    "    model_colors[model_name] = color_list[i]\n",
    "\n",
    "for model_name in models:\n",
    "    plt.plot(models[model_name]['history'].history['loss'], color=model_colors[model_name], linestyle='--', linewidth=0.8)\n",
    "    plt.plot(models[model_name]['history'].history['val_loss'], label=f'{model_name}', color=model_colors[model_name], linewidth=0.8)\n",
    "\n",
    "plt.title('model loss')\n",
    "plt.ylabel('loss')\n",
    "plt.xlabel('epoch')\n",
    "plt.legend(loc='center left', bbox_to_anchor=(1, 0.5))\n",
    "layers_string = str(n_layers).replace(' ', '')\n",
    "nodes_string = str(n_nodes).replace(' ', '')\n",
    "plt.tight_layout()\n",
    "plt.savefig(f'plots/layers_{layers_string}_nodes_{nodes_string}_train_comparison.pdf')\n",
    "plt.show()"
   ]
  },
  {
   "cell_type": "markdown",
   "id": "43995bda",
   "metadata": {},
   "source": [
    "## Evaluate the Model"
   ]
  },
  {
   "cell_type": "code",
   "execution_count": 31,
   "id": "b1e9ea20",
   "metadata": {},
   "outputs": [],
   "source": [
    "from sklearn import metrics"
   ]
  },
  {
   "cell_type": "code",
   "execution_count": 32,
   "id": "ada8fabb",
   "metadata": {},
   "outputs": [
    {
     "name": "stderr",
     "output_type": "stream",
     "text": [
      "/usr/local/lib/python3.9/site-packages/keras/engine/training_v1.py:2079: UserWarning: `Model.state_updates` will be removed in a future version. This property should not be used in TensorFlow 2.0, as `updates` are applied automatically.\n",
      "  updates=self.state_updates,\n"
     ]
    },
    {
     "name": "stdout",
     "output_type": "stream",
     "text": [
      "dnn_8_10: \tROC = 0.982  \tval_loss = 0.154 \tval_acc = 94.8% \tval/train_loss = 1.143\n"
     ]
    }
   ],
   "source": [
    "for model_name in models:\n",
    "    # ROC curve\n",
    "    val_prediction = models[model_name]['model'].predict(val_values)\n",
    "    fpr, tpr, thresholds = metrics.roc_curve(val_classification, val_prediction, sample_weight=val_weights_reweighted)\n",
    "    roc_auc = metrics.auc(fpr, tpr)\n",
    "    models[model_name]['roc_auc'] = roc_auc\n",
    "    \n",
    "    # Model history\n",
    "    history_train_loss = models[model_name]['history'].history['loss']\n",
    "    history_train_accuracy = models[model_name]['history'].history['binary_accuracy']\n",
    "    history_val_loss = models[model_name]['history'].history['val_loss']\n",
    "    history_val_accuracy = models[model_name]['history'].history['val_binary_accuracy']\n",
    "    \n",
    "    # Model evaluation\n",
    "    val_loss, val_accuracy = models[model_name]['model'].evaluate(val_values, val_classification, sample_weight=val_weights_reweighted)\n",
    "    train_loss, train_accuracy = models[model_name]['model'].evaluate(train_values, train_classification, sample_weight=train_weights_reweighted)\n",
    "    \n",
    "    models[model_name]['roc_auc'] = roc_auc\n",
    "    models[model_name]['history_train_loss'] = history_train_loss\n",
    "    models[model_name]['history_train_accuracy'] = history_train_accuracy\n",
    "    models[model_name]['history_val_loss'] = history_val_loss\n",
    "    models[model_name]['history_val_accuracy'] = history_val_accuracy\n",
    "    models[model_name]['train_loss'] = train_loss\n",
    "    models[model_name]['train_accuracy'] = train_accuracy\n",
    "    models[model_name]['val_loss'] = val_loss\n",
    "    models[model_name]['val_accuracy'] = val_accuracy\n",
    "    print(f'{model_name}: \\tROC = {round(roc_auc, 3)}  \\tval_loss = {round(val_loss,3)} \\tval_acc = {round(val_accuracy*100,1)}% \\tval/train_loss = {round(val_loss/train_loss,3)}')"
   ]
  },
  {
   "cell_type": "code",
   "execution_count": 33,
   "id": "335e4371",
   "metadata": {},
   "outputs": [
    {
     "data": {
      "image/png": "[encoded data removed]",
      "text/plain": [
       "<Figure size 432x288 with 2 Axes>"
      ]
     },
     "metadata": {
      "needs_background": "light"
     },
     "output_type": "display_data"
    },
    {
     "data": {
      "image/png": "[encoded data removed]",
      "text/plain": [
       "<Figure size 432x288 with 2 Axes>"
      ]
     },
     "metadata": {
      "needs_background": "light"
     },
     "output_type": "display_data"
    },
    {
     "data": {
      "image/png": "[encoded data removed]",
      "text/plain": [
       "<Figure size 432x288 with 2 Axes>"
      ]
     },
     "metadata": {
      "needs_background": "light"
     },
     "output_type": "display_data"
    },
    {
     "data": {
      "image/png": "[encoded data removed]",
      "text/plain": [
       "<Figure size 432x288 with 2 Axes>"
      ]
     },
     "metadata": {
      "needs_background": "light"
     },
     "output_type": "display_data"
    }
   ],
   "source": [
    "import seaborn as sns\n",
    "\n",
    "evaluation_full = {'roc_auc': [],'n_layers': [], 'n_nodes': [], 'roc_auc': [], 'val_loss': [], 'val_accuracy': [], 'val/train_loss': []}\n",
    "\n",
    "for model_name in models:\n",
    "    eval_n_layers = int(model_name.split('_')[1])\n",
    "    eval_n_nodes = int(model_name.split('_')[2])\n",
    "    evaluation_full['n_layers'].append(eval_n_layers)\n",
    "    evaluation_full['n_nodes'].append(eval_n_nodes)\n",
    "    evaluation_full['roc_auc'].append(models[model_name]['roc_auc'])\n",
    "    evaluation_full['val_loss'].append(models[model_name]['val_loss'])\n",
    "    evaluation_full['val_accuracy'].append(models[model_name]['val_accuracy'])\n",
    "    evaluation_full['val/train_loss'].append(models[model_name]['val_loss']/models[model_name]['train_loss'])\n",
    "\n",
    "evaluation_full_df = pd.DataFrame(evaluation_full)\n",
    "\n",
    "for eval in ['roc_auc', 'val_loss', 'val_accuracy', 'val/train_loss']:\n",
    "    pivot = evaluation_full_df.pivot(index='n_layers', columns='n_nodes', values=eval)\n",
    "    sns.heatmap(pivot, cbar_kws={'label': eval}, cmap='crest')\n",
    "    plt.title(eval)\n",
    "    \n",
    "    eval_string = eval.replace('/', '_')\n",
    "    layers_string = str(list(set(evaluation_full_df['n_layers']))).replace(' ', '')\n",
    "    nodes_string = str(list(set(evaluation_full_df['n_nodes']))).replace(' ', '')\n",
    "    plt.savefig(f'plots/layers_{layers_string}_nodes_{nodes_string}_evaluate_{eval_string}.pdf')\n",
    "    plt.show()"
   ]
  },
  {
   "cell_type": "code",
   "execution_count": 34,
   "id": "555ccb17",
   "metadata": {},
   "outputs": [],
   "source": [
    "def get_prediction_signal_background(model, values, weights, classifications, scale=1):\n",
    "    predictions = model.predict(values)\n",
    "    signal_prediction = []\n",
    "    signal_weight = []\n",
    "    background_prediction = []\n",
    "    background_weight = []\n",
    "    for prediction, weight, classification in zip(predictions, weights, classifications):\n",
    "        if classification == 1:\n",
    "            signal_prediction.append(prediction[0])\n",
    "            signal_weight.append(weight)\n",
    "        else:\n",
    "            background_prediction.append(prediction[0])\n",
    "            background_weight.append(weight)\n",
    "    prediction = [np.array(background_prediction), np.array(signal_prediction)]\n",
    "    weights = [np.array(background_weight)*scale, np.array(signal_weight)*scale]\n",
    "    return prediction, weights"
   ]
  },
  {
   "cell_type": "code",
   "execution_count": 35,
   "id": "dd25864b",
   "metadata": {},
   "outputs": [
    {
     "data": {
      "image/png": "[encoded data removed]",
      "text/plain": [
       "<Figure size 432x288 with 1 Axes>"
      ]
     },
     "metadata": {
      "needs_background": "light"
     },
     "output_type": "display_data"
    },
    {
     "data": {
      "text/plain": [
       "<Figure size 432x288 with 0 Axes>"
      ]
     },
     "metadata": {},
     "output_type": "display_data"
    }
   ],
   "source": [
    "binning = np.linspace(0.9, 1, 11)\n",
    "for model_name in models:\n",
    "    # ROC curve\n",
    "    model = models[model_name]['model']\n",
    "    prediction, weights = get_prediction_signal_background(model, val_values, val_weights, val_classification, scale=10)\n",
    "    plt.hist(prediction, weights=weights,\n",
    "             label=['val background', 'val signal'], color=['blue', 'red'],\n",
    "             bins=binning, alpha = 0.4, stacked=True)\n",
    "    prediction, weights = get_prediction_signal_background(model, train_values, train_weights, train_classification, scale=1/0.8)\n",
    "    plt.hist(prediction, weights=weights,\n",
    "             label=['train background', 'train signal'], color=['green', 'sienna'], histtype='step',\n",
    "             bins=binning, stacked=True)\n",
    "    plt.title(model_name)\n",
    "    plt.xlabel('DNN output')\n",
    "    plt.legend(loc='center left', bbox_to_anchor=(1, 0.5))\n",
    "    plt.tight_layout()\n",
    "    plt.savefig(f'plots/{model_name}_val_prediction.pdf')\n",
    "    plt.show()\n",
    "    _ = plt.clf()"
   ]
  },
  {
   "cell_type": "markdown",
   "id": "eaebb200",
   "metadata": {},
   "source": [
    "# Validation"
   ]
  },
  {
   "cell_type": "code",
   "execution_count": 36,
   "id": "061bfe73",
   "metadata": {},
   "outputs": [
    {
     "data": {
      "image/png": "[encoded data removed]",
      "text/plain": [
       "<Figure size 432x288 with 1 Axes>"
      ]
     },
     "metadata": {
      "needs_background": "light"
     },
     "output_type": "display_data"
    },
    {
     "data": {
      "text/plain": [
       "<Figure size 432x288 with 0 Axes>"
      ]
     },
     "metadata": {},
     "output_type": "display_data"
    }
   ],
   "source": [
    "binning = np.linspace(0.9, 1, 11)\n",
    "for model_name in models:\n",
    "    # ROC curve\n",
    "    model = models[model_name]['model']\n",
    "    prediction, weights = get_prediction_signal_background(model, test_values, test_weights, test_classification, scale=10)\n",
    "    plt.hist(prediction, weights=weights,\n",
    "             label=['test background', 'test signal'], color=['blue', 'red'],\n",
    "             bins=binning, alpha = 0.2, stacked=True)\n",
    "    prediction, weights = get_prediction_signal_background(model, val_values, val_weights, val_classification, scale=10)\n",
    "    plt.hist(prediction, weights=weights,\n",
    "             label=['val background', 'val signal'], color=['violet', 'orange'],\n",
    "             bins=binning, stacked=True, histtype='step')\n",
    "    prediction, weights = get_prediction_signal_background(model, train_values, train_weights, train_classification, scale=1/0.8)\n",
    "    plt.hist(prediction, weights=weights,\n",
    "             label=['train background', 'train signal'], color=['green', 'sienna'], histtype='step',\n",
    "             bins=binning, stacked=True)\n",
    "    plt.title(model_name)\n",
    "    plt.xlabel('DNN output')\n",
    "    plt.legend(loc='center left', bbox_to_anchor=(1, 0.5))\n",
    "    plt.tight_layout()\n",
    "    plt.savefig(f'plots/{model_name}_test_prediction.pdf')\n",
    "    plt.show()\n",
    "    _ = plt.clf()"
   ]
  },
  {
   "cell_type": "markdown",
   "id": "dccdecfd",
   "metadata": {},
   "source": [
    "# Apply to Model"
   ]
  },
  {
   "cell_type": "code",
   "execution_count": 37,
   "id": "1a82f581",
   "metadata": {},
   "outputs": [
    {
     "name": "stdout",
     "output_type": "stream",
     "text": [
      "Apply Model for ggH125_ZZ4lep\n"
     ]
    },
    {
     "name": "stderr",
     "output_type": "stream",
     "text": [
      "/usr/local/lib/python3.9/site-packages/sklearn/base.py:443: UserWarning: X has feature names, but StandardScaler was fitted without feature names\n",
      "  warnings.warn(\n"
     ]
    },
    {
     "name": "stdout",
     "output_type": "stream",
     "text": [
      "Apply Model for VBFH125_ZZ4lep\n"
     ]
    },
    {
     "name": "stderr",
     "output_type": "stream",
     "text": [
      "/usr/local/lib/python3.9/site-packages/sklearn/base.py:443: UserWarning: X has feature names, but StandardScaler was fitted without feature names\n",
      "  warnings.warn(\n"
     ]
    },
    {
     "name": "stdout",
     "output_type": "stream",
     "text": [
      "Apply Model for WH125_ZZ4lep\n"
     ]
    },
    {
     "name": "stderr",
     "output_type": "stream",
     "text": [
      "/usr/local/lib/python3.9/site-packages/sklearn/base.py:443: UserWarning: X has feature names, but StandardScaler was fitted without feature names\n",
      "  warnings.warn(\n"
     ]
    },
    {
     "name": "stdout",
     "output_type": "stream",
     "text": [
      "Apply Model for ZH125_ZZ4lep\n"
     ]
    },
    {
     "name": "stderr",
     "output_type": "stream",
     "text": [
      "/usr/local/lib/python3.9/site-packages/sklearn/base.py:443: UserWarning: X has feature names, but StandardScaler was fitted without feature names\n",
      "  warnings.warn(\n"
     ]
    },
    {
     "name": "stdout",
     "output_type": "stream",
     "text": [
      "Apply Model for llll\n"
     ]
    },
    {
     "name": "stderr",
     "output_type": "stream",
     "text": [
      "/usr/local/lib/python3.9/site-packages/sklearn/base.py:443: UserWarning: X has feature names, but StandardScaler was fitted without feature names\n",
      "  warnings.warn(\n"
     ]
    },
    {
     "name": "stdout",
     "output_type": "stream",
     "text": [
      "Apply Model for Zee\n",
      "Apply Model for Zmumu\n",
      "Apply Model for ttbar_lep\n",
      "Apply Model for data_A\n",
      "Apply Model for data_B\n"
     ]
    },
    {
     "name": "stderr",
     "output_type": "stream",
     "text": [
      "/usr/local/lib/python3.9/site-packages/sklearn/base.py:443: UserWarning: X has feature names, but StandardScaler was fitted without feature names\n",
      "  warnings.warn(\n",
      "/usr/local/lib/python3.9/site-packages/sklearn/base.py:443: UserWarning: X has feature names, but StandardScaler was fitted without feature names\n",
      "  warnings.warn(\n",
      "/usr/local/lib/python3.9/site-packages/sklearn/base.py:443: UserWarning: X has feature names, but StandardScaler was fitted without feature names\n",
      "  warnings.warn(\n",
      "/usr/local/lib/python3.9/site-packages/sklearn/base.py:443: UserWarning: X has feature names, but StandardScaler was fitted without feature names\n",
      "  warnings.warn(\n",
      "/usr/local/lib/python3.9/site-packages/sklearn/base.py:443: UserWarning: X has feature names, but StandardScaler was fitted without feature names\n",
      "  warnings.warn(\n"
     ]
    },
    {
     "name": "stdout",
     "output_type": "stream",
     "text": [
      "Apply Model for data_C\n",
      "Apply Model for data_D\n"
     ]
    },
    {
     "name": "stderr",
     "output_type": "stream",
     "text": [
      "/usr/local/lib/python3.9/site-packages/sklearn/base.py:443: UserWarning: X has feature names, but StandardScaler was fitted without feature names\n",
      "  warnings.warn(\n",
      "/usr/local/lib/python3.9/site-packages/sklearn/base.py:443: UserWarning: X has feature names, but StandardScaler was fitted without feature names\n",
      "  warnings.warn(\n"
     ]
    }
   ],
   "source": [
    "# Create a copy of the data frame\n",
    "data_frames_apply_dnn = data_frames.copy()\n",
    "\n",
    "for sample in sample_list_signal + sample_list_background + sample_list_measured:\n",
    "    print(f'Apply Model for {sample}')\n",
    "    # Get the values to apply the model\n",
    "    data_frame_values = data_frames_apply_dnn[sample][training_variables]\n",
    "    for model in models:\n",
    "        prediction = models[model]['model'].predict(scaler.transform(data_frame_values))\n",
    "    \n",
    "        # Convert prediction to array\n",
    "        prediction = [element[0] for element in prediction]\n",
    "    \n",
    "        # Add the prediction for each sample\n",
    "        data_frames_apply_dnn[sample][f'{model}_prediction'] = prediction"
   ]
  },
  {
   "cell_type": "code",
   "execution_count": 43,
   "id": "03c6847f",
   "metadata": {},
   "outputs": [
    {
     "name": "stdout",
     "output_type": "stream",
     "text": [
      "dnn_8_10\n"
     ]
    },
    {
     "data": {
      "image/png": "[encoded data removed]",
      "text/plain": [
       "<Figure size 504x504 with 2 Axes>"
      ]
     },
     "metadata": {
      "needs_background": "light"
     },
     "output_type": "display_data"
    },
    {
     "data": {
      "text/plain": [
       "<Figure size 432x288 with 0 Axes>"
      ]
     },
     "metadata": {},
     "output_type": "display_data"
    }
   ],
   "source": [
    "for model in models:\n",
    "    print(model)\n",
    "    variable = {'variable': f'{model}_prediction',\n",
    "               'binning': np.linspace(0.7, 1, 11),#dnn_binning[model],\n",
    "               'xlabel': f'{model} prediction'}\n",
    "    common.plot_hist(variable, data_frames_apply_dnn)\n",
    "    _ = plt.clf()"
   ]
  },
  {
   "cell_type": "code",
   "execution_count": null,
   "id": "3432957b",
   "metadata": {},
   "outputs": [],
   "source": []
  },
  {
   "cell_type": "code",
   "execution_count": null,
   "id": "476f3a59",
   "metadata": {},
   "outputs": [],
   "source": []
  }
 ],
 "metadata": {
  "kernelspec": {
   "display_name": "Python 3 (ipykernel)",
   "language": "python",
   "name": "python3"
  },
  "language_info": {
   "codemirror_mode": {
    "name": "ipython",
    "version": 3
   },
   "file_extension": ".py",
   "mimetype": "text/x-python",
   "name": "python",
   "nbconvert_exporter": "python",
   "pygments_lexer": "ipython3",
   "version": "3.9.14"
  }
 },
 "nbformat": 4,
 "nbformat_minor": 5
}
