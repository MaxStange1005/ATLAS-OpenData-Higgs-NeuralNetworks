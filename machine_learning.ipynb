{
 "cells": [
  {
   "cell_type": "markdown",
   "id": "2081cce3",
   "metadata": {
    "id": "2081cce3"
   },
   "source": [
    "# Discover the Higgs with Deep Neural Networks"
   ]
  },
  {
   "cell_type": "markdown",
   "id": "060ec659",
   "metadata": {
    "id": "060ec659"
   },
   "source": [
    "The input data was created from 13 TeV ATLAS open data downloaded from http://opendata.atlas.cern/release/2020/documentation/index.html\n",
    "\n",
    "For more information read:<br>\n",
    "Review of the 13 TeV ATLAS Open Data release, Techn. Ber., All figures including auxiliary figures are available at https://atlas.web.cern.ch/Atlas/GROUPS/PHYSICS/PUBNOTES/ATL-OREACH-PUB-2020-001: CERN, 2020, url: http://cds.cern.ch/record/2707171"
   ]
  },
  {
   "cell_type": "markdown",
   "id": "3e312205",
   "metadata": {
    "id": "3e312205"
   },
   "source": [
    "## Data Preparation"
   ]
  },
  {
   "cell_type": "markdown",
   "id": "8f5b2349",
   "metadata": {
    "id": "8f5b2349"
   },
   "source": [
    "### Load the Data"
   ]
  },
  {
   "cell_type": "code",
   "execution_count": 1,
   "id": "f9615674",
   "metadata": {
    "colab": {
     "base_uri": "https://localhost:8080/"
    },
    "id": "f9615674",
    "outputId": "83e88f84-c0ec-4e77-e620-6bf415c816d1"
   },
   "outputs": [
    {
     "data": {
      "text/plain": [
       "RandomState(MT19937) at 0x1348E0E40"
      ]
     },
     "execution_count": 1,
     "metadata": {},
     "output_type": "execute_result"
    }
   ],
   "source": [
    "# Necessary imports\n",
    "import numpy as np\n",
    "import matplotlib.pyplot as plt\n",
    "import pandas as pd\n",
    "import itertools\n",
    "from numpy.random import seed\n",
    "import os\n",
    "\n",
    "# Random state\n",
    "random_state = 12345\n",
    "np.random.RandomState(random_state)"
   ]
  },
  {
   "cell_type": "code",
   "execution_count": 2,
   "id": "VSJXVaD1pS54",
   "metadata": {
    "id": "VSJXVaD1pS54"
   },
   "outputs": [],
   "source": [
    "import common"
   ]
  },
  {
   "cell_type": "markdown",
   "id": "3357ffaf",
   "metadata": {
    "id": "3357ffaf"
   },
   "source": [
    "The goal of this lab course is to train a deep neural network to separate Higgs boson signal from background events. The most important signal sample ggH125_ZZ4lep corresponds to the process gg->H->ZZ. The dominant background sample is llll resulting from Z and ZZ decays.\n",
    "After training the DNN model will be used to classify the events of the data samples.\n",
    "\n",
    "Higgs signal samples:\n",
    "- ggH125_ZZ4lep\n",
    "- VBFH125_ZZ4lep\n",
    "- WH125_ZZ4lep\n",
    "- ZH125_ZZ4lep\n",
    "\n",
    "Background samples:\n",
    "- llll\n",
    "- Zee\n",
    "- Zmumu\n",
    "- ttbar_lep\n",
    "\n",
    "Data samples:\n",
    "- data_A\n",
    "- data_B\n",
    "- data_C\n",
    "- data_D"
   ]
  },
  {
   "cell_type": "code",
   "execution_count": 3,
   "id": "22a2ae28",
   "metadata": {
    "id": "22a2ae28"
   },
   "outputs": [],
   "source": [
    "# Define the input samples\n",
    "sample_list_signal = ['ggH125_ZZ4lep']\n",
    "sample_list_background = ['llll']\n",
    "sample_list_signal = ['ggH125_ZZ4lep', 'VBFH125_ZZ4lep', 'WH125_ZZ4lep', 'ZH125_ZZ4lep']\n",
    "sample_list_background = ['llll', 'Zee', 'Zmumu', 'ttbar_lep']\n",
    "sample_list_measured = ['data_A', 'data_B', 'data_C', 'data_D']"
   ]
  },
  {
   "cell_type": "code",
   "execution_count": 4,
   "id": "e1b2ae67",
   "metadata": {
    "id": "e1b2ae67"
   },
   "outputs": [],
   "source": [
    "sample_path = 'input'\n",
    "# Read all the samples\n",
    "no_selection_data_frames = {}\n",
    "for sample in sample_list_signal + sample_list_background + sample_list_measured:\n",
    "    no_selection_data_frames[sample] = pd.read_csv(os.path.join(sample_path, sample + '.csv'))"
   ]
  },
  {
   "cell_type": "markdown",
   "id": "27a1549c",
   "metadata": {
    "id": "27a1549c"
   },
   "source": [
    "### Input Variables"
   ]
  },
  {
   "cell_type": "markdown",
   "id": "fe06218b",
   "metadata": {
    "id": "fe06218b"
   },
   "source": [
    "The input provides several variables to classify the events. Since each event has multiple leptons, they were ordered in descending order based on their transverse momentum. Thus, lepton 1 has the highest transverse momentum, lepton 2 the second highest, and so on. <br>\n",
    "Most of the given variables can be called low-level, because they represent event or object properties, which can be derived directly from the reconstruction in the detector. In contrast to this are high-level variables, which result from the combination of several low-level variables. In the given dataset the only high-level variables are invariant masses of multiple particles:<br>\n",
    "$m_{inv} = \\sqrt{\\left(\\sum\\limits_{i=1}^{n} E_i\\right)^2 - \\left(\\sum\\limits_{i=1}^{n} \\vec{p}_i\\right)^2}$\n",
    "\n",
    "\n",
    "List of all available variables:<br>\n",
    "- Event number\n",
    " - Each simulated event has its own specific number. (not used for training)\n",
    " - Variable name: eventNumber\n",
    "- Scale and event weight\n",
    " - The scaling for a data set is given by the sum of event weights, the cross section, luminosity and a efficiency scale factor\n",
    " - Each event has an additional specific event weight\n",
    " - To combine simulated events and finally compare them to data each event has to be scaled by the total weight, the product of scale weight and event weight\n",
    " - The weight are not used for training\n",
    " - Variable name: scaleWeight, eventWeight, totalWeight\n",
    "- Number of jets\n",
    " - Jets are particle showers which result primarily from quarks and gluons\n",
    " - Variable name: jet_n\n",
    "- Invariant four lepton mass\n",
    " - The invariant mass $m_{inv}(l_1, l_2, l_3, l_4)$ of the four leptons is extremly sensitive to Higgs boson events. This variable is to be displayed later and thus not used for training\n",
    " - Variable name: lep_m_llll\n",
    "- Invariant two lepton mass\n",
    " - Invariant masses $m_{inv}(l_i, l_j)$ of all combinations of two leptons\n",
    " - Variable names: lep_m_ll_12, lep_m_ll_13, lep_m_ll_14, lep_m_ll_23, lep_m_ll_24, lep_m_ll_34\n",
    "- Transverse momentum of the leptons\n",
    " - The momentum in the plane transverse to the beam axis\n",
    " - Variable names: lep1_pt, lep2_pt, lep3_pt, lep4_pt\n",
    "- Lepton azimuthal angle\n",
    " - The azimuthal angle $\\phi$ is measured in the plane transverse to the beam axis\n",
    " - Variable name: lep1_phi, lep2_phi, lep3_phi, lep4_phi\n",
    "- Lepton pseudo rapidity\n",
    " - The angle $\\theta$ is measured between the lepton track and the beam axis. Since this angle is not invariant against boosts along the beam axis, the pseudo rapidity $\\eta = - \\ln{\\tan{\\frac{\\theta}{2}}}$ is primarily used in the ATLAS analyses\n",
    " - Variable names: lep1_eta, lep2_eta, lep3_eta, lep4_eta\n",
    "- Lepton energy\n",
    " - The energy of the leptons reconstructed from the calorimeter entries\n",
    " - Variable name:lep1_e, lep2_e, lep3_e, lep4_e\n",
    "- Lepton PDG-ID\n",
    " - The lepton type is classified by a n umber given by the Particle-Data-Group. The lepton types are $pdg-id(e)=11$, $pdg-id(\\mu)=13$ and $pdg-id(\\tau)=15$\n",
    " - Variable name: lep1_pdgId, lep2_pdgId, lep3_pdgId, lep4_pdgId\n",
    "- Lepton charge\n",
    " - The charge of the given lepton reconstructed by the lepton track\n",
    " - Variable name: lep1_charge, lep2_charge, lep3_charge, lep4_charge"
   ]
  },
  {
   "cell_type": "markdown",
   "id": "9a7d2bda",
   "metadata": {
    "id": "9a7d2bda"
   },
   "source": [
    "### Event Pre-Selection"
   ]
  },
  {
   "cell_type": "markdown",
   "id": "facd6d51",
   "metadata": {
    "id": "facd6d51"
   },
   "source": [
    "Although the final selection of the data is to be performed on the basis of a DNN, a rough pre-selection of the data is still useful.\n",
    "For this purpose, selection criteria are defined, which return either true or false based on the event kinematics and thus decide whether the respective event is kept or discarded.\n",
    "Suitable criteria for this analysis are very basic selections that must be clearly fulfilled by H->ZZ->llll processes.\n",
    "\n",
    "\n",
    "Hint: What lepton types and charges are expected in the final state?"
   ]
  },
  {
   "cell_type": "code",
   "execution_count": 5,
   "id": "ffa57853",
   "metadata": {
    "id": "ffa57853"
   },
   "outputs": [],
   "source": [
    "def cut_lep_type(lep_type_0, lep_type_1, lep_type_2, lep_type_3):\n",
    "    # Only keep events like eeee, mumumumu or eemumu\n",
    "    sum_lep_type = lep_type_0 + lep_type_1 + lep_type_2 + lep_type_3\n",
    "    return sum_lep_type == 44 or sum_lep_type == 48 or sum_lep_type == 52\n",
    "\n",
    "\n",
    "def cut_lep_charge(lep_charge_0, lep_charge_1, lep_charge_2, lep_charge_3):\n",
    "    # Only keep events where the sum of all lepton charges is zero\n",
    "    sum_lep_charge = lep_charge_0 + lep_charge_1 + lep_charge_2 + lep_charge_3\n",
    "    return sum_lep_charge == 0"
   ]
  },
  {
   "cell_type": "code",
   "execution_count": 6,
   "id": "13fc29db",
   "metadata": {
    "id": "13fc29db"
   },
   "outputs": [],
   "source": [
    "# Create a copy of the original data frame to investigate later\n",
    "data_frames = no_selection_data_frames.copy()\n",
    "\n",
    "# Apply the chosen selection criteria\n",
    "for sample in sample_list_signal + sample_list_background + sample_list_measured:\n",
    "    # Selection on lepton type\n",
    "    type_selection = np.vectorize(cut_lep_type)(\n",
    "        data_frames[sample].lep1_pdgId,\n",
    "        data_frames[sample].lep2_pdgId,\n",
    "        data_frames[sample].lep3_pdgId,\n",
    "        data_frames[sample].lep4_pdgId)\n",
    "    data_frames[sample] = data_frames[sample][type_selection]\n",
    "\n",
    "    # Selection on lepton charge\n",
    "    charge_selection = np.vectorize(cut_lep_charge)(\n",
    "        data_frames[sample].lep1_charge,\n",
    "        data_frames[sample].lep2_charge,\n",
    "        data_frames[sample].lep3_charge,\n",
    "        data_frames[sample].lep4_charge)\n",
    "    data_frames[sample] = data_frames[sample][charge_selection]"
   ]
  },
  {
   "cell_type": "markdown",
   "id": "94202a44",
   "metadata": {
    "id": "94202a44"
   },
   "source": [
    "### Data Investigation"
   ]
  },
  {
   "cell_type": "markdown",
   "id": "7e11cc8e",
   "metadata": {
    "id": "7e11cc8e"
   },
   "source": [
    "Before one can decide which variables are suitable for training, one must first get a feel for the input variables.\n",
    "For this purpose, the input samples are merged into a set of signal events and a set of background events. Afterwards, the behavior of signal and background can be studied in multiple variables."
   ]
  },
  {
   "cell_type": "code",
   "execution_count": 7,
   "id": "591b7e64",
   "metadata": {
    "id": "591b7e64"
   },
   "outputs": [],
   "source": [
    "# Merge the signal and background data frames\n",
    "def merge_data_frames(sample_list, data_frames_dic):\n",
    "    for sample in sample_list:\n",
    "        if sample == sample_list[0]:\n",
    "            output_data_frame = data_frames_dic[sample]\n",
    "        else:\n",
    "            output_data_frame = pd.concat([output_data_frame, data_frames_dic[sample]], axis=0)\n",
    "    return output_data_frame\n",
    "\n",
    "data_frame_signal = merge_data_frames(sample_list_signal, data_frames)\n",
    "data_frame_background = merge_data_frames(sample_list_background, data_frames)\n",
    "data_frame_measured = merge_data_frames(sample_list_measured, data_frames)"
   ]
  },
  {
   "cell_type": "markdown",
   "id": "2906682a",
   "metadata": {
    "id": "2906682a"
   },
   "source": [
    "The function common.plot_hist(variable, data_frame_1, data_frame_2) plots the given variable of the two data sets.\n",
    "The variable must be a dictionary containing atleast the variable to plot. Additionally one can also specify the binning (list or numpy array) and the xlabel. The created histogram is automatically saved in the plots directory<br>\n",
    "An example for the transverse momnetum of the leading lepton is given below:"
   ]
  },
  {
   "cell_type": "code",
   "execution_count": 8,
   "id": "8ae8494b",
   "metadata": {
    "colab": {
     "base_uri": "https://localhost:8080/",
     "height": 1000
    },
    "id": "8ae8494b",
    "outputId": "7451147f-06aa-4645-d231-e88f13492df4",
    "scrolled": true
   },
   "outputs": [
    {
     "data": {
      "image/png": "[encoded data removed]",
      "text/plain": [
       "<Figure size 700x700 with 2 Axes>"
      ]
     },
     "metadata": {},
     "output_type": "display_data"
    },
    {
     "data": {
      "image/png": "[encoded data removed]",
      "text/plain": [
       "<Figure size 700x700 with 2 Axes>"
      ]
     },
     "metadata": {},
     "output_type": "display_data"
    }
   ],
   "source": [
    "# leading lepton pt\n",
    "var_lep1_pt = {'variable': 'lep1_pt',\n",
    "               'binning': np.linspace(0, 300, 50),\n",
    "               'xlabel': '$p_T$ (lep 1) [GeV]'}\n",
    "\n",
    "common.plot_hist(var_lep1_pt, data_frames)\n",
    "common.plot_normed_signal_vs_background(var_lep1_pt, data_frame_signal, data_frame_background)"
   ]
  },
  {
   "cell_type": "markdown",
   "id": "a38a5a5e",
   "metadata": {
    "id": "a38a5a5e"
   },
   "source": [
    "Investigate the signal vs background ratio before the training"
   ]
  },
  {
   "cell_type": "code",
   "execution_count": 9,
   "id": "b7415e53",
   "metadata": {
    "colab": {
     "base_uri": "https://localhost:8080/"
    },
    "id": "b7415e53",
    "outputId": "e7d7a213-8fad-4519-be33-0f0381fd1706",
    "scrolled": true
   },
   "outputs": [
    {
     "name": "stdout",
     "output_type": "stream",
     "text": [
      "There are 9.7 signal (370040 raw MC events) and 390.61 backgound events (524791 raw MC events)\n",
      "This gives a purity of 2.48%\n"
     ]
    }
   ],
   "source": [
    "signal_event_number = sum(data_frame_signal.totalWeight)\n",
    "background_event_number = sum(data_frame_background.totalWeight)\n",
    "signal_background_ratio = signal_event_number/background_event_number\n",
    "print(f'There are {round(signal_event_number, 2)} signal ({len(data_frame_signal)} raw MC events) and {round(background_event_number, 2)} backgound events ({len(data_frame_background)} raw MC events)\\nThis gives a purity of {round(signal_background_ratio*100, 2)}%')"
   ]
  },
  {
   "cell_type": "markdown",
   "id": "ceb9ac87",
   "metadata": {
    "id": "ceb9ac87"
   },
   "source": [
    "Investigate the amount of negative event weights"
   ]
  },
  {
   "cell_type": "code",
   "execution_count": 10,
   "id": "e7ee38c4",
   "metadata": {
    "colab": {
     "base_uri": "https://localhost:8080/"
    },
    "id": "e7ee38c4",
    "outputId": "cc465687-ba2a-49f8-afd1-1f3ce2e8eac3"
   },
   "outputs": [
    {
     "name": "stdout",
     "output_type": "stream",
     "text": [
      "ggH125_ZZ4lep:\n",
      "Number of raw events: 161451\n",
      "Number of events:     8.7\n",
      "Negative raw events:  0.21%\n",
      "Negative events:      0.22%\n",
      "\n",
      "VBFH125_ZZ4lep:\n",
      "Number of raw events: 186870\n",
      "Number of events:     0.78\n",
      "Negative raw events:  0.18%\n",
      "Negative events:      0.19%\n",
      "\n",
      "WH125_ZZ4lep:\n",
      "Number of raw events: 9772\n",
      "Number of events:     0.22\n",
      "Negative raw events:  0.0%\n",
      "Negative events:      0.0%\n",
      "\n",
      "ZH125_ZZ4lep:\n",
      "Number of raw events: 11947\n",
      "Number of events:     0.0\n",
      "Negative raw events:  0.0%\n",
      "Negative events:      0.0%\n",
      "\n",
      "llll:\n",
      "Number of raw events: 523957\n",
      "Number of events:     266.55\n",
      "Negative raw events:  10.36%\n",
      "Negative events:      32.17%\n",
      "\n",
      "Zee:\n",
      "Number of raw events: 243\n",
      "Number of events:     43.42\n",
      "Negative raw events:  5.76%\n",
      "Negative events:      8.49%\n",
      "\n",
      "Zmumu:\n",
      "Number of raw events: 257\n",
      "Number of events:     52.33\n",
      "Negative raw events:  1.95%\n",
      "Negative events:      2.1%\n",
      "\n",
      "ttbar_lep:\n",
      "Number of raw events: 334\n",
      "Number of events:     28.31\n",
      "Negative raw events:  0.0%\n",
      "Negative events:      0.0%\n",
      "\n"
     ]
    }
   ],
   "source": [
    "for sample in sample_list_signal + sample_list_background:\n",
    "    print(f'{sample}:')\n",
    "    n_events = sum(data_frames[sample]['totalWeight'])\n",
    "    n_events_raw = len(data_frames[sample]['totalWeight'])\n",
    "    n_events_neg = sum(data_frames[sample]['totalWeight'] * (data_frames[sample]['totalWeight'] < 0))\n",
    "    n_events_neg_raw = sum(list(data_frames[sample]['totalWeight'] < 0))\n",
    "    print(f'Number of raw events: {n_events_raw}')\n",
    "    print(f'Number of events:     {round(n_events, 2)}')\n",
    "    print(f'Negative raw events:  {round(100 * n_events_neg_raw / n_events_raw, 2)}%')\n",
    "    print(f'Negative events:      {abs(round(100 * n_events_neg / n_events, 2))}%')\n",
    "    print()"
   ]
  },
  {
   "cell_type": "markdown",
   "id": "6UOuLmyqGkVq",
   "metadata": {
    "id": "6UOuLmyqGkVq"
   },
   "source": [
    "## Choice of the Training Setup"
   ]
  },
  {
   "cell_type": "markdown",
   "id": "s3wju-KVRZmk",
   "metadata": {
    "id": "s3wju-KVRZmk"
   },
   "source": [
    "### How to Create and Train a NN"
   ]
  },
  {
   "cell_type": "markdown",
   "id": "YDoe0Nba4osz",
   "metadata": {
    "id": "YDoe0Nba4osz"
   },
   "source": [
    "Lets start with a very simple training on the transverse momentum of the leptons. The goal is to test a the setup"
   ]
  },
  {
   "cell_type": "code",
   "execution_count": 11,
   "id": "ZLhbQ-gYKIa4",
   "metadata": {
    "id": "ZLhbQ-gYKIa4"
   },
   "outputs": [],
   "source": [
    "# The training input variables\n",
    "training_variables = ['lep1_pt', 'lep2_pt', 'lep3_pt', 'lep4_pt']\n",
    "# Use only a subset of the full data\n",
    "sample_list_signal = ['ggH125_ZZ4lep']\n",
    "sample_list_background = ['llll', 'Zee', 'Zmumu']"
   ]
  },
  {
   "cell_type": "markdown",
   "id": "GkPQ0w0h9CjZ",
   "metadata": {
    "id": "GkPQ0w0h9CjZ"
   },
   "source": [
    "To speed up the setup test only use 40% of the available data"
   ]
  },
  {
   "cell_type": "code",
   "execution_count": 12,
   "id": "JBnQRQ1A7U-F",
   "metadata": {
    "id": "JBnQRQ1A7U-F"
   },
   "outputs": [],
   "source": [
    "values, weights, classification = common.get_dnn_input(data_frames, training_variables, sample_list_signal, sample_list_background, 0.4)"
   ]
  },
  {
   "cell_type": "code",
   "execution_count": 13,
   "id": "QnyJWmRnLNSK",
   "metadata": {
    "id": "QnyJWmRnLNSK"
   },
   "outputs": [],
   "source": [
    "# Import the tensorflow module to create a DNN\n",
    "import tensorflow as tf\n",
    "from tensorflow.data import Dataset"
   ]
  },
  {
   "cell_type": "code",
   "execution_count": 14,
   "id": "S8WnIC0VToQw",
   "metadata": {
    "id": "S8WnIC0VToQw"
   },
   "outputs": [
    {
     "name": "stdout",
     "output_type": "stream",
     "text": [
      "Metal device set to: Apple M1 Pro\n"
     ]
    }
   ],
   "source": [
    "# Convert the data to tensorflow datasets\n",
    "train_data = Dataset.from_tensor_slices((values, classification))\n",
    "train_data = train_data.shuffle(len(values), seed=random_state)\n",
    "train_data = train_data.batch(128)"
   ]
  },
  {
   "cell_type": "code",
   "execution_count": 16,
   "id": "_QXqaSb3CYrs",
   "metadata": {
    "id": "_QXqaSb3CYrs"
   },
   "outputs": [
    {
     "name": "stderr",
     "output_type": "stream",
     "text": [
      "2023-04-02 13:54:40.745946: W tensorflow/tsl/platform/profile_utils/cpu_utils.cc:128] Failed to get CPU frequency: 0 Hz\n"
     ]
    }
   ],
   "source": [
    "# Normalization layer\n",
    "normalization_layer = tf.keras.layers.Normalization(name='Input_normalization')\n",
    "normalization_layer.adapt(values)"
   ]
  },
  {
   "cell_type": "code",
   "execution_count": 17,
   "id": "49a4MIvWLNn_",
   "metadata": {
    "id": "49a4MIvWLNn_"
   },
   "outputs": [],
   "source": [
    "# Create a simple NN\n",
    "model_layers = [\n",
    "    normalization_layer,\n",
    "    tf.keras.layers.Dense(60, activation='relu', name='Hidden_layer_1'),\n",
    "    tf.keras.layers.Dense(60, activation='relu', name='Hidden_layer_2'),\n",
    "    tf.keras.layers.Dense(1, activation='sigmoid', name='Output_layer'),\n",
    "]\n",
    "model = tf.keras.models.Sequential(model_layers)"
   ]
  },
  {
   "cell_type": "code",
   "execution_count": 18,
   "id": "CJkzGU4giA6_",
   "metadata": {
    "colab": {
     "base_uri": "https://localhost:8080/"
    },
    "id": "CJkzGU4giA6_",
    "outputId": "37497ac1-9ecf-49d0-cd5a-cce305d8d1e2"
   },
   "outputs": [
    {
     "name": "stdout",
     "output_type": "stream",
     "text": [
      "Model: \"sequential\"\n",
      "_________________________________________________________________\n",
      " Layer (type)                Output Shape              Param #   \n",
      "=================================================================\n",
      " Input_normalization (Normal  (None, 4)                9         \n",
      " ization)                                                        \n",
      "                                                                 \n",
      " Hidden_layer_1 (Dense)      (None, 60)                300       \n",
      "                                                                 \n",
      " Hidden_layer_2 (Dense)      (None, 60)                3660      \n",
      "                                                                 \n",
      " Output_layer (Dense)        (None, 1)                 61        \n",
      "                                                                 \n",
      "=================================================================\n",
      "Total params: 4,030\n",
      "Trainable params: 4,021\n",
      "Non-trainable params: 9\n",
      "_________________________________________________________________\n"
     ]
    }
   ],
   "source": [
    "# Display the model's architecture\n",
    "model.summary()"
   ]
  },
  {
   "cell_type": "code",
   "execution_count": 19,
   "id": "ovNG9YVDMD-0",
   "metadata": {
    "colab": {
     "base_uri": "https://localhost:8080/",
     "height": 533
    },
    "id": "ovNG9YVDMD-0",
    "outputId": "fdc7116e-c111-4079-a620-0084d050e06d"
   },
   "outputs": [
    {
     "name": "stdout",
     "output_type": "stream",
     "text": [
      "You must install pydot (`pip install pydot`) and install graphviz (see instructions at https://graphviz.gitlab.io/download/) for plot_model to work.\n"
     ]
    }
   ],
   "source": [
    "tf.keras.utils.plot_model(model, show_shapes=True, show_layer_names=True, show_layer_activations=True)"
   ]
  },
  {
   "cell_type": "code",
   "execution_count": 20,
   "id": "qdunQSwiLNzk",
   "metadata": {
    "id": "qdunQSwiLNzk"
   },
   "outputs": [],
   "source": [
    "# Loss function\n",
    "loss_fn = tf.keras.losses.BinaryCrossentropy(from_logits=False)\n",
    "# Optimizer\n",
    "adam_optimizer = tf.keras.optimizers.legacy.Adam(learning_rate=0.0002, beta_1=0.9)"
   ]
  },
  {
   "cell_type": "code",
   "execution_count": 21,
   "id": "K55rSNabMPMb",
   "metadata": {
    "id": "K55rSNabMPMb"
   },
   "outputs": [],
   "source": [
    "model.compile(optimizer=adam_optimizer, loss=loss_fn, metrics=['binary_accuracy'])"
   ]
  },
  {
   "cell_type": "code",
   "execution_count": 22,
   "id": "0SEg6o8xMPVH",
   "metadata": {
    "colab": {
     "base_uri": "https://localhost:8080/"
    },
    "id": "0SEg6o8xMPVH",
    "outputId": "b208f5b1-2bfa-4f96-92fc-c9f5ffa34948"
   },
   "outputs": [
    {
     "name": "stdout",
     "output_type": "stream",
     "text": [
      "Epoch 1/5\n",
      "2144/2144 [==============================] - 18s 8ms/step - loss: 0.4004 - binary_accuracy: 0.7935\n",
      "Epoch 2/5\n",
      "2144/2144 [==============================] - 17s 8ms/step - loss: 0.3529 - binary_accuracy: 0.8320\n",
      "Epoch 3/5\n",
      "2144/2144 [==============================] - 17s 8ms/step - loss: 0.3450 - binary_accuracy: 0.8382\n",
      "Epoch 4/5\n",
      "2144/2144 [==============================] - 16s 8ms/step - loss: 0.3429 - binary_accuracy: 0.8396\n",
      "Epoch 5/5\n",
      "2144/2144 [==============================] - 17s 8ms/step - loss: 0.3418 - binary_accuracy: 0.8405\n"
     ]
    }
   ],
   "source": [
    "history = model.fit(train_data, epochs=5)"
   ]
  },
  {
   "cell_type": "code",
   "execution_count": 25,
   "id": "2aTlPvPpMPfD",
   "metadata": {
    "colab": {
     "base_uri": "https://localhost:8080/",
     "height": 542
    },
    "id": "2aTlPvPpMPfD",
    "outputId": "265be094-c99d-4a78-b90f-636c38c63e27"
   },
   "outputs": [
    {
     "data": {
      "image/png": "[encoded data removed]",
      "text/plain": [
       "<Figure size 700x600 with 1 Axes>"
      ]
     },
     "metadata": {},
     "output_type": "display_data"
    }
   ],
   "source": [
    "# Plot the training history\n",
    "fig, ax = plt.subplots(figsize=(7, 6))\n",
    "ax.plot(history.history['loss'])\n",
    "ax.set_xlabel('epoch')\n",
    "ax.set_ylabel('loss')\n",
    "_ = plt.show()"
   ]
  },
  {
   "cell_type": "code",
   "execution_count": 26,
   "id": "HM3QfD5GMPnV",
   "metadata": {
    "colab": {
     "base_uri": "https://localhost:8080/"
    },
    "id": "HM3QfD5GMPnV",
    "outputId": "46f13d8c-8151-4090-94c2-ded8a32e9a32"
   },
   "outputs": [
    {
     "name": "stdout",
     "output_type": "stream",
     "text": [
      "[1. 1. 1. 1. 1.] [0. 0. 0. 0. 0.]\n"
     ]
    }
   ],
   "source": [
    "# Classify the first and last 5 elements\n",
    "print(classification[:5], classification[-5:])"
   ]
  },
  {
   "cell_type": "code",
   "execution_count": 27,
   "id": "B84a0pgfWGOK",
   "metadata": {
    "colab": {
     "base_uri": "https://localhost:8080/"
    },
    "id": "B84a0pgfWGOK",
    "outputId": "ec06e7f9-7a0f-46b4-fd16-906f629de59e"
   },
   "outputs": [
    {
     "name": "stdout",
     "output_type": "stream",
     "text": [
      "1/1 [==============================] - 0s 136ms/step\n",
      "[[0.6967684 ]\n",
      " [0.13572493]\n",
      " [0.5862442 ]\n",
      " [0.45169944]\n",
      " [0.04889416]]\n",
      "1/1 [==============================] - 0s 10ms/step\n",
      "[[0.41874596]\n",
      " [0.27420878]\n",
      " [0.37710267]\n",
      " [0.5511404 ]\n",
      " [0.5351974 ]]\n"
     ]
    }
   ],
   "source": [
    "print(model.predict(values[:5]))\n",
    "print(model.predict(values[-5:]))"
   ]
  },
  {
   "cell_type": "code",
   "execution_count": 29,
   "id": "EMhKpy_gIOXL",
   "metadata": {
    "colab": {
     "base_uri": "https://localhost:8080/"
    },
    "id": "EMhKpy_gIOXL",
    "outputId": "7313ce3c-6351-4002-f82a-7ee1cb4b4d6b"
   },
   "outputs": [
    {
     "name": "stdout",
     "output_type": "stream",
     "text": [
      "8575/8575 [==============================] - 17s 2ms/step\n"
     ]
    }
   ],
   "source": [
    "# Apply the model for all values\n",
    "prediction = model.predict(values)"
   ]
  },
  {
   "cell_type": "code",
   "execution_count": 30,
   "id": "MTd_tOKCIPJy",
   "metadata": {
    "colab": {
     "base_uri": "https://localhost:8080/",
     "height": 522
    },
    "id": "MTd_tOKCIPJy",
    "outputId": "1be5e574-d0d5-47f4-a218-90759a356dc9"
   },
   "outputs": [
    {
     "data": {
      "image/png": "[encoded data removed]",
      "text/plain": [
       "<Figure size 700x600 with 1 Axes>"
      ]
     },
     "metadata": {},
     "output_type": "display_data"
    }
   ],
   "source": [
    "# Plot the model output\n",
    "common.plot_dnn_output(prediction, classification)\n",
    "_ = plt.show()"
   ]
  },
  {
   "cell_type": "code",
   "execution_count": 31,
   "id": "-2pKN3BvCd26",
   "metadata": {
    "colab": {
     "base_uri": "https://localhost:8080/"
    },
    "id": "-2pKN3BvCd26",
    "outputId": "b91378e3-78d0-411b-9b24-3562da837410"
   },
   "outputs": [
    {
     "name": "stdout",
     "output_type": "stream",
     "text": [
      "2144/2144 [==============================] - 11s 5ms/step - loss: 0.3412 - binary_accuracy: 0.8405\n",
      "train loss = 0.34122\ttrain accuracy = 0.84049\n"
     ]
    }
   ],
   "source": [
    "# Evaluate \n",
    "model_evaluation = model.evaluate(train_data)\n",
    "\n",
    "print(f'train loss = {round(model_evaluation[0], 5)}\\ttrain accuracy = {round(model_evaluation[1], 5)}')"
   ]
  },
  {
   "cell_type": "code",
   "execution_count": 32,
   "id": "NybEJ-I2WGe3",
   "metadata": {
    "id": "NybEJ-I2WGe3"
   },
   "outputs": [],
   "source": [
    "def apply_dnn_model(model, data_frames, variables, sample_list):\n",
    "    data_frames_apply_dnn = {}\n",
    "    for sample in sample_list:\n",
    "        print(f'Apply Model for {sample}')\n",
    "        # Get the values to apply the model\n",
    "        values = data_frames[sample][training_variables]\n",
    "        weights = data_frames[sample]['totalWeight']\n",
    "        prediction = model.predict(values)\n",
    "        \n",
    "        # Convert prediction to array\n",
    "        prediction = [element[0] for element in prediction]\n",
    "        \n",
    "        # Add the prediction for each sample\n",
    "        data_frames_apply_dnn[sample] = {}\n",
    "        data_frames_apply_dnn[sample]['model_prediction'] = prediction\n",
    "        data_frames_apply_dnn[sample]['totalWeight'] = weights\n",
    "    return data_frames_apply_dnn"
   ]
  },
  {
   "cell_type": "code",
   "execution_count": 33,
   "id": "lD6O2_YOB0Vv",
   "metadata": {
    "colab": {
     "base_uri": "https://localhost:8080/"
    },
    "id": "lD6O2_YOB0Vv",
    "outputId": "08b6d534-3139-4a19-9210-1a0559d31bfb"
   },
   "outputs": [
    {
     "name": "stdout",
     "output_type": "stream",
     "text": [
      "Apply Model for ggH125_ZZ4lep\n",
      "5046/5046 [==============================] - 10s 2ms/step\n",
      "Apply Model for llll\n",
      "16374/16374 [==============================] - 36s 2ms/step\n",
      "Apply Model for Zee\n",
      "8/8 [==============================] - 0s 5ms/step\n",
      "Apply Model for Zmumu\n",
      "9/9 [==============================] - 0s 29ms/step\n"
     ]
    }
   ],
   "source": [
    "# Apply the model\n",
    "data_frames_apply_dnn = apply_dnn_model(model, data_frames, training_variables, sample_list_signal + sample_list_background)"
   ]
  },
  {
   "cell_type": "code",
   "execution_count": 34,
   "id": "eDpIAGxTBpUe",
   "metadata": {
    "colab": {
     "base_uri": "https://localhost:8080/",
     "height": 641
    },
    "id": "eDpIAGxTBpUe",
    "outputId": "250fa7f0-3b1d-422f-dbc6-61857c5f5556"
   },
   "outputs": [
    {
     "data": {
      "image/png": "[encoded data removed]",
      "text/plain": [
       "<Figure size 700x700 with 1 Axes>"
      ]
     },
     "metadata": {},
     "output_type": "display_data"
    }
   ],
   "source": [
    "model_prediction = {'variable': 'model_prediction',\n",
    "                    'binning': np.linspace(0, 1, 50),\n",
    "                    'xlabel': 'prediction'}\n",
    "common.plot_hist(model_prediction, data_frames_apply_dnn, show_data=False)"
   ]
  },
  {
   "cell_type": "markdown",
   "id": "ew01qIqSRoar",
   "metadata": {
    "id": "ew01qIqSRoar"
   },
   "source": [
    "### Validation Data and Early Stopping"
   ]
  },
  {
   "cell_type": "markdown",
   "id": "6rodq6-jQWR5",
   "metadata": {
    "id": "6rodq6-jQWR5"
   },
   "source": [
    "How long do we have to train? The right amount of training is very important for the final performance of the network. If the training was too short the model parameters are poorly adapted to the underlying concepts and the model performance is bad. If the training was too long"
   ]
  },
  {
   "cell_type": "code",
   "execution_count": 35,
   "id": "kML3bli6SUfW",
   "metadata": {
    "id": "kML3bli6SUfW"
   },
   "outputs": [],
   "source": [
    "from sklearn.model_selection import train_test_split"
   ]
  },
  {
   "cell_type": "markdown",
   "id": "hQb2GTSGSg0o",
   "metadata": {
    "id": "hQb2GTSGSg0o"
   },
   "source": [
    "The data set is split in a training, test and validation set. To have enough data to train use a splitting of 50%:50%"
   ]
  },
  {
   "cell_type": "code",
   "execution_count": 36,
   "id": "KLZpYpYF_Lai",
   "metadata": {
    "id": "KLZpYpYF_Lai"
   },
   "outputs": [],
   "source": [
    "values, weights, classification = common.get_dnn_input(data_frames, training_variables, sample_list_signal, sample_list_background, 0.6)"
   ]
  },
  {
   "cell_type": "code",
   "execution_count": 37,
   "id": "5sr3kiRq_Nx8",
   "metadata": {
    "id": "5sr3kiRq_Nx8"
   },
   "outputs": [],
   "source": [
    "train_values, val_values, train_classification, val_classification = train_test_split(values, classification, test_size=1/3, random_state=random_state)\n",
    "train_weights, val_weights = train_test_split(weights, classification, test_size=1/3, random_state=random_state)[:2]"
   ]
  },
  {
   "cell_type": "code",
   "execution_count": 38,
   "id": "PhQihlcESpEO",
   "metadata": {
    "id": "PhQihlcESpEO"
   },
   "outputs": [],
   "source": [
    "# Convert the data to tensorflow datasets\n",
    "train_data = Dataset.from_tensor_slices((train_values, train_classification))\n",
    "train_data = train_data.shuffle(len(train_data), seed=random_state)\n",
    "train_data = train_data.batch(128)\n",
    "val_data = Dataset.from_tensor_slices((val_values, val_classification))\n",
    "val_data = val_data.shuffle(len(val_data), seed=random_state)\n",
    "val_data = val_data.batch(128)"
   ]
  },
  {
   "cell_type": "code",
   "execution_count": 39,
   "id": "zhDgmhgMSCEQ",
   "metadata": {
    "id": "zhDgmhgMSCEQ"
   },
   "outputs": [],
   "source": [
    "# Normalization layer\n",
    "normalization_layer = tf.keras.layers.Normalization()\n",
    "normalization_layer.adapt(train_values)\n",
    "# Create a simple NN\n",
    "model_layers = [\n",
    "    normalization_layer,\n",
    "    tf.keras.layers.Dense(60, activation='relu'),\n",
    "    tf.keras.layers.Dense(60, activation='relu'),\n",
    "    tf.keras.layers.Dense(1, activation='sigmoid'),\n",
    "]\n",
    "# Create a simple NN\n",
    "model = tf.keras.models.Sequential(model_layers)\n",
    "# Compile model\n",
    "model.compile(optimizer=adam_optimizer, loss=loss_fn, metrics=['binary_accuracy'])"
   ]
  },
  {
   "cell_type": "code",
   "execution_count": 40,
   "id": "wyTjuAZHThGI",
   "metadata": {
    "id": "wyTjuAZHThGI"
   },
   "outputs": [],
   "source": [
    "# Early stopping\n",
    "early_stopping = tf.keras.callbacks.EarlyStopping(monitor='val_loss', patience=5, restore_best_weights=True)"
   ]
  },
  {
   "cell_type": "code",
   "execution_count": 41,
   "id": "HpQzXeAgSCZr",
   "metadata": {
    "colab": {
     "base_uri": "https://localhost:8080/"
    },
    "id": "HpQzXeAgSCZr",
    "outputId": "aa13403f-a297-40a4-fb1b-450b4004040b"
   },
   "outputs": [
    {
     "name": "stdout",
     "output_type": "stream",
     "text": [
      "Epoch 1/1000\n",
      "2149/2149 [==============================] - 21s 9ms/step - loss: 0.3844 - binary_accuracy: 0.8013 - val_loss: 0.3592 - val_binary_accuracy: 0.8283\n",
      "Epoch 2/1000\n",
      "2149/2149 [==============================] - 21s 10ms/step - loss: 0.3516 - binary_accuracy: 0.8338 - val_loss: 0.3481 - val_binary_accuracy: 0.8374\n",
      "Epoch 3/1000\n",
      "2149/2149 [==============================] - 20s 9ms/step - loss: 0.3456 - binary_accuracy: 0.8375 - val_loss: 0.3450 - val_binary_accuracy: 0.8389\n",
      "Epoch 4/1000\n",
      "2149/2149 [==============================] - 20s 9ms/step - loss: 0.3433 - binary_accuracy: 0.8394 - val_loss: 0.3435 - val_binary_accuracy: 0.8401\n",
      "Epoch 5/1000\n",
      "2149/2149 [==============================] - 20s 9ms/step - loss: 0.3421 - binary_accuracy: 0.8400 - val_loss: 0.3428 - val_binary_accuracy: 0.8409\n",
      "Epoch 6/1000\n",
      "2149/2149 [==============================] - 21s 10ms/step - loss: 0.3415 - binary_accuracy: 0.8405 - val_loss: 0.3425 - val_binary_accuracy: 0.8415\n",
      "Epoch 7/1000\n",
      "2149/2149 [==============================] - 20s 9ms/step - loss: 0.3411 - binary_accuracy: 0.8407 - val_loss: 0.3422 - val_binary_accuracy: 0.8408\n",
      "Epoch 8/1000\n",
      "2149/2149 [==============================] - 20s 9ms/step - loss: 0.3408 - binary_accuracy: 0.8408 - val_loss: 0.3425 - val_binary_accuracy: 0.8414\n",
      "Epoch 9/1000\n",
      "2149/2149 [==============================] - 20s 9ms/step - loss: 0.3406 - binary_accuracy: 0.8411 - val_loss: 0.3420 - val_binary_accuracy: 0.8413\n",
      "Epoch 10/1000\n",
      "2149/2149 [==============================] - 20s 9ms/step - loss: 0.3404 - binary_accuracy: 0.8412 - val_loss: 0.3417 - val_binary_accuracy: 0.8412\n",
      "Epoch 11/1000\n",
      "2149/2149 [==============================] - 22s 10ms/step - loss: 0.3403 - binary_accuracy: 0.8413 - val_loss: 0.3420 - val_binary_accuracy: 0.8413\n",
      "Epoch 12/1000\n",
      "2149/2149 [==============================] - 21s 10ms/step - loss: 0.3402 - binary_accuracy: 0.8413 - val_loss: 0.3417 - val_binary_accuracy: 0.8416\n",
      "Epoch 13/1000\n",
      "2149/2149 [==============================] - 21s 10ms/step - loss: 0.3400 - binary_accuracy: 0.8413 - val_loss: 0.3418 - val_binary_accuracy: 0.8417\n",
      "Epoch 14/1000\n",
      "2149/2149 [==============================] - 21s 10ms/step - loss: 0.3400 - binary_accuracy: 0.8414 - val_loss: 0.3418 - val_binary_accuracy: 0.8413\n",
      "Epoch 15/1000\n",
      "2149/2149 [==============================] - 22s 10ms/step - loss: 0.3399 - binary_accuracy: 0.8416 - val_loss: 0.3414 - val_binary_accuracy: 0.8419\n",
      "Epoch 16/1000\n",
      "2149/2149 [==============================] - 21s 10ms/step - loss: 0.3399 - binary_accuracy: 0.8415 - val_loss: 0.3423 - val_binary_accuracy: 0.8412\n",
      "Epoch 17/1000\n",
      "2149/2149 [==============================] - 22s 10ms/step - loss: 0.3398 - binary_accuracy: 0.8416 - val_loss: 0.3413 - val_binary_accuracy: 0.8419\n",
      "Epoch 18/1000\n",
      "2149/2149 [==============================] - 21s 10ms/step - loss: 0.3398 - binary_accuracy: 0.8415 - val_loss: 0.3412 - val_binary_accuracy: 0.8414\n",
      "Epoch 19/1000\n",
      "2149/2149 [==============================] - 21s 10ms/step - loss: 0.3396 - binary_accuracy: 0.8415 - val_loss: 0.3413 - val_binary_accuracy: 0.8413\n",
      "Epoch 20/1000\n",
      "2149/2149 [==============================] - 20s 9ms/step - loss: 0.3397 - binary_accuracy: 0.8416 - val_loss: 0.3410 - val_binary_accuracy: 0.8416\n",
      "Epoch 21/1000\n",
      "2149/2149 [==============================] - 20s 9ms/step - loss: 0.3396 - binary_accuracy: 0.8414 - val_loss: 0.3411 - val_binary_accuracy: 0.8414\n",
      "Epoch 22/1000\n",
      "2149/2149 [==============================] - 20s 9ms/step - loss: 0.3395 - binary_accuracy: 0.8417 - val_loss: 0.3415 - val_binary_accuracy: 0.8413\n",
      "Epoch 23/1000\n",
      "2149/2149 [==============================] - 20s 9ms/step - loss: 0.3395 - binary_accuracy: 0.8420 - val_loss: 0.3418 - val_binary_accuracy: 0.8411\n",
      "Epoch 24/1000\n",
      "2149/2149 [==============================] - 20s 9ms/step - loss: 0.3395 - binary_accuracy: 0.8417 - val_loss: 0.3412 - val_binary_accuracy: 0.8412\n",
      "Epoch 25/1000\n",
      "2149/2149 [==============================] - 20s 9ms/step - loss: 0.3395 - binary_accuracy: 0.8416 - val_loss: 0.3413 - val_binary_accuracy: 0.8415\n"
     ]
    }
   ],
   "source": [
    "# Train model\n",
    "history = model.fit(train_data, validation_data=val_data, callbacks=[early_stopping], epochs=1000)"
   ]
  },
  {
   "cell_type": "code",
   "execution_count": 42,
   "id": "uaCAcUKUWMuh",
   "metadata": {
    "colab": {
     "base_uri": "https://localhost:8080/",
     "height": 543
    },
    "id": "uaCAcUKUWMuh",
    "outputId": "8d15f192-debc-4338-b243-6a2c310b9d16"
   },
   "outputs": [
    {
     "data": {
      "image/png": "[encoded data removed]",
      "text/plain": [
       "<Figure size 700x600 with 1 Axes>"
      ]
     },
     "metadata": {},
     "output_type": "display_data"
    }
   ],
   "source": [
    "# Plot the training history\n",
    "fig, ax = plt.subplots(figsize=(7, 6))\n",
    "ax.plot(history.history['loss'], label='training')\n",
    "ax.plot(history.history['val_loss'], label='val')\n",
    "ax.set_xlabel('epoch')\n",
    "ax.set_ylabel('loss')\n",
    "ax.legend()\n",
    "_ = plt.show()"
   ]
  },
  {
   "cell_type": "code",
   "execution_count": 43,
   "id": "Tq0pWJFBWM5x",
   "metadata": {
    "colab": {
     "base_uri": "https://localhost:8080/"
    },
    "id": "Tq0pWJFBWM5x",
    "outputId": "d8514d14-7782-421e-9215-5aecfaae62f3"
   },
   "outputs": [
    {
     "name": "stdout",
     "output_type": "stream",
     "text": [
      "8593/8593 [==============================] - 18s 2ms/step\n",
      "4297/4297 [==============================] - 8s 2ms/step\n"
     ]
    }
   ],
   "source": [
    "# Apply the model for tarining and validation values\n",
    "train_prediction = model.predict(train_values)\n",
    "val_prediction = model.predict(val_values)"
   ]
  },
  {
   "cell_type": "code",
   "execution_count": 44,
   "id": "5d1WBms0WNCc",
   "metadata": {
    "colab": {
     "base_uri": "https://localhost:8080/",
     "height": 522
    },
    "id": "5d1WBms0WNCc",
    "outputId": "0ee6e8ae-e53d-4472-a3b9-77ae0dcad6b7"
   },
   "outputs": [
    {
     "data": {
      "image/png": "[encoded data removed]",
      "text/plain": [
       "<Figure size 700x600 with 1 Axes>"
      ]
     },
     "metadata": {},
     "output_type": "display_data"
    }
   ],
   "source": [
    "# Plot the model output\n",
    "common.plot_dnn_output(train_prediction, train_classification, val_prediction, val_classification)\n",
    "_ = plt.show()"
   ]
  },
  {
   "cell_type": "code",
   "execution_count": 45,
   "id": "l_FlQQmHHSvd",
   "metadata": {
    "colab": {
     "base_uri": "https://localhost:8080/"
    },
    "id": "l_FlQQmHHSvd",
    "outputId": "8464865a-5faf-441f-801a-91f5080cd3a7"
   },
   "outputs": [
    {
     "name": "stdout",
     "output_type": "stream",
     "text": [
      "2149/2149 [==============================] - 11s 5ms/step - loss: 0.3391 - binary_accuracy: 0.8421\n",
      "1075/1075 [==============================] - 5s 5ms/step - loss: 0.3410 - binary_accuracy: 0.8416\n",
      "train loss = 0.33915\ttrain accuracy = 0.84214\n",
      "val loss = 0.34102\tval accuracy = 0.84164\n"
     ]
    }
   ],
   "source": [
    "# Evaluate model on training and validation data\n",
    "model_train_evaluation = model.evaluate(train_data)\n",
    "model_val_evaluation = model.evaluate(val_data)\n",
    "\n",
    "print(f'train loss = {round(model_train_evaluation[0], 5)}\\ttrain accuracy = {round(model_train_evaluation[1], 5)}')\n",
    "print(f'val loss = {round(model_val_evaluation[0], 5)}\\tval accuracy = {round(model_val_evaluation[1], 5)}')"
   ]
  },
  {
   "cell_type": "code",
   "execution_count": 46,
   "id": "bzgiLWMWWGmw",
   "metadata": {
    "colab": {
     "base_uri": "https://localhost:8080/"
    },
    "id": "bzgiLWMWWGmw",
    "outputId": "3f8d6b0d-2d86-41d8-c85e-4890f7189156"
   },
   "outputs": [
    {
     "name": "stdout",
     "output_type": "stream",
     "text": [
      "Apply Model for ggH125_ZZ4lep\n",
      "5046/5046 [==============================] - 10s 2ms/step\n",
      "Apply Model for llll\n",
      "16374/16374 [==============================] - 32s 2ms/step\n",
      "Apply Model for Zee\n",
      "8/8 [==============================] - 0s 4ms/step\n",
      "Apply Model for Zmumu\n",
      "9/9 [==============================] - 0s 4ms/step\n"
     ]
    }
   ],
   "source": [
    "# Apply the model\n",
    "data_frames_apply_dnn = apply_dnn_model(model, data_frames, training_variables, sample_list_signal + sample_list_background)"
   ]
  },
  {
   "cell_type": "code",
   "execution_count": 47,
   "id": "VgBXHg_6bAP7",
   "metadata": {
    "colab": {
     "base_uri": "https://localhost:8080/",
     "height": 641
    },
    "id": "VgBXHg_6bAP7",
    "outputId": "e31607c8-8c43-4b39-8dba-c89c3402acf5"
   },
   "outputs": [
    {
     "data": {
      "image/png": "[encoded data removed]",
      "text/plain": [
       "<Figure size 700x700 with 1 Axes>"
      ]
     },
     "metadata": {},
     "output_type": "display_data"
    }
   ],
   "source": [
    "model_prediction = {'variable': 'model_prediction',\n",
    "                    'binning': np.linspace(0, 1, 50),\n",
    "                    'xlabel': 'prediction'}\n",
    "common.plot_hist(model_prediction, data_frames_apply_dnn, show_data=False)"
   ]
  },
  {
   "cell_type": "markdown",
   "id": "RRuPU0vhF1Ch",
   "metadata": {
    "id": "RRuPU0vhF1Ch"
   },
   "source": [
    "The llll events are mostly classified as background and the Higgs events tend to the signal classification. However, the classification of Zee and Zmumu events seems to be quite random. What could be the reason for this?\n",
    "\n",
    "Answer: The number of training events for Zee and Zmumu is much smaller than for the other samples. Thus, they are hardly considered in the training."
   ]
  },
  {
   "cell_type": "markdown",
   "id": "txeJepxIIPYh",
   "metadata": {
    "id": "txeJepxIIPYh"
   },
   "source": [
    "### Event Weights"
   ]
  },
  {
   "cell_type": "code",
   "execution_count": 48,
   "id": "jM5nQz3dsN3t",
   "metadata": {
    "id": "jM5nQz3dsN3t"
   },
   "outputs": [],
   "source": [
    "# Convert the data to tensorflow datasets\n",
    "train_data = Dataset.from_tensor_slices((train_values, train_classification, train_weights))\n",
    "train_data = train_data.shuffle(len(train_data), seed=random_state)\n",
    "train_data = train_data.batch(128)\n",
    "val_data = Dataset.from_tensor_slices((val_values, val_classification, val_weights))\n",
    "val_data = val_data.shuffle(len(val_data), seed=random_state)\n",
    "val_data = val_data.batch(128)"
   ]
  },
  {
   "cell_type": "code",
   "execution_count": 49,
   "id": "ada5KISkbAah",
   "metadata": {
    "id": "ada5KISkbAah"
   },
   "outputs": [],
   "source": [
    "# Normalization layer\n",
    "normalization_layer = tf.keras.layers.Normalization()\n",
    "normalization_layer.adapt(train_values)\n",
    "# Create a simple NN\n",
    "model_layers = [\n",
    "    normalization_layer,\n",
    "    tf.keras.layers.Dense(60, activation='relu'),\n",
    "    tf.keras.layers.Dense(60, activation='relu'),\n",
    "    tf.keras.layers.Dense(1, activation='sigmoid'),\n",
    "]\n",
    "# Create a simple NN\n",
    "model = tf.keras.models.Sequential(model_layers)\n",
    "# Compile model\n",
    "model.compile(optimizer=adam_optimizer, loss=loss_fn, weighted_metrics=['binary_accuracy'])"
   ]
  },
  {
   "cell_type": "code",
   "execution_count": 50,
   "id": "GPnLZ6V0bAjX",
   "metadata": {
    "colab": {
     "base_uri": "https://localhost:8080/"
    },
    "id": "GPnLZ6V0bAjX",
    "outputId": "765d4daa-c23b-400b-fc7d-018733ef46e1"
   },
   "outputs": [
    {
     "name": "stdout",
     "output_type": "stream",
     "text": [
      "Epoch 1/1000\n",
      "2149/2149 [==============================] - 23s 10ms/step - loss: 5.8674e-05 - binary_accuracy: 0.9759 - val_loss: 5.2226e-05 - val_binary_accuracy: 0.9759\n",
      "Epoch 2/1000\n",
      "2149/2149 [==============================] - 22s 10ms/step - loss: 5.2230e-05 - binary_accuracy: 0.9767 - val_loss: 5.1432e-05 - val_binary_accuracy: 0.9759\n",
      "Epoch 3/1000\n",
      "2149/2149 [==============================] - 22s 10ms/step - loss: 5.1637e-05 - binary_accuracy: 0.9767 - val_loss: 5.0773e-05 - val_binary_accuracy: 0.9759\n",
      "Epoch 4/1000\n",
      "2149/2149 [==============================] - 22s 10ms/step - loss: 5.1009e-05 - binary_accuracy: 0.9767 - val_loss: 5.0228e-05 - val_binary_accuracy: 0.9759\n",
      "Epoch 5/1000\n",
      "2149/2149 [==============================] - 22s 10ms/step - loss: 5.0539e-05 - binary_accuracy: 0.9767 - val_loss: 4.9802e-05 - val_binary_accuracy: 0.9759\n",
      "Epoch 6/1000\n",
      "2149/2149 [==============================] - 22s 10ms/step - loss: 5.0115e-05 - binary_accuracy: 0.9767 - val_loss: 4.9455e-05 - val_binary_accuracy: 0.9759\n",
      "Epoch 7/1000\n",
      "2149/2149 [==============================] - 22s 10ms/step - loss: 4.9805e-05 - binary_accuracy: 0.9767 - val_loss: 4.9335e-05 - val_binary_accuracy: 0.9759\n",
      "Epoch 8/1000\n",
      "2149/2149 [==============================] - 22s 10ms/step - loss: 4.9535e-05 - binary_accuracy: 0.9767 - val_loss: 4.9044e-05 - val_binary_accuracy: 0.9759\n",
      "Epoch 9/1000\n",
      "2149/2149 [==============================] - 22s 10ms/step - loss: 4.9229e-05 - binary_accuracy: 0.9767 - val_loss: 4.8750e-05 - val_binary_accuracy: 0.9759\n",
      "Epoch 10/1000\n",
      "2149/2149 [==============================] - 23s 11ms/step - loss: 4.9143e-05 - binary_accuracy: 0.9767 - val_loss: 4.8714e-05 - val_binary_accuracy: 0.9759\n",
      "Epoch 11/1000\n",
      "2149/2149 [==============================] - 23s 11ms/step - loss: 4.8912e-05 - binary_accuracy: 0.9767 - val_loss: 4.8605e-05 - val_binary_accuracy: 0.9759\n",
      "Epoch 12/1000\n",
      "2149/2149 [==============================] - 23s 11ms/step - loss: 4.8674e-05 - binary_accuracy: 0.9767 - val_loss: 4.8430e-05 - val_binary_accuracy: 0.9759\n",
      "Epoch 13/1000\n",
      "2149/2149 [==============================] - 22s 10ms/step - loss: 4.8575e-05 - binary_accuracy: 0.9767 - val_loss: 4.8258e-05 - val_binary_accuracy: 0.9759\n",
      "Epoch 14/1000\n",
      "2149/2149 [==============================] - 22s 10ms/step - loss: 4.8431e-05 - binary_accuracy: 0.9767 - val_loss: 4.8141e-05 - val_binary_accuracy: 0.9759\n",
      "Epoch 15/1000\n",
      "2149/2149 [==============================] - 22s 10ms/step - loss: 4.8379e-05 - binary_accuracy: 0.9767 - val_loss: 4.8099e-05 - val_binary_accuracy: 0.9759\n",
      "Epoch 16/1000\n",
      "2149/2149 [==============================] - 22s 10ms/step - loss: 4.8253e-05 - binary_accuracy: 0.9767 - val_loss: 4.7955e-05 - val_binary_accuracy: 0.9759\n",
      "Epoch 17/1000\n",
      "2149/2149 [==============================] - 22s 10ms/step - loss: 4.8067e-05 - binary_accuracy: 0.9767 - val_loss: 4.8039e-05 - val_binary_accuracy: 0.9759\n",
      "Epoch 18/1000\n",
      "2149/2149 [==============================] - 22s 10ms/step - loss: 4.7937e-05 - binary_accuracy: 0.9767 - val_loss: 4.8055e-05 - val_binary_accuracy: 0.9759\n",
      "Epoch 19/1000\n",
      "2149/2149 [==============================] - 23s 10ms/step - loss: 4.7915e-05 - binary_accuracy: 0.9767 - val_loss: 4.8001e-05 - val_binary_accuracy: 0.9759\n",
      "Epoch 20/1000\n",
      "2149/2149 [==============================] - 24s 11ms/step - loss: 4.7858e-05 - binary_accuracy: 0.9767 - val_loss: 4.8013e-05 - val_binary_accuracy: 0.9759\n",
      "Epoch 21/1000\n",
      "2149/2149 [==============================] - 23s 11ms/step - loss: 4.7697e-05 - binary_accuracy: 0.9767 - val_loss: 4.8012e-05 - val_binary_accuracy: 0.9759\n"
     ]
    }
   ],
   "source": [
    "# Train model\n",
    "history = model.fit(train_data, validation_data=val_data, callbacks=[early_stopping], epochs=1000)"
   ]
  },
  {
   "cell_type": "code",
   "execution_count": 51,
   "id": "Iyh3S_PZR91J",
   "metadata": {
    "colab": {
     "base_uri": "https://localhost:8080/",
     "height": 557
    },
    "id": "Iyh3S_PZR91J",
    "outputId": "771ec678-30f1-4c79-edb1-b46f1afb7b23"
   },
   "outputs": [
    {
     "data": {
      "image/png": "[encoded data removed]",
      "text/plain": [
       "<Figure size 700x600 with 1 Axes>"
      ]
     },
     "metadata": {},
     "output_type": "display_data"
    }
   ],
   "source": [
    "# Plot the training history\n",
    "fig, ax = plt.subplots(figsize=(7, 6))\n",
    "ax.plot(history.history['loss'], label='training')\n",
    "ax.plot(history.history['val_loss'], label='val')\n",
    "ax.set_xlabel('epoch')\n",
    "ax.set_ylabel('loss')\n",
    "ax.legend()\n",
    "_ = plt.show()"
   ]
  },
  {
   "cell_type": "code",
   "execution_count": 52,
   "id": "VcSLHpwBbAtP",
   "metadata": {
    "colab": {
     "base_uri": "https://localhost:8080/",
     "height": 556
    },
    "id": "VcSLHpwBbAtP",
    "outputId": "1f900781-0616-4cff-8c6c-0bfb89f95a87"
   },
   "outputs": [
    {
     "name": "stdout",
     "output_type": "stream",
     "text": [
      "8593/8593 [==============================] - 17s 2ms/step\n",
      "4297/4297 [==============================] - 8s 2ms/step\n"
     ]
    },
    {
     "data": {
      "image/png": "[encoded data removed]",
      "text/plain": [
       "<Figure size 700x600 with 1 Axes>"
      ]
     },
     "metadata": {},
     "output_type": "display_data"
    }
   ],
   "source": [
    "# Apply the model for tarining and validation values\n",
    "train_prediction = model.predict(train_values)\n",
    "val_prediction = model.predict(val_values)\n",
    "# Plot the model output\n",
    "common.plot_dnn_output(train_prediction, train_classification, val_prediction, val_classification)\n",
    "_ = plt.show()"
   ]
  },
  {
   "cell_type": "code",
   "execution_count": 53,
   "id": "dG_-a34VIKm0",
   "metadata": {
    "id": "dG_-a34VIKm0"
   },
   "outputs": [
    {
     "name": "stdout",
     "output_type": "stream",
     "text": [
      "2149/2149 [==============================] - 13s 6ms/step - loss: 4.7811e-05 - binary_accuracy: 0.9767\n",
      "1075/1075 [==============================] - 6s 5ms/step - loss: 4.7955e-05 - binary_accuracy: 0.9759\n",
      "train loss = 5e-05\ttrain binary accuracy = 0.97673\n",
      "val loss = 5e-05\tval binary accuracy = 0.97591\n"
     ]
    }
   ],
   "source": [
    "# Evaluate\n",
    "model_train_evaluation = model.evaluate(train_data)\n",
    "model_val_evaluation = model.evaluate(val_data)\n",
    "\n",
    "print(f'train loss = {round(model_train_evaluation[0], 5)}\\ttrain binary accuracy = {round(model_train_evaluation[1], 5)}')\n",
    "print(f'val loss = {round(model_val_evaluation[0], 5)}\\tval binary accuracy = {round(model_val_evaluation[1], 5)}')"
   ]
  },
  {
   "cell_type": "code",
   "execution_count": 54,
   "id": "fCt5AGQrbA1t",
   "metadata": {
    "colab": {
     "base_uri": "https://localhost:8080/",
     "height": 777
    },
    "id": "fCt5AGQrbA1t",
    "outputId": "0ce71a54-636e-4b49-e0d9-b227b3f7bbbb"
   },
   "outputs": [
    {
     "name": "stdout",
     "output_type": "stream",
     "text": [
      "Apply Model for ggH125_ZZ4lep\n",
      "5046/5046 [==============================] - 10s 2ms/step\n",
      "Apply Model for llll\n",
      "16374/16374 [==============================] - 31s 2ms/step\n",
      "Apply Model for Zee\n",
      "8/8 [==============================] - 0s 4ms/step\n",
      "Apply Model for Zmumu\n",
      "9/9 [==============================] - 0s 4ms/step\n"
     ]
    },
    {
     "data": {
      "image/png": "[encoded data removed]",
      "text/plain": [
       "<Figure size 700x700 with 1 Axes>"
      ]
     },
     "metadata": {},
     "output_type": "display_data"
    }
   ],
   "source": [
    "# Apply the model\n",
    "data_frames_apply_dnn = apply_dnn_model(model, data_frames, training_variables, sample_list_signal + sample_list_background)\n",
    "model_prediction = {'variable': 'model_prediction',\n",
    "                    'binning': np.linspace(0, 1, 50),\n",
    "                    'xlabel': 'prediction'}\n",
    "common.plot_hist(model_prediction, data_frames_apply_dnn, show_data=False)"
   ]
  },
  {
   "cell_type": "code",
   "execution_count": 55,
   "id": "MoHxpNYmQSiL",
   "metadata": {
    "id": "MoHxpNYmQSiL"
   },
   "outputs": [],
   "source": [
    "def reweight_weights(weights, classification):\n",
    "    # Take the absolute value of the weight\n",
    "    weights_abs = np.abs(weights)\n",
    "    # Split in signal and background weights\n",
    "    weights_signal = weights_abs*classification\n",
    "    weights_background = weights_abs*(1 - classification)\n",
    "    # Set ratio of signal and backgroubnd to one\n",
    "    weights_reweighted = weights_background + weights_signal * sum(weights_background) / sum(weights_signal)\n",
    "    # Normalize mean weight to one\n",
    "    weights_reweighted /= weights_reweighted.mean()\n",
    "    return weights_reweighted"
   ]
  },
  {
   "cell_type": "code",
   "execution_count": 56,
   "id": "jc7FWR0g5w-2",
   "metadata": {
    "id": "jc7FWR0g5w-2"
   },
   "outputs": [],
   "source": [
    "values, weights, classification = common.get_dnn_input(data_frames, training_variables, sample_list_signal, sample_list_background, 0.6)"
   ]
  },
  {
   "cell_type": "code",
   "execution_count": 57,
   "id": "Yq6yYscd55mR",
   "metadata": {
    "id": "Yq6yYscd55mR"
   },
   "outputs": [],
   "source": [
    "train_values, val_values, train_classification, val_classification = train_test_split(values, classification, test_size=1/3, random_state=123)\n",
    "train_weights, val_weights = train_test_split(weights, classification, test_size=1/3, random_state=123)[:2]"
   ]
  },
  {
   "cell_type": "code",
   "execution_count": 58,
   "id": "5mTwdrlOQSzZ",
   "metadata": {
    "id": "5mTwdrlOQSzZ"
   },
   "outputs": [],
   "source": [
    "# Get reweighted weights\n",
    "train_weights_reweighted = reweight_weights(train_weights, train_classification)\n",
    "val_weights_reweighted = reweight_weights(val_weights, val_classification)\n",
    "\n",
    "# Convert the data to tensorflow datasets\n",
    "train_data = Dataset.from_tensor_slices((train_values, train_classification, train_weights_reweighted))\n",
    "train_data = train_data.shuffle(len(train_data), seed=random_state)\n",
    "train_data = train_data.batch(128)\n",
    "val_data = Dataset.from_tensor_slices((val_values, val_classification, val_weights_reweighted))\n",
    "val_data = val_data.shuffle(len(val_data), seed=random_state)\n",
    "val_data = val_data.batch(128)"
   ]
  },
  {
   "cell_type": "code",
   "execution_count": 59,
   "id": "dBrso_7_QTDe",
   "metadata": {
    "colab": {
     "base_uri": "https://localhost:8080/"
    },
    "id": "dBrso_7_QTDe",
    "outputId": "1c70bb48-1113-41da-8c86-351df614ea94"
   },
   "outputs": [
    {
     "name": "stdout",
     "output_type": "stream",
     "text": [
      "Epoch 1/1000\n",
      "2142/2142 [==============================] - 23s 10ms/step - loss: 0.5515 - binary_accuracy: 0.7214 - val_loss: 0.5294 - val_binary_accuracy: 0.7389\n",
      "Epoch 2/1000\n",
      "2142/2142 [==============================] - 22s 10ms/step - loss: 0.5212 - binary_accuracy: 0.7400 - val_loss: 0.5115 - val_binary_accuracy: 0.7487\n",
      "Epoch 3/1000\n",
      "2142/2142 [==============================] - 22s 10ms/step - loss: 0.5022 - binary_accuracy: 0.7655 - val_loss: 0.4932 - val_binary_accuracy: 0.7767\n",
      "Epoch 4/1000\n",
      "2142/2142 [==============================] - 22s 10ms/step - loss: 0.4868 - binary_accuracy: 0.7779 - val_loss: 0.4801 - val_binary_accuracy: 0.7764\n",
      "Epoch 5/1000\n",
      "2142/2142 [==============================] - 22s 10ms/step - loss: 0.4767 - binary_accuracy: 0.7822 - val_loss: 0.4713 - val_binary_accuracy: 0.7882\n",
      "Epoch 6/1000\n",
      "2142/2142 [==============================] - 22s 10ms/step - loss: 0.4703 - binary_accuracy: 0.7835 - val_loss: 0.4733 - val_binary_accuracy: 0.7803\n",
      "Epoch 7/1000\n",
      "2142/2142 [==============================] - 22s 10ms/step - loss: 0.4659 - binary_accuracy: 0.7869 - val_loss: 0.4651 - val_binary_accuracy: 0.7864\n",
      "Epoch 8/1000\n",
      "2142/2142 [==============================] - 22s 10ms/step - loss: 0.4638 - binary_accuracy: 0.7869 - val_loss: 0.4620 - val_binary_accuracy: 0.7874\n",
      "Epoch 9/1000\n",
      "2142/2142 [==============================] - 22s 10ms/step - loss: 0.4618 - binary_accuracy: 0.7868 - val_loss: 0.4606 - val_binary_accuracy: 0.7896\n",
      "Epoch 10/1000\n",
      "2142/2142 [==============================] - 22s 10ms/step - loss: 0.4604 - binary_accuracy: 0.7883 - val_loss: 0.4659 - val_binary_accuracy: 0.7842\n",
      "Epoch 11/1000\n",
      "2142/2142 [==============================] - 22s 10ms/step - loss: 0.4592 - binary_accuracy: 0.7880 - val_loss: 0.4625 - val_binary_accuracy: 0.7891\n",
      "Epoch 12/1000\n",
      "2142/2142 [==============================] - 22s 10ms/step - loss: 0.4584 - binary_accuracy: 0.7901 - val_loss: 0.4563 - val_binary_accuracy: 0.7942\n",
      "Epoch 13/1000\n",
      "2142/2142 [==============================] - 22s 10ms/step - loss: 0.4573 - binary_accuracy: 0.7886 - val_loss: 0.4678 - val_binary_accuracy: 0.7845\n",
      "Epoch 14/1000\n",
      "2142/2142 [==============================] - 22s 10ms/step - loss: 0.4570 - binary_accuracy: 0.7894 - val_loss: 0.4575 - val_binary_accuracy: 0.7889\n",
      "Epoch 15/1000\n",
      "2142/2142 [==============================] - 23s 10ms/step - loss: 0.4564 - binary_accuracy: 0.7871 - val_loss: 0.4559 - val_binary_accuracy: 0.7946\n",
      "Epoch 16/1000\n",
      "2142/2142 [==============================] - 22s 10ms/step - loss: 0.4556 - binary_accuracy: 0.7888 - val_loss: 0.4548 - val_binary_accuracy: 0.7929\n",
      "Epoch 17/1000\n",
      "2142/2142 [==============================] - 22s 10ms/step - loss: 0.4552 - binary_accuracy: 0.7908 - val_loss: 0.4534 - val_binary_accuracy: 0.7932\n",
      "Epoch 18/1000\n",
      "2142/2142 [==============================] - 22s 10ms/step - loss: 0.4552 - binary_accuracy: 0.7930 - val_loss: 0.4537 - val_binary_accuracy: 0.7923\n",
      "Epoch 19/1000\n",
      "2142/2142 [==============================] - 22s 10ms/step - loss: 0.4553 - binary_accuracy: 0.7887 - val_loss: 0.4521 - val_binary_accuracy: 0.7928\n",
      "Epoch 20/1000\n",
      "2142/2142 [==============================] - 22s 10ms/step - loss: 0.4545 - binary_accuracy: 0.7900 - val_loss: 0.4528 - val_binary_accuracy: 0.7895\n",
      "Epoch 21/1000\n",
      "2142/2142 [==============================] - 22s 10ms/step - loss: 0.4540 - binary_accuracy: 0.7901 - val_loss: 0.4537 - val_binary_accuracy: 0.7928\n",
      "Epoch 22/1000\n",
      "2142/2142 [==============================] - 22s 10ms/step - loss: 0.4528 - binary_accuracy: 0.7906 - val_loss: 0.4506 - val_binary_accuracy: 0.7955\n",
      "Epoch 23/1000\n",
      "2142/2142 [==============================] - 22s 10ms/step - loss: 0.4529 - binary_accuracy: 0.7920 - val_loss: 0.4523 - val_binary_accuracy: 0.7920\n",
      "Epoch 24/1000\n",
      "2142/2142 [==============================] - 22s 10ms/step - loss: 0.4528 - binary_accuracy: 0.7928 - val_loss: 0.4527 - val_binary_accuracy: 0.7934\n",
      "Epoch 25/1000\n",
      "2142/2142 [==============================] - 22s 10ms/step - loss: 0.4519 - binary_accuracy: 0.7939 - val_loss: 0.4534 - val_binary_accuracy: 0.7947\n",
      "Epoch 26/1000\n",
      "2142/2142 [==============================] - 23s 11ms/step - loss: 0.4522 - binary_accuracy: 0.7909 - val_loss: 0.4548 - val_binary_accuracy: 0.7903\n",
      "Epoch 27/1000\n",
      "2142/2142 [==============================] - 22s 10ms/step - loss: 0.4522 - binary_accuracy: 0.7900 - val_loss: 0.4513 - val_binary_accuracy: 0.7950\n"
     ]
    }
   ],
   "source": [
    "# Normalization layer\n",
    "normalization_layer = tf.keras.layers.Normalization()\n",
    "normalization_layer.adapt(train_values)\n",
    "# Create a simple NN\n",
    "model_layers = [\n",
    "    normalization_layer,\n",
    "    tf.keras.layers.Dense(60, activation='relu'),\n",
    "    tf.keras.layers.Dense(60, activation='relu'),\n",
    "    tf.keras.layers.Dense(1, activation='sigmoid'),\n",
    "]\n",
    "# Create a simple NN\n",
    "model = tf.keras.models.Sequential(model_layers)\n",
    "# Compile model\n",
    "model.compile(optimizer=adam_optimizer, loss=loss_fn, weighted_metrics=['binary_accuracy'])\n",
    "# Train model\n",
    "history = model.fit(train_data, validation_data=val_data, callbacks=[early_stopping], epochs=1000)"
   ]
  },
  {
   "cell_type": "code",
   "execution_count": 60,
   "id": "pOnxDoVXQTT4",
   "metadata": {
    "colab": {
     "base_uri": "https://localhost:8080/",
     "height": 542
    },
    "id": "pOnxDoVXQTT4",
    "outputId": "12eba90b-923e-4328-e304-00253e772ae1"
   },
   "outputs": [
    {
     "data": {
      "image/png": "[encoded data removed]",
      "text/plain": [
       "<Figure size 700x600 with 1 Axes>"
      ]
     },
     "metadata": {},
     "output_type": "display_data"
    }
   ],
   "source": [
    "# Plot the training history\n",
    "fig, ax = plt.subplots(figsize=(7, 6))\n",
    "ax.plot(history.history['loss'], label='training')\n",
    "ax.plot(history.history['val_loss'], label='val')\n",
    "ax.set_xlabel('epoch')\n",
    "ax.set_ylabel('loss')\n",
    "ax.legend()\n",
    "_ = plt.show()"
   ]
  },
  {
   "cell_type": "code",
   "execution_count": 61,
   "id": "7ap3ul7SQTzJ",
   "metadata": {
    "colab": {
     "base_uri": "https://localhost:8080/",
     "height": 556
    },
    "id": "7ap3ul7SQTzJ",
    "outputId": "fc47ce20-fe1f-4a32-80aa-1e525ce686a7"
   },
   "outputs": [
    {
     "name": "stdout",
     "output_type": "stream",
     "text": [
      "8566/8566 [==============================] - 17s 2ms/step\n",
      "4283/4283 [==============================] - 8s 2ms/step\n"
     ]
    },
    {
     "data": {
      "image/png": "[encoded data removed]",
      "text/plain": [
       "<Figure size 700x600 with 1 Axes>"
      ]
     },
     "metadata": {},
     "output_type": "display_data"
    }
   ],
   "source": [
    "# Apply the model for training and validation values\n",
    "train_prediction = model.predict(train_values)\n",
    "val_prediction = model.predict(val_values)\n",
    "# Plot the model output\n",
    "common.plot_dnn_output(train_prediction, train_classification, val_prediction, val_classification)\n",
    "_ = plt.show()"
   ]
  },
  {
   "cell_type": "code",
   "execution_count": 62,
   "id": "mPQ9yQ7TSMnh",
   "metadata": {
    "colab": {
     "base_uri": "https://localhost:8080/",
     "height": 777
    },
    "id": "mPQ9yQ7TSMnh",
    "outputId": "c9611a6b-ccea-4a06-b32f-540d34a170e8"
   },
   "outputs": [
    {
     "name": "stdout",
     "output_type": "stream",
     "text": [
      "Apply Model for ggH125_ZZ4lep\n",
      "5046/5046 [==============================] - 10s 2ms/step\n",
      "Apply Model for llll\n",
      "16374/16374 [==============================] - 32s 2ms/step\n",
      "Apply Model for Zee\n",
      "8/8 [==============================] - 0s 4ms/step\n",
      "Apply Model for Zmumu\n",
      "9/9 [==============================] - 0s 4ms/step\n"
     ]
    },
    {
     "data": {
      "image/png": "[encoded data removed]",
      "text/plain": [
       "<Figure size 700x700 with 1 Axes>"
      ]
     },
     "metadata": {},
     "output_type": "display_data"
    }
   ],
   "source": [
    "# Apply the model\n",
    "data_frames_apply_dnn = apply_dnn_model(model, data_frames, training_variables, sample_list_signal + sample_list_background)\n",
    "model_prediction = {'variable': 'model_prediction',\n",
    "                    'binning': np.linspace(0, 1, 50),\n",
    "                    'xlabel': 'prediction'}\n",
    "common.plot_hist(model_prediction, data_frames_apply_dnn, show_data=False)"
   ]
  },
  {
   "cell_type": "code",
   "execution_count": null,
   "id": "nSH3fPCBSM6j",
   "metadata": {
    "id": "nSH3fPCBSM6j"
   },
   "outputs": [],
   "source": []
  },
  {
   "cell_type": "markdown",
   "id": "DnaOe4OGlaL9",
   "metadata": {
    "id": "DnaOe4OGlaL9"
   },
   "source": [
    "## Cross-Validation"
   ]
  },
  {
   "cell_type": "code",
   "execution_count": 63,
   "id": "p2YYk5F9SNJl",
   "metadata": {
    "id": "p2YYk5F9SNJl"
   },
   "outputs": [],
   "source": [
    "from sklearn.model_selection import KFold"
   ]
  },
  {
   "cell_type": "code",
   "execution_count": 64,
   "id": "NrtmakOrvWqJ",
   "metadata": {
    "id": "NrtmakOrvWqJ"
   },
   "outputs": [],
   "source": [
    "values, weights, classification = common.get_dnn_input(data_frames, training_variables, sample_list_signal, sample_list_background, 0.6)"
   ]
  },
  {
   "cell_type": "code",
   "execution_count": 65,
   "id": "dI3Zp2xXSPri",
   "metadata": {
    "id": "dI3Zp2xXSPri"
   },
   "outputs": [],
   "source": [
    "# Define the K-fold Cross Validator\n",
    "kfold = KFold(n_splits=3, shuffle=True, random_state=random_state)"
   ]
  },
  {
   "cell_type": "code",
   "execution_count": 66,
   "id": "--Jm5SPaSQFm",
   "metadata": {
    "colab": {
     "base_uri": "https://localhost:8080/"
    },
    "id": "--Jm5SPaSQFm",
    "outputId": "73cef139-4304-4936-ff12-025a66482277"
   },
   "outputs": [
    {
     "name": "stdout",
     "output_type": "stream",
     "text": [
      "Use split 1\n",
      "Epoch 1/1000\n",
      "2211/2211 [==============================] - 23s 10ms/step - loss: 0.5460 - binary_accuracy: 0.7328 - val_loss: 0.5277 - val_binary_accuracy: 0.7378\n",
      "Epoch 2/1000\n",
      "2211/2211 [==============================] - 23s 10ms/step - loss: 0.5160 - binary_accuracy: 0.7381 - val_loss: 0.5033 - val_binary_accuracy: 0.7581\n",
      "Epoch 3/1000\n",
      "2211/2211 [==============================] - 23s 10ms/step - loss: 0.4912 - binary_accuracy: 0.7698 - val_loss: 0.4819 - val_binary_accuracy: 0.7822\n",
      "Epoch 4/1000\n",
      "2211/2211 [==============================] - 23s 10ms/step - loss: 0.4750 - binary_accuracy: 0.7894 - val_loss: 0.4697 - val_binary_accuracy: 0.7886\n",
      "Epoch 5/1000\n",
      "2211/2211 [==============================] - 22s 10ms/step - loss: 0.4649 - binary_accuracy: 0.7900 - val_loss: 0.4622 - val_binary_accuracy: 0.7923\n",
      "Epoch 6/1000\n",
      "2211/2211 [==============================] - 22s 10ms/step - loss: 0.4593 - binary_accuracy: 0.7913 - val_loss: 0.4582 - val_binary_accuracy: 0.7880\n",
      "Epoch 7/1000\n",
      "2211/2211 [==============================] - 23s 10ms/step - loss: 0.4555 - binary_accuracy: 0.7949 - val_loss: 0.4567 - val_binary_accuracy: 0.7904\n",
      "Epoch 8/1000\n",
      "2211/2211 [==============================] - 23s 10ms/step - loss: 0.4537 - binary_accuracy: 0.7946 - val_loss: 0.4566 - val_binary_accuracy: 0.7877\n",
      "Epoch 9/1000\n",
      "2211/2211 [==============================] - 23s 10ms/step - loss: 0.4520 - binary_accuracy: 0.7955 - val_loss: 0.4533 - val_binary_accuracy: 0.7934\n",
      "Epoch 10/1000\n",
      "2211/2211 [==============================] - 22s 10ms/step - loss: 0.4515 - binary_accuracy: 0.7958 - val_loss: 0.4524 - val_binary_accuracy: 0.7929\n",
      "Epoch 11/1000\n",
      "2211/2211 [==============================] - 22s 10ms/step - loss: 0.4498 - binary_accuracy: 0.7953 - val_loss: 0.4595 - val_binary_accuracy: 0.7902\n",
      "Epoch 12/1000\n",
      "2211/2211 [==============================] - 22s 10ms/step - loss: 0.4492 - binary_accuracy: 0.7959 - val_loss: 0.4547 - val_binary_accuracy: 0.7907\n",
      "Epoch 13/1000\n",
      "2211/2211 [==============================] - 22s 10ms/step - loss: 0.4477 - binary_accuracy: 0.7951 - val_loss: 0.4509 - val_binary_accuracy: 0.7924\n",
      "Epoch 14/1000\n",
      "2211/2211 [==============================] - 23s 10ms/step - loss: 0.4483 - binary_accuracy: 0.7965 - val_loss: 0.4575 - val_binary_accuracy: 0.7825\n",
      "Epoch 15/1000\n",
      "2211/2211 [==============================] - 23s 11ms/step - loss: 0.4477 - binary_accuracy: 0.7954 - val_loss: 0.4500 - val_binary_accuracy: 0.7927\n",
      "Epoch 16/1000\n",
      "2211/2211 [==============================] - 23s 10ms/step - loss: 0.4473 - binary_accuracy: 0.7960 - val_loss: 0.4506 - val_binary_accuracy: 0.7914\n",
      "Epoch 17/1000\n",
      "2211/2211 [==============================] - 23s 10ms/step - loss: 0.4466 - binary_accuracy: 0.7982 - val_loss: 0.4534 - val_binary_accuracy: 0.7938\n",
      "Epoch 18/1000\n",
      "2211/2211 [==============================] - 23s 10ms/step - loss: 0.4461 - binary_accuracy: 0.7958 - val_loss: 0.4536 - val_binary_accuracy: 0.7893\n",
      "Epoch 19/1000\n",
      "2211/2211 [==============================] - 23s 10ms/step - loss: 0.4461 - binary_accuracy: 0.7983 - val_loss: 0.4496 - val_binary_accuracy: 0.7932\n",
      "Epoch 20/1000\n",
      "2211/2211 [==============================] - 23s 10ms/step - loss: 0.4452 - binary_accuracy: 0.7973 - val_loss: 0.4504 - val_binary_accuracy: 0.7922\n",
      "Epoch 21/1000\n",
      "2211/2211 [==============================] - 22s 10ms/step - loss: 0.4452 - binary_accuracy: 0.7980 - val_loss: 0.4502 - val_binary_accuracy: 0.7932\n",
      "Epoch 22/1000\n",
      "2211/2211 [==============================] - 23s 10ms/step - loss: 0.4446 - binary_accuracy: 0.8000 - val_loss: 0.4494 - val_binary_accuracy: 0.7930\n",
      "Epoch 23/1000\n",
      "2211/2211 [==============================] - 24s 11ms/step - loss: 0.4445 - binary_accuracy: 0.7990 - val_loss: 0.4501 - val_binary_accuracy: 0.7928\n",
      "Epoch 24/1000\n",
      "2211/2211 [==============================] - 25s 11ms/step - loss: 0.4447 - binary_accuracy: 0.7982 - val_loss: 0.4516 - val_binary_accuracy: 0.7906\n",
      "Epoch 25/1000\n",
      "2211/2211 [==============================] - 23s 10ms/step - loss: 0.4437 - binary_accuracy: 0.7998 - val_loss: 0.4511 - val_binary_accuracy: 0.7903\n",
      "Epoch 26/1000\n",
      "2211/2211 [==============================] - 23s 10ms/step - loss: 0.4442 - binary_accuracy: 0.7960 - val_loss: 0.4503 - val_binary_accuracy: 0.7945\n",
      "Epoch 27/1000\n",
      "2211/2211 [==============================] - 23s 10ms/step - loss: 0.4440 - binary_accuracy: 0.7989 - val_loss: 0.4525 - val_binary_accuracy: 0.7916\n",
      "2211/2211 [==============================] - 13s 6ms/step - loss: 0.4434 - binary_accuracy: 0.7986\n",
      "1106/1106 [==============================] - 6s 6ms/step - loss: 0.4494 - binary_accuracy: 0.7930\n",
      "Use split 2\n",
      "Epoch 1/1000\n",
      "2211/2211 [==============================] - 23s 10ms/step - loss: 0.5393 - binary_accuracy: 0.7354 - val_loss: 0.5216 - val_binary_accuracy: 0.7450\n",
      "Epoch 2/1000\n",
      "2211/2211 [==============================] - 23s 10ms/step - loss: 0.5063 - binary_accuracy: 0.7427 - val_loss: 0.4988 - val_binary_accuracy: 0.7712\n",
      "Epoch 3/1000\n",
      "2211/2211 [==============================] - 23s 10ms/step - loss: 0.4860 - binary_accuracy: 0.7734 - val_loss: 0.4800 - val_binary_accuracy: 0.7801\n",
      "Epoch 4/1000\n",
      "2211/2211 [==============================] - 23s 10ms/step - loss: 0.4723 - binary_accuracy: 0.7861 - val_loss: 0.4753 - val_binary_accuracy: 0.7694\n",
      "Epoch 5/1000\n",
      "2211/2211 [==============================] - 23s 10ms/step - loss: 0.4643 - binary_accuracy: 0.7891 - val_loss: 0.4633 - val_binary_accuracy: 0.7847\n",
      "Epoch 6/1000\n",
      "2211/2211 [==============================] - 23s 11ms/step - loss: 0.4594 - binary_accuracy: 0.7920 - val_loss: 0.4600 - val_binary_accuracy: 0.7877\n",
      "Epoch 7/1000\n",
      "2211/2211 [==============================] - 23s 10ms/step - loss: 0.4560 - binary_accuracy: 0.7936 - val_loss: 0.4587 - val_binary_accuracy: 0.7902\n",
      "Epoch 8/1000\n",
      "2211/2211 [==============================] - 23s 10ms/step - loss: 0.4548 - binary_accuracy: 0.7922 - val_loss: 0.4552 - val_binary_accuracy: 0.7919\n",
      "Epoch 9/1000\n",
      "2211/2211 [==============================] - 24s 11ms/step - loss: 0.4527 - binary_accuracy: 0.7945 - val_loss: 0.4541 - val_binary_accuracy: 0.7936\n",
      "Epoch 10/1000\n",
      "2211/2211 [==============================] - 24s 11ms/step - loss: 0.4515 - binary_accuracy: 0.7937 - val_loss: 0.4557 - val_binary_accuracy: 0.7884\n",
      "Epoch 11/1000\n",
      "2211/2211 [==============================] - 23s 10ms/step - loss: 0.4503 - binary_accuracy: 0.7961 - val_loss: 0.4534 - val_binary_accuracy: 0.7875\n",
      "Epoch 12/1000\n",
      "2211/2211 [==============================] - 23s 10ms/step - loss: 0.4496 - binary_accuracy: 0.7961 - val_loss: 0.4527 - val_binary_accuracy: 0.7864\n",
      "Epoch 13/1000\n",
      "2211/2211 [==============================] - 23s 10ms/step - loss: 0.4487 - binary_accuracy: 0.7970 - val_loss: 0.4589 - val_binary_accuracy: 0.7830\n",
      "Epoch 14/1000\n",
      "2211/2211 [==============================] - 24s 11ms/step - loss: 0.4475 - binary_accuracy: 0.7944 - val_loss: 0.4507 - val_binary_accuracy: 0.7932\n",
      "Epoch 15/1000\n",
      "2211/2211 [==============================] - 24s 11ms/step - loss: 0.4476 - binary_accuracy: 0.7973 - val_loss: 0.4512 - val_binary_accuracy: 0.7933\n",
      "Epoch 16/1000\n",
      "2211/2211 [==============================] - 24s 11ms/step - loss: 0.4471 - binary_accuracy: 0.7945 - val_loss: 0.4553 - val_binary_accuracy: 0.7864\n",
      "Epoch 17/1000\n",
      "2211/2211 [==============================] - 23s 10ms/step - loss: 0.4469 - binary_accuracy: 0.7990 - val_loss: 0.4499 - val_binary_accuracy: 0.7904\n",
      "Epoch 18/1000\n",
      "2211/2211 [==============================] - 23s 10ms/step - loss: 0.4468 - binary_accuracy: 0.7985 - val_loss: 0.4494 - val_binary_accuracy: 0.7945\n",
      "Epoch 19/1000\n",
      "2211/2211 [==============================] - 23s 10ms/step - loss: 0.4460 - binary_accuracy: 0.7960 - val_loss: 0.4528 - val_binary_accuracy: 0.7869\n",
      "Epoch 20/1000\n",
      "2211/2211 [==============================] - 23s 10ms/step - loss: 0.4457 - binary_accuracy: 0.7969 - val_loss: 0.4569 - val_binary_accuracy: 0.7934\n",
      "Epoch 21/1000\n",
      "2211/2211 [==============================] - 23s 10ms/step - loss: 0.4445 - binary_accuracy: 0.7972 - val_loss: 0.4492 - val_binary_accuracy: 0.7954\n",
      "Epoch 22/1000\n",
      "2211/2211 [==============================] - 24s 11ms/step - loss: 0.4448 - binary_accuracy: 0.7997 - val_loss: 0.4533 - val_binary_accuracy: 0.7866\n",
      "Epoch 23/1000\n"
     ]
    },
    {
     "name": "stdout",
     "output_type": "stream",
     "text": [
      "2211/2211 [==============================] - 23s 10ms/step - loss: 0.4447 - binary_accuracy: 0.7968 - val_loss: 0.4488 - val_binary_accuracy: 0.7865\n",
      "Epoch 24/1000\n",
      "2211/2211 [==============================] - 22s 10ms/step - loss: 0.4443 - binary_accuracy: 0.7989 - val_loss: 0.4487 - val_binary_accuracy: 0.7918\n",
      "Epoch 25/1000\n",
      "2211/2211 [==============================] - 22s 10ms/step - loss: 0.4437 - binary_accuracy: 0.7981 - val_loss: 0.4504 - val_binary_accuracy: 0.7891\n",
      "Epoch 26/1000\n",
      "2211/2211 [==============================] - 23s 10ms/step - loss: 0.4432 - binary_accuracy: 0.7957 - val_loss: 0.4485 - val_binary_accuracy: 0.7894\n",
      "Epoch 27/1000\n",
      "2211/2211 [==============================] - 23s 10ms/step - loss: 0.4439 - binary_accuracy: 0.7997 - val_loss: 0.4477 - val_binary_accuracy: 0.7937\n",
      "Epoch 28/1000\n",
      "2211/2211 [==============================] - 22s 10ms/step - loss: 0.4433 - binary_accuracy: 0.7975 - val_loss: 0.4481 - val_binary_accuracy: 0.7950\n",
      "Epoch 29/1000\n",
      "2211/2211 [==============================] - 23s 10ms/step - loss: 0.4428 - binary_accuracy: 0.7973 - val_loss: 0.4483 - val_binary_accuracy: 0.7947\n",
      "Epoch 30/1000\n",
      "2211/2211 [==============================] - 23s 10ms/step - loss: 0.4434 - binary_accuracy: 0.7988 - val_loss: 0.4493 - val_binary_accuracy: 0.7881\n",
      "Epoch 31/1000\n",
      "2211/2211 [==============================] - 23s 10ms/step - loss: 0.4436 - binary_accuracy: 0.7995 - val_loss: 0.4473 - val_binary_accuracy: 0.7923\n",
      "Epoch 32/1000\n",
      "2211/2211 [==============================] - 23s 10ms/step - loss: 0.4428 - binary_accuracy: 0.7982 - val_loss: 0.4504 - val_binary_accuracy: 0.7875\n",
      "Epoch 33/1000\n",
      "2211/2211 [==============================] - 23s 10ms/step - loss: 0.4427 - binary_accuracy: 0.7989 - val_loss: 0.4483 - val_binary_accuracy: 0.7909\n",
      "Epoch 34/1000\n",
      "2211/2211 [==============================] - 22s 10ms/step - loss: 0.4428 - binary_accuracy: 0.7972 - val_loss: 0.4484 - val_binary_accuracy: 0.7919\n",
      "Epoch 35/1000\n",
      "2211/2211 [==============================] - 22s 10ms/step - loss: 0.4428 - binary_accuracy: 0.7974 - val_loss: 0.4470 - val_binary_accuracy: 0.7962\n",
      "Epoch 36/1000\n",
      "2211/2211 [==============================] - 22s 10ms/step - loss: 0.4425 - binary_accuracy: 0.7974 - val_loss: 0.4505 - val_binary_accuracy: 0.7883\n",
      "Epoch 37/1000\n",
      "2211/2211 [==============================] - 23s 10ms/step - loss: 0.4426 - binary_accuracy: 0.7977 - val_loss: 0.4478 - val_binary_accuracy: 0.7942\n",
      "Epoch 38/1000\n",
      "2211/2211 [==============================] - 23s 10ms/step - loss: 0.4424 - binary_accuracy: 0.7997 - val_loss: 0.4479 - val_binary_accuracy: 0.7944\n",
      "Epoch 39/1000\n",
      "2211/2211 [==============================] - 23s 10ms/step - loss: 0.4425 - binary_accuracy: 0.7999 - val_loss: 0.4510 - val_binary_accuracy: 0.7881\n",
      "Epoch 40/1000\n",
      "2211/2211 [==============================] - 23s 10ms/step - loss: 0.4421 - binary_accuracy: 0.7977 - val_loss: 0.4517 - val_binary_accuracy: 0.7840\n",
      "2211/2211 [==============================] - 12s 6ms/step - loss: 0.4404 - binary_accuracy: 0.8000\n",
      "1106/1106 [==============================] - 6s 5ms/step - loss: 0.4470 - binary_accuracy: 0.7962\n",
      "Use split 3\n",
      "Epoch 1/1000\n",
      "2211/2211 [==============================] - 23s 10ms/step - loss: 0.5441 - binary_accuracy: 0.7335 - val_loss: 0.5282 - val_binary_accuracy: 0.7349\n",
      "Epoch 2/1000\n",
      "2211/2211 [==============================] - 23s 10ms/step - loss: 0.5165 - binary_accuracy: 0.7413 - val_loss: 0.5044 - val_binary_accuracy: 0.7550\n",
      "Epoch 3/1000\n",
      "2211/2211 [==============================] - 23s 10ms/step - loss: 0.4948 - binary_accuracy: 0.7603 - val_loss: 0.4833 - val_binary_accuracy: 0.7899\n",
      "Epoch 4/1000\n",
      "2211/2211 [==============================] - 23s 10ms/step - loss: 0.4788 - binary_accuracy: 0.7822 - val_loss: 0.4689 - val_binary_accuracy: 0.7865\n",
      "Epoch 5/1000\n",
      "2211/2211 [==============================] - 23s 10ms/step - loss: 0.4674 - binary_accuracy: 0.7900 - val_loss: 0.4614 - val_binary_accuracy: 0.7878\n",
      "Epoch 6/1000\n",
      "2211/2211 [==============================] - 23s 10ms/step - loss: 0.4617 - binary_accuracy: 0.7900 - val_loss: 0.4556 - val_binary_accuracy: 0.7947\n",
      "Epoch 7/1000\n",
      "2211/2211 [==============================] - 23s 10ms/step - loss: 0.4578 - binary_accuracy: 0.7895 - val_loss: 0.4536 - val_binary_accuracy: 0.7957\n",
      "Epoch 8/1000\n",
      "2211/2211 [==============================] - 23s 10ms/step - loss: 0.4556 - binary_accuracy: 0.7910 - val_loss: 0.4522 - val_binary_accuracy: 0.7978\n",
      "Epoch 9/1000\n",
      "2211/2211 [==============================] - 23s 10ms/step - loss: 0.4548 - binary_accuracy: 0.7912 - val_loss: 0.4512 - val_binary_accuracy: 0.7958\n",
      "Epoch 10/1000\n",
      "2211/2211 [==============================] - 23s 10ms/step - loss: 0.4529 - binary_accuracy: 0.7926 - val_loss: 0.4496 - val_binary_accuracy: 0.7971\n",
      "Epoch 11/1000\n",
      "2211/2211 [==============================] - 23s 10ms/step - loss: 0.4523 - binary_accuracy: 0.7917 - val_loss: 0.4473 - val_binary_accuracy: 0.7995\n",
      "Epoch 12/1000\n",
      "2211/2211 [==============================] - 23s 10ms/step - loss: 0.4502 - binary_accuracy: 0.7913 - val_loss: 0.4462 - val_binary_accuracy: 0.8016\n",
      "Epoch 13/1000\n",
      "2211/2211 [==============================] - 23s 10ms/step - loss: 0.4505 - binary_accuracy: 0.7928 - val_loss: 0.4514 - val_binary_accuracy: 0.7939\n",
      "Epoch 14/1000\n",
      "2211/2211 [==============================] - 23s 10ms/step - loss: 0.4503 - binary_accuracy: 0.7915 - val_loss: 0.4488 - val_binary_accuracy: 0.7967\n",
      "Epoch 15/1000\n",
      "2211/2211 [==============================] - 23s 10ms/step - loss: 0.4490 - binary_accuracy: 0.7922 - val_loss: 0.4470 - val_binary_accuracy: 0.7981\n",
      "Epoch 16/1000\n",
      "2211/2211 [==============================] - 23s 10ms/step - loss: 0.4486 - binary_accuracy: 0.7921 - val_loss: 0.4482 - val_binary_accuracy: 0.7953\n",
      "Epoch 17/1000\n",
      "2211/2211 [==============================] - 23s 10ms/step - loss: 0.4487 - binary_accuracy: 0.7929 - val_loss: 0.4460 - val_binary_accuracy: 0.7999\n",
      "Epoch 18/1000\n",
      "2211/2211 [==============================] - 23s 10ms/step - loss: 0.4491 - binary_accuracy: 0.7941 - val_loss: 0.4457 - val_binary_accuracy: 0.7989\n",
      "Epoch 19/1000\n",
      "2211/2211 [==============================] - 23s 10ms/step - loss: 0.4480 - binary_accuracy: 0.7938 - val_loss: 0.4465 - val_binary_accuracy: 0.7973\n",
      "Epoch 20/1000\n",
      "2211/2211 [==============================] - 23s 10ms/step - loss: 0.4474 - binary_accuracy: 0.7933 - val_loss: 0.4507 - val_binary_accuracy: 0.7941\n",
      "Epoch 21/1000\n",
      "2211/2211 [==============================] - 23s 10ms/step - loss: 0.4479 - binary_accuracy: 0.7929 - val_loss: 0.4478 - val_binary_accuracy: 0.7962\n",
      "Epoch 22/1000\n",
      "2211/2211 [==============================] - 23s 10ms/step - loss: 0.4472 - binary_accuracy: 0.7927 - val_loss: 0.4478 - val_binary_accuracy: 0.7942\n",
      "Epoch 23/1000\n",
      "2211/2211 [==============================] - 23s 10ms/step - loss: 0.4470 - binary_accuracy: 0.7956 - val_loss: 0.4443 - val_binary_accuracy: 0.7988\n",
      "Epoch 24/1000\n",
      "2211/2211 [==============================] - 24s 11ms/step - loss: 0.4469 - binary_accuracy: 0.7911 - val_loss: 0.4449 - val_binary_accuracy: 0.7996\n",
      "Epoch 25/1000\n",
      "2211/2211 [==============================] - 23s 10ms/step - loss: 0.4459 - binary_accuracy: 0.7950 - val_loss: 0.4450 - val_binary_accuracy: 0.8001\n",
      "Epoch 26/1000\n",
      "2211/2211 [==============================] - 23s 10ms/step - loss: 0.4465 - binary_accuracy: 0.7907 - val_loss: 0.4446 - val_binary_accuracy: 0.8001\n",
      "Epoch 27/1000\n",
      "2211/2211 [==============================] - 23s 10ms/step - loss: 0.4457 - binary_accuracy: 0.7929 - val_loss: 0.4535 - val_binary_accuracy: 0.7945\n",
      "Epoch 28/1000\n",
      "2211/2211 [==============================] - 23s 10ms/step - loss: 0.4454 - binary_accuracy: 0.7947 - val_loss: 0.4452 - val_binary_accuracy: 0.7985\n",
      "2211/2211 [==============================] - 12s 6ms/step - loss: 0.4441 - binary_accuracy: 0.7913\n",
      "1106/1106 [==============================] - 6s 6ms/step - loss: 0.4443 - binary_accuracy: 0.7988\n"
     ]
    }
   ],
   "source": [
    "# Store the models and their training history\n",
    "kfold_history = []\n",
    "kfold_model = []\n",
    "# Store the evaluation on training and validation data\n",
    "kfold_train_eval_loss = []\n",
    "kfold_train_eval_acc = []\n",
    "kfold_val_eval_loss = []\n",
    "kfold_val_eval_acc = []\n",
    "split_idx = 1\n",
    "for train_indices, val_indices in kfold.split(values):\n",
    "    print(f'Use split {split_idx}')\n",
    "    split_idx += 1\n",
    "    # Get train and validation data \n",
    "    train_values = values[train_indices]\n",
    "    train_classification = classification[train_indices]\n",
    "    train_weights = weights[train_indices]\n",
    "    val_values = values[val_indices]\n",
    "    val_classification = classification[val_indices]\n",
    "    val_weights = weights[val_indices]\n",
    "    # Get reweighted weights\n",
    "    train_weights_reweighted = reweight_weights(train_weights, train_classification)\n",
    "    val_weights_reweighted = reweight_weights(val_weights, val_classification)\n",
    "    # Get train and validation data \n",
    "    train_data = Dataset.from_tensor_slices((train_values, train_classification, train_weights_reweighted))\n",
    "    train_data = train_data.shuffle(len(train_data), seed=random_state)\n",
    "    train_data = train_data.batch(124)\n",
    "    val_data = Dataset.from_tensor_slices((val_values, val_classification, val_weights_reweighted))\n",
    "    val_data = val_data.shuffle(len(val_data), seed=random_state)\n",
    "    val_data = val_data.batch(124)\n",
    "\n",
    "    # Normalization layer\n",
    "    normalization_layer = tf.keras.layers.Normalization()\n",
    "    normalization_layer.adapt(train_values)\n",
    "    # Create a simple NN\n",
    "    model_layers = [\n",
    "        normalization_layer,\n",
    "        tf.keras.layers.Dense(60, activation='relu'),\n",
    "        tf.keras.layers.Dense(60, activation='relu'),\n",
    "        tf.keras.layers.Dense(1, activation='sigmoid'),\n",
    "    ]\n",
    "\n",
    "    # Create a simple NN\n",
    "    model = tf.keras.models.Sequential(model_layers)\n",
    "    # Compile model\n",
    "    model.compile(optimizer=adam_optimizer, loss=loss_fn, weighted_metrics=['binary_accuracy'])\n",
    "\n",
    "    # Train model\n",
    "    history = model.fit(train_data, validation_data=val_data, callbacks=[early_stopping], epochs=1000)\n",
    "\n",
    "    # Append to list\n",
    "    kfold_history.append(history)\n",
    "    kfold_model.append(model)\n",
    "\n",
    "    # Evaluate model on training and validation data\n",
    "    model_train_evaluation = model.evaluate(train_data)\n",
    "    model_val_evaluation = model.evaluate(val_data)\n",
    "    kfold_train_eval_loss.append(model_train_evaluation[0])\n",
    "    kfold_train_eval_acc.append(model_train_evaluation[1])\n",
    "    kfold_val_eval_loss.append(model_val_evaluation[0])\n",
    "    kfold_val_eval_acc.append(model_val_evaluation[1])"
   ]
  },
  {
   "cell_type": "code",
   "execution_count": 67,
   "id": "L1pKiwRvrcok",
   "metadata": {
    "id": "L1pKiwRvrcok",
    "scrolled": true
   },
   "outputs": [
    {
     "data": {
      "image/png": "[encoded data removed]",
      "text/plain": [
       "<Figure size 700x600 with 1 Axes>"
      ]
     },
     "metadata": {},
     "output_type": "display_data"
    }
   ],
   "source": [
    "# Plot the training history\n",
    "fig, ax = plt.subplots(figsize=(7, 6))\n",
    "color_list = ['r', 'g', 'b']\n",
    "for k_fold_idx, (history, color) in enumerate(zip(kfold_history, color_list)):\n",
    "  ax.plot(history.history['loss'], color=color, label=f'{k_fold_idx} training')\n",
    "  ax.plot(history.history['val_loss'], color=color, ls='--', label=f'{k_fold_idx} val')\n",
    "ax.set_xlabel('epoch')\n",
    "ax.set_ylabel('loss')\n",
    "ax.legend()\n",
    "_ = plt.show()"
   ]
  },
  {
   "cell_type": "markdown",
   "id": "96d62b9e",
   "metadata": {},
   "source": [
    "## Create your own Model"
   ]
  },
  {
   "cell_type": "code",
   "execution_count": 95,
   "id": "c971b029",
   "metadata": {},
   "outputs": [],
   "source": [
    "# Use all processes\n",
    "sample_list_signal = ['ggH125_ZZ4lep', 'VBFH125_ZZ4lep', 'WH125_ZZ4lep', 'ZH125_ZZ4lep']\n",
    "sample_list_background = ['llll', 'Zee', 'Zmumu', 'ttbar_lep']"
   ]
  },
  {
   "cell_type": "code",
   "execution_count": 96,
   "id": "4b894985",
   "metadata": {},
   "outputs": [],
   "source": [
    "# The training input variables\n",
    "training_variables = ['lep1_pt', 'lep2_pt', 'lep3_pt', 'lep4_pt']\n",
    "training_variables += ['lep1_charge', 'lep2_charge', 'lep3_charge', 'lep4_charge']\n",
    "training_variables += ['lep1_pdgId', 'lep2_pdgId', 'lep3_pdgId', 'lep4_pdgId']\n",
    "training_variables += ['lep1_phi', 'lep2_phi', 'lep3_phi', 'lep4_phi']\n",
    "training_variables += ['lep1_eta', 'lep2_eta', 'lep3_eta', 'lep4_eta']"
   ]
  },
  {
   "cell_type": "code",
   "execution_count": 97,
   "id": "dc87df7a",
   "metadata": {},
   "outputs": [],
   "source": [
    "values, weights, classification = common.get_dnn_input(data_frames, training_variables, sample_list_signal, sample_list_background)"
   ]
  },
  {
   "cell_type": "code",
   "execution_count": 98,
   "id": "284520fa",
   "metadata": {},
   "outputs": [],
   "source": [
    "train_values, val_values, train_classification, val_classification = train_test_split(values, classification, test_size=0.2, random_state=123)\n",
    "train_weights, val_weights = train_test_split(weights, classification, test_size=0.2, random_state=123)[:2]"
   ]
  },
  {
   "cell_type": "code",
   "execution_count": 99,
   "id": "1b80aaf0",
   "metadata": {},
   "outputs": [],
   "source": [
    "# Get reweighted weights\n",
    "train_weights_reweighted = reweight_weights(train_weights, train_classification)\n",
    "val_weights_reweighted = reweight_weights(val_weights, val_classification)\n",
    "\n",
    "# Convert the data to tensorflow datasets\n",
    "train_data = Dataset.from_tensor_slices((train_values, train_classification, train_weights_reweighted))\n",
    "train_data = train_data.shuffle(len(train_data), seed=random_state)\n",
    "train_data = train_data.batch(128)\n",
    "val_data = Dataset.from_tensor_slices((val_values, val_classification, val_weights_reweighted))\n",
    "val_data = val_data.shuffle(len(val_data), seed=random_state)\n",
    "val_data = val_data.batch(128)"
   ]
  },
  {
   "cell_type": "code",
   "execution_count": 100,
   "id": "d4538de9",
   "metadata": {},
   "outputs": [],
   "source": [
    "# Loss function\n",
    "loss_fn = tf.keras.losses.BinaryCrossentropy(from_logits=False)\n",
    "# Optimizer\n",
    "adam_optimizer = tf.keras.optimizers.legacy.Adam(learning_rate=0.0005, beta_1=0.9)"
   ]
  },
  {
   "cell_type": "code",
   "execution_count": 101,
   "id": "8f259aff",
   "metadata": {},
   "outputs": [],
   "source": [
    "# Early stopping\n",
    "early_stopping = tf.keras.callbacks.EarlyStopping(monitor='val_loss', patience=5, restore_best_weights=True)"
   ]
  },
  {
   "cell_type": "code",
   "execution_count": 102,
   "id": "ddbcda3f",
   "metadata": {},
   "outputs": [],
   "source": [
    "# Normalization layer\n",
    "normalization_layer = tf.keras.layers.Normalization()\n",
    "normalization_layer.adapt(train_values)\n",
    "# Create a simple NN\n",
    "model_layers = [\n",
    "    normalization_layer,\n",
    "    tf.keras.layers.Dense(60, activation='relu'),\n",
    "    tf.keras.layers.Dense(60, activation='relu'),\n",
    "    tf.keras.layers.Dense(1, activation='sigmoid'),\n",
    "]\n",
    "# Create a simple NN\n",
    "model = tf.keras.models.Sequential(model_layers)\n",
    "# Compile model\n",
    "model.compile(optimizer=adam_optimizer, loss=loss_fn, weighted_metrics=['binary_accuracy'])"
   ]
  },
  {
   "cell_type": "code",
   "execution_count": null,
   "id": "b06d7ae3",
   "metadata": {
    "scrolled": true
   },
   "outputs": [
    {
     "name": "stdout",
     "output_type": "stream",
     "text": [
      "Epoch 1/1000\n",
      "5593/5593 [==============================] - 58s 10ms/step - loss: 0.5054 - binary_accuracy: 0.7580 - val_loss: 0.4258 - val_binary_accuracy: 0.8031\n",
      "Epoch 2/1000\n",
      "5593/5593 [==============================] - 53s 9ms/step - loss: 0.3684 - binary_accuracy: 0.8430 - val_loss: 0.3547 - val_binary_accuracy: 0.8488\n",
      "Epoch 3/1000\n",
      "5593/5593 [==============================] - 54s 10ms/step - loss: 0.3184 - binary_accuracy: 0.8698 - val_loss: 0.3170 - val_binary_accuracy: 0.8738\n",
      "Epoch 4/1000\n",
      "5593/5593 [==============================] - 57s 10ms/step - loss: 0.2935 - binary_accuracy: 0.8816 - val_loss: 0.3078 - val_binary_accuracy: 0.8792\n",
      "Epoch 5/1000\n",
      "5593/5593 [==============================] - 51s 9ms/step - loss: 0.2778 - binary_accuracy: 0.8910 - val_loss: 0.2971 - val_binary_accuracy: 0.8816\n",
      "Epoch 6/1000\n",
      "5593/5593 [==============================] - 54s 10ms/step - loss: 0.2658 - binary_accuracy: 0.8977 - val_loss: 0.2958 - val_binary_accuracy: 0.8822\n",
      "Epoch 7/1000\n",
      "5593/5593 [==============================] - 53s 9ms/step - loss: 0.2551 - binary_accuracy: 0.9042 - val_loss: 0.2870 - val_binary_accuracy: 0.8892\n",
      "Epoch 8/1000\n",
      "5593/5593 [==============================] - 54s 10ms/step - loss: 0.2474 - binary_accuracy: 0.9077 - val_loss: 0.2920 - val_binary_accuracy: 0.8908\n",
      "Epoch 9/1000\n",
      "5593/5593 [==============================] - 53s 9ms/step - loss: 0.2436 - binary_accuracy: 0.9108 - val_loss: 0.2825 - val_binary_accuracy: 0.8925\n",
      "Epoch 10/1000\n",
      "5593/5593 [==============================] - 54s 10ms/step - loss: 0.2356 - binary_accuracy: 0.9144 - val_loss: 0.2940 - val_binary_accuracy: 0.8850\n",
      "Epoch 11/1000\n",
      "5593/5593 [==============================] - 52s 9ms/step - loss: 0.2299 - binary_accuracy: 0.9162 - val_loss: 0.2792 - val_binary_accuracy: 0.8924\n",
      "Epoch 12/1000\n",
      "5593/5593 [==============================] - 54s 10ms/step - loss: 0.2253 - binary_accuracy: 0.9191 - val_loss: 0.2771 - val_binary_accuracy: 0.8932\n",
      "Epoch 13/1000\n",
      "5593/5593 [==============================] - 52s 9ms/step - loss: 0.2214 - binary_accuracy: 0.9203 - val_loss: 0.2890 - val_binary_accuracy: 0.8923\n",
      "Epoch 14/1000\n",
      "5593/5593 [==============================] - 52s 9ms/step - loss: 0.2174 - binary_accuracy: 0.9232 - val_loss: 0.2918 - val_binary_accuracy: 0.8859\n",
      "Epoch 15/1000\n",
      "5593/5593 [==============================] - 55s 10ms/step - loss: 0.2124 - binary_accuracy: 0.9245 - val_loss: 0.2825 - val_binary_accuracy: 0.8961\n",
      "Epoch 16/1000\n",
      "5593/5593 [==============================] - 53s 9ms/step - loss: 0.2121 - binary_accuracy: 0.9245 - val_loss: 0.2752 - val_binary_accuracy: 0.9020\n",
      "Epoch 17/1000\n",
      "5593/5593 [==============================] - 52s 9ms/step - loss: 0.2061 - binary_accuracy: 0.9282 - val_loss: 0.2825 - val_binary_accuracy: 0.8984\n",
      "Epoch 18/1000\n",
      "5593/5593 [==============================] - 54s 10ms/step - loss: 0.2050 - binary_accuracy: 0.9282 - val_loss: 0.2805 - val_binary_accuracy: 0.8991\n",
      "Epoch 19/1000\n",
      "5593/5593 [==============================] - 52s 9ms/step - loss: 0.2010 - binary_accuracy: 0.9306 - val_loss: 0.2671 - val_binary_accuracy: 0.9021\n",
      "Epoch 20/1000\n",
      "5593/5593 [==============================] - 52s 9ms/step - loss: 0.1978 - binary_accuracy: 0.9328 - val_loss: 0.2600 - val_binary_accuracy: 0.9026\n",
      "Epoch 21/1000\n",
      "5593/5593 [==============================] - 52s 9ms/step - loss: 0.1954 - binary_accuracy: 0.9344 - val_loss: 0.2748 - val_binary_accuracy: 0.9037\n",
      "Epoch 22/1000\n",
      "5593/5593 [==============================] - 52s 9ms/step - loss: 0.1930 - binary_accuracy: 0.9344 - val_loss: 0.2760 - val_binary_accuracy: 0.9026\n",
      "Epoch 23/1000\n",
      "5593/5593 [==============================] - 53s 9ms/step - loss: 0.1900 - binary_accuracy: 0.9366 - val_loss: 0.2576 - val_binary_accuracy: 0.9008\n",
      "Epoch 24/1000\n",
      "5593/5593 [==============================] - 52s 9ms/step - loss: 0.1875 - binary_accuracy: 0.9378 - val_loss: 0.2697 - val_binary_accuracy: 0.9030\n",
      "Epoch 25/1000\n",
      "5593/5593 [==============================] - 52s 9ms/step - loss: 0.1864 - binary_accuracy: 0.9369 - val_loss: 0.2628 - val_binary_accuracy: 0.9061\n",
      "Epoch 26/1000\n",
      "5593/5593 [==============================] - 53s 9ms/step - loss: 0.1842 - binary_accuracy: 0.9383 - val_loss: 0.2683 - val_binary_accuracy: 0.9030\n",
      "Epoch 27/1000\n",
      "5593/5593 [==============================] - 52s 9ms/step - loss: 0.1817 - binary_accuracy: 0.9399 - val_loss: 0.2562 - val_binary_accuracy: 0.9071\n",
      "Epoch 28/1000\n",
      "5593/5593 [==============================] - 53s 9ms/step - loss: 0.1804 - binary_accuracy: 0.9398 - val_loss: 0.2700 - val_binary_accuracy: 0.9067\n",
      "Epoch 29/1000\n",
      "5593/5593 [==============================] - 53s 9ms/step - loss: 0.1789 - binary_accuracy: 0.9405 - val_loss: 0.2626 - val_binary_accuracy: 0.9095\n",
      "Epoch 30/1000\n",
      "5593/5593 [==============================] - 52s 9ms/step - loss: 0.1781 - binary_accuracy: 0.9412 - val_loss: 0.2564 - val_binary_accuracy: 0.9076\n",
      "Epoch 31/1000\n",
      "5593/5593 [==============================] - 52s 9ms/step - loss: 0.1752 - binary_accuracy: 0.9438 - val_loss: 0.2526 - val_binary_accuracy: 0.9101\n",
      "Epoch 32/1000\n",
      "5593/5593 [==============================] - 53s 9ms/step - loss: 0.1732 - binary_accuracy: 0.9433 - val_loss: 0.2518 - val_binary_accuracy: 0.9091\n",
      "Epoch 33/1000\n",
      "5593/5593 [==============================] - 54s 10ms/step - loss: 0.1712 - binary_accuracy: 0.9447 - val_loss: 0.2539 - val_binary_accuracy: 0.9097\n",
      "Epoch 34/1000\n",
      "5593/5593 [==============================] - 52s 9ms/step - loss: 0.1717 - binary_accuracy: 0.9446 - val_loss: 0.2479 - val_binary_accuracy: 0.9137\n",
      "Epoch 35/1000\n",
      "5593/5593 [==============================] - 53s 9ms/step - loss: 0.1683 - binary_accuracy: 0.9463 - val_loss: 0.2576 - val_binary_accuracy: 0.9154\n",
      "Epoch 36/1000\n",
      "5593/5593 [==============================] - 52s 9ms/step - loss: 0.1652 - binary_accuracy: 0.9483 - val_loss: 0.2469 - val_binary_accuracy: 0.9136\n",
      "Epoch 37/1000\n",
      "5593/5593 [==============================] - 53s 9ms/step - loss: 0.1652 - binary_accuracy: 0.9471 - val_loss: 0.2449 - val_binary_accuracy: 0.9166\n",
      "Epoch 38/1000\n",
      "5593/5593 [==============================] - 52s 9ms/step - loss: 0.1611 - binary_accuracy: 0.9493 - val_loss: 0.2476 - val_binary_accuracy: 0.9137\n",
      "Epoch 39/1000\n",
      "5593/5593 [==============================] - 52s 9ms/step - loss: 0.1618 - binary_accuracy: 0.9485 - val_loss: 0.2364 - val_binary_accuracy: 0.9194\n",
      "Epoch 40/1000\n",
      "5593/5593 [==============================] - 60s 11ms/step - loss: 0.1596 - binary_accuracy: 0.9505 - val_loss: 0.2340 - val_binary_accuracy: 0.9200\n",
      "Epoch 41/1000\n",
      "5593/5593 [==============================] - 52s 9ms/step - loss: 0.1613 - binary_accuracy: 0.9499 - val_loss: 0.2431 - val_binary_accuracy: 0.9178\n",
      "Epoch 42/1000\n",
      "5593/5593 [==============================] - 49s 9ms/step - loss: 0.1562 - binary_accuracy: 0.9512 - val_loss: 0.2296 - val_binary_accuracy: 0.9224\n",
      "Epoch 43/1000\n",
      "5593/5593 [==============================] - 49s 9ms/step - loss: 0.1545 - binary_accuracy: 0.9516 - val_loss: 0.2241 - val_binary_accuracy: 0.9231\n",
      "Epoch 44/1000\n",
      "5593/5593 [==============================] - 49s 9ms/step - loss: 0.1540 - binary_accuracy: 0.9528 - val_loss: 0.2217 - val_binary_accuracy: 0.9216\n",
      "Epoch 45/1000\n",
      "5593/5593 [==============================] - 50s 9ms/step - loss: 0.1530 - binary_accuracy: 0.9526 - val_loss: 0.2299 - val_binary_accuracy: 0.9196\n",
      "Epoch 46/1000\n",
      "5593/5593 [==============================] - 49s 9ms/step - loss: 0.1512 - binary_accuracy: 0.9534 - val_loss: 0.2276 - val_binary_accuracy: 0.9201\n",
      "Epoch 47/1000\n",
      "5593/5593 [==============================] - 50s 9ms/step - loss: 0.1488 - binary_accuracy: 0.9542 - val_loss: 0.2324 - val_binary_accuracy: 0.9218\n",
      "Epoch 48/1000\n",
      "5256/5593 [===========================>..] - ETA: 2s - loss: 0.1501 - binary_accuracy: 0.9542"
     ]
    }
   ],
   "source": [
    "# Train model\n",
    "history = model.fit(train_data, validation_data=val_data, callbacks=[early_stopping], epochs=1000)"
   ]
  },
  {
   "cell_type": "code",
   "execution_count": null,
   "id": "57daaced",
   "metadata": {},
   "outputs": [],
   "source": [
    "# Plot the training history\n",
    "fig, ax = plt.subplots(figsize=(7, 6))\n",
    "ax.plot(history.history['loss'], label='training')\n",
    "ax.plot(history.history['val_loss'], label='val')\n",
    "ax.set_xlabel('epoch')\n",
    "ax.set_ylabel('loss')\n",
    "ax.legend()\n",
    "_ = plt.show()"
   ]
  },
  {
   "cell_type": "code",
   "execution_count": null,
   "id": "56fde392",
   "metadata": {},
   "outputs": [],
   "source": [
    "# Apply the model for training and validation values\n",
    "train_prediction = model.predict(train_values)\n",
    "val_prediction = model.predict(val_values)\n",
    "# Plot the model output\n",
    "common.plot_dnn_output(train_prediction, train_classification, val_prediction, val_classification)\n",
    "_ = plt.show()"
   ]
  },
  {
   "cell_type": "code",
   "execution_count": null,
   "id": "cb817303",
   "metadata": {},
   "outputs": [],
   "source": [
    "# Apply the model\n",
    "#data_frames_apply_dnn = apply_dnn_model(model, data_frames, training_variables, sample_list_signal + sample_list_background)\n",
    "model_prediction = {'variable': 'model_prediction',\n",
    "                    'binning': np.linspace(0.3, 1, 20),\n",
    "                    'xlabel': 'prediction'}\n",
    "common.plot_hist(model_prediction, data_frames_apply_dnn, show_data=False)"
   ]
  },
  {
   "cell_type": "markdown",
   "id": "a74ea3bc",
   "metadata": {
    "id": "a74ea3bc"
   },
   "source": [
    "## Training"
   ]
  },
  {
   "cell_type": "markdown",
   "id": "254918e6",
   "metadata": {
    "id": "254918e6"
   },
   "source": [
    "In this chapter, the DNN is trained. Define the input variables for the classification. Feel free to test different combinations of low-level and high-level variables. Additionally, you can modify the structure of the DNN to gain optimal training results. When the setup is done, train the DNN, test it and redo this until you are happy with the result."
   ]
  },
  {
   "cell_type": "code",
   "execution_count": null,
   "id": "ac0e9914",
   "metadata": {
    "id": "ac0e9914"
   },
   "outputs": [],
   "source": [
    "# The training input variables\n",
    "training_variables = ['lep1_pt', 'lep2_pt', 'lep3_pt', 'lep4_pt']\n",
    "training_variables += ['lep1_charge', 'lep2_charge', 'lep3_charge', 'lep4_charge']\n",
    "training_variables += ['lep1_pdgId', 'lep2_pdgId', 'lep3_pdgId', 'lep4_pdgId']\n",
    "training_variables += ['lep1_phi', 'lep2_phi', 'lep3_phi', 'lep4_phi']\n",
    "training_variables += ['lep1_eta', 'lep2_eta', 'lep3_eta', 'lep4_eta']\n",
    "training_variables += ['lep_m_ll_12', 'lep_m_ll_13', 'lep_m_ll_14', 'lep_m_ll_23', 'lep_m_ll_24', 'lep_m_ll_34']"
   ]
  },
  {
   "cell_type": "code",
   "execution_count": null,
   "id": "5a528eaf",
   "metadata": {
    "id": "5a528eaf"
   },
   "outputs": [],
   "source": [
    "# Create the training input\n",
    "values = []\n",
    "weights = []\n",
    "classification = []\n",
    "for sample in sample_list_signal + sample_list_background:\n",
    "    # Classify signal and background (and skip if data)\n",
    "    if sample in sample_list_signal:\n",
    "        # 1 if signal\n",
    "        classification.append(np.ones(len(data_frames[sample])))\n",
    "    elif sample in sample_list_background:\n",
    "        # 0 if background\n",
    "        classification.append(np.zeros(len(data_frames[sample])))\n",
    "    else:\n",
    "        continue\n",
    "    # input values\n",
    "    values.append(data_frames[sample][training_variables])\n",
    "    weights.append(data_frames[sample]['totalWeight'])\n",
    "\n",
    "# Merge the input\n",
    "values = np.concatenate(values)\n",
    "weights = np.concatenate(weights)\n",
    "classification = np.concatenate(classification)"
   ]
  },
  {
   "cell_type": "markdown",
   "id": "6466faa7",
   "metadata": {
    "id": "6466faa7"
   },
   "source": [
    "The data set is split in a training, test and validation set. To have enough data to train use a splitting of 80%:10%:10%"
   ]
  },
  {
   "cell_type": "code",
   "execution_count": null,
   "id": "4f0035b0",
   "metadata": {
    "id": "4f0035b0"
   },
   "outputs": [],
   "source": [
    "from sklearn.model_selection import train_test_split"
   ]
  },
  {
   "cell_type": "markdown",
   "id": "36847a78",
   "metadata": {
    "id": "36847a78"
   },
   "source": [
    "Rescale the weights and keep the sample ratio?"
   ]
  },
  {
   "cell_type": "code",
   "execution_count": null,
   "id": "8138d55c",
   "metadata": {
    "id": "8138d55c"
   },
   "outputs": [],
   "source": [
    "def reweight_weights(weights, classification):\n",
    "    # Take the absolute weight\n",
    "    weights_abs = np.abs(weights)\n",
    "    # Split in signal and background weights\n",
    "    weights_signal = weights_abs*classification\n",
    "    weights_background = weights_abs*(1 - classification)\n",
    "    # Set ratio of signal and backgroubnd to one\n",
    "    weights_reweighted = weights_background + weights_signal * sum(weights_background) / sum(weights_signal)\n",
    "    # Normalize mean weight to one\n",
    "    weights_reweighted /= weights_reweighted.mean()\n",
    "    return weights_reweighted"
   ]
  },
  {
   "cell_type": "code",
   "execution_count": null,
   "id": "bd8a4906",
   "metadata": {
    "id": "bd8a4906"
   },
   "outputs": [],
   "source": [
    "random_state = 100\n",
    "\n",
    "# Train data\n",
    "train_values, test_val_values, train_classification, test_val_classification = train_test_split(values, classification, test_size=0.2, random_state=random_state)\n",
    "train_weights, test_val_weights = train_test_split(weights, classification, test_size=0.2, random_state=random_state)[:2]\n",
    "\n",
    "# Test and validation data\n",
    "test_values, val_values, test_classification, val_classification = train_test_split(test_val_values, test_val_classification, test_size=0.5, random_state=random_state)\n",
    "test_weights, val_weights = train_test_split(test_val_weights, test_val_classification, test_size=0.5, random_state=random_state)[:2]\n",
    "\n",
    "# Get reweighted weights\n",
    "train_weights_reweighted = reweight_weights(train_weights, train_classification)\n",
    "test_weights_reweighted = reweight_weights(test_weights, test_classification)\n",
    "val_weights_reweighted = reweight_weights(val_weights, val_classification)"
   ]
  },
  {
   "cell_type": "code",
   "execution_count": null,
   "id": "6a0e549d",
   "metadata": {
    "id": "6a0e549d"
   },
   "outputs": [],
   "source": [
    "# scale inputs\n",
    "from sklearn.preprocessing import StandardScaler\n",
    "\n",
    "scaler = StandardScaler()\n",
    "scaler.fit(train_values)\n",
    "train_values = scaler.transform(train_values)\n",
    "test_values = scaler.transform(test_values)\n",
    "val_values = scaler.transform(val_values)"
   ]
  },
  {
   "cell_type": "code",
   "execution_count": null,
   "id": "f1cf62dc",
   "metadata": {
    "id": "f1cf62dc"
   },
   "outputs": [],
   "source": [
    "# Import the tensorflow module to create a DNN\n",
    "\n",
    "import tensorflow as tf\n",
    "import pandas as pd\n",
    "from tensorflow.python.framework.ops import disable_eager_execution\n",
    "\n",
    "disable_eager_execution()"
   ]
  },
  {
   "cell_type": "markdown",
   "id": "467e845a",
   "metadata": {
    "id": "467e845a"
   },
   "source": [
    "Create you DNN consisting of several layers. \n",
    "\n",
    "A full list of layer types can be found here https://www.tensorflow.org/api_docs/python/tf/keras/layers <br>\n",
    "Some important examples for layers are:\n",
    "- Dense: a densely connected NN layer\n",
    "- Flatten: flattens the input\n",
    "- Dropout: randomly sets input to 0. Can decrease overtraining\n",
    "\n",
    "The neurons of each layer are activated by the so called activation function. <br>\n",
    "A full list of provided activation functions can be found here https://www.tensorflow.org/api_docs/python/tf/keras/activations <br>\n",
    "Some examples are:\n",
    "- linear: $linear(x) = x$\n",
    "- relu: linear for $x>0$ ($relu(x) = max(0, x)$)\n",
    "- exponential: $exponential(x) = e^x$\n",
    "- sigmoid: $sigmoid(x) = 1 / (1 + e^{-x})$\n",
    "\n",
    "To classify background and signal the last layer should only consist of one neuron which has an activation between 0 and 1"
   ]
  },
  {
   "cell_type": "code",
   "execution_count": null,
   "id": "541ee86d",
   "metadata": {
    "id": "541ee86d"
   },
   "outputs": [],
   "source": [
    "def get_model(n_layers, n_nodes):\n",
    "    model_layers = []\n",
    "    for i_layer in range(n_layers):\n",
    "        model_layers.append(tf.keras.layers.Dense(n_nodes, activation='relu'))\n",
    "    model_layers.append(tf.keras.layers.Dense(1, activation='sigmoid'))\n",
    "    model = tf.keras.models.Sequential(model_layers)\n",
    "    return model"
   ]
  },
  {
   "cell_type": "code",
   "execution_count": null,
   "id": "b80e881c",
   "metadata": {
    "id": "b80e881c"
   },
   "outputs": [],
   "source": [
    "import itertools\n",
    "n_layers = [2, 4, 6]\n",
    "n_nodes = [10, 50, 100]\n",
    "n_layers = [4, 6, 8]\n",
    "n_nodes = [20, 40, 60]\n",
    "n_layers = [7, 8, 10]\n",
    "n_nodes = [10, 20, 30]\n",
    "n_layers = [8]\n",
    "n_nodes = [10]\n",
    "hyper_parameters = list(itertools.product(n_layers, n_nodes))\n",
    "print(hyper_parameters)\n",
    "models = {}\n",
    "for (n_layers, n_nodes) in hyper_parameters:\n",
    "    model_name = f'dnn_{str(n_layers)}_{str(n_nodes)}'\n",
    "    models[model_name] = {'model': get_model(n_layers, n_nodes)}"
   ]
  },
  {
   "cell_type": "markdown",
   "id": "08bb5240",
   "metadata": {
    "id": "08bb5240"
   },
   "source": [
    "While training, the parameters of the neural network are modified to increase the agreement between the classification of the training data by the neural network and the actual splitting in signal and background. \n",
    "The agreement is specified by a loss-function, which decreses with increasing agreement. Analogous to a Chi2 fit, the fit to the training data is done by determining the minimum of the loss-function. The choice of the specific loss-function has to be adapted to the problem the neural network has to solve. <br>\n",
    "\n",
    "The list of available loss-functions are listed here https://www.tensorflow.org/api_docs/python/tf/keras/losses\n",
    "For the binary (0 or 1) classification problem of the signal background separation the BinaryCrossentropy is used. <br>\n",
    "<b> Give more information!!! </b>"
   ]
  },
  {
   "cell_type": "code",
   "execution_count": null,
   "id": "4fe2b485",
   "metadata": {
    "id": "4fe2b485"
   },
   "outputs": [],
   "source": [
    "loss_fn = tf.keras.losses.BinaryCrossentropy(from_logits=False)"
   ]
  },
  {
   "cell_type": "markdown",
   "id": "8535bcb1",
   "metadata": {
    "id": "8535bcb1"
   },
   "source": [
    "For the optimization of the loss-function different optimization algorithms can be used (see https://www.tensorflow.org/api_docs/python/tf/keras/optimizers). <br>\n",
    "The performance of the learning process is given by the metric (see https://www.tensorflow.org/api_docs/python/tf/keras/metrics)"
   ]
  },
  {
   "cell_type": "code",
   "execution_count": null,
   "id": "c60c5f74",
   "metadata": {
    "id": "c60c5f74"
   },
   "outputs": [],
   "source": [
    "for model_name in models:\n",
    "    models[model_name]['model'].compile(optimizer=tf.keras.optimizers.legacy.Adam(learning_rate=0.0001, beta_1=0.9),\n",
    "                                        loss=loss_fn,\n",
    "                                        weighted_metrics=['binary_accuracy'])"
   ]
  },
  {
   "cell_type": "markdown",
   "id": "84a39a2b",
   "metadata": {
    "id": "84a39a2b"
   },
   "source": [
    "Early stopping"
   ]
  },
  {
   "cell_type": "code",
   "execution_count": null,
   "id": "60823bf4",
   "metadata": {
    "id": "60823bf4"
   },
   "outputs": [],
   "source": [
    "early_stopping = tf.keras.callbacks.EarlyStopping(monitor='val_loss', patience=5, restore_best_weights=True)"
   ]
  },
  {
   "cell_type": "code",
   "execution_count": null,
   "id": "3b29dc6f",
   "metadata": {
    "id": "3b29dc6f"
   },
   "outputs": [],
   "source": [
    "for model_name in models:\n",
    "    print(f'Start training for {model_name}:')\n",
    "    history = models[model_name]['model'].fit(train_values, train_classification, sample_weight=train_weights_reweighted, validation_data=(val_values, val_classification, val_weights_reweighted), callbacks=[early_stopping], epochs=1000)\n",
    "    models[model_name]['history'] = history"
   ]
  },
  {
   "cell_type": "code",
   "execution_count": null,
   "id": "ba07b18c",
   "metadata": {
    "id": "ba07b18c"
   },
   "outputs": [],
   "source": [
    "color_list = ['red', 'orange', 'blue', 'peru', 'purple', 'lime', 'cyan', 'darkgreen', 'darkred']\n",
    "model_list = list(models.keys())\n",
    "model_colors = {}\n",
    "for i in range(len(models)):\n",
    "    model_name = model_list[i]\n",
    "    model_colors[model_name] = color_list[i]\n",
    "\n",
    "for model_name in models:\n",
    "    plt.plot(models[model_name]['history'].history['loss'], color=model_colors[model_name], linestyle='--', linewidth=0.8)\n",
    "    plt.plot(models[model_name]['history'].history['val_loss'], label=f'{model_name}', color=model_colors[model_name], linewidth=0.8)\n",
    "\n",
    "plt.title('model loss')\n",
    "plt.ylabel('loss')\n",
    "plt.xlabel('epoch')\n",
    "plt.legend(loc='center left', bbox_to_anchor=(1, 0.5))\n",
    "layers_string = str(n_layers).replace(' ', '')\n",
    "nodes_string = str(n_nodes).replace(' ', '')\n",
    "plt.tight_layout()\n",
    "plt.savefig(f'plots/layers_{layers_string}_nodes_{nodes_string}_train_comparison.pdf')\n",
    "plt.show()"
   ]
  },
  {
   "cell_type": "code",
   "execution_count": null,
   "id": "dzXxVPEqDfeD",
   "metadata": {
    "id": "dzXxVPEqDfeD"
   },
   "outputs": [],
   "source": [
    "from google.colab import drive\n",
    "drive.mount('/content/drive')"
   ]
  },
  {
   "cell_type": "markdown",
   "id": "43995bda",
   "metadata": {
    "id": "43995bda"
   },
   "source": [
    "## Evaluate the Model"
   ]
  },
  {
   "cell_type": "code",
   "execution_count": null,
   "id": "b1e9ea20",
   "metadata": {
    "id": "b1e9ea20"
   },
   "outputs": [],
   "source": [
    "from sklearn import metrics"
   ]
  },
  {
   "cell_type": "code",
   "execution_count": null,
   "id": "ada8fabb",
   "metadata": {
    "id": "ada8fabb"
   },
   "outputs": [],
   "source": [
    "for model_name in models:\n",
    "    # ROC curve\n",
    "    val_prediction = models[model_name]['model'].predict(val_values)\n",
    "    fpr, tpr, thresholds = metrics.roc_curve(val_classification, val_prediction, sample_weight=val_weights_reweighted)\n",
    "    roc_auc = metrics.auc(fpr, tpr)\n",
    "    models[model_name]['roc_auc'] = roc_auc\n",
    "    \n",
    "    # Model history\n",
    "    history_train_loss = models[model_name]['history'].history['loss']\n",
    "    history_train_accuracy = models[model_name]['history'].history['binary_accuracy']\n",
    "    history_val_loss = models[model_name]['history'].history['val_loss']\n",
    "    history_val_accuracy = models[model_name]['history'].history['val_binary_accuracy']\n",
    "    \n",
    "    # Model evaluation\n",
    "    val_loss, val_accuracy = models[model_name]['model'].evaluate(val_values, val_classification, sample_weight=val_weights_reweighted)\n",
    "    train_loss, train_accuracy = models[model_name]['model'].evaluate(train_values, train_classification, sample_weight=train_weights_reweighted)\n",
    "    \n",
    "    models[model_name]['roc_auc'] = roc_auc\n",
    "    models[model_name]['history_train_loss'] = history_train_loss\n",
    "    models[model_name]['history_train_accuracy'] = history_train_accuracy\n",
    "    models[model_name]['history_val_loss'] = history_val_loss\n",
    "    models[model_name]['history_val_accuracy'] = history_val_accuracy\n",
    "    models[model_name]['train_loss'] = train_loss\n",
    "    models[model_name]['train_accuracy'] = train_accuracy\n",
    "    models[model_name]['val_loss'] = val_loss\n",
    "    models[model_name]['val_accuracy'] = val_accuracy\n",
    "    print(f'{model_name}: \\tROC = {round(roc_auc, 3)}  \\tval_loss = {round(val_loss,3)} \\tval_acc = {round(val_accuracy*100,1)}% \\tval/train_loss = {round(val_loss/train_loss,3)}')"
   ]
  },
  {
   "cell_type": "code",
   "execution_count": null,
   "id": "335e4371",
   "metadata": {
    "id": "335e4371"
   },
   "outputs": [],
   "source": [
    "import seaborn as sns\n",
    "\n",
    "evaluation_full = {'roc_auc': [],'n_layers': [], 'n_nodes': [], 'roc_auc': [], 'val_loss': [], 'val_accuracy': [], 'val/train_loss': []}\n",
    "\n",
    "for model_name in models:\n",
    "    eval_n_layers = int(model_name.split('_')[1])\n",
    "    eval_n_nodes = int(model_name.split('_')[2])\n",
    "    evaluation_full['n_layers'].append(eval_n_layers)\n",
    "    evaluation_full['n_nodes'].append(eval_n_nodes)\n",
    "    evaluation_full['roc_auc'].append(models[model_name]['roc_auc'])\n",
    "    evaluation_full['val_loss'].append(models[model_name]['val_loss'])\n",
    "    evaluation_full['val_accuracy'].append(models[model_name]['val_accuracy'])\n",
    "    evaluation_full['val/train_loss'].append(models[model_name]['val_loss']/models[model_name]['train_loss'])\n",
    "\n",
    "evaluation_full_df = pd.DataFrame(evaluation_full)\n",
    "\n",
    "for eval in ['roc_auc', 'val_loss', 'val_accuracy', 'val/train_loss']:\n",
    "    pivot = evaluation_full_df.pivot(index='n_layers', columns='n_nodes', values=eval)\n",
    "    sns.heatmap(pivot, cbar_kws={'label': eval}, cmap='crest')\n",
    "    plt.title(eval)\n",
    "    \n",
    "    eval_string = eval.replace('/', '_')\n",
    "    layers_string = str(list(set(evaluation_full_df['n_layers']))).replace(' ', '')\n",
    "    nodes_string = str(list(set(evaluation_full_df['n_nodes']))).replace(' ', '')\n",
    "    plt.savefig(f'plots/layers_{layers_string}_nodes_{nodes_string}_evaluate_{eval_string}.pdf')\n",
    "    plt.show()"
   ]
  },
  {
   "cell_type": "code",
   "execution_count": null,
   "id": "555ccb17",
   "metadata": {
    "id": "555ccb17"
   },
   "outputs": [],
   "source": [
    "def get_prediction_signal_background(model, values, weights, classifications, scale=1):\n",
    "    predictions = model.predict(values)\n",
    "    signal_prediction = []\n",
    "    signal_weight = []\n",
    "    background_prediction = []\n",
    "    background_weight = []\n",
    "    for prediction, weight, classification in zip(predictions, weights, classifications):\n",
    "        if classification == 1:\n",
    "            signal_prediction.append(prediction[0])\n",
    "            signal_weight.append(weight)\n",
    "        else:\n",
    "            background_prediction.append(prediction[0])\n",
    "            background_weight.append(weight)\n",
    "    prediction = [np.array(background_prediction), np.array(signal_prediction)]\n",
    "    weights = [np.array(background_weight)*scale, np.array(signal_weight)*scale]\n",
    "    return prediction, weights"
   ]
  },
  {
   "cell_type": "code",
   "execution_count": null,
   "id": "dd25864b",
   "metadata": {
    "id": "dd25864b"
   },
   "outputs": [],
   "source": [
    "binning = np.linspace(0.9, 1, 11)\n",
    "for model_name in models:\n",
    "    # ROC curve\n",
    "    model = models[model_name]['model']\n",
    "    prediction, weights = get_prediction_signal_background(model, val_values, val_weights, val_classification, scale=10)\n",
    "    plt.hist(prediction, weights=weights,\n",
    "             label=['val background', 'val signal'], color=['blue', 'red'],\n",
    "             bins=binning, alpha = 0.4, stacked=True)\n",
    "    prediction, weights = get_prediction_signal_background(model, train_values, train_weights, train_classification, scale=1/0.8)\n",
    "    plt.hist(prediction, weights=weights,\n",
    "             label=['train background', 'train signal'], color=['green', 'sienna'], histtype='step',\n",
    "             bins=binning, stacked=True)\n",
    "    plt.title(model_name)\n",
    "    plt.xlabel('DNN output')\n",
    "    plt.legend(loc='center left', bbox_to_anchor=(1, 0.5))\n",
    "    plt.tight_layout()\n",
    "    plt.savefig(f'plots/{model_name}_val_prediction.pdf')\n",
    "    plt.show()\n",
    "    _ = plt.clf()"
   ]
  },
  {
   "cell_type": "markdown",
   "id": "eaebb200",
   "metadata": {
    "id": "eaebb200"
   },
   "source": [
    "# Validation"
   ]
  },
  {
   "cell_type": "code",
   "execution_count": null,
   "id": "061bfe73",
   "metadata": {
    "id": "061bfe73"
   },
   "outputs": [],
   "source": [
    "binning = np.linspace(0.9, 1, 11)\n",
    "for model_name in models:\n",
    "    # ROC curve\n",
    "    model = models[model_name]['model']\n",
    "    prediction, weights = get_prediction_signal_background(model, test_values, test_weights, test_classification, scale=10)\n",
    "    plt.hist(prediction, weights=weights,\n",
    "             label=['test background', 'test signal'], color=['blue', 'red'],\n",
    "             bins=binning, alpha = 0.2, stacked=True)\n",
    "    prediction, weights = get_prediction_signal_background(model, val_values, val_weights, val_classification, scale=10)\n",
    "    plt.hist(prediction, weights=weights,\n",
    "             label=['val background', 'val signal'], color=['violet', 'orange'],\n",
    "             bins=binning, stacked=True, histtype='step')\n",
    "    prediction, weights = get_prediction_signal_background(model, train_values, train_weights, train_classification, scale=1/0.8)\n",
    "    plt.hist(prediction, weights=weights,\n",
    "             label=['train background', 'train signal'], color=['green', 'sienna'], histtype='step',\n",
    "             bins=binning, stacked=True)\n",
    "    plt.title(model_name)\n",
    "    plt.xlabel('DNN output')\n",
    "    plt.legend(loc='center left', bbox_to_anchor=(1, 0.5))\n",
    "    plt.tight_layout()\n",
    "    plt.savefig(f'plots/{model_name}_test_prediction.pdf')\n",
    "    plt.show()\n",
    "    _ = plt.clf()"
   ]
  },
  {
   "cell_type": "markdown",
   "id": "dccdecfd",
   "metadata": {
    "id": "dccdecfd"
   },
   "source": [
    "# Apply to Model"
   ]
  },
  {
   "cell_type": "code",
   "execution_count": null,
   "id": "1a82f581",
   "metadata": {
    "id": "1a82f581"
   },
   "outputs": [],
   "source": [
    "# Create a copy of the data frame\n",
    "data_frames_apply_dnn = data_frames.copy()\n",
    "\n",
    "for sample in sample_list_signal + sample_list_background + sample_list_measured:\n",
    "    print(f'Apply Model for {sample}')\n",
    "    # Get the values to apply the model\n",
    "    data_frame_values = data_frames_apply_dnn[sample][training_variables]\n",
    "    for model in models:\n",
    "        prediction = models[model]['model'].predict(scaler.transform(data_frame_values))\n",
    "    \n",
    "        # Convert prediction to array\n",
    "        prediction = [element[0] for element in prediction]\n",
    "    \n",
    "        # Add the prediction for each sample\n",
    "        data_frames_apply_dnn[sample][f'{model}_prediction'] = prediction"
   ]
  },
  {
   "cell_type": "code",
   "execution_count": null,
   "id": "03c6847f",
   "metadata": {
    "id": "03c6847f"
   },
   "outputs": [],
   "source": [
    "for model in models:\n",
    "    print(model)\n",
    "    variable = {'variable': f'{model}_prediction',\n",
    "               'binning': np.linspace(0.7, 1, 11),#dnn_binning[model],\n",
    "               'xlabel': f'{model} prediction'}\n",
    "    common.plot_hist(variable, data_frames_apply_dnn)\n",
    "    _ = plt.clf()"
   ]
  },
  {
   "cell_type": "code",
   "execution_count": null,
   "id": "3432957b",
   "metadata": {
    "id": "3432957b"
   },
   "outputs": [],
   "source": []
  },
  {
   "cell_type": "code",
   "execution_count": null,
   "id": "476f3a59",
   "metadata": {
    "id": "476f3a59"
   },
   "outputs": [],
   "source": []
  }
 ],
 "metadata": {
  "accelerator": "GPU",
  "colab": {
   "provenance": []
  },
  "gpuClass": "standard",
  "kernelspec": {
   "display_name": "Python 3 (ipykernel)",
   "language": "python",
   "name": "python3"
  },
  "language_info": {
   "codemirror_mode": {
    "name": "ipython",
    "version": 3
   },
   "file_extension": ".py",
   "mimetype": "text/x-python",
   "name": "python",
   "nbconvert_exporter": "python",
   "pygments_lexer": "ipython3",
   "version": "3.10.8"
  }
 },
 "nbformat": 4,
 "nbformat_minor": 5
}
