{
 "cells": [
  {
   "cell_type": "markdown",
   "id": "2081cce3",
   "metadata": {
    "id": "2081cce3"
   },
   "source": [
    "# Discover the Higgs with Deep Neural Networks"
   ]
  },
  {
   "cell_type": "markdown",
   "id": "060ec659",
   "metadata": {
    "id": "060ec659"
   },
   "source": [
    "The input data was created from 13 TeV ATLAS open data available at http://opendata.atlas.cern/release/2020/documentation/index.html\n",
    "\n",
    "For more information read:<br>\n",
    "Review of the 13 TeV ATLAS Open Data release, Techn. Ber., All figures including auxiliary figures are available at https://atlas.web.cern.ch/Atlas/GROUPS/PHYSICS/PUBNOTES/ATL-OREACH-PUB-2020-001: CERN, 2020, url: http://cds.cern.ch/record/2707171\n",
    "\n",
    "The data is measured by the ATLAS detector, one of the four big detectors at the Large Hadron Collider (LHC) at the CERN research center:"
   ]
  },
  {
   "cell_type": "markdown",
   "id": "c06d649e",
   "metadata": {},
   "source": [
    "![ATLAS_detector.png](figures/ATLAS_detector.png)\n",
    "ATLAS Experiment © 2008 CERN"
   ]
  },
  {
   "cell_type": "markdown",
   "id": "0e383f77",
   "metadata": {},
   "source": [
    "The data analyzed in this jupyter notebook measured at a centre-of-mass energy of $\\sqrt{s}=13 \\text{ TeV}$ with an integrated luminosity of $10 \\text{ fb}^{-1}$ in the year 2016. To search for H$\\rightarrow$ZZ$\\rightarrow$llll events only events with four reconstructed leptons in the final state are included in the given data sets. The events will have a event signature similar to:"
   ]
  },
  {
   "cell_type": "markdown",
   "id": "23df3294",
   "metadata": {},
   "source": [
    "![ATLAS_four_lepton_event.png](figures/ATLAS_four_lepton_event.png)\n",
    "https://atlas.web.cern.ch/Atlas/GROUPS/PHYSICS/CONFNOTES/ATLAS-CONF-2011-162/"
   ]
  },
  {
   "cell_type": "markdown",
   "id": "3e312205",
   "metadata": {
    "id": "3e312205"
   },
   "source": [
    "## Data Preparation"
   ]
  },
  {
   "cell_type": "markdown",
   "id": "8f5b2349",
   "metadata": {
    "id": "8f5b2349"
   },
   "source": [
    "### Load the Data"
   ]
  },
  {
   "cell_type": "code",
   "execution_count": 1,
   "id": "f9615674",
   "metadata": {
    "colab": {
     "base_uri": "https://localhost:8080/"
    },
    "id": "f9615674",
    "outputId": "83e88f84-c0ec-4e77-e620-6bf415c816d1"
   },
   "outputs": [],
   "source": [
    "# Necessary imports\n",
    "import numpy as np\n",
    "import matplotlib.pyplot as plt\n",
    "import pandas as pd\n",
    "import itertools\n",
    "from numpy.random import seed\n",
    "import os\n",
    "\n",
    "# Random state\n",
    "random_state = 12 #12345\n",
    "_ = np.random.RandomState(random_state)"
   ]
  },
  {
   "cell_type": "code",
   "execution_count": 2,
   "id": "VSJXVaD1pS54",
   "metadata": {
    "id": "VSJXVaD1pS54"
   },
   "outputs": [],
   "source": [
    "import common"
   ]
  },
  {
   "cell_type": "markdown",
   "id": "3357ffaf",
   "metadata": {
    "id": "3357ffaf"
   },
   "source": [
    "The goal of this lab course is to train a deep neural network to separate Higgs boson signal from background events. The most important signal sample ggH125_ZZ4lep corresponds to the process gg$\\rightarrow$H$\\rightarrow$ZZ. The dominant background sample is llll resulting from Z and ZZ decays.\n",
    "After training the DNN model will be used to classify the events of the data samples.\n",
    "\n",
    "Higgs signal samples:\n",
    "- ggH125_ZZ4lep\n",
    "- VBFH125_ZZ4lep\n",
    "- WH125_ZZ4lep\n",
    "- ZH125_ZZ4lep\n",
    "\n",
    "Background samples:\n",
    "- llll\n",
    "- Zee\n",
    "- Zmumu\n",
    "- ttbar_lep\n",
    "\n",
    "Data samples:\n",
    "- data_A\n",
    "- data_B\n",
    "- data_C\n",
    "- data_D"
   ]
  },
  {
   "cell_type": "code",
   "execution_count": 3,
   "id": "22a2ae28",
   "metadata": {
    "id": "22a2ae28"
   },
   "outputs": [],
   "source": [
    "# Define the input samples\n",
    "sample_list_signal = ['ggH125_ZZ4lep']\n",
    "sample_list_background = ['llll']\n",
    "sample_list_signal = ['ggH125_ZZ4lep', 'VBFH125_ZZ4lep', 'WH125_ZZ4lep', 'ZH125_ZZ4lep']\n",
    "sample_list_background = ['llll', 'Zee', 'Zmumu', 'ttbar_lep']\n",
    "sample_list_measured = ['data_A', 'data_B', 'data_C', 'data_D']"
   ]
  },
  {
   "cell_type": "code",
   "execution_count": 4,
   "id": "e1b2ae67",
   "metadata": {
    "id": "e1b2ae67"
   },
   "outputs": [],
   "source": [
    "sample_path = 'input'\n",
    "# Read all the samples\n",
    "no_selection_data_frames = {}\n",
    "for sample in sample_list_signal + sample_list_background + sample_list_measured:\n",
    "    no_selection_data_frames[sample] = pd.read_csv(os.path.join(sample_path, sample + '.csv'))"
   ]
  },
  {
   "cell_type": "markdown",
   "id": "27a1549c",
   "metadata": {
    "id": "27a1549c"
   },
   "source": [
    "### Input Variables"
   ]
  },
  {
   "cell_type": "markdown",
   "id": "fe06218b",
   "metadata": {
    "id": "fe06218b"
   },
   "source": [
    "The input provides several variables to classify the events. Since each event has multiple leptons, they were ordered in descending order based on their transverse momentum. Thus, lepton 1 has the highest transverse momentum, lepton 2 the second highest, and so on. <br>\n",
    "Most of the given variables can be called low-level, because they represent event or object properties, which can be derived directly from the reconstruction in the detector. In contrast to this are high-level variables, which result from the combination of several low-level variables. In the given dataset the only high-level variables are invariant masses of multiple particles:<br>\n",
    "$m_{inv} = \\sqrt{\\left(\\sum\\limits_{i=1}^{n} E_i\\right)^2 - \\left(\\sum\\limits_{i=1}^{n} \\vec{p}_i\\right)^2}$\n",
    "\n",
    "\n",
    "List of all available variables:<br>\n",
    "- Event number\n",
    " - Each simulated event has its own specific number. (not used for training)\n",
    " - Variable name: eventNumber\n",
    "- Scale and event weight\n",
    " - The scaling for a data set is given by the sum of event weights, the cross section, luminosity and a efficiency scale factor\n",
    " - Each event has an additional specific event weight\n",
    " - To combine simulated events and finally compare them to data each event has to be scaled by the total weight, the product of scale weight and event weight\n",
    " - The weight are not used for training\n",
    " - Variable name: scaleWeight, eventWeight, totalWeight\n",
    "- Number of jets\n",
    " - Jets are particle showers which result primarily from quarks and gluons\n",
    " - Variable name: jet_n\n",
    "- Invariant four lepton mass\n",
    " - The invariant mass $m_{inv}(l_1, l_2, l_3, l_4)$ is the reconstructed invariant mass of the full four lepton event. This variable is to be displayed later but not used for training.\n",
    " - Variable name: lep_m_llll\n",
    "- Invariant two lepton mass\n",
    " - Invariant masses $m_{inv}(l_i, l_j)$ of all combinations of two leptons\n",
    " - Variable names: lep_m_ll_12, lep_m_ll_13, lep_m_ll_14, lep_m_ll_23, lep_m_ll_24, lep_m_ll_34\n",
    "- Transverse momentum $p_T$ of the leptons\n",
    " - The momentum in the plane transverse to the beam axis\n",
    " - Variable names: lep1_pt, lep2_pt, lep3_pt, lep4_pt\n",
    "- Lepton azimuthal angle\n",
    " - The azimuthal angle $\\phi$ is measured in the plane transverse to the beam axis\n",
    " - Variable name: lep1_phi, lep2_phi, lep3_phi, lep4_phi\n",
    "- Lepton pseudo rapidity\n",
    " - The angle $\\theta$ is measured between the lepton track and the beam axis. Since this angle is not invariant against boosts along the beam axis, the pseudo rapidity $\\eta = - \\ln{\\tan{\\frac{\\theta}{2}}}$ is primarily used in the ATLAS analyses\n",
    " - Variable names: lep1_eta, lep2_eta, lep3_eta, lep4_eta\n",
    "- Lepton energy\n",
    " - The energy of the leptons reconstructed from the calorimeter entries\n",
    " - Variable name: lep1_e, lep2_e, lep3_e, lep4_e\n",
    "- Lepton PDG-ID\n",
    " - The lepton type is classified by a n umber given by the Particle-Data-Group. The lepton types are $pdg-id(e)=11$, $pdg-id(\\mu)=13$ and $pdg-id(\\tau)=15$\n",
    " - Variable name: lep1_pdgId, lep2_pdgId, lep3_pdgId, lep4_pdgId\n",
    "- Lepton charge\n",
    " - The charge of the given lepton reconstructed by the lepton track\n",
    " - Variable name: lep1_charge, lep2_charge, lep3_charge, lep4_charge"
   ]
  },
  {
   "cell_type": "markdown",
   "id": "9a7d2bda",
   "metadata": {
    "id": "9a7d2bda"
   },
   "source": [
    "### Event Pre-Selection"
   ]
  },
  {
   "cell_type": "markdown",
   "id": "55190edc",
   "metadata": {},
   "source": [
    "Before we start with the pre-selection of the input data check the number of events per process."
   ]
  },
  {
   "cell_type": "code",
   "execution_count": 5,
   "id": "859620c6",
   "metadata": {},
   "outputs": [
    {
     "name": "stdout",
     "output_type": "stream",
     "text": [
      "ggH125_ZZ4lep: 8.87; 164716 (raw)\n",
      "VBFH125_ZZ4lep: 0.8; 191126 (raw)\n",
      "WH125_ZZ4lep: 0.35; 15379 (raw)\n",
      "ZH125_ZZ4lep: 0.0; 14485 (raw)\n",
      "llll: 280.61; 554279 (raw)\n",
      "Zee: 170.33; 898 (raw)\n",
      "Zmumu: 139.34; 684 (raw)\n",
      "ttbar_lep: 85.66; 1031 (raw)\n"
     ]
    }
   ],
   "source": [
    "# Loop over all processes\n",
    "for sample in sample_list_signal + sample_list_background:\n",
    "    # Sum over the weights is equal to the number of expected events\n",
    "    n_events = sum(no_selection_data_frames[sample]['totalWeight'])\n",
    "    # Number of raw simulation events\n",
    "    n_events_raw = len(no_selection_data_frames[sample]['totalWeight'])\n",
    "    print(f'{sample}: {round(n_events, 2)}; {n_events_raw} (raw)')"
   ]
  },
  {
   "cell_type": "markdown",
   "id": "facd6d51",
   "metadata": {
    "id": "facd6d51"
   },
   "source": [
    "Although the final selection of the data is to be performed on the basis of a DNN, a rough pre-selection of the data is still useful.\n",
    "For this purpose, selection criteria are defined, which return either true or false based on the event kinematics and thus decide whether the respective event is kept or discarded.\n",
    "Suitable criteria for this analysis are very basic selections that must be clearly fulfilled by H->ZZ->llll processes.\n",
    "\n",
    "<font color='blue'>\n",
    "Task: Find baseline selection criteria that reduce the background while keeping almost all Higgs events. \n",
    "</font>\n",
    "\n",
    "\n",
    "Hint: What lepton types and charges are expected in the final state?"
   ]
  },
  {
   "cell_type": "code",
   "execution_count": 6,
   "id": "ffa57853",
   "metadata": {
    "id": "ffa57853"
   },
   "outputs": [],
   "source": [
    "def cut_lep_type(lep_type_0, lep_type_1, lep_type_2, lep_type_3):\n",
    "    \"\"\"Only keep lepton type combinations resulting from H->ZZ->llll\"\"\"\n",
    "    # Select events like eeee, mumumumu or eemumu\n",
    "    sum_lep_type = lep_type_0 + lep_type_1 + lep_type_2 + lep_type_3\n",
    "    return sum_lep_type == 44 or sum_lep_type == 48 or sum_lep_type == 52\n",
    "\n",
    "\n",
    "def cut_lep_charge(lep_charge_0, lep_charge_1, lep_charge_2, lep_charge_3):\n",
    "    \"\"\"Only keep lepton charge combinations resulting from H->ZZ->llll\"\"\"\n",
    "    # Select events where the sum of all lepton charges is zero\n",
    "    sum_lep_charge = lep_charge_0 + lep_charge_1 + lep_charge_2 + lep_charge_3\n",
    "    return sum_lep_charge == 0"
   ]
  },
  {
   "cell_type": "code",
   "execution_count": 7,
   "id": "13fc29db",
   "metadata": {
    "id": "13fc29db"
   },
   "outputs": [],
   "source": [
    "# Create a copy of the original data frame to investigate later\n",
    "data_frames = no_selection_data_frames.copy()\n",
    "\n",
    "# Apply the chosen selection criteria\n",
    "for sample in sample_list_signal + sample_list_background + sample_list_measured:\n",
    "    # Selection on lepton type\n",
    "    type_selection = np.vectorize(cut_lep_type)(\n",
    "        data_frames[sample].lep1_pdgId,\n",
    "        data_frames[sample].lep2_pdgId,\n",
    "        data_frames[sample].lep3_pdgId,\n",
    "        data_frames[sample].lep4_pdgId)\n",
    "    data_frames[sample] = data_frames[sample][type_selection]\n",
    "\n",
    "    # Selection on lepton charge\n",
    "    charge_selection = np.vectorize(cut_lep_charge)(\n",
    "        data_frames[sample].lep1_charge,\n",
    "        data_frames[sample].lep2_charge,\n",
    "        data_frames[sample].lep3_charge,\n",
    "        data_frames[sample].lep4_charge)\n",
    "    data_frames[sample] = data_frames[sample][charge_selection]"
   ]
  },
  {
   "cell_type": "markdown",
   "id": "fe35da1e",
   "metadata": {},
   "source": [
    "<font color='blue'>\n",
    "Check wether your selection criteria have the required effects \n",
    "</font>"
   ]
  },
  {
   "cell_type": "code",
   "execution_count": 8,
   "id": "2cff76d4",
   "metadata": {},
   "outputs": [
    {
     "name": "stdout",
     "output_type": "stream",
     "text": [
      "ggH125_ZZ4lep: 8.7; 161451 (raw)\n",
      "VBFH125_ZZ4lep: 0.78; 186870 (raw)\n",
      "WH125_ZZ4lep: 0.22; 9772 (raw)\n",
      "ZH125_ZZ4lep: 0.0; 11947 (raw)\n",
      "llll: 266.55; 523957 (raw)\n",
      "Zee: 43.42; 243 (raw)\n",
      "Zmumu: 52.33; 257 (raw)\n",
      "ttbar_lep: 28.31; 334 (raw)\n"
     ]
    }
   ],
   "source": [
    "# Loop over all processes\n",
    "for sample in sample_list_signal + sample_list_background:\n",
    "    # Sum over the weights is equal to the number of expected events\n",
    "    n_events = sum(data_frames[sample]['totalWeight'])\n",
    "    # Number of raw simulation events\n",
    "    n_events_raw = len(data_frames[sample]['totalWeight'])\n",
    "    print(f'{sample}: {round(n_events, 2)}; {n_events_raw} (raw)')"
   ]
  },
  {
   "cell_type": "markdown",
   "id": "78bde2f3",
   "metadata": {},
   "source": [
    "If you are happy with you baseline selection continue with the investigation of the data."
   ]
  },
  {
   "cell_type": "markdown",
   "id": "94202a44",
   "metadata": {
    "id": "94202a44"
   },
   "source": [
    "### Data Investigation"
   ]
  },
  {
   "cell_type": "markdown",
   "id": "7e11cc8e",
   "metadata": {
    "id": "7e11cc8e"
   },
   "source": [
    "Before one can decide which variables are suitable for training, one must first get a feel for the input variables.\n",
    "For this purpose, the input samples are merged into a set of signal events and a set of background events. Afterwards, the behavior of signal and background can be studied in multiple variables."
   ]
  },
  {
   "cell_type": "code",
   "execution_count": 9,
   "id": "591b7e64",
   "metadata": {
    "id": "591b7e64"
   },
   "outputs": [],
   "source": [
    "# Merge the signal and background data frames\n",
    "def merge_data_frames(sample_list, data_frames_dic):\n",
    "    for sample in sample_list:\n",
    "        if sample == sample_list[0]:\n",
    "            output_data_frame = data_frames_dic[sample]\n",
    "        else:\n",
    "            output_data_frame = pd.concat([output_data_frame, data_frames_dic[sample]], axis=0)\n",
    "    return output_data_frame\n",
    "\n",
    "data_frame_signal = merge_data_frames(sample_list_signal, data_frames)\n",
    "data_frame_background = merge_data_frames(sample_list_background, data_frames)\n",
    "data_frame_measured = merge_data_frames(sample_list_measured, data_frames)"
   ]
  },
  {
   "cell_type": "markdown",
   "id": "2906682a",
   "metadata": {
    "id": "2906682a"
   },
   "source": [
    "The function common.plot_hist(variable, data_frame_1, data_frame_2) plots the given variable of the two data sets.\n",
    "The variable must be a dictionary containing atleast the variable to plot. Additionally one can also specify the binning (list or numpy array) and the xlabel. The created histogram is automatically saved in the plots directory<br>\n",
    "\n",
    "<font color='blue'>\n",
    "Task: Which variable is the most discriminant? Which variables seem not discriminant at all? \n",
    "</font><br>\n",
    "\n",
    "<font color='green'>\n",
    "Answer:\n",
    "\n",
    "- Most discriminant is the invariant mass of the four lepton system $m_{inv}(l_1, l_2, l_3, l_4)$ with a peak at the Higgs mass of 125 GeV.\n",
    "- The angualar variables $\\phi$ are not sensitive to any process due to the symmetry of the detector.\n",
    "</font>\n",
    "\n",
    "An example for the transverse momnetum of the leading lepton is given below:"
   ]
  },
  {
   "cell_type": "code",
   "execution_count": 10,
   "id": "8ae8494b",
   "metadata": {
    "colab": {
     "base_uri": "https://localhost:8080/",
     "height": 1000
    },
    "id": "8ae8494b",
    "outputId": "7451147f-06aa-4645-d231-e88f13492df4",
    "scrolled": true
   },
   "outputs": [
    {
     "data": {
      "image/png": "[encoded data removed]",
      "text/plain": [
       "<Figure size 700x700 with 2 Axes>"
      ]
     },
     "metadata": {},
     "output_type": "display_data"
    },
    {
     "data": {
      "image/png": "[encoded data removed]",
      "text/plain": [
       "<Figure size 700x700 with 2 Axes>"
      ]
     },
     "metadata": {},
     "output_type": "display_data"
    }
   ],
   "source": [
    "# leading lepton pt\n",
    "var_lep1_pt = {'variable': 'lep1_pt',\n",
    "               'binning': np.linspace(0, 300, 50),\n",
    "               'xlabel': '$p_T$ (lep 1) [GeV]'}\n",
    "\n",
    "common.plot_hist(var_lep1_pt, data_frames)\n",
    "common.plot_normed_signal_vs_background(var_lep1_pt, data_frame_signal, data_frame_background)"
   ]
  },
  {
   "cell_type": "markdown",
   "id": "a38a5a5e",
   "metadata": {
    "id": "a38a5a5e"
   },
   "source": [
    "<font color='blue'>\n",
    "Task: What is the purity in signal events in the given data?\n",
    "</font><br>"
   ]
  },
  {
   "cell_type": "code",
   "execution_count": 11,
   "id": "b7415e53",
   "metadata": {
    "colab": {
     "base_uri": "https://localhost:8080/"
    },
    "id": "b7415e53",
    "outputId": "e7d7a213-8fad-4519-be33-0f0381fd1706",
    "scrolled": true
   },
   "outputs": [
    {
     "name": "stdout",
     "output_type": "stream",
     "text": [
      "There are 9.7 signal (370040 raw MC events) and 390.61 backgound events (524791 raw MC events)\n",
      "This gives a purity of 2.48%\n"
     ]
    }
   ],
   "source": [
    "signal_event_number = sum(data_frame_signal.totalWeight)\n",
    "background_event_number = sum(data_frame_background.totalWeight)\n",
    "signal_background_ratio = signal_event_number/background_event_number\n",
    "print(f'There are {round(signal_event_number, 2)} signal ({len(data_frame_signal)} raw MC events) and {round(background_event_number, 2)} backgound events ({len(data_frame_background)} raw MC events)\\nThis gives a purity of {round(signal_background_ratio*100, 2)}%')"
   ]
  },
  {
   "cell_type": "markdown",
   "id": "ceb9ac87",
   "metadata": {
    "id": "ceb9ac87"
   },
   "source": [
    "As one could already see, the number of simulated raw events is significantly higher than the weighted number of expected events. The contribution of a simulated event to the final prediction is thus given by the respective event weight.\n",
    "\n",
    "<font color='blue'>\n",
    "Task: How many raw events are included in each process simulation and what the corresponding total prediction? What the is minimal, median, maximal event weight of each process?\n",
    "</font><br>"
   ]
  },
  {
   "cell_type": "code",
   "execution_count": 12,
   "id": "8e62a57e",
   "metadata": {
    "scrolled": true
   },
   "outputs": [
    {
     "name": "stdout",
     "output_type": "stream",
     "text": [
      "ggH125_ZZ4lep:\n",
      "  Raw events:      161451\n",
      "  Prediction:      8.7\n",
      "  Neg. raw events: 0.21%\n",
      "  Neg. events:     0.22%\n",
      "  Minimal weight:  -0.0001097871068996\n",
      "  Median weight:   6.0487756518639094e-05\n",
      "  Maximal weight:  0.0002235023285485\n",
      "\n",
      "VBFH125_ZZ4lep:\n",
      "  Raw events:      186870\n",
      "  Prediction:      0.78\n",
      "  Neg. raw events: 0.18%\n",
      "  Neg. events:     0.19%\n",
      "  Minimal weight:  -8.226283411076771e-06\n",
      "  Median weight:   4.693477814100141e-06\n",
      "  Maximal weight:  1.707267083872427e-05\n",
      "\n",
      "WH125_ZZ4lep:\n",
      "  Raw events:      9772\n",
      "  Prediction:      0.22\n",
      "  Neg. raw events: 0.0%\n",
      "  Neg. events:     0.0%\n",
      "  Minimal weight:  0.0\n",
      "  Median weight:   2.4991409279835305e-05\n",
      "  Maximal weight:  8.08094179970647e-05\n",
      "\n",
      "ZH125_ZZ4lep:\n",
      "  Raw events:      11947\n",
      "  Prediction:      0.0\n",
      "  Neg. raw events: 0.0%\n",
      "  Neg. events:     0.0%\n",
      "  Minimal weight:  0.0\n",
      "  Median weight:   1.420687246809822e-07\n",
      "  Maximal weight:  4.585081735318556e-07\n",
      "\n",
      "llll:\n",
      "  Raw events:      523957\n",
      "  Prediction:      266.55\n",
      "  Neg. raw events: 10.36%\n",
      "  Neg. events:     32.17%\n",
      "  Minimal weight:  -0.2449321900946708\n",
      "  Median weight:   0.0002473408963633\n",
      "  Maximal weight:  0.1027502037460309\n",
      "\n",
      "Zee:\n",
      "  Raw events:      243\n",
      "  Prediction:      43.42\n",
      "  Neg. raw events: 5.76%\n",
      "  Neg. events:     8.49%\n",
      "  Minimal weight:  -0.3943023702697577\n",
      "  Median weight:   0.1843405328779624\n",
      "  Maximal weight:  0.3976212212713394\n",
      "\n",
      "Zmumu:\n",
      "  Raw events:      257\n",
      "  Prediction:      52.33\n",
      "  Neg. raw events: 1.95%\n",
      "  Neg. events:     2.1%\n",
      "  Minimal weight:  -0.3043853076244533\n",
      "  Median weight:   0.2098882959629144\n",
      "  Maximal weight:  0.4539193024075787\n",
      "\n",
      "ttbar_lep:\n",
      "  Raw events:      334\n",
      "  Prediction:      28.31\n",
      "  Neg. raw events: 0.0%\n",
      "  Neg. events:     0.0%\n",
      "  Minimal weight:  0.0\n",
      "  Median weight:   0.09321325940387375\n",
      "  Maximal weight:  0.2885514614725224\n",
      "\n"
     ]
    }
   ],
   "source": [
    "for sample in sample_list_signal + sample_list_background:\n",
    "    print(f'{sample}:')\n",
    "    n_events = sum(data_frames[sample]['totalWeight'])\n",
    "    n_events_raw = len(data_frames[sample]['totalWeight'])\n",
    "    n_events_neg = sum(data_frames[sample]['totalWeight'] * (data_frames[sample]['totalWeight'] < 0))\n",
    "    n_events_neg_raw = sum(list(data_frames[sample]['totalWeight'] < 0))\n",
    "    min_weight = data_frames[sample]['totalWeight'].min()\n",
    "    med_weight = data_frames[sample]['totalWeight'].median()\n",
    "    max_weight = data_frames[sample]['totalWeight'].max()\n",
    "    print(f'  Raw events:      {n_events_raw}')\n",
    "    print(f'  Prediction:      {round(n_events, 2)}')\n",
    "    print(f'  Neg. raw events: {round(100 * n_events_neg_raw / n_events_raw, 2)}%')\n",
    "    print(f'  Neg. events:     {abs(round(100 * n_events_neg / n_events, 2))}%')\n",
    "    print(f'  Minimal weight:  {min_weight}')\n",
    "    print(f'  Median weight:   {med_weight}')\n",
    "    print(f'  Maximal weight:  {max_weight}')\n",
    "    print()"
   ]
  },
  {
   "cell_type": "markdown",
   "id": "6711866a",
   "metadata": {},
   "source": [
    "The different processes were simulated with different accuracy. To model 267 $llll$ events more than half a million raw events are used but 96 Z$\\rightarrow ll$ is modelled by only 500 events.\n",
    "\n",
    "Furthermore, it seems that the event weights even go into the negative range. Negative weighted events are produced to compensate overshooting predictions in certain kinematic areas."
   ]
  },
  {
   "cell_type": "markdown",
   "id": "6UOuLmyqGkVq",
   "metadata": {
    "id": "6UOuLmyqGkVq"
   },
   "source": [
    "## Choice of the Training Setup"
   ]
  },
  {
   "cell_type": "markdown",
   "id": "f18d9d5d",
   "metadata": {},
   "source": [
    "In this part of the notebook we will create and train some simple neural networks. The goal is to find the right setup for training, as this is a basic requirement for successful training."
   ]
  },
  {
   "cell_type": "markdown",
   "id": "s3wju-KVRZmk",
   "metadata": {
    "id": "s3wju-KVRZmk"
   },
   "source": [
    "### How to Create and Train a Neural Network"
   ]
  },
  {
   "cell_type": "markdown",
   "id": "YDoe0Nba4osz",
   "metadata": {
    "id": "YDoe0Nba4osz"
   },
   "source": [
    "Lets start with a very simple training on the transverse momentum of the leptons. To speed up the training not all processes are considered for the training."
   ]
  },
  {
   "cell_type": "code",
   "execution_count": 13,
   "id": "ZLhbQ-gYKIa4",
   "metadata": {
    "id": "ZLhbQ-gYKIa4"
   },
   "outputs": [],
   "source": [
    "# The training input variables\n",
    "training_variables = ['lep1_pt', 'lep2_pt', 'lep3_pt', 'lep4_pt']\n",
    "# Use only a subset of the full data\n",
    "sample_subset_signal = ['ggH125_ZZ4lep']\n",
    "sample_subset_background = ['llll', 'Zee', 'Zmumu']"
   ]
  },
  {
   "cell_type": "markdown",
   "id": "GkPQ0w0h9CjZ",
   "metadata": {
    "id": "GkPQ0w0h9CjZ"
   },
   "source": [
    "Extract the training variables, the event weights, and the classification of the events. The classification is 0 for background processes and 1 for Higgs events. \n",
    "To further speed up the setup test only use 40% of the available data."
   ]
  },
  {
   "cell_type": "code",
   "execution_count": 14,
   "id": "JBnQRQ1A7U-F",
   "metadata": {
    "id": "JBnQRQ1A7U-F"
   },
   "outputs": [],
   "source": [
    "values, weights, classification = common.get_dnn_input(data_frames, training_variables, sample_subset_signal, sample_subset_background, 0.4)"
   ]
  },
  {
   "cell_type": "code",
   "execution_count": 15,
   "id": "caa10b13",
   "metadata": {},
   "outputs": [
    {
     "name": "stdout",
     "output_type": "stream",
     "text": [
      "Training values:\n",
      "[[ 50.69762109  14.5129248   14.10426074  11.05434961]\n",
      " [ 72.79403125  62.96560937  22.16645898  15.09641797]\n",
      " [ 67.23349219  25.31585937   9.48626074   7.40181104]\n",
      " [ 27.93245312  19.20275586  14.57376953  13.22955176]\n",
      " [129.05734375  78.68390625  44.70970703  41.84229688]]\n",
      "Event weights:\n",
      "[6.89296507e-05 4.35248947e-05 7.26105677e-05 1.68254793e-04\n",
      " 1.43944749e-04]\n",
      "Classification:\n",
      "[1. 1. 1. 0. 0.]\n"
     ]
    }
   ],
   "source": [
    "# Show values of 5 random events\n",
    "random_idx = [1841, 11852, 63217, 78357, 131697]\n",
    "# Training variables\n",
    "print('Training values:')\n",
    "print(values[random_idx])\n",
    "# Event weights\n",
    "print('Event weights:')\n",
    "print(weights[random_idx])\n",
    "# Classification\n",
    "print('Classification:')\n",
    "print(classification[random_idx])"
   ]
  },
  {
   "cell_type": "markdown",
   "id": "a65a9792",
   "metadata": {},
   "source": [
    "Tensorflow is used to create and train neural networks. For this purpose, the required module is imported and the existing training values and classifications are transformed into a Tensorflow data set."
   ]
  },
  {
   "cell_type": "code",
   "execution_count": 16,
   "id": "QnyJWmRnLNSK",
   "metadata": {
    "id": "QnyJWmRnLNSK"
   },
   "outputs": [],
   "source": [
    "# Import the tensorflow module to create a DNN\n",
    "import tensorflow as tf\n",
    "from tensorflow.data import Dataset"
   ]
  },
  {
   "cell_type": "code",
   "execution_count": 17,
   "id": "S8WnIC0VToQw",
   "metadata": {
    "id": "S8WnIC0VToQw"
   },
   "outputs": [
    {
     "name": "stdout",
     "output_type": "stream",
     "text": [
      "Metal device set to: Apple M1 Pro\n"
     ]
    }
   ],
   "source": [
    "# Convert the data to tensorflow datasets\n",
    "train_data = Dataset.from_tensor_slices((values, classification))\n",
    "train_data = train_data.shuffle(len(values), seed=random_state)\n",
    "# Set the batch size\n",
    "train_data = train_data.batch(128)"
   ]
  },
  {
   "cell_type": "markdown",
   "id": "257c0909",
   "metadata": {},
   "source": [
    "So lets create a neural network consisting of several layers.\n",
    "\n",
    "A full list of layer types can be found here https://www.tensorflow.org/api_docs/python/tf/keras/layers <br>\n",
    "Some important examples for layers are:\n",
    "- Normalization: Shift and scale the training input to have the center at 0 and a standard deviation of 1 \n",
    "- Dense: a densely connected NN layer\n",
    "- Dropout: randomly sets input to 0. Can decrease overtraining\n",
    "\n",
    "The neurons of each layer are activated by the so called activation function. <br>\n",
    "A full list of provided activation functions can be found here https://www.tensorflow.org/api_docs/python/tf/keras/activations <br>\n",
    "Some examples are:\n",
    "- Linear: $linear(x) = x$\n",
    "- Relu: $relu(x) = max(0, x)$\n",
    "- Exponential: $exponential(x) = e^x$\n",
    "- Sigmoid: $sigmoid(x) = 1 / (1 + e^{-x})$"
   ]
  },
  {
   "cell_type": "markdown",
   "id": "d67b27dd",
   "metadata": {},
   "source": [
    "Let's create following model:\n",
    "![simple_model.png](figures/simple_model.png)\n",
    "\n",
    "- The input variables are scaled and shifted to have the mean of 0 and the standard deviation of 1. This normalization improves the convergence of the training process.\n",
    "- Use two dense layers with 60 neurons each. The neurons are activated with the relu function.\n",
    "- To classify background and signal the last layer should only consist of one neuron which has an activation between 0 and 1. The activation between 0 and 1 if given by the sigmoid function"
   ]
  },
  {
   "cell_type": "code",
   "execution_count": 18,
   "id": "_QXqaSb3CYrs",
   "metadata": {
    "id": "_QXqaSb3CYrs"
   },
   "outputs": [
    {
     "name": "stderr",
     "output_type": "stream",
     "text": [
      "2023-04-29 15:19:21.066904: W tensorflow/tsl/platform/profile_utils/cpu_utils.cc:128] Failed to get CPU frequency: 0 Hz\n"
     ]
    }
   ],
   "source": [
    "# Normalization layer\n",
    "normalization_layer = tf.keras.layers.Normalization(name='Input_normalization')\n",
    "normalization_layer.adapt(values)"
   ]
  },
  {
   "cell_type": "code",
   "execution_count": 19,
   "id": "49a4MIvWLNn_",
   "metadata": {
    "id": "49a4MIvWLNn_"
   },
   "outputs": [],
   "source": [
    "# Create model\n",
    "model_layers = [\n",
    "    normalization_layer,\n",
    "    tf.keras.layers.Dense(60, activation='relu', name='Hidden_layer_1'),\n",
    "    tf.keras.layers.Dense(60, activation='relu', name='Hidden_layer_2'),\n",
    "    tf.keras.layers.Dense(1, activation='sigmoid', name='Output_layer'),\n",
    "]\n",
    "model = tf.keras.models.Sequential(model_layers, name='simple_model')"
   ]
  },
  {
   "cell_type": "markdown",
   "id": "11b3d324",
   "metadata": {},
   "source": [
    "Before we start the training of the model lets check the shape and the number of trainable parameters."
   ]
  },
  {
   "cell_type": "code",
   "execution_count": 20,
   "id": "CJkzGU4giA6_",
   "metadata": {
    "colab": {
     "base_uri": "https://localhost:8080/"
    },
    "id": "CJkzGU4giA6_",
    "outputId": "37497ac1-9ecf-49d0-cd5a-cce305d8d1e2"
   },
   "outputs": [
    {
     "name": "stdout",
     "output_type": "stream",
     "text": [
      "Model: \"simple_model\"\n",
      "_________________________________________________________________\n",
      " Layer (type)                Output Shape              Param #   \n",
      "=================================================================\n",
      " Input_normalization (Normal  (None, 4)                9         \n",
      " ization)                                                        \n",
      "                                                                 \n",
      " Hidden_layer_1 (Dense)      (None, 60)                300       \n",
      "                                                                 \n",
      " Hidden_layer_2 (Dense)      (None, 60)                3660      \n",
      "                                                                 \n",
      " Output_layer (Dense)        (None, 1)                 61        \n",
      "                                                                 \n",
      "=================================================================\n",
      "Total params: 4,030\n",
      "Trainable params: 4,021\n",
      "Non-trainable params: 9\n",
      "_________________________________________________________________\n"
     ]
    }
   ],
   "source": [
    "# Display the model's architecture\n",
    "model.summary()"
   ]
  },
  {
   "cell_type": "markdown",
   "id": "a15915e1",
   "metadata": {},
   "source": [
    "# How to get the number of parameters???"
   ]
  },
  {
   "cell_type": "code",
   "execution_count": 21,
   "id": "ovNG9YVDMD-0",
   "metadata": {
    "colab": {
     "base_uri": "https://localhost:8080/",
     "height": 533
    },
    "id": "ovNG9YVDMD-0",
    "outputId": "fdc7116e-c111-4079-a620-0084d050e06d"
   },
   "outputs": [
    {
     "data": {
      "image/png": "[encoded data removed]",
      "text/plain": [
       "<IPython.core.display.Image object>"
      ]
     },
     "execution_count": 21,
     "metadata": {},
     "output_type": "execute_result"
    }
   ],
   "source": [
    "tf.keras.utils.plot_model(model, show_shapes=True, show_layer_names=True, show_layer_activations=True)"
   ]
  },
  {
   "cell_type": "markdown",
   "id": "a8c3340d",
   "metadata": {},
   "source": [
    "For the training we have to choose an optimization criteria, the loss function. For supervised learning, the loss function returns a value for the divergence between model prediction and the true value. The loss value is high for bad agreement and low for good agreement. Thus, training the model means minimizing the loss function.\n",
    "The seperartion of signal and background is binary classification problem and thus the binary cross-entropy is used to calculate the loss.\n",
    "The binary cross-entropy is given by:\n",
    "$H = -\\frac{1}{N} \\sum_i^N (y_i^{true} log(y_i^{predict}) + (1 - y_i^{true}) log(1 - y_i^{predict}))$\n",
    "\n",
    "As you can see the formula distinguishes signal events with $y_i^{true} = 1$ and background events with $y_i^{true} = 0$. In the following figure you can see the cross entropy for a signal and a background event for different prediction values. The closer the prediction value is to the true classification the smaller the crossentropy is. This is exactly the behavior we need for our loss function, and thus training the neural network means minimizing the mean cross-entropy of all training events.\n",
    "![binary_cross_entropy.png](figures/binary_cross_entropy.png)\n",
    "\n",
    "If you are still wondering why we use the logarithms and why it is called entropy you are encouraged to check out some information theory. The origin of this cross-entropy can be found in the entropy definition in information theory. The entropy of the true distribution is always smaller than the cross-entropy of its estimator. Therefore, minimizing the cross-entropy is equivalent to becomming closer to the true distribution."
   ]
  },
  {
   "cell_type": "code",
   "execution_count": 33,
   "id": "qdunQSwiLNzk",
   "metadata": {
    "id": "qdunQSwiLNzk"
   },
   "outputs": [],
   "source": [
    "# Loss function\n",
    "loss_fn = tf.keras.losses.BinaryCrossentropy(from_logits=False)"
   ]
  },
  {
   "cell_type": "markdown",
   "id": "8c421ceb",
   "metadata": {},
   "source": [
    "The loss function itself seems not complicated but keep in mind in our example it depends on several thousand parameters of the neural network. Thus, finding the correct parameter combination to minimize the loss is a quite complex problem. The Adam optimizer we will use for the training is a stochastic gradient descent method.\n",
    "\n",
    "When we converted the training a batch size was chosen `train_data = train_data.batch(128)` which are subsets of the given data. While training the optimizer computes the gradient descent und updates the parameters for each batch.\n",
    "After updating the parameters for all batches one after the other, this process can be started again from the beginning. A complete run over all training data is called an epoch. After several epochs, the parameters have been adjusted several times for all training data and hopefully a good combination of neural network parameters has been found."
   ]
  },
  {
   "cell_type": "code",
   "execution_count": 34,
   "id": "9d5da3c1",
   "metadata": {},
   "outputs": [],
   "source": [
    "# Optimizer\n",
    "adam_optimizer = tf.keras.optimizers.legacy.Adam(learning_rate=0.0002, beta_1=0.9)"
   ]
  },
  {
   "cell_type": "markdown",
   "id": "2b6ca2b4",
   "metadata": {},
   "source": [
    "Configure the model for the training"
   ]
  },
  {
   "cell_type": "code",
   "execution_count": 24,
   "id": "K55rSNabMPMb",
   "metadata": {
    "id": "K55rSNabMPMb"
   },
   "outputs": [],
   "source": [
    "# Compilation\n",
    "model.compile(optimizer=adam_optimizer, loss=loss_fn, metrics=['binary_accuracy'])"
   ]
  },
  {
   "cell_type": "markdown",
   "id": "7da12bbc",
   "metadata": {},
   "source": [
    "Lets train the model for 5 epochs and store the training history in a variable."
   ]
  },
  {
   "cell_type": "code",
   "execution_count": 25,
   "id": "0SEg6o8xMPVH",
   "metadata": {
    "colab": {
     "base_uri": "https://localhost:8080/"
    },
    "id": "0SEg6o8xMPVH",
    "outputId": "b208f5b1-2bfa-4f96-92fc-c9f5ffa34948",
    "scrolled": true
   },
   "outputs": [
    {
     "name": "stdout",
     "output_type": "stream",
     "text": [
      "Epoch 1/5\n",
      "2148/2148 [==============================] - 17s 8ms/step - loss: 0.4141 - binary_accuracy: 0.7825\n",
      "Epoch 2/5\n",
      "2148/2148 [==============================] - 16s 8ms/step - loss: 0.3592 - binary_accuracy: 0.8274\n",
      "Epoch 3/5\n",
      "2148/2148 [==============================] - 16s 8ms/step - loss: 0.3501 - binary_accuracy: 0.8350\n",
      "Epoch 4/5\n",
      "2148/2148 [==============================] - 16s 7ms/step - loss: 0.3471 - binary_accuracy: 0.8372\n",
      "Epoch 5/5\n",
      "2148/2148 [==============================] - 16s 7ms/step - loss: 0.3456 - binary_accuracy: 0.8379\n"
     ]
    }
   ],
   "source": [
    "history = model.fit(train_data, epochs=5)"
   ]
  },
  {
   "cell_type": "markdown",
   "id": "978acc56",
   "metadata": {},
   "source": [
    "Lets visualize the training progress of the model."
   ]
  },
  {
   "cell_type": "code",
   "execution_count": 26,
   "id": "2aTlPvPpMPfD",
   "metadata": {
    "colab": {
     "base_uri": "https://localhost:8080/",
     "height": 542
    },
    "id": "2aTlPvPpMPfD",
    "outputId": "265be094-c99d-4a78-b90f-636c38c63e27"
   },
   "outputs": [
    {
     "data": {
      "image/png": "[encoded data removed]",
      "text/plain": [
       "<Figure size 700x600 with 1 Axes>"
      ]
     },
     "metadata": {},
     "output_type": "display_data"
    }
   ],
   "source": [
    "# Plot the training history\n",
    "fig, ax = plt.subplots(figsize=(7, 6))\n",
    "ax.plot(history.history['loss'])\n",
    "ax.set_xlabel('epoch')\n",
    "ax.set_ylabel('loss')\n",
    "_ = plt.show()"
   ]
  },
  {
   "cell_type": "markdown",
   "id": "45b0046f",
   "metadata": {},
   "source": [
    "<font color='blue'>\n",
    "Task: Do you think the training was done after 5 epochs? \n",
    "</font><br>\n",
    "\n",
    "<font color='green'>\n",
    "Answer:<br>\n",
    "The loss is still significantly decreasing. Thus, the training doesn't seem to reach its limit yet. In the next chapter we will learn how to judge wether the training is done. \n",
    "</font>"
   ]
  },
  {
   "cell_type": "markdown",
   "id": "93c5b329",
   "metadata": {},
   "source": [
    "The model is trained, so the time has come to use it. Let's compare the true classification of some random events and the prediction the model gives for these events."
   ]
  },
  {
   "cell_type": "code",
   "execution_count": 27,
   "id": "B84a0pgfWGOK",
   "metadata": {
    "colab": {
     "base_uri": "https://localhost:8080/"
    },
    "id": "B84a0pgfWGOK",
    "outputId": "ec06e7f9-7a0f-46b4-fd16-906f629de59e"
   },
   "outputs": [
    {
     "name": "stdout",
     "output_type": "stream",
     "text": [
      "Classification:\n",
      "[1. 1. 1. 0. 0.]\n",
      "Prediction\n",
      "1/1 [==============================] - 0s 69ms/step\n",
      "[[0.7570616 ]\n",
      " [0.448981  ]\n",
      " [0.26045036]\n",
      " [0.32292578]\n",
      " [0.01215063]]\n"
     ]
    }
   ],
   "source": [
    "# Choose some random events\n",
    "random_idx = [1841, 11852, 63217, 78357, 131697]\n",
    "print('Classification:')\n",
    "print(classification[random_idx])\n",
    "print('Prediction')\n",
    "print(model.predict(values[random_idx]))"
   ]
  },
  {
   "cell_type": "markdown",
   "id": "0c00d5b9",
   "metadata": {},
   "source": [
    "<font color='blue'>\n",
    "Task: Get the prediction for all events and use <code>common.plot_dnn_output(...)</code> to plot the result.\n",
    "</font>"
   ]
  },
  {
   "cell_type": "code",
   "execution_count": 28,
   "id": "EMhKpy_gIOXL",
   "metadata": {
    "colab": {
     "base_uri": "https://localhost:8080/"
    },
    "id": "EMhKpy_gIOXL",
    "outputId": "7313ce3c-6351-4002-f82a-7ee1cb4b4d6b"
   },
   "outputs": [
    {
     "name": "stdout",
     "output_type": "stream",
     "text": [
      "8592/8592 [==============================] - 17s 2ms/step\n"
     ]
    }
   ],
   "source": [
    "# Apply the model for all values\n",
    "prediction = model.predict(values)"
   ]
  },
  {
   "cell_type": "code",
   "execution_count": 29,
   "id": "MTd_tOKCIPJy",
   "metadata": {
    "colab": {
     "base_uri": "https://localhost:8080/",
     "height": 522
    },
    "id": "MTd_tOKCIPJy",
    "outputId": "1be5e574-d0d5-47f4-a218-90759a356dc9",
    "scrolled": true
   },
   "outputs": [
    {
     "data": {
      "image/png": "[encoded data removed]",
      "text/plain": [
       "<Figure size 700x600 with 1 Axes>"
      ]
     },
     "metadata": {},
     "output_type": "display_data"
    }
   ],
   "source": [
    "# Plot the model output\n",
    "common.plot_dnn_output(prediction, classification)\n",
    "_ = plt.show()"
   ]
  },
  {
   "cell_type": "markdown",
   "id": "697eb973",
   "metadata": {},
   "source": [
    "Use `common.apply_dnn_model(...)` to apply the model for all samples in `data_frames` and add the classification to the data frame. Afterwards the prediction can be plotted just as the other kinematic variables."
   ]
  },
  {
   "cell_type": "code",
   "execution_count": 30,
   "id": "lD6O2_YOB0Vv",
   "metadata": {
    "colab": {
     "base_uri": "https://localhost:8080/"
    },
    "id": "lD6O2_YOB0Vv",
    "outputId": "08b6d534-3139-4a19-9210-1a0559d31bfb"
   },
   "outputs": [
    {
     "name": "stdout",
     "output_type": "stream",
     "text": [
      "Apply Model for ggH125_ZZ4lep\n",
      "5046/5046 [==============================] - 10s 2ms/step\n",
      "Apply Model for VBFH125_ZZ4lep\n",
      "5840/5840 [==============================] - 12s 2ms/step\n",
      "Apply Model for WH125_ZZ4lep\n",
      "306/306 [==============================] - 1s 2ms/step\n",
      "Apply Model for ZH125_ZZ4lep\n",
      "374/374 [==============================] - 1s 2ms/step\n",
      "Apply Model for llll\n",
      "16374/16374 [==============================] - 33s 2ms/step\n",
      "Apply Model for Zee\n",
      "8/8 [==============================] - 0s 5ms/step\n",
      "Apply Model for Zmumu\n",
      "9/9 [==============================] - 0s 5ms/step\n",
      "Apply Model for ttbar_lep\n",
      "11/11 [==============================] - 0s 4ms/step\n"
     ]
    }
   ],
   "source": [
    "# Apply the model\n",
    "data_frames_apply_dnn = common.apply_dnn_model(model, data_frames, training_variables, sample_subset_signal + sample_subset_background)"
   ]
  },
  {
   "cell_type": "code",
   "execution_count": 31,
   "id": "eDpIAGxTBpUe",
   "metadata": {
    "colab": {
     "base_uri": "https://localhost:8080/",
     "height": 641
    },
    "id": "eDpIAGxTBpUe",
    "outputId": "250fa7f0-3b1d-422f-dbc6-61857c5f5556"
   },
   "outputs": [
    {
     "data": {
      "image/png": "[encoded data removed]",
      "text/plain": [
       "<Figure size 700x700 with 1 Axes>"
      ]
     },
     "metadata": {},
     "output_type": "display_data"
    }
   ],
   "source": [
    "model_prediction = {'variable': 'model_prediction',\n",
    "                    'binning': np.linspace(0, 1, 50),\n",
    "                    'xlabel': 'prediction'}\n",
    "common.plot_hist(model_prediction, data_frames_apply_dnn, show_data=False)"
   ]
  },
  {
   "cell_type": "markdown",
   "id": "ew01qIqSRoar",
   "metadata": {
    "id": "ew01qIqSRoar"
   },
   "source": [
    "### Validation Data and Early Stopping"
   ]
  },
  {
   "cell_type": "markdown",
   "id": "6rodq6-jQWR5",
   "metadata": {
    "id": "6rodq6-jQWR5"
   },
   "source": [
    "How long do we have to train? The right amount of training is very important for the final performance of the network. If the training was too short the model parameters are poorly adapted to the underlying concepts and the model performance is bad. This is called undertraining. If the training was too long the model will start to learn the training data by heart. This overtraining will lead to a very godd performance at the training data but bad performance on unseen data.\n",
    "\n",
    "Thus, to test the performance of the model the model has to be applied on unseen data. After each epoch the model is the model is applied on validation data not used for training. If the classification of the validation data has improved for the current epoch the model performance is still improving. If the performance on the validation data does not improve anymore the training can be stopped.\n",
    "\n",
    "\n",
    "# Plot"
   ]
  },
  {
   "cell_type": "code",
   "execution_count": 18,
   "id": "kML3bli6SUfW",
   "metadata": {
    "id": "kML3bli6SUfW"
   },
   "outputs": [],
   "source": [
    "# Import function to split data into train and test data\n",
    "from sklearn.model_selection import train_test_split"
   ]
  },
  {
   "cell_type": "markdown",
   "id": "hQb2GTSGSg0o",
   "metadata": {
    "id": "hQb2GTSGSg0o"
   },
   "source": [
    "Use again 40% of the available data for training and additionally 20% to validate the model performance."
   ]
  },
  {
   "cell_type": "code",
   "execution_count": 33,
   "id": "KLZpYpYF_Lai",
   "metadata": {
    "id": "KLZpYpYF_Lai"
   },
   "outputs": [],
   "source": [
    "# Extract the values, weights and classification of 60% of the data\n",
    "values, weights, classification = common.get_dnn_input(data_frames, training_variables, sample_list_signal, sample_list_background, 0.6)"
   ]
  },
  {
   "cell_type": "code",
   "execution_count": 34,
   "id": "5sr3kiRq_Nx8",
   "metadata": {
    "id": "5sr3kiRq_Nx8"
   },
   "outputs": [],
   "source": [
    "# Split into train and validation data\n",
    "train_values, val_values, train_classification, val_classification = train_test_split(values, classification, test_size=1/3, random_state=random_state)\n",
    "train_weights, val_weights = train_test_split(weights, classification, test_size=1/3, random_state=random_state)[:2]"
   ]
  },
  {
   "cell_type": "markdown",
   "id": "6c86e967",
   "metadata": {},
   "source": [
    "<font color='blue'>\n",
    "Task: Let's follow the same strategy as before:\n",
    "    \n",
    "- Create tensorflow data sets for training and validation data with 128 events per batch\n",
    "- Recreate and adapt the normalization layer\n",
    "- Recreate the tensorflow model with the same number of layers and nodes per layer\n",
    "- Compile the model\n",
    "</font>"
   ]
  },
  {
   "cell_type": "code",
   "execution_count": 35,
   "id": "PhQihlcESpEO",
   "metadata": {
    "id": "PhQihlcESpEO"
   },
   "outputs": [],
   "source": [
    "# Convert the data to tensorflow datasets\n",
    "train_data = Dataset.from_tensor_slices((train_values, train_classification))\n",
    "train_data = train_data.shuffle(len(train_data), seed=random_state)\n",
    "train_data = train_data.batch(128)\n",
    "val_data = Dataset.from_tensor_slices((val_values, val_classification))\n",
    "val_data = val_data.shuffle(len(val_data), seed=random_state)\n",
    "val_data = val_data.batch(128)"
   ]
  },
  {
   "cell_type": "code",
   "execution_count": 36,
   "id": "zhDgmhgMSCEQ",
   "metadata": {
    "id": "zhDgmhgMSCEQ"
   },
   "outputs": [],
   "source": [
    "# Normalization layer\n",
    "normalization_layer = tf.keras.layers.Normalization()\n",
    "normalization_layer.adapt(train_values)\n",
    "# Create a simple NN\n",
    "model_layers = [\n",
    "    normalization_layer,\n",
    "    tf.keras.layers.Dense(60, activation='relu'),\n",
    "    tf.keras.layers.Dense(60, activation='relu'),\n",
    "    tf.keras.layers.Dense(1, activation='sigmoid'),\n",
    "]\n",
    "# Create a simple NN\n",
    "model = tf.keras.models.Sequential(model_layers)\n",
    "# Compile model\n",
    "model.compile(optimizer=adam_optimizer, loss=loss_fn, metrics=['binary_accuracy'])"
   ]
  },
  {
   "cell_type": "markdown",
   "id": "94fc4cc6",
   "metadata": {},
   "source": [
    "So how to stop the training if the perfomance does not improve anymore?\n",
    "\n",
    "The answer is early stopping. With early stopping you set a value which should be monitored, in our case the loss on the validation data `val_loss`. Since there can be fluctuations in the tested model performance, it is recommended to use a certain patience after which the training should be stopped. If we set `patience=5` the training is stopped if the `va_loss` has not improved for 5 epochs. Since the model performance has potentionally decreased during this 5 epochs set `restore_best_weights=True` to restore the model state with the best performance."
   ]
  },
  {
   "cell_type": "code",
   "execution_count": 38,
   "id": "wyTjuAZHThGI",
   "metadata": {
    "id": "wyTjuAZHThGI"
   },
   "outputs": [],
   "source": [
    "# Early stopping\n",
    "early_stopping = tf.keras.callbacks.EarlyStopping(monitor='val_loss', patience=5, restore_best_weights=True)"
   ]
  },
  {
   "cell_type": "code",
   "execution_count": 38,
   "id": "HpQzXeAgSCZr",
   "metadata": {
    "colab": {
     "base_uri": "https://localhost:8080/"
    },
    "id": "HpQzXeAgSCZr",
    "outputId": "aa13403f-a297-40a4-fb1b-450b4004040b"
   },
   "outputs": [
    {
     "name": "stdout",
     "output_type": "stream",
     "text": [
      "Epoch 1/1000\n",
      "2797/2797 [==============================] - 26s 9ms/step - loss: 0.4883 - binary_accuracy: 0.7709 - val_loss: 0.4754 - val_binary_accuracy: 0.7807\n",
      "Epoch 2/1000\n",
      "2797/2797 [==============================] - 27s 10ms/step - loss: 0.4707 - binary_accuracy: 0.7830 - val_loss: 0.4726 - val_binary_accuracy: 0.7815\n",
      "Epoch 3/1000\n",
      "2797/2797 [==============================] - 28s 10ms/step - loss: 0.4690 - binary_accuracy: 0.7836 - val_loss: 0.4717 - val_binary_accuracy: 0.7820\n",
      "Epoch 4/1000\n",
      "2797/2797 [==============================] - 28s 10ms/step - loss: 0.4681 - binary_accuracy: 0.7836 - val_loss: 0.4713 - val_binary_accuracy: 0.7812\n",
      "Epoch 5/1000\n",
      "2797/2797 [==============================] - 28s 10ms/step - loss: 0.4675 - binary_accuracy: 0.7840 - val_loss: 0.4705 - val_binary_accuracy: 0.7825\n",
      "Epoch 6/1000\n",
      "2797/2797 [==============================] - 27s 10ms/step - loss: 0.4671 - binary_accuracy: 0.7840 - val_loss: 0.4703 - val_binary_accuracy: 0.7816\n",
      "Epoch 7/1000\n",
      "2797/2797 [==============================] - 27s 10ms/step - loss: 0.4668 - binary_accuracy: 0.7842 - val_loss: 0.4702 - val_binary_accuracy: 0.7824\n",
      "Epoch 8/1000\n",
      "2797/2797 [==============================] - 27s 10ms/step - loss: 0.4666 - binary_accuracy: 0.7841 - val_loss: 0.4699 - val_binary_accuracy: 0.7824\n",
      "Epoch 9/1000\n",
      "2797/2797 [==============================] - 28s 10ms/step - loss: 0.4664 - binary_accuracy: 0.7843 - val_loss: 0.4697 - val_binary_accuracy: 0.7824\n",
      "Epoch 10/1000\n",
      "2797/2797 [==============================] - 28s 10ms/step - loss: 0.4662 - binary_accuracy: 0.7841 - val_loss: 0.4693 - val_binary_accuracy: 0.7825\n",
      "Epoch 11/1000\n",
      "2797/2797 [==============================] - 27s 9ms/step - loss: 0.4661 - binary_accuracy: 0.7844 - val_loss: 0.4696 - val_binary_accuracy: 0.7821\n",
      "Epoch 12/1000\n",
      "2797/2797 [==============================] - 28s 10ms/step - loss: 0.4660 - binary_accuracy: 0.7845 - val_loss: 0.4700 - val_binary_accuracy: 0.7828\n",
      "Epoch 13/1000\n",
      "2797/2797 [==============================] - 27s 10ms/step - loss: 0.4659 - binary_accuracy: 0.7842 - val_loss: 0.4694 - val_binary_accuracy: 0.7821\n",
      "Epoch 14/1000\n",
      "2797/2797 [==============================] - 27s 9ms/step - loss: 0.4658 - binary_accuracy: 0.7847 - val_loss: 0.4691 - val_binary_accuracy: 0.7827\n",
      "Epoch 15/1000\n",
      "2797/2797 [==============================] - 27s 10ms/step - loss: 0.4657 - binary_accuracy: 0.7845 - val_loss: 0.4691 - val_binary_accuracy: 0.7825\n",
      "Epoch 16/1000\n",
      "2797/2797 [==============================] - 27s 10ms/step - loss: 0.4657 - binary_accuracy: 0.7846 - val_loss: 0.4696 - val_binary_accuracy: 0.7825\n",
      "Epoch 17/1000\n",
      "2797/2797 [==============================] - 27s 10ms/step - loss: 0.4656 - binary_accuracy: 0.7848 - val_loss: 0.4691 - val_binary_accuracy: 0.7823\n",
      "Epoch 18/1000\n",
      "2797/2797 [==============================] - 27s 10ms/step - loss: 0.4655 - binary_accuracy: 0.7848 - val_loss: 0.4691 - val_binary_accuracy: 0.7824\n",
      "Epoch 19/1000\n",
      "2797/2797 [==============================] - 27s 10ms/step - loss: 0.4655 - binary_accuracy: 0.7850 - val_loss: 0.4689 - val_binary_accuracy: 0.7825\n",
      "Epoch 20/1000\n",
      "2797/2797 [==============================] - 27s 10ms/step - loss: 0.4655 - binary_accuracy: 0.7846 - val_loss: 0.4693 - val_binary_accuracy: 0.7816\n",
      "Epoch 21/1000\n",
      "2797/2797 [==============================] - 27s 10ms/step - loss: 0.4654 - binary_accuracy: 0.7850 - val_loss: 0.4688 - val_binary_accuracy: 0.7825\n",
      "Epoch 22/1000\n",
      "2797/2797 [==============================] - 27s 10ms/step - loss: 0.4653 - binary_accuracy: 0.7846 - val_loss: 0.4690 - val_binary_accuracy: 0.7822\n",
      "Epoch 23/1000\n",
      "2797/2797 [==============================] - 26s 9ms/step - loss: 0.4653 - binary_accuracy: 0.7849 - val_loss: 0.4689 - val_binary_accuracy: 0.7829\n",
      "Epoch 24/1000\n",
      "2797/2797 [==============================] - 27s 10ms/step - loss: 0.4653 - binary_accuracy: 0.7849 - val_loss: 0.4699 - val_binary_accuracy: 0.7816\n",
      "Epoch 25/1000\n",
      "2797/2797 [==============================] - 28s 10ms/step - loss: 0.4652 - binary_accuracy: 0.7848 - val_loss: 0.4699 - val_binary_accuracy: 0.7823\n",
      "Epoch 26/1000\n",
      "2797/2797 [==============================] - 27s 10ms/step - loss: 0.4652 - binary_accuracy: 0.7851 - val_loss: 0.4692 - val_binary_accuracy: 0.7821\n"
     ]
    }
   ],
   "source": [
    "# Train model with early stopping for the validation data performance\n",
    "history = model.fit(train_data, validation_data=val_data, callbacks=[early_stopping], epochs=1000)"
   ]
  },
  {
   "cell_type": "markdown",
   "id": "9e8cf6dc",
   "metadata": {},
   "source": [
    "<font color='blue'>\n",
    "Task: Plot the training loss (<code>history.history['loss']</code>) and validation loss (<code>history.history['val_loss']</code>) of the training history. Describe what behavior you can observe for each performance trend.\n",
    "</font>"
   ]
  },
  {
   "cell_type": "code",
   "execution_count": 39,
   "id": "uaCAcUKUWMuh",
   "metadata": {
    "colab": {
     "base_uri": "https://localhost:8080/",
     "height": 543
    },
    "id": "uaCAcUKUWMuh",
    "outputId": "8d15f192-debc-4338-b243-6a2c310b9d16",
    "scrolled": true
   },
   "outputs": [
    {
     "data": {
      "image/png": "[encoded data removed]",
      "text/plain": [
       "<Figure size 700x600 with 1 Axes>"
      ]
     },
     "metadata": {},
     "output_type": "display_data"
    }
   ],
   "source": [
    "# Plot the training history\n",
    "fig, ax = plt.subplots(figsize=(7, 6))\n",
    "# Training loss\n",
    "ax.plot(history.history['loss'], label='training')\n",
    "# Validation loss\n",
    "ax.plot(history.history['val_loss'], label='val')\n",
    "ax.set_xlabel('epoch')\n",
    "ax.set_ylabel('loss')\n",
    "ax.legend()\n",
    "_ = plt.show()"
   ]
  },
  {
   "cell_type": "markdown",
   "id": "c1693cf8",
   "metadata": {},
   "source": [
    "The model itself has already an implemented evaluation function. When a tensorflow set is provided it returns the loss and accuracy on this data set.\n",
    "\n",
    "<font color='blue'>\n",
    "Task: Evaluate the model on training and validation data and compare the results.\n",
    "</font>"
   ]
  },
  {
   "cell_type": "code",
   "execution_count": 40,
   "id": "-2pKN3BvCd26",
   "metadata": {
    "colab": {
     "base_uri": "https://localhost:8080/"
    },
    "id": "-2pKN3BvCd26",
    "outputId": "b91378e3-78d0-411b-9b24-3562da837410",
    "scrolled": true
   },
   "outputs": [
    {
     "name": "stdout",
     "output_type": "stream",
     "text": [
      "2797/2797 [==============================] - 15s 5ms/step - loss: 0.4651 - binary_accuracy: 0.7850\n",
      "1399/1399 [==============================] - 7s 5ms/step - loss: 0.4688 - binary_accuracy: 0.7825\n",
      "train loss = 0.46506\ttrain accuracy = 0.785\n",
      "val loss = 0.46883\tval accuracy = 0.78247\n"
     ]
    }
   ],
   "source": [
    "# Evaluate model on training and validation data\n",
    "model_train_evaluation = model.evaluate(train_data)\n",
    "model_val_evaluation = model.evaluate(val_data)\n",
    "\n",
    "print(f'train loss = {round(model_train_evaluation[0], 5)}\\ttrain accuracy = {round(model_train_evaluation[1], 5)}')\n",
    "print(f'val loss = {round(model_val_evaluation[0], 5)}\\tval accuracy = {round(model_val_evaluation[1], 5)}')"
   ]
  },
  {
   "cell_type": "markdown",
   "id": "5c46efdb",
   "metadata": {},
   "source": [
    "Now lets apply the model on the train and validation data and plot the classification."
   ]
  },
  {
   "cell_type": "code",
   "execution_count": 41,
   "id": "Tq0pWJFBWM5x",
   "metadata": {
    "colab": {
     "base_uri": "https://localhost:8080/"
    },
    "id": "Tq0pWJFBWM5x",
    "outputId": "d8514d14-7782-421e-9215-5aecfaae62f3"
   },
   "outputs": [
    {
     "name": "stdout",
     "output_type": "stream",
     "text": [
      "11186/11186 [==============================] - 23s 2ms/step\n",
      "5593/5593 [==============================] - 11s 2ms/step\n"
     ]
    }
   ],
   "source": [
    "# Apply the model for tarining and validation values\n",
    "train_prediction = model.predict(train_values)\n",
    "val_prediction = model.predict(val_values)"
   ]
  },
  {
   "cell_type": "code",
   "execution_count": 42,
   "id": "5d1WBms0WNCc",
   "metadata": {
    "colab": {
     "base_uri": "https://localhost:8080/",
     "height": 522
    },
    "id": "5d1WBms0WNCc",
    "outputId": "0ee6e8ae-e53d-4472-a3b9-77ae0dcad6b7",
    "scrolled": true
   },
   "outputs": [
    {
     "data": {
      "image/png": "[encoded data removed]",
      "text/plain": [
       "<Figure size 700x600 with 1 Axes>"
      ]
     },
     "metadata": {},
     "output_type": "display_data"
    }
   ],
   "source": [
    "# Plot the model output\n",
    "common.plot_dnn_output(train_prediction, train_classification, val_prediction, val_classification)\n",
    "_ = plt.show()"
   ]
  },
  {
   "cell_type": "markdown",
   "id": "01d4156a",
   "metadata": {},
   "source": [
    "As you can see the classification by the model on traning and validation data is very consistent. This is great :)<br>\n",
    "If we would see a significant difference in train and validation classification this would be a clear sign for overtraining."
   ]
  },
  {
   "cell_type": "markdown",
   "id": "abad074e",
   "metadata": {},
   "source": [
    "<font color='blue'>\n",
    "Task: Use <code>common.apply_dnn_model(...)</code> to apply the model for all samples in <code>data_frames</code> and plot the classification.\n",
    "</font>"
   ]
  },
  {
   "cell_type": "code",
   "execution_count": 43,
   "id": "bzgiLWMWWGmw",
   "metadata": {
    "colab": {
     "base_uri": "https://localhost:8080/"
    },
    "id": "bzgiLWMWWGmw",
    "outputId": "3f8d6b0d-2d86-41d8-c85e-4890f7189156"
   },
   "outputs": [
    {
     "name": "stdout",
     "output_type": "stream",
     "text": [
      "Apply Model for ggH125_ZZ4lep\n",
      "5046/5046 [==============================] - 10s 2ms/step\n",
      "Apply Model for VBFH125_ZZ4lep\n",
      "5840/5840 [==============================] - 12s 2ms/step\n",
      "Apply Model for WH125_ZZ4lep\n",
      "306/306 [==============================] - 1s 2ms/step\n",
      "Apply Model for ZH125_ZZ4lep\n",
      "374/374 [==============================] - 1s 2ms/step\n",
      "Apply Model for llll\n",
      "16374/16374 [==============================] - 36s 2ms/step\n",
      "Apply Model for Zee\n",
      "8/8 [==============================] - 0s 4ms/step\n",
      "Apply Model for Zmumu\n",
      "9/9 [==============================] - 0s 4ms/step\n",
      "Apply Model for ttbar_lep\n",
      "11/11 [==============================] - 0s 4ms/step\n"
     ]
    }
   ],
   "source": [
    "# Apply the model\n",
    "data_frames_apply_dnn = common.apply_dnn_model(model, data_frames, training_variables, sample_subset_signal + sample_subset_background)"
   ]
  },
  {
   "cell_type": "code",
   "execution_count": 44,
   "id": "VgBXHg_6bAP7",
   "metadata": {
    "colab": {
     "base_uri": "https://localhost:8080/",
     "height": 641
    },
    "id": "VgBXHg_6bAP7",
    "outputId": "e31607c8-8c43-4b39-8dba-c89c3402acf5"
   },
   "outputs": [
    {
     "data": {
      "image/png": "[encoded data removed]",
      "text/plain": [
       "<Figure size 700x700 with 1 Axes>"
      ]
     },
     "metadata": {},
     "output_type": "display_data"
    }
   ],
   "source": [
    "model_prediction = {'variable': 'model_prediction',\n",
    "                    'binning': np.linspace(0, 1, 50),\n",
    "                    'xlabel': 'prediction'}\n",
    "common.plot_hist(model_prediction, data_frames_apply_dnn, show_data=False)"
   ]
  },
  {
   "cell_type": "markdown",
   "id": "RRuPU0vhF1Ch",
   "metadata": {
    "id": "RRuPU0vhF1Ch"
   },
   "source": [
    "<font color='blue'>\n",
    "Task:\n",
    "\n",
    "The llll events are mostly classified as background and the Higgs events tend to the signal classification. However, the classification of Zee and Zmumu events seems to be quite random. What could be the reason for this?\n",
    "</font><br>\n",
    "\n",
    "<font color='green'>\n",
    "Answer:\n",
    "\n",
    "The number of training events for Zee and Zmumu is much smaller than for the other samples. Thus, they are hardly considered in the training.\n",
    "</font>"
   ]
  },
  {
   "cell_type": "markdown",
   "id": "txeJepxIIPYh",
   "metadata": {
    "id": "txeJepxIIPYh"
   },
   "source": [
    "### Event Weights"
   ]
  },
  {
   "cell_type": "markdown",
   "id": "46db027e",
   "metadata": {},
   "source": [
    "The simulated events are multiplied by weight factors for the final prediction of measured data. Thus, events with large weights are more important for the prediction than events with small weights. In order to take this into account for the training, the event weights `w_i` can be included in the calculation of the loss:<br>\n",
    "$H = -\\frac{1}{N} \\sum_i^N w_i (y_i^{true} log(y_i^{predict}) + (1 - y_i^{true}) log(1 - y_i^{predict}))$"
   ]
  },
  {
   "cell_type": "markdown",
   "id": "7e7d5a3c",
   "metadata": {},
   "source": [
    "<font color='blue'>\n",
    "Task: And another time follow the same strategy as before:\n",
    "    \n",
    "- Create tensorflow data sets for training and validation data with 128 events per batch. But this time also include the event weights\n",
    "- Recreate and adapt the normalization layer\n",
    "- Recreate the tensorflow model with the same number of layers and nodes per layer\n",
    "- Compile the model\n",
    "- Train the model\n",
    "- Plot the classification and do the evaluation\n",
    "</font>"
   ]
  },
  {
   "cell_type": "code",
   "execution_count": 45,
   "id": "jM5nQz3dsN3t",
   "metadata": {
    "id": "jM5nQz3dsN3t"
   },
   "outputs": [],
   "source": [
    "# Convert the data to tensorflow datasets\n",
    "train_data = Dataset.from_tensor_slices((train_values, train_classification, train_weights))\n",
    "train_data = train_data.shuffle(len(train_data), seed=random_state)\n",
    "train_data = train_data.batch(128)\n",
    "val_data = Dataset.from_tensor_slices((val_values, val_classification, val_weights))\n",
    "val_data = val_data.shuffle(len(val_data), seed=random_state)\n",
    "val_data = val_data.batch(128)"
   ]
  },
  {
   "cell_type": "code",
   "execution_count": 46,
   "id": "ada5KISkbAah",
   "metadata": {
    "id": "ada5KISkbAah"
   },
   "outputs": [],
   "source": [
    "# Normalization layer\n",
    "normalization_layer = tf.keras.layers.Normalization()\n",
    "normalization_layer.adapt(train_values)\n",
    "# Create a simple NN\n",
    "model_layers = [\n",
    "    normalization_layer,\n",
    "    tf.keras.layers.Dense(60, activation='relu'),\n",
    "    tf.keras.layers.Dense(60, activation='relu'),\n",
    "    tf.keras.layers.Dense(1, activation='sigmoid'),\n",
    "]\n",
    "# Create a simple NN\n",
    "model = tf.keras.models.Sequential(model_layers)\n",
    "# Compile model now with the weighted metric\n",
    "model.compile(optimizer=adam_optimizer, loss=loss_fn, weighted_metrics=['binary_accuracy'])"
   ]
  },
  {
   "cell_type": "code",
   "execution_count": 47,
   "id": "GPnLZ6V0bAjX",
   "metadata": {
    "colab": {
     "base_uri": "https://localhost:8080/"
    },
    "id": "GPnLZ6V0bAjX",
    "outputId": "765d4daa-c23b-400b-fc7d-018733ef46e1"
   },
   "outputs": [
    {
     "name": "stdout",
     "output_type": "stream",
     "text": [
      "Epoch 1/1000\n",
      "2797/2797 [==============================] - 30s 11ms/step - loss: 5.0978e-05 - binary_accuracy: 0.9750 - val_loss: 4.4475e-05 - val_binary_accuracy: 0.9755\n",
      "Epoch 2/1000\n",
      "2797/2797 [==============================] - 29s 10ms/step - loss: 4.4612e-05 - binary_accuracy: 0.9761 - val_loss: 4.3874e-05 - val_binary_accuracy: 0.9755\n",
      "Epoch 3/1000\n",
      "2797/2797 [==============================] - 30s 11ms/step - loss: 4.3977e-05 - binary_accuracy: 0.9761 - val_loss: 4.3306e-05 - val_binary_accuracy: 0.9755\n",
      "Epoch 4/1000\n",
      "2797/2797 [==============================] - 30s 11ms/step - loss: 4.3437e-05 - binary_accuracy: 0.9761 - val_loss: 4.3031e-05 - val_binary_accuracy: 0.9755\n",
      "Epoch 5/1000\n",
      "2797/2797 [==============================] - 32s 11ms/step - loss: 4.3053e-05 - binary_accuracy: 0.9761 - val_loss: 4.2611e-05 - val_binary_accuracy: 0.9755\n",
      "Epoch 6/1000\n",
      "2797/2797 [==============================] - 30s 11ms/step - loss: 4.2688e-05 - binary_accuracy: 0.9761 - val_loss: 4.2374e-05 - val_binary_accuracy: 0.9755\n",
      "Epoch 7/1000\n",
      "2797/2797 [==============================] - 29s 10ms/step - loss: 4.2498e-05 - binary_accuracy: 0.9761 - val_loss: 4.2163e-05 - val_binary_accuracy: 0.9755\n",
      "Epoch 8/1000\n",
      "2797/2797 [==============================] - 30s 11ms/step - loss: 4.2303e-05 - binary_accuracy: 0.9761 - val_loss: 4.2060e-05 - val_binary_accuracy: 0.9755\n",
      "Epoch 9/1000\n",
      "2797/2797 [==============================] - 29s 10ms/step - loss: 4.2254e-05 - binary_accuracy: 0.9761 - val_loss: 4.1892e-05 - val_binary_accuracy: 0.9755\n",
      "Epoch 10/1000\n",
      "2797/2797 [==============================] - 30s 11ms/step - loss: 4.2040e-05 - binary_accuracy: 0.9761 - val_loss: 4.1762e-05 - val_binary_accuracy: 0.9755\n",
      "Epoch 11/1000\n",
      "2797/2797 [==============================] - 30s 11ms/step - loss: 4.1989e-05 - binary_accuracy: 0.9761 - val_loss: 4.2173e-05 - val_binary_accuracy: 0.9755\n",
      "Epoch 12/1000\n",
      "2797/2797 [==============================] - 31s 11ms/step - loss: 4.1810e-05 - binary_accuracy: 0.9761 - val_loss: 4.1621e-05 - val_binary_accuracy: 0.9755\n",
      "Epoch 13/1000\n",
      "2797/2797 [==============================] - 30s 11ms/step - loss: 4.1798e-05 - binary_accuracy: 0.9761 - val_loss: 4.1694e-05 - val_binary_accuracy: 0.9755\n",
      "Epoch 14/1000\n",
      "2797/2797 [==============================] - 30s 11ms/step - loss: 4.1661e-05 - binary_accuracy: 0.9761 - val_loss: 4.1348e-05 - val_binary_accuracy: 0.9755\n",
      "Epoch 15/1000\n",
      "2797/2797 [==============================] - 29s 10ms/step - loss: 4.1678e-05 - binary_accuracy: 0.9761 - val_loss: 4.1679e-05 - val_binary_accuracy: 0.9755\n",
      "Epoch 16/1000\n",
      "2797/2797 [==============================] - 29s 10ms/step - loss: 4.1536e-05 - binary_accuracy: 0.9761 - val_loss: 4.1370e-05 - val_binary_accuracy: 0.9755\n",
      "Epoch 17/1000\n",
      "2797/2797 [==============================] - 31s 11ms/step - loss: 4.1538e-05 - binary_accuracy: 0.9761 - val_loss: 4.1302e-05 - val_binary_accuracy: 0.9755\n",
      "Epoch 18/1000\n",
      "2797/2797 [==============================] - 30s 11ms/step - loss: 4.1435e-05 - binary_accuracy: 0.9761 - val_loss: 4.1100e-05 - val_binary_accuracy: 0.9755\n",
      "Epoch 19/1000\n",
      "2797/2797 [==============================] - 30s 11ms/step - loss: 4.1445e-05 - binary_accuracy: 0.9761 - val_loss: 4.1302e-05 - val_binary_accuracy: 0.9755\n",
      "Epoch 20/1000\n",
      "2797/2797 [==============================] - 31s 11ms/step - loss: 4.1414e-05 - binary_accuracy: 0.9761 - val_loss: 4.1147e-05 - val_binary_accuracy: 0.9755\n",
      "Epoch 21/1000\n",
      "2797/2797 [==============================] - 29s 10ms/step - loss: 4.1362e-05 - binary_accuracy: 0.9761 - val_loss: 4.1095e-05 - val_binary_accuracy: 0.9755\n",
      "Epoch 22/1000\n",
      "2797/2797 [==============================] - 30s 11ms/step - loss: 4.1384e-05 - binary_accuracy: 0.9761 - val_loss: 4.1102e-05 - val_binary_accuracy: 0.9755\n",
      "Epoch 23/1000\n",
      "2797/2797 [==============================] - 31s 11ms/step - loss: 4.1359e-05 - binary_accuracy: 0.9761 - val_loss: 4.1125e-05 - val_binary_accuracy: 0.9755\n",
      "Epoch 24/1000\n",
      "2797/2797 [==============================] - 31s 11ms/step - loss: 4.1288e-05 - binary_accuracy: 0.9761 - val_loss: 4.1072e-05 - val_binary_accuracy: 0.9755\n",
      "Epoch 25/1000\n",
      "2797/2797 [==============================] - 30s 11ms/step - loss: 4.1273e-05 - binary_accuracy: 0.9761 - val_loss: 4.1144e-05 - val_binary_accuracy: 0.9755\n",
      "Epoch 26/1000\n",
      "2797/2797 [==============================] - 30s 11ms/step - loss: 4.1243e-05 - binary_accuracy: 0.9761 - val_loss: 4.1187e-05 - val_binary_accuracy: 0.9755\n",
      "Epoch 27/1000\n",
      "2797/2797 [==============================] - 30s 11ms/step - loss: 4.1222e-05 - binary_accuracy: 0.9761 - val_loss: 4.1043e-05 - val_binary_accuracy: 0.9755\n",
      "Epoch 28/1000\n",
      "2797/2797 [==============================] - 30s 11ms/step - loss: 4.1251e-05 - binary_accuracy: 0.9761 - val_loss: 4.1077e-05 - val_binary_accuracy: 0.9755\n",
      "Epoch 29/1000\n",
      "2797/2797 [==============================] - 30s 11ms/step - loss: 4.1225e-05 - binary_accuracy: 0.9761 - val_loss: 4.0948e-05 - val_binary_accuracy: 0.9755\n",
      "Epoch 30/1000\n",
      "2797/2797 [==============================] - 31s 11ms/step - loss: 4.1168e-05 - binary_accuracy: 0.9761 - val_loss: 4.1048e-05 - val_binary_accuracy: 0.9755\n",
      "Epoch 31/1000\n",
      "2797/2797 [==============================] - 30s 11ms/step - loss: 4.1127e-05 - binary_accuracy: 0.9761 - val_loss: 4.0933e-05 - val_binary_accuracy: 0.9755\n",
      "Epoch 32/1000\n",
      "2797/2797 [==============================] - 30s 11ms/step - loss: 4.1027e-05 - binary_accuracy: 0.9761 - val_loss: 4.1057e-05 - val_binary_accuracy: 0.9755\n",
      "Epoch 33/1000\n",
      "2797/2797 [==============================] - 30s 11ms/step - loss: 4.1210e-05 - binary_accuracy: 0.9761 - val_loss: 4.1142e-05 - val_binary_accuracy: 0.9755\n",
      "Epoch 34/1000\n",
      "2797/2797 [==============================] - 31s 11ms/step - loss: 4.1126e-05 - binary_accuracy: 0.9761 - val_loss: 4.1031e-05 - val_binary_accuracy: 0.9755\n",
      "Epoch 35/1000\n",
      "2797/2797 [==============================] - 30s 11ms/step - loss: 4.1134e-05 - binary_accuracy: 0.9761 - val_loss: 4.1118e-05 - val_binary_accuracy: 0.9755\n",
      "Epoch 36/1000\n",
      "2797/2797 [==============================] - 30s 11ms/step - loss: 4.1152e-05 - binary_accuracy: 0.9761 - val_loss: 4.1055e-05 - val_binary_accuracy: 0.9755\n"
     ]
    }
   ],
   "source": [
    "# Train model\n",
    "history = model.fit(train_data, validation_data=val_data, callbacks=[early_stopping], epochs=1000)"
   ]
  },
  {
   "cell_type": "code",
   "execution_count": 48,
   "id": "Iyh3S_PZR91J",
   "metadata": {
    "colab": {
     "base_uri": "https://localhost:8080/",
     "height": 557
    },
    "id": "Iyh3S_PZR91J",
    "outputId": "771ec678-30f1-4c79-edb1-b46f1afb7b23"
   },
   "outputs": [
    {
     "data": {
      "image/png": "[encoded data removed]",
      "text/plain": [
       "<Figure size 700x600 with 1 Axes>"
      ]
     },
     "metadata": {},
     "output_type": "display_data"
    }
   ],
   "source": [
    "# Plot the training history\n",
    "fig, ax = plt.subplots(figsize=(7, 6))\n",
    "ax.plot(history.history['loss'], label='training')\n",
    "ax.plot(history.history['val_loss'], label='val')\n",
    "ax.set_xlabel('epoch')\n",
    "ax.set_ylabel('loss')\n",
    "ax.legend()\n",
    "_ = plt.show()"
   ]
  },
  {
   "cell_type": "code",
   "execution_count": 49,
   "id": "VcSLHpwBbAtP",
   "metadata": {
    "colab": {
     "base_uri": "https://localhost:8080/",
     "height": 556
    },
    "id": "VcSLHpwBbAtP",
    "outputId": "1f900781-0616-4cff-8c6c-0bfb89f95a87"
   },
   "outputs": [
    {
     "name": "stdout",
     "output_type": "stream",
     "text": [
      "11186/11186 [==============================] - 24s 2ms/step\n",
      "5593/5593 [==============================] - 12s 2ms/step\n"
     ]
    },
    {
     "data": {
      "image/png": "[encoded data removed]",
      "text/plain": [
       "<Figure size 700x600 with 1 Axes>"
      ]
     },
     "metadata": {},
     "output_type": "display_data"
    }
   ],
   "source": [
    "# Apply the model for tarining and validation values\n",
    "train_prediction = model.predict(train_values)\n",
    "val_prediction = model.predict(val_values)\n",
    "# Plot the model output\n",
    "common.plot_dnn_output(train_prediction, train_classification, val_prediction, val_classification)\n",
    "_ = plt.show()"
   ]
  },
  {
   "cell_type": "code",
   "execution_count": 50,
   "id": "dG_-a34VIKm0",
   "metadata": {
    "id": "dG_-a34VIKm0"
   },
   "outputs": [
    {
     "name": "stdout",
     "output_type": "stream",
     "text": [
      "2797/2797 [==============================] - 17s 6ms/step - loss: 4.0860e-05 - binary_accuracy: 0.9761\n",
      "1399/1399 [==============================] - 9s 6ms/step - loss: 4.0933e-05 - binary_accuracy: 0.9755\n",
      "train loss = 4e-05\ttrain binary accuracy = 0.97612\n",
      "val loss = 4e-05\tval binary accuracy = 0.97554\n"
     ]
    }
   ],
   "source": [
    "# Evaluate\n",
    "model_train_evaluation = model.evaluate(train_data)\n",
    "model_val_evaluation = model.evaluate(val_data)\n",
    "\n",
    "print(f'train loss = {round(model_train_evaluation[0], 5)}\\ttrain binary accuracy = {round(model_train_evaluation[1], 5)}')\n",
    "print(f'val loss = {round(model_val_evaluation[0], 5)}\\tval binary accuracy = {round(model_val_evaluation[1], 5)}')"
   ]
  },
  {
   "cell_type": "code",
   "execution_count": 52,
   "id": "fCt5AGQrbA1t",
   "metadata": {
    "colab": {
     "base_uri": "https://localhost:8080/",
     "height": 777
    },
    "id": "fCt5AGQrbA1t",
    "outputId": "0ce71a54-636e-4b49-e0d9-b227b3f7bbbb"
   },
   "outputs": [
    {
     "name": "stdout",
     "output_type": "stream",
     "text": [
      "Apply Model for ggH125_ZZ4lep\n",
      "5046/5046 [==============================] - 10s 2ms/step\n",
      "Apply Model for VBFH125_ZZ4lep\n",
      "5840/5840 [==============================] - 12s 2ms/step\n",
      "Apply Model for WH125_ZZ4lep\n",
      "306/306 [==============================] - 1s 2ms/step\n",
      "Apply Model for ZH125_ZZ4lep\n",
      "374/374 [==============================] - 1s 2ms/step\n",
      "Apply Model for llll\n",
      "16374/16374 [==============================] - 36s 2ms/step\n",
      "Apply Model for Zee\n",
      "8/8 [==============================] - 0s 6ms/step\n",
      "Apply Model for Zmumu\n",
      "9/9 [==============================] - 0s 5ms/step\n",
      "Apply Model for ttbar_lep\n",
      "11/11 [==============================] - 0s 4ms/step\n"
     ]
    },
    {
     "data": {
      "image/png": "[encoded data removed]",
      "text/plain": [
       "<Figure size 700x700 with 1 Axes>"
      ]
     },
     "metadata": {},
     "output_type": "display_data"
    }
   ],
   "source": [
    "# Apply the model\n",
    "data_frames_apply_dnn = common.apply_dnn_model(model, data_frames, training_variables, sample_subset_signal + sample_subset_background)\n",
    "model_prediction = {'variable': 'model_prediction',\n",
    "                    'binning': np.linspace(0, 1, 50),\n",
    "                    'xlabel': 'prediction'}\n",
    "common.plot_hist(model_prediction, data_frames_apply_dnn, show_data=False)"
   ]
  },
  {
   "cell_type": "markdown",
   "id": "860c3532",
   "metadata": {},
   "source": [
    "<font color='blue'>\n",
    "Task:\n",
    "\n",
    "What differences can you see on the loss, accuarcy and classification distribution? Explain these differences.\n",
    "</font><br>\n",
    "\n",
    "<font color='green'>\n",
    "Answer:\n",
    "\n",
    "The loss has decreased by the mean weight of the simulated events. The accuracy has significantly improved to 97.5% during the whole training. The reason for this can be seen in the classification plots. Since the weights of signal events are much smaller the model focuses mostly on the classification of background events during the training and therefore classifies all events close to background. With a signal purity of about 2.5% this leads to a accuracy of 97.5%.\n",
    "</font>"
   ]
  },
  {
   "cell_type": "code",
   "execution_count": 61,
   "id": "2ffe1d30",
   "metadata": {},
   "outputs": [
    {
     "name": "stdout",
     "output_type": "stream",
     "text": [
      "The mean weight for signal events is 2.6238732618633292e-05 and for background events 0.0007426467420900983\n"
     ]
    }
   ],
   "source": [
    "# Check the event weights\n",
    "mean_signal_weight = weights[classification > 0.5].mean()\n",
    "mean_background_weight = weights[classification < 0.5].mean()\n",
    "print(f'The mean weight for signal events is {mean_signal_weight} and for background events {mean_background_weight}')"
   ]
  },
  {
   "cell_type": "markdown",
   "id": "66701ee4",
   "metadata": {},
   "source": [
    "#### Reweight the weights of the simulated data"
   ]
  },
  {
   "cell_type": "markdown",
   "id": "d212439d",
   "metadata": {},
   "source": [
    "Introducing the event weights caused the problem that the overall background dominates the training. With the event weights of the simulated data the loss is already quite low if all data is consequently classified close to background.<br>\n",
    "$H = -\\frac{1}{N} \\sum_i^N w_i (y_i^{true} log(y_i^{predict}) + (1 - y_i^{true}) log(1 - y_i^{predict}))$\n",
    "\n",
    "To solve this problem we should reweight the weights to have the same effect on training for signal and background events."
   ]
  },
  {
   "cell_type": "markdown",
   "id": "3753c4ab",
   "metadata": {},
   "source": [
    "<font color='blue'>\n",
    "Task:\n",
    "\n",
    "Write a function that reweights the weights:<br>\n",
    "1. Take the absolute value of the weight to not run into problems with negative weights\n",
    "2. Split the weights into signal and background weights (by setting the other weights in the array to zero)\n",
    "3. Scale the signal weights to have the total sum as the background weights\n",
    "4. Merge the background and rescaled signal weights\n",
    "5. Scale all weights to have a mean weight of 1\n",
    "</font><br>"
   ]
  },
  {
   "cell_type": "code",
   "execution_count": 19,
   "id": "MoHxpNYmQSiL",
   "metadata": {
    "id": "MoHxpNYmQSiL"
   },
   "outputs": [],
   "source": [
    "def reweight_weights(weights, classification):\n",
    "    # Take the absolute value of the weight\n",
    "    weights_abs = np.abs(weights)\n",
    "    # Split in signal and background weights\n",
    "    weights_signal = weights_abs*classification\n",
    "    weights_background = weights_abs*(1 - classification)\n",
    "    # Set ratio of signal and backgroubnd to one\n",
    "    weights_reweighted = weights_background + weights_signal * sum(weights_background) / sum(weights_signal)\n",
    "    # Normalize mean weight to one\n",
    "    weights_reweighted /= weights_reweighted.mean()\n",
    "    return weights_reweighted"
   ]
  },
  {
   "cell_type": "markdown",
   "id": "1d2035fe",
   "metadata": {},
   "source": [
    "<font color='blue'>\n",
    "Task:\n",
    "\n",
    "Test your reweighting function. The mean of all weights should be 1 and the sum of signal weights and background weights should be equal.\n",
    "</font>"
   ]
  },
  {
   "cell_type": "code",
   "execution_count": 63,
   "id": "02f192df",
   "metadata": {},
   "outputs": [
    {
     "name": "stdout",
     "output_type": "stream",
     "text": [
      "Mean weight: 1.0000000000000002\n",
      "Signal weight sum: 268610.9999999979\n",
      "Background weight sum: 268611.0000000022\n"
     ]
    }
   ],
   "source": [
    "weights_reweighted = reweight_weights(weights, classification)\n",
    "signal_weights_reweighted = weights_reweighted[classification > 0.5]\n",
    "background_weights_reweighted = weights_reweighted[classification < 0.5]\n",
    "\n",
    "print(f'Mean weight: {weights_reweighted.mean()}')\n",
    "print(f'Signal weight sum: {signal_weights_reweighted.sum()}')\n",
    "print(f'Background weight sum: {background_weights_reweighted.sum()}')"
   ]
  },
  {
   "cell_type": "markdown",
   "id": "7b0831d1",
   "metadata": {},
   "source": [
    "<font color='blue'>\n",
    "Task: And another time follow the same strategy as before:\n",
    "    \n",
    "- Create tensorflow data sets for training and validation data with 128 events per batch. Us ethis time the reweighted weights\n",
    "- Recreate and adapt the normalization layer\n",
    "- Recreate the tensorflow model with the same number of layers and nodes per layer\n",
    "- Compile the model\n",
    "- Train the model\n",
    "- Plot the classification and do the evaluation\n",
    "</font>"
   ]
  },
  {
   "cell_type": "code",
   "execution_count": 56,
   "id": "5mTwdrlOQSzZ",
   "metadata": {
    "id": "5mTwdrlOQSzZ"
   },
   "outputs": [],
   "source": [
    "# Get reweighted weights\n",
    "train_weights_reweighted = reweight_weights(train_weights, train_classification)\n",
    "val_weights_reweighted = reweight_weights(val_weights, val_classification)\n",
    "\n",
    "# Convert the data to tensorflow datasets\n",
    "train_data = Dataset.from_tensor_slices((train_values, train_classification, train_weights_reweighted))\n",
    "train_data = train_data.shuffle(len(train_data), seed=random_state)\n",
    "train_data = train_data.batch(128)\n",
    "val_data = Dataset.from_tensor_slices((val_values, val_classification, val_weights_reweighted))\n",
    "val_data = val_data.shuffle(len(val_data), seed=random_state)\n",
    "val_data = val_data.batch(128)"
   ]
  },
  {
   "cell_type": "code",
   "execution_count": 57,
   "id": "dBrso_7_QTDe",
   "metadata": {
    "colab": {
     "base_uri": "https://localhost:8080/"
    },
    "id": "dBrso_7_QTDe",
    "outputId": "1c70bb48-1113-41da-8c86-351df614ea94"
   },
   "outputs": [
    {
     "name": "stdout",
     "output_type": "stream",
     "text": [
      "Epoch 1/1000\n",
      "2799/2799 [==============================] - 31s 11ms/step - loss: 0.5489 - binary_accuracy: 0.7231 - val_loss: 0.5259 - val_binary_accuracy: 0.7305\n",
      "Epoch 2/1000\n",
      "2799/2799 [==============================] - 31s 11ms/step - loss: 0.5124 - binary_accuracy: 0.7567 - val_loss: 0.4986 - val_binary_accuracy: 0.7727\n",
      "Epoch 3/1000\n",
      "2799/2799 [==============================] - 29s 10ms/step - loss: 0.4941 - binary_accuracy: 0.7720 - val_loss: 0.4911 - val_binary_accuracy: 0.7615\n",
      "Epoch 4/1000\n",
      "2799/2799 [==============================] - 29s 10ms/step - loss: 0.4851 - binary_accuracy: 0.7752 - val_loss: 0.4807 - val_binary_accuracy: 0.7800\n",
      "Epoch 5/1000\n",
      "2799/2799 [==============================] - 29s 10ms/step - loss: 0.4795 - binary_accuracy: 0.7802 - val_loss: 0.4763 - val_binary_accuracy: 0.7831\n",
      "Epoch 6/1000\n",
      "2799/2799 [==============================] - 31s 11ms/step - loss: 0.4766 - binary_accuracy: 0.7824 - val_loss: 0.4747 - val_binary_accuracy: 0.7811\n",
      "Epoch 7/1000\n",
      "2799/2799 [==============================] - 28s 10ms/step - loss: 0.4741 - binary_accuracy: 0.7829 - val_loss: 0.4714 - val_binary_accuracy: 0.7857\n",
      "Epoch 8/1000\n",
      "2799/2799 [==============================] - 28s 10ms/step - loss: 0.4723 - binary_accuracy: 0.7836 - val_loss: 0.4815 - val_binary_accuracy: 0.7715\n",
      "Epoch 9/1000\n",
      "2799/2799 [==============================] - 28s 10ms/step - loss: 0.4703 - binary_accuracy: 0.7847 - val_loss: 0.4731 - val_binary_accuracy: 0.7820\n",
      "Epoch 10/1000\n",
      "2799/2799 [==============================] - 28s 10ms/step - loss: 0.4703 - binary_accuracy: 0.7853 - val_loss: 0.4692 - val_binary_accuracy: 0.7823\n",
      "Epoch 11/1000\n",
      "2799/2799 [==============================] - 28s 10ms/step - loss: 0.4691 - binary_accuracy: 0.7855 - val_loss: 0.4697 - val_binary_accuracy: 0.7826\n",
      "Epoch 12/1000\n",
      "2799/2799 [==============================] - 28s 10ms/step - loss: 0.4687 - binary_accuracy: 0.7865 - val_loss: 0.4664 - val_binary_accuracy: 0.7874\n",
      "Epoch 13/1000\n",
      "2799/2799 [==============================] - 28s 10ms/step - loss: 0.4688 - binary_accuracy: 0.7857 - val_loss: 0.4682 - val_binary_accuracy: 0.7837\n",
      "Epoch 14/1000\n",
      "2799/2799 [==============================] - 28s 10ms/step - loss: 0.4672 - binary_accuracy: 0.7878 - val_loss: 0.4679 - val_binary_accuracy: 0.7868\n",
      "Epoch 15/1000\n",
      "2799/2799 [==============================] - 28s 10ms/step - loss: 0.4677 - binary_accuracy: 0.7862 - val_loss: 0.4662 - val_binary_accuracy: 0.7857\n",
      "Epoch 16/1000\n",
      "2799/2799 [==============================] - 28s 10ms/step - loss: 0.4677 - binary_accuracy: 0.7859 - val_loss: 0.4692 - val_binary_accuracy: 0.7837\n",
      "Epoch 17/1000\n",
      "2799/2799 [==============================] - 28s 10ms/step - loss: 0.4667 - binary_accuracy: 0.7868 - val_loss: 0.4658 - val_binary_accuracy: 0.7878\n",
      "Epoch 18/1000\n",
      "2799/2799 [==============================] - 28s 10ms/step - loss: 0.4664 - binary_accuracy: 0.7874 - val_loss: 0.4662 - val_binary_accuracy: 0.7861\n",
      "Epoch 19/1000\n",
      "2799/2799 [==============================] - 28s 10ms/step - loss: 0.4648 - binary_accuracy: 0.7874 - val_loss: 0.4656 - val_binary_accuracy: 0.7865\n",
      "Epoch 20/1000\n",
      "2799/2799 [==============================] - 33s 12ms/step - loss: 0.4648 - binary_accuracy: 0.7864 - val_loss: 0.4669 - val_binary_accuracy: 0.7850\n",
      "Epoch 21/1000\n",
      "2799/2799 [==============================] - 32s 11ms/step - loss: 0.4657 - binary_accuracy: 0.7874 - val_loss: 0.4699 - val_binary_accuracy: 0.7831\n",
      "Epoch 22/1000\n",
      "2799/2799 [==============================] - 32s 11ms/step - loss: 0.4650 - binary_accuracy: 0.7886 - val_loss: 0.4643 - val_binary_accuracy: 0.7864\n",
      "Epoch 23/1000\n",
      "2799/2799 [==============================] - 31s 11ms/step - loss: 0.4645 - binary_accuracy: 0.7880 - val_loss: 0.4680 - val_binary_accuracy: 0.7845\n",
      "Epoch 24/1000\n",
      "2799/2799 [==============================] - 30s 11ms/step - loss: 0.4650 - binary_accuracy: 0.7888 - val_loss: 0.4694 - val_binary_accuracy: 0.7850\n",
      "Epoch 25/1000\n",
      "2799/2799 [==============================] - 30s 11ms/step - loss: 0.4647 - binary_accuracy: 0.7889 - val_loss: 0.4667 - val_binary_accuracy: 0.7846\n",
      "Epoch 26/1000\n",
      "2799/2799 [==============================] - 30s 11ms/step - loss: 0.4646 - binary_accuracy: 0.7898 - val_loss: 0.4659 - val_binary_accuracy: 0.7865\n",
      "Epoch 27/1000\n",
      "2799/2799 [==============================] - 31s 11ms/step - loss: 0.4645 - binary_accuracy: 0.7905 - val_loss: 0.4679 - val_binary_accuracy: 0.7838\n"
     ]
    }
   ],
   "source": [
    "# Normalization layer\n",
    "normalization_layer = tf.keras.layers.Normalization()\n",
    "normalization_layer.adapt(train_values)\n",
    "# Create a simple NN\n",
    "model_layers = [\n",
    "    normalization_layer,\n",
    "    tf.keras.layers.Dense(60, activation='relu'),\n",
    "    tf.keras.layers.Dense(60, activation='relu'),\n",
    "    tf.keras.layers.Dense(1, activation='sigmoid'),\n",
    "]\n",
    "# Create a simple NN\n",
    "model = tf.keras.models.Sequential(model_layers)\n",
    "# Compile model\n",
    "model.compile(optimizer=adam_optimizer, loss=loss_fn, weighted_metrics=['binary_accuracy'])\n",
    "# Train model\n",
    "history = model.fit(train_data, validation_data=val_data, callbacks=[early_stopping], epochs=1000)"
   ]
  },
  {
   "cell_type": "code",
   "execution_count": 64,
   "id": "pOnxDoVXQTT4",
   "metadata": {
    "colab": {
     "base_uri": "https://localhost:8080/",
     "height": 542
    },
    "id": "pOnxDoVXQTT4",
    "outputId": "12eba90b-923e-4328-e304-00253e772ae1"
   },
   "outputs": [
    {
     "data": {
      "image/png": "[encoded data removed]",
      "text/plain": [
       "<Figure size 700x600 with 1 Axes>"
      ]
     },
     "metadata": {},
     "output_type": "display_data"
    }
   ],
   "source": [
    "# Plot the training history\n",
    "fig, ax = plt.subplots(figsize=(7, 6))\n",
    "ax.plot(history.history['loss'], label='training')\n",
    "ax.plot(history.history['val_loss'], label='val')\n",
    "ax.set_xlabel('epoch')\n",
    "ax.set_ylabel('loss')\n",
    "ax.legend()\n",
    "_ = plt.show()"
   ]
  },
  {
   "cell_type": "code",
   "execution_count": 65,
   "id": "7ap3ul7SQTzJ",
   "metadata": {
    "colab": {
     "base_uri": "https://localhost:8080/",
     "height": 556
    },
    "id": "7ap3ul7SQTzJ",
    "outputId": "fc47ce20-fe1f-4a32-80aa-1e525ce686a7"
   },
   "outputs": [
    {
     "name": "stdout",
     "output_type": "stream",
     "text": [
      "11193/11193 [==============================] - 23s 2ms/step\n",
      "5597/5597 [==============================] - 12s 2ms/step\n"
     ]
    },
    {
     "data": {
      "image/png": "[encoded data removed]",
      "text/plain": [
       "<Figure size 700x600 with 1 Axes>"
      ]
     },
     "metadata": {},
     "output_type": "display_data"
    }
   ],
   "source": [
    "# Apply the model for training and validation values\n",
    "train_prediction = model.predict(train_values)\n",
    "val_prediction = model.predict(val_values)\n",
    "# Plot the model output\n",
    "common.plot_dnn_output(train_prediction, train_classification, val_prediction, val_classification)\n",
    "_ = plt.show()"
   ]
  },
  {
   "cell_type": "code",
   "execution_count": 68,
   "id": "mPQ9yQ7TSMnh",
   "metadata": {
    "colab": {
     "base_uri": "https://localhost:8080/",
     "height": 777
    },
    "id": "mPQ9yQ7TSMnh",
    "outputId": "c9611a6b-ccea-4a06-b32f-540d34a170e8"
   },
   "outputs": [
    {
     "name": "stdout",
     "output_type": "stream",
     "text": [
      "Apply Model for ggH125_ZZ4lep\n",
      "5046/5046 [==============================] - 10s 2ms/step\n",
      "Apply Model for llll\n",
      "16374/16374 [==============================] - 34s 2ms/step\n",
      "Apply Model for Zee\n",
      "8/8 [==============================] - 0s 3ms/step\n",
      "Apply Model for Zmumu\n",
      "9/9 [==============================] - 0s 3ms/step\n"
     ]
    },
    {
     "data": {
      "image/png": "[encoded data removed]",
      "text/plain": [
       "<Figure size 700x700 with 1 Axes>"
      ]
     },
     "metadata": {},
     "output_type": "display_data"
    }
   ],
   "source": [
    "# Apply the model\n",
    "data_frames_apply_dnn = common.apply_dnn_model(model, data_frames, training_variables, sample_subset_signal + sample_subset_background)\n",
    "model_prediction = {'variable': 'model_prediction',\n",
    "                    'binning': np.linspace(0, 1, 50),\n",
    "                    'xlabel': 'prediction'}\n",
    "common.plot_hist(model_prediction, data_frames_apply_dnn, show_data=False)"
   ]
  },
  {
   "cell_type": "markdown",
   "id": "eefa7d17",
   "metadata": {
    "id": "nSH3fPCBSM6j"
   },
   "source": [
    "<font color='blue'>\n",
    "Task:\n",
    "\n",
    "Compare this classification plot with the one resulting from a training without event weights.\n",
    "</font><br>\n",
    "\n",
    "<font color='green'>\n",
    "Answer:\n",
    "\n",
    "The overall classification looks quite similar but the classification of Z events has improved.\n",
    "</font>"
   ]
  },
  {
   "cell_type": "markdown",
   "id": "DnaOe4OGlaL9",
   "metadata": {
    "id": "DnaOe4OGlaL9"
   },
   "source": [
    "## Cross-Validation"
   ]
  },
  {
   "cell_type": "markdown",
   "id": "f7aa7519",
   "metadata": {},
   "source": [
    "If you have a look on the training history you see fluctuations in the validation loss. Furthermore, the validation data set also has a limited size, making it potentially not completely representative for validation.\n",
    "\n",
    "So how should one evaluate the performance of a model and compare two models?\n",
    "\n",
    "A commonly used method to evaluate the model performance is k-fold.\n",
    "The tarining data is split several times with non-overlapping validation sets. On each split a model is trained and validated on the corresponding validation data. This results into several independently trained models with same size and setup validated on different data sets. Thus, one is able to calculate the mean performance of the resulting models.\n",
    "\n",
    "![kFold.png](figures/kFold.png)"
   ]
  },
  {
   "cell_type": "code",
   "execution_count": 29,
   "id": "p2YYk5F9SNJl",
   "metadata": {
    "id": "p2YYk5F9SNJl"
   },
   "outputs": [],
   "source": [
    "# import the kFold module\n",
    "from sklearn.model_selection import KFold"
   ]
  },
  {
   "cell_type": "markdown",
   "id": "c21e88f9",
   "metadata": {},
   "source": [
    "Use kFold to split the data 3 times in 2/3 training and 1/3 validation data each randomly shuffled."
   ]
  },
  {
   "cell_type": "code",
   "execution_count": 79,
   "id": "dI3Zp2xXSPri",
   "metadata": {
    "id": "dI3Zp2xXSPri"
   },
   "outputs": [],
   "source": [
    "# Define the K-fold Cross Validator\n",
    "kfold = KFold(n_splits=3, shuffle=True, random_state=random_state)"
   ]
  },
  {
   "cell_type": "markdown",
   "id": "5966102c",
   "metadata": {},
   "source": [
    "Now use kFold to train several models in a for loop. In each loop you have to create a new model and its setup.\n",
    "\n",
    "<font color='blue'>\n",
    "Task:\n",
    "\n",
    "Fill the missing parts in the for loop:\n",
    "- Reweight the weights\n",
    "- Convert the values and classification into tensorflow data sets\n",
    "- Create a model with normalization layer and 2 hidden layers with 60 nodes each\n",
    "- Compile the model\n",
    "- Train the model with early stopping\n",
    "- Evaluate the model on the training and evaluation data\n",
    "</font><br>"
   ]
  },
  {
   "cell_type": "code",
   "execution_count": 80,
   "id": "--Jm5SPaSQFm",
   "metadata": {
    "colab": {
     "base_uri": "https://localhost:8080/"
    },
    "id": "--Jm5SPaSQFm",
    "outputId": "73cef139-4304-4936-ff12-025a66482277"
   },
   "outputs": [
    {
     "name": "stdout",
     "output_type": "stream",
     "text": [
      "Use fold 1\n",
      "Epoch 1/1000\n",
      "1027/2888 [=========>....................] - ETA: 16s - loss: 0.6020 - binary_accuracy: 0.6947"
     ]
    },
    {
     "ename": "KeyboardInterrupt",
     "evalue": "",
     "output_type": "error",
     "traceback": [
      "\u001b[0;31m---------------------------------------------------------------------------\u001b[0m",
      "\u001b[0;31mKeyboardInterrupt\u001b[0m                         Traceback (most recent call last)",
      "Cell \u001b[0;32mIn[80], line 48\u001b[0m\n\u001b[1;32m     45\u001b[0m model\u001b[38;5;241m.\u001b[39mcompile(optimizer\u001b[38;5;241m=\u001b[39madam_optimizer, loss\u001b[38;5;241m=\u001b[39mloss_fn, weighted_metrics\u001b[38;5;241m=\u001b[39m[\u001b[38;5;124m'\u001b[39m\u001b[38;5;124mbinary_accuracy\u001b[39m\u001b[38;5;124m'\u001b[39m])\n\u001b[1;32m     47\u001b[0m \u001b[38;5;66;03m# Train model\u001b[39;00m\n\u001b[0;32m---> 48\u001b[0m history \u001b[38;5;241m=\u001b[39m \u001b[43mmodel\u001b[49m\u001b[38;5;241;43m.\u001b[39;49m\u001b[43mfit\u001b[49m\u001b[43m(\u001b[49m\u001b[43mtrain_data\u001b[49m\u001b[43m,\u001b[49m\u001b[43m \u001b[49m\u001b[43mvalidation_data\u001b[49m\u001b[38;5;241;43m=\u001b[39;49m\u001b[43mval_data\u001b[49m\u001b[43m,\u001b[49m\u001b[43m \u001b[49m\u001b[43mcallbacks\u001b[49m\u001b[38;5;241;43m=\u001b[39;49m\u001b[43m[\u001b[49m\u001b[43mearly_stopping\u001b[49m\u001b[43m]\u001b[49m\u001b[43m,\u001b[49m\u001b[43m \u001b[49m\u001b[43mepochs\u001b[49m\u001b[38;5;241;43m=\u001b[39;49m\u001b[38;5;241;43m1000\u001b[39;49m\u001b[43m)\u001b[49m\n\u001b[1;32m     50\u001b[0m \u001b[38;5;66;03m# Append to list\u001b[39;00m\n\u001b[1;32m     51\u001b[0m kfold_history\u001b[38;5;241m.\u001b[39mappend(history)\n",
      "File \u001b[0;32m~/miniforge3/lib/python3.10/site-packages/keras/utils/traceback_utils.py:65\u001b[0m, in \u001b[0;36mfilter_traceback.<locals>.error_handler\u001b[0;34m(*args, **kwargs)\u001b[0m\n\u001b[1;32m     63\u001b[0m filtered_tb \u001b[38;5;241m=\u001b[39m \u001b[38;5;28;01mNone\u001b[39;00m\n\u001b[1;32m     64\u001b[0m \u001b[38;5;28;01mtry\u001b[39;00m:\n\u001b[0;32m---> 65\u001b[0m     \u001b[38;5;28;01mreturn\u001b[39;00m \u001b[43mfn\u001b[49m\u001b[43m(\u001b[49m\u001b[38;5;241;43m*\u001b[39;49m\u001b[43margs\u001b[49m\u001b[43m,\u001b[49m\u001b[43m \u001b[49m\u001b[38;5;241;43m*\u001b[39;49m\u001b[38;5;241;43m*\u001b[39;49m\u001b[43mkwargs\u001b[49m\u001b[43m)\u001b[49m\n\u001b[1;32m     66\u001b[0m \u001b[38;5;28;01mexcept\u001b[39;00m \u001b[38;5;167;01mException\u001b[39;00m \u001b[38;5;28;01mas\u001b[39;00m e:\n\u001b[1;32m     67\u001b[0m     filtered_tb \u001b[38;5;241m=\u001b[39m _process_traceback_frames(e\u001b[38;5;241m.\u001b[39m__traceback__)\n",
      "File \u001b[0;32m~/miniforge3/lib/python3.10/site-packages/keras/engine/training.py:1685\u001b[0m, in \u001b[0;36mModel.fit\u001b[0;34m(self, x, y, batch_size, epochs, verbose, callbacks, validation_split, validation_data, shuffle, class_weight, sample_weight, initial_epoch, steps_per_epoch, validation_steps, validation_batch_size, validation_freq, max_queue_size, workers, use_multiprocessing)\u001b[0m\n\u001b[1;32m   1677\u001b[0m \u001b[38;5;28;01mwith\u001b[39;00m tf\u001b[38;5;241m.\u001b[39mprofiler\u001b[38;5;241m.\u001b[39mexperimental\u001b[38;5;241m.\u001b[39mTrace(\n\u001b[1;32m   1678\u001b[0m     \u001b[38;5;124m\"\u001b[39m\u001b[38;5;124mtrain\u001b[39m\u001b[38;5;124m\"\u001b[39m,\n\u001b[1;32m   1679\u001b[0m     epoch_num\u001b[38;5;241m=\u001b[39mepoch,\n\u001b[0;32m   (...)\u001b[0m\n\u001b[1;32m   1682\u001b[0m     _r\u001b[38;5;241m=\u001b[39m\u001b[38;5;241m1\u001b[39m,\n\u001b[1;32m   1683\u001b[0m ):\n\u001b[1;32m   1684\u001b[0m     callbacks\u001b[38;5;241m.\u001b[39mon_train_batch_begin(step)\n\u001b[0;32m-> 1685\u001b[0m     tmp_logs \u001b[38;5;241m=\u001b[39m \u001b[38;5;28;43mself\u001b[39;49m\u001b[38;5;241;43m.\u001b[39;49m\u001b[43mtrain_function\u001b[49m\u001b[43m(\u001b[49m\u001b[43miterator\u001b[49m\u001b[43m)\u001b[49m\n\u001b[1;32m   1686\u001b[0m     \u001b[38;5;28;01mif\u001b[39;00m data_handler\u001b[38;5;241m.\u001b[39mshould_sync:\n\u001b[1;32m   1687\u001b[0m         context\u001b[38;5;241m.\u001b[39masync_wait()\n",
      "File \u001b[0;32m~/miniforge3/lib/python3.10/site-packages/tensorflow/python/util/traceback_utils.py:150\u001b[0m, in \u001b[0;36mfilter_traceback.<locals>.error_handler\u001b[0;34m(*args, **kwargs)\u001b[0m\n\u001b[1;32m    148\u001b[0m filtered_tb \u001b[38;5;241m=\u001b[39m \u001b[38;5;28;01mNone\u001b[39;00m\n\u001b[1;32m    149\u001b[0m \u001b[38;5;28;01mtry\u001b[39;00m:\n\u001b[0;32m--> 150\u001b[0m   \u001b[38;5;28;01mreturn\u001b[39;00m \u001b[43mfn\u001b[49m\u001b[43m(\u001b[49m\u001b[38;5;241;43m*\u001b[39;49m\u001b[43margs\u001b[49m\u001b[43m,\u001b[49m\u001b[43m \u001b[49m\u001b[38;5;241;43m*\u001b[39;49m\u001b[38;5;241;43m*\u001b[39;49m\u001b[43mkwargs\u001b[49m\u001b[43m)\u001b[49m\n\u001b[1;32m    151\u001b[0m \u001b[38;5;28;01mexcept\u001b[39;00m \u001b[38;5;167;01mException\u001b[39;00m \u001b[38;5;28;01mas\u001b[39;00m e:\n\u001b[1;32m    152\u001b[0m   filtered_tb \u001b[38;5;241m=\u001b[39m _process_traceback_frames(e\u001b[38;5;241m.\u001b[39m__traceback__)\n",
      "File \u001b[0;32m~/miniforge3/lib/python3.10/site-packages/tensorflow/python/eager/polymorphic_function/polymorphic_function.py:894\u001b[0m, in \u001b[0;36mFunction.__call__\u001b[0;34m(self, *args, **kwds)\u001b[0m\n\u001b[1;32m    891\u001b[0m compiler \u001b[38;5;241m=\u001b[39m \u001b[38;5;124m\"\u001b[39m\u001b[38;5;124mxla\u001b[39m\u001b[38;5;124m\"\u001b[39m \u001b[38;5;28;01mif\u001b[39;00m \u001b[38;5;28mself\u001b[39m\u001b[38;5;241m.\u001b[39m_jit_compile \u001b[38;5;28;01melse\u001b[39;00m \u001b[38;5;124m\"\u001b[39m\u001b[38;5;124mnonXla\u001b[39m\u001b[38;5;124m\"\u001b[39m\n\u001b[1;32m    893\u001b[0m \u001b[38;5;28;01mwith\u001b[39;00m OptionalXlaContext(\u001b[38;5;28mself\u001b[39m\u001b[38;5;241m.\u001b[39m_jit_compile):\n\u001b[0;32m--> 894\u001b[0m   result \u001b[38;5;241m=\u001b[39m \u001b[38;5;28;43mself\u001b[39;49m\u001b[38;5;241;43m.\u001b[39;49m\u001b[43m_call\u001b[49m\u001b[43m(\u001b[49m\u001b[38;5;241;43m*\u001b[39;49m\u001b[43margs\u001b[49m\u001b[43m,\u001b[49m\u001b[43m \u001b[49m\u001b[38;5;241;43m*\u001b[39;49m\u001b[38;5;241;43m*\u001b[39;49m\u001b[43mkwds\u001b[49m\u001b[43m)\u001b[49m\n\u001b[1;32m    896\u001b[0m new_tracing_count \u001b[38;5;241m=\u001b[39m \u001b[38;5;28mself\u001b[39m\u001b[38;5;241m.\u001b[39mexperimental_get_tracing_count()\n\u001b[1;32m    897\u001b[0m without_tracing \u001b[38;5;241m=\u001b[39m (tracing_count \u001b[38;5;241m==\u001b[39m new_tracing_count)\n",
      "File \u001b[0;32m~/miniforge3/lib/python3.10/site-packages/tensorflow/python/eager/polymorphic_function/polymorphic_function.py:926\u001b[0m, in \u001b[0;36mFunction._call\u001b[0;34m(self, *args, **kwds)\u001b[0m\n\u001b[1;32m    923\u001b[0m   \u001b[38;5;28mself\u001b[39m\u001b[38;5;241m.\u001b[39m_lock\u001b[38;5;241m.\u001b[39mrelease()\n\u001b[1;32m    924\u001b[0m   \u001b[38;5;66;03m# In this case we have created variables on the first call, so we run the\u001b[39;00m\n\u001b[1;32m    925\u001b[0m   \u001b[38;5;66;03m# defunned version which is guaranteed to never create variables.\u001b[39;00m\n\u001b[0;32m--> 926\u001b[0m   \u001b[38;5;28;01mreturn\u001b[39;00m \u001b[38;5;28;43mself\u001b[39;49m\u001b[38;5;241;43m.\u001b[39;49m\u001b[43m_no_variable_creation_fn\u001b[49m\u001b[43m(\u001b[49m\u001b[38;5;241;43m*\u001b[39;49m\u001b[43margs\u001b[49m\u001b[43m,\u001b[49m\u001b[43m \u001b[49m\u001b[38;5;241;43m*\u001b[39;49m\u001b[38;5;241;43m*\u001b[39;49m\u001b[43mkwds\u001b[49m\u001b[43m)\u001b[49m  \u001b[38;5;66;03m# pylint: disable=not-callable\u001b[39;00m\n\u001b[1;32m    927\u001b[0m \u001b[38;5;28;01melif\u001b[39;00m \u001b[38;5;28mself\u001b[39m\u001b[38;5;241m.\u001b[39m_variable_creation_fn \u001b[38;5;129;01mis\u001b[39;00m \u001b[38;5;129;01mnot\u001b[39;00m \u001b[38;5;28;01mNone\u001b[39;00m:\n\u001b[1;32m    928\u001b[0m   \u001b[38;5;66;03m# Release the lock early so that multiple threads can perform the call\u001b[39;00m\n\u001b[1;32m    929\u001b[0m   \u001b[38;5;66;03m# in parallel.\u001b[39;00m\n\u001b[1;32m    930\u001b[0m   \u001b[38;5;28mself\u001b[39m\u001b[38;5;241m.\u001b[39m_lock\u001b[38;5;241m.\u001b[39mrelease()\n",
      "File \u001b[0;32m~/miniforge3/lib/python3.10/site-packages/tensorflow/python/eager/polymorphic_function/tracing_compiler.py:143\u001b[0m, in \u001b[0;36mTracingCompiler.__call__\u001b[0;34m(self, *args, **kwargs)\u001b[0m\n\u001b[1;32m    140\u001b[0m \u001b[38;5;28;01mwith\u001b[39;00m \u001b[38;5;28mself\u001b[39m\u001b[38;5;241m.\u001b[39m_lock:\n\u001b[1;32m    141\u001b[0m   (concrete_function,\n\u001b[1;32m    142\u001b[0m    filtered_flat_args) \u001b[38;5;241m=\u001b[39m \u001b[38;5;28mself\u001b[39m\u001b[38;5;241m.\u001b[39m_maybe_define_function(args, kwargs)\n\u001b[0;32m--> 143\u001b[0m \u001b[38;5;28;01mreturn\u001b[39;00m \u001b[43mconcrete_function\u001b[49m\u001b[38;5;241;43m.\u001b[39;49m\u001b[43m_call_flat\u001b[49m\u001b[43m(\u001b[49m\n\u001b[1;32m    144\u001b[0m \u001b[43m    \u001b[49m\u001b[43mfiltered_flat_args\u001b[49m\u001b[43m,\u001b[49m\u001b[43m \u001b[49m\u001b[43mcaptured_inputs\u001b[49m\u001b[38;5;241;43m=\u001b[39;49m\u001b[43mconcrete_function\u001b[49m\u001b[38;5;241;43m.\u001b[39;49m\u001b[43mcaptured_inputs\u001b[49m\u001b[43m)\u001b[49m\n",
      "File \u001b[0;32m~/miniforge3/lib/python3.10/site-packages/tensorflow/python/eager/polymorphic_function/monomorphic_function.py:1757\u001b[0m, in \u001b[0;36mConcreteFunction._call_flat\u001b[0;34m(self, args, captured_inputs, cancellation_manager)\u001b[0m\n\u001b[1;32m   1753\u001b[0m possible_gradient_type \u001b[38;5;241m=\u001b[39m gradients_util\u001b[38;5;241m.\u001b[39mPossibleTapeGradientTypes(args)\n\u001b[1;32m   1754\u001b[0m \u001b[38;5;28;01mif\u001b[39;00m (possible_gradient_type \u001b[38;5;241m==\u001b[39m gradients_util\u001b[38;5;241m.\u001b[39mPOSSIBLE_GRADIENT_TYPES_NONE\n\u001b[1;32m   1755\u001b[0m     \u001b[38;5;129;01mand\u001b[39;00m executing_eagerly):\n\u001b[1;32m   1756\u001b[0m   \u001b[38;5;66;03m# No tape is watching; skip to running the function.\u001b[39;00m\n\u001b[0;32m-> 1757\u001b[0m   \u001b[38;5;28;01mreturn\u001b[39;00m \u001b[38;5;28mself\u001b[39m\u001b[38;5;241m.\u001b[39m_build_call_outputs(\u001b[38;5;28;43mself\u001b[39;49m\u001b[38;5;241;43m.\u001b[39;49m\u001b[43m_inference_function\u001b[49m\u001b[38;5;241;43m.\u001b[39;49m\u001b[43mcall\u001b[49m\u001b[43m(\u001b[49m\n\u001b[1;32m   1758\u001b[0m \u001b[43m      \u001b[49m\u001b[43mctx\u001b[49m\u001b[43m,\u001b[49m\u001b[43m \u001b[49m\u001b[43margs\u001b[49m\u001b[43m,\u001b[49m\u001b[43m \u001b[49m\u001b[43mcancellation_manager\u001b[49m\u001b[38;5;241;43m=\u001b[39;49m\u001b[43mcancellation_manager\u001b[49m\u001b[43m)\u001b[49m)\n\u001b[1;32m   1759\u001b[0m forward_backward \u001b[38;5;241m=\u001b[39m \u001b[38;5;28mself\u001b[39m\u001b[38;5;241m.\u001b[39m_select_forward_and_backward_functions(\n\u001b[1;32m   1760\u001b[0m     args,\n\u001b[1;32m   1761\u001b[0m     possible_gradient_type,\n\u001b[1;32m   1762\u001b[0m     executing_eagerly)\n\u001b[1;32m   1763\u001b[0m forward_function, args_with_tangents \u001b[38;5;241m=\u001b[39m forward_backward\u001b[38;5;241m.\u001b[39mforward()\n",
      "File \u001b[0;32m~/miniforge3/lib/python3.10/site-packages/tensorflow/python/eager/polymorphic_function/monomorphic_function.py:381\u001b[0m, in \u001b[0;36m_EagerDefinedFunction.call\u001b[0;34m(self, ctx, args, cancellation_manager)\u001b[0m\n\u001b[1;32m    379\u001b[0m \u001b[38;5;28;01mwith\u001b[39;00m _InterpolateFunctionError(\u001b[38;5;28mself\u001b[39m):\n\u001b[1;32m    380\u001b[0m   \u001b[38;5;28;01mif\u001b[39;00m cancellation_manager \u001b[38;5;129;01mis\u001b[39;00m \u001b[38;5;28;01mNone\u001b[39;00m:\n\u001b[0;32m--> 381\u001b[0m     outputs \u001b[38;5;241m=\u001b[39m \u001b[43mexecute\u001b[49m\u001b[38;5;241;43m.\u001b[39;49m\u001b[43mexecute\u001b[49m\u001b[43m(\u001b[49m\n\u001b[1;32m    382\u001b[0m \u001b[43m        \u001b[49m\u001b[38;5;28;43mstr\u001b[39;49m\u001b[43m(\u001b[49m\u001b[38;5;28;43mself\u001b[39;49m\u001b[38;5;241;43m.\u001b[39;49m\u001b[43msignature\u001b[49m\u001b[38;5;241;43m.\u001b[39;49m\u001b[43mname\u001b[49m\u001b[43m)\u001b[49m\u001b[43m,\u001b[49m\n\u001b[1;32m    383\u001b[0m \u001b[43m        \u001b[49m\u001b[43mnum_outputs\u001b[49m\u001b[38;5;241;43m=\u001b[39;49m\u001b[38;5;28;43mself\u001b[39;49m\u001b[38;5;241;43m.\u001b[39;49m\u001b[43m_num_outputs\u001b[49m\u001b[43m,\u001b[49m\n\u001b[1;32m    384\u001b[0m \u001b[43m        \u001b[49m\u001b[43minputs\u001b[49m\u001b[38;5;241;43m=\u001b[39;49m\u001b[43margs\u001b[49m\u001b[43m,\u001b[49m\n\u001b[1;32m    385\u001b[0m \u001b[43m        \u001b[49m\u001b[43mattrs\u001b[49m\u001b[38;5;241;43m=\u001b[39;49m\u001b[43mattrs\u001b[49m\u001b[43m,\u001b[49m\n\u001b[1;32m    386\u001b[0m \u001b[43m        \u001b[49m\u001b[43mctx\u001b[49m\u001b[38;5;241;43m=\u001b[39;49m\u001b[43mctx\u001b[49m\u001b[43m)\u001b[49m\n\u001b[1;32m    387\u001b[0m   \u001b[38;5;28;01melse\u001b[39;00m:\n\u001b[1;32m    388\u001b[0m     outputs \u001b[38;5;241m=\u001b[39m execute\u001b[38;5;241m.\u001b[39mexecute_with_cancellation(\n\u001b[1;32m    389\u001b[0m         \u001b[38;5;28mstr\u001b[39m(\u001b[38;5;28mself\u001b[39m\u001b[38;5;241m.\u001b[39msignature\u001b[38;5;241m.\u001b[39mname),\n\u001b[1;32m    390\u001b[0m         num_outputs\u001b[38;5;241m=\u001b[39m\u001b[38;5;28mself\u001b[39m\u001b[38;5;241m.\u001b[39m_num_outputs,\n\u001b[0;32m   (...)\u001b[0m\n\u001b[1;32m    393\u001b[0m         ctx\u001b[38;5;241m=\u001b[39mctx,\n\u001b[1;32m    394\u001b[0m         cancellation_manager\u001b[38;5;241m=\u001b[39mcancellation_manager)\n",
      "File \u001b[0;32m~/miniforge3/lib/python3.10/site-packages/tensorflow/python/eager/execute.py:52\u001b[0m, in \u001b[0;36mquick_execute\u001b[0;34m(op_name, num_outputs, inputs, attrs, ctx, name)\u001b[0m\n\u001b[1;32m     50\u001b[0m \u001b[38;5;28;01mtry\u001b[39;00m:\n\u001b[1;32m     51\u001b[0m   ctx\u001b[38;5;241m.\u001b[39mensure_initialized()\n\u001b[0;32m---> 52\u001b[0m   tensors \u001b[38;5;241m=\u001b[39m \u001b[43mpywrap_tfe\u001b[49m\u001b[38;5;241;43m.\u001b[39;49m\u001b[43mTFE_Py_Execute\u001b[49m\u001b[43m(\u001b[49m\u001b[43mctx\u001b[49m\u001b[38;5;241;43m.\u001b[39;49m\u001b[43m_handle\u001b[49m\u001b[43m,\u001b[49m\u001b[43m \u001b[49m\u001b[43mdevice_name\u001b[49m\u001b[43m,\u001b[49m\u001b[43m \u001b[49m\u001b[43mop_name\u001b[49m\u001b[43m,\u001b[49m\n\u001b[1;32m     53\u001b[0m \u001b[43m                                      \u001b[49m\u001b[43minputs\u001b[49m\u001b[43m,\u001b[49m\u001b[43m \u001b[49m\u001b[43mattrs\u001b[49m\u001b[43m,\u001b[49m\u001b[43m \u001b[49m\u001b[43mnum_outputs\u001b[49m\u001b[43m)\u001b[49m\n\u001b[1;32m     54\u001b[0m \u001b[38;5;28;01mexcept\u001b[39;00m core\u001b[38;5;241m.\u001b[39m_NotOkStatusException \u001b[38;5;28;01mas\u001b[39;00m e:\n\u001b[1;32m     55\u001b[0m   \u001b[38;5;28;01mif\u001b[39;00m name \u001b[38;5;129;01mis\u001b[39;00m \u001b[38;5;129;01mnot\u001b[39;00m \u001b[38;5;28;01mNone\u001b[39;00m:\n",
      "\u001b[0;31mKeyboardInterrupt\u001b[0m: "
     ]
    }
   ],
   "source": [
    "# Store the models and their training history\n",
    "kfold_history = []\n",
    "kfold_model = []\n",
    "# Store the evaluation on training and validation data\n",
    "kfold_train_eval_loss = []\n",
    "kfold_train_eval_acc = []\n",
    "kfold_val_eval_loss = []\n",
    "kfold_val_eval_acc = []\n",
    "split_idx = 1\n",
    "for train_indices, val_indices in kfold.split(values):\n",
    "    print(f'Use fold {split_idx}')\n",
    "    split_idx += 1\n",
    "    # Get train and validation data \n",
    "    train_values = values[train_indices]\n",
    "    train_classification = classification[train_indices]\n",
    "    train_weights = weights[train_indices]\n",
    "    val_values = values[val_indices]\n",
    "    val_classification = classification[val_indices]\n",
    "    val_weights = weights[val_indices]\n",
    "    # Get reweighted weights\n",
    "    train_weights_reweighted = reweight_weights(train_weights, train_classification)\n",
    "    val_weights_reweighted = reweight_weights(val_weights, val_classification)\n",
    "    # Get train and validation data \n",
    "    train_data = Dataset.from_tensor_slices((train_values, train_classification, train_weights_reweighted))\n",
    "    train_data = train_data.shuffle(len(train_data), seed=random_state)\n",
    "    train_data = train_data.batch(124)\n",
    "    val_data = Dataset.from_tensor_slices((val_values, val_classification, val_weights_reweighted))\n",
    "    val_data = val_data.shuffle(len(val_data), seed=random_state)\n",
    "    val_data = val_data.batch(124)\n",
    "\n",
    "    # Normalization layer\n",
    "    normalization_layer = tf.keras.layers.Normalization()\n",
    "    normalization_layer.adapt(train_values)\n",
    "    # Create a simple NN\n",
    "    model_layers = [\n",
    "        normalization_layer,\n",
    "        tf.keras.layers.Dense(60, activation='relu'),\n",
    "        tf.keras.layers.Dense(60, activation='relu'),\n",
    "        tf.keras.layers.Dense(1, activation='sigmoid'),\n",
    "    ]\n",
    "\n",
    "    # Create a simple NN\n",
    "    model = tf.keras.models.Sequential(model_layers)\n",
    "    # Compile model\n",
    "    model.compile(optimizer=adam_optimizer, loss=loss_fn, weighted_metrics=['binary_accuracy'])\n",
    "\n",
    "    # Train model\n",
    "    history = model.fit(train_data, validation_data=val_data, callbacks=[early_stopping], epochs=1000)\n",
    "\n",
    "    # Append to list\n",
    "    kfold_history.append(history)\n",
    "    kfold_model.append(model)\n",
    "\n",
    "    # Evaluate model on training and validation data\n",
    "    model_train_evaluation = model.evaluate(train_data)\n",
    "    model_val_evaluation = model.evaluate(val_data)\n",
    "    kfold_train_eval_loss.append(model_train_evaluation[0])\n",
    "    kfold_train_eval_acc.append(model_train_evaluation[1])\n",
    "    kfold_val_eval_loss.append(model_val_evaluation[0])\n",
    "    kfold_val_eval_acc.append(model_val_evaluation[1])"
   ]
  },
  {
   "cell_type": "markdown",
   "id": "c4f53acb",
   "metadata": {},
   "source": [
    "Lets plot the training history of the three models."
   ]
  },
  {
   "cell_type": "code",
   "execution_count": null,
   "id": "L1pKiwRvrcok",
   "metadata": {
    "id": "L1pKiwRvrcok",
    "scrolled": true
   },
   "outputs": [],
   "source": [
    "# Plot the training history\n",
    "fig, ax = plt.subplots(figsize=(7, 6))\n",
    "color_list = ['r', 'g', 'b']\n",
    "for k_fold_idx, (history, color) in enumerate(zip(kfold_history, color_list)):\n",
    "  ax.plot(history.history['loss'], color=color, label=f'{k_fold_idx} training')\n",
    "  ax.plot(history.history['val_loss'], color=color, ls='--', label=f'{k_fold_idx} val')\n",
    "ax.set_xlabel('epoch')\n",
    "ax.set_ylabel('loss')\n",
    "ax.legend()\n",
    "_ = plt.show()"
   ]
  },
  {
   "cell_type": "markdown",
   "id": "52742db7",
   "metadata": {},
   "source": [
    "<font color='blue'>\n",
    "Task:\n",
    "\n",
    "Calculate the mean and std of the validation loss.\n",
    "</font>"
   ]
  },
  {
   "cell_type": "code",
   "execution_count": null,
   "id": "a6154ab6",
   "metadata": {},
   "outputs": [],
   "source": [
    "val_loss_mean = np.mean(kfold_val_eval_loss)\n",
    "val_loss_std = np.std(kfold_val_eval_loss)\n",
    "print(f'The val loss of the model is {round(val_loss_mean, 3)} +- {round(val_loss_std, 3)}')"
   ]
  },
  {
   "cell_type": "markdown",
   "id": "f2181da4",
   "metadata": {},
   "source": [
    "## Save and Load a Model"
   ]
  },
  {
   "cell_type": "markdown",
   "id": "e59fa93c",
   "metadata": {},
   "source": [
    "As you have seen training a model takes some time. So retrain a model each time you need it is definitely not the way to go. Instead one should save the model after the training and load it for application.\n",
    "\n",
    "Saving and loading a model is very straight forward with:<br>\n",
    "Use `model.save('path/to/location', save_format='h5')` to save a model <br>\n",
    "and `model = tf.keras.models.load_model('path/to/location')` to load the model"
   ]
  },
  {
   "cell_type": "markdown",
   "id": "ef6a867e",
   "metadata": {},
   "source": [
    "Lets save the three models of the cross validation"
   ]
  },
  {
   "cell_type": "code",
   "execution_count": null,
   "id": "7daf2e83",
   "metadata": {},
   "outputs": [],
   "source": [
    "# Loop over all models\n",
    "for idx, model in enumerate(kfold_model):\n",
    "    # Save the model\n",
    "    model.save(f'models/test_crossval_model_{idx}')"
   ]
  },
  {
   "cell_type": "markdown",
   "id": "00865fec",
   "metadata": {},
   "source": [
    "Now load one of the models and plot its summary"
   ]
  },
  {
   "cell_type": "code",
   "execution_count": null,
   "id": "92ddf02e",
   "metadata": {},
   "outputs": [],
   "source": [
    "model = tf.keras.models.load_model('models/test_crossval_model_0')\n",
    "\n",
    "model.summary()"
   ]
  },
  {
   "cell_type": "markdown",
   "id": "f0a0137d",
   "metadata": {},
   "source": [
    "## Create Baseline Model"
   ]
  },
  {
   "cell_type": "code",
   "execution_count": 68,
   "id": "642c9f17",
   "metadata": {},
   "outputs": [],
   "source": [
    "# Use all processes\n",
    "sample_list_signal = ['ggH125_ZZ4lep', 'VBFH125_ZZ4lep', 'WH125_ZZ4lep', 'ZH125_ZZ4lep']\n",
    "sample_list_background = ['llll', 'Zee', 'Zmumu', 'ttbar_lep']"
   ]
  },
  {
   "cell_type": "code",
   "execution_count": 69,
   "id": "8cd4d0c0",
   "metadata": {},
   "outputs": [],
   "source": [
    "# The training input variables\n",
    "training_variables = ['lep1_pt', 'lep2_pt', 'lep3_pt', 'lep4_pt']\n",
    "training_variables += ['lep1_e', 'lep2_e', 'lep3_e', 'lep4_e']\n",
    "training_variables += ['lep1_charge', 'lep2_charge', 'lep3_charge', 'lep4_charge']\n",
    "training_variables += ['lep1_pdgId', 'lep2_pdgId', 'lep3_pdgId', 'lep4_pdgId']\n",
    "training_variables += ['lep1_phi', 'lep2_phi', 'lep3_phi', 'lep4_phi']\n",
    "training_variables += ['lep1_eta', 'lep2_eta', 'lep3_eta', 'lep4_eta']\n",
    "#training_variables += ['lep_m_ll_12', 'lep_m_ll_13', 'lep_m_ll_14', 'lep_m_ll_23', 'lep_m_ll_24', 'lep_m_ll_34']"
   ]
  },
  {
   "cell_type": "code",
   "execution_count": 70,
   "id": "b2db1add",
   "metadata": {},
   "outputs": [],
   "source": [
    "values, weights, classification = common.get_dnn_input(data_frames, training_variables, sample_list_signal, sample_list_background, 0.6)"
   ]
  },
  {
   "cell_type": "code",
   "execution_count": 71,
   "id": "1b410f34",
   "metadata": {},
   "outputs": [],
   "source": [
    "# Define the K-fold Cross Validator\n",
    "kfold = KFold(n_splits=3, shuffle=True, random_state=random_state)"
   ]
  },
  {
   "cell_type": "code",
   "execution_count": 72,
   "id": "d2dd5d68",
   "metadata": {},
   "outputs": [
    {
     "name": "stdout",
     "output_type": "stream",
     "text": [
      "Use fold 1\n",
      "Epoch 1/5\n",
      "2888/2888 [==============================] - 34s 11ms/step - loss: 0.5611 - binary_accuracy: 0.7223 - val_loss: 0.5330 - val_binary_accuracy: 0.7519\n",
      "Epoch 2/5\n",
      "2888/2888 [==============================] - 31s 11ms/step - loss: 0.5124 - binary_accuracy: 0.7581 - val_loss: 0.4956 - val_binary_accuracy: 0.7769\n",
      "Epoch 3/5\n",
      "2888/2888 [==============================] - 31s 11ms/step - loss: 0.4775 - binary_accuracy: 0.7782 - val_loss: 0.4656 - val_binary_accuracy: 0.7859\n",
      "Epoch 4/5\n",
      "2888/2888 [==============================] - 32s 11ms/step - loss: 0.4463 - binary_accuracy: 0.7976 - val_loss: 0.4408 - val_binary_accuracy: 0.8037\n",
      "Epoch 5/5\n",
      "2888/2888 [==============================] - 30s 10ms/step - loss: 0.4175 - binary_accuracy: 0.8132 - val_loss: 0.4198 - val_binary_accuracy: 0.8135\n",
      "2888/2888 [==============================] - 17s 6ms/step - loss: 0.4030 - binary_accuracy: 0.8289\n",
      "1444/1444 [==============================] - 8s 6ms/step - loss: 0.4198 - binary_accuracy: 0.8135\n",
      "Use fold 2\n",
      "Epoch 1/5\n",
      "2888/2888 [==============================] - 32s 11ms/step - loss: 0.5758 - binary_accuracy: 0.7097 - val_loss: 0.5573 - val_binary_accuracy: 0.7277\n",
      "Epoch 2/5\n",
      "2888/2888 [==============================] - 31s 11ms/step - loss: 0.5300 - binary_accuracy: 0.7457 - val_loss: 0.5225 - val_binary_accuracy: 0.7422\n",
      "Epoch 3/5\n",
      "2888/2888 [==============================] - 31s 11ms/step - loss: 0.4921 - binary_accuracy: 0.7664 - val_loss: 0.4828 - val_binary_accuracy: 0.7673\n",
      "Epoch 4/5\n",
      "2888/2888 [==============================] - 32s 11ms/step - loss: 0.4516 - binary_accuracy: 0.7852 - val_loss: 0.4479 - val_binary_accuracy: 0.7843\n",
      "Epoch 5/5\n",
      "2888/2888 [==============================] - 31s 11ms/step - loss: 0.4191 - binary_accuracy: 0.8085 - val_loss: 0.4207 - val_binary_accuracy: 0.8022\n",
      "2888/2888 [==============================] - 17s 6ms/step - loss: 0.3991 - binary_accuracy: 0.8231\n",
      "1444/1444 [==============================] - 8s 6ms/step - loss: 0.4207 - binary_accuracy: 0.8022\n",
      "Use fold 3\n",
      "Epoch 1/5\n",
      "2888/2888 [==============================] - 31s 11ms/step - loss: 0.5666 - binary_accuracy: 0.7191 - val_loss: 0.5359 - val_binary_accuracy: 0.7485\n",
      "Epoch 2/5\n",
      "2888/2888 [==============================] - 31s 11ms/step - loss: 0.5172 - binary_accuracy: 0.7583 - val_loss: 0.4981 - val_binary_accuracy: 0.7695\n",
      "Epoch 3/5\n",
      "2888/2888 [==============================] - 31s 11ms/step - loss: 0.4767 - binary_accuracy: 0.7783 - val_loss: 0.4654 - val_binary_accuracy: 0.7847\n",
      "Epoch 4/5\n",
      "2888/2888 [==============================] - 31s 11ms/step - loss: 0.4401 - binary_accuracy: 0.7994 - val_loss: 0.4327 - val_binary_accuracy: 0.8050\n",
      "Epoch 5/5\n",
      "2888/2888 [==============================] - 31s 11ms/step - loss: 0.4104 - binary_accuracy: 0.8175 - val_loss: 0.4105 - val_binary_accuracy: 0.8165\n",
      "2888/2888 [==============================] - 18s 6ms/step - loss: 0.3937 - binary_accuracy: 0.8351\n",
      "1444/1444 [==============================] - 9s 6ms/step - loss: 0.4105 - binary_accuracy: 0.8165\n"
     ]
    }
   ],
   "source": [
    "# Store the models and their training history\n",
    "kfold_history = []\n",
    "kfold_model = []\n",
    "# Store the evaluation on training and validation data\n",
    "kfold_train_eval_loss = []\n",
    "kfold_train_eval_acc = []\n",
    "kfold_val_eval_loss = []\n",
    "kfold_val_eval_acc = []\n",
    "split_idx = 1\n",
    "for train_indices, val_indices in kfold.split(values):\n",
    "    print(f'Use fold {split_idx}')\n",
    "    split_idx += 1\n",
    "    # Get train and validation data \n",
    "    train_values = values[train_indices]\n",
    "    train_classification = classification[train_indices]\n",
    "    train_weights = weights[train_indices]\n",
    "    val_values = values[val_indices]\n",
    "    val_classification = classification[val_indices]\n",
    "    val_weights = weights[val_indices]\n",
    "    # Get reweighted weights\n",
    "    train_weights_reweighted = reweight_weights(train_weights, train_classification)\n",
    "    val_weights_reweighted = reweight_weights(val_weights, val_classification)\n",
    "    # Get train and validation data \n",
    "    train_data = Dataset.from_tensor_slices((train_values, train_classification, train_weights_reweighted))\n",
    "    train_data = train_data.shuffle(len(train_data), seed=random_state)\n",
    "    train_data = train_data.batch(124)\n",
    "    val_data = Dataset.from_tensor_slices((val_values, val_classification, val_weights_reweighted))\n",
    "    val_data = val_data.shuffle(len(val_data), seed=random_state)\n",
    "    val_data = val_data.batch(124)\n",
    "\n",
    "    # Normalization layer\n",
    "    normalization_layer = tf.keras.layers.Normalization()\n",
    "    normalization_layer.adapt(train_values)\n",
    "    # Create a simple NN\n",
    "    model_layers = [\n",
    "        normalization_layer,\n",
    "        tf.keras.layers.Dense(60, activation='relu'),\n",
    "        tf.keras.layers.Dense(60, activation='relu'),\n",
    "        tf.keras.layers.Dense(1, activation='sigmoid'),\n",
    "    ]\n",
    "\n",
    "    # Create a simple NN\n",
    "    model = tf.keras.models.Sequential(model_layers)\n",
    "    # Compile model\n",
    "    model.compile(optimizer=adam_optimizer, loss=loss_fn, weighted_metrics=['binary_accuracy'])\n",
    "\n",
    "    # Train model\n",
    "    history = model.fit(train_data, validation_data=val_data, callbacks=[early_stopping], epochs=1000)\n",
    "\n",
    "    # Append to list\n",
    "    kfold_history.append(history)\n",
    "    kfold_model.append(model)\n",
    "\n",
    "    # Evaluate model on training and validation data\n",
    "    model_train_evaluation = model.evaluate(train_data)\n",
    "    model_val_evaluation = model.evaluate(val_data)\n",
    "    kfold_train_eval_loss.append(model_train_evaluation[0])\n",
    "    kfold_train_eval_acc.append(model_train_evaluation[1])\n",
    "    kfold_val_eval_loss.append(model_val_evaluation[0])\n",
    "    kfold_val_eval_acc.append(model_val_evaluation[1])"
   ]
  },
  {
   "cell_type": "code",
   "execution_count": 74,
   "id": "e1446558",
   "metadata": {},
   "outputs": [
    {
     "name": "stdout",
     "output_type": "stream",
     "text": [
      "INFO:tensorflow:Assets written to: baseline_models/crossval_model_0/assets\n",
      "INFO:tensorflow:Assets written to: baseline_models/crossval_model_1/assets\n",
      "INFO:tensorflow:Assets written to: baseline_models/crossval_model_2/assets\n"
     ]
    }
   ],
   "source": [
    "# Loop over all models\n",
    "for idx, model in enumerate(kfold_model):\n",
    "    # Save the model\n",
    "    model.save(f'baseline_models/crossval_model_{idx}')"
   ]
  },
  {
   "cell_type": "code",
   "execution_count": 62,
   "id": "69c0c7da",
   "metadata": {},
   "outputs": [
    {
     "name": "stdout",
     "output_type": "stream",
     "text": [
      "Train loss\n",
      "[0.2114640474319458, 0.2193506956100464, 0.21764697134494781]\n",
      "0.21615390479564667\n",
      "The train loss of the model is 0.21615 +- 0.00339\n",
      "\n",
      "Val loss\n",
      "[0.25950804352760315, 0.29206204414367676, 0.2819792926311493]\n",
      "0.27784979343414307\n",
      "The val loss of the model is 0.27785 +- 0.01361\n",
      "\n",
      "Train acc\n",
      "[0.9294561147689819, 0.9246068000793457, 0.9267025589942932]\n",
      "0.9269218246142069\n",
      "The train acc of the model is 0.92692 +- 0.00199\n",
      "\n",
      "Val acc\n",
      "[0.903923749923706, 0.8790167570114136, 0.8887717723846436]\n",
      "0.8905707597732544\n",
      "The val acc of the model is 0.89057 +- 0.01025\n",
      "\n"
     ]
    }
   ],
   "source": [
    "print('Train loss')\n",
    "print(kfold_train_eval_loss)\n",
    "print(np.mean(kfold_train_eval_loss))\n",
    "print(f'The train loss of the model is {round(np.mean(kfold_train_eval_loss), 5)} +- {round(np.std(kfold_train_eval_loss), 5)}\\n')\n",
    "print('Val loss')\n",
    "print(kfold_val_eval_loss)\n",
    "print(np.mean(kfold_val_eval_loss))\n",
    "print(f'The val loss of the model is {round(np.mean(kfold_val_eval_loss), 5)} +- {round(np.std(kfold_val_eval_loss), 5)}\\n')\n",
    "print('Train acc')\n",
    "print(kfold_train_eval_acc)\n",
    "print(np.mean(kfold_train_eval_acc))\n",
    "print(f'The train acc of the model is {round(np.mean(kfold_train_eval_acc), 5)} +- {round(np.std(kfold_train_eval_acc), 5)}\\n')\n",
    "print('Val acc')\n",
    "print(kfold_val_eval_acc)\n",
    "print(np.mean(kfold_val_eval_acc))\n",
    "print(f'The val acc of the model is {round(np.mean(kfold_val_eval_acc), 5)} +- {round(np.std(kfold_val_eval_acc), 5)}\\n')"
   ]
  },
  {
   "cell_type": "markdown",
   "id": "eb6adbe5",
   "metadata": {},
   "source": [
    "Train loss: `[0.2114640474319458, 0.2193506956100464, 0.21764697134494781]`<br>\n",
    "Train loss mean: `0.21615390479564667`<br>\n",
    "The train loss of the model is 0.21615 +- 0.00339\n",
    "\n",
    "Val loss: `[0.25950804352760315, 0.29206204414367676, 0.2819792926311493]`<br>\n",
    "Val loss mean: `0.27784979343414307`<br>\n",
    "The val loss of the model is 0.27785 +- 0.01361\n",
    "\n",
    "Train acc: `[0.9294561147689819, 0.9246068000793457, 0.9267025589942932]`<br>\n",
    "Train acc mean: `0.9269218246142069`<br>\n",
    "The train acc of the model is 0.92692 +- 0.00199\n",
    "\n",
    "Val acc: `[0.903923749923706, 0.8790167570114136, 0.8887717723846436]`<br>\n",
    "Val acc mean: `0.8905707597732544`<br>\n",
    "The val acc of the model is 0.89057 +- 0.01025"
   ]
  },
  {
   "cell_type": "code",
   "execution_count": 52,
   "id": "4eb721e2",
   "metadata": {},
   "outputs": [
    {
     "data": {
      "image/png": "[encoded data removed]",
      "text/plain": [
       "<Figure size 700x600 with 1 Axes>"
      ]
     },
     "metadata": {},
     "output_type": "display_data"
    }
   ],
   "source": [
    "# Plot the training history\n",
    "fig, ax = plt.subplots(figsize=(7, 6))\n",
    "color_list = ['r', 'g', 'b']\n",
    "for k_fold_idx, (history, color) in enumerate(zip(kfold_history, color_list)):\n",
    "  ax.plot(history.history['loss'], color=color, label=f'{k_fold_idx} training')\n",
    "  ax.plot(history.history['val_loss'], color=color, ls='--', label=f'{k_fold_idx} val')\n",
    "ax.set_xlabel('epoch')\n",
    "ax.set_ylabel('loss')\n",
    "ax.legend()\n",
    "fig.savefig('baseline_models/training_history.png', dpi=300)\n",
    "_ = plt.show()"
   ]
  },
  {
   "cell_type": "markdown",
   "id": "d7078c45",
   "metadata": {},
   "source": [
    "## Train your own Model"
   ]
  },
  {
   "cell_type": "markdown",
   "id": "4e91580b",
   "metadata": {},
   "source": [
    "Now it is your turn to create your own model to hunt for the Higgs boson. For the beginning, we will have a look on a baseline model. This baseline model does already a good job in the classification and it is up to you to create a better one.\n",
    "\n",
    "<font color='blue'>\n",
    "Task:\n",
    "\n",
    "1. Use reweighted event weights for your training\n",
    "2. Choose a setup for your model\n",
    "3. Train your model with early stopping\n",
    "4. Plot the training history and check your validation loss <br>\n",
    "    If the validation loss is not better than for the baseline model by two standard deviations of the baseline validation loss: go back to step 2.\n",
    "5. Validate your results with cross validation and calculate the mean validation loss and its standard deviation\n",
    "    If the loss is not significantly better than for the baseline model: go back to step 2.\n",
    "</font>"
   ]
  },
  {
   "cell_type": "markdown",
   "id": "3570df42",
   "metadata": {},
   "source": [
    "### Baseline Model"
   ]
  },
  {
   "cell_type": "markdown",
   "id": "861b8b22",
   "metadata": {},
   "source": [
    "Lets load the baseline models. The baseline model was trained with cross validation on 40% of the data for training and 20% of the total data for validation.\n",
    "\n",
    "The val loss of the model is 0.27785 +- 0.01361."
   ]
  },
  {
   "cell_type": "code",
   "execution_count": 76,
   "id": "976fe892",
   "metadata": {
    "scrolled": true
   },
   "outputs": [
    {
     "name": "stdout",
     "output_type": "stream",
     "text": [
      "baseline_models/crossval_model_0\n",
      "baseline_models/crossval_model_1\n",
      "baseline_models/crossval_model_2\n"
     ]
    }
   ],
   "source": [
    "baseline_models = []\n",
    "for idx in range(3):\n",
    "    print(f'baseline_models/crossval_model_{idx}')\n",
    "    model = tf.keras.models.load_model(f'baseline_models/crossval_model_{idx}')\n",
    "    baseline_models.append(model)"
   ]
  },
  {
   "cell_type": "markdown",
   "id": "45c5d0e7",
   "metadata": {},
   "source": [
    "### Training input"
   ]
  },
  {
   "cell_type": "markdown",
   "id": "b0148df0",
   "metadata": {},
   "source": [
    "<font color='blue'>\n",
    "Task:\n",
    "\n",
    "Train your model for all processes on all <u><b>low level</b></u> variables.\n",
    "</font>"
   ]
  },
  {
   "cell_type": "code",
   "execution_count": 85,
   "id": "5d29d0ac",
   "metadata": {},
   "outputs": [],
   "source": [
    "# Use all processes\n",
    "sample_list_signal = ['ggH125_ZZ4lep', 'VBFH125_ZZ4lep', 'WH125_ZZ4lep', 'ZH125_ZZ4lep']\n",
    "sample_list_background = ['llll', 'Zee', 'Zmumu', 'ttbar_lep']"
   ]
  },
  {
   "cell_type": "code",
   "execution_count": 86,
   "id": "20775a0a",
   "metadata": {},
   "outputs": [],
   "source": [
    "# The training input variables\n",
    "training_variables = ['jet_n']\n",
    "training_variables += ['lep1_pt', 'lep2_pt', 'lep3_pt', 'lep4_pt']\n",
    "training_variables += ['lep1_e', 'lep2_e', 'lep3_e', 'lep4_e']\n",
    "training_variables += ['lep1_charge', 'lep2_charge', 'lep3_charge', 'lep4_charge']\n",
    "training_variables += ['lep1_pdgId', 'lep2_pdgId', 'lep3_pdgId', 'lep4_pdgId']\n",
    "training_variables += ['lep1_phi', 'lep2_phi', 'lep3_phi', 'lep4_phi']\n",
    "training_variables += ['lep1_eta', 'lep2_eta', 'lep3_eta', 'lep4_eta']"
   ]
  },
  {
   "cell_type": "markdown",
   "id": "40a28a27",
   "metadata": {},
   "source": [
    "Use again 40% of the data for training and 20% for validation. If you want to improve your training on a later point you can also use 80% for training and 20% for validation."
   ]
  },
  {
   "cell_type": "code",
   "execution_count": 87,
   "id": "d3a87a7e",
   "metadata": {},
   "outputs": [],
   "source": [
    "values, weights, classification = common.get_dnn_input(data_frames, training_variables, sample_list_signal, sample_list_background, 0.6)"
   ]
  },
  {
   "cell_type": "markdown",
   "id": "b1cdb3b5",
   "metadata": {},
   "source": [
    "If you want you can play around with the batch size"
   ]
  },
  {
   "cell_type": "code",
   "execution_count": 89,
   "id": "afe9f16c",
   "metadata": {},
   "outputs": [],
   "source": [
    "# Get reweighted weights\n",
    "train_weights_reweighted = reweight_weights(train_weights, train_classification)\n",
    "val_weights_reweighted = reweight_weights(val_weights, val_classification)\n",
    "\n",
    "# Convert the data to tensorflow datasets\n",
    "train_data = Dataset.from_tensor_slices((train_values, train_classification, train_weights_reweighted))\n",
    "train_data = train_data.shuffle(len(train_data), seed=random_state)\n",
    "train_data = train_data.batch(128)\n",
    "val_data = Dataset.from_tensor_slices((val_values, val_classification, val_weights_reweighted))\n",
    "val_data = val_data.shuffle(len(val_data), seed=random_state)\n",
    "val_data = val_data.batch(128)"
   ]
  },
  {
   "cell_type": "code",
   "execution_count": 90,
   "id": "f9fe1e03",
   "metadata": {},
   "outputs": [],
   "source": [
    "# Split into train and validation data\n",
    "train_values, val_values, train_classification, val_classification = train_test_split(values, classification, test_size=1/3, random_state=random_state)\n",
    "train_weights, val_weights = train_test_split(weights, classification, test_size=1/3, random_state=random_state)[:2]"
   ]
  },
  {
   "cell_type": "markdown",
   "id": "1ecfa4e0",
   "metadata": {},
   "source": [
    "### Model Setup"
   ]
  },
  {
   "cell_type": "markdown",
   "id": "c635e4d7",
   "metadata": {},
   "source": [
    "You can change the learning rate of the optimizer to improve your training"
   ]
  },
  {
   "cell_type": "code",
   "execution_count": 91,
   "id": "d45b6b0a",
   "metadata": {},
   "outputs": [],
   "source": [
    "# Loss function\n",
    "loss_fn = tf.keras.losses.BinaryCrossentropy(from_logits=False)\n",
    "# Optimizer\n",
    "adam_optimizer = tf.keras.optimizers.legacy.Adam(learning_rate=0.0002, beta_1=0.9)"
   ]
  },
  {
   "cell_type": "markdown",
   "id": "a9905bdd",
   "metadata": {},
   "source": [
    "Create your model"
   ]
  },
  {
   "cell_type": "code",
   "execution_count": 92,
   "id": "aee20220",
   "metadata": {},
   "outputs": [],
   "source": [
    "# Normalization layer\n",
    "normalization_layer = tf.keras.layers.Normalization()\n",
    "normalization_layer.adapt(train_values)\n",
    "# Create a simple NN\n",
    "model_layers = [\n",
    "    normalization_layer,\n",
    "    tf.keras.layers.Dense(60, activation='relu'),\n",
    "    tf.keras.layers.Dense(60, activation='relu'),\n",
    "    tf.keras.layers.Dense(60, activation='relu'),\n",
    "    tf.keras.layers.Dense(8, activation='relu'),\n",
    "    tf.keras.layers.Dense(1, activation='sigmoid'),\n",
    "]\n",
    "# Create a simple NN\n",
    "model = tf.keras.models.Sequential(model_layers)\n",
    "# Compile model\n",
    "model.compile(optimizer=adam_optimizer, loss=loss_fn, weighted_metrics=['binary_accuracy'])"
   ]
  },
  {
   "cell_type": "markdown",
   "id": "e5ef142a",
   "metadata": {},
   "source": [
    "### Training"
   ]
  },
  {
   "cell_type": "code",
   "execution_count": null,
   "id": "7bbaffd9",
   "metadata": {},
   "outputs": [
    {
     "name": "stdout",
     "output_type": "stream",
     "text": [
      "Epoch 1/1000\n",
      " 243/2791 [=>............................] - ETA: 25s - loss: 0.6654 - binary_accuracy: 0.6161"
     ]
    }
   ],
   "source": [
    "# Train model\n",
    "history = model.fit(train_data, validation_data=val_data, callbacks=[early_stopping], epochs=1000)"
   ]
  },
  {
   "cell_type": "code",
   "execution_count": null,
   "id": "5750bafa",
   "metadata": {},
   "outputs": [],
   "source": []
  },
  {
   "cell_type": "code",
   "execution_count": null,
   "id": "ae9a64af",
   "metadata": {},
   "outputs": [],
   "source": []
  },
  {
   "cell_type": "code",
   "execution_count": null,
   "id": "6891e2cb",
   "metadata": {},
   "outputs": [],
   "source": []
  },
  {
   "cell_type": "code",
   "execution_count": null,
   "id": "6094b9d9",
   "metadata": {},
   "outputs": [],
   "source": []
  },
  {
   "cell_type": "code",
   "execution_count": 27,
   "id": "83905241",
   "metadata": {},
   "outputs": [],
   "source": [
    "# Define the K-fold Cross Validator\n",
    "kfold = KFold(n_splits=3, shuffle=True, random_state=random_state)"
   ]
  },
  {
   "cell_type": "code",
   "execution_count": 26,
   "id": "e336ed35",
   "metadata": {},
   "outputs": [],
   "source": [
    "values, weights, classification = common.get_dnn_input(data_frames, training_variables, sample_list_signal, sample_list_background, 0.6)"
   ]
  },
  {
   "cell_type": "code",
   "execution_count": 77,
   "id": "62417f26",
   "metadata": {},
   "outputs": [],
   "source": [
    "train_values, val_values, train_classification, val_classification = train_test_split(values, classification, test_size=0.2, random_state=123)\n",
    "train_weights, val_weights = train_test_split(weights, classification, test_size=0.2, random_state=123)[:2]"
   ]
  },
  {
   "cell_type": "code",
   "execution_count": 99,
   "id": "98ec3318",
   "metadata": {},
   "outputs": [],
   "source": [
    "# Get reweighted weights\n",
    "train_weights_reweighted = reweight_weights(train_weights, train_classification)\n",
    "val_weights_reweighted = reweight_weights(val_weights, val_classification)\n",
    "\n",
    "# Convert the data to tensorflow datasets\n",
    "train_data = Dataset.from_tensor_slices((train_values, train_classification, train_weights_reweighted))\n",
    "train_data = train_data.shuffle(len(train_data), seed=random_state)\n",
    "train_data = train_data.batch(128)\n",
    "val_data = Dataset.from_tensor_slices((val_values, val_classification, val_weights_reweighted))\n",
    "val_data = val_data.shuffle(len(val_data), seed=random_state)\n",
    "val_data = val_data.batch(128)"
   ]
  },
  {
   "cell_type": "code",
   "execution_count": 100,
   "id": "f536165e",
   "metadata": {},
   "outputs": [],
   "source": [
    "# Loss function\n",
    "loss_fn = tf.keras.losses.BinaryCrossentropy(from_logits=False)\n",
    "# Optimizer\n",
    "adam_optimizer = tf.keras.optimizers.legacy.Adam(learning_rate=0.0005, beta_1=0.9)"
   ]
  },
  {
   "cell_type": "code",
   "execution_count": 101,
   "id": "0ec327a7",
   "metadata": {},
   "outputs": [],
   "source": [
    "# Early stopping\n",
    "early_stopping = tf.keras.callbacks.EarlyStopping(monitor='val_loss', patience=5, restore_best_weights=True)"
   ]
  },
  {
   "cell_type": "code",
   "execution_count": 102,
   "id": "fb7cddc8",
   "metadata": {},
   "outputs": [],
   "source": [
    "# Normalization layer\n",
    "normalization_layer = tf.keras.layers.Normalization()\n",
    "normalization_layer.adapt(train_values)\n",
    "# Create a simple NN\n",
    "model_layers = [\n",
    "    normalization_layer,\n",
    "    tf.keras.layers.Dense(60, activation='relu'),\n",
    "    tf.keras.layers.Dense(60, activation='relu'),\n",
    "    tf.keras.layers.Dense(1, activation='sigmoid'),\n",
    "]\n",
    "# Create a simple NN\n",
    "model = tf.keras.models.Sequential(model_layers)\n",
    "# Compile model\n",
    "model.compile(optimizer=adam_optimizer, loss=loss_fn, weighted_metrics=['binary_accuracy'])"
   ]
  },
  {
   "cell_type": "code",
   "execution_count": 103,
   "id": "0c77d4b4",
   "metadata": {
    "scrolled": true
   },
   "outputs": [
    {
     "name": "stdout",
     "output_type": "stream",
     "text": [
      "Epoch 1/1000\n",
      "5593/5593 [==============================] - 58s 10ms/step - loss: 0.5054 - binary_accuracy: 0.7580 - val_loss: 0.4258 - val_binary_accuracy: 0.8031\n",
      "Epoch 2/1000\n",
      "5593/5593 [==============================] - 53s 9ms/step - loss: 0.3684 - binary_accuracy: 0.8430 - val_loss: 0.3547 - val_binary_accuracy: 0.8488\n",
      "Epoch 3/1000\n",
      "5593/5593 [==============================] - 54s 10ms/step - loss: 0.3184 - binary_accuracy: 0.8698 - val_loss: 0.3170 - val_binary_accuracy: 0.8738\n",
      "Epoch 4/1000\n",
      "5593/5593 [==============================] - 57s 10ms/step - loss: 0.2935 - binary_accuracy: 0.8816 - val_loss: 0.3078 - val_binary_accuracy: 0.8792\n",
      "Epoch 5/1000\n",
      "5593/5593 [==============================] - 51s 9ms/step - loss: 0.2778 - binary_accuracy: 0.8910 - val_loss: 0.2971 - val_binary_accuracy: 0.8816\n",
      "Epoch 6/1000\n",
      "5593/5593 [==============================] - 54s 10ms/step - loss: 0.2658 - binary_accuracy: 0.8977 - val_loss: 0.2958 - val_binary_accuracy: 0.8822\n",
      "Epoch 7/1000\n",
      "5593/5593 [==============================] - 53s 9ms/step - loss: 0.2551 - binary_accuracy: 0.9042 - val_loss: 0.2870 - val_binary_accuracy: 0.8892\n",
      "Epoch 8/1000\n",
      "5593/5593 [==============================] - 54s 10ms/step - loss: 0.2474 - binary_accuracy: 0.9077 - val_loss: 0.2920 - val_binary_accuracy: 0.8908\n",
      "Epoch 9/1000\n",
      "5593/5593 [==============================] - 53s 9ms/step - loss: 0.2436 - binary_accuracy: 0.9108 - val_loss: 0.2825 - val_binary_accuracy: 0.8925\n",
      "Epoch 10/1000\n",
      "5593/5593 [==============================] - 54s 10ms/step - loss: 0.2356 - binary_accuracy: 0.9144 - val_loss: 0.2940 - val_binary_accuracy: 0.8850\n",
      "Epoch 11/1000\n",
      "5593/5593 [==============================] - 52s 9ms/step - loss: 0.2299 - binary_accuracy: 0.9162 - val_loss: 0.2792 - val_binary_accuracy: 0.8924\n",
      "Epoch 12/1000\n",
      "5593/5593 [==============================] - 54s 10ms/step - loss: 0.2253 - binary_accuracy: 0.9191 - val_loss: 0.2771 - val_binary_accuracy: 0.8932\n",
      "Epoch 13/1000\n",
      "5593/5593 [==============================] - 52s 9ms/step - loss: 0.2214 - binary_accuracy: 0.9203 - val_loss: 0.2890 - val_binary_accuracy: 0.8923\n",
      "Epoch 14/1000\n",
      "5593/5593 [==============================] - 52s 9ms/step - loss: 0.2174 - binary_accuracy: 0.9232 - val_loss: 0.2918 - val_binary_accuracy: 0.8859\n",
      "Epoch 15/1000\n",
      "5593/5593 [==============================] - 55s 10ms/step - loss: 0.2124 - binary_accuracy: 0.9245 - val_loss: 0.2825 - val_binary_accuracy: 0.8961\n",
      "Epoch 16/1000\n",
      "5593/5593 [==============================] - 53s 9ms/step - loss: 0.2121 - binary_accuracy: 0.9245 - val_loss: 0.2752 - val_binary_accuracy: 0.9020\n",
      "Epoch 17/1000\n",
      "5593/5593 [==============================] - 52s 9ms/step - loss: 0.2061 - binary_accuracy: 0.9282 - val_loss: 0.2825 - val_binary_accuracy: 0.8984\n",
      "Epoch 18/1000\n",
      "5593/5593 [==============================] - 54s 10ms/step - loss: 0.2050 - binary_accuracy: 0.9282 - val_loss: 0.2805 - val_binary_accuracy: 0.8991\n",
      "Epoch 19/1000\n",
      "5593/5593 [==============================] - 52s 9ms/step - loss: 0.2010 - binary_accuracy: 0.9306 - val_loss: 0.2671 - val_binary_accuracy: 0.9021\n",
      "Epoch 20/1000\n",
      "5593/5593 [==============================] - 52s 9ms/step - loss: 0.1978 - binary_accuracy: 0.9328 - val_loss: 0.2600 - val_binary_accuracy: 0.9026\n",
      "Epoch 21/1000\n",
      "5593/5593 [==============================] - 52s 9ms/step - loss: 0.1954 - binary_accuracy: 0.9344 - val_loss: 0.2748 - val_binary_accuracy: 0.9037\n",
      "Epoch 22/1000\n",
      "5593/5593 [==============================] - 52s 9ms/step - loss: 0.1930 - binary_accuracy: 0.9344 - val_loss: 0.2760 - val_binary_accuracy: 0.9026\n",
      "Epoch 23/1000\n",
      "5593/5593 [==============================] - 53s 9ms/step - loss: 0.1900 - binary_accuracy: 0.9366 - val_loss: 0.2576 - val_binary_accuracy: 0.9008\n",
      "Epoch 24/1000\n",
      "5593/5593 [==============================] - 52s 9ms/step - loss: 0.1875 - binary_accuracy: 0.9378 - val_loss: 0.2697 - val_binary_accuracy: 0.9030\n",
      "Epoch 25/1000\n",
      "5593/5593 [==============================] - 52s 9ms/step - loss: 0.1864 - binary_accuracy: 0.9369 - val_loss: 0.2628 - val_binary_accuracy: 0.9061\n",
      "Epoch 26/1000\n",
      "5593/5593 [==============================] - 53s 9ms/step - loss: 0.1842 - binary_accuracy: 0.9383 - val_loss: 0.2683 - val_binary_accuracy: 0.9030\n",
      "Epoch 27/1000\n",
      "5593/5593 [==============================] - 52s 9ms/step - loss: 0.1817 - binary_accuracy: 0.9399 - val_loss: 0.2562 - val_binary_accuracy: 0.9071\n",
      "Epoch 28/1000\n",
      "5593/5593 [==============================] - 53s 9ms/step - loss: 0.1804 - binary_accuracy: 0.9398 - val_loss: 0.2700 - val_binary_accuracy: 0.9067\n",
      "Epoch 29/1000\n",
      "5593/5593 [==============================] - 53s 9ms/step - loss: 0.1789 - binary_accuracy: 0.9405 - val_loss: 0.2626 - val_binary_accuracy: 0.9095\n",
      "Epoch 30/1000\n",
      "5593/5593 [==============================] - 52s 9ms/step - loss: 0.1781 - binary_accuracy: 0.9412 - val_loss: 0.2564 - val_binary_accuracy: 0.9076\n",
      "Epoch 31/1000\n",
      "5593/5593 [==============================] - 52s 9ms/step - loss: 0.1752 - binary_accuracy: 0.9438 - val_loss: 0.2526 - val_binary_accuracy: 0.9101\n",
      "Epoch 32/1000\n",
      "5593/5593 [==============================] - 53s 9ms/step - loss: 0.1732 - binary_accuracy: 0.9433 - val_loss: 0.2518 - val_binary_accuracy: 0.9091\n",
      "Epoch 33/1000\n",
      "5593/5593 [==============================] - 54s 10ms/step - loss: 0.1712 - binary_accuracy: 0.9447 - val_loss: 0.2539 - val_binary_accuracy: 0.9097\n",
      "Epoch 34/1000\n",
      "5593/5593 [==============================] - 52s 9ms/step - loss: 0.1717 - binary_accuracy: 0.9446 - val_loss: 0.2479 - val_binary_accuracy: 0.9137\n",
      "Epoch 35/1000\n",
      "5593/5593 [==============================] - 53s 9ms/step - loss: 0.1683 - binary_accuracy: 0.9463 - val_loss: 0.2576 - val_binary_accuracy: 0.9154\n",
      "Epoch 36/1000\n",
      "5593/5593 [==============================] - 52s 9ms/step - loss: 0.1652 - binary_accuracy: 0.9483 - val_loss: 0.2469 - val_binary_accuracy: 0.9136\n",
      "Epoch 37/1000\n",
      "5593/5593 [==============================] - 53s 9ms/step - loss: 0.1652 - binary_accuracy: 0.9471 - val_loss: 0.2449 - val_binary_accuracy: 0.9166\n",
      "Epoch 38/1000\n",
      "5593/5593 [==============================] - 52s 9ms/step - loss: 0.1611 - binary_accuracy: 0.9493 - val_loss: 0.2476 - val_binary_accuracy: 0.9137\n",
      "Epoch 39/1000\n",
      "5593/5593 [==============================] - 52s 9ms/step - loss: 0.1618 - binary_accuracy: 0.9485 - val_loss: 0.2364 - val_binary_accuracy: 0.9194\n",
      "Epoch 40/1000\n",
      "5593/5593 [==============================] - 60s 11ms/step - loss: 0.1596 - binary_accuracy: 0.9505 - val_loss: 0.2340 - val_binary_accuracy: 0.9200\n",
      "Epoch 41/1000\n",
      "5593/5593 [==============================] - 52s 9ms/step - loss: 0.1613 - binary_accuracy: 0.9499 - val_loss: 0.2431 - val_binary_accuracy: 0.9178\n",
      "Epoch 42/1000\n",
      "5593/5593 [==============================] - 49s 9ms/step - loss: 0.1562 - binary_accuracy: 0.9512 - val_loss: 0.2296 - val_binary_accuracy: 0.9224\n",
      "Epoch 43/1000\n",
      "5593/5593 [==============================] - 49s 9ms/step - loss: 0.1545 - binary_accuracy: 0.9516 - val_loss: 0.2241 - val_binary_accuracy: 0.9231\n",
      "Epoch 44/1000\n",
      "5593/5593 [==============================] - 49s 9ms/step - loss: 0.1540 - binary_accuracy: 0.9528 - val_loss: 0.2217 - val_binary_accuracy: 0.9216\n",
      "Epoch 45/1000\n",
      "5593/5593 [==============================] - 50s 9ms/step - loss: 0.1530 - binary_accuracy: 0.9526 - val_loss: 0.2299 - val_binary_accuracy: 0.9196\n",
      "Epoch 46/1000\n",
      "5593/5593 [==============================] - 49s 9ms/step - loss: 0.1512 - binary_accuracy: 0.9534 - val_loss: 0.2276 - val_binary_accuracy: 0.9201\n",
      "Epoch 47/1000\n",
      "5593/5593 [==============================] - 50s 9ms/step - loss: 0.1488 - binary_accuracy: 0.9542 - val_loss: 0.2324 - val_binary_accuracy: 0.9218\n",
      "Epoch 48/1000\n",
      "5593/5593 [==============================] - 50s 9ms/step - loss: 0.1499 - binary_accuracy: 0.9543 - val_loss: 0.2246 - val_binary_accuracy: 0.9246\n",
      "Epoch 49/1000\n",
      "5593/5593 [==============================] - 53s 9ms/step - loss: 0.1488 - binary_accuracy: 0.9556 - val_loss: 0.2229 - val_binary_accuracy: 0.9221\n"
     ]
    }
   ],
   "source": [
    "# Train model\n",
    "history = model.fit(train_data, validation_data=val_data, callbacks=[early_stopping], epochs=1000)"
   ]
  },
  {
   "cell_type": "code",
   "execution_count": 104,
   "id": "32f34df4",
   "metadata": {},
   "outputs": [
    {
     "data": {
      "image/png": "[encoded data removed]",
      "text/plain": [
       "<Figure size 700x600 with 1 Axes>"
      ]
     },
     "metadata": {},
     "output_type": "display_data"
    }
   ],
   "source": [
    "# Plot the training history\n",
    "fig, ax = plt.subplots(figsize=(7, 6))\n",
    "ax.plot(history.history['loss'], label='training')\n",
    "ax.plot(history.history['val_loss'], label='val')\n",
    "ax.set_xlabel('epoch')\n",
    "ax.set_ylabel('loss')\n",
    "ax.legend()\n",
    "_ = plt.show()"
   ]
  },
  {
   "cell_type": "code",
   "execution_count": 107,
   "id": "4e8fa60f",
   "metadata": {},
   "outputs": [
    {
     "name": "stdout",
     "output_type": "stream",
     "text": [
      "22371/22371 [==============================] - 49s 2ms/step\n",
      "5593/5593 [==============================] - 12s 2ms/step\n"
     ]
    },
    {
     "data": {
      "image/png": "[encoded data removed]",
      "text/plain": [
       "<Figure size 700x600 with 1 Axes>"
      ]
     },
     "metadata": {},
     "output_type": "display_data"
    }
   ],
   "source": [
    "# Apply the model for training and validation values\n",
    "train_prediction = model.predict(train_values)\n",
    "val_prediction = model.predict(val_values)\n",
    "# Plot the model output\n",
    "common.plot_dnn_output(train_prediction, train_classification, val_prediction, val_classification)\n",
    "_ = plt.show()"
   ]
  },
  {
   "cell_type": "code",
   "execution_count": 115,
   "id": "f43776d9",
   "metadata": {},
   "outputs": [
    {
     "data": {
      "image/png": "[encoded data removed]",
      "text/plain": [
       "<Figure size 700x700 with 1 Axes>"
      ]
     },
     "metadata": {},
     "output_type": "display_data"
    }
   ],
   "source": [
    "# Apply the model\n",
    "#data_frames_apply_dnn = apply_dnn_model(model, data_frames, training_variables, sample_list_signal + sample_list_background)\n",
    "model_prediction = {'variable': 'model_prediction',\n",
    "                    'binning': np.linspace(0.2, 1, 20),\n",
    "                    'xlabel': 'NN prediction'}\n",
    "common.plot_hist(model_prediction, data_frames_apply_dnn, show_data=False)"
   ]
  },
  {
   "cell_type": "markdown",
   "id": "a74ea3bc",
   "metadata": {
    "id": "a74ea3bc"
   },
   "source": [
    "## Training"
   ]
  },
  {
   "cell_type": "markdown",
   "id": "254918e6",
   "metadata": {
    "id": "254918e6"
   },
   "source": [
    "In this chapter, the DNN is trained. Define the input variables for the classification. Feel free to test different combinations of low-level and high-level variables. Additionally, you can modify the structure of the DNN to gain optimal training results. When the setup is done, train the DNN, test it and redo this until you are happy with the result."
   ]
  },
  {
   "cell_type": "code",
   "execution_count": null,
   "id": "ac0e9914",
   "metadata": {
    "id": "ac0e9914"
   },
   "outputs": [],
   "source": [
    "# The training input variables\n",
    "training_variables = ['lep1_pt', 'lep2_pt', 'lep3_pt', 'lep4_pt']\n",
    "training_variables += ['lep1_charge', 'lep2_charge', 'lep3_charge', 'lep4_charge']\n",
    "training_variables += ['lep1_pdgId', 'lep2_pdgId', 'lep3_pdgId', 'lep4_pdgId']\n",
    "training_variables += ['lep1_phi', 'lep2_phi', 'lep3_phi', 'lep4_phi']\n",
    "training_variables += ['lep1_eta', 'lep2_eta', 'lep3_eta', 'lep4_eta']\n",
    "training_variables += ['lep_m_ll_12', 'lep_m_ll_13', 'lep_m_ll_14', 'lep_m_ll_23', 'lep_m_ll_24', 'lep_m_ll_34']"
   ]
  },
  {
   "cell_type": "code",
   "execution_count": null,
   "id": "5a528eaf",
   "metadata": {
    "id": "5a528eaf"
   },
   "outputs": [],
   "source": [
    "# Create the training input\n",
    "values = []\n",
    "weights = []\n",
    "classification = []\n",
    "for sample in sample_list_signal + sample_list_background:\n",
    "    # Classify signal and background (and skip if data)\n",
    "    if sample in sample_list_signal:\n",
    "        # 1 if signal\n",
    "        classification.append(np.ones(len(data_frames[sample])))\n",
    "    elif sample in sample_list_background:\n",
    "        # 0 if background\n",
    "        classification.append(np.zeros(len(data_frames[sample])))\n",
    "    else:\n",
    "        continue\n",
    "    # input values\n",
    "    values.append(data_frames[sample][training_variables])\n",
    "    weights.append(data_frames[sample]['totalWeight'])\n",
    "\n",
    "# Merge the input\n",
    "values = np.concatenate(values)\n",
    "weights = np.concatenate(weights)\n",
    "classification = np.concatenate(classification)"
   ]
  },
  {
   "cell_type": "markdown",
   "id": "6466faa7",
   "metadata": {
    "id": "6466faa7"
   },
   "source": [
    "The data set is split in a training, test and validation set. To have enough data to train use a splitting of 80%:10%:10%"
   ]
  },
  {
   "cell_type": "code",
   "execution_count": null,
   "id": "4f0035b0",
   "metadata": {
    "id": "4f0035b0"
   },
   "outputs": [],
   "source": [
    "from sklearn.model_selection import train_test_split"
   ]
  },
  {
   "cell_type": "markdown",
   "id": "36847a78",
   "metadata": {
    "id": "36847a78"
   },
   "source": [
    "Rescale the weights and keep the sample ratio?"
   ]
  },
  {
   "cell_type": "code",
   "execution_count": null,
   "id": "8138d55c",
   "metadata": {
    "id": "8138d55c"
   },
   "outputs": [],
   "source": [
    "def reweight_weights(weights, classification):\n",
    "    # Take the absolute weight\n",
    "    weights_abs = np.abs(weights)\n",
    "    # Split in signal and background weights\n",
    "    weights_signal = weights_abs*classification\n",
    "    weights_background = weights_abs*(1 - classification)\n",
    "    # Set ratio of signal and backgroubnd to one\n",
    "    weights_reweighted = weights_background + weights_signal * sum(weights_background) / sum(weights_signal)\n",
    "    # Normalize mean weight to one\n",
    "    weights_reweighted /= weights_reweighted.mean()\n",
    "    return weights_reweighted"
   ]
  },
  {
   "cell_type": "code",
   "execution_count": null,
   "id": "bd8a4906",
   "metadata": {
    "id": "bd8a4906"
   },
   "outputs": [],
   "source": [
    "random_state = 100\n",
    "\n",
    "# Train data\n",
    "train_values, test_val_values, train_classification, test_val_classification = train_test_split(values, classification, test_size=0.2, random_state=random_state)\n",
    "train_weights, test_val_weights = train_test_split(weights, classification, test_size=0.2, random_state=random_state)[:2]\n",
    "\n",
    "# Test and validation data\n",
    "test_values, val_values, test_classification, val_classification = train_test_split(test_val_values, test_val_classification, test_size=0.5, random_state=random_state)\n",
    "test_weights, val_weights = train_test_split(test_val_weights, test_val_classification, test_size=0.5, random_state=random_state)[:2]\n",
    "\n",
    "# Get reweighted weights\n",
    "train_weights_reweighted = reweight_weights(train_weights, train_classification)\n",
    "test_weights_reweighted = reweight_weights(test_weights, test_classification)\n",
    "val_weights_reweighted = reweight_weights(val_weights, val_classification)"
   ]
  },
  {
   "cell_type": "code",
   "execution_count": null,
   "id": "6a0e549d",
   "metadata": {
    "id": "6a0e549d"
   },
   "outputs": [],
   "source": [
    "# scale inputs\n",
    "from sklearn.preprocessing import StandardScaler\n",
    "\n",
    "scaler = StandardScaler()\n",
    "scaler.fit(train_values)\n",
    "train_values = scaler.transform(train_values)\n",
    "test_values = scaler.transform(test_values)\n",
    "val_values = scaler.transform(val_values)"
   ]
  },
  {
   "cell_type": "code",
   "execution_count": null,
   "id": "f1cf62dc",
   "metadata": {
    "id": "f1cf62dc"
   },
   "outputs": [],
   "source": [
    "# Import the tensorflow module to create a DNN\n",
    "\n",
    "import tensorflow as tf\n",
    "import pandas as pd\n",
    "from tensorflow.python.framework.ops import disable_eager_execution\n",
    "\n",
    "disable_eager_execution()"
   ]
  },
  {
   "cell_type": "markdown",
   "id": "467e845a",
   "metadata": {
    "id": "467e845a"
   },
   "source": [
    "Create you DNN consisting of several layers. \n",
    "\n",
    "A full list of layer types can be found here https://www.tensorflow.org/api_docs/python/tf/keras/layers <br>\n",
    "Some important examples for layers are:\n",
    "- Dense: a densely connected NN layer\n",
    "- Flatten: flattens the input\n",
    "- Dropout: randomly sets input to 0. Can decrease overtraining\n",
    "\n",
    "The neurons of each layer are activated by the so called activation function. <br>\n",
    "A full list of provided activation functions can be found here https://www.tensorflow.org/api_docs/python/tf/keras/activations <br>\n",
    "Some examples are:\n",
    "- linear: $linear(x) = x$\n",
    "- relu: linear for $x>0$ ($relu(x) = max(0, x)$)\n",
    "- exponential: $exponential(x) = e^x$\n",
    "- sigmoid: $sigmoid(x) = 1 / (1 + e^{-x})$\n",
    "\n",
    "To classify background and signal the last layer should only consist of one neuron which has an activation between 0 and 1"
   ]
  },
  {
   "cell_type": "code",
   "execution_count": null,
   "id": "541ee86d",
   "metadata": {
    "id": "541ee86d"
   },
   "outputs": [],
   "source": [
    "def get_model(n_layers, n_nodes):\n",
    "    model_layers = []\n",
    "    for i_layer in range(n_layers):\n",
    "        model_layers.append(tf.keras.layers.Dense(n_nodes, activation='relu'))\n",
    "    model_layers.append(tf.keras.layers.Dense(1, activation='sigmoid'))\n",
    "    model = tf.keras.models.Sequential(model_layers)\n",
    "    return model"
   ]
  },
  {
   "cell_type": "code",
   "execution_count": null,
   "id": "b80e881c",
   "metadata": {
    "id": "b80e881c"
   },
   "outputs": [],
   "source": [
    "import itertools\n",
    "n_layers = [2, 4, 6]\n",
    "n_nodes = [10, 50, 100]\n",
    "n_layers = [4, 6, 8]\n",
    "n_nodes = [20, 40, 60]\n",
    "n_layers = [7, 8, 10]\n",
    "n_nodes = [10, 20, 30]\n",
    "n_layers = [8]\n",
    "n_nodes = [10]\n",
    "hyper_parameters = list(itertools.product(n_layers, n_nodes))\n",
    "print(hyper_parameters)\n",
    "models = {}\n",
    "for (n_layers, n_nodes) in hyper_parameters:\n",
    "    model_name = f'dnn_{str(n_layers)}_{str(n_nodes)}'\n",
    "    models[model_name] = {'model': get_model(n_layers, n_nodes)}"
   ]
  },
  {
   "cell_type": "markdown",
   "id": "08bb5240",
   "metadata": {
    "id": "08bb5240"
   },
   "source": [
    "While training, the parameters of the neural network are modified to increase the agreement between the classification of the training data by the neural network and the actual splitting in signal and background. \n",
    "The agreement is specified by a loss-function, which decreses with increasing agreement. Analogous to a Chi2 fit, the fit to the training data is done by determining the minimum of the loss-function. The choice of the specific loss-function has to be adapted to the problem the neural network has to solve. <br>\n",
    "\n",
    "The list of available loss-functions are listed here https://www.tensorflow.org/api_docs/python/tf/keras/losses\n",
    "For the binary (0 or 1) classification problem of the signal background separation the BinaryCrossentropy is used. <br>\n",
    "<b> Give more information!!! </b>"
   ]
  },
  {
   "cell_type": "code",
   "execution_count": null,
   "id": "4fe2b485",
   "metadata": {
    "id": "4fe2b485"
   },
   "outputs": [],
   "source": [
    "loss_fn = tf.keras.losses.BinaryCrossentropy(from_logits=False)"
   ]
  },
  {
   "cell_type": "markdown",
   "id": "8535bcb1",
   "metadata": {
    "id": "8535bcb1"
   },
   "source": [
    "For the optimization of the loss-function different optimization algorithms can be used (see https://www.tensorflow.org/api_docs/python/tf/keras/optimizers). <br>\n",
    "The performance of the learning process is given by the metric (see https://www.tensorflow.org/api_docs/python/tf/keras/metrics)"
   ]
  },
  {
   "cell_type": "code",
   "execution_count": null,
   "id": "c60c5f74",
   "metadata": {
    "id": "c60c5f74"
   },
   "outputs": [],
   "source": [
    "for model_name in models:\n",
    "    models[model_name]['model'].compile(optimizer=tf.keras.optimizers.legacy.Adam(learning_rate=0.0001, beta_1=0.9),\n",
    "                                        loss=loss_fn,\n",
    "                                        weighted_metrics=['binary_accuracy'])"
   ]
  },
  {
   "cell_type": "markdown",
   "id": "84a39a2b",
   "metadata": {
    "id": "84a39a2b"
   },
   "source": [
    "Early stopping"
   ]
  },
  {
   "cell_type": "code",
   "execution_count": null,
   "id": "60823bf4",
   "metadata": {
    "id": "60823bf4"
   },
   "outputs": [],
   "source": [
    "early_stopping = tf.keras.callbacks.EarlyStopping(monitor='val_loss', patience=5, restore_best_weights=True)"
   ]
  },
  {
   "cell_type": "code",
   "execution_count": null,
   "id": "3b29dc6f",
   "metadata": {
    "id": "3b29dc6f"
   },
   "outputs": [],
   "source": [
    "for model_name in models:\n",
    "    print(f'Start training for {model_name}:')\n",
    "    history = models[model_name]['model'].fit(train_values, train_classification, sample_weight=train_weights_reweighted, validation_data=(val_values, val_classification, val_weights_reweighted), callbacks=[early_stopping], epochs=1000)\n",
    "    models[model_name]['history'] = history"
   ]
  },
  {
   "cell_type": "code",
   "execution_count": null,
   "id": "ba07b18c",
   "metadata": {
    "id": "ba07b18c"
   },
   "outputs": [],
   "source": [
    "color_list = ['red', 'orange', 'blue', 'peru', 'purple', 'lime', 'cyan', 'darkgreen', 'darkred']\n",
    "model_list = list(models.keys())\n",
    "model_colors = {}\n",
    "for i in range(len(models)):\n",
    "    model_name = model_list[i]\n",
    "    model_colors[model_name] = color_list[i]\n",
    "\n",
    "for model_name in models:\n",
    "    plt.plot(models[model_name]['history'].history['loss'], color=model_colors[model_name], linestyle='--', linewidth=0.8)\n",
    "    plt.plot(models[model_name]['history'].history['val_loss'], label=f'{model_name}', color=model_colors[model_name], linewidth=0.8)\n",
    "\n",
    "plt.title('model loss')\n",
    "plt.ylabel('loss')\n",
    "plt.xlabel('epoch')\n",
    "plt.legend(loc='center left', bbox_to_anchor=(1, 0.5))\n",
    "layers_string = str(n_layers).replace(' ', '')\n",
    "nodes_string = str(n_nodes).replace(' ', '')\n",
    "plt.tight_layout()\n",
    "plt.savefig(f'plots/layers_{layers_string}_nodes_{nodes_string}_train_comparison.pdf')\n",
    "plt.show()"
   ]
  },
  {
   "cell_type": "code",
   "execution_count": null,
   "id": "dzXxVPEqDfeD",
   "metadata": {
    "id": "dzXxVPEqDfeD"
   },
   "outputs": [],
   "source": [
    "from google.colab import drive\n",
    "drive.mount('/content/drive')"
   ]
  },
  {
   "cell_type": "markdown",
   "id": "43995bda",
   "metadata": {
    "id": "43995bda"
   },
   "source": [
    "## Evaluate the Model"
   ]
  },
  {
   "cell_type": "code",
   "execution_count": null,
   "id": "b1e9ea20",
   "metadata": {
    "id": "b1e9ea20"
   },
   "outputs": [],
   "source": [
    "from sklearn import metrics"
   ]
  },
  {
   "cell_type": "code",
   "execution_count": null,
   "id": "ada8fabb",
   "metadata": {
    "id": "ada8fabb"
   },
   "outputs": [],
   "source": [
    "for model_name in models:\n",
    "    # ROC curve\n",
    "    val_prediction = models[model_name]['model'].predict(val_values)\n",
    "    fpr, tpr, thresholds = metrics.roc_curve(val_classification, val_prediction, sample_weight=val_weights_reweighted)\n",
    "    roc_auc = metrics.auc(fpr, tpr)\n",
    "    models[model_name]['roc_auc'] = roc_auc\n",
    "    \n",
    "    # Model history\n",
    "    history_train_loss = models[model_name]['history'].history['loss']\n",
    "    history_train_accuracy = models[model_name]['history'].history['binary_accuracy']\n",
    "    history_val_loss = models[model_name]['history'].history['val_loss']\n",
    "    history_val_accuracy = models[model_name]['history'].history['val_binary_accuracy']\n",
    "    \n",
    "    # Model evaluation\n",
    "    val_loss, val_accuracy = models[model_name]['model'].evaluate(val_values, val_classification, sample_weight=val_weights_reweighted)\n",
    "    train_loss, train_accuracy = models[model_name]['model'].evaluate(train_values, train_classification, sample_weight=train_weights_reweighted)\n",
    "    \n",
    "    models[model_name]['roc_auc'] = roc_auc\n",
    "    models[model_name]['history_train_loss'] = history_train_loss\n",
    "    models[model_name]['history_train_accuracy'] = history_train_accuracy\n",
    "    models[model_name]['history_val_loss'] = history_val_loss\n",
    "    models[model_name]['history_val_accuracy'] = history_val_accuracy\n",
    "    models[model_name]['train_loss'] = train_loss\n",
    "    models[model_name]['train_accuracy'] = train_accuracy\n",
    "    models[model_name]['val_loss'] = val_loss\n",
    "    models[model_name]['val_accuracy'] = val_accuracy\n",
    "    print(f'{model_name}: \\tROC = {round(roc_auc, 3)}  \\tval_loss = {round(val_loss,3)} \\tval_acc = {round(val_accuracy*100,1)}% \\tval/train_loss = {round(val_loss/train_loss,3)}')"
   ]
  },
  {
   "cell_type": "code",
   "execution_count": null,
   "id": "335e4371",
   "metadata": {
    "id": "335e4371"
   },
   "outputs": [],
   "source": [
    "import seaborn as sns\n",
    "\n",
    "evaluation_full = {'roc_auc': [],'n_layers': [], 'n_nodes': [], 'roc_auc': [], 'val_loss': [], 'val_accuracy': [], 'val/train_loss': []}\n",
    "\n",
    "for model_name in models:\n",
    "    eval_n_layers = int(model_name.split('_')[1])\n",
    "    eval_n_nodes = int(model_name.split('_')[2])\n",
    "    evaluation_full['n_layers'].append(eval_n_layers)\n",
    "    evaluation_full['n_nodes'].append(eval_n_nodes)\n",
    "    evaluation_full['roc_auc'].append(models[model_name]['roc_auc'])\n",
    "    evaluation_full['val_loss'].append(models[model_name]['val_loss'])\n",
    "    evaluation_full['val_accuracy'].append(models[model_name]['val_accuracy'])\n",
    "    evaluation_full['val/train_loss'].append(models[model_name]['val_loss']/models[model_name]['train_loss'])\n",
    "\n",
    "evaluation_full_df = pd.DataFrame(evaluation_full)\n",
    "\n",
    "for eval in ['roc_auc', 'val_loss', 'val_accuracy', 'val/train_loss']:\n",
    "    pivot = evaluation_full_df.pivot(index='n_layers', columns='n_nodes', values=eval)\n",
    "    sns.heatmap(pivot, cbar_kws={'label': eval}, cmap='crest')\n",
    "    plt.title(eval)\n",
    "    \n",
    "    eval_string = eval.replace('/', '_')\n",
    "    layers_string = str(list(set(evaluation_full_df['n_layers']))).replace(' ', '')\n",
    "    nodes_string = str(list(set(evaluation_full_df['n_nodes']))).replace(' ', '')\n",
    "    plt.savefig(f'plots/layers_{layers_string}_nodes_{nodes_string}_evaluate_{eval_string}.pdf')\n",
    "    plt.show()"
   ]
  },
  {
   "cell_type": "code",
   "execution_count": null,
   "id": "555ccb17",
   "metadata": {
    "id": "555ccb17"
   },
   "outputs": [],
   "source": [
    "def get_prediction_signal_background(model, values, weights, classifications, scale=1):\n",
    "    predictions = model.predict(values)\n",
    "    signal_prediction = []\n",
    "    signal_weight = []\n",
    "    background_prediction = []\n",
    "    background_weight = []\n",
    "    for prediction, weight, classification in zip(predictions, weights, classifications):\n",
    "        if classification == 1:\n",
    "            signal_prediction.append(prediction[0])\n",
    "            signal_weight.append(weight)\n",
    "        else:\n",
    "            background_prediction.append(prediction[0])\n",
    "            background_weight.append(weight)\n",
    "    prediction = [np.array(background_prediction), np.array(signal_prediction)]\n",
    "    weights = [np.array(background_weight)*scale, np.array(signal_weight)*scale]\n",
    "    return prediction, weights"
   ]
  },
  {
   "cell_type": "code",
   "execution_count": null,
   "id": "dd25864b",
   "metadata": {
    "id": "dd25864b"
   },
   "outputs": [],
   "source": [
    "binning = np.linspace(0.9, 1, 11)\n",
    "for model_name in models:\n",
    "    # ROC curve\n",
    "    model = models[model_name]['model']\n",
    "    prediction, weights = get_prediction_signal_background(model, val_values, val_weights, val_classification, scale=10)\n",
    "    plt.hist(prediction, weights=weights,\n",
    "             label=['val background', 'val signal'], color=['blue', 'red'],\n",
    "             bins=binning, alpha = 0.4, stacked=True)\n",
    "    prediction, weights = get_prediction_signal_background(model, train_values, train_weights, train_classification, scale=1/0.8)\n",
    "    plt.hist(prediction, weights=weights,\n",
    "             label=['train background', 'train signal'], color=['green', 'sienna'], histtype='step',\n",
    "             bins=binning, stacked=True)\n",
    "    plt.title(model_name)\n",
    "    plt.xlabel('DNN output')\n",
    "    plt.legend(loc='center left', bbox_to_anchor=(1, 0.5))\n",
    "    plt.tight_layout()\n",
    "    plt.savefig(f'plots/{model_name}_val_prediction.pdf')\n",
    "    plt.show()\n",
    "    _ = plt.clf()"
   ]
  },
  {
   "cell_type": "markdown",
   "id": "eaebb200",
   "metadata": {
    "id": "eaebb200"
   },
   "source": [
    "# Validation"
   ]
  },
  {
   "cell_type": "code",
   "execution_count": null,
   "id": "061bfe73",
   "metadata": {
    "id": "061bfe73"
   },
   "outputs": [],
   "source": [
    "binning = np.linspace(0.9, 1, 11)\n",
    "for model_name in models:\n",
    "    # ROC curve\n",
    "    model = models[model_name]['model']\n",
    "    prediction, weights = get_prediction_signal_background(model, test_values, test_weights, test_classification, scale=10)\n",
    "    plt.hist(prediction, weights=weights,\n",
    "             label=['test background', 'test signal'], color=['blue', 'red'],\n",
    "             bins=binning, alpha = 0.2, stacked=True)\n",
    "    prediction, weights = get_prediction_signal_background(model, val_values, val_weights, val_classification, scale=10)\n",
    "    plt.hist(prediction, weights=weights,\n",
    "             label=['val background', 'val signal'], color=['violet', 'orange'],\n",
    "             bins=binning, stacked=True, histtype='step')\n",
    "    prediction, weights = get_prediction_signal_background(model, train_values, train_weights, train_classification, scale=1/0.8)\n",
    "    plt.hist(prediction, weights=weights,\n",
    "             label=['train background', 'train signal'], color=['green', 'sienna'], histtype='step',\n",
    "             bins=binning, stacked=True)\n",
    "    plt.title(model_name)\n",
    "    plt.xlabel('DNN output')\n",
    "    plt.legend(loc='center left', bbox_to_anchor=(1, 0.5))\n",
    "    plt.tight_layout()\n",
    "    plt.savefig(f'plots/{model_name}_test_prediction.pdf')\n",
    "    plt.show()\n",
    "    _ = plt.clf()"
   ]
  },
  {
   "cell_type": "markdown",
   "id": "dccdecfd",
   "metadata": {
    "id": "dccdecfd"
   },
   "source": [
    "# Apply to Model"
   ]
  },
  {
   "cell_type": "code",
   "execution_count": null,
   "id": "1a82f581",
   "metadata": {
    "id": "1a82f581"
   },
   "outputs": [],
   "source": [
    "# Create a copy of the data frame\n",
    "data_frames_apply_dnn = data_frames.copy()\n",
    "\n",
    "for sample in sample_list_signal + sample_list_background + sample_list_measured:\n",
    "    print(f'Apply Model for {sample}')\n",
    "    # Get the values to apply the model\n",
    "    data_frame_values = data_frames_apply_dnn[sample][training_variables]\n",
    "    for model in models:\n",
    "        prediction = models[model]['model'].predict(scaler.transform(data_frame_values))\n",
    "    \n",
    "        # Convert prediction to array\n",
    "        prediction = [element[0] for element in prediction]\n",
    "    \n",
    "        # Add the prediction for each sample\n",
    "        data_frames_apply_dnn[sample][f'{model}_prediction'] = prediction"
   ]
  },
  {
   "cell_type": "code",
   "execution_count": null,
   "id": "03c6847f",
   "metadata": {
    "id": "03c6847f"
   },
   "outputs": [],
   "source": [
    "for model in models:\n",
    "    print(model)\n",
    "    variable = {'variable': f'{model}_prediction',\n",
    "               'binning': np.linspace(0.7, 1, 11),#dnn_binning[model],\n",
    "               'xlabel': f'{model} prediction'}\n",
    "    common.plot_hist(variable, data_frames_apply_dnn)\n",
    "    _ = plt.clf()"
   ]
  },
  {
   "cell_type": "code",
   "execution_count": null,
   "id": "3432957b",
   "metadata": {
    "id": "3432957b"
   },
   "outputs": [],
   "source": []
  },
  {
   "cell_type": "code",
   "execution_count": null,
   "id": "476f3a59",
   "metadata": {
    "id": "476f3a59"
   },
   "outputs": [],
   "source": []
  }
 ],
 "metadata": {
  "accelerator": "GPU",
  "colab": {
   "provenance": []
  },
  "gpuClass": "standard",
  "kernelspec": {
   "display_name": "Python 3 (ipykernel)",
   "language": "python",
   "name": "python3"
  },
  "language_info": {
   "codemirror_mode": {
    "name": "ipython",
    "version": 3
   },
   "file_extension": ".py",
   "mimetype": "text/x-python",
   "name": "python",
   "nbconvert_exporter": "python",
   "pygments_lexer": "ipython3",
   "version": "3.10.8"
  }
 },
 "nbformat": 4,
 "nbformat_minor": 5
}
