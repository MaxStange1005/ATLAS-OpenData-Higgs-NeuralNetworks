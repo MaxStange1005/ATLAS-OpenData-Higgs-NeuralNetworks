{
 "cells": [
  {
   "cell_type": "markdown",
   "id": "2081cce3",
   "metadata": {},
   "source": [
    "# Discover the Higgs with Deep Neural Networks"
   ]
  },
  {
   "cell_type": "markdown",
   "id": "060ec659",
   "metadata": {},
   "source": [
    "The input data was created from 13 TeV ATLAS open data downloaded from http://opendata.atlas.cern/release/2020/documentation/index.html\n",
    "\n",
    "For more information read:<br>\n",
    "Review of the 13 TeV ATLAS Open Data release, Techn. Ber., All figures including auxiliary figures are available at https://atlas.web.cern.ch/Atlas/GROUPS/PHYSICS/PUBNOTES/ATL-OREACH-PUB-2020-001: CERN, 2020, url: http://cds.cern.ch/record/2707171"
   ]
  },
  {
   "cell_type": "markdown",
   "id": "3e312205",
   "metadata": {},
   "source": [
    "## Data Preparation"
   ]
  },
  {
   "cell_type": "markdown",
   "id": "8f5b2349",
   "metadata": {},
   "source": [
    "### Load the Data"
   ]
  },
  {
   "cell_type": "code",
   "execution_count": 16,
   "id": "f9615674",
   "metadata": {},
   "outputs": [],
   "source": [
    "# Necessary imports\n",
    "import numpy as np\n",
    "import matplotlib.pyplot as plt\n",
    "import pandas as pd\n",
    "from numpy.random import seed\n",
    "import common"
   ]
  },
  {
   "cell_type": "markdown",
   "id": "3357ffaf",
   "metadata": {},
   "source": [
    "The goal of this lab course is to train a deep neural network to separate Higgs boson signal from background events. The most important signal sample ggH125_ZZ4lep corresponds to the process gg->H->ZZ. The dominant background sample is llll resulting from Z and ZZ decays.\n",
    "After training the DNN model will be used to classify the events of the data samples.\n",
    "\n",
    "Higgs signal samples:\n",
    "- ggH125_ZZ4lep\n",
    "- VBFH125_ZZ4lep\n",
    "- WH125_ZZ4lep\n",
    "- ZH125_ZZ4lep\n",
    "\n",
    "Background samples:\n",
    "- llll\n",
    "- Zee\n",
    "- Zmumu\n",
    "- ttbar_lep\n",
    "\n",
    "Data samples:\n",
    "- data_A\n",
    "- data_B\n",
    "- data_C\n",
    "- data_D"
   ]
  },
  {
   "cell_type": "code",
   "execution_count": 17,
   "id": "22a2ae28",
   "metadata": {},
   "outputs": [],
   "source": [
    "# Define the input samples\n",
    "sample_list_signal = ['ggH125_ZZ4lep']\n",
    "sample_list_background = ['llll']\n",
    "sample_list_signal = ['ggH125_ZZ4lep', 'VBFH125_ZZ4lep', 'WH125_ZZ4lep', 'ZH125_ZZ4lep']\n",
    "sample_list_background = ['llll', 'Zee', 'Zmumu', 'ttbar_lep']"
   ]
  },
  {
   "cell_type": "code",
   "execution_count": 18,
   "id": "e1b2ae67",
   "metadata": {},
   "outputs": [],
   "source": [
    "# Read all the samples\n",
    "no_selection_data_frames = {}\n",
    "for sample in sample_list_signal + sample_list_background:\n",
    "    no_selection_data_frames[sample] = pd.read_csv('input/' + sample + \".csv\")"
   ]
  },
  {
   "cell_type": "markdown",
   "id": "27a1549c",
   "metadata": {},
   "source": [
    "### Input Variables"
   ]
  },
  {
   "cell_type": "markdown",
   "id": "fe06218b",
   "metadata": {},
   "source": [
    "The input provides several variables to classify the events. Since each event has multiple leptons, they were ordered in descending order based on their transverse momentum. Thus, lepton 1 has the highest transverse momentum, lepton 2 the second highest, and so on. <br>\n",
    "Most of the given variables can be called low-level, because they represent event or object properties, which can be derived directly from the reconstruction in the detector. In contrast to this are high-level variables, which result from the combination of several low-level variables. In the given dataset the only high-level variables are invariant masses of multiple particles:<br>\n",
    "$m_{inv} = \\sqrt{\\left(\\sum\\limits_{i=1}^{n} E_i\\right)^2 - \\left(\\sum\\limits_{i=1}^{n} \\vec{p}_i\\right)^2}$\n",
    "\n",
    "\n",
    "List of all available variables:<br>\n",
    "- Event number\n",
    " - Each simulated event has its own specific number. (not used for training)\n",
    " - Variable name: eventNumber\n",
    "- Scale and event weight\n",
    " - The scaling for a data set is given by the sum of event weights, the cross section, luminosity and a efficiency scale factor\n",
    " - Each event has an additional specific event weight\n",
    " - To combine simulated events and finally compare them to data each event has to be scaled by the total weight, the product of scale weight and event weight\n",
    " - The weight are not used for training\n",
    " - Variable name: scaleWeight, eventWeight, totalWeight\n",
    "- Number of jets\n",
    " - Jets are particle showers which result primarily from quarks and gluons\n",
    " - Variable name: jet_n\n",
    "- Invariant four lepton mass\n",
    " - The invariant mass $m_{inv}(l_1, l_2, l_3, l_4)$ of the four leptons is extremly sensitive to Higgs boson events. This variable is to be displayed later and thus not used for training\n",
    " - Variable name: lep_m_llll\n",
    "- Invariant two lepton mass\n",
    " - Invariant masses $m_{inv}(l_i, l_j)$ of all combinations of two leptons\n",
    " - Variable names: lep_m_ll_12, lep_m_ll_13, lep_m_ll_14, lep_m_ll_23, lep_m_ll_24, lep_m_ll_34\n",
    "- Transverse momentum of the leptons\n",
    " - The momentum in the plane transverse to the beam axis\n",
    " - Variable names: lep1_pt, lep2_pt, lep3_pt, lep4_pt\n",
    "- Lepton azimuthal angle\n",
    " - The azimuthal angle $\\phi$ is measured in the plane transverse to the beam axis\n",
    " - Variable name: lep1_phi, lep2_phi, lep3_phi, lep4_phi\n",
    "- Lepton pseudo rapidity\n",
    " - The angle $\\theta$ is measured between the lepton track and the beam axis. Since this angle is not invariant against boosts along the beam axis, the pseudo rapidity $\\eta = - \\ln{\\tan{\\frac{\\theta}{2}}}$ is primarily used in the ATLAS analyses\n",
    " - Variable names: lep1_eta, lep2_eta, lep3_eta, lep4_eta\n",
    "- Lepton energy\n",
    " - The energy of the leptons reconstructed from the calorimeter entries\n",
    " - Variable name:lep1_e, lep2_e, lep3_e, lep4_e\n",
    "- Lepton PDG-ID\n",
    " - The lepton type is classified by a n umber given by the Particle-Data-Group. The lepton types are $pdg-id(e)=11$, $pdg-id(\\mu)=13$ and $pdg-id(\\tau)=15$\n",
    " - Variable name: lep1_pdgId, lep2_pdgId, lep3_pdgId, lep4_pdgId\n",
    "- Lepton charge\n",
    " - The charge of the given lepton reconstructed by the lepton track\n",
    " - Variable name: lep1_charge, lep2_charge, lep3_charge, lep4_charge"
   ]
  },
  {
   "cell_type": "markdown",
   "id": "9a7d2bda",
   "metadata": {},
   "source": [
    "### Event Pre-Selection"
   ]
  },
  {
   "cell_type": "markdown",
   "id": "facd6d51",
   "metadata": {},
   "source": [
    "Although the final selection of the data is to be performed on the basis of a DNN, a rough pre-selection of the data is still useful.\n",
    "For this purpose, selection criteria are defined, which return either true or false based on the event kinematics and thus decide whether the respective event is kept or discarded.\n",
    "Suitable criteria for this analysis are very basic selections that must be clearly fulfilled by H->ZZ->llll processes.\n",
    "\n",
    "\n",
    "Hint: What lepton types and charges are expected in the final state?"
   ]
  },
  {
   "cell_type": "code",
   "execution_count": 19,
   "id": "ffa57853",
   "metadata": {},
   "outputs": [],
   "source": [
    "def cut_lep_type(lep_type_0, lep_type_1, lep_type_2, lep_type_3):\n",
    "    # Only keep events like eeee, mumumumu or eemumu\n",
    "    sum_lep_type = lep_type_0 + lep_type_1 + lep_type_2 + lep_type_3\n",
    "    return sum_lep_type == 44 or sum_lep_type == 48 or sum_lep_type == 52\n",
    "\n",
    "\n",
    "def cut_lep_charge(lep_charge_0, lep_charge_1, lep_charge_2, lep_charge_3):\n",
    "    # Only keep events where the sum of all lepton charges is zero\n",
    "    sum_lep_charge = lep_charge_0 + lep_charge_1 + lep_charge_2 + lep_charge_3\n",
    "    return sum_lep_charge == 0"
   ]
  },
  {
   "cell_type": "code",
   "execution_count": 20,
   "id": "13fc29db",
   "metadata": {},
   "outputs": [],
   "source": [
    "# Create a copy of the original data frame to investigate later\n",
    "data_frames = no_selection_data_frames.copy()\n",
    "\n",
    "# Apply the chosen selection criteria\n",
    "for sample in sample_list_signal + sample_list_background:\n",
    "    # Selection on lepton type\n",
    "    type_selection = np.vectorize(cut_lep_type)(\n",
    "        data_frames[sample].lep1_pdgId,\n",
    "        data_frames[sample].lep2_pdgId,\n",
    "        data_frames[sample].lep3_pdgId,\n",
    "        data_frames[sample].lep4_pdgId)\n",
    "    data_frames[sample] = data_frames[sample][type_selection]\n",
    "\n",
    "    # Selection on lepton charge\n",
    "    charge_selection = np.vectorize(cut_lep_charge)(\n",
    "        data_frames[sample].lep1_charge,\n",
    "        data_frames[sample].lep2_charge,\n",
    "        data_frames[sample].lep3_charge,\n",
    "        data_frames[sample].lep4_charge)\n",
    "    data_frames[sample] = data_frames[sample][charge_selection]"
   ]
  },
  {
   "cell_type": "markdown",
   "id": "94202a44",
   "metadata": {},
   "source": [
    "### Data Investigation"
   ]
  },
  {
   "cell_type": "markdown",
   "id": "7e11cc8e",
   "metadata": {},
   "source": [
    "Before one can decide which variables are suitable for training, one must first get a feel for the input variables.\n",
    "For this purpose, the input samples are merged into a set of signal events and a set of background events. Afterwards, the behavior of signal and background can be studied in multiple variables."
   ]
  },
  {
   "cell_type": "code",
   "execution_count": 21,
   "id": "591b7e64",
   "metadata": {},
   "outputs": [
    {
     "name": "stdout",
     "output_type": "stream",
     "text": [
      "ggH125_ZZ4lep:\n",
      "Total number of events: 8.7\n",
      "Negative raw events: 0.21%\n",
      "Negative events: 0.22%\n",
      "\n",
      "VBFH125_ZZ4lep:\n",
      "Total number of events: 0.78\n",
      "Negative raw events: 0.18%\n",
      "Negative events: 0.19%\n",
      "\n",
      "WH125_ZZ4lep:\n",
      "Total number of events: 0.22\n",
      "Negative raw events: 0.0%\n",
      "Negative events: 0.0%\n",
      "\n",
      "ZH125_ZZ4lep:\n",
      "Total number of events: 0.0\n",
      "Negative raw events: 0.0%\n",
      "Negative events: 0.0%\n",
      "\n",
      "llll:\n",
      "Total number of events: 266.55\n",
      "Negative raw events: 10.36%\n",
      "Negative events: 32.17%\n",
      "\n",
      "Zee:\n",
      "Total number of events: 43.42\n",
      "Negative raw events: 5.76%\n",
      "Negative events: 8.49%\n",
      "\n",
      "Zmumu:\n",
      "Total number of events: 52.33\n",
      "Negative raw events: 1.95%\n",
      "Negative events: 2.1%\n",
      "\n",
      "ttbar_lep:\n",
      "Total number of events: 28.31\n",
      "Negative raw events: 0.0%\n",
      "Negative events: 0.0%\n",
      "\n"
     ]
    }
   ],
   "source": [
    "# Merge the signal and background data frames\n",
    "def merge_data_frames(sample_list, data_frames_dic):\n",
    "    for sample in sample_list:\n",
    "        if sample == sample_list[0]:\n",
    "            output_data_frame = data_frames_dic[sample]\n",
    "        else:\n",
    "            output_data_frame = pd.concat([output_data_frame, data_frames_dic[sample]], axis=0)\n",
    "        print(f'{sample}:')\n",
    "        n_events = sum(data_frames_dic[sample]['totalWeight'])\n",
    "        n_events_raw = len(data_frames_dic[sample]['totalWeight'])\n",
    "        n_events_neg = sum(data_frames_dic[sample]['totalWeight'] * (data_frames_dic[sample]['totalWeight'] < 0))\n",
    "        n_events_neg_raw = sum(list(data_frames_dic[sample]['totalWeight'] < 0))\n",
    "        print(f'Total number of events: {round(n_events, 2)}')\n",
    "        print(f'Negative raw events: {round(100 * n_events_neg_raw / n_events_raw, 2)}%')\n",
    "        print(f'Negative events: {abs(round(100 * n_events_neg / n_events, 2))}%')\n",
    "        print()\n",
    "    return output_data_frame\n",
    "\n",
    "data_frame_signal = merge_data_frames(sample_list_signal, data_frames)\n",
    "data_frame_background = merge_data_frames(sample_list_background, data_frames)"
   ]
  },
  {
   "cell_type": "markdown",
   "id": "2906682a",
   "metadata": {},
   "source": [
    "The function common.plot_hist(variable, data_frame_1, data_frame_2) plots the given variable of the two data sets.\n",
    "The variable must be a dictionary containing atleast the variable to plot. Additionally one can also specify the binning (list or numpy array) and the xlabel. The created histogram is automatically saved in the plots directory<br>\n",
    "An example for the transverse momnetum of the leading lepton is given below:"
   ]
  },
  {
   "cell_type": "code",
   "execution_count": 22,
   "id": "8ae8494b",
   "metadata": {
    "scrolled": true
   },
   "outputs": [
    {
     "data": {
      "image/png": "[encoded data removed]",
      "text/plain": [
       "<Figure size 504x504 with 1 Axes>"
      ]
     },
     "metadata": {
      "needs_background": "light"
     },
     "output_type": "display_data"
    },
    {
     "data": {
      "image/png": "[encoded data removed]",
      "text/plain": [
       "<Figure size 504x504 with 2 Axes>"
      ]
     },
     "metadata": {
      "needs_background": "light"
     },
     "output_type": "display_data"
    }
   ],
   "source": [
    "# leading lepton pt\n",
    "var_lep1_pt = {'variable': 'lep1_pt',\n",
    "               'binning': np.linspace(0, 300, 100),\n",
    "               'xlabel': '$p_T$ (lep 1) [GeV]'}\n",
    "\n",
    "common.plot_hist_sum(var_lep1_pt, data_frames)\n",
    "common.plot_normed_signal_vs_background(var_lep1_pt, data_frame_signal, data_frame_background)"
   ]
  },
  {
   "cell_type": "markdown",
   "id": "a38a5a5e",
   "metadata": {},
   "source": [
    "Investigate the signal vs background ratio before the training"
   ]
  },
  {
   "cell_type": "code",
   "execution_count": 23,
   "id": "b7415e53",
   "metadata": {
    "scrolled": false
   },
   "outputs": [
    {
     "name": "stdout",
     "output_type": "stream",
     "text": [
      "370040 524791\n",
      "There are 9.7 signal and 390.61 backgound events\n",
      " This gives us a purity of 2.48%\n"
     ]
    }
   ],
   "source": [
    "signal_event_number = sum(data_frame_signal.totalWeight)\n",
    "background_event_number = sum(data_frame_background.totalWeight)\n",
    "signal_background_ratio = signal_event_number/background_event_number\n",
    "print(len(data_frame_signal.totalWeight), len(data_frame_background.totalWeight))\n",
    "print(f'There are {round(signal_event_number, 2)} signal and {round(background_event_number, 2)} backgound events\\n This gives us a purity of {round(signal_background_ratio*100, 2)}%')"
   ]
  },
  {
   "cell_type": "markdown",
   "id": "a74ea3bc",
   "metadata": {},
   "source": [
    "## Training"
   ]
  },
  {
   "cell_type": "markdown",
   "id": "254918e6",
   "metadata": {},
   "source": [
    "In this chapter, the DNN is trained. Define the input variables for the classification. Feel free to test different combinations of low-level and high-level variables. Additionally, you can modify the structure of the DNN to gain optimal training results. When the setup is done, train the DNN, test it and redo this until you are happy with the result."
   ]
  },
  {
   "cell_type": "code",
   "execution_count": 52,
   "id": "ac0e9914",
   "metadata": {},
   "outputs": [],
   "source": [
    "# The training input variables\n",
    "training_variables = ['lep1_pt', 'lep2_pt', 'lep3_pt', 'lep4_pt']\n",
    "training_variables += ['lep1_charge', 'lep2_charge', 'lep3_charge', 'lep4_charge']\n",
    "training_variables += ['lep1_pdgId', 'lep2_pdgId', 'lep3_pdgId', 'lep4_pdgId']\n",
    "training_variables += ['lep1_phi', 'lep2_phi', 'lep3_phi', 'lep4_phi']\n",
    "training_variables += ['lep1_eta', 'lep2_eta', 'lep3_eta', 'lep4_eta']\n",
    "training_variables += ['lep_m_ll_12', 'lep_m_ll_13', 'lep_m_ll_14', 'lep_m_ll_23', 'lep_m_ll_24', 'lep_m_ll_34']"
   ]
  },
  {
   "cell_type": "code",
   "execution_count": 78,
   "id": "5a528eaf",
   "metadata": {},
   "outputs": [],
   "source": [
    "# Create the training input\n",
    "values = []\n",
    "weights = []\n",
    "classification = []\n",
    "for sample in sample_list_signal + sample_list_background:\n",
    "    # Classify signal and background (and skip if data)\n",
    "    if sample in sample_list_signal:\n",
    "        # 1 if signal\n",
    "        classification.append(np.ones(len(data_frames[sample])))\n",
    "    elif sample in sample_list_background:\n",
    "        # 0 if background\n",
    "        classification.append(np.zeros(len(data_frames[sample])))\n",
    "    else:\n",
    "        continue\n",
    "    # input values\n",
    "    values.append(data_frames[sample][training_variables])\n",
    "    weights.append(data_frames[sample]['totalWeight'])\n",
    "\n",
    "# Merge the input\n",
    "values = np.concatenate(values)\n",
    "weights = np.concatenate(weights)\n",
    "classification = np.concatenate(classification)"
   ]
  },
  {
   "cell_type": "markdown",
   "id": "6466faa7",
   "metadata": {},
   "source": [
    "The data set is split in a training, test and validation set. To have enough data to train use a splitting of 80%:10%:10%"
   ]
  },
  {
   "cell_type": "code",
   "execution_count": 79,
   "id": "4f0035b0",
   "metadata": {},
   "outputs": [],
   "source": [
    "from sklearn.model_selection import train_test_split"
   ]
  },
  {
   "cell_type": "code",
   "execution_count": 80,
   "id": "8138d55c",
   "metadata": {},
   "outputs": [],
   "source": [
    "def reweight_weights(weights, classification):\n",
    "    weights_signal = weights*classification\n",
    "    weights_background = weights*(1 - classification)\n",
    "    weights_correction = sum(weights_background) / sum(weights_signal)\n",
    "    weights_reweighted = weights_background + weights_signal * weights_correction\n",
    "    return weights_reweighted"
   ]
  },
  {
   "cell_type": "code",
   "execution_count": 81,
   "id": "bd8a4906",
   "metadata": {},
   "outputs": [],
   "source": [
    "# Train data\n",
    "train_values, test_val_values, train_classification, test_val_classification = train_test_split(values, classification, test_size=0.2, random_state=420)\n",
    "train_weights, test_val_weights = train_test_split(weights, classification, test_size=0.2, random_state=420)[:2]\n",
    "\n",
    "# Test and validation data\n",
    "test_values, val_values, test_classification, val_classification = train_test_split(test_val_values, test_val_classification, test_size=0.5, random_state=420)\n",
    "test_weights, val_weights = train_test_split(test_val_weights, test_val_classification, test_size=0.5, random_state=420)[:2]\n",
    "\n",
    "# Get reweighted weights\n",
    "train_weights_reweighted = reweight_weights(train_weights, train_classification)\n",
    "test_weights_reweighted = reweight_weights(test_weights, test_classification)\n",
    "val_weights_reweighted = reweight_weights(val_weights, val_classification)"
   ]
  },
  {
   "cell_type": "code",
   "execution_count": 82,
   "id": "f1cf62dc",
   "metadata": {},
   "outputs": [],
   "source": [
    "# Import the tensorflow module to create a DNN\n",
    "\n",
    "import tensorflow as tf\n",
    "import pandas as pd\n",
    "from tensorflow.python.framework.ops import disable_eager_execution\n",
    "\n",
    "disable_eager_execution()"
   ]
  },
  {
   "cell_type": "markdown",
   "id": "467e845a",
   "metadata": {},
   "source": [
    "Create you DNN consisting of several layers. \n",
    "\n",
    "A full list of layer types can be found here https://www.tensorflow.org/api_docs/python/tf/keras/layers <br>\n",
    "Some important examples for layers are:\n",
    "- Dense: a densely connected NN layer\n",
    "- Flatten: flattens the input\n",
    "- Dropout: randomly sets input to 0. Can decrease overtraining\n",
    "\n",
    "The neurons of each layer are activated by the so called activation function. <br>\n",
    "A full list of provided activation functions can be found here https://www.tensorflow.org/api_docs/python/tf/keras/activations <br>\n",
    "Some examples are:\n",
    "- linear: $linear(x) = x$\n",
    "- relu: linear for $x>0$ ($relu(x) = max(0, x)$)\n",
    "- exponential: $exponential(x) = e^x$\n",
    "- sigmoid: $sigmoid(x) = 1 / (1 + e^{-x})$\n",
    "\n",
    "To classify background and signal the last layer should only consist of one neuron which has an activation between 0 and 1"
   ]
  },
  {
   "cell_type": "markdown",
   "id": "ccc51261",
   "metadata": {},
   "source": [
    "<b> SCALE INPUT VARIABLES! (with sklearn) </b>\n",
    "\n",
    "What about the initialization of the weights?"
   ]
  },
  {
   "cell_type": "code",
   "execution_count": 83,
   "id": "541ee86d",
   "metadata": {},
   "outputs": [],
   "source": [
    "def get_model(n_layers, n_nodes):\n",
    "    model_layers = [tf.keras.layers.Normalization(mean=0, variance=1)]\n",
    "    for i_layer in range(n_layers):\n",
    "        model_layers.append(tf.keras.layers.Dense(n_nodes, activation='relu'))\n",
    "    model_layers.append(tf.keras.layers.Dense(1, activation='sigmoid'))\n",
    "    model = tf.keras.models.Sequential(model_layers)\n",
    "    return model"
   ]
  },
  {
   "cell_type": "code",
   "execution_count": 84,
   "id": "241de309",
   "metadata": {
    "scrolled": true
   },
   "outputs": [],
   "source": [
    "n_layers = [2, 4, 6, 8]\n",
    "n_nodes = [5, 10, 15, 20, 30, 40]\n",
    "model = get_model(4, 200)"
   ]
  },
  {
   "cell_type": "code",
   "execution_count": 124,
   "id": "b80e881c",
   "metadata": {},
   "outputs": [],
   "source": [
    "models = {}\n",
    "hyper_parameters = [(1,10), (2, 20), (2,100), (4,200), (10, 400)]\n",
    "\n",
    "for (n_layers, n_nodes) in hyper_parameters:\n",
    "    model_name = f'dnn_{str(n_layers)}_{str(n_nodes)}'\n",
    "    models[model_name] = {'model': get_model(n_layers, n_nodes)}"
   ]
  },
  {
   "cell_type": "markdown",
   "id": "08bb5240",
   "metadata": {},
   "source": [
    "While training, the parameters of the neural network are modified to increase the agreement between the classification of the training data by the neural network and the actual splitting in signal and background. \n",
    "The agreement is specified by a loss-function, which decreses with increasing agreement. Analogous to a Chi2 fit, the fit to the training data is done by determining the minimum of the loss-function. The choice of the specific loss-function has to be adapted to the problem the neural network has to solve. <br>\n",
    "\n",
    "The list of available loss-functions are listed here https://www.tensorflow.org/api_docs/python/tf/keras/losses\n",
    "For the binary (0 or 1) classification problem of the signal background separation the BinaryCrossentropy is used. <br>\n",
    "<b> Give more information!!! </b>"
   ]
  },
  {
   "cell_type": "code",
   "execution_count": 125,
   "id": "4fe2b485",
   "metadata": {},
   "outputs": [],
   "source": [
    "loss_fn = tf.keras.losses.BinaryCrossentropy(from_logits=False)"
   ]
  },
  {
   "cell_type": "markdown",
   "id": "8535bcb1",
   "metadata": {},
   "source": [
    "For the optimization of the loss-function different optimization algorithms can be used (see https://www.tensorflow.org/api_docs/python/tf/keras/optimizers). <br>\n",
    "The performance of the learning process is given by the metric (see https://www.tensorflow.org/api_docs/python/tf/keras/metrics)"
   ]
  },
  {
   "cell_type": "markdown",
   "id": "14ed49f9",
   "metadata": {},
   "source": [
    "model.compile(optimizer='adam',\n",
    "              loss=loss_fn,\n",
    "              weighted_metrics=['binary_accuracy'])"
   ]
  },
  {
   "cell_type": "code",
   "execution_count": 126,
   "id": "c60c5f74",
   "metadata": {},
   "outputs": [],
   "source": [
    "for model_name in models:\n",
    "    models[model_name]['model'].compile(optimizer='adam',\n",
    "                                        loss=loss_fn,\n",
    "                                        weighted_metrics=['binary_accuracy'])"
   ]
  },
  {
   "cell_type": "markdown",
   "id": "84a39a2b",
   "metadata": {},
   "source": [
    "early stopping?"
   ]
  },
  {
   "cell_type": "code",
   "execution_count": 127,
   "id": "60823bf4",
   "metadata": {},
   "outputs": [],
   "source": [
    "early_stopping = tf.keras.callbacks.EarlyStopping(monitor='val_loss', patience=3)"
   ]
  },
  {
   "cell_type": "markdown",
   "id": "2f98156b",
   "metadata": {
    "scrolled": false
   },
   "source": [
    "fit_history = model.fit(train_values, train_classification, sample_weight=np.abs(train_weights_reweighted), validation_data=(test_values, test_classification, np.abs(test_weights_reweighted)), callbacks=[early_stopping], epochs=40)"
   ]
  },
  {
   "cell_type": "code",
   "execution_count": 128,
   "id": "3b29dc6f",
   "metadata": {},
   "outputs": [
    {
     "name": "stdout",
     "output_type": "stream",
     "text": [
      "Start training for dnn_1_10:\n",
      "Train on 715864 samples, validate on 89483 samples\n",
      "Epoch 1/40\n",
      "715864/715864 [==============================] - 23s 33us/sample - loss: 6.0133e-04 - binary_accuracy: 0.7793 - val_loss: 4.1903e-04 - val_binary_accuracy: 0.8439\n",
      "Epoch 2/40\n",
      "715864/715864 [==============================] - 29s 41us/sample - loss: 2.9671e-04 - binary_accuracy: 0.8930 - val_loss: 2.3338e-04 - val_binary_accuracy: 0.9185\n",
      "Epoch 3/40\n",
      "715864/715864 [==============================] - 22s 30us/sample - loss: 2.4038e-04 - binary_accuracy: 0.9168 - val_loss: 2.2417e-04 - val_binary_accuracy: 0.9208\n",
      "Epoch 4/40\n",
      "715864/715864 [==============================] - 22s 30us/sample - loss: 2.3007e-04 - binary_accuracy: 0.9180 - val_loss: 2.1718e-04 - val_binary_accuracy: 0.9264\n",
      "Epoch 5/40\n",
      "715864/715864 [==============================] - 21s 29us/sample - loss: 2.2291e-04 - binary_accuracy: 0.9245 - val_loss: 2.2679e-04 - val_binary_accuracy: 0.9285\n",
      "Epoch 6/40\n",
      "715864/715864 [==============================] - 21s 29us/sample - loss: 2.1704e-04 - binary_accuracy: 0.9268 - val_loss: 2.1651e-04 - val_binary_accuracy: 0.9236\n",
      "Epoch 7/40\n",
      "715864/715864 [==============================] - 21s 29us/sample - loss: 2.1595e-04 - binary_accuracy: 0.9276 - val_loss: 2.1168e-04 - val_binary_accuracy: 0.9281\n",
      "Epoch 8/40\n",
      "715864/715864 [==============================] - 21s 29us/sample - loss: 2.1510e-04 - binary_accuracy: 0.9253 - val_loss: 2.0893e-04 - val_binary_accuracy: 0.9293\n",
      "Epoch 9/40\n",
      "715864/715864 [==============================] - 23s 32us/sample - loss: 2.1081e-04 - binary_accuracy: 0.9298 - val_loss: 2.1708e-04 - val_binary_accuracy: 0.9321\n",
      "Epoch 10/40\n",
      "715864/715864 [==============================] - 21s 29us/sample - loss: 2.1140e-04 - binary_accuracy: 0.9284 - val_loss: 2.0445e-04 - val_binary_accuracy: 0.9382\n",
      "Epoch 11/40\n",
      "715864/715864 [==============================] - 21s 29us/sample - loss: 2.1051e-04 - binary_accuracy: 0.9288 - val_loss: 2.0278e-04 - val_binary_accuracy: 0.9301\n",
      "Epoch 12/40\n",
      "715864/715864 [==============================] - 22s 30us/sample - loss: 2.0820e-04 - binary_accuracy: 0.9304 - val_loss: 2.0351e-04 - val_binary_accuracy: 0.9284\n",
      "Epoch 13/40\n",
      "715864/715864 [==============================] - 22s 30us/sample - loss: 2.0903e-04 - binary_accuracy: 0.9292 - val_loss: 2.1278e-04 - val_binary_accuracy: 0.9300\n",
      "Epoch 14/40\n",
      "715864/715864 [==============================] - 21s 29us/sample - loss: 2.0736e-04 - binary_accuracy: 0.9288 - val_loss: 2.0961e-04 - val_binary_accuracy: 0.9257\n",
      "Start training for dnn_2_20:\n",
      "Train on 715864 samples, validate on 89483 samples\n",
      "Epoch 1/40\n",
      "715864/715864 [==============================] - 24s 34us/sample - loss: 3.7433e-04 - binary_accuracy: 0.8607 - val_loss: 2.2495e-04 - val_binary_accuracy: 0.9217\n",
      "Epoch 2/40\n",
      "715864/715864 [==============================] - 28s 40us/sample - loss: 2.5027e-04 - binary_accuracy: 0.9109 - val_loss: 2.1344e-04 - val_binary_accuracy: 0.9330\n",
      "Epoch 3/40\n",
      "715864/715864 [==============================] - 24s 34us/sample - loss: 2.3124e-04 - binary_accuracy: 0.9204 - val_loss: 2.1005e-04 - val_binary_accuracy: 0.9288\n",
      "Epoch 4/40\n",
      "715864/715864 [==============================] - 24s 34us/sample - loss: 2.2282e-04 - binary_accuracy: 0.9202 - val_loss: 2.0030e-04 - val_binary_accuracy: 0.9323\n",
      "Epoch 5/40\n",
      "715864/715864 [==============================] - 24s 33us/sample - loss: 2.1233e-04 - binary_accuracy: 0.9269 - val_loss: 1.9577e-04 - val_binary_accuracy: 0.9325\n",
      "Epoch 6/40\n",
      "715864/715864 [==============================] - 24s 34us/sample - loss: 2.1260e-04 - binary_accuracy: 0.9262 - val_loss: 1.8876e-04 - val_binary_accuracy: 0.9285\n",
      "Epoch 7/40\n",
      "715864/715864 [==============================] - 24s 33us/sample - loss: 2.0880e-04 - binary_accuracy: 0.9284 - val_loss: 1.9147e-04 - val_binary_accuracy: 0.9330\n",
      "Epoch 8/40\n",
      "715864/715864 [==============================] - 24s 33us/sample - loss: 2.0208e-04 - binary_accuracy: 0.9319 - val_loss: 1.9969e-04 - val_binary_accuracy: 0.9327\n",
      "Epoch 9/40\n",
      "715864/715864 [==============================] - 24s 33us/sample - loss: 2.0299e-04 - binary_accuracy: 0.9300 - val_loss: 2.0062e-04 - val_binary_accuracy: 0.9300\n",
      "Start training for dnn_2_100:\n",
      "Train on 715864 samples, validate on 89483 samples\n",
      "Epoch 1/40\n",
      "715864/715864 [==============================] - 28s 39us/sample - loss: 3.3343e-04 - binary_accuracy: 0.8911 - val_loss: 2.2272e-04 - val_binary_accuracy: 0.9194\n",
      "Epoch 2/40\n",
      "715864/715864 [==============================] - 26s 36us/sample - loss: 2.4783e-04 - binary_accuracy: 0.9135 - val_loss: 2.1852e-04 - val_binary_accuracy: 0.9236\n",
      "Epoch 3/40\n",
      "715864/715864 [==============================] - 29s 41us/sample - loss: 2.3588e-04 - binary_accuracy: 0.9195 - val_loss: 2.1148e-04 - val_binary_accuracy: 0.9225\n",
      "Epoch 4/40\n",
      "715864/715864 [==============================] - 44s 61us/sample - loss: 2.2773e-04 - binary_accuracy: 0.9250 - val_loss: 2.2515e-04 - val_binary_accuracy: 0.9294\n",
      "Epoch 5/40\n",
      "715864/715864 [==============================] - 30s 42us/sample - loss: 2.2618e-04 - binary_accuracy: 0.9225 - val_loss: 1.8999e-04 - val_binary_accuracy: 0.9343\n",
      "Epoch 6/40\n",
      "715864/715864 [==============================] - 26s 36us/sample - loss: 2.1839e-04 - binary_accuracy: 0.9281 - val_loss: 2.0462e-04 - val_binary_accuracy: 0.9295\n",
      "Epoch 7/40\n",
      "715864/715864 [==============================] - 26s 37us/sample - loss: 2.1423e-04 - binary_accuracy: 0.9305 - val_loss: 2.0267e-04 - val_binary_accuracy: 0.9347\n",
      "Epoch 8/40\n",
      "715864/715864 [==============================] - 32s 44us/sample - loss: 2.1112e-04 - binary_accuracy: 0.9295 - val_loss: 1.8188e-04 - val_binary_accuracy: 0.9394\n",
      "Epoch 9/40\n",
      "715864/715864 [==============================] - 30s 42us/sample - loss: 2.1273e-04 - binary_accuracy: 0.9279 - val_loss: 2.0780e-04 - val_binary_accuracy: 0.9370\n",
      "Epoch 10/40\n",
      "715864/715864 [==============================] - 26s 36us/sample - loss: 2.0897e-04 - binary_accuracy: 0.9325 - val_loss: 6.1070e-04 - val_binary_accuracy: 0.7564\n",
      "Epoch 11/40\n",
      "715864/715864 [==============================] - 26s 37us/sample - loss: 2.0968e-04 - binary_accuracy: 0.9306 - val_loss: 1.7937e-04 - val_binary_accuracy: 0.9398\n",
      "Epoch 12/40\n",
      "715864/715864 [==============================] - 28s 40us/sample - loss: 2.0652e-04 - binary_accuracy: 0.9315 - val_loss: 3.3069e-04 - val_binary_accuracy: 0.8732\n",
      "Epoch 13/40\n",
      "715864/715864 [==============================] - 27s 38us/sample - loss: 1.9587e-04 - binary_accuracy: 0.9341 - val_loss: 2.2059e-04 - val_binary_accuracy: 0.9240\n",
      "Epoch 14/40\n",
      "715864/715864 [==============================] - 26s 36us/sample - loss: 2.0103e-04 - binary_accuracy: 0.9321 - val_loss: 2.0020e-04 - val_binary_accuracy: 0.9300\n",
      "Start training for dnn_4_200:\n",
      "Train on 715864 samples, validate on 89483 samples\n",
      "Epoch 1/40\n",
      "715864/715864 [==============================] - 53s 74us/sample - loss: 3.6233e-04 - binary_accuracy: 0.8652 - val_loss: 2.3867e-04 - val_binary_accuracy: 0.9234\n",
      "Epoch 2/40\n",
      "715864/715864 [==============================] - 52s 73us/sample - loss: 2.8824e-04 - binary_accuracy: 0.9034 - val_loss: 6.2301e-04 - val_binary_accuracy: 0.7355\n",
      "Epoch 3/40\n",
      "715864/715864 [==============================] - 62s 86us/sample - loss: 2.5830e-04 - binary_accuracy: 0.9161 - val_loss: 2.8528e-04 - val_binary_accuracy: 0.9174\n",
      "Epoch 4/40\n",
      "715864/715864 [==============================] - 58s 82us/sample - loss: 2.6159e-04 - binary_accuracy: 0.9168 - val_loss: 2.5147e-04 - val_binary_accuracy: 0.9226\n",
      "Start training for dnn_10_400:\n",
      "Train on 715864 samples, validate on 89483 samples\n",
      "Epoch 1/40\n",
      "715864/715864 [==============================] - 203s 283us/sample - loss: 4.2649e-04 - binary_accuracy: 0.8237 - val_loss: 2.8299e-04 - val_binary_accuracy: 0.9186\n",
      "Epoch 2/40\n",
      "715864/715864 [==============================] - 210s 293us/sample - loss: 2.9702e-04 - binary_accuracy: 0.8999 - val_loss: 2.2216e-04 - val_binary_accuracy: 0.9254\n",
      "Epoch 3/40\n",
      "715864/715864 [==============================] - 198s 277us/sample - loss: 3.1812e-04 - binary_accuracy: 0.8899 - val_loss: 2.4102e-04 - val_binary_accuracy: 0.9086\n",
      "Epoch 4/40\n",
      "715864/715864 [==============================] - 202s 282us/sample - loss: 2.9146e-04 - binary_accuracy: 0.9075 - val_loss: 2.6537e-04 - val_binary_accuracy: 0.9203\n"
     ]
    },
    {
     "name": "stdout",
     "output_type": "stream",
     "text": [
      "Epoch 5/40\n",
      "715864/715864 [==============================] - 163s 227us/sample - loss: 2.9843e-04 - binary_accuracy: 0.9032 - val_loss: 2.4153e-04 - val_binary_accuracy: 0.9278\n"
     ]
    }
   ],
   "source": [
    "for model_name in models:\n",
    "    print(f'Start training for {model_name}:')\n",
    "    history = models[model_name]['model'].fit(train_values, train_classification, sample_weight=np.abs(train_weights_reweighted), validation_data=(test_values, test_classification, np.abs(test_weights_reweighted)), callbacks=[early_stopping], epochs=40)\n",
    "    models[model_name]['history'] = history"
   ]
  },
  {
   "cell_type": "code",
   "execution_count": 135,
   "id": "ba07b18c",
   "metadata": {},
   "outputs": [
    {
     "data": {
      "image/png": "[encoded data removed]",
      "text/plain": [
       "<Figure size 432x288 with 1 Axes>"
      ]
     },
     "metadata": {
      "needs_background": "light"
     },
     "output_type": "display_data"
    }
   ],
   "source": [
    "color_list = ['red', 'orange', 'blue', 'peru', 'purple', 'lime', 'cyan']\n",
    "model_list = list(models.keys())\n",
    "model_colors = {}\n",
    "for i in range(len(models)):\n",
    "    model_name = model_list[i]\n",
    "    model_colors[model_name] = color_list[i]\n",
    "\n",
    "for model_name in models:\n",
    "    plt.plot(models[model_name]['history'].history['loss'], label=f'train data {model_name}', color=model_colors[model_name], linestyle='--')\n",
    "    plt.plot(models[model_name]['history'].history['val_loss'], label=f'test data {model_name}', color=model_colors[model_name])\n",
    "\n",
    "plt.title('model loss')\n",
    "plt.ylabel('loss')\n",
    "plt.xlabel('epoch')\n",
    "plt.legend()\n",
    "plt.savefig('plots/train_comparison.pdf')\n",
    "plt.show()"
   ]
  },
  {
   "cell_type": "markdown",
   "id": "5e7bc184",
   "metadata": {},
   "source": [
    "model.evaluate(train_values,  train_classification, sample_weight=np.abs(train_weights_reweighted), verbose=2)"
   ]
  },
  {
   "cell_type": "markdown",
   "id": "7c44b33d",
   "metadata": {},
   "source": [
    "model.evaluate(test_values,  test_classification, sample_weight=np.abs(test_weights_reweighted), verbose=2)"
   ]
  },
  {
   "cell_type": "code",
   "execution_count": 130,
   "id": "fc14e1eb",
   "metadata": {},
   "outputs": [
    {
     "name": "stdout",
     "output_type": "stream",
     "text": [
      "evaluated dnn_1_10: [0.00020961426517202356, 0.9257027]\n",
      "evaluated dnn_2_20: [0.00020062069526440333, 0.92997605]\n",
      "evaluated dnn_2_100: [0.00020019802963625892, 0.9300293]\n",
      "evaluated dnn_4_200: [0.0002514727622528456, 0.92255884]\n",
      "evaluated dnn_10_400: [0.0002415304702312614, 0.9278346]\n"
     ]
    }
   ],
   "source": [
    "for model_name in models:\n",
    "    evaluation = models[model_name]['model'].evaluate(test_values,  test_classification, sample_weight=np.abs(test_weights_reweighted), verbose=2)\n",
    "    print(f'evaluated {model_name}: {evaluation}')"
   ]
  },
  {
   "cell_type": "code",
   "execution_count": null,
   "id": "ecff45b5",
   "metadata": {},
   "outputs": [],
   "source": []
  },
  {
   "cell_type": "markdown",
   "id": "43995bda",
   "metadata": {},
   "source": [
    "## Test the Model"
   ]
  },
  {
   "cell_type": "code",
   "execution_count": 92,
   "id": "b1e9ea20",
   "metadata": {},
   "outputs": [],
   "source": [
    "from sklearn import metrics"
   ]
  },
  {
   "cell_type": "code",
   "execution_count": 93,
   "id": "9f0545f1",
   "metadata": {
    "scrolled": false
   },
   "outputs": [
    {
     "name": "stderr",
     "output_type": "stream",
     "text": [
      "/usr/local/lib/python3.9/site-packages/keras/engine/training_v1.py:2079: UserWarning: `Model.state_updates` will be removed in a future version. This property should not be used in TensorFlow 2.0, as `updates` are applied automatically.\n",
      "  updates=self.state_updates,\n"
     ]
    }
   ],
   "source": [
    "# Prediction for test sample\n",
    "test_prediction = model.predict(test_values)"
   ]
  },
  {
   "cell_type": "code",
   "execution_count": 94,
   "id": "fdd1ac0b",
   "metadata": {
    "scrolled": true
   },
   "outputs": [
    {
     "data": {
      "text/plain": [
       "<matplotlib.legend.Legend at 0x14a3ac7f0>"
      ]
     },
     "execution_count": 94,
     "metadata": {},
     "output_type": "execute_result"
    },
    {
     "data": {
      "image/png": "[encoded data removed]",
      "text/plain": [
       "<Figure size 432x288 with 1 Axes>"
      ]
     },
     "metadata": {
      "needs_background": "light"
     },
     "output_type": "display_data"
    }
   ],
   "source": [
    "roc_weighted = metrics.roc_curve(test_classification, test_prediction, sample_weight=np.abs(test_weights_reweighted))\n",
    "roc = metrics.roc_curve(test_classification, test_prediction)\n",
    "plt.plot(roc[0], roc[1], label='unweighted')\n",
    "plt.plot(roc_weighted[0], roc_weighted[1], label='weighted')\n",
    "plt.legend(loc='best', fancybox=True, shadow=True)"
   ]
  },
  {
   "cell_type": "code",
   "execution_count": 95,
   "id": "7496c990",
   "metadata": {},
   "outputs": [
    {
     "name": "stdout",
     "output_type": "stream",
     "text": [
      "0.9724514760518272\n"
     ]
    }
   ],
   "source": [
    "auc = metrics.roc_auc_score(test_classification, test_prediction, sample_weight = np.abs(test_weights_reweighted), average='weighted')\n",
    "print(auc)"
   ]
  },
  {
   "cell_type": "markdown",
   "id": "d2c6e4a7",
   "metadata": {},
   "source": [
    "## Apply Model"
   ]
  },
  {
   "cell_type": "code",
   "execution_count": 96,
   "id": "51df5129",
   "metadata": {},
   "outputs": [
    {
     "name": "stdout",
     "output_type": "stream",
     "text": [
      "Apply Model for ggH125_ZZ4lep\n",
      "Apply Model for VBFH125_ZZ4lep\n",
      "Apply Model for WH125_ZZ4lep\n",
      "Apply Model for ZH125_ZZ4lep\n",
      "Apply Model for llll\n",
      "Apply Model for Zee\n",
      "Apply Model for Zmumu\n",
      "Apply Model for ttbar_lep\n"
     ]
    }
   ],
   "source": [
    "for sample in sample_list_signal + sample_list_background:\n",
    "    print(f'Apply Model for {sample}')\n",
    "    # Get the values to apply the model\n",
    "    data_frame_values = data_frames[sample][training_variables]\n",
    "    prediction = model.predict(data_frame_values)\n",
    "    \n",
    "    # Convert prediction to array\n",
    "    prediction = [element[0] for element in prediction]\n",
    "    \n",
    "    # Add the prediction for each sample\n",
    "    data_frames[sample]['dnn_prediction'] = prediction"
   ]
  },
  {
   "cell_type": "code",
   "execution_count": 97,
   "id": "85645a5c",
   "metadata": {},
   "outputs": [
    {
     "data": {
      "image/png": "[encoded data removed]",
      "text/plain": [
       "<Figure size 504x504 with 1 Axes>"
      ]
     },
     "metadata": {
      "needs_background": "light"
     },
     "output_type": "display_data"
    }
   ],
   "source": [
    "# Investigate DDN Prediction\n",
    "var_lep1_pt = {'variable': 'dnn_prediction',\n",
    "               'binning': np.linspace(0.2, 1, 50),\n",
    "               'xlabel': 'DNN prediction'}\n",
    "\n",
    "common.plot_hist_sum(var_lep1_pt, data_frames)"
   ]
  },
  {
   "cell_type": "code",
   "execution_count": 99,
   "id": "16315792",
   "metadata": {},
   "outputs": [
    {
     "name": "stdout",
     "output_type": "stream",
     "text": [
      "ggH125_ZZ4lep\n",
      "0.0\n",
      "VBFH125_ZZ4lep\n",
      "0.0\n",
      "WH125_ZZ4lep\n",
      "0.0\n",
      "ZH125_ZZ4lep\n",
      "0.0\n",
      "llll\n",
      "0.0\n",
      "Zee\n",
      "0.0\n",
      "Zmumu\n",
      "0.0\n",
      "ttbar_lep\n",
      "0.0\n"
     ]
    }
   ],
   "source": [
    "# Create a copy of the data frame\n",
    "apply_dnn_data_frames = data_frames.copy()\n",
    "\n",
    "# Apply the DNN value\n",
    "for sample in sample_list_signal + sample_list_background:\n",
    "    print(sample)\n",
    "    pass_dnn = apply_dnn_data_frames[sample]['dnn_prediction'] > 0.5\n",
    "    apply_dnn_data_frames[sample] = apply_dnn_data_frames[sample][pass_dnn]\n",
    "    print(len(apply_dnn_data_frames[sample])/len(data_frames[sample]))"
   ]
  },
  {
   "cell_type": "code",
   "execution_count": null,
   "id": "d56ffaea",
   "metadata": {},
   "outputs": [],
   "source": [
    "# leading lepton pt\n",
    "var_lep1_pt = {'variable': 'lep_m_llll',\n",
    "               'binning': np.linspace(0, 200, 40),\n",
    "               'xlabel': '$m_{llll}$ [GeV]'}\n",
    "\n",
    "common.plot_hist_sum(var_lep1_pt, apply_dnn_data_frames)"
   ]
  },
  {
   "cell_type": "markdown",
   "id": "eaebb200",
   "metadata": {},
   "source": [
    "# Validation"
   ]
  },
  {
   "cell_type": "code",
   "execution_count": null,
   "id": "061bfe73",
   "metadata": {},
   "outputs": [],
   "source": []
  }
 ],
 "metadata": {
  "kernelspec": {
   "display_name": "Python 3 (ipykernel)",
   "language": "python",
   "name": "python3"
  },
  "language_info": {
   "codemirror_mode": {
    "name": "ipython",
    "version": 3
   },
   "file_extension": ".py",
   "mimetype": "text/x-python",
   "name": "python",
   "nbconvert_exporter": "python",
   "pygments_lexer": "ipython3",
   "version": "3.9.14"
  }
 },
 "nbformat": 4,
 "nbformat_minor": 5
}
