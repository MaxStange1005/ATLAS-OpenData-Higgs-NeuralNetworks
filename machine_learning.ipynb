{
 "cells": [
  {
   "cell_type": "markdown",
   "id": "2081cce3",
   "metadata": {},
   "source": [
    "# Discover the Higgs with Deep Neural Networks"
   ]
  },
  {
   "cell_type": "markdown",
   "id": "060ec659",
   "metadata": {},
   "source": [
    "The input data was created from 13 TeV ATLAS open data downloaded from http://opendata.atlas.cern/release/2020/documentation/index.html\n",
    "\n",
    "For more information read:<br>\n",
    "Review of the 13 TeV ATLAS Open Data release, Techn. Ber., All figures including auxiliary figures are available at https://atlas.web.cern.ch/Atlas/GROUPS/PHYSICS/PUBNOTES/ATL-OREACH-PUB-2020-001: CERN, 2020, url: http://cds.cern.ch/record/2707171"
   ]
  },
  {
   "cell_type": "markdown",
   "id": "3e312205",
   "metadata": {},
   "source": [
    "## Data Preparation"
   ]
  },
  {
   "cell_type": "markdown",
   "id": "8f5b2349",
   "metadata": {},
   "source": [
    "### Load the Data"
   ]
  },
  {
   "cell_type": "code",
   "execution_count": 1,
   "id": "f9615674",
   "metadata": {},
   "outputs": [],
   "source": [
    "# Necessary imports\n",
    "import numpy as np\n",
    "import matplotlib.pyplot as plt\n",
    "import pandas as pd\n",
    "from numpy.random import seed\n",
    "import common"
   ]
  },
  {
   "cell_type": "markdown",
   "id": "3357ffaf",
   "metadata": {},
   "source": [
    "The goal of this lab course is to train a deep neural network to separate Higgs boson signal from background events. The most important signal sample ggH125_ZZ4lep corresponds to the process gg->H->ZZ. The dominant background sample is llll resulting from Z and ZZ decays.\n",
    "After training the DNN model will be used to classify the events of the data samples.\n",
    "\n",
    "Higgs signal samples:\n",
    "- ggH125_ZZ4lep\n",
    "- VBFH125_ZZ4lep\n",
    "- WH125_ZZ4lep\n",
    "- ZH125_ZZ4lep\n",
    "\n",
    "Background samples:\n",
    "- llll\n",
    "- Zee\n",
    "- Zmumu\n",
    "- ttbar_lep\n",
    "\n",
    "Data samples:\n",
    "- data_A\n",
    "- data_B\n",
    "- data_C\n",
    "- data_D"
   ]
  },
  {
   "cell_type": "code",
   "execution_count": 2,
   "id": "22a2ae28",
   "metadata": {},
   "outputs": [],
   "source": [
    "# Define the input samples\n",
    "sample_list_signal = ['ggH125_ZZ4lep', 'VBFH125_ZZ4lep', 'WH125_ZZ4lep', 'ZH125_ZZ4lep']\n",
    "sample_list_background = ['llll', 'Zee', 'Zmumu', 'ttbar_lep']"
   ]
  },
  {
   "cell_type": "code",
   "execution_count": 3,
   "id": "e1b2ae67",
   "metadata": {},
   "outputs": [],
   "source": [
    "# Read all the samples\n",
    "no_selection_data_frames = {}\n",
    "for sample in sample_list_signal + sample_list_background:\n",
    "    no_selection_data_frames[sample] = pd.read_csv('input/' + sample + \".csv\")"
   ]
  },
  {
   "cell_type": "markdown",
   "id": "27a1549c",
   "metadata": {},
   "source": [
    "### Input Variables"
   ]
  },
  {
   "cell_type": "markdown",
   "id": "fe06218b",
   "metadata": {},
   "source": [
    "The input provides several variables to classify the events. Since each event has multiple leptons, they were ordered in descending order based on their transverse momentum. Thus, lepton 1 has the highest transverse momentum, lepton 2 the second highest, and so on. <br>\n",
    "Most of the given variables can be called low-level, because they represent event or object properties, which can be derived directly from the reconstruction in the detector. In contrast to this are high-level variables, which result from the combination of several low-level variables. In the given dataset the only high-level variables are invariant masses of multiple particles:<br>\n",
    "$m_{inv} = \\sqrt{\\left(\\sum\\limits_{i=1}^{n} E_i\\right)^2 - \\left(\\sum\\limits_{i=1}^{n} \\vec{p}_i\\right)^2}$\n",
    "\n",
    "\n",
    "List of all available variables:<br>\n",
    "- Event number\n",
    " - Each simulated event has its own specific number. (not used for training)\n",
    " - Variable name: eventNumber\n",
    "- Scale and event weight\n",
    " - The scaling for a data set is given by the sum of event weights, the cross section, luminosity and a efficiency scale factor\n",
    " - Each event has an additional specific event weight\n",
    " - To combine simulated events and finally compare them to data each event has to be scaled by the total weight, the product of scale weight and event weight\n",
    " - The weight are not used for training\n",
    " - Variable name: scaleWeight, eventWeight, totalWeight\n",
    "- Number of jets\n",
    " - Jets are particle showers which result primarily from quarks and gluons\n",
    " - Variable name: jet_n\n",
    "- Invariant four lepton mass\n",
    " - The invariant mass $m_{inv}(l_1, l_2, l_3, l_4)$ of the four leptons is extremly sensitive to Higgs boson events. This variable is to be displayed later and thus not used for training\n",
    " - Variable name: lep_m_llll\n",
    "- Invariant two lepton mass\n",
    " - Invariant masses $m_{inv}(l_i, l_j)$ of all combinations of two leptons\n",
    " - Variable names: lep_m_ll_12, lep_m_ll_13, lep_m_ll_14, lep_m_ll_23, lep_m_ll_24, lep_m_ll_34\n",
    "- Transverse momentum of the leptons\n",
    " - The momentum in the plane transverse to the beam axis\n",
    " - Variable names: lep1_pt, lep2_pt, lep3_pt, lep4_pt\n",
    "- Lepton azimuthal angle\n",
    " - The azimuthal angle $\\phi$ is measured in the plane transverse to the beam axis\n",
    " - Variable name: lep1_phi, lep2_phi, lep3_phi, lep4_phi\n",
    "- Lepton pseudo rapidity\n",
    " - The angle $\\theta$ is measured between the lepton track and the beam axis. Since this angle is not invariant against boosts along the beam axis, the pseudo rapidity $\\eta = - \\ln{\\tan{\\frac{\\theta}{2}}}$ is primarily used in the ATLAS analyses\n",
    " - Variable names: lep1_eta, lep2_eta, lep3_eta, lep4_eta\n",
    "- Lepton energy\n",
    " - The energy of the leptons reconstructed from the calorimeter entries\n",
    " - Variable name:lep1_e, lep2_e, lep3_e, lep4_e\n",
    "- Lepton PDG-ID\n",
    " - The lepton type is classified by a n umber given by the Particle-Data-Group. The lepton types are $pdg-id(e)=11$, $pdg-id(\\mu)=13$ and $pdg-id(\\tau)=15$\n",
    " - Variable name: lep1_pdgId, lep2_pdgId, lep3_pdgId, lep4_pdgId\n",
    "- Lepton charge\n",
    " - The charge of the given lepton reconstructed by the lepton track\n",
    " - Variable name: lep1_charge, lep2_charge, lep3_charge, lep4_charge"
   ]
  },
  {
   "cell_type": "markdown",
   "id": "9a7d2bda",
   "metadata": {},
   "source": [
    "### Event Pre-Selection"
   ]
  },
  {
   "cell_type": "markdown",
   "id": "facd6d51",
   "metadata": {},
   "source": [
    "Although the final selection of the data is to be performed on the basis of a DNN, a rough pre-selection of the data is still useful.\n",
    "For this purpose, selection criteria are defined, which return either true or false based on the event kinematics and thus decide whether the respective event is kept or discarded.\n",
    "Suitable criteria for this analysis are very basic selections that must be clearly fulfilled by H->ZZ->llll processes.\n",
    "\n",
    "\n",
    "Hint: What lepton types and charges are expected in the final state?"
   ]
  },
  {
   "cell_type": "code",
   "execution_count": 4,
   "id": "ffa57853",
   "metadata": {},
   "outputs": [],
   "source": [
    "def cut_lep_type(lep_type_0, lep_type_1, lep_type_2, lep_type_3):\n",
    "    # Only keep events like eeee, mumumumu or eemumu\n",
    "    sum_lep_type = lep_type_0 + lep_type_1 + lep_type_2 + lep_type_3\n",
    "    return sum_lep_type == 44 or sum_lep_type == 48 or sum_lep_type == 52\n",
    "\n",
    "\n",
    "def cut_lep_charge(lep_charge_0, lep_charge_1, lep_charge_2, lep_charge_3):\n",
    "    # Only keep events where the sum of all lepton charges is zero\n",
    "    sum_lep_charge = lep_charge_0 + lep_charge_1 + lep_charge_2 + lep_charge_3\n",
    "    return sum_lep_charge == 0"
   ]
  },
  {
   "cell_type": "code",
   "execution_count": 5,
   "id": "13fc29db",
   "metadata": {},
   "outputs": [],
   "source": [
    "# Create a copy of the original data frame to investigate later\n",
    "data_frames = no_selection_data_frames.copy()\n",
    "\n",
    "# Apply the chosen selection criteria\n",
    "for sample in sample_list_signal + sample_list_background:\n",
    "    # Selection on lepton type\n",
    "    type_selection = np.vectorize(cut_lep_type)(\n",
    "        data_frames[sample].lep1_pdgId,\n",
    "        data_frames[sample].lep2_pdgId,\n",
    "        data_frames[sample].lep3_pdgId,\n",
    "        data_frames[sample].lep4_pdgId)\n",
    "    data_frames[sample] = data_frames[sample][type_selection]\n",
    "\n",
    "    # Selection on lepton charge\n",
    "    charge_selection = np.vectorize(cut_lep_charge)(\n",
    "        data_frames[sample].lep1_charge,\n",
    "        data_frames[sample].lep2_charge,\n",
    "        data_frames[sample].lep3_charge,\n",
    "        data_frames[sample].lep4_charge)\n",
    "    data_frames[sample] = data_frames[sample][charge_selection]"
   ]
  },
  {
   "cell_type": "markdown",
   "id": "94202a44",
   "metadata": {},
   "source": [
    "### Data Investigation"
   ]
  },
  {
   "cell_type": "markdown",
   "id": "7e11cc8e",
   "metadata": {},
   "source": [
    "Before one can decide which variables are suitable for training, one must first get a feel for the input variables.\n",
    "For this purpose, the input samples are merged into a set of signal events and a set of background events. Afterwards, the behavior of signal and background can be studied in multiple variables."
   ]
  },
  {
   "cell_type": "code",
   "execution_count": 6,
   "id": "591b7e64",
   "metadata": {},
   "outputs": [
    {
     "name": "stdout",
     "output_type": "stream",
     "text": [
      "ggH125_ZZ4lep:\n",
      "Total number of events: 8.7\n",
      "Negative raw events: 0.21%\n",
      "Negative events: 0.22%\n",
      "\n",
      "VBFH125_ZZ4lep:\n",
      "Total number of events: 0.78\n",
      "Negative raw events: 0.18%\n",
      "Negative events: 0.19%\n",
      "\n",
      "WH125_ZZ4lep:\n",
      "Total number of events: 0.22\n",
      "Negative raw events: 0.0%\n",
      "Negative events: 0.0%\n",
      "\n",
      "ZH125_ZZ4lep:\n",
      "Total number of events: 0.0\n",
      "Negative raw events: 0.0%\n",
      "Negative events: 0.0%\n",
      "\n",
      "llll:\n",
      "Total number of events: 266.55\n",
      "Negative raw events: 10.36%\n",
      "Negative events: 32.17%\n",
      "\n",
      "Zee:\n",
      "Total number of events: 43.42\n",
      "Negative raw events: 5.76%\n",
      "Negative events: 8.49%\n",
      "\n",
      "Zmumu:\n",
      "Total number of events: 52.33\n",
      "Negative raw events: 1.95%\n",
      "Negative events: 2.1%\n",
      "\n",
      "ttbar_lep:\n",
      "Total number of events: 28.31\n",
      "Negative raw events: 0.0%\n",
      "Negative events: 0.0%\n",
      "\n"
     ]
    }
   ],
   "source": [
    "# Merge the signal and background data frames\n",
    "def merge_data_frames(sample_list, data_frames_dic):\n",
    "    for sample in sample_list:\n",
    "        if sample == sample_list[0]:\n",
    "            output_data_frame = data_frames_dic[sample]\n",
    "        else:\n",
    "            output_data_frame = pd.concat([output_data_frame, data_frames_dic[sample]], axis=0)\n",
    "        print(f'{sample}:')\n",
    "        n_events = sum(data_frames_dic[sample]['totalWeight'])\n",
    "        n_events_raw = len(data_frames_dic[sample]['totalWeight'])\n",
    "        n_events_neg = sum(data_frames_dic[sample]['totalWeight'] * (data_frames_dic[sample]['totalWeight'] < 0))\n",
    "        n_events_neg_raw = sum(list(data_frames_dic[sample]['totalWeight'] < 0))\n",
    "        print(f'Total number of events: {round(n_events, 2)}')\n",
    "        print(f'Negative raw events: {round(100 * n_events_neg_raw / n_events_raw, 2)}%')\n",
    "        print(f'Negative events: {abs(round(100 * n_events_neg / n_events, 2))}%')\n",
    "        print()\n",
    "    return output_data_frame\n",
    "\n",
    "data_frame_signal = merge_data_frames(sample_list_signal, data_frames)\n",
    "data_frame_background = merge_data_frames(sample_list_background, data_frames)"
   ]
  },
  {
   "cell_type": "markdown",
   "id": "2906682a",
   "metadata": {},
   "source": [
    "The function common.plot_hist(variable, data_frame_1, data_frame_2) plots the given variable of the two data sets.\n",
    "The variable must be a dictionary containing atleast the variable to plot. Additionally one can also specify the binning (list or numpy array) and the xlabel. The created histogram is automatically saved in the plots directory<br>\n",
    "An example for the transverse momnetum of the leading lepton is given below:"
   ]
  },
  {
   "cell_type": "code",
   "execution_count": 7,
   "id": "8ae8494b",
   "metadata": {
    "scrolled": true
   },
   "outputs": [
    {
     "data": {
      "image/png": "[encoded data removed]",
      "text/plain": [
       "<Figure size 504x504 with 1 Axes>"
      ]
     },
     "metadata": {
      "needs_background": "light"
     },
     "output_type": "display_data"
    },
    {
     "data": {
      "image/png": "[encoded data removed]",
      "text/plain": [
       "<Figure size 504x504 with 2 Axes>"
      ]
     },
     "metadata": {
      "needs_background": "light"
     },
     "output_type": "display_data"
    }
   ],
   "source": [
    "# leading lepton pt\n",
    "var_lep1_pt = {'variable': 'lep1_pt',\n",
    "               'binning': np.linspace(0, 300, 100),\n",
    "               'xlabel': '$p_T$ (lep 1) [GeV]'}\n",
    "\n",
    "common.plot_hist_sum(var_lep1_pt, data_frames)\n",
    "common.plot_normed_signal_vs_background(var_lep1_pt, data_frame_signal, data_frame_background)"
   ]
  },
  {
   "cell_type": "markdown",
   "id": "a38a5a5e",
   "metadata": {},
   "source": [
    "Investigate the signal vs background ratio before the training"
   ]
  },
  {
   "cell_type": "code",
   "execution_count": 8,
   "id": "b7415e53",
   "metadata": {
    "scrolled": false
   },
   "outputs": [
    {
     "name": "stdout",
     "output_type": "stream",
     "text": [
      "There are 9.7 signal (370040 raw MC events) and 390.61 backgound events (524791 raw MC events)\n",
      "This gives a purity of 2.48%\n"
     ]
    }
   ],
   "source": [
    "signal_event_number = sum(data_frame_signal.totalWeight)\n",
    "background_event_number = sum(data_frame_background.totalWeight)\n",
    "signal_background_ratio = signal_event_number/background_event_number\n",
    "print(f'There are {round(signal_event_number, 2)} signal ({len(data_frame_signal)} raw MC events) and {round(background_event_number, 2)} backgound events ({len(data_frame_background)} raw MC events)\\nThis gives a purity of {round(signal_background_ratio*100, 2)}%')"
   ]
  },
  {
   "cell_type": "markdown",
   "id": "a74ea3bc",
   "metadata": {},
   "source": [
    "## Training"
   ]
  },
  {
   "cell_type": "markdown",
   "id": "254918e6",
   "metadata": {},
   "source": [
    "In this chapter, the DNN is trained. Define the input variables for the classification. Feel free to test different combinations of low-level and high-level variables. Additionally, you can modify the structure of the DNN to gain optimal training results. When the setup is done, train the DNN, test it and redo this until you are happy with the result."
   ]
  },
  {
   "cell_type": "code",
   "execution_count": 9,
   "id": "ac0e9914",
   "metadata": {},
   "outputs": [],
   "source": [
    "# The training input variables\n",
    "training_variables = ['lep1_pt', 'lep2_pt', 'lep3_pt', 'lep4_pt']\n",
    "training_variables += ['lep1_charge', 'lep2_charge', 'lep3_charge', 'lep4_charge']\n",
    "training_variables += ['lep1_pdgId', 'lep2_pdgId', 'lep3_pdgId', 'lep4_pdgId']\n",
    "training_variables += ['lep1_phi', 'lep2_phi', 'lep3_phi', 'lep4_phi']\n",
    "training_variables += ['lep1_eta', 'lep2_eta', 'lep3_eta', 'lep4_eta']\n",
    "#training_variables += ['lep_m_ll_12', 'lep_m_ll_13', 'lep_m_ll_14', 'lep_m_ll_23', 'lep_m_ll_24', 'lep_m_ll_34']"
   ]
  },
  {
   "cell_type": "code",
   "execution_count": 10,
   "id": "5a528eaf",
   "metadata": {},
   "outputs": [],
   "source": [
    "# Create the training input\n",
    "values = []\n",
    "weights = []\n",
    "classification = []\n",
    "for sample in sample_list_signal + sample_list_background:\n",
    "    # Classify signal and background (and skip if data)\n",
    "    if sample in sample_list_signal:\n",
    "        # 1 if signal\n",
    "        classification.append(np.ones(len(data_frames[sample])))\n",
    "    elif sample in sample_list_background:\n",
    "        # 0 if background\n",
    "        classification.append(np.zeros(len(data_frames[sample])))\n",
    "    else:\n",
    "        continue\n",
    "    # input values\n",
    "    values.append(data_frames[sample][training_variables])\n",
    "    weights.append(data_frames[sample]['totalWeight'])\n",
    "\n",
    "# Merge the input\n",
    "values = np.concatenate(values)\n",
    "weights = np.concatenate(weights)\n",
    "classification = np.concatenate(classification)"
   ]
  },
  {
   "cell_type": "markdown",
   "id": "6466faa7",
   "metadata": {},
   "source": [
    "The data set is split in a training, test and validation set. To have enough data to train use a splitting of 80%:10%:10%"
   ]
  },
  {
   "cell_type": "code",
   "execution_count": 11,
   "id": "4f0035b0",
   "metadata": {},
   "outputs": [],
   "source": [
    "from sklearn.model_selection import train_test_split"
   ]
  },
  {
   "cell_type": "markdown",
   "id": "8f0a8cf1",
   "metadata": {},
   "source": [
    "Rescale the weights and keep the sample ratio?"
   ]
  },
  {
   "cell_type": "code",
   "execution_count": 12,
   "id": "8138d55c",
   "metadata": {},
   "outputs": [],
   "source": [
    "def reweight_weights(weights, classification):\n",
    "    # Take the absolute weight\n",
    "    weights_abs = np.abs(weights)\n",
    "    # Split in signal and background weights\n",
    "    weights_signal = weights_abs*classification\n",
    "    weights_background = weights_abs*(1 - classification)\n",
    "    # Set ratio of signal and backgroubnd to one\n",
    "    weights_reweighted = weights_background / sum(weights_background) + weights_signal / sum(weights_signal)\n",
    "    # Normalize mean weight to one\n",
    "    weights_reweighted /= weights_reweighted.mean()\n",
    "    return weights_reweighted"
   ]
  },
  {
   "cell_type": "code",
   "execution_count": 13,
   "id": "bd8a4906",
   "metadata": {},
   "outputs": [],
   "source": [
    "random_state = 420\n",
    "\n",
    "# Train data\n",
    "train_values, test_val_values, train_classification, test_val_classification = train_test_split(values, classification, test_size=0.2, random_state=random_state)\n",
    "train_weights, test_val_weights = train_test_split(weights, classification, test_size=0.2, random_state=random_state)[:2]\n",
    "\n",
    "# Test and validation data\n",
    "test_values, val_values, test_classification, val_classification = train_test_split(test_val_values, test_val_classification, test_size=0.5, random_state=random_state)\n",
    "test_weights, val_weights = train_test_split(test_val_weights, test_val_classification, test_size=0.5, random_state=random_state)[:2]\n",
    "\n",
    "# Get reweighted weights\n",
    "train_weights_reweighted = reweight_weights(train_weights, train_classification)\n",
    "test_weights_reweighted = reweight_weights(test_weights, test_classification)\n",
    "val_weights_reweighted = reweight_weights(val_weights, val_classification)"
   ]
  },
  {
   "cell_type": "code",
   "execution_count": 14,
   "id": "f1cf62dc",
   "metadata": {},
   "outputs": [],
   "source": [
    "# Import the tensorflow module to create a DNN\n",
    "\n",
    "import tensorflow as tf\n",
    "import pandas as pd\n",
    "from tensorflow.python.framework.ops import disable_eager_execution\n",
    "\n",
    "disable_eager_execution()"
   ]
  },
  {
   "cell_type": "markdown",
   "id": "467e845a",
   "metadata": {},
   "source": [
    "Create you DNN consisting of several layers. \n",
    "\n",
    "A full list of layer types can be found here https://www.tensorflow.org/api_docs/python/tf/keras/layers <br>\n",
    "Some important examples for layers are:\n",
    "- Dense: a densely connected NN layer\n",
    "- Flatten: flattens the input\n",
    "- Dropout: randomly sets input to 0. Can decrease overtraining\n",
    "\n",
    "The neurons of each layer are activated by the so called activation function. <br>\n",
    "A full list of provided activation functions can be found here https://www.tensorflow.org/api_docs/python/tf/keras/activations <br>\n",
    "Some examples are:\n",
    "- linear: $linear(x) = x$\n",
    "- relu: linear for $x>0$ ($relu(x) = max(0, x)$)\n",
    "- exponential: $exponential(x) = e^x$\n",
    "- sigmoid: $sigmoid(x) = 1 / (1 + e^{-x})$\n",
    "\n",
    "To classify background and signal the last layer should only consist of one neuron which has an activation between 0 and 1"
   ]
  },
  {
   "cell_type": "code",
   "execution_count": 15,
   "id": "541ee86d",
   "metadata": {},
   "outputs": [],
   "source": [
    "model_layers = [\n",
    "    tf.keras.layers.Normalization(mean=0, variance=1), # Normalize input\n",
    "    tf.keras.layers.Dense(40, activation='relu'),      # Hidden layers\n",
    "    tf.keras.layers.Dense(50, activation='relu'),\n",
    "    tf.keras.layers.Dense(1, activation='sigmoid')     # Output layer\n",
    "]\n",
    "\n",
    "model = tf.keras.models.Sequential(model_layers)"
   ]
  },
  {
   "cell_type": "markdown",
   "id": "08bb5240",
   "metadata": {},
   "source": [
    "While training, the parameters of the neural network are modified to increase the agreement between the classification of the training data by the neural network and the actual splitting in signal and background. \n",
    "The agreement is specified by a loss-function, which decreses with increasing agreement. Analogous to a Chi2 fit, the fit to the training data is done by determining the minimum of the loss-function. The choice of the specific loss-function has to be adapted to the problem the neural network has to solve. <br>\n",
    "\n",
    "The list of available loss-functions are listed here https://www.tensorflow.org/api_docs/python/tf/keras/losses\n",
    "For the binary (0 or 1) classification problem of the signal background separation the BinaryCrossentropy is used. <br>\n",
    "<b> Give more information!!! </b>"
   ]
  },
  {
   "cell_type": "code",
   "execution_count": 16,
   "id": "4fe2b485",
   "metadata": {},
   "outputs": [],
   "source": [
    "loss_fn = tf.keras.losses.BinaryCrossentropy(from_logits=False)"
   ]
  },
  {
   "cell_type": "markdown",
   "id": "8535bcb1",
   "metadata": {},
   "source": [
    "For the optimization of the loss-function different optimization algorithms can be used (see https://www.tensorflow.org/api_docs/python/tf/keras/optimizers). <br>\n",
    "The performance of the learning process is given by the metric (see https://www.tensorflow.org/api_docs/python/tf/keras/metrics)"
   ]
  },
  {
   "cell_type": "code",
   "execution_count": 17,
   "id": "d1bad8ec",
   "metadata": {},
   "outputs": [],
   "source": [
    "model.compile(optimizer='adam',\n",
    "              loss=loss_fn,\n",
    "              weighted_metrics=['binary_accuracy'])"
   ]
  },
  {
   "cell_type": "markdown",
   "id": "84a39a2b",
   "metadata": {},
   "source": [
    "Early stopping to avoid overtraining"
   ]
  },
  {
   "cell_type": "code",
   "execution_count": 18,
   "id": "60823bf4",
   "metadata": {},
   "outputs": [],
   "source": [
    "early_stopping = tf.keras.callbacks.EarlyStopping(monitor='val_loss', patience=3)"
   ]
  },
  {
   "cell_type": "markdown",
   "id": "2f98156b",
   "metadata": {
    "scrolled": false
   },
   "source": [
    "fit_history = model.fit(train_values, train_classification, sample_weight=np.abs(train_weights_reweighted), validation_data=(test_values, test_classification, np.abs(test_weights_reweighted)), callbacks=[early_stopping], epochs=40)"
   ]
  },
  {
   "cell_type": "code",
   "execution_count": 19,
   "id": "3b29dc6f",
   "metadata": {
    "scrolled": true
   },
   "outputs": [
    {
     "name": "stdout",
     "output_type": "stream",
     "text": [
      "Train on 715864 samples, validate on 89483 samples\n"
     ]
    },
    {
     "name": "stderr",
     "output_type": "stream",
     "text": [
      "2022-10-04 20:43:15.959202: I tensorflow/core/platform/cpu_feature_guard.cc:151] This TensorFlow binary is optimized with oneAPI Deep Neural Network Library (oneDNN) to use the following CPU instructions in performance-critical operations:  AVX2 FMA\n",
      "To enable them in other operations, rebuild TensorFlow with the appropriate compiler flags.\n"
     ]
    },
    {
     "name": "stdout",
     "output_type": "stream",
     "text": [
      "Epoch 1/40\n",
      "715360/715864 [============================>.] - ETA: 0s - loss: 1.5644e-06 - binary_accuracy: 0.7338"
     ]
    },
    {
     "name": "stderr",
     "output_type": "stream",
     "text": [
      "/usr/local/lib/python3.9/site-packages/keras/engine/training_v1.py:2057: UserWarning: `Model.state_updates` will be removed in a future version. This property should not be used in TensorFlow 2.0, as `updates` are applied automatically.\n",
      "  updates = self.state_updates\n"
     ]
    },
    {
     "name": "stdout",
     "output_type": "stream",
     "text": [
      "715864/715864 [==============================] - 20s 28us/sample - loss: 1.5645e-06 - binary_accuracy: 0.7339 - val_loss: 1.2691e-05 - val_binary_accuracy: 0.7300\n",
      "Epoch 2/40\n",
      "715864/715864 [==============================] - 19s 27us/sample - loss: 1.4095e-06 - binary_accuracy: 0.7635 - val_loss: 1.2188e-05 - val_binary_accuracy: 0.7493\n",
      "Epoch 3/40\n",
      "715864/715864 [==============================] - 20s 28us/sample - loss: 1.3820e-06 - binary_accuracy: 0.7700 - val_loss: 1.1079e-05 - val_binary_accuracy: 0.7597\n",
      "Epoch 4/40\n",
      "715864/715864 [==============================] - 20s 28us/sample - loss: 1.3751e-06 - binary_accuracy: 0.7711 - val_loss: 1.1185e-05 - val_binary_accuracy: 0.7657\n",
      "Epoch 5/40\n",
      "715864/715864 [==============================] - 20s 27us/sample - loss: 1.3641e-06 - binary_accuracy: 0.7741 - val_loss: 1.0826e-05 - val_binary_accuracy: 0.7721\n",
      "Epoch 6/40\n",
      "715864/715864 [==============================] - 20s 27us/sample - loss: 1.3600e-06 - binary_accuracy: 0.7750 - val_loss: 1.1149e-05 - val_binary_accuracy: 0.7566\n",
      "Epoch 7/40\n",
      "715864/715864 [==============================] - 20s 28us/sample - loss: 1.3511e-06 - binary_accuracy: 0.7744 - val_loss: 1.0944e-05 - val_binary_accuracy: 0.7740\n",
      "Epoch 8/40\n",
      "715864/715864 [==============================] - 24s 34us/sample - loss: 1.3223e-06 - binary_accuracy: 0.7798 - val_loss: 1.0446e-05 - val_binary_accuracy: 0.7816\n",
      "Epoch 9/40\n",
      "715864/715864 [==============================] - 23s 32us/sample - loss: 1.2729e-06 - binary_accuracy: 0.7911 - val_loss: 1.0140e-05 - val_binary_accuracy: 0.7877\n",
      "Epoch 10/40\n",
      "715864/715864 [==============================] - 22s 31us/sample - loss: 1.2570e-06 - binary_accuracy: 0.7943 - val_loss: 1.0069e-05 - val_binary_accuracy: 0.7866\n",
      "Epoch 11/40\n",
      "715864/715864 [==============================] - 21s 29us/sample - loss: 1.2452e-06 - binary_accuracy: 0.7952 - val_loss: 1.0076e-05 - val_binary_accuracy: 0.7817\n",
      "Epoch 12/40\n",
      "715864/715864 [==============================] - 20s 29us/sample - loss: 1.2414e-06 - binary_accuracy: 0.7959 - val_loss: 1.0216e-05 - val_binary_accuracy: 0.7830\n",
      "Epoch 13/40\n",
      "715864/715864 [==============================] - 21s 30us/sample - loss: 1.2296e-06 - binary_accuracy: 0.8013 - val_loss: 9.6923e-06 - val_binary_accuracy: 0.7981\n",
      "Epoch 14/40\n",
      "715864/715864 [==============================] - 22s 30us/sample - loss: 1.2253e-06 - binary_accuracy: 0.8008 - val_loss: 9.9525e-06 - val_binary_accuracy: 0.7909\n",
      "Epoch 15/40\n",
      "715864/715864 [==============================] - 21s 30us/sample - loss: 1.1983e-06 - binary_accuracy: 0.8089 - val_loss: 9.5163e-06 - val_binary_accuracy: 0.7940\n",
      "Epoch 16/40\n",
      "715864/715864 [==============================] - 21s 29us/sample - loss: 1.1636e-06 - binary_accuracy: 0.8164 - val_loss: 9.3646e-06 - val_binary_accuracy: 0.8078\n",
      "Epoch 17/40\n",
      "715864/715864 [==============================] - 21s 29us/sample - loss: 1.1468e-06 - binary_accuracy: 0.8174 - val_loss: 9.5890e-06 - val_binary_accuracy: 0.8035\n",
      "Epoch 18/40\n",
      "715864/715864 [==============================] - 22s 30us/sample - loss: 1.1355e-06 - binary_accuracy: 0.8203 - val_loss: 8.9732e-06 - val_binary_accuracy: 0.8210\n",
      "Epoch 19/40\n",
      "715864/715864 [==============================] - 21s 30us/sample - loss: 1.1418e-06 - binary_accuracy: 0.8175 - val_loss: 8.6598e-06 - val_binary_accuracy: 0.8228\n",
      "Epoch 20/40\n",
      "715864/715864 [==============================] - 22s 31us/sample - loss: 1.1244e-06 - binary_accuracy: 0.8232 - val_loss: 8.5637e-06 - val_binary_accuracy: 0.8247\n",
      "Epoch 21/40\n",
      "715864/715864 [==============================] - 21s 30us/sample - loss: 1.1211e-06 - binary_accuracy: 0.8222 - val_loss: 8.6785e-06 - val_binary_accuracy: 0.8297\n",
      "Epoch 22/40\n",
      "715864/715864 [==============================] - 21s 29us/sample - loss: 1.1112e-06 - binary_accuracy: 0.8247 - val_loss: 8.6866e-06 - val_binary_accuracy: 0.8231\n",
      "Epoch 23/40\n",
      "715864/715864 [==============================] - 21s 30us/sample - loss: 1.1041e-06 - binary_accuracy: 0.8269 - val_loss: 9.2785e-06 - val_binary_accuracy: 0.8088\n"
     ]
    }
   ],
   "source": [
    "history = model.fit(train_values, train_classification, sample_weight=train_weights_reweighted, validation_data=(test_values, test_classification, test_weights_reweighted), callbacks=[early_stopping], epochs=40)"
   ]
  },
  {
   "cell_type": "code",
   "execution_count": 20,
   "id": "e1c22e6e",
   "metadata": {},
   "outputs": [
    {
     "name": "stdout",
     "output_type": "stream",
     "text": [
      "{'loss': [1.564500517685529e-06, 1.4094618289231162e-06, 1.3820002194846965e-06, 1.3751272525500572e-06, 1.3641267410056204e-06, 1.35999228525108e-06, 1.351123106471456e-06, 1.3222681834621733e-06, 1.2729346086267848e-06, 1.2569898199293862e-06, 1.2452232848614058e-06, 1.2413632167319585e-06, 1.2296229936175587e-06, 1.2253319917627386e-06, 1.198253835695988e-06, 1.163624633174811e-06, 1.1468257716319617e-06, 1.1354888980526718e-06, 1.1418413500091622e-06, 1.1244180863245493e-06, 1.12110259729432e-06, 1.111197338374915e-06, 1.1041136998659296e-06], 'binary_accuracy': [0.7338773608207703, 0.7635291218757629, 0.7699639797210693, 0.7711136937141418, 0.7740928530693054, 0.774977445602417, 0.7744233012199402, 0.7798410654067993, 0.7910553812980652, 0.7942540049552917, 0.7951757907867432, 0.7958815693855286, 0.8013132810592651, 0.800837516784668, 0.8088984489440918, 0.816389799118042, 0.8174389004707336, 0.8203275799751282, 0.8175267577171326, 0.8231796026229858, 0.8221793174743652, 0.8247149586677551, 0.8268989324569702], 'val_loss': [1.2691097928385691e-05, 1.2187894275464985e-05, 1.1078521071927392e-05, 1.1185323858793363e-05, 1.0825887904977552e-05, 1.1148939587723527e-05, 1.0944140652296714e-05, 1.0446409876705436e-05, 1.0140430939785895e-05, 1.0069017025819593e-05, 1.007613683772631e-05, 1.0216383714605517e-05, 9.692345411331729e-06, 9.952544881125168e-06, 9.516303139103261e-06, 9.364560757466542e-06, 9.589011580076114e-06, 8.973174437828972e-06, 8.659784803941545e-06, 8.563683948973773e-06, 8.678471946791926e-06, 8.68661079843313e-06, 9.278493718773906e-06], 'val_binary_accuracy': [0.7300435900688171, 0.7492696642875671, 0.7597203254699707, 0.7657126188278198, 0.7721443176269531, 0.7566109895706177, 0.7739963531494141, 0.7815824151039124, 0.7876976132392883, 0.7866353988647461, 0.7817069292068481, 0.7830214500427246, 0.7980612516403198, 0.7909342646598816, 0.7940115332603455, 0.8078130483627319, 0.803540050983429, 0.8209779262542725, 0.8228049278259277, 0.8247486352920532, 0.8296864628791809, 0.823054313659668, 0.8087518215179443]}\n"
     ]
    }
   ],
   "source": [
    "print(history.history)"
   ]
  },
  {
   "cell_type": "code",
   "execution_count": 21,
   "id": "ba07b18c",
   "metadata": {
    "scrolled": false
   },
   "outputs": [
    {
     "data": {
      "image/png": "[encoded data removed]",
      "text/plain": [
       "<Figure size 432x288 with 1 Axes>"
      ]
     },
     "metadata": {
      "needs_background": "light"
     },
     "output_type": "display_data"
    }
   ],
   "source": [
    "plt.plot(history.history['loss'], label='Training loss', linestyle='--')\n",
    "plt.plot(history.history['val_loss'], label='Test loss')\n",
    "\n",
    "plt.title('model loss')\n",
    "plt.ylabel('loss')\n",
    "plt.xlabel('epoch')\n",
    "plt.savefig('plots/training_history.pdf')\n",
    "plt.show()"
   ]
  },
  {
   "cell_type": "markdown",
   "id": "38f4300c",
   "metadata": {},
   "source": [
    "## Evaluate the Model"
   ]
  },
  {
   "cell_type": "code",
   "execution_count": null,
   "id": "a9273a20",
   "metadata": {},
   "outputs": [],
   "source": [
    "model.evaluate(train_values,  train_classification, sample_weight=np.abs(train_weights_reweighted), verbose=2)"
   ]
  },
  {
   "cell_type": "code",
   "execution_count": null,
   "id": "8fa493ae",
   "metadata": {
    "scrolled": true
   },
   "outputs": [],
   "source": [
    "model.evaluate(test_values,  test_classification, sample_weight=np.abs(test_weights_reweighted), verbose=2)"
   ]
  },
  {
   "cell_type": "code",
   "execution_count": null,
   "id": "b1e9ea20",
   "metadata": {},
   "outputs": [],
   "source": [
    "from sklearn import metrics"
   ]
  },
  {
   "cell_type": "markdown",
   "id": "c77a2abe",
   "metadata": {},
   "source": [
    "ROC curve"
   ]
  },
  {
   "cell_type": "code",
   "execution_count": null,
   "id": "8e347a77",
   "metadata": {
    "scrolled": true
   },
   "outputs": [],
   "source": [
    "# Prediction for test sample\n",
    "test_prediction = model.predict(test_values)"
   ]
  },
  {
   "cell_type": "code",
   "execution_count": null,
   "id": "bf2f85ec",
   "metadata": {},
   "outputs": [],
   "source": [
    "fpr, tpr, thresholds = metrics.roc_curve(test_classification, test_prediction)\n",
    "fpr_weighted, tpr_weighted, thresholds_weighted = metrics.roc_curve(test_classification, test_prediction, sample_weight=test_weights_reweighted)\n",
    "fpr, tpr, thresholds = metrics.roc_curve(test_classification, test_prediction)\n",
    "plt.plot(fpr, tpr, label='unweighted')\n",
    "plt.plot(fpr_weighted, tpr_weighted, label='weighted')\n",
    "plt.title('ROC curve')\n",
    "plt.xlabel('false positive rate')\n",
    "plt.ylabel('true negative rate')\n",
    "plt.savefig('plots/model_roc.pdf')\n",
    "plt.axis([0, 1, 0, 1])\n",
    "plt.show()\n",
    "\n",
    "roc_auc = metrics.auc(fpr_weighted, tpr_weighted)\n",
    "print(f'Area under the ROC curve: {round(roc_auc, 2)}')"
   ]
  },
  {
   "cell_type": "markdown",
   "id": "d2c6e4a7",
   "metadata": {},
   "source": [
    "## Apply Model"
   ]
  },
  {
   "cell_type": "code",
   "execution_count": null,
   "id": "51df5129",
   "metadata": {},
   "outputs": [],
   "source": [
    "for sample in sample_list_signal + sample_list_background:\n",
    "    print(f'Apply Model for {sample}')\n",
    "    # Get the values to apply the model\n",
    "    data_frame_values = data_frames[sample][training_variables]\n",
    "    prediction = model.predict(data_frame_values)\n",
    "    \n",
    "    # Convert prediction to array\n",
    "    prediction = [element[0] for element in prediction]\n",
    "    \n",
    "    # Add the prediction for each sample\n",
    "    data_frames[sample]['dnn_prediction'] = prediction"
   ]
  },
  {
   "cell_type": "code",
   "execution_count": null,
   "id": "85645a5c",
   "metadata": {},
   "outputs": [],
   "source": [
    "# Investigate DDN Prediction\n",
    "var_lep1_pt = {'variable': 'dnn_prediction',\n",
    "               'binning': np.linspace(0, 1, 50),\n",
    "               'xlabel': 'DNN prediction'}\n",
    "\n",
    "common.plot_hist_sum(var_lep1_pt, data_frames)"
   ]
  },
  {
   "cell_type": "code",
   "execution_count": null,
   "id": "16315792",
   "metadata": {},
   "outputs": [],
   "source": [
    "# Create a copy of the data frame\n",
    "apply_dnn_data_frames = data_frames.copy()\n",
    "\n",
    "# Apply the DNN value\n",
    "for sample in sample_list_signal + sample_list_background:\n",
    "    print(sample)\n",
    "    pass_dnn = apply_dnn_data_frames[sample]['dnn_prediction'] > 0.5\n",
    "    apply_dnn_data_frames[sample] = apply_dnn_data_frames[sample][pass_dnn]\n",
    "    print(len(apply_dnn_data_frames[sample])/len(data_frames[sample]))"
   ]
  },
  {
   "cell_type": "code",
   "execution_count": null,
   "id": "d56ffaea",
   "metadata": {},
   "outputs": [],
   "source": [
    "# leading lepton pt\n",
    "var_m_lllll = {'variable': 'lep_m_llll',\n",
    "               'binning': np.linspace(0, 200, 40),\n",
    "               'xlabel': '$m_{llll}$ [GeV]'}\n",
    "\n",
    "common.plot_hist_sum(var_m_lllll, apply_dnn_data_frames)"
   ]
  },
  {
   "cell_type": "markdown",
   "id": "eaebb200",
   "metadata": {},
   "source": [
    "# Validation"
   ]
  },
  {
   "cell_type": "code",
   "execution_count": null,
   "id": "061bfe73",
   "metadata": {},
   "outputs": [],
   "source": []
  }
 ],
 "metadata": {
  "kernelspec": {
   "display_name": "Python 3 (ipykernel)",
   "language": "python",
   "name": "python3"
  },
  "language_info": {
   "codemirror_mode": {
    "name": "ipython",
    "version": 3
   },
   "file_extension": ".py",
   "mimetype": "text/x-python",
   "name": "python",
   "nbconvert_exporter": "python",
   "pygments_lexer": "ipython3",
   "version": "3.9.14"
  }
 },
 "nbformat": 4,
 "nbformat_minor": 5
}
