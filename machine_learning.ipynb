{
 "cells": [
  {
   "cell_type": "markdown",
   "id": "2081cce3",
   "metadata": {},
   "source": [
    "# Discover the Higgs with Deep Neural Networks"
   ]
  },
  {
   "cell_type": "markdown",
   "id": "060ec659",
   "metadata": {},
   "source": [
    "The input data was created from 13 TeV ATLAS open data downloaded from http://opendata.atlas.cern/release/2020/documentation/index.html\n",
    "\n",
    "For more information read:<br>\n",
    "Review of the 13 TeV ATLAS Open Data release, Techn. Ber., All figures including auxiliary figures are available at https://atlas.web.cern.ch/Atlas/GROUPS/PHYSICS/PUBNOTES/ATL-OREACH-PUB-2020-001: CERN, 2020, url: http://cds.cern.ch/record/2707171"
   ]
  },
  {
   "cell_type": "markdown",
   "id": "3e312205",
   "metadata": {},
   "source": [
    "## Data Preparation"
   ]
  },
  {
   "cell_type": "markdown",
   "id": "8f5b2349",
   "metadata": {},
   "source": [
    "### Load the Data"
   ]
  },
  {
   "cell_type": "code",
   "execution_count": 1,
   "id": "f9615674",
   "metadata": {},
   "outputs": [],
   "source": [
    "# Necessary imports\n",
    "import numpy as np\n",
    "import matplotlib.pyplot as plt\n",
    "import pandas as pd\n",
    "from numpy.random import seed\n",
    "import common"
   ]
  },
  {
   "cell_type": "markdown",
   "id": "3357ffaf",
   "metadata": {},
   "source": [
    "The goal of this lab course is to train a deep neural network to separate Higgs boson signal from background events. The most important signal sample ggH125_ZZ4lep corresponds to the process gg->H->ZZ. The dominant background sample is llll resulting from Z and ZZ decays.\n",
    "After training the DNN model will be used to classify the events of the data samples.\n",
    "\n",
    "Higgs signal samples:\n",
    "- ggH125_ZZ4lep\n",
    "- VBFH125_ZZ4lep\n",
    "- WH125_ZZ4lep\n",
    "- ZH125_ZZ4lep\n",
    "\n",
    "Background samples:\n",
    "- llll\n",
    "- Zee\n",
    "- Zmumu\n",
    "- ttbar_lep\n",
    "\n",
    "Data samples:\n",
    "- data_A\n",
    "- data_B\n",
    "- data_C\n",
    "- data_D"
   ]
  },
  {
   "cell_type": "code",
   "execution_count": 2,
   "id": "22a2ae28",
   "metadata": {},
   "outputs": [],
   "source": [
    "# Define the input samples\n",
    "sample_list_signal = ['ggH125_ZZ4lep']\n",
    "sample_list_background = ['llll']\n",
    "sample_list_signal = ['ggH125_ZZ4lep', 'VBFH125_ZZ4lep', 'WH125_ZZ4lep', 'ZH125_ZZ4lep']\n",
    "sample_list_background = ['llll', 'Zee', 'Zmumu', 'ttbar_lep']"
   ]
  },
  {
   "cell_type": "code",
   "execution_count": 3,
   "id": "e1b2ae67",
   "metadata": {},
   "outputs": [],
   "source": [
    "# Read all the samples\n",
    "no_selection_data_frames = {}\n",
    "for sample in sample_list_signal + sample_list_background:\n",
    "    no_selection_data_frames[sample] = pd.read_csv('input/' + sample + \".csv\")"
   ]
  },
  {
   "cell_type": "markdown",
   "id": "27a1549c",
   "metadata": {},
   "source": [
    "### Input Variables"
   ]
  },
  {
   "cell_type": "markdown",
   "id": "fe06218b",
   "metadata": {},
   "source": [
    "The input provides several variables to classify the events. Since each event has multiple leptons, they were ordered in descending order based on their transverse momentum. Thus, lepton 1 has the highest transverse momentum, lepton 2 the second highest, and so on. <br>\n",
    "Most of the given variables can be called low-level, because they represent event or object properties, which can be derived directly from the reconstruction in the detector. In contrast to this are high-level variables, which result from the combination of several low-level variables. In the given dataset the only high-level variables are invariant masses of multiple particles:<br>\n",
    "$m_{inv} = \\sqrt{\\left(\\sum\\limits_{i=1}^{n} E_i\\right)^2 - \\left(\\sum\\limits_{i=1}^{n} \\vec{p}_i\\right)^2}$\n",
    "\n",
    "\n",
    "List of all available variables:<br>\n",
    "- Event number\n",
    " - Each simulated event has its own specific number. (not used for training)\n",
    " - Variable name: eventNumber\n",
    "- Scale and event weight\n",
    " - The scaling for a data set is given by the sum of event weights, the cross section, luminosity and a efficiency scale factor\n",
    " - Each event has an additional specific event weight\n",
    " - To combine simulated events and finally compare them to data each event has to be scaled by the total weight, the product of scale weight and event weight\n",
    " - The weight are not used for training\n",
    " - Variable name: scaleWeight, eventWeight, totalWeight\n",
    "- Number of jets\n",
    " - Jets are particle showers which result primarily from quarks and gluons\n",
    " - Variable name: jet_n\n",
    "- Invariant four lepton mass\n",
    " - The invariant mass $m_{inv}(l_1, l_2, l_3, l_4)$ of the four leptons is extremly sensitive to Higgs boson events. This variable is to be displayed later and thus not used for training\n",
    " - Variable name: lep_m_llll\n",
    "- Invariant two lepton mass\n",
    " - Invariant masses $m_{inv}(l_i, l_j)$ of all combinations of two leptons\n",
    " - Variable names: lep_m_ll_12, lep_m_ll_13, lep_m_ll_14, lep_m_ll_23, lep_m_ll_24, lep_m_ll_34\n",
    "- Transverse momentum of the leptons\n",
    " - The momentum in the plane transverse to the beam axis\n",
    " - Variable names: lep1_pt, lep2_pt, lep3_pt, lep4_pt\n",
    "- Lepton azimuthal angle\n",
    " - The azimuthal angle $\\phi$ is measured in the plane transverse to the beam axis\n",
    " - Variable name: lep1_phi, lep2_phi, lep3_phi, lep4_phi\n",
    "- Lepton pseudo rapidity\n",
    " - The angle $\\theta$ is measured between the lepton track and the beam axis. Since this angle is not invariant against boosts along the beam axis, the pseudo rapidity $\\eta = - \\ln{\\tan{\\frac{\\theta}{2}}}$ is primarily used in the ATLAS analyses\n",
    " - Variable names: lep1_eta, lep2_eta, lep3_eta, lep4_eta\n",
    "- Lepton energy\n",
    " - The energy of the leptons reconstructed from the calorimeter entries\n",
    " - Variable name:lep1_e, lep2_e, lep3_e, lep4_e\n",
    "- Lepton PDG-ID\n",
    " - The lepton type is classified by a n umber given by the Particle-Data-Group. The lepton types are $pdg-id(e)=11$, $pdg-id(\\mu)=13$ and $pdg-id(\\tau)=15$\n",
    " - Variable name: lep1_pdgId, lep2_pdgId, lep3_pdgId, lep4_pdgId\n",
    "- Lepton charge\n",
    " - The charge of the given lepton reconstructed by the lepton track\n",
    " - Variable name: lep1_charge, lep2_charge, lep3_charge, lep4_charge"
   ]
  },
  {
   "cell_type": "markdown",
   "id": "9a7d2bda",
   "metadata": {},
   "source": [
    "### Event Pre-Selection"
   ]
  },
  {
   "cell_type": "markdown",
   "id": "facd6d51",
   "metadata": {},
   "source": [
    "Although the final selection of the data is to be performed on the basis of a DNN, a rough pre-selection of the data is still useful.\n",
    "For this purpose, selection criteria are defined, which return either true or false based on the event kinematics and thus decide whether the respective event is kept or discarded.\n",
    "Suitable criteria for this analysis are very basic selections that must be clearly fulfilled by H->ZZ->llll processes.\n",
    "\n",
    "\n",
    "Hint: What lepton types and charges are expected in the final state?"
   ]
  },
  {
   "cell_type": "code",
   "execution_count": 4,
   "id": "ffa57853",
   "metadata": {},
   "outputs": [],
   "source": [
    "def cut_lep_type(lep_type_0, lep_type_1, lep_type_2, lep_type_3):\n",
    "    # Only keep events like eeee, mumumumu or eemumu\n",
    "    sum_lep_type = lep_type_0 + lep_type_1 + lep_type_2 + lep_type_3\n",
    "    return sum_lep_type == 44 or sum_lep_type == 48 or sum_lep_type == 52\n",
    "\n",
    "\n",
    "def cut_lep_charge(lep_charge_0, lep_charge_1, lep_charge_2, lep_charge_3):\n",
    "    # Only keep events where the sum of all lepton charges is zero\n",
    "    sum_lep_charge = lep_charge_0 + lep_charge_1 + lep_charge_2 + lep_charge_3\n",
    "    return sum_lep_charge == 0"
   ]
  },
  {
   "cell_type": "code",
   "execution_count": 5,
   "id": "13fc29db",
   "metadata": {},
   "outputs": [],
   "source": [
    "# Create a copy of the original data frame to investigate later\n",
    "data_frames = no_selection_data_frames.copy()\n",
    "\n",
    "# Apply the chosen selection criteria\n",
    "for sample in sample_list_signal + sample_list_background:\n",
    "    # Selection on lepton type\n",
    "    type_selection = np.vectorize(cut_lep_type)(\n",
    "        data_frames[sample].lep1_pdgId,\n",
    "        data_frames[sample].lep2_pdgId,\n",
    "        data_frames[sample].lep3_pdgId,\n",
    "        data_frames[sample].lep4_pdgId)\n",
    "    data_frames[sample] = data_frames[sample][type_selection]\n",
    "\n",
    "    # Selection on lepton charge\n",
    "    charge_selection = np.vectorize(cut_lep_charge)(\n",
    "        data_frames[sample].lep1_charge,\n",
    "        data_frames[sample].lep2_charge,\n",
    "        data_frames[sample].lep3_charge,\n",
    "        data_frames[sample].lep4_charge)\n",
    "    data_frames[sample] = data_frames[sample][charge_selection]"
   ]
  },
  {
   "cell_type": "markdown",
   "id": "94202a44",
   "metadata": {},
   "source": [
    "### Data Investigation"
   ]
  },
  {
   "cell_type": "markdown",
   "id": "7e11cc8e",
   "metadata": {},
   "source": [
    "Before one can decide which variables are suitable for training, one must first get a feel for the input variables.\n",
    "For this purpose, the input samples are merged into a set of signal events and a set of background events. Afterwards, the behavior of signal and background can be studied in multiple variables."
   ]
  },
  {
   "cell_type": "code",
   "execution_count": 7,
   "id": "591b7e64",
   "metadata": {},
   "outputs": [],
   "source": [
    "# Merge the signal and background data frames\n",
    "def merge_data_frames(sample_list, data_frames_dic):\n",
    "    for sample in sample_list:\n",
    "        if sample == sample_list[0]:\n",
    "            output_data_frame = data_frames_dic[sample]\n",
    "        else:\n",
    "            output_data_frame = pd.concat([output_data_frame, data_frames_dic[sample]], axis=0)\n",
    "    return output_data_frame\n",
    "\n",
    "data_frame_signal = merge_data_frames(sample_list_signal, data_frames)\n",
    "data_frame_background = merge_data_frames(sample_list_background, data_frames)"
   ]
  },
  {
   "cell_type": "markdown",
   "id": "2906682a",
   "metadata": {},
   "source": [
    "The function common.plot_hist(variable, data_frame_1, data_frame_2) plots the given variable of the two data sets.\n",
    "The variable must be a dictionary containing atleast the variable to plot. Additionally one can also specify the binning (list or numpy array) and the xlabel. The created histogram is automatically saved in the plots directory<br>\n",
    "An example for the transverse momnetum of the leading lepton is given below:"
   ]
  },
  {
   "cell_type": "code",
   "execution_count": 8,
   "id": "8ae8494b",
   "metadata": {
    "scrolled": true
   },
   "outputs": [
    {
     "data": {
      "image/png": "[encoded data removed]",
      "text/plain": [
       "<Figure size 504x504 with 1 Axes>"
      ]
     },
     "metadata": {
      "needs_background": "light"
     },
     "output_type": "display_data"
    },
    {
     "data": {
      "image/png": "[encoded data removed]",
      "text/plain": [
       "<Figure size 504x504 with 2 Axes>"
      ]
     },
     "metadata": {
      "needs_background": "light"
     },
     "output_type": "display_data"
    }
   ],
   "source": [
    "# leading lepton pt\n",
    "var_lep1_pt = {'variable': 'lep1_pt',\n",
    "               'binning': np.linspace(0, 300, 100),\n",
    "               'xlabel': '$p_T$ (lep 1) [GeV]'}\n",
    "\n",
    "common.plot_hist_sum(var_lep1_pt, data_frames)\n",
    "common.plot_normed_signal_vs_background(var_lep1_pt, data_frame_signal, data_frame_background)"
   ]
  },
  {
   "cell_type": "markdown",
   "id": "a38a5a5e",
   "metadata": {},
   "source": [
    "Investigate the signal vs background ratio before the training"
   ]
  },
  {
   "cell_type": "code",
   "execution_count": 9,
   "id": "b7415e53",
   "metadata": {
    "scrolled": false
   },
   "outputs": [
    {
     "name": "stdout",
     "output_type": "stream",
     "text": [
      "370040 524791\n",
      "There are 9.7 signal and 390.61 backgound events\n",
      " This gives us a purity of 2.48%\n"
     ]
    }
   ],
   "source": [
    "signal_event_number = sum(data_frame_signal.totalWeight)\n",
    "background_event_number = sum(data_frame_background.totalWeight)\n",
    "signal_background_ratio = signal_event_number/background_event_number\n",
    "print(len(data_frame_signal.totalWeight), len(data_frame_background.totalWeight))\n",
    "print(f'There are {round(signal_event_number, 2)} signal and {round(background_event_number, 2)} backgound events\\n This gives us a purity of {round(signal_background_ratio*100, 2)}%')"
   ]
  },
  {
   "cell_type": "markdown",
   "id": "a74ea3bc",
   "metadata": {},
   "source": [
    "## Training"
   ]
  },
  {
   "cell_type": "markdown",
   "id": "254918e6",
   "metadata": {},
   "source": [
    "In this chapter, the DNN is trained. Define the input variables for the classification. Feel free to test different combinations of low-level and high-level variables. Additionally, you can modify the structure of the DNN to gain optimal training results. When the setup is done, train the DNN, test it and redo this until you are happy with the result."
   ]
  },
  {
   "cell_type": "code",
   "execution_count": 63,
   "id": "ac0e9914",
   "metadata": {},
   "outputs": [],
   "source": [
    "# The training input variables\n",
    "training_variables = ['lep1_pt', 'lep2_pt', 'lep3_pt', 'lep4_pt']\n",
    "training_variables += ['lep1_charge', 'lep2_charge', 'lep3_charge', 'lep4_charge']\n",
    "training_variables += ['lep1_pdgId', 'lep2_pdgId', 'lep3_pdgId', 'lep4_pdgId']\n",
    "training_variables += ['lep1_phi', 'lep2_phi', 'lep3_phi', 'lep4_phi']\n",
    "training_variables += ['lep1_eta', 'lep2_eta', 'lep3_eta', 'lep4_eta']\n",
    "#training_variables = ['lep_m_ll_12', 'lep_m_ll_13', 'lep_m_ll_14', 'lep_m_ll_23', 'lep_m_ll_24', 'lep_m_ll_34']"
   ]
  },
  {
   "cell_type": "code",
   "execution_count": 64,
   "id": "5a528eaf",
   "metadata": {},
   "outputs": [],
   "source": [
    "# Create the training input\n",
    "input_values = []\n",
    "input_classification = []\n",
    "for sample in sample_list_signal + sample_list_background:\n",
    "    # Classify signal and background (and skip if data)\n",
    "    if sample in sample_list_signal:\n",
    "        # 1 if signal\n",
    "        input_classification.append(np.ones(len(data_frames[sample])))\n",
    "    elif sample in sample_list_background:\n",
    "        # 0 if background\n",
    "        input_classification.append(np.zeros(len(data_frames[sample])))\n",
    "    else:\n",
    "        continue\n",
    "    # input values\n",
    "    input_values.append(data_frames[sample][training_variables])\n",
    "\n",
    "# Merge the input\n",
    "input_values = np.concatenate(input_values)\n",
    "input_classification = np.concatenate(input_classification)"
   ]
  },
  {
   "cell_type": "markdown",
   "id": "6466faa7",
   "metadata": {},
   "source": [
    "The data set is split in a training, test and validation set. To have enough data to train use a splitting of 80%:10%:10%"
   ]
  },
  {
   "cell_type": "code",
   "execution_count": 12,
   "id": "549adf92",
   "metadata": {},
   "outputs": [],
   "source": [
    "# The random seed makes the output predictable\n",
    "np.random.seed(seed=420)\n",
    "\n",
    "def split_indices(df, train_frac, test_frac, val_frac):\n",
    "    # Split create a set of random indices for training, testing and validating\n",
    "    random_values = np.random.rand(len(df))\n",
    "    range1 = random_values <= train_frac\n",
    "    range2 = random_values <= train_frac + test_frac\n",
    "    range3 = random_values <= train_frac + test_frac + val_frac\n",
    "    train_index = range1\n",
    "    test_index = ~range1 & range2\n",
    "    val_index = ~range2 & range3\n",
    "    return train_index, test_index, val_index\n",
    "\n",
    "train_index, test_index, val_index = split_indices(input_values, 0.8, 0.1, 0.1)"
   ]
  },
  {
   "cell_type": "code",
   "execution_count": 13,
   "id": "1e4c6ddb",
   "metadata": {},
   "outputs": [],
   "source": [
    "train_input_values = input_values[train_index]\n",
    "train_input_classification = input_classification[train_index]\n",
    "\n",
    "test_input_values = input_values[test_index]\n",
    "test_input_classification = input_classification[test_index]\n",
    "\n",
    "val_input_values = input_values[val_index]\n",
    "val_input_classification = input_classification[val_index]"
   ]
  },
  {
   "cell_type": "code",
   "execution_count": 14,
   "id": "f1cf62dc",
   "metadata": {},
   "outputs": [],
   "source": [
    "# Import the tensorflow module to create a DNN\n",
    "\n",
    "import tensorflow as tf"
   ]
  },
  {
   "cell_type": "markdown",
   "id": "467e845a",
   "metadata": {},
   "source": [
    "Create you DNN consisting of several layers. \n",
    "\n",
    "A full list of layer types can be found here https://www.tensorflow.org/api_docs/python/tf/keras/layers <br>\n",
    "Some important examples for layers are:\n",
    "- Dense: a densely connected NN layer\n",
    "- Flatten: flattens the input\n",
    "- Dropout: randomly sets input to 0. Can decrease overtraining\n",
    "\n",
    "The neurons of each layer are activated by the so called activation function. <br>\n",
    "A full list of provided activation functions can be found here https://www.tensorflow.org/api_docs/python/tf/keras/activations <br>\n",
    "Some examples are:\n",
    "- linear: $linear(x) = x$\n",
    "- relu: linear for $x>0$ ($relu(x) = max(0, x)$)\n",
    "- exponential: $exponential(x) = e^x$\n",
    "- sigmoid: $sigmoid(x) = 1 / (1 + e^{-x})$\n",
    "\n",
    "To classify background and signal the last layer should only consist of one neuron which has an activation between 0 and 1"
   ]
  },
  {
   "cell_type": "markdown",
   "id": "ccc51261",
   "metadata": {},
   "source": [
    "<b> SCALE INPUT VARIABLES! (with sklearn) </b>\n",
    "\n",
    "What about the initialization of the weights?"
   ]
  },
  {
   "cell_type": "code",
   "execution_count": 79,
   "id": "241de309",
   "metadata": {
    "scrolled": true
   },
   "outputs": [],
   "source": [
    "model = tf.keras.models.Sequential([\n",
    "  tf.keras.layers.Dense(40, activation='relu'),\n",
    "  tf.keras.layers.Dense(30, activation='relu'),\n",
    "  tf.keras.layers.Dense(10, activation='relu'),\n",
    "  tf.keras.layers.Dense(10, activation='relu'),\n",
    "  tf.keras.layers.Dense(1, activation='sigmoid')\n",
    "])"
   ]
  },
  {
   "cell_type": "markdown",
   "id": "08bb5240",
   "metadata": {},
   "source": [
    "While training, the parameters of the neural network are modified to increase the agreement between the classification of the training data by the neural network and the actual splitting in signal and background. \n",
    "The agreement is specified by a loss-function, which decreses with increasing agreement. Analogous to a Chi2 fit, the fit to the training data is done by determining the minimum of the loss-function. The choice of the specific loss-function has to be adapted to the problem the neural network has to solve. <br>\n",
    "\n",
    "The list of available loss-functions are listed here https://www.tensorflow.org/api_docs/python/tf/keras/losses\n",
    "For the binary (0 or 1) classification problem of the signal background separation the BinaryCrossentropy is used. <br>\n",
    "<b> Give more information!!! </b>"
   ]
  },
  {
   "cell_type": "code",
   "execution_count": 80,
   "id": "4fe2b485",
   "metadata": {},
   "outputs": [],
   "source": [
    "loss_fn = tf.keras.losses.BinaryCrossentropy(from_logits=True)"
   ]
  },
  {
   "cell_type": "markdown",
   "id": "8535bcb1",
   "metadata": {},
   "source": [
    "For the optimization of the loss-function different optimization algorithms can be used (see https://www.tensorflow.org/api_docs/python/tf/keras/optimizers). <br>\n",
    "The performance of the learning process is given by the metric (see https://www.tensorflow.org/api_docs/python/tf/keras/metrics)"
   ]
  },
  {
   "cell_type": "code",
   "execution_count": 81,
   "id": "ef560b30",
   "metadata": {},
   "outputs": [],
   "source": [
    "model.compile(optimizer='adam',\n",
    "              loss=loss_fn,\n",
    "              metrics=['binary_accuracy'])"
   ]
  },
  {
   "cell_type": "markdown",
   "id": "84a39a2b",
   "metadata": {},
   "source": [
    "early stopping?"
   ]
  },
  {
   "cell_type": "code",
   "execution_count": 82,
   "id": "a7bcb36a",
   "metadata": {},
   "outputs": [
    {
     "name": "stdout",
     "output_type": "stream",
     "text": [
      "Epoch 1/4\n"
     ]
    },
    {
     "name": "stderr",
     "output_type": "stream",
     "text": [
      "/usr/local/lib/python3.9/site-packages/tensorflow/python/util/dispatch.py:1082: UserWarning: \"`binary_crossentropy` received `from_logits=True`, but the `output` argument was produced by a sigmoid or softmax activation and thus does not represent logits. Was this intended?\"\n",
      "  return dispatch_target(*args, **kwargs)\n"
     ]
    },
    {
     "name": "stdout",
     "output_type": "stream",
     "text": [
      "22390/22390 [==============================] - 29s 1ms/step - loss: 0.4655 - binary_accuracy: 0.7840\n",
      "Epoch 2/4\n",
      "22390/22390 [==============================] - 28s 1ms/step - loss: 0.3827 - binary_accuracy: 0.8340\n",
      "Epoch 3/4\n",
      "22390/22390 [==============================] - 29s 1ms/step - loss: 0.3015 - binary_accuracy: 0.8789\n",
      "Epoch 4/4\n",
      "22390/22390 [==============================] - 28s 1ms/step - loss: 0.2590 - binary_accuracy: 0.9003\n"
     ]
    },
    {
     "data": {
      "text/plain": [
       "<keras.callbacks.History at 0x153265c10>"
      ]
     },
     "execution_count": 82,
     "metadata": {},
     "output_type": "execute_result"
    }
   ],
   "source": [
    "model.fit(train_input_values, train_input_classification, epochs=4)"
   ]
  },
  {
   "cell_type": "code",
   "execution_count": 83,
   "id": "2be8af87",
   "metadata": {},
   "outputs": [
    {
     "name": "stdout",
     "output_type": "stream",
     "text": [
      "2782/2782 - 2s - loss: 0.2397 - binary_accuracy: 0.9114 - 2s/epoch - 723us/step\n"
     ]
    },
    {
     "data": {
      "text/plain": [
       "[0.23965458571910858, 0.9114184379577637]"
      ]
     },
     "execution_count": 83,
     "metadata": {},
     "output_type": "execute_result"
    }
   ],
   "source": [
    "model.evaluate(test_input_values,  test_input_classification, verbose=2)"
   ]
  },
  {
   "cell_type": "markdown",
   "id": "43995bda",
   "metadata": {},
   "source": [
    "## Test the Model"
   ]
  },
  {
   "cell_type": "code",
   "execution_count": 84,
   "id": "9f0545f1",
   "metadata": {},
   "outputs": [],
   "source": [
    "# Prediction for test sample\n",
    "test_prediction = model.predict(test_input_values)"
   ]
  },
  {
   "cell_type": "code",
   "execution_count": 119,
   "id": "d0a5d0e1",
   "metadata": {},
   "outputs": [],
   "source": [
    "\n",
    "def calculate_roc_curve(prediction, truth_classification):\n",
    "    # convert prediction if it is a list of lists\n",
    "    if not any(isinstance(element, float) for element in prediction):\n",
    "        prediction = [element[0] for element in prediction]\n",
    "    \n",
    "    # Loop over a range of different DNN scores\n",
    "    x_range = np.linspace(1, 0, 100)\n",
    "    true_positive = []\n",
    "    false_positive = []\n",
    "    \n",
    "    # Numb er of signal and background events\n",
    "    signal_number = sum(truth_classification)\n",
    "    background_number = len(truth_classification) - signal_number\n",
    "    \n",
    "    # Boolea if signal or background\n",
    "    bool_signal = truth_classification > 0.5\n",
    "    bool_background = truth_classification < 0.5\n",
    "    for x in x_range:\n",
    "        bool_possitive = prediction > x\n",
    "        bool_true_positive = bool_possitive & bool_signal\n",
    "        bool_false_positive = bool_possitive & bool_background\n",
    "        true_positive.append(bool_true_positive.sum()/signal_number)\n",
    "        false_positive.append(bool_false_positive.sum()/background_number)\n",
    "\n",
    "    return true_positive, false_positive\n",
    "\n",
    "true_positive_rate, false_positive_rate = calculate_roc_curve(test_prediction, test_input_classification)"
   ]
  },
  {
   "cell_type": "code",
   "execution_count": 120,
   "id": "1ddf9c68",
   "metadata": {},
   "outputs": [
    {
     "name": "stdout",
     "output_type": "stream",
     "text": [
      "0.04086969860176342\n",
      "0.9591265627445061\n"
     ]
    }
   ],
   "source": [
    "# Area under roc curve\n",
    "from scipy import integrate\n",
    "\n",
    "def calc_list_integral(x_list, y_list):\n",
    "    # Remove redundancy before integration\n",
    "    no_redundacy_x = []\n",
    "    no_redundacy_y = []\n",
    "    for i in range(len(x_list)):\n",
    "        if x_list[i] not in no_redundacy_x:\n",
    "            no_redundacy_x.append(x_list[i])\n",
    "            no_redundacy_y.append(y_list[i])\n",
    "    integral = integrate.simpson(x = no_redundacy_x, y = no_redundacy_y)\n",
    "    return integral\n",
    "\n",
    "print(calc_list_integral(true_positive_rate, false_positive_rate))\n",
    "print(calc_list_integral(false_positive_rate, true_positive_rate))"
   ]
  },
  {
   "cell_type": "code",
   "execution_count": 121,
   "id": "129b1cb8",
   "metadata": {
    "scrolled": true
   },
   "outputs": [
    {
     "data": {
      "image/png": "[encoded data removed]",
      "text/plain": [
       "<Figure size 504x360 with 1 Axes>"
      ]
     },
     "metadata": {
      "needs_background": "light"
     },
     "output_type": "display_data"
    },
    {
     "data": {
      "image/png": "[encoded data removed]",
      "text/plain": [
       "<Figure size 504x360 with 1 Axes>"
      ]
     },
     "metadata": {
      "needs_background": "light"
     },
     "output_type": "display_data"
    }
   ],
   "source": [
    "def plot_roc_values(true_positive_rate, false_positive_rate):\n",
    "    \"\"\"This function plots the roc curve for the given values\"\"\"\n",
    "    fig = plt.figure(figsize=(7, 5))\n",
    "    plt.plot(false_positive_rate, true_positive_rate)\n",
    "    \n",
    "    # Style\n",
    "    plt.xlim(0, 1)\n",
    "    plt.ylim(0, 1)\n",
    "    plt.xlabel('false positive rate')\n",
    "    plt.ylabel('true positive rate')\n",
    "    plt.savefig('plots/roc_curve.pdf')\n",
    "    plt.grid()\n",
    "    plt.show()\n",
    "\n",
    "plot_roc_values(true_positive_rate, false_positive_rate)\n",
    "plot_roc_values(no_redundace_tp_rate, no_redundace_fp_rate)"
   ]
  },
  {
   "cell_type": "markdown",
   "id": "d2c6e4a7",
   "metadata": {},
   "source": [
    "## Apply Model"
   ]
  },
  {
   "cell_type": "code",
   "execution_count": 88,
   "id": "51df5129",
   "metadata": {},
   "outputs": [
    {
     "name": "stdout",
     "output_type": "stream",
     "text": [
      "Apply Model for ggH125_ZZ4lep\n",
      "Apply Model for VBFH125_ZZ4lep\n",
      "Apply Model for WH125_ZZ4lep\n",
      "Apply Model for ZH125_ZZ4lep\n",
      "Apply Model for llll\n",
      "Apply Model for Zee\n",
      "Apply Model for Zmumu\n",
      "Apply Model for ttbar_lep\n"
     ]
    }
   ],
   "source": [
    "for sample in sample_list_signal + sample_list_background:\n",
    "    print(f'Apply Model for {sample}')\n",
    "    # Get the values to apply the model\n",
    "    values = data_frames[sample][training_variables]\n",
    "    prediction = model.predict(values)\n",
    "    \n",
    "    # Convert prediction to array\n",
    "    prediction = [element[0] for element in prediction]\n",
    "    \n",
    "    # Add the prediction for each sample\n",
    "    data_frames[sample]['dnn_prediction'] = prediction"
   ]
  },
  {
   "cell_type": "code",
   "execution_count": 107,
   "id": "85645a5c",
   "metadata": {},
   "outputs": [
    {
     "data": {
      "image/png": "[encoded data removed]",
      "text/plain": [
       "<Figure size 504x504 with 1 Axes>"
      ]
     },
     "metadata": {
      "needs_background": "light"
     },
     "output_type": "display_data"
    }
   ],
   "source": [
    "# Investigate DDN Prediction\n",
    "var_lep1_pt = {'variable': 'dnn_prediction',\n",
    "               'binning': np.linspace(0.8, 1, 10),\n",
    "               'xlabel': 'DNN prediction'}\n",
    "\n",
    "common.plot_hist_sum(var_lep1_pt, data_frames)"
   ]
  },
  {
   "cell_type": "code",
   "execution_count": 111,
   "id": "16315792",
   "metadata": {},
   "outputs": [
    {
     "name": "stdout",
     "output_type": "stream",
     "text": [
      "ggH125_ZZ4lep\n",
      "0.9865408080470236\n",
      "VBFH125_ZZ4lep\n",
      "0.9861400973939102\n",
      "WH125_ZZ4lep\n",
      "0.9018624641833811\n",
      "ZH125_ZZ4lep\n",
      "0.8404620406796686\n",
      "llll\n",
      "0.17903377567243114\n",
      "Zee\n",
      "0.551440329218107\n",
      "Zmumu\n",
      "0.5330739299610895\n",
      "ttbar_lep\n",
      "0.5269461077844312\n"
     ]
    }
   ],
   "source": [
    "# Create a copy of the data frame\n",
    "apply_dnn_data_frames = data_frames.copy()\n",
    "\n",
    "# Apply the DNN value\n",
    "for sample in sample_list_signal + sample_list_background:\n",
    "    print(sample)\n",
    "    pass_dnn = apply_dnn_data_frames[sample]['dnn_prediction'] > 0.2\n",
    "    apply_dnn_data_frames[sample] = apply_dnn_data_frames[sample][pass_dnn]\n",
    "    print(len(apply_dnn_data_frames[sample])/len(data_frames[sample]))"
   ]
  },
  {
   "cell_type": "code",
   "execution_count": 118,
   "id": "d56ffaea",
   "metadata": {},
   "outputs": [
    {
     "data": {
      "image/png": "[encoded data removed]",
      "text/plain": [
       "<Figure size 504x504 with 1 Axes>"
      ]
     },
     "metadata": {
      "needs_background": "light"
     },
     "output_type": "display_data"
    }
   ],
   "source": [
    "# leading lepton pt\n",
    "var_lep1_pt = {'variable': 'lep_m_llll',\n",
    "               'binning': np.linspace(120, 140, 3),\n",
    "               'xlabel': '$m_{llll}$ [GeV]'}\n",
    "\n",
    "common.plot_hist_sum(var_lep1_pt, apply_dnn_data_frames)"
   ]
  },
  {
   "cell_type": "code",
   "execution_count": null,
   "id": "d753256e",
   "metadata": {},
   "outputs": [],
   "source": []
  }
 ],
 "metadata": {
  "kernelspec": {
   "display_name": "Python 3 (ipykernel)",
   "language": "python",
   "name": "python3"
  },
  "language_info": {
   "codemirror_mode": {
    "name": "ipython",
    "version": 3
   },
   "file_extension": ".py",
   "mimetype": "text/x-python",
   "name": "python",
   "nbconvert_exporter": "python",
   "pygments_lexer": "ipython3",
   "version": "3.9.7"
  }
 },
 "nbformat": 4,
 "nbformat_minor": 5
}
