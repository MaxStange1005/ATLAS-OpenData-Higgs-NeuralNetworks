{
 "cells": [
  {
   "cell_type": "markdown",
   "id": "2081cce3",
   "metadata": {},
   "source": [
    "# Discover the Higgs with Deep Neural Networks"
   ]
  },
  {
   "cell_type": "markdown",
   "id": "060ec659",
   "metadata": {},
   "source": [
    "The input data was created from 13 TeV ATLAS open data downloaded from http://opendata.atlas.cern/release/2020/documentation/index.html\n",
    "\n",
    "For more information read:<br>\n",
    "Review of the 13 TeV ATLAS Open Data release, Techn. Ber., All figures including auxiliary figures are available at https://atlas.web.cern.ch/Atlas/GROUPS/PHYSICS/PUBNOTES/ATL-OREACH-PUB-2020-001: CERN, 2020, url: http://cds.cern.ch/record/2707171"
   ]
  },
  {
   "cell_type": "markdown",
   "id": "3e312205",
   "metadata": {},
   "source": [
    "## Data Preparation"
   ]
  },
  {
   "cell_type": "markdown",
   "id": "8f5b2349",
   "metadata": {},
   "source": [
    "### Load the Data"
   ]
  },
  {
   "cell_type": "code",
   "execution_count": null,
   "id": "f9615674",
   "metadata": {},
   "outputs": [],
   "source": [
    "# Necessary imports\n",
    "import numpy as np\n",
    "import matplotlib.pyplot as plt\n",
    "import pandas as pd\n",
    "from numpy.random import seed\n",
    "import common"
   ]
  },
  {
   "cell_type": "markdown",
   "id": "3357ffaf",
   "metadata": {},
   "source": [
    "The goal of this lab course is to train a deep neural network to separate Higgs boson signal from background events. The most important signal sample ggH125_ZZ4lep corresponds to the process gg->H->ZZ. The dominant background sample is llll resulting from Z and ZZ decays.\n",
    "After training the DNN model will be used to classify the events of the data samples.\n",
    "\n",
    "Higgs signal samples:\n",
    "- ggH125_ZZ4lep\n",
    "- VBFH125_ZZ4lep\n",
    "- WH125_ZZ4lep\n",
    "- ZH125_ZZ4lep\n",
    "\n",
    "Background samples:\n",
    "- llll\n",
    "- Zee\n",
    "- Zmumu\n",
    "- ttbar_lep\n",
    "\n",
    "Data samples:\n",
    "- data_A\n",
    "- data_B\n",
    "- data_C\n",
    "- data_D"
   ]
  },
  {
   "cell_type": "code",
   "execution_count": null,
   "id": "22a2ae28",
   "metadata": {},
   "outputs": [],
   "source": [
    "# Define the input samples\n",
    "sample_list_signal = ['ggH125_ZZ4lep']\n",
    "sample_list_background = ['llll']\n",
    "sample_list_signal = ['ggH125_ZZ4lep', 'VBFH125_ZZ4lep', 'WH125_ZZ4lep', 'ZH125_ZZ4lep']\n",
    "sample_list_background = ['llll', 'Zee', 'Zmumu', 'ttbar_lep']"
   ]
  },
  {
   "cell_type": "code",
   "execution_count": null,
   "id": "e1b2ae67",
   "metadata": {},
   "outputs": [],
   "source": [
    "# Read all the samples\n",
    "no_selection_data_frames = {}\n",
    "for sample in sample_list_signal + sample_list_background:\n",
    "    no_selection_data_frames[sample] = pd.read_csv('input/' + sample + \".csv\")"
   ]
  },
  {
   "cell_type": "markdown",
   "id": "27a1549c",
   "metadata": {},
   "source": [
    "### Input Variables"
   ]
  },
  {
   "cell_type": "markdown",
   "id": "fe06218b",
   "metadata": {},
   "source": [
    "The input provides several variables to classify the events. Since each event has multiple leptons, they were ordered in descending order based on their transverse momentum. Thus, lepton 1 has the highest transverse momentum, lepton 2 the second highest, and so on. <br>\n",
    "Most of the given variables can be called low-level, because they represent event or object properties, which can be derived directly from the reconstruction in the detector. In contrast to this are high-level variables, which result from the combination of several low-level variables. In the given dataset the only high-level variables are invariant masses of multiple particles:<br>\n",
    "$m_{inv} = \\sqrt{\\left(\\sum\\limits_{i=1}^{n} E_i\\right)^2 - \\left(\\sum\\limits_{i=1}^{n} \\vec{p}_i\\right)^2}$\n",
    "\n",
    "\n",
    "List of all available variables:<br>\n",
    "- Event number\n",
    " - Each simulated event has its own specific number. (not used for training)\n",
    " - Variable name: eventNumber\n",
    "- Scale and event weight\n",
    " - The scaling for a data set is given by the sum of event weights, the cross section, luminosity and a efficiency scale factor\n",
    " - Each event has an additional specific event weight\n",
    " - To combine simulated events and finally compare them to data each event has to be scaled by the total weight, the product of scale weight and event weight\n",
    " - The weight are not used for training\n",
    " - Variable name: scaleWeight, eventWeight, totalWeight\n",
    "- Number of jets\n",
    " - Jets are particle showers which result primarily from quarks and gluons\n",
    " - Variable name: jet_n\n",
    "- Invariant four lepton mass\n",
    " - The invariant mass $m_{inv}(l_1, l_2, l_3, l_4)$ of the four leptons is extremly sensitive to Higgs boson events. This variable is to be displayed later and thus not used for training\n",
    " - Variable name: lep_m_llll\n",
    "- Invariant two lepton mass\n",
    " - Invariant masses $m_{inv}(l_i, l_j)$ of all combinations of two leptons\n",
    " - Variable names: lep_m_ll_12, lep_m_ll_13, lep_m_ll_14, lep_m_ll_23, lep_m_ll_24, lep_m_ll_34\n",
    "- Transverse momentum of the leptons\n",
    " - The momentum in the plane transverse to the beam axis\n",
    " - Variable names: lep1_pt, lep2_pt, lep3_pt, lep4_pt\n",
    "- Lepton azimuthal angle\n",
    " - The azimuthal angle $\\phi$ is measured in the plane transverse to the beam axis\n",
    " - Variable name: lep1_phi, lep2_phi, lep3_phi, lep4_phi\n",
    "- Lepton pseudo rapidity\n",
    " - The angle $\\theta$ is measured between the lepton track and the beam axis. Since this angle is not invariant against boosts along the beam axis, the pseudo rapidity $\\eta = - \\ln{\\tan{\\frac{\\theta}{2}}}$ is primarily used in the ATLAS analyses\n",
    " - Variable names: lep1_eta, lep2_eta, lep3_eta, lep4_eta\n",
    "- Lepton energy\n",
    " - The energy of the leptons reconstructed from the calorimeter entries\n",
    " - Variable name:lep1_e, lep2_e, lep3_e, lep4_e\n",
    "- Lepton PDG-ID\n",
    " - The lepton type is classified by a n umber given by the Particle-Data-Group. The lepton types are $pdg-id(e)=11$, $pdg-id(\\mu)=13$ and $pdg-id(\\tau)=15$\n",
    " - Variable name: lep1_pdgId, lep2_pdgId, lep3_pdgId, lep4_pdgId\n",
    "- Lepton charge\n",
    " - The charge of the given lepton reconstructed by the lepton track\n",
    " - Variable name: lep1_charge, lep2_charge, lep3_charge, lep4_charge"
   ]
  },
  {
   "cell_type": "markdown",
   "id": "9a7d2bda",
   "metadata": {},
   "source": [
    "### Event Pre-Selection"
   ]
  },
  {
   "cell_type": "markdown",
   "id": "facd6d51",
   "metadata": {},
   "source": [
    "Although the final selection of the data is to be performed on the basis of a DNN, a rough pre-selection of the data is still useful.\n",
    "For this purpose, selection criteria are defined, which return either true or false based on the event kinematics and thus decide whether the respective event is kept or discarded.\n",
    "Suitable criteria for this analysis are very basic selections that must be clearly fulfilled by H->ZZ->llll processes.\n",
    "\n",
    "\n",
    "Hint: What lepton types and charges are expected in the final state?"
   ]
  },
  {
   "cell_type": "code",
   "execution_count": null,
   "id": "ffa57853",
   "metadata": {},
   "outputs": [],
   "source": [
    "def cut_lep_type(lep_type_0, lep_type_1, lep_type_2, lep_type_3):\n",
    "    # Only keep events like eeee, mumumumu or eemumu\n",
    "    sum_lep_type = lep_type_0 + lep_type_1 + lep_type_2 + lep_type_3\n",
    "    return sum_lep_type == 44 or sum_lep_type == 48 or sum_lep_type == 52\n",
    "\n",
    "\n",
    "def cut_lep_charge(lep_charge_0, lep_charge_1, lep_charge_2, lep_charge_3):\n",
    "    # Only keep events where the sum of all lepton charges is zero\n",
    "    sum_lep_charge = lep_charge_0 + lep_charge_1 + lep_charge_2 + lep_charge_3\n",
    "    return sum_lep_charge == 0"
   ]
  },
  {
   "cell_type": "code",
   "execution_count": null,
   "id": "13fc29db",
   "metadata": {},
   "outputs": [],
   "source": [
    "# Create a copy of the original data frame to investigate later\n",
    "data_frames = no_selection_data_frames.copy()\n",
    "\n",
    "# Apply the chosen selection criteria\n",
    "for sample in sample_list_signal + sample_list_background:\n",
    "    # Selection on lepton type\n",
    "    type_selection = np.vectorize(cut_lep_type)(\n",
    "        data_frames[sample].lep1_pdgId,\n",
    "        data_frames[sample].lep2_pdgId,\n",
    "        data_frames[sample].lep3_pdgId,\n",
    "        data_frames[sample].lep4_pdgId)\n",
    "    data_frames[sample] = data_frames[sample][type_selection]\n",
    "\n",
    "    # Selection on lepton charge\n",
    "    charge_selection = np.vectorize(cut_lep_charge)(\n",
    "        data_frames[sample].lep1_charge,\n",
    "        data_frames[sample].lep2_charge,\n",
    "        data_frames[sample].lep3_charge,\n",
    "        data_frames[sample].lep4_charge)\n",
    "    data_frames[sample] = data_frames[sample][charge_selection]"
   ]
  },
  {
   "cell_type": "markdown",
   "id": "94202a44",
   "metadata": {},
   "source": [
    "### Data Investigation"
   ]
  },
  {
   "cell_type": "markdown",
   "id": "7e11cc8e",
   "metadata": {},
   "source": [
    "Before one can decide which variables are suitable for training, one must first get a feel for the input variables.\n",
    "For this purpose, the input samples are merged into a set of signal events and a set of background events. Afterwards, the behavior of signal and background can be studied in multiple variables."
   ]
  },
  {
   "cell_type": "code",
   "execution_count": null,
   "id": "591b7e64",
   "metadata": {},
   "outputs": [],
   "source": [
    "# Merge the signal and background data frames\n",
    "def merge_data_frames(sample_list, data_frames_dic):\n",
    "    for sample in sample_list:\n",
    "        if sample == sample_list[0]:\n",
    "            output_data_frame = data_frames_dic[sample]\n",
    "        else:\n",
    "            output_data_frame = pd.concat([output_data_frame, data_frames_dic[sample]], axis=0)\n",
    "        print(f'{sample}:')\n",
    "        n_events = sum(data_frames_dic[sample]['totalWeight'])\n",
    "        n_events_raw = len(data_frames_dic[sample]['totalWeight'])\n",
    "        n_events_neg = sum(data_frames_dic[sample]['totalWeight'] * (data_frames_dic[sample]['totalWeight'] < 0))\n",
    "        n_events_neg_raw = sum(list(data_frames_dic[sample]['totalWeight'] < 0))\n",
    "        print(f'Total number of events: {round(n_events, 2)}')\n",
    "        print(f'Negative raw events: {round(100 * n_events_neg_raw / n_events_raw, 2)}%')\n",
    "        print(f'Negative events: {abs(round(100 * n_events_neg / n_events, 2))}%')\n",
    "        print()\n",
    "    return output_data_frame\n",
    "\n",
    "data_frame_signal = merge_data_frames(sample_list_signal, data_frames)\n",
    "data_frame_background = merge_data_frames(sample_list_background, data_frames)"
   ]
  },
  {
   "cell_type": "markdown",
   "id": "2906682a",
   "metadata": {},
   "source": [
    "The function common.plot_hist(variable, data_frame_1, data_frame_2) plots the given variable of the two data sets.\n",
    "The variable must be a dictionary containing atleast the variable to plot. Additionally one can also specify the binning (list or numpy array) and the xlabel. The created histogram is automatically saved in the plots directory<br>\n",
    "An example for the transverse momnetum of the leading lepton is given below:"
   ]
  },
  {
   "cell_type": "code",
   "execution_count": null,
   "id": "8ae8494b",
   "metadata": {
    "scrolled": true
   },
   "outputs": [],
   "source": [
    "# leading lepton pt\n",
    "var_lep1_pt = {'variable': 'lep1_pt',\n",
    "               'binning': np.linspace(0, 300, 100),\n",
    "               'xlabel': '$p_T$ (lep 1) [GeV]'}\n",
    "\n",
    "common.plot_hist_sum(var_lep1_pt, data_frames)\n",
    "common.plot_normed_signal_vs_background(var_lep1_pt, data_frame_signal, data_frame_background)"
   ]
  },
  {
   "cell_type": "markdown",
   "id": "a38a5a5e",
   "metadata": {},
   "source": [
    "Investigate the signal vs background ratio before the training"
   ]
  },
  {
   "cell_type": "code",
   "execution_count": null,
   "id": "b7415e53",
   "metadata": {
    "scrolled": false
   },
   "outputs": [],
   "source": [
    "signal_event_number = sum(data_frame_signal.totalWeight)\n",
    "background_event_number = sum(data_frame_background.totalWeight)\n",
    "signal_background_ratio = signal_event_number/background_event_number\n",
    "print(f'There are {round(signal_event_number, 2)} signal ({len(data_frame_signal)} raw MC events) and {round(background_event_number, 2)} backgound events ({len(data_frame_background)} raw MC events)\\nThis gives a purity of {round(signal_background_ratio*100, 2)}%')"
   ]
  },
  {
   "cell_type": "markdown",
   "id": "a74ea3bc",
   "metadata": {},
   "source": [
    "## Training"
   ]
  },
  {
   "cell_type": "markdown",
   "id": "254918e6",
   "metadata": {},
   "source": [
    "In this chapter, the DNN is trained. Define the input variables for the classification. Feel free to test different combinations of low-level and high-level variables. Additionally, you can modify the structure of the DNN to gain optimal training results. When the setup is done, train the DNN, test it and redo this until you are happy with the result."
   ]
  },
  {
   "cell_type": "code",
   "execution_count": null,
   "id": "ac0e9914",
   "metadata": {},
   "outputs": [],
   "source": [
    "# The training input variables\n",
    "training_variables = ['lep1_pt', 'lep2_pt', 'lep3_pt', 'lep4_pt']\n",
    "training_variables += ['lep1_charge', 'lep2_charge', 'lep3_charge', 'lep4_charge']\n",
    "training_variables += ['lep1_pdgId', 'lep2_pdgId', 'lep3_pdgId', 'lep4_pdgId']\n",
    "training_variables += ['lep1_phi', 'lep2_phi', 'lep3_phi', 'lep4_phi']\n",
    "training_variables += ['lep1_eta', 'lep2_eta', 'lep3_eta', 'lep4_eta']\n",
    "training_variables += ['lep_m_ll_12', 'lep_m_ll_13', 'lep_m_ll_14', 'lep_m_ll_23', 'lep_m_ll_24', 'lep_m_ll_34']"
   ]
  },
  {
   "cell_type": "code",
   "execution_count": null,
   "id": "5a528eaf",
   "metadata": {},
   "outputs": [],
   "source": [
    "# Create the training input\n",
    "values = []\n",
    "weights = []\n",
    "classification = []\n",
    "for sample in sample_list_signal + sample_list_background:\n",
    "    # Classify signal and background (and skip if data)\n",
    "    if sample in sample_list_signal:\n",
    "        # 1 if signal\n",
    "        classification.append(np.ones(len(data_frames[sample])))\n",
    "    elif sample in sample_list_background:\n",
    "        # 0 if background\n",
    "        classification.append(np.zeros(len(data_frames[sample])))\n",
    "    else:\n",
    "        continue\n",
    "    # input values\n",
    "    values.append(data_frames[sample][training_variables])\n",
    "    weights.append(data_frames[sample]['totalWeight'])\n",
    "\n",
    "# Merge the input\n",
    "values = np.concatenate(values)\n",
    "weights = np.concatenate(weights)\n",
    "classification = np.concatenate(classification)"
   ]
  },
  {
   "cell_type": "markdown",
   "id": "6466faa7",
   "metadata": {},
   "source": [
    "The data set is split in a training, test and validation set. To have enough data to train use a splitting of 80%:10%:10%"
   ]
  },
  {
   "cell_type": "code",
   "execution_count": null,
   "id": "4f0035b0",
   "metadata": {},
   "outputs": [],
   "source": [
    "from sklearn.model_selection import train_test_split"
   ]
  },
  {
   "cell_type": "markdown",
   "id": "36847a78",
   "metadata": {},
   "source": [
    "Rescale the weights and keep the sample ratio?"
   ]
  },
  {
   "cell_type": "code",
   "execution_count": 72,
   "id": "8138d55c",
   "metadata": {},
   "outputs": [],
   "source": [
    "def reweight_weights(weights, classification):\n",
    "    # Take the absolute weight\n",
    "    weights_abs = np.abs(weights)\n",
    "    # Split in signal and background weights\n",
    "    weights_signal = weights_abs*classification\n",
    "    weights_background = weights_abs*(1 - classification)\n",
    "    # Set ratio of signal and backgroubnd to one\n",
    "    weights_reweighted = weights_background / sum(weights_background) + weights_signal / sum(weights_signal)\n",
    "    # Normalize mean weight to one\n",
    "    weights_reweighted /= weights_reweighted.mean()\n",
    "    print(weights_reweighted.mean())\n",
    "    return weights_reweighted"
   ]
  },
  {
   "cell_type": "code",
   "execution_count": 73,
   "id": "bd8a4906",
   "metadata": {},
   "outputs": [],
   "source": [
    "random_state = 420\n",
    "\n",
    "# Train data\n",
    "train_values, test_val_values, train_classification, test_val_classification = train_test_split(values, classification, test_size=0.2, random_state=random_state)\n",
    "train_weights, test_val_weights = train_test_split(weights, classification, test_size=0.2, random_state=random_state)[:2]\n",
    "\n",
    "# Test and validation data\n",
    "test_values, val_values, test_classification, val_classification = train_test_split(test_val_values, test_val_classification, test_size=0.5, random_state=random_state)\n",
    "test_weights, val_weights = train_test_split(test_val_weights, test_val_classification, test_size=0.5, random_state=random_state)[:2]\n",
    "\n",
    "# Get reweighted weights\n",
    "train_weights_reweighted = reweight_weights(train_weights, train_classification)\n",
    "test_weights_reweighted = reweight_weights(test_weights, test_classification)\n",
    "val_weights_reweighted = reweight_weights(val_weights, val_classification)"
   ]
  },
  {
   "cell_type": "code",
   "execution_count": 74,
   "id": "f1cf62dc",
   "metadata": {},
   "outputs": [],
   "source": [
    "# Import the tensorflow module to create a DNN\n",
    "\n",
    "import tensorflow as tf\n",
    "import pandas as pd\n",
    "from tensorflow.python.framework.ops import disable_eager_execution\n",
    "\n",
    "disable_eager_execution()"
   ]
  },
  {
   "cell_type": "markdown",
   "id": "467e845a",
   "metadata": {},
   "source": [
    "Create you DNN consisting of several layers. \n",
    "\n",
    "A full list of layer types can be found here https://www.tensorflow.org/api_docs/python/tf/keras/layers <br>\n",
    "Some important examples for layers are:\n",
    "- Dense: a densely connected NN layer\n",
    "- Flatten: flattens the input\n",
    "- Dropout: randomly sets input to 0. Can decrease overtraining\n",
    "\n",
    "The neurons of each layer are activated by the so called activation function. <br>\n",
    "A full list of provided activation functions can be found here https://www.tensorflow.org/api_docs/python/tf/keras/activations <br>\n",
    "Some examples are:\n",
    "- linear: $linear(x) = x$\n",
    "- relu: linear for $x>0$ ($relu(x) = max(0, x)$)\n",
    "- exponential: $exponential(x) = e^x$\n",
    "- sigmoid: $sigmoid(x) = 1 / (1 + e^{-x})$\n",
    "\n",
    "To classify background and signal the last layer should only consist of one neuron which has an activation between 0 and 1"
   ]
  },
  {
   "cell_type": "code",
   "execution_count": 75,
   "id": "541ee86d",
   "metadata": {},
   "outputs": [],
   "source": [
    "def get_model(n_layers, n_nodes):\n",
    "    model_layers = [tf.keras.layers.Normalization(mean=0, variance=1)]\n",
    "    for i_layer in range(n_layers):\n",
    "        model_layers.append(tf.keras.layers.Dense(n_nodes, activation='relu'))\n",
    "    model_layers.append(tf.keras.layers.Dense(1, activation='sigmoid'))\n",
    "    model = tf.keras.models.Sequential(model_layers)\n",
    "    return model"
   ]
  },
  {
   "cell_type": "code",
   "execution_count": 76,
   "id": "b80e881c",
   "metadata": {},
   "outputs": [
    {
     "name": "stdout",
     "output_type": "stream",
     "text": [
      "[(2, 10), (2, 50), (2, 100), (4, 10), (4, 50), (4, 100), (6, 10), (6, 50), (6, 100)]\n"
     ]
    }
   ],
   "source": [
    "import itertools\n",
    "n_layers = [2, 4, 6]\n",
    "n_nodes = [10, 50, 100]\n",
    "hyper_parameters = list(itertools.product(n_layers, n_nodes))\n",
    "print(hyper_parameters)\n",
    "models = {}\n",
    "for (n_layers, n_nodes) in hyper_parameters:\n",
    "    model_name = f'dnn_{str(n_layers)}_{str(n_nodes)}'\n",
    "    models[model_name] = {'model': get_model(n_layers, n_nodes)}"
   ]
  },
  {
   "cell_type": "markdown",
   "id": "08bb5240",
   "metadata": {},
   "source": [
    "While training, the parameters of the neural network are modified to increase the agreement between the classification of the training data by the neural network and the actual splitting in signal and background. \n",
    "The agreement is specified by a loss-function, which decreses with increasing agreement. Analogous to a Chi2 fit, the fit to the training data is done by determining the minimum of the loss-function. The choice of the specific loss-function has to be adapted to the problem the neural network has to solve. <br>\n",
    "\n",
    "The list of available loss-functions are listed here https://www.tensorflow.org/api_docs/python/tf/keras/losses\n",
    "For the binary (0 or 1) classification problem of the signal background separation the BinaryCrossentropy is used. <br>\n",
    "<b> Give more information!!! </b>"
   ]
  },
  {
   "cell_type": "code",
   "execution_count": 77,
   "id": "4fe2b485",
   "metadata": {},
   "outputs": [],
   "source": [
    "loss_fn = tf.keras.losses.BinaryCrossentropy(from_logits=False)"
   ]
  },
  {
   "cell_type": "markdown",
   "id": "8535bcb1",
   "metadata": {},
   "source": [
    "For the optimization of the loss-function different optimization algorithms can be used (see https://www.tensorflow.org/api_docs/python/tf/keras/optimizers). <br>\n",
    "The performance of the learning process is given by the metric (see https://www.tensorflow.org/api_docs/python/tf/keras/metrics)"
   ]
  },
  {
   "cell_type": "code",
   "execution_count": 78,
   "id": "c60c5f74",
   "metadata": {},
   "outputs": [],
   "source": [
    "for model_name in models:\n",
    "    models[model_name]['model'].compile(optimizer='adam',\n",
    "                                        loss=loss_fn,\n",
    "                                        weighted_metrics=['binary_accuracy'])"
   ]
  },
  {
   "cell_type": "markdown",
   "id": "84a39a2b",
   "metadata": {},
   "source": [
    "Early stopping"
   ]
  },
  {
   "cell_type": "code",
   "execution_count": 79,
   "id": "60823bf4",
   "metadata": {},
   "outputs": [],
   "source": [
    "early_stopping = tf.keras.callbacks.EarlyStopping(monitor='val_loss', patience=3)"
   ]
  },
  {
   "cell_type": "markdown",
   "id": "2f98156b",
   "metadata": {
    "scrolled": false
   },
   "source": [
    "fit_history = model.fit(train_values, train_classification, sample_weight=np.abs(train_weights_reweighted), validation_data=(test_values, test_classification, np.abs(test_weights_reweighted)), callbacks=[early_stopping], epochs=40)"
   ]
  },
  {
   "cell_type": "code",
   "execution_count": 80,
   "id": "3b29dc6f",
   "metadata": {},
   "outputs": [
    {
     "name": "stdout",
     "output_type": "stream",
     "text": [
      "Start training for dnn_2_10:\n",
      "Train on 715864 samples, validate on 89483 samples\n",
      "Epoch 1/40\n",
      "715424/715864 [============================>.] - ETA: 0s - loss: 0.3167 - binary_accuracy: 0.8707"
     ]
    },
    {
     "name": "stderr",
     "output_type": "stream",
     "text": [
      "/usr/local/lib/python3.9/site-packages/keras/engine/training_v1.py:2057: UserWarning: `Model.state_updates` will be removed in a future version. This property should not be used in TensorFlow 2.0, as `updates` are applied automatically.\n",
      "  updates = self.state_updates\n"
     ]
    },
    {
     "name": "stdout",
     "output_type": "stream",
     "text": [
      "715864/715864 [==============================] - 24s 33us/sample - loss: 0.3166 - binary_accuracy: 0.8708 - val_loss: 0.2081 - val_binary_accuracy: 0.9263\n",
      "Epoch 2/40\n",
      "715864/715864 [==============================] - 23s 32us/sample - loss: 0.2280 - binary_accuracy: 0.9154 - val_loss: 0.2578 - val_binary_accuracy: 0.8901\n",
      "Epoch 3/40\n",
      "715864/715864 [==============================] - 23s 33us/sample - loss: 0.2156 - binary_accuracy: 0.9208 - val_loss: 0.1912 - val_binary_accuracy: 0.9385\n",
      "Epoch 4/40\n",
      "715864/715864 [==============================] - 23s 32us/sample - loss: 0.2068 - binary_accuracy: 0.9257 - val_loss: 0.1909 - val_binary_accuracy: 0.9336\n",
      "Epoch 5/40\n",
      "715864/715864 [==============================] - 23s 32us/sample - loss: 0.2012 - binary_accuracy: 0.9262 - val_loss: 0.2159 - val_binary_accuracy: 0.9173\n",
      "Epoch 6/40\n",
      "715864/715864 [==============================] - 23s 32us/sample - loss: 0.1963 - binary_accuracy: 0.9296 - val_loss: 0.1853 - val_binary_accuracy: 0.9409\n",
      "Epoch 7/40\n",
      "715864/715864 [==============================] - 23s 32us/sample - loss: 0.1923 - binary_accuracy: 0.9322 - val_loss: 0.2181 - val_binary_accuracy: 0.9197\n",
      "Epoch 8/40\n",
      "715864/715864 [==============================] - 24s 33us/sample - loss: 0.1907 - binary_accuracy: 0.9335 - val_loss: 0.1902 - val_binary_accuracy: 0.9322\n",
      "Epoch 9/40\n",
      "715864/715864 [==============================] - 35s 48us/sample - loss: 0.1901 - binary_accuracy: 0.9333 - val_loss: 0.1762 - val_binary_accuracy: 0.9399\n",
      "Epoch 10/40\n",
      "715864/715864 [==============================] - 37s 52us/sample - loss: 0.1888 - binary_accuracy: 0.9336 - val_loss: 0.1848 - val_binary_accuracy: 0.9334\n",
      "Epoch 11/40\n",
      "715864/715864 [==============================] - 37s 51us/sample - loss: 0.1872 - binary_accuracy: 0.9332 - val_loss: 0.1839 - val_binary_accuracy: 0.9345\n",
      "Epoch 12/40\n",
      "715864/715864 [==============================] - 41s 57us/sample - loss: 0.1851 - binary_accuracy: 0.9341 - val_loss: 0.1896 - val_binary_accuracy: 0.9352\n",
      "Start training for dnn_2_50:\n",
      "Train on 715864 samples, validate on 89483 samples\n",
      "Epoch 1/40\n",
      "715864/715864 [==============================] - 44s 61us/sample - loss: 0.3071 - binary_accuracy: 0.8864 - val_loss: 0.6637 - val_binary_accuracy: 0.7460\n",
      "Epoch 2/40\n",
      "715864/715864 [==============================] - 42s 58us/sample - loss: 0.2252 - binary_accuracy: 0.9152 - val_loss: 0.1924 - val_binary_accuracy: 0.9363\n",
      "Epoch 3/40\n",
      "715864/715864 [==============================] - 44s 62us/sample - loss: 0.2068 - binary_accuracy: 0.9254 - val_loss: 0.1915 - val_binary_accuracy: 0.9316\n",
      "Epoch 4/40\n",
      "715864/715864 [==============================] - 33s 46us/sample - loss: 0.1987 - binary_accuracy: 0.9276 - val_loss: 0.1878 - val_binary_accuracy: 0.9331\n",
      "Epoch 5/40\n",
      "715864/715864 [==============================] - 26s 36us/sample - loss: 0.1955 - binary_accuracy: 0.9308 - val_loss: 0.1930 - val_binary_accuracy: 0.9339\n",
      "Epoch 6/40\n",
      "715864/715864 [==============================] - 27s 38us/sample - loss: 0.1924 - binary_accuracy: 0.9308 - val_loss: 0.1836 - val_binary_accuracy: 0.9360\n",
      "Epoch 7/40\n",
      "715864/715864 [==============================] - 39s 54us/sample - loss: 0.1857 - binary_accuracy: 0.9354 - val_loss: 0.1929 - val_binary_accuracy: 0.9325\n",
      "Epoch 8/40\n",
      "715864/715864 [==============================] - 45s 63us/sample - loss: 0.1869 - binary_accuracy: 0.9350 - val_loss: 0.1921 - val_binary_accuracy: 0.9334\n",
      "Epoch 9/40\n",
      "715864/715864 [==============================] - 45s 62us/sample - loss: 0.1828 - binary_accuracy: 0.9364 - val_loss: 0.1799 - val_binary_accuracy: 0.9401\n",
      "Epoch 10/40\n",
      "715864/715864 [==============================] - 48s 68us/sample - loss: 0.1813 - binary_accuracy: 0.9363 - val_loss: 0.1920 - val_binary_accuracy: 0.9342\n",
      "Epoch 11/40\n",
      "715864/715864 [==============================] - 42s 59us/sample - loss: 0.1807 - binary_accuracy: 0.9362 - val_loss: 0.1800 - val_binary_accuracy: 0.9405\n",
      "Epoch 12/40\n",
      "715864/715864 [==============================] - 52s 73us/sample - loss: 0.1823 - binary_accuracy: 0.9361 - val_loss: 0.1752 - val_binary_accuracy: 0.9409\n",
      "Epoch 13/40\n",
      "715864/715864 [==============================] - 42s 59us/sample - loss: 0.1796 - binary_accuracy: 0.9363 - val_loss: 0.1746 - val_binary_accuracy: 0.9401\n",
      "Epoch 14/40\n",
      "715864/715864 [==============================] - 42s 58us/sample - loss: 0.1760 - binary_accuracy: 0.9386 - val_loss: 0.2316 - val_binary_accuracy: 0.9167\n",
      "Epoch 15/40\n",
      "715864/715864 [==============================] - 29s 40us/sample - loss: 0.1718 - binary_accuracy: 0.9415 - val_loss: 0.1665 - val_binary_accuracy: 0.9402\n",
      "Epoch 16/40\n",
      "715864/715864 [==============================] - 26s 36us/sample - loss: 0.1736 - binary_accuracy: 0.9423 - val_loss: 0.1691 - val_binary_accuracy: 0.9381\n",
      "Epoch 17/40\n",
      "715864/715864 [==============================] - 33s 46us/sample - loss: 0.1738 - binary_accuracy: 0.9391 - val_loss: 0.1635 - val_binary_accuracy: 0.9410\n",
      "Epoch 18/40\n",
      "715864/715864 [==============================] - 35s 49us/sample - loss: 0.1708 - binary_accuracy: 0.9422 - val_loss: 0.1732 - val_binary_accuracy: 0.9414\n",
      "Epoch 19/40\n",
      "715864/715864 [==============================] - 29s 41us/sample - loss: 0.1745 - binary_accuracy: 0.9395 - val_loss: 0.1718 - val_binary_accuracy: 0.9381\n",
      "Epoch 20/40\n",
      "715864/715864 [==============================] - 26s 37us/sample - loss: 0.1673 - binary_accuracy: 0.9430 - val_loss: 0.1719 - val_binary_accuracy: 0.9411\n",
      "Start training for dnn_2_100:\n",
      "Train on 715864 samples, validate on 89483 samples\n",
      "Epoch 1/40\n",
      "715864/715864 [==============================] - 29s 41us/sample - loss: 0.3072 - binary_accuracy: 0.8871 - val_loss: 0.2670 - val_binary_accuracy: 0.9028\n",
      "Epoch 2/40\n",
      "715864/715864 [==============================] - 42s 58us/sample - loss: 0.2277 - binary_accuracy: 0.9170 - val_loss: 0.2016 - val_binary_accuracy: 0.9335\n",
      "Epoch 3/40\n",
      "715864/715864 [==============================] - 33s 46us/sample - loss: 0.2119 - binary_accuracy: 0.9215 - val_loss: 0.2022 - val_binary_accuracy: 0.9288\n",
      "Epoch 4/40\n",
      "715864/715864 [==============================] - 32s 45us/sample - loss: 0.2116 - binary_accuracy: 0.9245 - val_loss: 0.2219 - val_binary_accuracy: 0.9238\n",
      "Epoch 5/40\n",
      "715864/715864 [==============================] - 29s 41us/sample - loss: 0.2023 - binary_accuracy: 0.9305 - val_loss: 0.1887 - val_binary_accuracy: 0.9410\n",
      "Epoch 6/40\n",
      "715864/715864 [==============================] - 36s 51us/sample - loss: 0.2032 - binary_accuracy: 0.9282 - val_loss: 0.1894 - val_binary_accuracy: 0.9356\n",
      "Epoch 7/40\n",
      "715864/715864 [==============================] - 36s 51us/sample - loss: 0.1938 - binary_accuracy: 0.9343 - val_loss: 0.1788 - val_binary_accuracy: 0.9407\n",
      "Epoch 8/40\n",
      "715864/715864 [==============================] - 38s 53us/sample - loss: 0.1872 - binary_accuracy: 0.9342 - val_loss: 0.1653 - val_binary_accuracy: 0.9418\n",
      "Epoch 9/40\n",
      "715864/715864 [==============================] - 35s 49us/sample - loss: 0.1869 - binary_accuracy: 0.9344 - val_loss: 0.3041 - val_binary_accuracy: 0.8690\n",
      "Epoch 10/40\n",
      "715864/715864 [==============================] - 42s 58us/sample - loss: 0.1885 - binary_accuracy: 0.9345 - val_loss: 0.4374 - val_binary_accuracy: 0.8369\n",
      "Epoch 11/40\n",
      "715864/715864 [==============================] - 49s 68us/sample - loss: 0.1851 - binary_accuracy: 0.9359 - val_loss: 0.1764 - val_binary_accuracy: 0.9398\n",
      "Start training for dnn_4_10:\n",
      "Train on 715864 samples, validate on 89483 samples\n",
      "Epoch 1/40\n",
      "715864/715864 [==============================] - 65s 90us/sample - loss: 0.2885 - binary_accuracy: 0.8804 - val_loss: 0.2093 - val_binary_accuracy: 0.9181\n",
      "Epoch 2/40\n",
      "715864/715864 [==============================] - 37s 52us/sample - loss: 0.2187 - binary_accuracy: 0.9192 - val_loss: 0.2573 - val_binary_accuracy: 0.8808\n",
      "Epoch 3/40\n",
      "715864/715864 [==============================] - 34s 47us/sample - loss: 0.2105 - binary_accuracy: 0.9199 - val_loss: 0.2903 - val_binary_accuracy: 0.8830\n",
      "Epoch 4/40\n",
      "715864/715864 [==============================] - 34s 48us/sample - loss: 0.2071 - binary_accuracy: 0.9257 - val_loss: 0.1895 - val_binary_accuracy: 0.9339\n",
      "Epoch 5/40\n",
      "715864/715864 [==============================] - 41s 57us/sample - loss: 0.2017 - binary_accuracy: 0.9275 - val_loss: 0.1779 - val_binary_accuracy: 0.9368\n"
     ]
    },
    {
     "name": "stdout",
     "output_type": "stream",
     "text": [
      "Epoch 6/40\n",
      "715864/715864 [==============================] - 29s 41us/sample - loss: 0.1942 - binary_accuracy: 0.9309 - val_loss: 0.1786 - val_binary_accuracy: 0.9396\n",
      "Epoch 7/40\n",
      "715864/715864 [==============================] - 32s 45us/sample - loss: 0.1942 - binary_accuracy: 0.9302 - val_loss: 0.1802 - val_binary_accuracy: 0.9360\n",
      "Epoch 8/40\n",
      "715864/715864 [==============================] - 31s 44us/sample - loss: 0.1916 - binary_accuracy: 0.9340 - val_loss: 0.1933 - val_binary_accuracy: 0.9351\n",
      "Start training for dnn_4_50:\n",
      "Train on 715864 samples, validate on 89483 samples\n",
      "Epoch 1/40\n",
      "715864/715864 [==============================] - 39s 54us/sample - loss: 0.2946 - binary_accuracy: 0.8831 - val_loss: 0.3571 - val_binary_accuracy: 0.8630\n",
      "Epoch 2/40\n",
      "715864/715864 [==============================] - 36s 51us/sample - loss: 0.2416 - binary_accuracy: 0.9106 - val_loss: 0.2146 - val_binary_accuracy: 0.9217\n",
      "Epoch 3/40\n",
      "715864/715864 [==============================] - 34s 48us/sample - loss: 0.2320 - binary_accuracy: 0.9193 - val_loss: 0.1853 - val_binary_accuracy: 0.9373\n",
      "Epoch 4/40\n",
      "715864/715864 [==============================] - 33s 45us/sample - loss: 0.2244 - binary_accuracy: 0.9221 - val_loss: 0.2143 - val_binary_accuracy: 0.9375\n",
      "Epoch 5/40\n",
      "715864/715864 [==============================] - 32s 45us/sample - loss: 0.2128 - binary_accuracy: 0.9294 - val_loss: 0.1965 - val_binary_accuracy: 0.9357\n",
      "Epoch 6/40\n",
      "715864/715864 [==============================] - 28s 40us/sample - loss: 0.2137 - binary_accuracy: 0.9285 - val_loss: 0.1977 - val_binary_accuracy: 0.9359\n",
      "Start training for dnn_4_100:\n",
      "Train on 715864 samples, validate on 89483 samples\n",
      "Epoch 1/40\n",
      "715864/715864 [==============================] - 33s 46us/sample - loss: 0.2996 - binary_accuracy: 0.8836 - val_loss: 0.2401 - val_binary_accuracy: 0.8986\n",
      "Epoch 2/40\n",
      "715864/715864 [==============================] - 41s 57us/sample - loss: 0.2579 - binary_accuracy: 0.9084 - val_loss: 0.2116 - val_binary_accuracy: 0.9356\n",
      "Epoch 3/40\n",
      "715864/715864 [==============================] - 38s 53us/sample - loss: 0.2408 - binary_accuracy: 0.9150 - val_loss: 0.1879 - val_binary_accuracy: 0.9334\n",
      "Epoch 4/40\n",
      "715864/715864 [==============================] - 39s 54us/sample - loss: 0.2255 - binary_accuracy: 0.9235 - val_loss: 0.1899 - val_binary_accuracy: 0.9381\n",
      "Epoch 5/40\n",
      "715864/715864 [==============================] - 45s 63us/sample - loss: 0.2229 - binary_accuracy: 0.9246 - val_loss: 0.2083 - val_binary_accuracy: 0.9268\n",
      "Epoch 6/40\n",
      "715864/715864 [==============================] - 39s 54us/sample - loss: 0.2193 - binary_accuracy: 0.9269 - val_loss: 0.2075 - val_binary_accuracy: 0.9346\n",
      "Start training for dnn_6_10:\n",
      "Train on 715864 samples, validate on 89483 samples\n",
      "Epoch 1/40\n",
      "715864/715864 [==============================] - 35s 49us/sample - loss: 0.2945 - binary_accuracy: 0.8777 - val_loss: 0.2161 - val_binary_accuracy: 0.9240\n",
      "Epoch 2/40\n",
      "715864/715864 [==============================] - 35s 49us/sample - loss: 0.2353 - binary_accuracy: 0.9152 - val_loss: 0.1987 - val_binary_accuracy: 0.9365\n",
      "Epoch 3/40\n",
      "715864/715864 [==============================] - 37s 52us/sample - loss: 0.2163 - binary_accuracy: 0.9228 - val_loss: 0.2073 - val_binary_accuracy: 0.9320\n",
      "Epoch 4/40\n",
      "715864/715864 [==============================] - 39s 55us/sample - loss: 0.2044 - binary_accuracy: 0.9287 - val_loss: 0.1889 - val_binary_accuracy: 0.9431\n",
      "Epoch 5/40\n",
      "715864/715864 [==============================] - 34s 47us/sample - loss: 0.2017 - binary_accuracy: 0.9280 - val_loss: 0.1866 - val_binary_accuracy: 0.9345\n",
      "Epoch 6/40\n",
      "715864/715864 [==============================] - 33s 46us/sample - loss: 0.2044 - binary_accuracy: 0.9283 - val_loss: 0.2015 - val_binary_accuracy: 0.9315\n",
      "Epoch 7/40\n",
      "715864/715864 [==============================] - 30s 42us/sample - loss: 0.2042 - binary_accuracy: 0.9296 - val_loss: 0.1956 - val_binary_accuracy: 0.9339\n",
      "Epoch 8/40\n",
      "715864/715864 [==============================] - 30s 41us/sample - loss: 0.1950 - binary_accuracy: 0.9326 - val_loss: 0.1867 - val_binary_accuracy: 0.9376\n",
      "Start training for dnn_6_50:\n",
      "Train on 715864 samples, validate on 89483 samples\n",
      "Epoch 1/40\n",
      "715864/715864 [==============================] - 127s 177us/sample - loss: 0.3249 - binary_accuracy: 0.8752 - val_loss: 0.2262 - val_binary_accuracy: 0.9115\n",
      "Epoch 2/40\n",
      "715864/715864 [==============================] - 47s 66us/sample - loss: 0.2414 - binary_accuracy: 0.9158 - val_loss: 0.2092 - val_binary_accuracy: 0.9306\n",
      "Epoch 3/40\n",
      "715864/715864 [==============================] - 40s 55us/sample - loss: 0.2424 - binary_accuracy: 0.9158 - val_loss: 0.5895 - val_binary_accuracy: 0.8447\n",
      "Epoch 4/40\n",
      "715864/715864 [==============================] - 35s 49us/sample - loss: 0.2219 - binary_accuracy: 0.9238 - val_loss: 0.2425 - val_binary_accuracy: 0.9186\n",
      "Epoch 5/40\n",
      "715864/715864 [==============================] - 39s 54us/sample - loss: 0.2199 - binary_accuracy: 0.9251 - val_loss: 0.2191 - val_binary_accuracy: 0.9325\n",
      "Start training for dnn_6_100:\n",
      "Train on 715864 samples, validate on 89483 samples\n",
      "Epoch 1/40\n",
      "715864/715864 [==============================] - 52s 72us/sample - loss: 0.3155 - binary_accuracy: 0.8753 - val_loss: 0.2830 - val_binary_accuracy: 0.9220\n",
      "Epoch 2/40\n",
      "715864/715864 [==============================] - 48s 67us/sample - loss: 0.2559 - binary_accuracy: 0.9099 - val_loss: 0.2277 - val_binary_accuracy: 0.9254\n",
      "Epoch 3/40\n",
      "715864/715864 [==============================] - 63s 88us/sample - loss: 0.2371 - binary_accuracy: 0.9202 - val_loss: 0.3460 - val_binary_accuracy: 0.8869\n",
      "Epoch 4/40\n",
      "715864/715864 [==============================] - 79s 111us/sample - loss: 0.2172 - binary_accuracy: 0.9265 - val_loss: 0.1999 - val_binary_accuracy: 0.9286\n",
      "Epoch 5/40\n",
      "715864/715864 [==============================] - 77s 108us/sample - loss: 0.2164 - binary_accuracy: 0.9265 - val_loss: 0.1905 - val_binary_accuracy: 0.9337\n",
      "Epoch 6/40\n",
      "715864/715864 [==============================] - 71s 99us/sample - loss: 0.2148 - binary_accuracy: 0.9265 - val_loss: 0.1945 - val_binary_accuracy: 0.9328\n",
      "Epoch 7/40\n",
      "715864/715864 [==============================] - 69s 96us/sample - loss: 0.2145 - binary_accuracy: 0.9275 - val_loss: 0.1855 - val_binary_accuracy: 0.9369\n",
      "Epoch 8/40\n",
      "715864/715864 [==============================] - 77s 107us/sample - loss: 0.2109 - binary_accuracy: 0.9302 - val_loss: 0.1939 - val_binary_accuracy: 0.9384\n",
      "Epoch 9/40\n",
      "715864/715864 [==============================] - 70s 98us/sample - loss: 0.2128 - binary_accuracy: 0.9302 - val_loss: 0.2596 - val_binary_accuracy: 0.9212\n",
      "Epoch 10/40\n",
      "715864/715864 [==============================] - 69s 97us/sample - loss: 0.2119 - binary_accuracy: 0.9281 - val_loss: 0.2059 - val_binary_accuracy: 0.9302\n"
     ]
    }
   ],
   "source": [
    "for model_name in models:\n",
    "    print(f'Start training for {model_name}:')\n",
    "    history = models[model_name]['model'].fit(train_values, train_classification, sample_weight=train_weights_reweighted, validation_data=(test_values, test_classification, test_weights_reweighted), callbacks=[early_stopping], epochs=40)\n",
    "    models[model_name]['history'] = history"
   ]
  },
  {
   "cell_type": "code",
   "execution_count": 81,
   "id": "ba07b18c",
   "metadata": {},
   "outputs": [
    {
     "data": {
      "image/png": "[encoded data removed]",
      "text/plain": [
       "<Figure size 432x288 with 1 Axes>"
      ]
     },
     "metadata": {
      "needs_background": "light"
     },
     "output_type": "display_data"
    }
   ],
   "source": [
    "color_list = ['red', 'orange', 'blue', 'peru', 'purple', 'lime', 'cyan', 'crimson', 'coral']\n",
    "model_list = list(models.keys())\n",
    "model_colors = {}\n",
    "for i in range(len(models)):\n",
    "    model_name = model_list[i]\n",
    "    model_colors[model_name] = color_list[i]\n",
    "\n",
    "for model_name in models:\n",
    "    plt.plot(models[model_name]['history'].history['loss'], color=model_colors[model_name], linestyle='--')\n",
    "    plt.plot(models[model_name]['history'].history['val_loss'], label=f'{model_name}', color=model_colors[model_name])\n",
    "\n",
    "plt.title('model loss')\n",
    "plt.ylabel('loss')\n",
    "plt.xlabel('epoch')\n",
    "plt.legend(loc='center left', bbox_to_anchor=(1, 0.5))\n",
    "plt.savefig('plots/train_comparison.pdf')\n",
    "plt.show()"
   ]
  },
  {
   "cell_type": "markdown",
   "id": "43995bda",
   "metadata": {},
   "source": [
    "## Evaluate the Model"
   ]
  },
  {
   "cell_type": "code",
   "execution_count": 82,
   "id": "b1e9ea20",
   "metadata": {},
   "outputs": [],
   "source": [
    "from sklearn import metrics"
   ]
  },
  {
   "cell_type": "code",
   "execution_count": 83,
   "id": "ada8fabb",
   "metadata": {},
   "outputs": [
    {
     "name": "stderr",
     "output_type": "stream",
     "text": [
      "/usr/local/lib/python3.9/site-packages/keras/engine/training_v1.py:2079: UserWarning: `Model.state_updates` will be removed in a future version. This property should not be used in TensorFlow 2.0, as `updates` are applied automatically.\n",
      "  updates=self.state_updates,\n"
     ]
    },
    {
     "name": "stdout",
     "output_type": "stream",
     "text": [
      "dnn_2_10: \tROC = 0.975  \ttest_loss = 0.20809378 \ttest_acc = 92.6% \ttest/train_loss = 0.7\n"
     ]
    },
    {
     "name": "stderr",
     "output_type": "stream",
     "text": [
      "/usr/local/lib/python3.9/site-packages/keras/engine/training_v1.py:2079: UserWarning: `Model.state_updates` will be removed in a future version. This property should not be used in TensorFlow 2.0, as `updates` are applied automatically.\n",
      "  updates=self.state_updates,\n"
     ]
    },
    {
     "name": "stdout",
     "output_type": "stream",
     "text": [
      "dnn_2_50: \tROC = 0.981  \ttest_loss = 0.66365135 \ttest_acc = 74.6% \ttest/train_loss = 2.2\n"
     ]
    },
    {
     "name": "stderr",
     "output_type": "stream",
     "text": [
      "/usr/local/lib/python3.9/site-packages/keras/engine/training_v1.py:2079: UserWarning: `Model.state_updates` will be removed in a future version. This property should not be used in TensorFlow 2.0, as `updates` are applied automatically.\n",
      "  updates=self.state_updates,\n"
     ]
    },
    {
     "name": "stdout",
     "output_type": "stream",
     "text": [
      "dnn_2_100: \tROC = 0.98  \ttest_loss = 0.26698934 \ttest_acc = 90.3% \ttest/train_loss = 0.9\n"
     ]
    },
    {
     "name": "stderr",
     "output_type": "stream",
     "text": [
      "/usr/local/lib/python3.9/site-packages/keras/engine/training_v1.py:2079: UserWarning: `Model.state_updates` will be removed in a future version. This property should not be used in TensorFlow 2.0, as `updates` are applied automatically.\n",
      "  updates=self.state_updates,\n"
     ]
    },
    {
     "name": "stdout",
     "output_type": "stream",
     "text": [
      "dnn_4_10: \tROC = 0.976  \ttest_loss = 0.20928819 \ttest_acc = 91.8% \ttest/train_loss = 0.7\n"
     ]
    },
    {
     "name": "stderr",
     "output_type": "stream",
     "text": [
      "/usr/local/lib/python3.9/site-packages/keras/engine/training_v1.py:2079: UserWarning: `Model.state_updates` will be removed in a future version. This property should not be used in TensorFlow 2.0, as `updates` are applied automatically.\n",
      "  updates=self.state_updates,\n"
     ]
    },
    {
     "name": "stdout",
     "output_type": "stream",
     "text": [
      "dnn_4_50: \tROC = 0.975  \ttest_loss = 0.35714213 \ttest_acc = 86.3% \ttest/train_loss = 1.2\n"
     ]
    },
    {
     "name": "stderr",
     "output_type": "stream",
     "text": [
      "/usr/local/lib/python3.9/site-packages/keras/engine/training_v1.py:2079: UserWarning: `Model.state_updates` will be removed in a future version. This property should not be used in TensorFlow 2.0, as `updates` are applied automatically.\n",
      "  updates=self.state_updates,\n"
     ]
    },
    {
     "name": "stdout",
     "output_type": "stream",
     "text": [
      "dnn_4_100: \tROC = 0.976  \ttest_loss = 0.24006625 \ttest_acc = 89.9% \ttest/train_loss = 0.8\n"
     ]
    },
    {
     "name": "stderr",
     "output_type": "stream",
     "text": [
      "/usr/local/lib/python3.9/site-packages/keras/engine/training_v1.py:2079: UserWarning: `Model.state_updates` will be removed in a future version. This property should not be used in TensorFlow 2.0, as `updates` are applied automatically.\n",
      "  updates=self.state_updates,\n"
     ]
    },
    {
     "name": "stdout",
     "output_type": "stream",
     "text": [
      "dnn_6_10: \tROC = 0.978  \ttest_loss = 0.2160842 \ttest_acc = 92.4% \ttest/train_loss = 0.7\n"
     ]
    },
    {
     "name": "stderr",
     "output_type": "stream",
     "text": [
      "/usr/local/lib/python3.9/site-packages/keras/engine/training_v1.py:2079: UserWarning: `Model.state_updates` will be removed in a future version. This property should not be used in TensorFlow 2.0, as `updates` are applied automatically.\n",
      "  updates=self.state_updates,\n"
     ]
    },
    {
     "name": "stdout",
     "output_type": "stream",
     "text": [
      "dnn_6_50: \tROC = 0.971  \ttest_loss = 0.22623171 \ttest_acc = 91.2% \ttest/train_loss = 0.7\n"
     ]
    },
    {
     "name": "stderr",
     "output_type": "stream",
     "text": [
      "/usr/local/lib/python3.9/site-packages/keras/engine/training_v1.py:2079: UserWarning: `Model.state_updates` will be removed in a future version. This property should not be used in TensorFlow 2.0, as `updates` are applied automatically.\n",
      "  updates=self.state_updates,\n"
     ]
    },
    {
     "name": "stdout",
     "output_type": "stream",
     "text": [
      "dnn_6_100: \tROC = 0.965  \ttest_loss = 0.28301673 \ttest_acc = 92.2% \ttest/train_loss = 0.9\n"
     ]
    }
   ],
   "source": [
    "for model_name in models:\n",
    "    # ROC curve\n",
    "    test_prediction = models[model_name]['model'].predict(test_values)\n",
    "    fpr, tpr, thresholds = metrics.roc_curve(test_classification, test_prediction, sample_weight=test_weights_reweighted)\n",
    "    roc_auc = metrics.auc(fpr, tpr)\n",
    "    models[model_name]['roc_auc'] = roc_auc\n",
    "    \n",
    "    # evaluate model\n",
    "    train_loss = models[model_name]['history'].history['loss'][0]\n",
    "    train_accuracy = models[model_name]['history'].history['binary_accuracy'][0]\n",
    "    test_loss = models[model_name]['history'].history['val_loss'][0]\n",
    "    test_accuracy = models[model_name]['history'].history['val_binary_accuracy'][0]\n",
    "    \n",
    "    models[model_name]['roc_auc'] = roc_auc\n",
    "    models[model_name]['train_loss'] = train_loss\n",
    "    models[model_name]['train_accuracy'] = train_accuracy\n",
    "    models[model_name]['test_loss'] = test_loss\n",
    "    models[model_name]['test_accuracy'] = test_accuracy\n",
    "    print(f'{model_name}: \\tROC = {round(roc_auc, 3)}  \\ttest_loss = {round(test_loss,8)} \\ttest_acc = {round(test_accuracy*100,1)}% \\ttest/train_loss = {round(test_loss/train_loss,1)}')"
   ]
  },
  {
   "cell_type": "code",
   "execution_count": null,
   "id": "335e4371",
   "metadata": {},
   "outputs": [],
   "source": [
    "import seaborn as sns\n",
    "\n",
    "evaluation_full = {'roc_auc': [],'n_layers': [], 'n_nodes': [], 'roc_auc': [], 'test_loss': [], 'test_accuracy': [], 'test/train_loss': []}\n",
    "\n",
    "for model_name in models:\n",
    "    n_layers = int(model_name.split('_')[1])\n",
    "    n_nodes = int(model_name.split('_')[2])\n",
    "    evaluation_full['n_layers'].append(n_layers)\n",
    "    evaluation_full['n_nodes'].append(n_nodes)\n",
    "    evaluation_full['roc_auc'].append(models[model_name]['roc_auc'])\n",
    "    evaluation_full['test_loss'].append(models[model_name]['test_loss'])\n",
    "    evaluation_full['test_accuracy'].append(models[model_name]['test_accuracy'])\n",
    "    evaluation_full['test/train_loss'].append(models[model_name]['test_loss']/models[model_name]['train_loss'])\n",
    "\n",
    "evaluation_full_df = pd.DataFrame(evaluation_full)\n",
    "\n",
    "for eval in ['roc_auc', 'test_loss', 'test_accuracy', 'test/train_loss']:\n",
    "    pivot = evaluation_full_df.pivot(index='n_layers', columns='n_nodes', values=eval)\n",
    "    sns.heatmap(pivot, cbar_kws={'label': eval}, cmap='crest')\n",
    "    plt.title(eval)\n",
    "    \n",
    "    eval_string = eval.replace('/', '_')\n",
    "    layers_string = str(list(set(evaluation_full_df['n_layers']))).replace(' ', '')\n",
    "    nodes_string = str(list(set(evaluation_full_df['n_nodes']))).replace(' ', '')\n",
    "    plt.savefig(f'plots/evaluate_{eval_string}_layers_{layers_string}_nodes_{nodes_string}.pdf')\n",
    "    plt.show()"
   ]
  },
  {
   "cell_type": "code",
   "execution_count": 88,
   "id": "cd70837f",
   "metadata": {},
   "outputs": [
    {
     "name": "stdout",
     "output_type": "stream",
     "text": [
      "{'roc_auc': [0.9751953679238319, 0.9805248494521376, 0.9796108680991524, 0.9764584179050277, 0.9753572834510319, 0.9756046699637893, 0.9779600970431843, 0.9714330458343654, 0.9645687033745871], 'n_layers': [2, 2, 2, 4, 4, 4, 6, 6, 6], 'n_nodes': [10, 50, 100, 10, 50, 100, 10, 50, 100], 'test_loss': [0.20809377847538515, 0.6636513480482509, 0.26698934235001887, 0.20928819017982297, 0.35714212970084036, 0.24006624833295903, 0.21608420214245713, 0.22623171178481052, 0.2830167299482538], 'test_accuracy': [0.9262790679931641, 0.7459542751312256, 0.9028369784355164, 0.918135941028595, 0.8630046844482422, 0.898649275302887, 0.9240110516548157, 0.9115179181098938, 0.921966552734375], 'test/train_loss': [0.6572886211635621, 2.1607508055338744, 0.8690813709422708, 0.7255571784464743, 1.2122050445950798, 0.8011670455853026, 0.7337514514788485, 0.6962734691638942, 0.897003959961543]}\n",
      "roc_auc\n",
      "[0.9751953679238319, 0.9805248494521376, 0.9796108680991524, 0.9764584179050277, 0.9753572834510319, 0.9756046699637893, 0.9779600970431843, 0.9714330458343654, 0.9645687033745871]\n",
      "n_layers\n",
      "[2, 2, 2, 4, 4, 4, 6, 6, 6]\n",
      "n_nodes\n",
      "[10, 50, 100, 10, 50, 100, 10, 50, 100]\n",
      "test_loss\n",
      "[0.20809377847538515, 0.6636513480482509, 0.26698934235001887, 0.20928819017982297, 0.35714212970084036, 0.24006624833295903, 0.21608420214245713, 0.22623171178481052, 0.2830167299482538]\n",
      "test_accuracy\n",
      "[0.9262790679931641, 0.7459542751312256, 0.9028369784355164, 0.918135941028595, 0.8630046844482422, 0.898649275302887, 0.9240110516548157, 0.9115179181098938, 0.921966552734375]\n",
      "test/train_loss\n",
      "[0.6572886211635621, 2.1607508055338744, 0.8690813709422708, 0.7255571784464743, 1.2122050445950798, 0.8011670455853026, 0.7337514514788485, 0.6962734691638942, 0.897003959961543]\n"
     ]
    }
   ],
   "source": [
    "print(evaluation_full)\n",
    "for (key, value) in evaluation_full.items():\n",
    "    print(key)\n",
    "    print(value)"
   ]
  },
  {
   "cell_type": "code",
   "execution_count": 92,
   "id": "5ce1020d",
   "metadata": {},
   "outputs": [
    {
     "name": "stdout",
     "output_type": "stream",
     "text": [
      "['model', '627', '628478']\n",
      "627\n"
     ]
    }
   ],
   "source": [
    "model_name = 'model_627_628478'\n",
    "n_layers = int(model_name.split('_')[1])\n",
    "print(model_name.split('_'))\n",
    "print(n_layers)"
   ]
  },
  {
   "cell_type": "code",
   "execution_count": 96,
   "id": "82fcde25",
   "metadata": {},
   "outputs": [
    {
     "name": "stdout",
     "output_type": "stream",
     "text": [
      "    roc_auc  n_layers  n_nodes  test_loss  test_accuracy  test/train_loss\n",
      "0  0.975195         2       10   0.208094       0.926279         0.657289\n",
      "1  0.980525         2       50   0.663651       0.745954         2.160751\n",
      "2  0.979611         2      100   0.266989       0.902837         0.869081\n",
      "3  0.976458         4       10   0.209288       0.918136         0.725557\n",
      "4  0.975357         4       50   0.357142       0.863005         1.212205\n",
      "5  0.975605         4      100   0.240066       0.898649         0.801167\n",
      "6  0.977960         6       10   0.216084       0.924011         0.733751\n",
      "7  0.971433         6       50   0.226232       0.911518         0.696273\n",
      "8  0.964569         6      100   0.283017       0.921967         0.897004\n"
     ]
    }
   ],
   "source": [
    "evaluation_full_df = pd.DataFrame(evaluation_full)\n",
    "print(evaluation_full_df)"
   ]
  },
  {
   "cell_type": "code",
   "execution_count": 94,
   "id": "286d83c2",
   "metadata": {},
   "outputs": [
    {
     "data": {
      "image/png": "[encoded data removed]",
      "text/plain": [
       "<Figure size 432x288 with 2 Axes>"
      ]
     },
     "metadata": {
      "needs_background": "light"
     },
     "output_type": "display_data"
    },
    {
     "data": {
      "image/png": "[encoded data removed]",
      "text/plain": [
       "<Figure size 432x288 with 2 Axes>"
      ]
     },
     "metadata": {
      "needs_background": "light"
     },
     "output_type": "display_data"
    },
    {
     "data": {
      "image/png": "[encoded data removed]",
      "text/plain": [
       "<Figure size 432x288 with 2 Axes>"
      ]
     },
     "metadata": {
      "needs_background": "light"
     },
     "output_type": "display_data"
    },
    {
     "data": {
      "image/png": "[encoded data removed]",
      "text/plain": [
       "<Figure size 432x288 with 2 Axes>"
      ]
     },
     "metadata": {
      "needs_background": "light"
     },
     "output_type": "display_data"
    }
   ],
   "source": [
    "evaluation_full_df = pd.DataFrame(evaluation_full)\n",
    "\n",
    "for eval in ['roc_auc', 'test_loss', 'test_accuracy', 'test/train_loss']:\n",
    "    pivot = evaluation_full_df.pivot(index='n_layers', columns='n_nodes', values=eval)\n",
    "    sns.heatmap(pivot, cbar_kws={'label': eval}, cmap='crest')\n",
    "    plt.title(eval)\n",
    "    \n",
    "    eval_string = eval.replace('/', '_')\n",
    "    layers_string = str(list(set(evaluation_full_df['n_layers']))).replace(' ', '')\n",
    "    nodes_string = str(list(set(evaluation_full_df['n_nodes']))).replace(' ', '')\n",
    "    plt.savefig(f'plots/evaluate_{eval_string}_layers_{layers_string}_nodes_{nodes_string}.pdf')\n",
    "    plt.show()"
   ]
  },
  {
   "cell_type": "markdown",
   "id": "d2c6e4a7",
   "metadata": {},
   "source": [
    "## Apply Model"
   ]
  },
  {
   "cell_type": "code",
   "execution_count": 98,
   "id": "51df5129",
   "metadata": {},
   "outputs": [
    {
     "name": "stdout",
     "output_type": "stream",
     "text": [
      "Apply Model for ggH125_ZZ4lep\n",
      "Apply Model for VBFH125_ZZ4lep\n",
      "Apply Model for WH125_ZZ4lep\n",
      "Apply Model for ZH125_ZZ4lep\n",
      "Apply Model for llll\n",
      "Apply Model for Zee\n",
      "Apply Model for Zmumu\n",
      "Apply Model for ttbar_lep\n"
     ]
    }
   ],
   "source": [
    "for sample in sample_list_signal + sample_list_background:\n",
    "    print(f'Apply Model for {sample}')\n",
    "    # Get the values to apply the model\n",
    "    data_frame_values = data_frames[sample][training_variables]\n",
    "    for model in models:\n",
    "        prediction = models[model]['model'].predict(data_frame_values)\n",
    "    \n",
    "        # Convert prediction to array\n",
    "        prediction = [element[0] for element in prediction]\n",
    "    \n",
    "        # Add the prediction for each sample\n",
    "        data_frames[sample][f'{model}_prediction'] = prediction"
   ]
  },
  {
   "cell_type": "code",
   "execution_count": 99,
   "id": "85645a5c",
   "metadata": {},
   "outputs": [
    {
     "data": {
      "image/png": "[encoded data removed]",
      "text/plain": [
       "<Figure size 504x504 with 1 Axes>"
      ]
     },
     "metadata": {
      "needs_background": "light"
     },
     "output_type": "display_data"
    },
    {
     "data": {
      "image/png": "[encoded data removed]",
      "text/plain": [
       "<Figure size 504x504 with 1 Axes>"
      ]
     },
     "metadata": {
      "needs_background": "light"
     },
     "output_type": "display_data"
    },
    {
     "data": {
      "image/png": "[encoded data removed]",
      "text/plain": [
       "<Figure size 504x504 with 1 Axes>"
      ]
     },
     "metadata": {
      "needs_background": "light"
     },
     "output_type": "display_data"
    },
    {
     "data": {
      "image/png": "[encoded data removed]",
      "text/plain": [
       "<Figure size 504x504 with 1 Axes>"
      ]
     },
     "metadata": {
      "needs_background": "light"
     },
     "output_type": "display_data"
    },
    {
     "data": {
      "image/png": "[encoded data removed]",
      "text/plain": [
       "<Figure size 504x504 with 1 Axes>"
      ]
     },
     "metadata": {
      "needs_background": "light"
     },
     "output_type": "display_data"
    },
    {
     "data": {
      "image/png": "[encoded data removed]",
      "text/plain": [
       "<Figure size 504x504 with 1 Axes>"
      ]
     },
     "metadata": {
      "needs_background": "light"
     },
     "output_type": "display_data"
    },
    {
     "data": {
      "image/png": "[encoded data removed]",
      "text/plain": [
       "<Figure size 504x504 with 1 Axes>"
      ]
     },
     "metadata": {
      "needs_background": "light"
     },
     "output_type": "display_data"
    },
    {
     "data": {
      "image/png": "[encoded data removed]",
      "text/plain": [
       "<Figure size 504x504 with 1 Axes>"
      ]
     },
     "metadata": {
      "needs_background": "light"
     },
     "output_type": "display_data"
    },
    {
     "data": {
      "image/png": "[encoded data removed]",
      "text/plain": [
       "<Figure size 504x504 with 1 Axes>"
      ]
     },
     "metadata": {
      "needs_background": "light"
     },
     "output_type": "display_data"
    }
   ],
   "source": [
    "# Investigate DDN Prediction\n",
    "for model in models:\n",
    "    var_dnn = {'variable': f'{model}_prediction',\n",
    "               'binning': np.linspace(0.9, 1, 21),\n",
    "               'xlabel': f'{model} prediction'}\n",
    "\n",
    "    common.plot_hist_sum(var_dnn, data_frames)"
   ]
  },
  {
   "cell_type": "code",
   "execution_count": 99,
   "id": "16315792",
   "metadata": {},
   "outputs": [
    {
     "name": "stdout",
     "output_type": "stream",
     "text": [
      "ggH125_ZZ4lep\n",
      "0.0\n",
      "VBFH125_ZZ4lep\n",
      "0.0\n",
      "WH125_ZZ4lep\n",
      "0.0\n",
      "ZH125_ZZ4lep\n",
      "0.0\n",
      "llll\n",
      "0.0\n",
      "Zee\n",
      "0.0\n",
      "Zmumu\n",
      "0.0\n",
      "ttbar_lep\n",
      "0.0\n"
     ]
    }
   ],
   "source": [
    "# Create a copy of the data frame\n",
    "apply_dnn_data_frames = data_frames.copy()\n",
    "\n",
    "# Apply the DNN value\n",
    "for sample in sample_list_signal + sample_list_background:\n",
    "    print(sample)\n",
    "    pass_dnn = apply_dnn_data_frames[sample]['dnn_prediction'] > 0.5\n",
    "    apply_dnn_data_frames[sample] = apply_dnn_data_frames[sample][pass_dnn]\n",
    "    print(len(apply_dnn_data_frames[sample])/len(data_frames[sample]))"
   ]
  },
  {
   "cell_type": "code",
   "execution_count": null,
   "id": "d56ffaea",
   "metadata": {},
   "outputs": [],
   "source": [
    "# leading lepton pt\n",
    "var_lep1_pt = {'variable': 'lep_m_llll',\n",
    "               'binning': np.linspace(0, 200, 40),\n",
    "               'xlabel': '$m_{llll}$ [GeV]'}\n",
    "\n",
    "common.plot_hist_sum(var_lep1_pt, apply_dnn_data_frames)"
   ]
  },
  {
   "cell_type": "markdown",
   "id": "eaebb200",
   "metadata": {},
   "source": [
    "# Validation"
   ]
  },
  {
   "cell_type": "code",
   "execution_count": null,
   "id": "061bfe73",
   "metadata": {},
   "outputs": [],
   "source": []
  }
 ],
 "metadata": {
  "kernelspec": {
   "display_name": "Python 3 (ipykernel)",
   "language": "python",
   "name": "python3"
  },
  "language_info": {
   "codemirror_mode": {
    "name": "ipython",
    "version": 3
   },
   "file_extension": ".py",
   "mimetype": "text/x-python",
   "name": "python",
   "nbconvert_exporter": "python",
   "pygments_lexer": "ipython3",
   "version": "3.9.14"
  }
 },
 "nbformat": 4,
 "nbformat_minor": 5
}
