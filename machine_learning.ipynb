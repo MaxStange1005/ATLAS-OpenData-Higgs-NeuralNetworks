{
 "cells": [
  {
   "cell_type": "markdown",
   "id": "2081cce3",
   "metadata": {},
   "source": [
    "# Discover the Higgs with Deep Neural Networks"
   ]
  },
  {
   "cell_type": "markdown",
   "id": "060ec659",
   "metadata": {},
   "source": [
    "The input data was created from 13 TeV ATLAS open data downloaded from http://opendata.atlas.cern/release/2020/documentation/index.html\n",
    "\n",
    "For more information read:<br>\n",
    "Review of the 13 TeV ATLAS Open Data release, Techn. Ber., All figures including auxiliary figures are available at https://atlas.web.cern.ch/Atlas/GROUPS/PHYSICS/PUBNOTES/ATL-OREACH-PUB-2020-001: CERN, 2020, url: http://cds.cern.ch/record/2707171"
   ]
  },
  {
   "cell_type": "markdown",
   "id": "3e312205",
   "metadata": {},
   "source": [
    "## Data Preparation"
   ]
  },
  {
   "cell_type": "markdown",
   "id": "8f5b2349",
   "metadata": {},
   "source": [
    "### Load the Data"
   ]
  },
  {
   "cell_type": "code",
   "execution_count": 61,
   "id": "f9615674",
   "metadata": {},
   "outputs": [],
   "source": [
    "# Necessary imports\n",
    "import numpy as np\n",
    "import matplotlib.pyplot as plt\n",
    "import pandas as pd\n",
    "from numpy.random import seed\n",
    "import common"
   ]
  },
  {
   "cell_type": "markdown",
   "id": "3357ffaf",
   "metadata": {},
   "source": [
    "The goal of this lab course is to train a deep neural network to separate Higgs boson signal from background events. The most important signal sample ggH125_ZZ4lep corresponds to the process gg->H->ZZ. The dominant background sample is llll resulting from Z and ZZ decays.\n",
    "After training the DNN model will be used to classify the events of the data samples.\n",
    "\n",
    "Higgs signal samples:\n",
    "- ggH125_ZZ4lep\n",
    "- VBFH125_ZZ4lep\n",
    "- WH125_ZZ4lep\n",
    "- ZH125_ZZ4lep\n",
    "\n",
    "Background samples:\n",
    "- llll\n",
    "- Zee\n",
    "- Zmumu\n",
    "- ttbar_lep\n",
    "\n",
    "Data samples:\n",
    "- data_A\n",
    "- data_B\n",
    "- data_C\n",
    "- data_D"
   ]
  },
  {
   "cell_type": "code",
   "execution_count": 62,
   "id": "22a2ae28",
   "metadata": {},
   "outputs": [],
   "source": [
    "# Define the input samples\n",
    "sample_list_signal = ['ggH125_ZZ4lep', 'VBFH125_ZZ4lep', 'WH125_ZZ4lep', 'ZH125_ZZ4lep']\n",
    "sample_list_background = ['llll', 'Zee', 'Zmumu', 'ttbar_lep']"
   ]
  },
  {
   "cell_type": "code",
   "execution_count": 63,
   "id": "e1b2ae67",
   "metadata": {},
   "outputs": [],
   "source": [
    "# Read all the samples\n",
    "no_selection_data_frames = {}\n",
    "for sample in sample_list_signal + sample_list_background:\n",
    "    no_selection_data_frames[sample] = pd.read_csv('input/' + sample + \".csv\")"
   ]
  },
  {
   "cell_type": "markdown",
   "id": "27a1549c",
   "metadata": {},
   "source": [
    "### Input Variables"
   ]
  },
  {
   "cell_type": "markdown",
   "id": "fe06218b",
   "metadata": {},
   "source": [
    "The input provides several variables to classify the events. Since each event has multiple leptons, they were ordered in descending order based on their transverse momentum. Thus, lepton 1 has the highest transverse momentum, lepton 2 the second highest, and so on. <br>\n",
    "Most of the given variables can be called low-level, because they represent event or object properties, which can be derived directly from the reconstruction in the detector. In contrast to this are high-level variables, which result from the combination of several low-level variables. In the given dataset the only high-level variables are invariant masses of multiple particles:<br>\n",
    "$m_{inv} = \\sqrt{\\left(\\sum\\limits_{i=1}^{n} E_i\\right)^2 - \\left(\\sum\\limits_{i=1}^{n} \\vec{p}_i\\right)^2}$\n",
    "\n",
    "\n",
    "List of all available variables:<br>\n",
    "- Event number\n",
    " - Each simulated event has its own specific number. (not used for training)\n",
    " - Variable name: eventNumber\n",
    "- Scale and event weight\n",
    " - The scaling for a data set is given by the sum of event weights, the cross section, luminosity and a efficiency scale factor\n",
    " - Each event has an additional specific event weight\n",
    " - To combine simulated events and finally compare them to data each event has to be scaled by the total weight, the product of scale weight and event weight\n",
    " - The weight are not used for training\n",
    " - Variable name: scaleWeight, eventWeight, totalWeight\n",
    "- Number of jets\n",
    " - Jets are particle showers which result primarily from quarks and gluons\n",
    " - Variable name: jet_n\n",
    "- Invariant four lepton mass\n",
    " - The invariant mass $m_{inv}(l_1, l_2, l_3, l_4)$ of the four leptons is extremly sensitive to Higgs boson events. This variable is to be displayed later and thus not used for training\n",
    " - Variable name: lep_m_llll\n",
    "- Invariant two lepton mass\n",
    " - Invariant masses $m_{inv}(l_i, l_j)$ of all combinations of two leptons\n",
    " - Variable names: lep_m_ll_12, lep_m_ll_13, lep_m_ll_14, lep_m_ll_23, lep_m_ll_24, lep_m_ll_34\n",
    "- Transverse momentum of the leptons\n",
    " - The momentum in the plane transverse to the beam axis\n",
    " - Variable names: lep1_pt, lep2_pt, lep3_pt, lep4_pt\n",
    "- Lepton azimuthal angle\n",
    " - The azimuthal angle $\\phi$ is measured in the plane transverse to the beam axis\n",
    " - Variable name: lep1_phi, lep2_phi, lep3_phi, lep4_phi\n",
    "- Lepton pseudo rapidity\n",
    " - The angle $\\theta$ is measured between the lepton track and the beam axis. Since this angle is not invariant against boosts along the beam axis, the pseudo rapidity $\\eta = - \\ln{\\tan{\\frac{\\theta}{2}}}$ is primarily used in the ATLAS analyses\n",
    " - Variable names: lep1_eta, lep2_eta, lep3_eta, lep4_eta\n",
    "- Lepton energy\n",
    " - The energy of the leptons reconstructed from the calorimeter entries\n",
    " - Variable name:lep1_e, lep2_e, lep3_e, lep4_e\n",
    "- Lepton PDG-ID\n",
    " - The lepton type is classified by a n umber given by the Particle-Data-Group. The lepton types are $pdg-id(e)=11$, $pdg-id(\\mu)=13$ and $pdg-id(\\tau)=15$\n",
    " - Variable name: lep1_pdgId, lep2_pdgId, lep3_pdgId, lep4_pdgId\n",
    "- Lepton charge\n",
    " - The charge of the given lepton reconstructed by the lepton track\n",
    " - Variable name: lep1_charge, lep2_charge, lep3_charge, lep4_charge"
   ]
  },
  {
   "cell_type": "markdown",
   "id": "9a7d2bda",
   "metadata": {},
   "source": [
    "### Event Pre-Selection"
   ]
  },
  {
   "cell_type": "markdown",
   "id": "facd6d51",
   "metadata": {},
   "source": [
    "Although the final selection of the data is to be performed on the basis of a DNN, a rough pre-selection of the data is still useful.\n",
    "For this purpose, selection criteria are defined, which return either true or false based on the event kinematics and thus decide whether the respective event is kept or discarded.\n",
    "Suitable criteria for this analysis are very basic selections that must be clearly fulfilled by H->ZZ->llll processes.\n",
    "\n",
    "\n",
    "Hint: What lepton types and charges are expected in the final state?"
   ]
  },
  {
   "cell_type": "code",
   "execution_count": 64,
   "id": "ffa57853",
   "metadata": {},
   "outputs": [],
   "source": [
    "def cut_lep_type(lep_type_0, lep_type_1, lep_type_2, lep_type_3):\n",
    "    # Only keep events like eeee, mumumumu or eemumu\n",
    "    sum_lep_type = lep_type_0 + lep_type_1 + lep_type_2 + lep_type_3\n",
    "    return sum_lep_type == 44 or sum_lep_type == 48 or sum_lep_type == 52\n",
    "\n",
    "\n",
    "def cut_lep_charge(lep_charge_0, lep_charge_1, lep_charge_2, lep_charge_3):\n",
    "    # Only keep events where the sum of all lepton charges is zero\n",
    "    sum_lep_charge = lep_charge_0 + lep_charge_1 + lep_charge_2 + lep_charge_3\n",
    "    return sum_lep_charge == 0"
   ]
  },
  {
   "cell_type": "code",
   "execution_count": 65,
   "id": "13fc29db",
   "metadata": {},
   "outputs": [],
   "source": [
    "# Create a copy of the original data frame to investigate later\n",
    "data_frames = no_selection_data_frames.copy()\n",
    "\n",
    "# Apply the chosen selection criteria\n",
    "for sample in sample_list_signal + sample_list_background:\n",
    "    # Selection on lepton type\n",
    "    type_selection = np.vectorize(cut_lep_type)(\n",
    "        data_frames[sample].lep1_pdgId,\n",
    "        data_frames[sample].lep2_pdgId,\n",
    "        data_frames[sample].lep3_pdgId,\n",
    "        data_frames[sample].lep4_pdgId)\n",
    "    data_frames[sample] = data_frames[sample][type_selection]\n",
    "\n",
    "    # Selection on lepton charge\n",
    "    charge_selection = np.vectorize(cut_lep_charge)(\n",
    "        data_frames[sample].lep1_charge,\n",
    "        data_frames[sample].lep2_charge,\n",
    "        data_frames[sample].lep3_charge,\n",
    "        data_frames[sample].lep4_charge)\n",
    "    data_frames[sample] = data_frames[sample][charge_selection]"
   ]
  },
  {
   "cell_type": "markdown",
   "id": "94202a44",
   "metadata": {},
   "source": [
    "### Data Investigation"
   ]
  },
  {
   "cell_type": "markdown",
   "id": "7e11cc8e",
   "metadata": {},
   "source": [
    "Before one can decide which variables are suitable for training, one must first get a feel for the input variables.\n",
    "For this purpose, the input samples are merged into a set of signal events and a set of background events. Afterwards, the behavior of signal and background can be studied in multiple variables."
   ]
  },
  {
   "cell_type": "code",
   "execution_count": 66,
   "id": "591b7e64",
   "metadata": {},
   "outputs": [
    {
     "name": "stdout",
     "output_type": "stream",
     "text": [
      "ggH125_ZZ4lep:\n",
      "Total number of events: 8.7\n",
      "Negative raw events: 0.21%\n",
      "Negative events: 0.22%\n",
      "\n",
      "VBFH125_ZZ4lep:\n",
      "Total number of events: 0.78\n",
      "Negative raw events: 0.18%\n",
      "Negative events: 0.19%\n",
      "\n",
      "WH125_ZZ4lep:\n",
      "Total number of events: 0.22\n",
      "Negative raw events: 0.0%\n",
      "Negative events: 0.0%\n",
      "\n",
      "ZH125_ZZ4lep:\n",
      "Total number of events: 0.0\n",
      "Negative raw events: 0.0%\n",
      "Negative events: 0.0%\n",
      "\n",
      "llll:\n",
      "Total number of events: 266.55\n",
      "Negative raw events: 10.36%\n",
      "Negative events: 32.17%\n",
      "\n",
      "Zee:\n",
      "Total number of events: 43.42\n",
      "Negative raw events: 5.76%\n",
      "Negative events: 8.49%\n",
      "\n",
      "Zmumu:\n",
      "Total number of events: 52.33\n",
      "Negative raw events: 1.95%\n",
      "Negative events: 2.1%\n",
      "\n",
      "ttbar_lep:\n",
      "Total number of events: 28.31\n",
      "Negative raw events: 0.0%\n",
      "Negative events: 0.0%\n",
      "\n"
     ]
    }
   ],
   "source": [
    "# Merge the signal and background data frames\n",
    "def merge_data_frames(sample_list, data_frames_dic):\n",
    "    for sample in sample_list:\n",
    "        if sample == sample_list[0]:\n",
    "            output_data_frame = data_frames_dic[sample]\n",
    "        else:\n",
    "            output_data_frame = pd.concat([output_data_frame, data_frames_dic[sample]], axis=0)\n",
    "        print(f'{sample}:')\n",
    "        n_events = sum(data_frames_dic[sample]['totalWeight'])\n",
    "        n_events_raw = len(data_frames_dic[sample]['totalWeight'])\n",
    "        n_events_neg = sum(data_frames_dic[sample]['totalWeight'] * (data_frames_dic[sample]['totalWeight'] < 0))\n",
    "        n_events_neg_raw = sum(list(data_frames_dic[sample]['totalWeight'] < 0))\n",
    "        print(f'Total number of events: {round(n_events, 2)}')\n",
    "        print(f'Negative raw events: {round(100 * n_events_neg_raw / n_events_raw, 2)}%')\n",
    "        print(f'Negative events: {abs(round(100 * n_events_neg / n_events, 2))}%')\n",
    "        print()\n",
    "    return output_data_frame\n",
    "\n",
    "data_frame_signal = merge_data_frames(sample_list_signal, data_frames)\n",
    "data_frame_background = merge_data_frames(sample_list_background, data_frames)"
   ]
  },
  {
   "cell_type": "markdown",
   "id": "2906682a",
   "metadata": {},
   "source": [
    "The function common.plot_hist(variable, data_frame_1, data_frame_2) plots the given variable of the two data sets.\n",
    "The variable must be a dictionary containing atleast the variable to plot. Additionally one can also specify the binning (list or numpy array) and the xlabel. The created histogram is automatically saved in the plots directory<br>\n",
    "An example for the transverse momnetum of the leading lepton is given below:"
   ]
  },
  {
   "cell_type": "code",
   "execution_count": 67,
   "id": "8ae8494b",
   "metadata": {
    "scrolled": true
   },
   "outputs": [
    {
     "data": {
      "image/png": "[encoded data removed]",
      "text/plain": [
       "<Figure size 504x504 with 1 Axes>"
      ]
     },
     "metadata": {
      "needs_background": "light"
     },
     "output_type": "display_data"
    },
    {
     "data": {
      "image/png": "[encoded data removed]",
      "text/plain": [
       "<Figure size 504x504 with 2 Axes>"
      ]
     },
     "metadata": {
      "needs_background": "light"
     },
     "output_type": "display_data"
    }
   ],
   "source": [
    "# leading lepton pt\n",
    "var_lep1_pt = {'variable': 'lep1_pt',\n",
    "               'binning': np.linspace(0, 300, 100),\n",
    "               'xlabel': '$p_T$ (lep 1) [GeV]'}\n",
    "\n",
    "common.plot_hist_sum(var_lep1_pt, data_frames)\n",
    "common.plot_normed_signal_vs_background(var_lep1_pt, data_frame_signal, data_frame_background)"
   ]
  },
  {
   "cell_type": "markdown",
   "id": "a38a5a5e",
   "metadata": {},
   "source": [
    "Investigate the signal vs background ratio before the training"
   ]
  },
  {
   "cell_type": "code",
   "execution_count": 68,
   "id": "b7415e53",
   "metadata": {
    "scrolled": false
   },
   "outputs": [
    {
     "name": "stdout",
     "output_type": "stream",
     "text": [
      "There are 9.7 signal (370040 raw MC events) and 390.61 backgound events (524791 raw MC events)\n",
      "This gives a purity of 2.48%\n"
     ]
    }
   ],
   "source": [
    "signal_event_number = sum(data_frame_signal.totalWeight)\n",
    "background_event_number = sum(data_frame_background.totalWeight)\n",
    "signal_background_ratio = signal_event_number/background_event_number\n",
    "print(f'There are {round(signal_event_number, 2)} signal ({len(data_frame_signal)} raw MC events) and {round(background_event_number, 2)} backgound events ({len(data_frame_background)} raw MC events)\\nThis gives a purity of {round(signal_background_ratio*100, 2)}%')"
   ]
  },
  {
   "cell_type": "markdown",
   "id": "a74ea3bc",
   "metadata": {},
   "source": [
    "## Training"
   ]
  },
  {
   "cell_type": "markdown",
   "id": "254918e6",
   "metadata": {},
   "source": [
    "In this chapter, the DNN is trained. Define the input variables for the classification. Feel free to test different combinations of low-level and high-level variables. Additionally, you can modify the structure of the DNN to gain optimal training results. When the setup is done, train the DNN, test it and redo this until you are happy with the result."
   ]
  },
  {
   "cell_type": "code",
   "execution_count": 69,
   "id": "ac0e9914",
   "metadata": {},
   "outputs": [],
   "source": [
    "# The training input variables\n",
    "training_variables = ['lep1_pt', 'lep2_pt', 'lep3_pt', 'lep4_pt']\n",
    "training_variables += ['lep1_charge', 'lep2_charge', 'lep3_charge', 'lep4_charge']\n",
    "training_variables += ['lep1_pdgId', 'lep2_pdgId', 'lep3_pdgId', 'lep4_pdgId']\n",
    "training_variables += ['lep1_phi', 'lep2_phi', 'lep3_phi', 'lep4_phi']\n",
    "training_variables += ['lep1_eta', 'lep2_eta', 'lep3_eta', 'lep4_eta']\n",
    "#training_variables += ['lep_m_ll_12', 'lep_m_ll_13', 'lep_m_ll_14', 'lep_m_ll_23', 'lep_m_ll_24', 'lep_m_ll_34']"
   ]
  },
  {
   "cell_type": "code",
   "execution_count": 70,
   "id": "5a528eaf",
   "metadata": {},
   "outputs": [],
   "source": [
    "# Create the training input\n",
    "values = []\n",
    "weights = []\n",
    "classification = []\n",
    "for sample in sample_list_signal + sample_list_background:\n",
    "    # Classify signal and background (and skip if data)\n",
    "    if sample in sample_list_signal:\n",
    "        # 1 if signal\n",
    "        classification.append(np.ones(len(data_frames[sample])))\n",
    "    elif sample in sample_list_background:\n",
    "        # 0 if background\n",
    "        classification.append(np.zeros(len(data_frames[sample])))\n",
    "    else:\n",
    "        continue\n",
    "    # input values\n",
    "    values.append(data_frames[sample][training_variables])\n",
    "    weights.append(data_frames[sample]['totalWeight'])\n",
    "\n",
    "# Merge the input\n",
    "values = np.concatenate(values)\n",
    "weights = np.concatenate(weights)\n",
    "classification = np.concatenate(classification)"
   ]
  },
  {
   "cell_type": "markdown",
   "id": "6466faa7",
   "metadata": {},
   "source": [
    "The data set is split in a training, test and validation set. To have enough data to train use a splitting of 80%:10%:10%"
   ]
  },
  {
   "cell_type": "code",
   "execution_count": 71,
   "id": "4f0035b0",
   "metadata": {},
   "outputs": [],
   "source": [
    "from sklearn.model_selection import train_test_split"
   ]
  },
  {
   "cell_type": "markdown",
   "id": "8f0a8cf1",
   "metadata": {},
   "source": [
    "Rescale the weights and keep the sample ratio?"
   ]
  },
  {
   "cell_type": "code",
   "execution_count": 72,
   "id": "8138d55c",
   "metadata": {},
   "outputs": [],
   "source": [
    "def reweight_weights(weights, classification):\n",
    "    # Take the absolute weight\n",
    "    weights_abs = np.abs(weights)\n",
    "    \n",
    "    # Split in signal and background weights\n",
    "    weights_signal = weights_abs*classification\n",
    "    weights_background = weights_abs*(1 - classification)\n",
    "    # Set ratio of signal and backgroubnd to one\n",
    "    weights_reweighted = weights_background + weights_signal * sum(weights_background) / sum(weights_signal)\n",
    "    # Normalize mean weight to one\n",
    "    weights_reweighted /= weights_reweighted.mean()\n",
    "    return weights_reweighted"
   ]
  },
  {
   "cell_type": "code",
   "execution_count": 73,
   "id": "bd8a4906",
   "metadata": {},
   "outputs": [],
   "source": [
    "random_state = 420\n",
    "\n",
    "# Train data\n",
    "train_values, test_val_values, train_classification, test_val_classification = train_test_split(values, classification, test_size=0.2, random_state=random_state)\n",
    "train_weights, test_val_weights = train_test_split(weights, classification, test_size=0.2, random_state=random_state)[:2]\n",
    "\n",
    "# Test and validation data\n",
    "test_values, val_values, test_classification, val_classification = train_test_split(test_val_values, test_val_classification, test_size=0.5, random_state=random_state)\n",
    "test_weights, val_weights = train_test_split(test_val_weights, test_val_classification, test_size=0.5, random_state=random_state)[:2]\n",
    "\n",
    "# Get reweighted weights\n",
    "train_weights_reweighted = reweight_weights(train_weights, train_classification)\n",
    "test_weights_reweighted = reweight_weights(test_weights, test_classification)\n",
    "val_weights_reweighted = reweight_weights(val_weights, val_classification)"
   ]
  },
  {
   "cell_type": "code",
   "execution_count": 74,
   "id": "47cbafe6",
   "metadata": {},
   "outputs": [],
   "source": [
    "# scale inputs\n",
    "from sklearn.preprocessing import StandardScaler\n",
    "\n",
    "scaler = StandardScaler()\n",
    "scaler.fit(train_values)\n",
    "train_values = scaler.transform(train_values)\n",
    "test_values = scaler.transform(test_values)\n",
    "val_values = scaler.transform(val_values)"
   ]
  },
  {
   "cell_type": "code",
   "execution_count": 75,
   "id": "f1cf62dc",
   "metadata": {},
   "outputs": [],
   "source": [
    "# Import the tensorflow module to create a DNN\n",
    "\n",
    "import tensorflow as tf\n",
    "import pandas as pd\n",
    "from tensorflow.python.framework.ops import disable_eager_execution\n",
    "\n",
    "disable_eager_execution()"
   ]
  },
  {
   "cell_type": "markdown",
   "id": "467e845a",
   "metadata": {},
   "source": [
    "Create you DNN consisting of several layers. \n",
    "\n",
    "A full list of layer types can be found here https://www.tensorflow.org/api_docs/python/tf/keras/layers <br>\n",
    "Some important examples for layers are:\n",
    "- Dense: a densely connected NN layer\n",
    "- Flatten: flattens the input\n",
    "- Dropout: randomly sets input to 0. Can decrease overtraining\n",
    "\n",
    "The neurons of each layer are activated by the so called activation function. <br>\n",
    "A full list of provided activation functions can be found here https://www.tensorflow.org/api_docs/python/tf/keras/activations <br>\n",
    "Some examples are:\n",
    "- linear: $linear(x) = x$\n",
    "- relu: linear for $x>0$ ($relu(x) = max(0, x)$)\n",
    "- exponential: $exponential(x) = e^x$\n",
    "- sigmoid: $sigmoid(x) = 1 / (1 + e^{-x})$\n",
    "\n",
    "To classify background and signal the last layer should only consist of one neuron which has an activation between 0 and 1"
   ]
  },
  {
   "cell_type": "code",
   "execution_count": 76,
   "id": "541ee86d",
   "metadata": {},
   "outputs": [],
   "source": [
    "model_layers = [\n",
    "    tf.keras.layers.Dense(40, activation='relu'),      # Hidden layers\n",
    "    tf.keras.layers.Dense(50, activation='relu'),\n",
    "    tf.keras.layers.Dense(1, activation='sigmoid')     # Output layer\n",
    "]\n",
    "\n",
    "model = tf.keras.models.Sequential(model_layers)"
   ]
  },
  {
   "cell_type": "markdown",
   "id": "08bb5240",
   "metadata": {},
   "source": [
    "While training, the parameters of the neural network are modified to increase the agreement between the classification of the training data by the neural network and the actual splitting in signal and background. \n",
    "The agreement is specified by a loss-function, which decreses with increasing agreement. Analogous to a Chi2 fit, the fit to the training data is done by determining the minimum of the loss-function. The choice of the specific loss-function has to be adapted to the problem the neural network has to solve. <br>\n",
    "\n",
    "The list of available loss-functions are listed here https://www.tensorflow.org/api_docs/python/tf/keras/losses\n",
    "For the binary (0 or 1) classification problem of the signal background separation the BinaryCrossentropy is used. <br>\n",
    "<b> Give more information!!! </b>"
   ]
  },
  {
   "cell_type": "code",
   "execution_count": 77,
   "id": "4fe2b485",
   "metadata": {},
   "outputs": [],
   "source": [
    "loss_fn = tf.keras.losses.BinaryCrossentropy(from_logits=False)"
   ]
  },
  {
   "cell_type": "markdown",
   "id": "8535bcb1",
   "metadata": {},
   "source": [
    "For the optimization of the loss-function different optimization algorithms can be used (see https://www.tensorflow.org/api_docs/python/tf/keras/optimizers). <br>\n",
    "The performance of the learning process is given by the metric (see https://www.tensorflow.org/api_docs/python/tf/keras/metrics)"
   ]
  },
  {
   "cell_type": "code",
   "execution_count": 78,
   "id": "d1bad8ec",
   "metadata": {},
   "outputs": [],
   "source": [
    "# Try a smaller learning rate with tf.keras.optimizers.Adam(learning_rate=0.0001)?\n",
    "model.compile(optimizer='adam',\n",
    "              loss=loss_fn,\n",
    "              weighted_metrics=['binary_accuracy'])"
   ]
  },
  {
   "cell_type": "markdown",
   "id": "84a39a2b",
   "metadata": {},
   "source": [
    "Early stopping to avoid overtraining"
   ]
  },
  {
   "cell_type": "code",
   "execution_count": 79,
   "id": "60823bf4",
   "metadata": {},
   "outputs": [],
   "source": [
    "early_stopping = tf.keras.callbacks.EarlyStopping(monitor='val_loss', patience=5, restore_best_weights=True)"
   ]
  },
  {
   "cell_type": "markdown",
   "id": "2f98156b",
   "metadata": {
    "scrolled": false
   },
   "source": [
    "fit_history = model.fit(train_values, train_classification, sample_weight=np.abs(train_weights_reweighted), validation_data=(test_values, test_classification, np.abs(test_weights_reweighted)), callbacks=[early_stopping], epochs=40)"
   ]
  },
  {
   "cell_type": "code",
   "execution_count": 80,
   "id": "3b29dc6f",
   "metadata": {
    "scrolled": true
   },
   "outputs": [
    {
     "name": "stdout",
     "output_type": "stream",
     "text": [
      "Train on 715864 samples, validate on 89483 samples\n",
      "Epoch 1/40\n",
      "714080/715864 [============================>.] - ETA: 0s - loss: 0.4373 - binary_accuracy: 0.7995"
     ]
    },
    {
     "name": "stderr",
     "output_type": "stream",
     "text": [
      "/usr/local/lib/python3.9/site-packages/keras/engine/training_v1.py:2057: UserWarning: `Model.state_updates` will be removed in a future version. This property should not be used in TensorFlow 2.0, as `updates` are applied automatically.\n",
      "  updates = self.state_updates\n"
     ]
    },
    {
     "name": "stdout",
     "output_type": "stream",
     "text": [
      "715864/715864 [==============================] - 21s 29us/sample - loss: 0.4370 - binary_accuracy: 0.7997 - val_loss: 0.3562 - val_binary_accuracy: 0.8493\n",
      "Epoch 2/40\n",
      "715864/715864 [==============================] - 22s 30us/sample - loss: 0.3329 - binary_accuracy: 0.8616 - val_loss: 0.3170 - val_binary_accuracy: 0.8744\n",
      "Epoch 3/40\n",
      "715864/715864 [==============================] - 28s 39us/sample - loss: 0.2995 - binary_accuracy: 0.8804 - val_loss: 0.2932 - val_binary_accuracy: 0.8823\n",
      "Epoch 4/40\n",
      "715864/715864 [==============================] - 24s 33us/sample - loss: 0.2837 - binary_accuracy: 0.8883 - val_loss: 0.2768 - val_binary_accuracy: 0.8967\n",
      "Epoch 5/40\n",
      "715864/715864 [==============================] - 22s 30us/sample - loss: 0.2670 - binary_accuracy: 0.8971 - val_loss: 0.2625 - val_binary_accuracy: 0.8977\n",
      "Epoch 6/40\n",
      "715864/715864 [==============================] - 22s 31us/sample - loss: 0.2572 - binary_accuracy: 0.9027 - val_loss: 0.2533 - val_binary_accuracy: 0.9009\n",
      "Epoch 7/40\n",
      "715864/715864 [==============================] - 23s 32us/sample - loss: 0.2470 - binary_accuracy: 0.9059 - val_loss: 0.2458 - val_binary_accuracy: 0.9021\n",
      "Epoch 8/40\n",
      "715864/715864 [==============================] - 23s 33us/sample - loss: 0.2415 - binary_accuracy: 0.9093 - val_loss: 0.2569 - val_binary_accuracy: 0.9005\n",
      "Epoch 9/40\n",
      "715864/715864 [==============================] - 23s 32us/sample - loss: 0.2358 - binary_accuracy: 0.9110 - val_loss: 0.2351 - val_binary_accuracy: 0.9063\n",
      "Epoch 10/40\n",
      "715864/715864 [==============================] - 22s 31us/sample - loss: 0.2339 - binary_accuracy: 0.9142 - val_loss: 0.2476 - val_binary_accuracy: 0.9109\n",
      "Epoch 11/40\n",
      "715864/715864 [==============================] - 21s 30us/sample - loss: 0.2278 - binary_accuracy: 0.9134 - val_loss: 0.2375 - val_binary_accuracy: 0.9163\n",
      "Epoch 12/40\n",
      "715864/715864 [==============================] - 19s 26us/sample - loss: 0.2252 - binary_accuracy: 0.9156 - val_loss: 0.2693 - val_binary_accuracy: 0.8990\n",
      "Epoch 13/40\n",
      "715864/715864 [==============================] - 19s 26us/sample - loss: 0.2201 - binary_accuracy: 0.9197 - val_loss: 0.2250 - val_binary_accuracy: 0.9177\n",
      "Epoch 14/40\n",
      "715864/715864 [==============================] - 22s 31us/sample - loss: 0.2198 - binary_accuracy: 0.9203 - val_loss: 0.2336 - val_binary_accuracy: 0.9144\n",
      "Epoch 15/40\n",
      "715864/715864 [==============================] - 32s 45us/sample - loss: 0.2164 - binary_accuracy: 0.9213 - val_loss: 0.2354 - val_binary_accuracy: 0.9048\n",
      "Epoch 16/40\n",
      "715864/715864 [==============================] - 485s 678us/sample - loss: 0.2114 - binary_accuracy: 0.9247 - val_loss: 0.2287 - val_binary_accuracy: 0.9173\n",
      "Epoch 17/40\n",
      "715864/715864 [==============================] - 31s 43us/sample - loss: 0.2115 - binary_accuracy: 0.9232 - val_loss: 0.2205 - val_binary_accuracy: 0.9220\n",
      "Epoch 18/40\n",
      "715864/715864 [==============================] - 25s 35us/sample - loss: 0.2103 - binary_accuracy: 0.9250 - val_loss: 0.2161 - val_binary_accuracy: 0.9194\n",
      "Epoch 19/40\n",
      "715864/715864 [==============================] - 22s 31us/sample - loss: 0.2047 - binary_accuracy: 0.9274 - val_loss: 0.2130 - val_binary_accuracy: 0.9188\n",
      "Epoch 20/40\n",
      "715864/715864 [==============================] - 21s 30us/sample - loss: 0.2050 - binary_accuracy: 0.9263 - val_loss: 0.2192 - val_binary_accuracy: 0.9206\n",
      "Epoch 21/40\n",
      "715864/715864 [==============================] - 21s 29us/sample - loss: 0.2053 - binary_accuracy: 0.9250 - val_loss: 0.2265 - val_binary_accuracy: 0.9132\n",
      "Epoch 22/40\n",
      "715864/715864 [==============================] - 20s 28us/sample - loss: 0.2029 - binary_accuracy: 0.9279 - val_loss: 0.2284 - val_binary_accuracy: 0.9120\n",
      "Epoch 23/40\n",
      "715864/715864 [==============================] - 23s 33us/sample - loss: 0.2032 - binary_accuracy: 0.9270 - val_loss: 0.2210 - val_binary_accuracy: 0.9171\n",
      "Epoch 24/40\n",
      "715864/715864 [==============================] - 23s 32us/sample - loss: 0.2014 - binary_accuracy: 0.9284 - val_loss: 0.2312 - val_binary_accuracy: 0.9161\n"
     ]
    }
   ],
   "source": [
    "history = model.fit(train_values, train_classification, sample_weight=train_weights_reweighted, validation_data=(test_values, test_classification, test_weights_reweighted), callbacks=[early_stopping], epochs=40)"
   ]
  },
  {
   "cell_type": "code",
   "execution_count": 81,
   "id": "ba07b18c",
   "metadata": {
    "scrolled": false
   },
   "outputs": [
    {
     "data": {
      "image/png": "[encoded data removed]",
      "text/plain": [
       "<Figure size 432x288 with 1 Axes>"
      ]
     },
     "metadata": {
      "needs_background": "light"
     },
     "output_type": "display_data"
    }
   ],
   "source": [
    "plt.plot(history.history['loss'], label='Training loss', linestyle='--')\n",
    "plt.plot(history.history['val_loss'], label='Test loss')\n",
    "\n",
    "plt.title('model loss')\n",
    "plt.ylabel('loss')\n",
    "plt.xlabel('epoch')\n",
    "plt.savefig('plots/training_history.pdf')\n",
    "plt.show()"
   ]
  },
  {
   "cell_type": "markdown",
   "id": "38f4300c",
   "metadata": {},
   "source": [
    "## Evaluate the Model"
   ]
  },
  {
   "cell_type": "code",
   "execution_count": 82,
   "id": "a9273a20",
   "metadata": {},
   "outputs": [
    {
     "data": {
      "text/plain": [
       "[0.18753578704101004, 0.9364695]"
      ]
     },
     "execution_count": 82,
     "metadata": {},
     "output_type": "execute_result"
    }
   ],
   "source": [
    "model.evaluate(train_values,  train_classification, sample_weight=np.abs(train_weights_reweighted), verbose=2)"
   ]
  },
  {
   "cell_type": "code",
   "execution_count": 83,
   "id": "8fa493ae",
   "metadata": {
    "scrolled": false
   },
   "outputs": [
    {
     "data": {
      "text/plain": [
       "[0.21301157469273949, 0.9188022]"
      ]
     },
     "execution_count": 83,
     "metadata": {},
     "output_type": "execute_result"
    }
   ],
   "source": [
    "model.evaluate(test_values,  test_classification, sample_weight=np.abs(test_weights_reweighted), verbose=2)"
   ]
  },
  {
   "cell_type": "code",
   "execution_count": 84,
   "id": "b1e9ea20",
   "metadata": {},
   "outputs": [],
   "source": [
    "from sklearn import metrics"
   ]
  },
  {
   "cell_type": "markdown",
   "id": "c77a2abe",
   "metadata": {},
   "source": [
    "ROC curve"
   ]
  },
  {
   "cell_type": "code",
   "execution_count": 85,
   "id": "8e347a77",
   "metadata": {
    "scrolled": true
   },
   "outputs": [
    {
     "name": "stderr",
     "output_type": "stream",
     "text": [
      "/usr/local/lib/python3.9/site-packages/keras/engine/training_v1.py:2079: UserWarning: `Model.state_updates` will be removed in a future version. This property should not be used in TensorFlow 2.0, as `updates` are applied automatically.\n",
      "  updates=self.state_updates,\n"
     ]
    }
   ],
   "source": [
    "# Prediction for test sample\n",
    "test_prediction = model.predict(test_values)"
   ]
  },
  {
   "cell_type": "code",
   "execution_count": 86,
   "id": "bf2f85ec",
   "metadata": {},
   "outputs": [
    {
     "data": {
      "image/png": "[encoded data removed]",
      "text/plain": [
       "<Figure size 432x288 with 1 Axes>"
      ]
     },
     "metadata": {
      "needs_background": "light"
     },
     "output_type": "display_data"
    },
    {
     "name": "stdout",
     "output_type": "stream",
     "text": [
      "Area under the ROC curve: 0.97\n"
     ]
    }
   ],
   "source": [
    "fpr, tpr, thresholds = metrics.roc_curve(test_classification, test_prediction)\n",
    "fpr_weighted, tpr_weighted, thresholds_weighted = metrics.roc_curve(test_classification, test_prediction, sample_weight=test_weights_reweighted)\n",
    "fpr, tpr, thresholds = metrics.roc_curve(test_classification, test_prediction)\n",
    "plt.plot(fpr, tpr, label='unweighted')\n",
    "plt.plot(fpr_weighted, tpr_weighted, label='weighted')\n",
    "plt.title('ROC curve')\n",
    "plt.xlabel('false positive rate')\n",
    "plt.ylabel('true negative rate')\n",
    "plt.savefig('plots/model_roc.pdf')\n",
    "plt.axis([0, 1, 0, 1])\n",
    "plt.show()\n",
    "\n",
    "roc_auc = metrics.auc(fpr_weighted, tpr_weighted)\n",
    "print(f'Area under the ROC curve: {round(roc_auc, 2)}')"
   ]
  },
  {
   "cell_type": "markdown",
   "id": "d2c6e4a7",
   "metadata": {},
   "source": [
    "## Apply Model"
   ]
  },
  {
   "cell_type": "code",
   "execution_count": 87,
   "id": "51df5129",
   "metadata": {},
   "outputs": [
    {
     "name": "stdout",
     "output_type": "stream",
     "text": [
      "Apply Model for ggH125_ZZ4lep\n"
     ]
    },
    {
     "name": "stderr",
     "output_type": "stream",
     "text": [
      "/usr/local/lib/python3.9/site-packages/sklearn/base.py:443: UserWarning: X has feature names, but StandardScaler was fitted without feature names\n",
      "  warnings.warn(\n"
     ]
    },
    {
     "name": "stdout",
     "output_type": "stream",
     "text": [
      "Apply Model for VBFH125_ZZ4lep\n"
     ]
    },
    {
     "name": "stderr",
     "output_type": "stream",
     "text": [
      "/usr/local/lib/python3.9/site-packages/sklearn/base.py:443: UserWarning: X has feature names, but StandardScaler was fitted without feature names\n",
      "  warnings.warn(\n"
     ]
    },
    {
     "name": "stdout",
     "output_type": "stream",
     "text": [
      "Apply Model for WH125_ZZ4lep\n",
      "Apply Model for ZH125_ZZ4lep\n"
     ]
    },
    {
     "name": "stderr",
     "output_type": "stream",
     "text": [
      "/usr/local/lib/python3.9/site-packages/sklearn/base.py:443: UserWarning: X has feature names, but StandardScaler was fitted without feature names\n",
      "  warnings.warn(\n",
      "/usr/local/lib/python3.9/site-packages/sklearn/base.py:443: UserWarning: X has feature names, but StandardScaler was fitted without feature names\n",
      "  warnings.warn(\n"
     ]
    },
    {
     "name": "stdout",
     "output_type": "stream",
     "text": [
      "Apply Model for llll\n"
     ]
    },
    {
     "name": "stderr",
     "output_type": "stream",
     "text": [
      "/usr/local/lib/python3.9/site-packages/sklearn/base.py:443: UserWarning: X has feature names, but StandardScaler was fitted without feature names\n",
      "  warnings.warn(\n"
     ]
    },
    {
     "name": "stdout",
     "output_type": "stream",
     "text": [
      "Apply Model for Zee\n",
      "Apply Model for Zmumu\n",
      "Apply Model for ttbar_lep\n"
     ]
    },
    {
     "name": "stderr",
     "output_type": "stream",
     "text": [
      "/usr/local/lib/python3.9/site-packages/sklearn/base.py:443: UserWarning: X has feature names, but StandardScaler was fitted without feature names\n",
      "  warnings.warn(\n",
      "/usr/local/lib/python3.9/site-packages/sklearn/base.py:443: UserWarning: X has feature names, but StandardScaler was fitted without feature names\n",
      "  warnings.warn(\n",
      "/usr/local/lib/python3.9/site-packages/sklearn/base.py:443: UserWarning: X has feature names, but StandardScaler was fitted without feature names\n",
      "  warnings.warn(\n"
     ]
    }
   ],
   "source": [
    "for sample in sample_list_signal + sample_list_background:\n",
    "    print(f'Apply Model for {sample}')\n",
    "    # Get the values to apply the model\n",
    "    data_frame_values = data_frames[sample][training_variables]\n",
    "    prediction = model.predict(scaler.transform(data_frame_values))\n",
    "    \n",
    "    # Convert prediction to array\n",
    "    prediction = [element[0] for element in prediction]\n",
    "    \n",
    "    # Add the prediction for each sample\n",
    "    data_frames[sample]['dnn_prediction'] = prediction"
   ]
  },
  {
   "cell_type": "code",
   "execution_count": 88,
   "id": "85645a5c",
   "metadata": {},
   "outputs": [
    {
     "data": {
      "image/png": "[encoded data removed]",
      "text/plain": [
       "<Figure size 504x504 with 1 Axes>"
      ]
     },
     "metadata": {
      "needs_background": "light"
     },
     "output_type": "display_data"
    }
   ],
   "source": [
    "# Investigate DDN Prediction\n",
    "var_lep1_pt = {'variable': 'dnn_prediction',\n",
    "               'binning': np.linspace(0.5, 1, 50),\n",
    "               'xlabel': 'DNN prediction'}\n",
    "\n",
    "common.plot_hist_sum(var_lep1_pt, data_frames)"
   ]
  },
  {
   "cell_type": "code",
   "execution_count": 89,
   "id": "16315792",
   "metadata": {},
   "outputs": [
    {
     "name": "stdout",
     "output_type": "stream",
     "text": [
      "ggH125_ZZ4lep\n",
      "0.9735585409814742\n",
      "VBFH125_ZZ4lep\n",
      "0.9702038850537807\n",
      "WH125_ZZ4lep\n",
      "0.865534179287761\n",
      "ZH125_ZZ4lep\n",
      "0.8085711894199381\n",
      "llll\n",
      "0.11695234532604774\n",
      "Zee\n",
      "0.13580246913580246\n",
      "Zmumu\n",
      "0.19066147859922178\n",
      "ttbar_lep\n",
      "0.2275449101796407\n"
     ]
    }
   ],
   "source": [
    "# Create a copy of the data frame\n",
    "apply_dnn_data_frames = data_frames.copy()\n",
    "\n",
    "# Apply the DNN value\n",
    "for sample in sample_list_signal + sample_list_background:\n",
    "    print(sample)\n",
    "    pass_dnn = apply_dnn_data_frames[sample]['dnn_prediction'] > 0.5\n",
    "    apply_dnn_data_frames[sample] = apply_dnn_data_frames[sample][pass_dnn]\n",
    "    print(len(apply_dnn_data_frames[sample])/len(data_frames[sample]))"
   ]
  },
  {
   "cell_type": "code",
   "execution_count": 90,
   "id": "d56ffaea",
   "metadata": {},
   "outputs": [
    {
     "data": {
      "image/png": "[encoded data removed]",
      "text/plain": [
       "<Figure size 504x504 with 1 Axes>"
      ]
     },
     "metadata": {
      "needs_background": "light"
     },
     "output_type": "display_data"
    }
   ],
   "source": [
    "# leading lepton pt\n",
    "var_m_lllll = {'variable': 'lep_m_llll',\n",
    "               'binning': np.linspace(0, 200, 40),\n",
    "               'xlabel': '$m_{llll}$ [GeV]'}\n",
    "\n",
    "common.plot_hist_sum(var_m_lllll, apply_dnn_data_frames)"
   ]
  },
  {
   "cell_type": "markdown",
   "id": "eaebb200",
   "metadata": {},
   "source": [
    "# Validation"
   ]
  },
  {
   "cell_type": "code",
   "execution_count": null,
   "id": "061bfe73",
   "metadata": {},
   "outputs": [],
   "source": []
  }
 ],
 "metadata": {
  "kernelspec": {
   "display_name": "Python 3 (ipykernel)",
   "language": "python",
   "name": "python3"
  },
  "language_info": {
   "codemirror_mode": {
    "name": "ipython",
    "version": 3
   },
   "file_extension": ".py",
   "mimetype": "text/x-python",
   "name": "python",
   "nbconvert_exporter": "python",
   "pygments_lexer": "ipython3",
   "version": "3.9.14"
  }
 },
 "nbformat": 4,
 "nbformat_minor": 5
}
