{
 "cells": [
  {
   "cell_type": "markdown",
   "id": "2081cce3",
   "metadata": {},
   "source": [
    "# Discover the Higgs with Deep Neural Networks"
   ]
  },
  {
   "cell_type": "markdown",
   "id": "060ec659",
   "metadata": {},
   "source": [
    "The input data was created from 13 TeV ATLAS open data downloaded from http://opendata.atlas.cern/release/2020/documentation/index.html\n",
    "\n",
    "For more information read:<br>\n",
    "Review of the 13 TeV ATLAS Open Data release, Techn. Ber., All figures including auxiliary figures are available at https://atlas.web.cern.ch/Atlas/GROUPS/PHYSICS/PUBNOTES/ATL-OREACH-PUB-2020-001: CERN, 2020, url: http://cds.cern.ch/record/2707171"
   ]
  },
  {
   "cell_type": "markdown",
   "id": "3e312205",
   "metadata": {},
   "source": [
    "## Data Preparation"
   ]
  },
  {
   "cell_type": "markdown",
   "id": "8f5b2349",
   "metadata": {},
   "source": [
    "### Load the Data"
   ]
  },
  {
   "cell_type": "code",
   "execution_count": 1,
   "id": "f9615674",
   "metadata": {},
   "outputs": [],
   "source": [
    "# Necessary imports\n",
    "import numpy as np\n",
    "import matplotlib.pyplot as plt\n",
    "import pandas as pd\n",
    "from numpy.random import seed\n",
    "import common"
   ]
  },
  {
   "cell_type": "markdown",
   "id": "3357ffaf",
   "metadata": {},
   "source": [
    "The goal of this lab course is to train a deep neural network to separate Higgs boson signal from background events. The most important signal sample ggH125_ZZ4lep corresponds to the process gg->H->ZZ. The dominant background sample is llll resulting from Z and ZZ decays.\n",
    "After training the DNN model will be used to classify the events of the data samples.\n",
    "\n",
    "Higgs signal samples:\n",
    "- ggH125_ZZ4lep\n",
    "- VBFH125_ZZ4lep\n",
    "- WH125_ZZ4lep\n",
    "- ZH125_ZZ4lep\n",
    "\n",
    "Background samples:\n",
    "- llll\n",
    "- Zee\n",
    "- Zmumu\n",
    "- ttbar_lep\n",
    "\n",
    "Data samples:\n",
    "- data_A\n",
    "- data_B\n",
    "- data_C\n",
    "- data_D"
   ]
  },
  {
   "cell_type": "code",
   "execution_count": 2,
   "id": "22a2ae28",
   "metadata": {},
   "outputs": [],
   "source": [
    "# Define the input samples\n",
    "sample_list_signal = ['ggH125_ZZ4lep']\n",
    "sample_list_background = ['llll']"
   ]
  },
  {
   "cell_type": "code",
   "execution_count": 3,
   "id": "e1b2ae67",
   "metadata": {},
   "outputs": [],
   "source": [
    "# Read all the samples\n",
    "data_frames = {}\n",
    "for sample in sample_list_signal + sample_list_background:\n",
    "    data_frames[sample] = pd.read_csv('input/' + sample + \".csv\")"
   ]
  },
  {
   "cell_type": "markdown",
   "id": "27a1549c",
   "metadata": {},
   "source": [
    "### Input Variables"
   ]
  },
  {
   "cell_type": "markdown",
   "id": "fe06218b",
   "metadata": {},
   "source": [
    "The input provides several variables to classify the events. Since each event has multiple leptons, they were ordered in descending order based on their transverse momentum. Thus, lepton 1 has the highest transverse momentum, lepton 2 the second highest, and so on. <br>\n",
    "Most of the given variables can be called low-level, because they represent event or object properties, which can be derived directly from the reconstruction in the detector. In contrast to this are high-level variables, which result from the combination of several low-level variables. In the given dataset the only high-level variables are invariant masses of multiple particles:<br>\n",
    "$m_{inv} = \\sqrt{\\left(\\sum\\limits_{i=1}^{n} E_i\\right)^2 - \\left(\\sum\\limits_{i=1}^{n} \\vec{p}_i\\right)^2}$\n",
    "\n",
    "\n",
    "List of all available variables:<br>\n",
    "- Event number\n",
    " - Each simulated event has its own specific number. (not used for training)\n",
    " - Variable name: eventNumber\n",
    "- Event weight\n",
    " - To combine simulated events and finally compare them to data each event has to be scaled by its respective event weight. (not used for training)\n",
    " - Variable name: weight\n",
    "- Number of jets\n",
    " - Jets are particle showers which result primarily from quarks and gluons\n",
    " - Variable name: jet_n\n",
    "- Invariant four lepton mass\n",
    " - The invariant mass $m_{inv}(l_1, l_2, l_3, l_4)$ of the four leptons is extremly sensitive to Higgs boson events. This variable is to be displayed later and thus not used for training\n",
    " - Variable name: lep_m_llll\n",
    "- Invariant two lepton mass\n",
    " - Invariant masses $m_{inv}(l_i, l_j)$ of all combinations of two leptons\n",
    " - Variable names: lep_m_ll_12, lep_m_ll_13, lep_m_ll_14, lep_m_ll_23, lep_m_ll_24, lep_m_ll_34\n",
    "- Transverse momentum of the leptons\n",
    " - The momentum in the plane transverse to the beam axis\n",
    " - Variable names: lep1_pt, lep2_pt, lep3_pt, lep4_pt\n",
    "- Lepton azimuthal angle\n",
    " - The azimuthal angle $\\phi$ is measured in the plane transverse to the beam axis\n",
    " - Variable name: lep1_phi, lep2_phi, lep3_phi, lep4_phi\n",
    "- Lepton pseudo rapidity\n",
    " - The angle $\\theta$ is measured between the lepton track and the beam axis. Since this angle is not invariant against boosts along the beam axis, the pseudo rapidity $\\eta = - \\ln{\\tan{\\frac{\\theta}{2}}}$ is primarily used in the ATLAS analyses\n",
    " - Variable names: lep1_eta, lep2_eta, lep3_eta, lep4_eta\n",
    "- Lepton energy\n",
    " - The energy of the leptons reconstructed from the calorimeter entries\n",
    " - Variable name:lep1_e, lep2_e, lep3_e, lep4_e\n",
    "- Lepton PDG-ID\n",
    " - The lepton type is classified by a n umber given by the Particle-Data-Group. The lepton types are $pdg-id(e)=11$, $pdg-id(\\mu)=13$ and $pdg-id(\\tau)=15$\n",
    " - Variable name: lep1_pdgId, lep2_pdgId, lep3_pdgId, lep4_pdgId\n",
    "- Lepton charge\n",
    " - The charge of the given lepton reconstructed by the lepton track\n",
    " - Variable name: lep1_charge, lep2_charge, lep3_charge, lep4_charge"
   ]
  },
  {
   "cell_type": "markdown",
   "id": "9a7d2bda",
   "metadata": {},
   "source": [
    "### Event Pre-Selection"
   ]
  },
  {
   "cell_type": "markdown",
   "id": "facd6d51",
   "metadata": {},
   "source": [
    "Although the final selection of the data is to be performed on the basis of a DNN, a rough pre-selection of the data is still useful.\n",
    "For this purpose, selection criteria are defined, which return either true or false based on the event kinematics and thus decide whether the respective event is kept or discarded.\n",
    "Suitable criteria for this analysis are very basic selections that must be clearly fulfilled by H->ZZ->llll processes.\n",
    "\n",
    "\n",
    "Hint: What lepton types and charges are expected in the final state?"
   ]
  },
  {
   "cell_type": "code",
   "execution_count": 4,
   "id": "ffa57853",
   "metadata": {},
   "outputs": [],
   "source": [
    "def cut_lep_type(lep_type_0, lep_type_1, lep_type_2, lep_type_3):\n",
    "    # Only keep events like eeee, mumumumu or eemumu\n",
    "    sum_lep_type = lep_type_0 + lep_type_1 + lep_type_2 + lep_type_3\n",
    "    return sum_lep_type == 44 or sum_lep_type == 48 or sum_lep_type == 52\n",
    "\n",
    "\n",
    "def cut_lep_charge(lep_charge_0, lep_charge_1, lep_charge_2, lep_charge_3):\n",
    "    # Only keep events where the sum of all lepton charges is zero\n",
    "    sum_lep_charge = lep_charge_0 + lep_charge_1 + lep_charge_2 + lep_charge_3\n",
    "    return sum_lep_charge == 0"
   ]
  },
  {
   "cell_type": "code",
   "execution_count": 5,
   "id": "13fc29db",
   "metadata": {},
   "outputs": [],
   "source": [
    "# Apply the chosen selection criteria\n",
    "for sample in sample_list_signal + sample_list_background:\n",
    "    # Cut on lepton type\n",
    "    data_frames[sample] = data_frames[sample][np.vectorize(cut_lep_type)(\n",
    "        data_frames[sample].lep1_pdgId,\n",
    "        data_frames[sample].lep2_pdgId,\n",
    "        data_frames[sample].lep3_pdgId,\n",
    "        data_frames[sample].lep4_pdgId)]\n",
    "\n",
    "    # Cut on lepton charge\n",
    "    data_frames[sample] = data_frames[sample][np.vectorize(cut_lep_charge)(\n",
    "        data_frames[sample].lep1_charge,\n",
    "        data_frames[sample].lep2_charge,\n",
    "        data_frames[sample].lep3_charge,\n",
    "        data_frames[sample].lep4_charge)]"
   ]
  },
  {
   "cell_type": "markdown",
   "id": "94202a44",
   "metadata": {},
   "source": [
    "### Data Investigation"
   ]
  },
  {
   "cell_type": "markdown",
   "id": "7e11cc8e",
   "metadata": {},
   "source": [
    "Before one can decide which variables are suitable for training, one must first get a feel for the input variables.\n",
    "For this purpose, the input samples are merged into a set of signal events and a set of background events. Afterwards, the behavior of signal and background can be studied in multiple variables."
   ]
  },
  {
   "cell_type": "code",
   "execution_count": 6,
   "id": "591b7e64",
   "metadata": {},
   "outputs": [],
   "source": [
    "# Merge the signal and background data frames\n",
    "def merge_data_frames(sample_list, data_frames_dic):\n",
    "    for sample in sample_list:\n",
    "        if sample == sample_list[0]:\n",
    "            output_data_frame = data_frames_dic[sample]\n",
    "        else:\n",
    "            output_data_frame = pd.contact(output_data_frame, data_frames_dic[sample])\n",
    "    return output_data_frame\n",
    "\n",
    "data_frame_signal = merge_data_frames(sample_list_signal, data_frames)\n",
    "data_frame_background = merge_data_frames(sample_list_background, data_frames)"
   ]
  },
  {
   "cell_type": "markdown",
   "id": "2906682a",
   "metadata": {},
   "source": [
    "The function common.plot_hist(variable, data_frame_1, data_frame_2) plots the given variable of the two data sets.\n",
    "The variable must be a dictionary containing atleast the variable to plot. Additionally one can also specify the binning (list or numpy array) and the xlabel. The created histogram is automatically saved in the plots directory<br>\n",
    "An example for the transverse momnetum of the leading lepton is given below:"
   ]
  },
  {
   "cell_type": "code",
   "execution_count": 7,
   "id": "8ae8494b",
   "metadata": {},
   "outputs": [
    {
     "data": {
      "image/png": "[encoded data removed]",
      "text/plain": [
       "<Figure size 504x504 with 2 Axes>"
      ]
     },
     "metadata": {
      "needs_background": "light"
     },
     "output_type": "display_data"
    }
   ],
   "source": [
    "# allow bins: None!!!!\n",
    "\n",
    "var_lep1_pt = {'variable': 'lep1_pt',\n",
    "               'binning': np.linspace(0, 200, 100),\n",
    "               'xlabel': '$lep_{pt}$[1] [GeV]'}\n",
    "\n",
    "common.plot_hist(var_lep1_pt, data_frame_signal, data_frame_background)"
   ]
  },
  {
   "cell_type": "code",
   "execution_count": 8,
   "id": "cff489c4",
   "metadata": {},
   "outputs": [],
   "source": [
    "# plotting of all distributions summed!!!!"
   ]
  },
  {
   "cell_type": "code",
   "execution_count": 9,
   "id": "b7415e53",
   "metadata": {
    "scrolled": false
   },
   "outputs": [
    {
     "name": "stdout",
     "output_type": "stream",
     "text": [
      "ggH125_ZZ4lep 24.769128960170892 161451\n",
      "llll 0.3029653353227194 523957\n"
     ]
    }
   ],
   "source": [
    "# This is not correct!!!!!\n",
    "for sample in sample_list_signal + sample_list_background:\n",
    "    print(sample, np.mean(data_frames[sample].weight), len(data_frames[sample].weight))"
   ]
  },
  {
   "cell_type": "markdown",
   "id": "a74ea3bc",
   "metadata": {},
   "source": [
    "## Training"
   ]
  },
  {
   "cell_type": "markdown",
   "id": "254918e6",
   "metadata": {},
   "source": [
    "In this chapter, the DNN is trained. Define the input variables for the classification. Feel free to test different combinations of low-level and high-level variables. Additionally, you can modify the structure of the DNN to gain optimal training results. When the setup is done, train the DNN, test it and redo this until you are happy with the result."
   ]
  },
  {
   "cell_type": "code",
   "execution_count": 34,
   "id": "ac0e9914",
   "metadata": {},
   "outputs": [],
   "source": [
    "# The training input variables\n",
    "input_variable_list = ['lep1_pt', 'lep2_pt', 'lep3_pt', 'lep4_pt']\n",
    "input_variable_list += ['lep1_charge', 'lep2_charge', 'lep3_charge', 'lep4_charge']\n",
    "input_variable_list += ['lep1_pdgId', 'lep2_pdgId', 'lep3_pdgId', 'lep4_pdgId']\n",
    "input_variable_list += ['lep1_phi', 'lep2_phi', 'lep3_phi', 'lep4_phi']\n",
    "input_variable_list += ['lep1_eta', 'lep2_eta', 'lep3_eta', 'lep4_eta']\n",
    "#input_variable_list = ['lep_m_ll_12', 'lep_m_ll_13', 'lep_m_ll_14', 'lep_m_ll_23', 'lep_m_ll_24', 'lep_m_ll_34']"
   ]
  },
  {
   "cell_type": "code",
   "execution_count": 35,
   "id": "5a528eaf",
   "metadata": {},
   "outputs": [],
   "source": [
    "# Create the training input\n",
    "input_values = []\n",
    "input_classification = []\n",
    "for sample in sample_list_signal + sample_list_background:\n",
    "    # Classify signal and background (and skip if data)\n",
    "    if sample in sample_list_signal:\n",
    "        # 1 if signal\n",
    "        input_classification.append(np.ones(len(data_frames[sample])))\n",
    "    elif sample in sample_list_background:\n",
    "        # 0 if background\n",
    "        input_classification.append(np.zeros(len(data_frames[sample])))\n",
    "    else:\n",
    "        continue\n",
    "    input_values.append(data_frames[sample][input_variable_list])\n",
    "\n",
    "# Merge the input\n",
    "input_values = np.concatenate(input_values)\n",
    "input_classification = np.concatenate(input_classification)"
   ]
  },
  {
   "cell_type": "markdown",
   "id": "6466faa7",
   "metadata": {},
   "source": [
    "The data set is split in a training, test and validation set. To have enough data to train use a splitting of 80%:10%:10%"
   ]
  },
  {
   "cell_type": "code",
   "execution_count": 36,
   "id": "549adf92",
   "metadata": {},
   "outputs": [],
   "source": [
    "# The random seed makes the output predictable\n",
    "np.random.seed(seed=420)\n",
    "\n",
    "def split_indices(df, train_frac, test_frac, val_frac):\n",
    "    # Split create a set of random indices for training, testing and validating\n",
    "    random_values = np.random.rand(len(df))\n",
    "    range1 = random_values <= train_frac\n",
    "    range2 = random_values <= train_frac + test_frac\n",
    "    range3 = random_values <= train_frac + test_frac + val_frac\n",
    "    train_index = range1\n",
    "    test_index = ~range1 & range2\n",
    "    val_index = ~range2 & range3\n",
    "    return train_index, test_index, val_index\n",
    "\n",
    "train_index, test_index, val_index = split_indices(input_values, 0.8, 0.1, 0.1)"
   ]
  },
  {
   "cell_type": "code",
   "execution_count": 37,
   "id": "1e4c6ddb",
   "metadata": {},
   "outputs": [],
   "source": [
    "train_input_values = input_values[train_index]\n",
    "train_input_classification = input_classification[train_index]\n",
    "test_input_values = input_values[test_index]\n",
    "test_input_classification = input_classification[test_index]\n",
    "val_input_values = input_values[val_index]\n",
    "val_input_classification = input_classification[val_index]"
   ]
  },
  {
   "cell_type": "code",
   "execution_count": 38,
   "id": "38a5368a",
   "metadata": {},
   "outputs": [],
   "source": [
    "# Import the tensorflow module to create a DNN\n",
    "\n",
    "import tensorflow as tf"
   ]
  },
  {
   "cell_type": "markdown",
   "id": "467e845a",
   "metadata": {},
   "source": [
    "Create you DNN consisting of several layers. \n",
    "\n",
    "A full list of layer types can be found here https://www.tensorflow.org/api_docs/python/tf/keras/layers <br>\n",
    "Some important examples for layers are:\n",
    "- Dense: a densely connected NN layer\n",
    "- Flatten: flattens the input\n",
    "- Dropout: randomly sets input to 0. Can decrease overtraining\n",
    "\n",
    "The neurons of each layer are activated by the so called activation function. <br>\n",
    "A full list of provided activation functions can be found here https://www.tensorflow.org/api_docs/python/tf/keras/activations <br>\n",
    "Some examples are:\n",
    "- linear: $linear(x) = x$\n",
    "- relu: linear for $x>0$ ($relu(x) = max(0, x)$)\n",
    "- exponential: $exponential(x) = e^x$\n",
    "- sigmoid: $sigmoid(x) = 1 / (1 + e^{-x})$\n",
    "\n",
    "To classify background and signal the last layer should only consist of one neuron which has an activation between 0 and 1"
   ]
  },
  {
   "cell_type": "code",
   "execution_count": 39,
   "id": "241de309",
   "metadata": {
    "scrolled": true
   },
   "outputs": [],
   "source": [
    "model = tf.keras.models.Sequential([\n",
    "  tf.keras.layers.Dense(40, activation='relu'),\n",
    "  tf.keras.layers.Dense(30, activation='relu'),\n",
    "  tf.keras.layers.Dense(10, activation='relu'),\n",
    "  tf.keras.layers.Dense(1, activation='sigmoid')\n",
    "])"
   ]
  },
  {
   "cell_type": "markdown",
   "id": "08bb5240",
   "metadata": {},
   "source": [
    "While training, the parameters of the neural network are modified to increase the agreement between the classification of the training data by the neural network and the actual splitting in signal and background. \n",
    "The agreement is specified by a loss-function, which decreses with increasing agreement. Analogous to a Chi2 fit, the fit to the training data is done by determining the minimum of the loss-function. The choice of the specific loss-function has to be adapted to the problem the neural network has to solve. <br>\n",
    "\n",
    "The list of available loss-functions are listed here https://www.tensorflow.org/api_docs/python/tf/keras/losses\n",
    "For the binary (0 or 1) classification problem of the signal background separation the BinaryCrossentropy is used. <br>\n",
    "<b> Give more information!!! </b>"
   ]
  },
  {
   "cell_type": "code",
   "execution_count": 40,
   "id": "4fe2b485",
   "metadata": {},
   "outputs": [],
   "source": [
    "loss_fn = tf.keras.losses.BinaryCrossentropy(from_logits=True)"
   ]
  },
  {
   "cell_type": "markdown",
   "id": "8535bcb1",
   "metadata": {},
   "source": [
    "For the optimization of the loss-function different optimization algorithms can be used (see https://www.tensorflow.org/api_docs/python/tf/keras/optimizers). <br>\n",
    "The performance of the learning process is given by the metric (see https://www.tensorflow.org/api_docs/python/tf/keras/metrics)"
   ]
  },
  {
   "cell_type": "code",
   "execution_count": 41,
   "id": "ef560b30",
   "metadata": {},
   "outputs": [],
   "source": [
    "model.compile(optimizer='adam',\n",
    "              loss=loss_fn,\n",
    "              metrics=['binary_accuracy'])"
   ]
  },
  {
   "cell_type": "code",
   "execution_count": 42,
   "id": "a7bcb36a",
   "metadata": {},
   "outputs": [
    {
     "name": "stdout",
     "output_type": "stream",
     "text": [
      "Epoch 1/4\n",
      "17153/17153 [==============================] - 22s 1ms/step - loss: 0.3575 - binary_accuracy: 0.8275\n",
      "Epoch 2/4\n",
      "17153/17153 [==============================] - 19s 1ms/step - loss: 0.3011 - binary_accuracy: 0.8612\n",
      "Epoch 3/4\n",
      "17153/17153 [==============================] - 21s 1ms/step - loss: 0.2451 - binary_accuracy: 0.8902\n",
      "Epoch 4/4\n",
      "17153/17153 [==============================] - 21s 1ms/step - loss: 0.2256 - binary_accuracy: 0.8998\n"
     ]
    },
    {
     "data": {
      "text/plain": [
       "<keras.callbacks.History at 0x1507a1be0>"
      ]
     },
     "execution_count": 42,
     "metadata": {},
     "output_type": "execute_result"
    }
   ],
   "source": [
    "model.fit(train_input_values, train_input_classification, epochs=4)"
   ]
  },
  {
   "cell_type": "code",
   "execution_count": 43,
   "id": "2be8af87",
   "metadata": {},
   "outputs": [
    {
     "name": "stdout",
     "output_type": "stream",
     "text": [
      "2129/2129 - 2s - loss: 0.2130 - binary_accuracy: 0.9062 - 2s/epoch - 859us/step\n"
     ]
    },
    {
     "data": {
      "text/plain": [
       "[0.2130388617515564, 0.9062385559082031]"
      ]
     },
     "execution_count": 43,
     "metadata": {},
     "output_type": "execute_result"
    }
   ],
   "source": [
    "model.evaluate(test_input_values,  test_input_classification, verbose=2)"
   ]
  },
  {
   "cell_type": "code",
   "execution_count": 44,
   "id": "9f0545f1",
   "metadata": {},
   "outputs": [],
   "source": [
    "test_prediction = model.predict(test_input_values)"
   ]
  },
  {
   "cell_type": "code",
   "execution_count": 57,
   "id": "d0a5d0e1",
   "metadata": {},
   "outputs": [
    {
     "name": "stdout",
     "output_type": "stream",
     "text": [
      "[====================>] 100 percentage complete\r"
     ]
    }
   ],
   "source": [
    "def print_progressbar(value, maximum):\n",
    "    \"\"\"This function prints a progress bar\"\"\"\n",
    "    steps = 20\n",
    "    fraction = value/maximum\n",
    "    progressbar = '['\n",
    "    progressbar += round(fraction*steps)*'='\n",
    "    progressbar += '>'\n",
    "    progressbar += round((1 - fraction)*steps)*' '\n",
    "    progressbar += ']'\n",
    "    progressbar += f' {round(fraction*100)} percentage complete'\n",
    "    print(progressbar, end='\\r')\n",
    "\n",
    "\n",
    "def roc_curve(prediction, truth_classification):\n",
    "    # convert prediction if it is a list of lists\n",
    "    if not any(isinstance(element, float) for element in prediction):\n",
    "        prediction = [element[0] for element in prediction]\n",
    "    \n",
    "    # create tuples\n",
    "    prediction_vs_truth = list(zip(prediction, truth_classification))\n",
    "    \n",
    "    x_range = np.linspace(0, 1, 100)\n",
    "    true_positive = []\n",
    "    false_positive = []\n",
    "    signal_number = sum(truth_classification)\n",
    "    background_number = len(truth_classification) - signal_number\n",
    "    for x in x_range:\n",
    "        print_progressbar(x, 1)\n",
    "        true_positive.append(sum([element[0] > x and element[1] == 1 for element in prediction_vs_truth])/signal_number)\n",
    "        false_positive.append(sum([element[0] > x and element[1] == 0 for element in prediction_vs_truth])/background_number)\n",
    "\n",
    "    return true_positive, false_positive\n",
    "\n",
    "true_positive_rate, false_positive_rate = roc_curve(test_prediction, test_input_classification)"
   ]
  },
  {
   "cell_type": "code",
   "execution_count": 54,
   "id": "129b1cb8",
   "metadata": {},
   "outputs": [
    {
     "data": {
      "text/plain": [
       "[<matplotlib.lines.Line2D at 0x1534d95b0>]"
      ]
     },
     "execution_count": 54,
     "metadata": {},
     "output_type": "execute_result"
    },
    {
     "data": {
      "image/png": "[encoded data removed]",
      "text/plain": [
       "<Figure size 432x288 with 1 Axes>"
      ]
     },
     "metadata": {
      "needs_background": "light"
     },
     "output_type": "display_data"
    }
   ],
   "source": [
    "plt.plot(false_positive_rate, true_positive_rate)"
   ]
  },
  {
   "cell_type": "code",
   "execution_count": null,
   "id": "8f019c3a",
   "metadata": {},
   "outputs": [],
   "source": []
  }
 ],
 "metadata": {
  "kernelspec": {
   "display_name": "Python 3 (ipykernel)",
   "language": "python",
   "name": "python3"
  },
  "language_info": {
   "codemirror_mode": {
    "name": "ipython",
    "version": 3
   },
   "file_extension": ".py",
   "mimetype": "text/x-python",
   "name": "python",
   "nbconvert_exporter": "python",
   "pygments_lexer": "ipython3",
   "version": "3.9.7"
  }
 },
 "nbformat": 4,
 "nbformat_minor": 5
}
