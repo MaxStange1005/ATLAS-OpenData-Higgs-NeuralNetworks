{
 "cells": [
  {
   "cell_type": "markdown",
   "id": "51312792",
   "metadata": {},
   "source": [
    "# Test the Setup"
   ]
  },
  {
   "cell_type": "markdown",
   "id": "4eabd833",
   "metadata": {},
   "source": [
    "In this short jupyter notebook we will test all imports. So execute the next cell and check if all modules are available"
   ]
  },
  {
   "cell_type": "code",
   "execution_count": null,
   "id": "0006ba2d",
   "metadata": {},
   "outputs": [],
   "source": [
    "import numpy as np\n",
    "import matplotlib.pyplot as plt\n",
    "import pandas as pd\n",
    "from numpy.random import seed\n",
    "from scipy import stats\n",
    "import os\n",
    "import tensorflow as tf\n",
    "from tensorflow.data import Dataset\n",
    "from sklearn.model_selection import train_test_split\n",
    "from sklearn.model_selection import KFold"
   ]
  }
 ],
 "metadata": {
  "kernelspec": {
   "display_name": "Python 3 (ipykernel)",
   "language": "python",
   "name": "python3"
  },
  "language_info": {
   "codemirror_mode": {
    "name": "ipython",
    "version": 3
   },
   "file_extension": ".py",
   "mimetype": "text/x-python",
   "name": "python",
   "nbconvert_exporter": "python",
   "pygments_lexer": "ipython3",
   "version": "3.10.11"
  }
 },
 "nbformat": 4,
 "nbformat_minor": 5
}
