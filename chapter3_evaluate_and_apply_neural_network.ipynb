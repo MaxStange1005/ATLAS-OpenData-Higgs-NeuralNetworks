{
 "cells": [
  {
   "cell_type": "markdown",
   "id": "2081cce3",
   "metadata": {
    "id": "2081cce3"
   },
   "source": [
    "# Discover the Higgs with Deep Neural Networks\n",
    "# Chapter 3: Evaluate and Apply a Neural Network"
   ]
  },
  {
   "cell_type": "markdown",
   "id": "b5fd8810",
   "metadata": {},
   "source": [
    "In this chapter you will evaluate and apply your first neural network."
   ]
  },
  {
   "cell_type": "code",
   "execution_count": null,
   "id": "f9615674",
   "metadata": {
    "colab": {
     "base_uri": "https://localhost:8080/"
    },
    "id": "f9615674",
    "outputId": "83e88f84-c0ec-4e77-e620-6bf415c816d1"
   },
   "outputs": [],
   "source": [
    "# Necessary imports\n",
    "import numpy as np\n",
    "import matplotlib.pyplot as plt\n",
    "import pandas as pd\n",
    "from numpy.random import seed\n",
    "import os\n",
    "\n",
    "# Import the tensorflow module to create a neural network\n",
    "import tensorflow as tf\n",
    "from tensorflow.data import Dataset\n",
    "\n",
    "# Import some common functions created for this notebook\n",
    "import common\n",
    "\n",
    "# Random state\n",
    "random_state = 42\n",
    "_ = np.random.RandomState(random_state)"
   ]
  },
  {
   "cell_type": "markdown",
   "id": "d09ff585",
   "metadata": {},
   "source": [
    "## Data Preparation"
   ]
  },
  {
   "cell_type": "markdown",
   "id": "a3e93ecb",
   "metadata": {},
   "source": [
    "### Load the Data"
   ]
  },
  {
   "cell_type": "code",
   "execution_count": null,
   "id": "22a2ae28",
   "metadata": {
    "id": "22a2ae28"
   },
   "outputs": [],
   "source": [
    "# Define the input samples\n",
    "sample_list_signal = ['ggH125_ZZ4lep', 'VBFH125_ZZ4lep', 'WH125_ZZ4lep', 'ZH125_ZZ4lep']\n",
    "sample_list_background = ['llll', 'Zee', 'Zmumu', 'ttbar_lep']"
   ]
  },
  {
   "cell_type": "code",
   "execution_count": null,
   "id": "e1b2ae67",
   "metadata": {
    "id": "e1b2ae67"
   },
   "outputs": [],
   "source": [
    "sample_path = 'input'\n",
    "# Read all the samples\n",
    "no_selection_data_frames = {}\n",
    "for sample in sample_list_signal + sample_list_background:\n",
    "    no_selection_data_frames[sample] = pd.read_csv(os.path.join(sample_path, sample + '.csv'))"
   ]
  },
  {
   "cell_type": "markdown",
   "id": "9a7d2bda",
   "metadata": {
    "id": "9a7d2bda"
   },
   "source": [
    "### Event Pre-Selection"
   ]
  },
  {
   "cell_type": "markdown",
   "id": "ef08fd17",
   "metadata": {},
   "source": [
    "Import the pre-selection functions saved during the first chapter. If the modules are not found solve and execute the notebook of the first chapter."
   ]
  },
  {
   "cell_type": "code",
   "execution_count": null,
   "id": "9d6824ae",
   "metadata": {},
   "outputs": [],
   "source": [
    "from functions.selection_lepton_charge import selection_lepton_charge\n",
    "from functions.selection_lepton_type import selection_lepton_type"
   ]
  },
  {
   "cell_type": "code",
   "execution_count": null,
   "id": "13fc29db",
   "metadata": {
    "id": "13fc29db"
   },
   "outputs": [],
   "source": [
    "# Create a copy of the original data frame to investigate later\n",
    "data_frames = no_selection_data_frames.copy()\n",
    "\n",
    "# Apply the chosen selection criteria\n",
    "for sample in sample_list_signal + sample_list_background:\n",
    "    # Selection on lepton type\n",
    "    type_selection = np.vectorize(selection_lepton_type)(\n",
    "        data_frames[sample].lep1_pdgId,\n",
    "        data_frames[sample].lep2_pdgId,\n",
    "        data_frames[sample].lep3_pdgId,\n",
    "        data_frames[sample].lep4_pdgId)\n",
    "    data_frames[sample] = data_frames[sample][type_selection]\n",
    "\n",
    "    # Selection on lepton charge\n",
    "    charge_selection = np.vectorize(selection_lepton_charge)(\n",
    "        data_frames[sample].lep1_charge,\n",
    "        data_frames[sample].lep2_charge,\n",
    "        data_frames[sample].lep3_charge,\n",
    "        data_frames[sample].lep4_charge)\n",
    "    data_frames[sample] = data_frames[sample][charge_selection]"
   ]
  },
  {
   "cell_type": "markdown",
   "id": "deb2fd69",
   "metadata": {},
   "source": [
    "### Get Test and Training Data"
   ]
  },
  {
   "cell_type": "markdown",
   "id": "f65b58c1",
   "metadata": {},
   "source": [
    "To avoid a bias we are going to keep 40% of our data for the final application. This test data should not be used to train or evaluate your model."
   ]
  },
  {
   "cell_type": "code",
   "execution_count": null,
   "id": "41349ca1",
   "metadata": {},
   "outputs": [],
   "source": [
    "# Split data to keep 40% for testing\n",
    "train_data_frames, test_data_frames = common.split_data_frames(data_frames, 0.6)"
   ]
  },
  {
   "cell_type": "markdown",
   "id": "6UOuLmyqGkVq",
   "metadata": {
    "id": "6UOuLmyqGkVq"
   },
   "source": [
    "## Load Neural Network"
   ]
  },
  {
   "cell_type": "markdown",
   "id": "4a0d9156",
   "metadata": {},
   "source": [
    "Now lets load the model trained in the chapter 2"
   ]
  },
  {
   "cell_type": "code",
   "execution_count": null,
   "id": "1b6db84a",
   "metadata": {},
   "outputs": [],
   "source": [
    "model = tf.keras.models.load_model('models/chapter2_model')"
   ]
  },
  {
   "cell_type": "markdown",
   "id": "11b3d324",
   "metadata": {},
   "source": [
    "As you can see in the summary the architecture of the model is exactly the same as saved in the chapter before."
   ]
  },
  {
   "cell_type": "code",
   "execution_count": null,
   "id": "CJkzGU4giA6_",
   "metadata": {
    "colab": {
     "base_uri": "https://localhost:8080/"
    },
    "id": "CJkzGU4giA6_",
    "outputId": "37497ac1-9ecf-49d0-cd5a-cce305d8d1e2"
   },
   "outputs": [],
   "source": [
    "# Display the model's architecture\n",
    "model.summary()"
   ]
  },
  {
   "cell_type": "markdown",
   "id": "36bc4a0a",
   "metadata": {},
   "source": [
    "## Application on Train Data"
   ]
  },
  {
   "cell_type": "markdown",
   "id": "93c5b329",
   "metadata": {},
   "source": [
    "The model is trained, so the time has come to use it. First we extract the training data."
   ]
  },
  {
   "cell_type": "code",
   "execution_count": null,
   "id": "b0d98f8d",
   "metadata": {},
   "outputs": [],
   "source": [
    "# The training input variables\n",
    "training_variables = ['lep1_pt', 'lep2_pt', 'lep3_pt', 'lep4_pt']"
   ]
  },
  {
   "cell_type": "code",
   "execution_count": null,
   "id": "2c116bed",
   "metadata": {},
   "outputs": [],
   "source": [
    "# Extract the values and classification\n",
    "values, _, classification = common.get_dnn_input(train_data_frames, training_variables, sample_list_signal, sample_list_background)"
   ]
  },
  {
   "cell_type": "markdown",
   "id": "a4d5431f",
   "metadata": {},
   "source": [
    "Let's compare the true classification of some random events and the prediction the model gives for these events."
   ]
  },
  {
   "cell_type": "code",
   "execution_count": null,
   "id": "B84a0pgfWGOK",
   "metadata": {
    "colab": {
     "base_uri": "https://localhost:8080/"
    },
    "id": "B84a0pgfWGOK",
    "outputId": "ec06e7f9-7a0f-46b4-fd16-906f629de59e"
   },
   "outputs": [],
   "source": [
    "# Choose some random events\n",
    "random_idx = [1841, 11852, 15297, 263217, 278357, 331697]\n",
    "print('Classification:')\n",
    "print(classification[random_idx])\n",
    "print('Prediction')\n",
    "print(model.predict(values[random_idx]))"
   ]
  },
  {
   "cell_type": "markdown",
   "id": "0c00d5b9",
   "metadata": {},
   "source": [
    "<font color='blue'>\n",
    "Task:\n",
    "\n",
    "Get the prediction for all events and use <code>common.plot_dnn_output(...)</code> to plot the result.\n",
    "</font>"
   ]
  },
  {
   "cell_type": "code",
   "execution_count": null,
   "id": "EMhKpy_gIOXL",
   "metadata": {
    "colab": {
     "base_uri": "https://localhost:8080/"
    },
    "id": "EMhKpy_gIOXL",
    "outputId": "7313ce3c-6351-4002-f82a-7ee1cb4b4d6b"
   },
   "outputs": [],
   "source": [
    "# Apply the model for all values\n",
    "prediction = model.predict(values)"
   ]
  },
  {
   "cell_type": "code",
   "execution_count": null,
   "id": "MTd_tOKCIPJy",
   "metadata": {
    "colab": {
     "base_uri": "https://localhost:8080/",
     "height": 522
    },
    "id": "MTd_tOKCIPJy",
    "outputId": "1be5e574-d0d5-47f4-a218-90759a356dc9",
    "scrolled": true
   },
   "outputs": [],
   "source": [
    "# Plot the model output\n",
    "common.plot_dnn_output(prediction, classification)\n",
    "_ = plt.show()"
   ]
  },
  {
   "cell_type": "markdown",
   "id": "5f8307fd",
   "metadata": {},
   "source": [
    "## Application on Test Data"
   ]
  },
  {
   "cell_type": "markdown",
   "id": "697eb973",
   "metadata": {},
   "source": [
    "Use `common.apply_dnn_model(...)` to apply the model for all samples in `test_data_frames` and add the classification to the data frame. Afterwards the prediction can be plotted just as the other kinematic variables."
   ]
  },
  {
   "cell_type": "code",
   "execution_count": null,
   "id": "lD6O2_YOB0Vv",
   "metadata": {
    "colab": {
     "base_uri": "https://localhost:8080/"
    },
    "id": "lD6O2_YOB0Vv",
    "outputId": "08b6d534-3139-4a19-9210-1a0559d31bfb",
    "scrolled": true
   },
   "outputs": [],
   "source": [
    "# Apply the model\n",
    "data_frames_apply_dnn = common.apply_dnn_model(model, test_data_frames, training_variables, sample_list_signal + sample_list_background)"
   ]
  },
  {
   "cell_type": "markdown",
   "id": "cbde0454",
   "metadata": {},
   "source": [
    "After we have add the classification to the data frames we can plot the classification like any other observable."
   ]
  },
  {
   "cell_type": "code",
   "execution_count": null,
   "id": "eDpIAGxTBpUe",
   "metadata": {
    "colab": {
     "base_uri": "https://localhost:8080/",
     "height": 641
    },
    "id": "eDpIAGxTBpUe",
    "outputId": "250fa7f0-3b1d-422f-dbc6-61857c5f5556"
   },
   "outputs": [],
   "source": [
    "model_prediction = {'variable': 'model_prediction',\n",
    "                    'binning': np.linspace(0, 1, 50),\n",
    "                    'xlabel': 'prediction'}\n",
    "common.plot_hist(model_prediction, data_frames_apply_dnn, show_data=False)\n",
    "plt.show()"
   ]
  },
  {
   "cell_type": "markdown",
   "id": "ffdbac6b",
   "metadata": {},
   "source": [
    "This is the final classification the neural network would give on unseen data. As you can see we are far from perfect. In the next chapters we will try to improve this classification"
   ]
  }
 ],
 "metadata": {
  "accelerator": "GPU",
  "colab": {
   "provenance": []
  },
  "gpuClass": "standard",
  "kernelspec": {
   "display_name": "Python 3 (ipykernel)",
   "language": "python",
   "name": "python3"
  },
  "language_info": {
   "codemirror_mode": {
    "name": "ipython",
    "version": 3
   },
   "file_extension": ".py",
   "mimetype": "text/x-python",
   "name": "python",
   "nbconvert_exporter": "python",
   "pygments_lexer": "ipython3",
   "version": "3.10.11"
  }
 },
 "nbformat": 4,
 "nbformat_minor": 5
}
